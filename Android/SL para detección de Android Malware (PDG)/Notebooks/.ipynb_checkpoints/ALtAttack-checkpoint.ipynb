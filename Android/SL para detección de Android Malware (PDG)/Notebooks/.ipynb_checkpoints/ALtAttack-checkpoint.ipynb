{
 "cells": [
  {
   "cell_type": "code",
   "execution_count": 1,
   "metadata": {},
   "outputs": [],
   "source": [
    "import numpy as np\n",
    "import pandas as pd\n",
    "import scipy\n",
    "from gym import error, spaces, utils\n",
    "from collections import OrderedDict\n",
    "from sklearn.externals import joblib as jb\n",
    "from random  import randint\n",
    "import time"
   ]
  },
  {
   "cell_type": "markdown",
   "metadata": {},
   "source": [
    "## Let's set up everything"
   ]
  },
  {
   "cell_type": "code",
   "execution_count": 2,
   "metadata": {},
   "outputs": [],
   "source": [
    "important_features=['source_app_bytes','remote_app_bytes','tcp_packets','remote_app_packets','vulume_bytes','source_app_packets']\n",
    "n_states=len(important_features)\n",
    "n_actions=scipy.math.factorial(n_states)\n",
    "e = 0.9 # greedy factor\n",
    "a= 0.1  # learning rate\n",
    "g= 0.9 # discount factor\n",
    "max_episodes = 13 # maximum episodes\n",
    "fresh_time= 0.3 # fresh time for one move\n",
    "adversarial_data=pd.read_csv(\"../Datasets/Colcom2018Cleaned.csv\",header=0,sep=';')"
   ]
  },
  {
   "cell_type": "code",
   "execution_count": 3,
   "metadata": {},
   "outputs": [],
   "source": [
    "adversarial_data.drop(adversarial_data.index,inplace=True)"
   ]
  },
  {
   "cell_type": "code",
   "execution_count": 4,
   "metadata": {},
   "outputs": [
    {
     "data": {
      "text/plain": [
       "<bound method DataFrame.info of Empty DataFrame\n",
       "Columns: [name, tcp_packets, dist_port_tcp, external_ips, vulume_bytes, udp_packets, source_app_packets, remote_app_packets, source_app_bytes, remote_app_bytes, dns_query_times, type]\n",
       "Index: []>"
      ]
     },
     "execution_count": 4,
     "metadata": {},
     "output_type": "execute_result"
    }
   ],
   "source": [
    "adversarial_data.info"
   ]
  },
  {
   "cell_type": "code",
   "execution_count": 5,
   "metadata": {},
   "outputs": [
    {
     "name": "stdout",
     "output_type": "stream",
     "text": [
      "<class 'pandas.core.frame.DataFrame'>\n",
      "RangeIndex: 1 entries, 0 to 0\n",
      "Data columns (total 12 columns):\n",
      "name                  1 non-null float64\n",
      "tcp_packets           1 non-null float64\n",
      "dist_port_tcp         1 non-null float64\n",
      "external_ips          1 non-null float64\n",
      "vulume_bytes          1 non-null float64\n",
      "udp_packets           1 non-null float64\n",
      "source_app_packets    1 non-null float64\n",
      "remote_app_packets    1 non-null float64\n",
      "source_app_bytes      1 non-null float64\n",
      "remote_app_bytes      1 non-null float64\n",
      "dns_query_times       1 non-null float64\n",
      "type                  1 non-null float64\n",
      "dtypes: float64(12)\n",
      "memory usage: 176.0 bytes\n"
     ]
    }
   ],
   "source": [
    "adversarial_data = pd.DataFrame(np.zeros((1,len(list(adversarial_data.columns.values)))),columns=list(adversarial_data.columns.values)).append(adversarial_data, ignore_index=True).copy()\n",
    "adversarial_data.info()"
   ]
  },
  {
   "cell_type": "code",
   "execution_count": 6,
   "metadata": {},
   "outputs": [
    {
     "data": {
      "text/html": [
       "<div>\n",
       "<style scoped>\n",
       "    .dataframe tbody tr th:only-of-type {\n",
       "        vertical-align: middle;\n",
       "    }\n",
       "\n",
       "    .dataframe tbody tr th {\n",
       "        vertical-align: top;\n",
       "    }\n",
       "\n",
       "    .dataframe thead th {\n",
       "        text-align: right;\n",
       "    }\n",
       "</style>\n",
       "<table border=\"1\" class=\"dataframe\">\n",
       "  <thead>\n",
       "    <tr style=\"text-align: right;\">\n",
       "      <th></th>\n",
       "      <th>name</th>\n",
       "      <th>tcp_packets</th>\n",
       "      <th>dist_port_tcp</th>\n",
       "      <th>external_ips</th>\n",
       "      <th>vulume_bytes</th>\n",
       "      <th>udp_packets</th>\n",
       "      <th>source_app_packets</th>\n",
       "      <th>remote_app_packets</th>\n",
       "      <th>source_app_bytes</th>\n",
       "      <th>remote_app_bytes</th>\n",
       "      <th>dns_query_times</th>\n",
       "      <th>type</th>\n",
       "    </tr>\n",
       "  </thead>\n",
       "  <tbody>\n",
       "    <tr>\n",
       "      <th>0</th>\n",
       "      <td>0.0</td>\n",
       "      <td>0.0</td>\n",
       "      <td>0.0</td>\n",
       "      <td>0.0</td>\n",
       "      <td>0.0</td>\n",
       "      <td>0.0</td>\n",
       "      <td>0.0</td>\n",
       "      <td>0.0</td>\n",
       "      <td>0.0</td>\n",
       "      <td>0.0</td>\n",
       "      <td>0.0</td>\n",
       "      <td>0.0</td>\n",
       "    </tr>\n",
       "  </tbody>\n",
       "</table>\n",
       "</div>"
      ],
      "text/plain": [
       "   name  tcp_packets  dist_port_tcp  external_ips  vulume_bytes  udp_packets  \\\n",
       "0   0.0          0.0            0.0           0.0           0.0          0.0   \n",
       "\n",
       "   source_app_packets  remote_app_packets  source_app_bytes  remote_app_bytes  \\\n",
       "0                 0.0                 0.0               0.0               0.0   \n",
       "\n",
       "   dns_query_times  type  \n",
       "0              0.0   0.0  "
      ]
     },
     "execution_count": 6,
     "metadata": {},
     "output_type": "execute_result"
    }
   ],
   "source": [
    "adversarial_data"
   ]
  },
  {
   "cell_type": "code",
   "execution_count": 7,
   "metadata": {},
   "outputs": [],
   "source": [
    "adversarial_data= adversarial_data.drop('type',axis=1).copy()\n",
    "adversarial_data= adversarial_data.drop('name',axis=1).copy()"
   ]
  },
  {
   "cell_type": "code",
   "execution_count": 8,
   "metadata": {},
   "outputs": [
    {
     "data": {
      "text/html": [
       "<div>\n",
       "<style scoped>\n",
       "    .dataframe tbody tr th:only-of-type {\n",
       "        vertical-align: middle;\n",
       "    }\n",
       "\n",
       "    .dataframe tbody tr th {\n",
       "        vertical-align: top;\n",
       "    }\n",
       "\n",
       "    .dataframe thead th {\n",
       "        text-align: right;\n",
       "    }\n",
       "</style>\n",
       "<table border=\"1\" class=\"dataframe\">\n",
       "  <thead>\n",
       "    <tr style=\"text-align: right;\">\n",
       "      <th></th>\n",
       "      <th>tcp_packets</th>\n",
       "      <th>dist_port_tcp</th>\n",
       "      <th>external_ips</th>\n",
       "      <th>vulume_bytes</th>\n",
       "      <th>udp_packets</th>\n",
       "      <th>source_app_packets</th>\n",
       "      <th>remote_app_packets</th>\n",
       "      <th>source_app_bytes</th>\n",
       "      <th>remote_app_bytes</th>\n",
       "      <th>dns_query_times</th>\n",
       "    </tr>\n",
       "  </thead>\n",
       "  <tbody>\n",
       "    <tr>\n",
       "      <th>0</th>\n",
       "      <td>0.0</td>\n",
       "      <td>0.0</td>\n",
       "      <td>0.0</td>\n",
       "      <td>0.0</td>\n",
       "      <td>0.0</td>\n",
       "      <td>0.0</td>\n",
       "      <td>0.0</td>\n",
       "      <td>0.0</td>\n",
       "      <td>0.0</td>\n",
       "      <td>0.0</td>\n",
       "    </tr>\n",
       "  </tbody>\n",
       "</table>\n",
       "</div>"
      ],
      "text/plain": [
       "   tcp_packets  dist_port_tcp  external_ips  vulume_bytes  udp_packets  \\\n",
       "0          0.0            0.0           0.0           0.0          0.0   \n",
       "\n",
       "   source_app_packets  remote_app_packets  source_app_bytes  remote_app_bytes  \\\n",
       "0                 0.0                 0.0               0.0               0.0   \n",
       "\n",
       "   dns_query_times  \n",
       "0              0.0  "
      ]
     },
     "execution_count": 8,
     "metadata": {},
     "output_type": "execute_result"
    }
   ],
   "source": [
    "adversarial_data"
   ]
  },
  {
   "cell_type": "code",
   "execution_count": 9,
   "metadata": {},
   "outputs": [
    {
     "data": {
      "text/plain": [
       "(1, 10)"
      ]
     },
     "execution_count": 9,
     "metadata": {},
     "output_type": "execute_result"
    }
   ],
   "source": [
    "adversarial_data.shape"
   ]
  },
  {
   "cell_type": "markdown",
   "metadata": {},
   "source": [
    "## Let's build the Q-table"
   ]
  },
  {
   "cell_type": "code",
   "execution_count": 10,
   "metadata": {},
   "outputs": [
    {
     "name": "stdout",
     "output_type": "stream",
     "text": [
      "<class 'pandas.core.frame.DataFrame'>\n",
      "RangeIndex: 720 entries, 0 to 719\n",
      "Data columns (total 6 columns):\n",
      "source_app_bytes      720 non-null float64\n",
      "remote_app_bytes      720 non-null float64\n",
      "tcp_packets           720 non-null float64\n",
      "remote_app_packets    720 non-null float64\n",
      "vulume_bytes          720 non-null float64\n",
      "source_app_packets    720 non-null float64\n",
      "dtypes: float64(6)\n",
      "memory usage: 33.8 KB\n"
     ]
    }
   ],
   "source": [
    "def build_q_table(n_states, actions):\n",
    "    table = pd.DataFrame(\n",
    "    np.zeros((actions, n_states)), # q_table initial values\n",
    "    columns = important_features # Important features\n",
    "    )\n",
    "    return table\n",
    "\n",
    "build_q_table(n_states, n_actions).info()"
   ]
  },
  {
   "cell_type": "markdown",
   "metadata": {},
   "source": [
    "## Let's choose the action"
   ]
  },
  {
   "cell_type": "code",
   "execution_count": 11,
   "metadata": {},
   "outputs": [
    {
     "data": {
      "text/plain": [
       "'tcp_packets'"
      ]
     },
     "execution_count": 11,
     "metadata": {},
     "output_type": "execute_result"
    }
   ],
   "source": [
    "def choose_action(state, q_table):\n",
    "    # This is how to choose an action\n",
    "    state_actions = q_table.iloc[state, :]\n",
    "    if (np.random.uniform() > e) or ((state_actions == 0).all()):  # act non-greedy or state-action have no value\n",
    "        action_name = np.random.choice(important_features)\n",
    "    else:   # act greedy\n",
    "        action_name = state_actions.idxmax()   # replace argmax to idxmax as argmax means a different function in newer version of pandas\n",
    "    return action_name\n",
    "\n",
    "choose_action(4,build_q_table(n_states, n_actions))"
   ]
  },
  {
   "cell_type": "markdown",
   "metadata": {},
   "source": [
    "## Alright, let's upload the best model to attack"
   ]
  },
  {
   "cell_type": "code",
   "execution_count": 12,
   "metadata": {},
   "outputs": [
    {
     "name": "stdout",
     "output_type": "stream",
     "text": [
      "RandomForestClassifier(bootstrap=True, class_weight=None, criterion='gini',\n",
      "            max_depth=50, max_features='auto', max_leaf_nodes=None,\n",
      "            min_impurity_decrease=0.0, min_impurity_split=None,\n",
      "            min_samples_leaf=1, min_samples_split=2,\n",
      "            min_weight_fraction_leaf=0.0, n_estimators=250, n_jobs=None,\n",
      "            oob_score=False, random_state=45, verbose=0, warm_start=False)\n"
     ]
    }
   ],
   "source": [
    "model=jb.load('rfDefense.sav')\n",
    "print(model)"
   ]
  },
  {
   "cell_type": "markdown",
   "metadata": {},
   "source": [
    "## Feedback..."
   ]
  },
  {
   "cell_type": "code",
   "execution_count": 13,
   "metadata": {},
   "outputs": [],
   "source": [
    "def get_env_feedback(S, A):\n",
    "    # This is how agent will interact with the environment\n",
    "    pred = model.predict(A)\n",
    "    print(pred)\n",
    "    if pred == 'benign':    # it is detected as benign\n",
    "        if S == n_states - 2:\n",
    "            R = 2\n",
    "            S_ = 'terminal'            \n",
    "        else:\n",
    "            S_ = S + 1\n",
    "            R = 1\n",
    "    else:\n",
    "        R = 0\n",
    "        if S == 0:\n",
    "            S_ = S  # reach the defense\n",
    "        else:\n",
    "            S_ = S - 1\n",
    "    return S_, R   \n",
    "    \n",
    "#get_env_feedback(1, complete_permissions)"
   ]
  },
  {
   "cell_type": "code",
   "execution_count": 22,
   "metadata": {},
   "outputs": [],
   "source": [
    "def update_env(S, episode, step_counter):\n",
    "    # This is how environment be updated\n",
    "    env_list = ['-']*(n_states-1) + ['D']   # '---------T' our environment\n",
    "    if S == 'terminal':\n",
    "        interaction = 'Episode %s: total_steps = %s' % (episode+1, step_counter)\n",
    "        print('\\r{}'.format(interaction), end='')\n",
    "        time.sleep(2)\n",
    "        print('\\r                                ', end='')\n",
    "    else:\n",
    "        if n_states - S == 2:\n",
    "            env_list[S] = 'M'\n",
    "            interaction = ''.join(env_list)\n",
    "            print('\\r{}'.format(interaction), end='')\n",
    "            time.sleep(fresh_time)\n",
    "        else:            \n",
    "            env_list[S] = 'B'\n",
    "            interaction = ''.join(env_list)\n",
    "            print('\\r{}'.format(interaction), end='')\n",
    "            time.sleep(fresh_time)"
   ]
  },
  {
   "cell_type": "code",
   "execution_count": 23,
   "metadata": {},
   "outputs": [],
   "source": [
    "def rl():\n",
    "    q_table = build_q_table(n_states, n_actions)\n",
    "   \n",
    "    for episode in range(max_episodes):\n",
    "        adv_data = adversarial_data.copy()\n",
    "        step_counter = 0\n",
    "        S = 0\n",
    "        is_terminated = False\n",
    "        update_env(S, episode, step_counter)\n",
    "        while not is_terminated:                \n",
    "            adv_data.loc[0,'source_app_bytes'] = randint(0,9589585)\n",
    "            adv_data.loc[0,'remote_app_bytes'] = randint(69,727621)\n",
    "            adv_data.loc[0,'tcp_packets'] = randint(0,4704)\n",
    "            adv_data.loc[0,'remote_app_packets'] = randint(0,6690)    \n",
    "            adv_data.loc[0,'vulume_bytes'] = randint(0,726286)\n",
    "            adv_data.loc[0,'source_app_packets'] = randint(1,4721)\n",
    "            S_, R = get_env_feedback(S, adv_data)  # take action & get next state and reward\n",
    "            q_predict = q_table.loc[S, important_features]\n",
    "            if S_ != 'terminal':\n",
    "                q_target = R + g * q_table.iloc[S_, :].max()   # next state is not terminal\n",
    "            else:\n",
    "                q_target = R     # next state is terminal\n",
    "                is_terminated = True    # terminate this episode  \n",
    " \n",
    "            q_table.loc[S, important_features] += a * (q_target - q_predict)  # update\n",
    "            S = S_  # move to next state  \n",
    "            update_env(S, episode, step_counter+1)\n",
    "            step_counter += 1\n",
    "    return q_table, adv_data"
   ]
  },
  {
   "cell_type": "code",
   "execution_count": 24,
   "metadata": {},
   "outputs": [
    {
     "name": "stdout",
     "output_type": "stream",
     "text": [
      "B----D['benign']\n",
      "B----D['benign']\n",
      "B----D['benign']\n",
      "B----D['benign']\n",
      "B----D['benign']\n",
      "B----D['benign']\n",
      "B----D['benign']\n",
      "B----D['benign']\n",
      "B----D['benign']\n",
      "B----D['benign']\n",
      "B----D['benign']\n",
      "B----D['benign']\n",
      "B----D['benign']\n",
      "B----D['benign']\n",
      "B----D['benign']\n",
      "B----D['benign']\n",
      "B----D['benign']\n",
      "B----D['benign']\n",
      "B----D['benign']\n",
      "B----D['benign']\n",
      "B----D['benign']\n",
      "B----D['benign']\n",
      "B----D['benign']\n",
      "B----D['benign']\n",
      "B----D['benign']\n",
      "B----D['benign']\n",
      "B----D['benign']\n",
      "B----D['benign']\n",
      "B----D['benign']\n",
      "B----D['benign']\n",
      "B----D['benign']\n",
      "B----D['benign']\n",
      "B----D['benign']\n",
      "B----D['benign']\n",
      "B----D['benign']\n",
      "B----D['benign']\n",
      "B----D['benign']\n",
      "B----D['benign']\n",
      "B----D['benign']\n",
      "B----D['benign']\n",
      "B----D['benign']\n",
      "B----D['benign']\n",
      "B----D['benign']\n",
      "B----D['benign']\n",
      "B----D['benign']\n",
      "B----D['benign']\n",
      "B----D['benign']\n",
      "B----D['benign']\n",
      "B----D['benign']\n",
      "B----D['benign']\n",
      "B----D['benign']\n",
      "B----D['benign']\n",
      "B----D['benign']\n",
      "B----D['benign']\n",
      "B----D['benign']\n",
      "B----D['benign']\n",
      "B----D['benign']\n",
      "B----D['benign']\n",
      "B----D['benign']\n",
      "B----D['benign']\n",
      "B----D['benign']\n",
      "B----D['benign']\n",
      "B----D['benign']\n",
      "B----D['benign']\n",
      "B----D['benign']\n",
      "B----D['benign']\n",
      "B----D['benign']\n",
      "B----D['benign']\n",
      "B----D['benign']\n",
      "B----D['benign']\n",
      "B----D['benign']\n",
      "B----D['benign']\n",
      "B----D['benign']\n",
      "B----D['benign']\n",
      "B----D['benign']\n",
      "B----D['benign']\n",
      "B----D['benign']\n",
      "B----D['benign']\n",
      "B----D['benign']\n",
      "B----D['benign']\n",
      "B----D['benign']\n",
      "B----D['benign']\n",
      "B----D['benign']\n",
      "B----D['benign']\n",
      "B----D['benign']\n",
      "B----D['benign']\n",
      "B----D['benign']\n",
      "B----D['benign']\n",
      "B----D['benign']\n",
      "B----D['benign']\n",
      "B----D['benign']\n",
      "B----D['benign']\n",
      "B----D['benign']\n",
      "B----D['benign']\n",
      "B----D['benign']\n",
      "B----D['benign']\n",
      "B----D['benign']\n",
      "B----D['benign']\n",
      "B----D['benign']\n",
      "B----D['benign']\n",
      "B----D['benign']\n",
      "B----D['benign']\n",
      "B----D['benign']\n",
      "B----D['benign']\n",
      "B----D['benign']\n",
      "B----D['benign']\n",
      "B----D['benign']\n",
      "B----D['benign']\n",
      "B----D['benign']\n",
      "B----D['benign']\n",
      "B----D['benign']\n",
      "B----D['benign']\n",
      "B----D['benign']\n",
      "B----D['benign']\n",
      "B----D['benign']\n",
      "B----D['benign']\n",
      "B----D['benign']\n",
      "B----D['benign']\n",
      "B----D['benign']\n",
      "B----D['benign']\n",
      "B----D['benign']\n",
      "B----D['benign']\n",
      "B----D['benign']\n",
      "B----D['benign']\n",
      "B----D['benign']\n",
      "B----D['benign']\n",
      "B----D['benign']\n",
      "B----D['benign']\n",
      "B----D['benign']\n",
      "B----D['benign']\n",
      "B----D['benign']\n",
      "B----D['benign']\n",
      "B----D['benign']\n",
      "B----D['benign']\n",
      "B----D['benign']\n",
      "B----D['benign']\n",
      "B----D['benign']\n",
      "B----D['benign']\n",
      "B----D['benign']\n",
      "B----D['benign']\n",
      "B----D['benign']\n",
      "B----D['benign']\n",
      "B----D['benign']\n",
      "B----D['benign']\n",
      "B----D['benign']\n",
      "B----D['benign']\n",
      "B----D['benign']\n",
      "B----D['benign']\n",
      "B----D['benign']\n",
      "B----D['benign']\n",
      "B----D['benign']\n",
      "B----D['benign']\n",
      "B----D['benign']\n",
      "B----D['benign']\n",
      "B----D['benign']\n",
      "B----D['benign']\n",
      "B----D['benign']\n",
      "B----D['benign']\n",
      "B----D['benign']\n",
      "B----D['benign']\n",
      "B----D['benign']\n",
      "B----D['benign']\n",
      "B----D['benign']\n",
      "B----D['benign']\n",
      "B----D['benign']\n",
      "B----D['benign']\n",
      "B----D['benign']\n",
      "B----D['benign']\n",
      "B----D['benign']\n",
      "B----D['benign']\n",
      "B----D['benign']\n",
      "B----D['benign']\n",
      "B----D['benign']\n",
      "B----D['benign']\n",
      "B----D['benign']\n",
      "B----D['benign']\n",
      "B----D['benign']\n",
      "B----D['benign']\n",
      "B----D['benign']\n",
      "B----D['benign']\n",
      "B----D['benign']\n",
      "B----D['benign']\n",
      "B----D['benign']\n",
      "B----D['benign']\n",
      "B----D['benign']\n",
      "B----D['benign']\n",
      "B----D['benign']\n",
      "B----D['benign']\n",
      "B----D['benign']\n",
      "B----D['benign']\n",
      "B----D['benign']\n",
      "B----D['benign']\n",
      "B----D['benign']\n",
      "B----D['benign']\n",
      "B----D['benign']\n",
      "B----D['benign']\n",
      "B----D['benign']\n",
      "B----D['benign']\n",
      "B----D['benign']\n",
      "B----D['benign']\n",
      "B----D['benign']\n",
      "B----D['benign']\n",
      "B----D['benign']\n",
      "B----D['benign']\n",
      "B----D['benign']\n",
      "B----D['benign']\n",
      "B----D['benign']\n",
      "B----D['benign']\n",
      "B----D['benign']\n",
      "B----D['benign']\n",
      "B----D['benign']\n",
      "B----D['benign']\n",
      "B----D['benign']\n",
      "B----D['benign']\n",
      "B----D['benign']\n",
      "B----D['benign']\n",
      "B----D['benign']\n",
      "B----D['benign']\n",
      "B----D['benign']\n",
      "B----D['benign']\n",
      "B----D['benign']\n",
      "B----D['benign']\n",
      "B----D['benign']\n",
      "B----D['benign']\n",
      "B----D['benign']\n",
      "B----D['benign']\n",
      "B----D['benign']\n",
      "B----D"
     ]
    },
    {
     "ename": "KeyboardInterrupt",
     "evalue": "",
     "output_type": "error",
     "traceback": [
      "\u001b[0;31m---------------------------------------------------------------------------\u001b[0m",
      "\u001b[0;31mKeyboardInterrupt\u001b[0m                         Traceback (most recent call last)",
      "\u001b[0;32m<ipython-input-24-be422963fccf>\u001b[0m in \u001b[0;36m<module>\u001b[0;34m\u001b[0m\n\u001b[1;32m      1\u001b[0m \u001b[0;31m# let's start it\u001b[0m\u001b[0;34m\u001b[0m\u001b[0;34m\u001b[0m\u001b[0;34m\u001b[0m\u001b[0m\n\u001b[0;32m----> 2\u001b[0;31m \u001b[0mq_table\u001b[0m\u001b[0;34m,\u001b[0m \u001b[0ma_permissions\u001b[0m \u001b[0;34m=\u001b[0m \u001b[0mrl\u001b[0m\u001b[0;34m(\u001b[0m\u001b[0;34m)\u001b[0m\u001b[0;34m\u001b[0m\u001b[0;34m\u001b[0m\u001b[0m\n\u001b[0m\u001b[1;32m      3\u001b[0m \u001b[0mprint\u001b[0m\u001b[0;34m(\u001b[0m\u001b[0;34m'\\r\\nQ-table:\\n'\u001b[0m\u001b[0;34m)\u001b[0m\u001b[0;34m\u001b[0m\u001b[0;34m\u001b[0m\u001b[0m\n\u001b[1;32m      4\u001b[0m \u001b[0mprint\u001b[0m\u001b[0;34m(\u001b[0m\u001b[0mq_table\u001b[0m\u001b[0;34m)\u001b[0m\u001b[0;34m\u001b[0m\u001b[0;34m\u001b[0m\u001b[0m\n",
      "\u001b[0;32m<ipython-input-23-bcfdf5635ea0>\u001b[0m in \u001b[0;36mrl\u001b[0;34m()\u001b[0m\n\u001b[1;32m     25\u001b[0m             \u001b[0mq_table\u001b[0m\u001b[0;34m.\u001b[0m\u001b[0mloc\u001b[0m\u001b[0;34m[\u001b[0m\u001b[0mS\u001b[0m\u001b[0;34m,\u001b[0m \u001b[0mimportant_features\u001b[0m\u001b[0;34m]\u001b[0m \u001b[0;34m+=\u001b[0m \u001b[0ma\u001b[0m \u001b[0;34m*\u001b[0m \u001b[0;34m(\u001b[0m\u001b[0mq_target\u001b[0m \u001b[0;34m-\u001b[0m \u001b[0mq_predict\u001b[0m\u001b[0;34m)\u001b[0m  \u001b[0;31m# update\u001b[0m\u001b[0;34m\u001b[0m\u001b[0;34m\u001b[0m\u001b[0m\n\u001b[1;32m     26\u001b[0m             \u001b[0mS\u001b[0m \u001b[0;34m=\u001b[0m \u001b[0mS_\u001b[0m  \u001b[0;31m# move to next state\u001b[0m\u001b[0;34m\u001b[0m\u001b[0;34m\u001b[0m\u001b[0m\n\u001b[0;32m---> 27\u001b[0;31m             \u001b[0mupdate_env\u001b[0m\u001b[0;34m(\u001b[0m\u001b[0mS\u001b[0m\u001b[0;34m,\u001b[0m \u001b[0mepisode\u001b[0m\u001b[0;34m,\u001b[0m \u001b[0mstep_counter\u001b[0m\u001b[0;34m+\u001b[0m\u001b[0;36m1\u001b[0m\u001b[0;34m)\u001b[0m\u001b[0;34m\u001b[0m\u001b[0;34m\u001b[0m\u001b[0m\n\u001b[0m\u001b[1;32m     28\u001b[0m             \u001b[0mstep_counter\u001b[0m \u001b[0;34m+=\u001b[0m \u001b[0;36m1\u001b[0m\u001b[0;34m\u001b[0m\u001b[0;34m\u001b[0m\u001b[0m\n\u001b[1;32m     29\u001b[0m     \u001b[0;32mreturn\u001b[0m \u001b[0mq_table\u001b[0m\u001b[0;34m,\u001b[0m \u001b[0madv_data\u001b[0m\u001b[0;34m\u001b[0m\u001b[0;34m\u001b[0m\u001b[0m\n",
      "\u001b[0;32m<ipython-input-22-1ad3b1cd45fb>\u001b[0m in \u001b[0;36mupdate_env\u001b[0;34m(S, episode, step_counter)\u001b[0m\n\u001b[1;32m     17\u001b[0m             \u001b[0minteraction\u001b[0m \u001b[0;34m=\u001b[0m \u001b[0;34m''\u001b[0m\u001b[0;34m.\u001b[0m\u001b[0mjoin\u001b[0m\u001b[0;34m(\u001b[0m\u001b[0menv_list\u001b[0m\u001b[0;34m)\u001b[0m\u001b[0;34m\u001b[0m\u001b[0;34m\u001b[0m\u001b[0m\n\u001b[1;32m     18\u001b[0m             \u001b[0mprint\u001b[0m\u001b[0;34m(\u001b[0m\u001b[0;34m'\\r{}'\u001b[0m\u001b[0;34m.\u001b[0m\u001b[0mformat\u001b[0m\u001b[0;34m(\u001b[0m\u001b[0minteraction\u001b[0m\u001b[0;34m)\u001b[0m\u001b[0;34m,\u001b[0m \u001b[0mend\u001b[0m\u001b[0;34m=\u001b[0m\u001b[0;34m''\u001b[0m\u001b[0;34m)\u001b[0m\u001b[0;34m\u001b[0m\u001b[0;34m\u001b[0m\u001b[0m\n\u001b[0;32m---> 19\u001b[0;31m             \u001b[0mtime\u001b[0m\u001b[0;34m.\u001b[0m\u001b[0msleep\u001b[0m\u001b[0;34m(\u001b[0m\u001b[0mfresh_time\u001b[0m\u001b[0;34m)\u001b[0m\u001b[0;34m\u001b[0m\u001b[0;34m\u001b[0m\u001b[0m\n\u001b[0m",
      "\u001b[0;31mKeyboardInterrupt\u001b[0m: "
     ]
    }
   ],
   "source": [
    "# let's start it \n",
    "q_table, a_permissions = rl()\n",
    "print('\\r\\nQ-table:\\n')\n",
    "print(q_table)"
   ]
  },
  {
   "cell_type": "code",
   "execution_count": null,
   "metadata": {},
   "outputs": [],
   "source": [
    "if model.predict(adv_) == 'malicious' :\n",
    "    print(\"Malware developed\")\n",
    "else:\n",
    "    print(\"Benign app\")"
   ]
  }
 ],
 "metadata": {
  "kernelspec": {
   "display_name": "Python 3",
   "language": "python",
   "name": "python3"
  },
  "language_info": {
   "codemirror_mode": {
    "name": "ipython",
    "version": 3
   },
   "file_extension": ".py",
   "mimetype": "text/x-python",
   "name": "python",
   "nbconvert_exporter": "python",
   "pygments_lexer": "ipython3",
   "version": "3.7.1"
  }
 },
 "nbformat": 4,
 "nbformat_minor": 2
}
