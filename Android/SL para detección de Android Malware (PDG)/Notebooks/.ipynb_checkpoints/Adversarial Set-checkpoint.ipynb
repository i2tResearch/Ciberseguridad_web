{
 "cells": [
  {
   "cell_type": "code",
   "execution_count": 32,
   "metadata": {},
   "outputs": [],
   "source": [
    "import pandas as pd\n",
    "#Import models\n",
    "from sklearn import preprocessing\n",
    "from sklearn.metrics import cohen_kappa_score\n",
    "from sklearn.model_selection import cross_validate\n",
    "from sklearn.ensemble import ExtraTreesClassifier\n",
    "from sklearn.naive_bayes import GaussianNB\n",
    "from sklearn.model_selection import cross_val_score\n",
    "from sklearn.model_selection import train_test_split\n",
    "from sklearn.neighbors import KNeighborsClassifier\n",
    "from sklearn.ensemble import RandomForestClassifier\n",
    "from sklearn.neighbors import NearestNeighbors\n",
    "from sklearn import svm\n",
    "from sklearn.linear_model import LinearRegression\n",
    "from sklearn.linear_model import LogisticRegression\n",
    "from sklearn import tree\n",
    "import numpy as np\n",
    "import seaborn as sns\n",
    "import matplotlib.pyplot as plt\n",
    "#metrics\n",
    "from sklearn import metrics\n",
    "from sklearn.metrics import accuracy_score, classification_report\n",
    "#Model persistence\n",
    "from sklearn.externals import joblib as jb"
   ]
  },
  {
   "cell_type": "code",
   "execution_count": 33,
   "metadata": {},
   "outputs": [
    {
     "name": "stdout",
     "output_type": "stream",
     "text": [
      "   tcp_packets  dist_port_tcp  external_ips  vulume_bytes  udp_packets  \\\n",
      "0     5.927622            0.0     -0.666667     39.884274          0.0   \n",
      "1    22.138217            0.0     -0.666667     -0.312383          0.0   \n",
      "2   104.151100            0.0     -0.666667    107.834553          0.0   \n",
      "3   105.675003            0.0      0.333333    107.001677          0.0   \n",
      "4   133.315081           12.0      0.666667     -0.233104          0.0   \n",
      "\n",
      "   source_app_packets  remote_app_packets   source_app_bytes  \\\n",
      "0          103.199390            0.700097         437.493903   \n",
      "1           31.467176           -0.258824         625.873298   \n",
      "2           35.351266           -0.270588         326.570370   \n",
      "3           64.329648           78.899647         651.740906   \n",
      "4           49.437327          107.038216         194.724991   \n",
      "\n",
      "   remote_app_bytes  dns_query_times  \n",
      "0          1.994524            -0.25  \n",
      "1         24.786021            -0.25  \n",
      "2         60.857192            -0.50  \n",
      "3          0.520834             1.25  \n",
      "4         87.570171            -0.50  \n",
      "(500, 10)\n"
     ]
    }
   ],
   "source": [
    "#load the datase\n",
    "data=pd.read_csv(\"../Datasets/Colcom2018AdversarialDataRaw.csv\",header=0,sep=';')\n",
    "print(data.head())\n",
    "print(data.shape)"
   ]
  },
  {
   "cell_type": "code",
   "execution_count": 34,
   "metadata": {},
   "outputs": [
    {
     "name": "stdout",
     "output_type": "stream",
     "text": [
      "RandomForestClassifier(bootstrap=True, class_weight=None, criterion='gini',\n",
      "            max_depth=50, max_features='auto', max_leaf_nodes=None,\n",
      "            min_impurity_decrease=0.0, min_impurity_split=None,\n",
      "            min_samples_leaf=1, min_samples_split=2,\n",
      "            min_weight_fraction_leaf=0.0, n_estimators=250, n_jobs=None,\n",
      "            oob_score=False, random_state=45, verbose=0, warm_start=False)\n"
     ]
    }
   ],
   "source": [
    "#Load the normal model\n",
    "model=jb.load('rfDefense.sav')\n",
    "print(model)"
   ]
  },
  {
   "cell_type": "code",
   "execution_count": 35,
   "metadata": {},
   "outputs": [],
   "source": [
    "data2=data.assign(type='malicious')"
   ]
  },
  {
   "cell_type": "code",
   "execution_count": 36,
   "metadata": {},
   "outputs": [],
   "source": [
    "data2.to_csv('../Datasets/Colcom2018AdversarialDataTrain.csv',sep=';',index=False)"
   ]
  },
  {
   "cell_type": "code",
   "execution_count": 37,
   "metadata": {},
   "outputs": [
    {
     "data": {
      "text/plain": [
       "array(['benign', 'benign', 'benign', 'benign', 'benign', 'benign',\n",
       "       'benign', 'benign', 'benign', 'benign', 'benign', 'benign',\n",
       "       'benign', 'benign', 'benign', 'benign', 'benign', 'benign',\n",
       "       'benign', 'benign'], dtype=object)"
      ]
     },
     "execution_count": 37,
     "metadata": {},
     "output_type": "execute_result"
    }
   ],
   "source": [
    "#test the data\n",
    "model.predict(data[0:20])"
   ]
  },
  {
   "cell_type": "code",
   "execution_count": null,
   "metadata": {},
   "outputs": [],
   "source": []
  }
 ],
 "metadata": {
  "kernelspec": {
   "display_name": "Python 3",
   "language": "python",
   "name": "python3"
  },
  "language_info": {
   "codemirror_mode": {
    "name": "ipython",
    "version": 3
   },
   "file_extension": ".py",
   "mimetype": "text/x-python",
   "name": "python",
   "nbconvert_exporter": "python",
   "pygments_lexer": "ipython3",
   "version": "3.7.1"
  }
 },
 "nbformat": 4,
 "nbformat_minor": 2
}
