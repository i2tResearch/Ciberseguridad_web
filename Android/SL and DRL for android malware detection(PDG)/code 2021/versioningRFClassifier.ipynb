{
 "cells": [
  {
   "cell_type": "code",
   "execution_count": 1,
   "metadata": {},
   "outputs": [],
   "source": [
    "\n",
    "import pandas as pd\n",
    "from sklearn.model_selection import train_test_split\n",
    "from sklearn.ensemble import RandomForestClassifier\n",
    "from sklearn.metrics import accuracy_score, classification_report\n",
    "from sklearn.naive_bayes import GaussianNB\n",
    "from sklearn import tree\n",
    "from sklearn.neighbors import KNeighborsClassifier\n",
    "from sklearn import svm\n",
    "from sklearn.linear_model import LogisticRegression\n",
    "import joblib"
   ]
  },
  {
   "cell_type": "code",
   "execution_count": 2,
   "metadata": {},
   "outputs": [],
   "source": [
    "data=pd.read_csv(\"datasets/Colcom2018CleanedScaled.csv\",header=0,sep=';')"
   ]
  },
  {
   "cell_type": "code",
   "execution_count": 3,
   "metadata": {},
   "outputs": [
    {
     "data": {
      "text/plain": [
       "(7832, 11)"
      ]
     },
     "execution_count": 3,
     "metadata": {},
     "output_type": "execute_result"
    }
   ],
   "source": [
    "data.shape\n",
    "\n",
    "\n"
   ]
  },
  {
   "cell_type": "code",
   "execution_count": 4,
   "metadata": {},
   "outputs": [
    {
     "data": {
      "text/html": [
       "<div>\n",
       "<style scoped>\n",
       "    .dataframe tbody tr th:only-of-type {\n",
       "        vertical-align: middle;\n",
       "    }\n",
       "\n",
       "    .dataframe tbody tr th {\n",
       "        vertical-align: top;\n",
       "    }\n",
       "\n",
       "    .dataframe thead th {\n",
       "        text-align: right;\n",
       "    }\n",
       "</style>\n",
       "<table border=\"1\" class=\"dataframe\">\n",
       "  <thead>\n",
       "    <tr style=\"text-align: right;\">\n",
       "      <th></th>\n",
       "      <th>tcp_packets</th>\n",
       "      <th>dist_port_tcp</th>\n",
       "      <th>external_ips</th>\n",
       "      <th>vulume_bytes</th>\n",
       "      <th>udp_packets</th>\n",
       "      <th>source_app_packets</th>\n",
       "      <th>remote_app_packets</th>\n",
       "      <th>source_app_bytes</th>\n",
       "      <th>remote_app_bytes</th>\n",
       "      <th>dns_query_times</th>\n",
       "      <th>type</th>\n",
       "    </tr>\n",
       "  </thead>\n",
       "  <tbody>\n",
       "    <tr>\n",
       "      <th>0</th>\n",
       "      <td>0.127907</td>\n",
       "      <td>6.0</td>\n",
       "      <td>0.333333</td>\n",
       "      <td>0.036782</td>\n",
       "      <td>0.0</td>\n",
       "      <td>0.100000</td>\n",
       "      <td>0.105882</td>\n",
       "      <td>0.041652</td>\n",
       "      <td>0.029865</td>\n",
       "      <td>0.00</td>\n",
       "      <td>benign</td>\n",
       "    </tr>\n",
       "    <tr>\n",
       "      <th>1</th>\n",
       "      <td>1.069767</td>\n",
       "      <td>0.0</td>\n",
       "      <td>2.333333</td>\n",
       "      <td>1.786894</td>\n",
       "      <td>0.0</td>\n",
       "      <td>1.088889</td>\n",
       "      <td>0.976471</td>\n",
       "      <td>0.897275</td>\n",
       "      <td>1.787684</td>\n",
       "      <td>2.00</td>\n",
       "      <td>benign</td>\n",
       "    </tr>\n",
       "    <tr>\n",
       "      <th>2</th>\n",
       "      <td>1.988372</td>\n",
       "      <td>0.0</td>\n",
       "      <td>1.333333</td>\n",
       "      <td>1.843764</td>\n",
       "      <td>0.0</td>\n",
       "      <td>1.944444</td>\n",
       "      <td>2.235294</td>\n",
       "      <td>6.465984</td>\n",
       "      <td>1.831939</td>\n",
       "      <td>1.50</td>\n",
       "      <td>benign</td>\n",
       "    </tr>\n",
       "    <tr>\n",
       "      <th>3</th>\n",
       "      <td>-0.220930</td>\n",
       "      <td>0.0</td>\n",
       "      <td>-0.333333</td>\n",
       "      <td>-0.233015</td>\n",
       "      <td>0.0</td>\n",
       "      <td>-0.255556</td>\n",
       "      <td>-0.211765</td>\n",
       "      <td>-0.131552</td>\n",
       "      <td>-0.245310</td>\n",
       "      <td>-0.50</td>\n",
       "      <td>benign</td>\n",
       "    </tr>\n",
       "    <tr>\n",
       "      <th>4</th>\n",
       "      <td>-0.220930</td>\n",
       "      <td>0.0</td>\n",
       "      <td>-0.333333</td>\n",
       "      <td>-0.233640</td>\n",
       "      <td>0.0</td>\n",
       "      <td>-0.255556</td>\n",
       "      <td>-0.211765</td>\n",
       "      <td>-0.131552</td>\n",
       "      <td>-0.245919</td>\n",
       "      <td>-0.50</td>\n",
       "      <td>benign</td>\n",
       "    </tr>\n",
       "    <tr>\n",
       "      <th>...</th>\n",
       "      <td>...</td>\n",
       "      <td>...</td>\n",
       "      <td>...</td>\n",
       "      <td>...</td>\n",
       "      <td>...</td>\n",
       "      <td>...</td>\n",
       "      <td>...</td>\n",
       "      <td>...</td>\n",
       "      <td>...</td>\n",
       "      <td>...</td>\n",
       "      <td>...</td>\n",
       "    </tr>\n",
       "    <tr>\n",
       "      <th>7827</th>\n",
       "      <td>-0.290698</td>\n",
       "      <td>0.0</td>\n",
       "      <td>-0.666667</td>\n",
       "      <td>-0.312383</td>\n",
       "      <td>0.0</td>\n",
       "      <td>-0.311111</td>\n",
       "      <td>-0.258824</td>\n",
       "      <td>-0.154290</td>\n",
       "      <td>-0.317647</td>\n",
       "      <td>-0.25</td>\n",
       "      <td>malicious</td>\n",
       "    </tr>\n",
       "    <tr>\n",
       "      <th>7828</th>\n",
       "      <td>-0.244186</td>\n",
       "      <td>4.0</td>\n",
       "      <td>-0.333333</td>\n",
       "      <td>-0.285957</td>\n",
       "      <td>0.0</td>\n",
       "      <td>-0.277778</td>\n",
       "      <td>-0.270588</td>\n",
       "      <td>-0.161208</td>\n",
       "      <td>-0.296868</td>\n",
       "      <td>-0.50</td>\n",
       "      <td>malicious</td>\n",
       "    </tr>\n",
       "    <tr>\n",
       "      <th>7829</th>\n",
       "      <td>-0.290698</td>\n",
       "      <td>0.0</td>\n",
       "      <td>-0.666667</td>\n",
       "      <td>-0.312383</td>\n",
       "      <td>0.0</td>\n",
       "      <td>-0.311111</td>\n",
       "      <td>-0.258824</td>\n",
       "      <td>-0.154290</td>\n",
       "      <td>-0.317647</td>\n",
       "      <td>-0.25</td>\n",
       "      <td>malicious</td>\n",
       "    </tr>\n",
       "    <tr>\n",
       "      <th>7830</th>\n",
       "      <td>-0.290698</td>\n",
       "      <td>0.0</td>\n",
       "      <td>-0.666667</td>\n",
       "      <td>-0.312383</td>\n",
       "      <td>0.0</td>\n",
       "      <td>-0.311111</td>\n",
       "      <td>-0.258824</td>\n",
       "      <td>-0.154290</td>\n",
       "      <td>-0.317647</td>\n",
       "      <td>-0.25</td>\n",
       "      <td>malicious</td>\n",
       "    </tr>\n",
       "    <tr>\n",
       "      <th>7831</th>\n",
       "      <td>-0.290698</td>\n",
       "      <td>0.0</td>\n",
       "      <td>-0.666667</td>\n",
       "      <td>-0.312383</td>\n",
       "      <td>0.0</td>\n",
       "      <td>-0.311111</td>\n",
       "      <td>-0.258824</td>\n",
       "      <td>-0.154290</td>\n",
       "      <td>-0.317647</td>\n",
       "      <td>-0.25</td>\n",
       "      <td>malicious</td>\n",
       "    </tr>\n",
       "  </tbody>\n",
       "</table>\n",
       "<p>7832 rows × 11 columns</p>\n",
       "</div>"
      ],
      "text/plain": [
       "      tcp_packets  dist_port_tcp  external_ips  vulume_bytes  udp_packets  \\\n",
       "0        0.127907            6.0      0.333333      0.036782          0.0   \n",
       "1        1.069767            0.0      2.333333      1.786894          0.0   \n",
       "2        1.988372            0.0      1.333333      1.843764          0.0   \n",
       "3       -0.220930            0.0     -0.333333     -0.233015          0.0   \n",
       "4       -0.220930            0.0     -0.333333     -0.233640          0.0   \n",
       "...           ...            ...           ...           ...          ...   \n",
       "7827    -0.290698            0.0     -0.666667     -0.312383          0.0   \n",
       "7828    -0.244186            4.0     -0.333333     -0.285957          0.0   \n",
       "7829    -0.290698            0.0     -0.666667     -0.312383          0.0   \n",
       "7830    -0.290698            0.0     -0.666667     -0.312383          0.0   \n",
       "7831    -0.290698            0.0     -0.666667     -0.312383          0.0   \n",
       "\n",
       "      source_app_packets  remote_app_packets   source_app_bytes  \\\n",
       "0               0.100000            0.105882           0.041652   \n",
       "1               1.088889            0.976471           0.897275   \n",
       "2               1.944444            2.235294           6.465984   \n",
       "3              -0.255556           -0.211765          -0.131552   \n",
       "4              -0.255556           -0.211765          -0.131552   \n",
       "...                  ...                 ...                ...   \n",
       "7827           -0.311111           -0.258824          -0.154290   \n",
       "7828           -0.277778           -0.270588          -0.161208   \n",
       "7829           -0.311111           -0.258824          -0.154290   \n",
       "7830           -0.311111           -0.258824          -0.154290   \n",
       "7831           -0.311111           -0.258824          -0.154290   \n",
       "\n",
       "      remote_app_bytes  dns_query_times       type  \n",
       "0             0.029865             0.00     benign  \n",
       "1             1.787684             2.00     benign  \n",
       "2             1.831939             1.50     benign  \n",
       "3            -0.245310            -0.50     benign  \n",
       "4            -0.245919            -0.50     benign  \n",
       "...                ...              ...        ...  \n",
       "7827         -0.317647            -0.25  malicious  \n",
       "7828         -0.296868            -0.50  malicious  \n",
       "7829         -0.317647            -0.25  malicious  \n",
       "7830         -0.317647            -0.25  malicious  \n",
       "7831         -0.317647            -0.25  malicious  \n",
       "\n",
       "[7832 rows x 11 columns]"
      ]
     },
     "execution_count": 4,
     "metadata": {},
     "output_type": "execute_result"
    }
   ],
   "source": [
    "data\n"
   ]
  },
  {
   "cell_type": "code",
   "execution_count": 5,
   "metadata": {},
   "outputs": [],
   "source": [
    "X_train, X_test, y_train, y_test = train_test_split(data.iloc[:,0:10], data['type'], test_size=0.25, random_state=45)"
   ]
  },
  {
   "cell_type": "code",
   "execution_count": 6,
   "metadata": {},
   "outputs": [
    {
     "data": {
      "text/plain": [
       "(1958, 10)"
      ]
     },
     "execution_count": 6,
     "metadata": {},
     "output_type": "execute_result"
    }
   ],
   "source": [
    "X_test.shape\n"
   ]
  },
  {
   "cell_type": "code",
   "execution_count": 7,
   "metadata": {},
   "outputs": [
    {
     "data": {
      "text/plain": [
       "(1958,)"
      ]
     },
     "execution_count": 7,
     "metadata": {},
     "output_type": "execute_result"
    }
   ],
   "source": [
    "y_test.shape"
   ]
  },
  {
   "cell_type": "markdown",
   "metadata": {},
   "source": [
    "## Random forest"
   ]
  },
  {
   "cell_type": "code",
   "execution_count": 8,
   "metadata": {},
   "outputs": [
    {
     "name": "stdout",
     "output_type": "stream",
     "text": [
      "RandomForestClassifier(max_depth=50, n_estimators=250, random_state=45)\n",
      "0.9172625127681308\n",
      "              precision    recall  f1-score   support\n",
      "\n",
      "      benign       0.93      0.94      0.93      1190\n",
      "   malicious       0.90      0.88      0.89       768\n",
      "\n",
      "    accuracy                           0.92      1958\n",
      "   macro avg       0.91      0.91      0.91      1958\n",
      "weighted avg       0.92      0.92      0.92      1958\n",
      "\n"
     ]
    }
   ],
   "source": [
    "rdF=RandomForestClassifier(n_estimators=250, max_depth=50,random_state=45)\n",
    "rdF.fit(X_train,y_train)\n",
    "pred=rdF.predict(X_test)\n",
    "y_score=rdF.predict(X_test)\n",
    "#cm=confusion_matrix(y_test, pred)\n",
    "\n",
    "accuracy = accuracy_score(y_test,pred)\n",
    "print(rdF)\n",
    "print(accuracy)\n",
    "print(classification_report(y_test,pred, labels=None))\n",
    "\n",
    "#print(cm)"
   ]
  },
  {
   "cell_type": "code",
   "execution_count": 9,
   "metadata": {},
   "outputs": [],
   "source": [
    "#joblib.dump(rdF, 'rfDefense2021.sav')"
   ]
  },
  {
   "cell_type": "markdown",
   "metadata": {},
   "source": [
    "## Naive bayes"
   ]
  },
  {
   "cell_type": "code",
   "execution_count": 15,
   "metadata": {},
   "outputs": [
    {
     "name": "stdout",
     "output_type": "stream",
     "text": [
      "GaussianNB()\n",
      "0.44688457609805926\n",
      "              precision    recall  f1-score   support\n",
      "\n",
      "      benign       0.81      0.12      0.20      1190\n",
      "   malicious       0.41      0.96      0.58       768\n",
      "\n",
      "    accuracy                           0.45      1958\n",
      "   macro avg       0.61      0.54      0.39      1958\n",
      "weighted avg       0.66      0.45      0.35      1958\n",
      "\n"
     ]
    }
   ],
   "source": [
    "# Naive Bayes algorithm\n",
    "gnb = GaussianNB()\n",
    "gnb.fit(X_train, y_train)\n",
    "pred = gnb.predict(X_test)\n",
    "## accuracy\n",
    "accuracy = accuracy_score(y_test,pred)\n",
    "print(gnb)\n",
    "print(accuracy)\n",
    "print(classification_report(y_test,pred, labels=None))"
   ]
  },
  {
   "cell_type": "markdown",
   "metadata": {},
   "source": [
    "## Decision tree"
   ]
  },
  {
   "cell_type": "code",
   "execution_count": 16,
   "metadata": {},
   "outputs": [
    {
     "name": "stdout",
     "output_type": "stream",
     "text": [
      "DecisionTreeClassifier()\n",
      "0.8774259448416751\n",
      "              precision    recall  f1-score   support\n",
      "\n",
      "      benign       0.90      0.90      0.90      1190\n",
      "   malicious       0.85      0.84      0.84       768\n",
      "\n",
      "    accuracy                           0.88      1958\n",
      "   macro avg       0.87      0.87      0.87      1958\n",
      "weighted avg       0.88      0.88      0.88      1958\n",
      "\n"
     ]
    }
   ],
   "source": [
    "clf = tree.DecisionTreeClassifier()\n",
    "clf.fit(X_train, y_train)\n",
    "pred = clf.predict(X_test)\n",
    "# accuracy\n",
    "accuracy = accuracy_score(y_test,pred)\n",
    "print(clf)\n",
    "print(accuracy)\n",
    "print(classification_report(y_test,pred, labels=None))"
   ]
  },
  {
   "cell_type": "markdown",
   "metadata": {},
   "source": [
    "## K neighbors"
   ]
  },
  {
   "cell_type": "code",
   "execution_count": 18,
   "metadata": {
    "scrolled": true
   },
   "outputs": [
    {
     "name": "stdout",
     "output_type": "stream",
     "text": [
      "with 2 neighbors accuracy: \n",
      "0.8912155260469867\n",
      "with 3 neighbors accuracy: \n",
      "0.8871297242083759\n",
      "with 4 neighbors accuracy: \n",
      "0.8922369765066395\n",
      "              precision    recall  f1-score   support\n",
      "\n",
      "      benign       0.89      0.93      0.91      1190\n",
      "   malicious       0.89      0.83      0.86       768\n",
      "\n",
      "    accuracy                           0.89      1958\n",
      "   macro avg       0.89      0.88      0.89      1958\n",
      "weighted avg       0.89      0.89      0.89      1958\n",
      "\n",
      "with 6 neighbors accuracy: \n",
      "0.8784473953013279\n",
      "with 12 neighbors accuracy: \n",
      "0.8615934627170582\n"
     ]
    }
   ],
   "source": [
    "neigh = KNeighborsClassifier(n_neighbors=2)\n",
    "neigh_two = KNeighborsClassifier(n_neighbors=3)\n",
    "neigh_three = KNeighborsClassifier(n_neighbors=4)\n",
    "neigh_four = KNeighborsClassifier(n_neighbors=6)\n",
    "neigh_12 = KNeighborsClassifier(n_neighbors=12)\n",
    "# fit\n",
    "neigh.fit(X_train, y_train)\n",
    "neigh_two.fit(X_train, y_train)\n",
    "neigh_three.fit(X_train, y_train)\n",
    "neigh_four.fit(X_train, y_train)\n",
    "neigh_12.fit(X_train, y_train)\n",
    "# prediction\n",
    "pred = neigh.predict(X_test)\n",
    "pred_two = neigh_two.predict(X_test)\n",
    "pred_three = neigh_three.predict(X_test)\n",
    "pred_four = neigh_four.predict(X_test)\n",
    "pred_12= neigh_12.predict(X_test)\n",
    "# accuracy\n",
    "accuracy = accuracy_score(y_test,pred)\n",
    "accuracy_two = accuracy_score(y_test,pred_two)\n",
    "accuracy_three = accuracy_score(y_test,pred_three)\n",
    "accuracy_four = accuracy_score(y_test,pred_four)\n",
    "accuracy_12 = accuracy_score(y_test,pred_12)\n",
    "print(\"with 2 neighbors accuracy: \")\n",
    "print(accuracy)\n",
    "print(\"with 3 neighbors accuracy: \")\n",
    "print(accuracy_two)\n",
    "print(\"with 4 neighbors accuracy: \")\n",
    "print(accuracy_three)\n",
    "print(classification_report(y_test,pred_three, labels=None))\n",
    "print(\"with 6 neighbors accuracy: \")\n",
    "print(accuracy_four)\n",
    "print(\"with 12 neighbors accuracy: \")\n",
    "print(accuracy_12)"
   ]
  },
  {
   "cell_type": "markdown",
   "metadata": {},
   "source": [
    "## Support vector machine"
   ]
  },
  {
   "cell_type": "code",
   "execution_count": 19,
   "metadata": {},
   "outputs": [
    {
     "name": "stdout",
     "output_type": "stream",
     "text": [
      "SVC()\n",
      "0.627170582226762\n",
      "              precision    recall  f1-score   support\n",
      "\n",
      "      benign       0.62      1.00      0.76      1190\n",
      "   malicious       0.90      0.06      0.11       768\n",
      "\n",
      "    accuracy                           0.63      1958\n",
      "   macro avg       0.76      0.53      0.43      1958\n",
      "weighted avg       0.73      0.63      0.51      1958\n",
      "\n"
     ]
    }
   ],
   "source": [
    "Sv=svm.SVC(gamma='scale',kernel='rbf')\n",
    "# fit\n",
    "Sv.fit(X_train, y_train)\n",
    "# prediction\n",
    "pred = Sv.predict(X_test)\n",
    "# accuracy\n",
    "accuracy = accuracy_score(y_test,pred)\n",
    "print(Sv)\n",
    "print(accuracy)\n",
    "print(classification_report(y_test,pred, labels=None))"
   ]
  },
  {
   "cell_type": "markdown",
   "metadata": {},
   "source": [
    "## Logistic regression"
   ]
  },
  {
   "cell_type": "code",
   "execution_count": 20,
   "metadata": {},
   "outputs": [
    {
     "name": "stdout",
     "output_type": "stream",
     "text": [
      "LogisticRegression(max_iter=1000)\n",
      "0.7063329928498467\n",
      "              precision    recall  f1-score   support\n",
      "\n",
      "      benign       0.72      0.86      0.78      1190\n",
      "   malicious       0.68      0.47      0.56       768\n",
      "\n",
      "    accuracy                           0.71      1958\n",
      "   macro avg       0.70      0.66      0.67      1958\n",
      "weighted avg       0.70      0.71      0.69      1958\n",
      "\n"
     ]
    }
   ],
   "source": [
    "logisticRegr = LogisticRegression(max_iter=1000)\n",
    "logisticRegr.fit(X_train, y_train)\n",
    "pred=logisticRegr.predict(X_test)\n",
    "accuracy = accuracy_score(y_test,pred)\n",
    "print(logisticRegr)\n",
    "print(accuracy)\n",
    "print(classification_report(y_test,pred, labels=None))"
   ]
  }
 ],
 "metadata": {
  "interpreter": {
   "hash": "2aafba6fd41afbc37b2c539ff55e748439b864b56a5a196fba85a643518eef0d"
  },
  "kernelspec": {
   "display_name": "Python 3.8.11 64-bit ('jupy': conda)",
   "name": "python3"
  },
  "language_info": {
   "codemirror_mode": {
    "name": "ipython",
    "version": 3
   },
   "file_extension": ".py",
   "mimetype": "text/x-python",
   "name": "python",
   "nbconvert_exporter": "python",
   "pygments_lexer": "ipython3",
   "version": "3.8.11"
  }
 },
 "nbformat": 4,
 "nbformat_minor": 5
}
