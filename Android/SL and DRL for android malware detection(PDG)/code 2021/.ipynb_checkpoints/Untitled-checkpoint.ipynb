{
 "cells": [
  {
   "cell_type": "code",
   "execution_count": 30,
   "id": "388b4f71",
   "metadata": {},
   "outputs": [],
   "source": [
    "\n",
    "import pandas as pd\n",
    "from sklearn.model_selection import train_test_split\n",
    "from sklearn.ensemble import RandomForestClassifier\n",
    "from sklearn.metrics import accuracy_score, classification_report\n",
    "import joblib"
   ]
  },
  {
   "cell_type": "code",
   "execution_count": 7,
   "id": "4e95c165",
   "metadata": {},
   "outputs": [],
   "source": [
    "data=pd.read_csv(\"datasets/Colcom2018CleanedScaled.csv\",header=0,sep=';')"
   ]
  },
  {
   "cell_type": "code",
   "execution_count": 12,
   "id": "09933cf2",
   "metadata": {},
   "outputs": [
    {
     "data": {
      "text/plain": [
       "(7832, 11)"
      ]
     },
     "execution_count": 12,
     "metadata": {},
     "output_type": "execute_result"
    }
   ],
   "source": [
    "data.shape\n",
    "\n",
    "\n"
   ]
  },
  {
   "cell_type": "code",
   "execution_count": 13,
   "id": "3dae2654",
   "metadata": {},
   "outputs": [
    {
     "data": {
      "text/html": [
       "<div>\n",
       "<style scoped>\n",
       "    .dataframe tbody tr th:only-of-type {\n",
       "        vertical-align: middle;\n",
       "    }\n",
       "\n",
       "    .dataframe tbody tr th {\n",
       "        vertical-align: top;\n",
       "    }\n",
       "\n",
       "    .dataframe thead th {\n",
       "        text-align: right;\n",
       "    }\n",
       "</style>\n",
       "<table border=\"1\" class=\"dataframe\">\n",
       "  <thead>\n",
       "    <tr style=\"text-align: right;\">\n",
       "      <th></th>\n",
       "      <th>tcp_packets</th>\n",
       "      <th>dist_port_tcp</th>\n",
       "      <th>external_ips</th>\n",
       "      <th>vulume_bytes</th>\n",
       "      <th>udp_packets</th>\n",
       "      <th>source_app_packets</th>\n",
       "      <th>remote_app_packets</th>\n",
       "      <th>source_app_bytes</th>\n",
       "      <th>remote_app_bytes</th>\n",
       "      <th>dns_query_times</th>\n",
       "      <th>type</th>\n",
       "    </tr>\n",
       "  </thead>\n",
       "  <tbody>\n",
       "    <tr>\n",
       "      <th>0</th>\n",
       "      <td>0.127907</td>\n",
       "      <td>6.0</td>\n",
       "      <td>0.333333</td>\n",
       "      <td>0.036782</td>\n",
       "      <td>0.0</td>\n",
       "      <td>0.100000</td>\n",
       "      <td>0.105882</td>\n",
       "      <td>0.041652</td>\n",
       "      <td>0.029865</td>\n",
       "      <td>0.00</td>\n",
       "      <td>benign</td>\n",
       "    </tr>\n",
       "    <tr>\n",
       "      <th>1</th>\n",
       "      <td>1.069767</td>\n",
       "      <td>0.0</td>\n",
       "      <td>2.333333</td>\n",
       "      <td>1.786894</td>\n",
       "      <td>0.0</td>\n",
       "      <td>1.088889</td>\n",
       "      <td>0.976471</td>\n",
       "      <td>0.897275</td>\n",
       "      <td>1.787684</td>\n",
       "      <td>2.00</td>\n",
       "      <td>benign</td>\n",
       "    </tr>\n",
       "    <tr>\n",
       "      <th>2</th>\n",
       "      <td>1.988372</td>\n",
       "      <td>0.0</td>\n",
       "      <td>1.333333</td>\n",
       "      <td>1.843764</td>\n",
       "      <td>0.0</td>\n",
       "      <td>1.944444</td>\n",
       "      <td>2.235294</td>\n",
       "      <td>6.465984</td>\n",
       "      <td>1.831939</td>\n",
       "      <td>1.50</td>\n",
       "      <td>benign</td>\n",
       "    </tr>\n",
       "    <tr>\n",
       "      <th>3</th>\n",
       "      <td>-0.220930</td>\n",
       "      <td>0.0</td>\n",
       "      <td>-0.333333</td>\n",
       "      <td>-0.233015</td>\n",
       "      <td>0.0</td>\n",
       "      <td>-0.255556</td>\n",
       "      <td>-0.211765</td>\n",
       "      <td>-0.131552</td>\n",
       "      <td>-0.245310</td>\n",
       "      <td>-0.50</td>\n",
       "      <td>benign</td>\n",
       "    </tr>\n",
       "    <tr>\n",
       "      <th>4</th>\n",
       "      <td>-0.220930</td>\n",
       "      <td>0.0</td>\n",
       "      <td>-0.333333</td>\n",
       "      <td>-0.233640</td>\n",
       "      <td>0.0</td>\n",
       "      <td>-0.255556</td>\n",
       "      <td>-0.211765</td>\n",
       "      <td>-0.131552</td>\n",
       "      <td>-0.245919</td>\n",
       "      <td>-0.50</td>\n",
       "      <td>benign</td>\n",
       "    </tr>\n",
       "    <tr>\n",
       "      <th>...</th>\n",
       "      <td>...</td>\n",
       "      <td>...</td>\n",
       "      <td>...</td>\n",
       "      <td>...</td>\n",
       "      <td>...</td>\n",
       "      <td>...</td>\n",
       "      <td>...</td>\n",
       "      <td>...</td>\n",
       "      <td>...</td>\n",
       "      <td>...</td>\n",
       "      <td>...</td>\n",
       "    </tr>\n",
       "    <tr>\n",
       "      <th>7827</th>\n",
       "      <td>-0.290698</td>\n",
       "      <td>0.0</td>\n",
       "      <td>-0.666667</td>\n",
       "      <td>-0.312383</td>\n",
       "      <td>0.0</td>\n",
       "      <td>-0.311111</td>\n",
       "      <td>-0.258824</td>\n",
       "      <td>-0.154290</td>\n",
       "      <td>-0.317647</td>\n",
       "      <td>-0.25</td>\n",
       "      <td>malicious</td>\n",
       "    </tr>\n",
       "    <tr>\n",
       "      <th>7828</th>\n",
       "      <td>-0.244186</td>\n",
       "      <td>4.0</td>\n",
       "      <td>-0.333333</td>\n",
       "      <td>-0.285957</td>\n",
       "      <td>0.0</td>\n",
       "      <td>-0.277778</td>\n",
       "      <td>-0.270588</td>\n",
       "      <td>-0.161208</td>\n",
       "      <td>-0.296868</td>\n",
       "      <td>-0.50</td>\n",
       "      <td>malicious</td>\n",
       "    </tr>\n",
       "    <tr>\n",
       "      <th>7829</th>\n",
       "      <td>-0.290698</td>\n",
       "      <td>0.0</td>\n",
       "      <td>-0.666667</td>\n",
       "      <td>-0.312383</td>\n",
       "      <td>0.0</td>\n",
       "      <td>-0.311111</td>\n",
       "      <td>-0.258824</td>\n",
       "      <td>-0.154290</td>\n",
       "      <td>-0.317647</td>\n",
       "      <td>-0.25</td>\n",
       "      <td>malicious</td>\n",
       "    </tr>\n",
       "    <tr>\n",
       "      <th>7830</th>\n",
       "      <td>-0.290698</td>\n",
       "      <td>0.0</td>\n",
       "      <td>-0.666667</td>\n",
       "      <td>-0.312383</td>\n",
       "      <td>0.0</td>\n",
       "      <td>-0.311111</td>\n",
       "      <td>-0.258824</td>\n",
       "      <td>-0.154290</td>\n",
       "      <td>-0.317647</td>\n",
       "      <td>-0.25</td>\n",
       "      <td>malicious</td>\n",
       "    </tr>\n",
       "    <tr>\n",
       "      <th>7831</th>\n",
       "      <td>-0.290698</td>\n",
       "      <td>0.0</td>\n",
       "      <td>-0.666667</td>\n",
       "      <td>-0.312383</td>\n",
       "      <td>0.0</td>\n",
       "      <td>-0.311111</td>\n",
       "      <td>-0.258824</td>\n",
       "      <td>-0.154290</td>\n",
       "      <td>-0.317647</td>\n",
       "      <td>-0.25</td>\n",
       "      <td>malicious</td>\n",
       "    </tr>\n",
       "  </tbody>\n",
       "</table>\n",
       "<p>7832 rows × 11 columns</p>\n",
       "</div>"
      ],
      "text/plain": [
       "      tcp_packets  dist_port_tcp  external_ips  vulume_bytes  udp_packets  \\\n",
       "0        0.127907            6.0      0.333333      0.036782          0.0   \n",
       "1        1.069767            0.0      2.333333      1.786894          0.0   \n",
       "2        1.988372            0.0      1.333333      1.843764          0.0   \n",
       "3       -0.220930            0.0     -0.333333     -0.233015          0.0   \n",
       "4       -0.220930            0.0     -0.333333     -0.233640          0.0   \n",
       "...           ...            ...           ...           ...          ...   \n",
       "7827    -0.290698            0.0     -0.666667     -0.312383          0.0   \n",
       "7828    -0.244186            4.0     -0.333333     -0.285957          0.0   \n",
       "7829    -0.290698            0.0     -0.666667     -0.312383          0.0   \n",
       "7830    -0.290698            0.0     -0.666667     -0.312383          0.0   \n",
       "7831    -0.290698            0.0     -0.666667     -0.312383          0.0   \n",
       "\n",
       "      source_app_packets  remote_app_packets   source_app_bytes  \\\n",
       "0               0.100000            0.105882           0.041652   \n",
       "1               1.088889            0.976471           0.897275   \n",
       "2               1.944444            2.235294           6.465984   \n",
       "3              -0.255556           -0.211765          -0.131552   \n",
       "4              -0.255556           -0.211765          -0.131552   \n",
       "...                  ...                 ...                ...   \n",
       "7827           -0.311111           -0.258824          -0.154290   \n",
       "7828           -0.277778           -0.270588          -0.161208   \n",
       "7829           -0.311111           -0.258824          -0.154290   \n",
       "7830           -0.311111           -0.258824          -0.154290   \n",
       "7831           -0.311111           -0.258824          -0.154290   \n",
       "\n",
       "      remote_app_bytes  dns_query_times       type  \n",
       "0             0.029865             0.00     benign  \n",
       "1             1.787684             2.00     benign  \n",
       "2             1.831939             1.50     benign  \n",
       "3            -0.245310            -0.50     benign  \n",
       "4            -0.245919            -0.50     benign  \n",
       "...                ...              ...        ...  \n",
       "7827         -0.317647            -0.25  malicious  \n",
       "7828         -0.296868            -0.50  malicious  \n",
       "7829         -0.317647            -0.25  malicious  \n",
       "7830         -0.317647            -0.25  malicious  \n",
       "7831         -0.317647            -0.25  malicious  \n",
       "\n",
       "[7832 rows x 11 columns]"
      ]
     },
     "execution_count": 13,
     "metadata": {},
     "output_type": "execute_result"
    }
   ],
   "source": [
    "data\n"
   ]
  },
  {
   "cell_type": "code",
   "execution_count": 18,
   "id": "cd57cbbd",
   "metadata": {},
   "outputs": [],
   "source": [
    "X_train, X_test, y_train, y_test = train_test_split(data.iloc[:,0:10], data['type'], test_size=0.25, random_state=45)"
   ]
  },
  {
   "cell_type": "code",
   "execution_count": 19,
   "id": "c2fc424b",
   "metadata": {},
   "outputs": [
    {
     "data": {
      "text/plain": [
       "(1958, 10)"
      ]
     },
     "execution_count": 19,
     "metadata": {},
     "output_type": "execute_result"
    }
   ],
   "source": [
    "X_test.shape\n"
   ]
  },
  {
   "cell_type": "code",
   "execution_count": 21,
   "id": "723622ae",
   "metadata": {},
   "outputs": [
    {
     "data": {
      "text/plain": [
       "(1958,)"
      ]
     },
     "execution_count": 21,
     "metadata": {},
     "output_type": "execute_result"
    }
   ],
   "source": [
    "y_test.shape"
   ]
  },
  {
   "cell_type": "code",
   "execution_count": 28,
   "id": "0d980528",
   "metadata": {},
   "outputs": [
    {
     "name": "stdout",
     "output_type": "stream",
     "text": [
      "RandomForestClassifier(max_depth=50, n_estimators=250, random_state=45)\n",
      "0.9172625127681308\n",
      "              precision    recall  f1-score   support\n",
      "\n",
      "      benign       0.93      0.94      0.93      1190\n",
      "   malicious       0.90      0.88      0.89       768\n",
      "\n",
      "    accuracy                           0.92      1958\n",
      "   macro avg       0.91      0.91      0.91      1958\n",
      "weighted avg       0.92      0.92      0.92      1958\n",
      "\n"
     ]
    }
   ],
   "source": [
    "rdF=RandomForestClassifier(n_estimators=250, max_depth=50,random_state=45)\n",
    "rdF.fit(X_train,y_train)\n",
    "pred=rdF.predict(X_test)\n",
    "y_score=rdF.predict(X_test)\n",
    "#cm=confusion_matrix(y_test, pred)\n",
    "\n",
    "accuracy = accuracy_score(y_test,pred)\n",
    "print(rdF)\n",
    "print(accuracy)\n",
    "print(classification_report(y_test,pred, labels=None))\n",
    "\n",
    "#print(cm)"
   ]
  },
  {
   "cell_type": "code",
   "execution_count": 31,
   "id": "d60d48ea",
   "metadata": {},
   "outputs": [
    {
     "data": {
      "text/plain": [
       "['rfDefense2021.sav']"
      ]
     },
     "execution_count": 31,
     "metadata": {},
     "output_type": "execute_result"
    }
   ],
   "source": [
    "joblib.dump(rdF, 'rfDefense2021.sav')"
   ]
  },
  {
   "cell_type": "code",
   "execution_count": null,
   "id": "d945aed8",
   "metadata": {},
   "outputs": [],
   "source": []
  }
 ],
 "metadata": {
  "kernelspec": {
   "display_name": "Python 3",
   "language": "python",
   "name": "python3"
  },
  "language_info": {
   "codemirror_mode": {
    "name": "ipython",
    "version": 3
   },
   "file_extension": ".py",
   "mimetype": "text/x-python",
   "name": "python",
   "nbconvert_exporter": "python",
   "pygments_lexer": "ipython3",
   "version": "3.8.11"
  }
 },
 "nbformat": 4,
 "nbformat_minor": 5
}
