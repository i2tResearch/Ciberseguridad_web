{
 "cells": [
  {
   "cell_type": "markdown",
   "source": [
    "## Scan and find \n",
    "\n",
    "Busca en primer lugar las cantidades de variables, para luego encontrar el tipo de estas a partir de la consulta de un modelo victima."
   ],
   "metadata": {}
  },
  {
   "cell_type": "markdown",
   "source": [
    "## Load best model"
   ],
   "metadata": {}
  },
  {
   "cell_type": "code",
   "execution_count": 1,
   "source": [
    "import joblib as jb\n",
    "import numpy as np"
   ],
   "outputs": [],
   "metadata": {}
  },
  {
   "cell_type": "code",
   "execution_count": 2,
   "source": [
    "model=jb.load('rfDefense2021.sav')\n",
    "print(model)"
   ],
   "outputs": [
    {
     "output_type": "stream",
     "name": "stdout",
     "text": [
      "RandomForestClassifier(max_depth=50, n_estimators=250, random_state=45)\n"
     ]
    }
   ],
   "metadata": {}
  },
  {
   "cell_type": "code",
   "execution_count": 3,
   "source": [
    "datafake=np.array([[0]])"
   ],
   "outputs": [],
   "metadata": {}
  },
  {
   "cell_type": "code",
   "execution_count": 4,
   "source": [
    "try:\r\n",
    "    model.predict(datafake)\r\n",
    "except Exception as ex:\r\n",
    "    text = \"An exception of type {} occurred. Arguments:\\n{}\"\r\n",
    "    message = text.format(type(ex).__name__, ex.args)\r\n",
    "    print (message)"
   ],
   "outputs": [
    {
     "output_type": "stream",
     "name": "stdout",
     "text": [
      "An exception of type ValueError occurred. Arguments:\n",
      "('X has 1 features, but DecisionTreeClassifier is expecting 10 features as input.',)\n"
     ]
    }
   ],
   "metadata": {}
  },
  {
   "cell_type": "markdown",
   "source": [
    "ahora se testea el tipo de variables"
   ],
   "metadata": {}
  },
  {
   "cell_type": "code",
   "execution_count": 5,
   "source": [
    "datafake=np.array([[\"0\",\"0\",\"1\",\"0\",\"500\",0,0,0,0,0]])\r\n",
    "datafake.shape"
   ],
   "outputs": [
    {
     "output_type": "execute_result",
     "data": {
      "text/plain": [
       "(1, 10)"
      ]
     },
     "metadata": {},
     "execution_count": 5
    }
   ],
   "metadata": {}
  },
  {
   "cell_type": "code",
   "execution_count": 6,
   "source": [
    "try:\r\n",
    "    print(model.predict(datafake))\r\n",
    "except Exception as ex:\r\n",
    "    text = \"An exception of type {} occurred. Arguments:\\n{}\"\r\n",
    "    message = text.format(type(ex).__name__, ex.args)\r\n",
    "    print (message)"
   ],
   "outputs": [
    {
     "output_type": "stream",
     "name": "stdout",
     "text": [
      "['benign']\n"
     ]
    }
   ],
   "metadata": {}
  },
  {
   "cell_type": "markdown",
   "source": [
    "El modelo recibe datos numericos solamente aunque estos esten en formato string.\n",
    " reconoce el error de tipo cuando:\n",
    "- al menos una variable es string y contiene letras\n",
    "- todas las variables son string y son números\n",
    "\n",
    "no lo reconoce cuando:\n",
    "- hay enteros y string que contienen numeros\n"
   ],
   "metadata": {}
  },
  {
   "cell_type": "code",
   "execution_count": 28,
   "source": [
    "\r\n",
    "from itertools import product\r\n",
    "\r\n",
    "\r\n",
    "def bruteForce():   \r\n",
    "    nMax=14\r\n",
    "    numericValue=0\r\n",
    "    categoricalValue='word'\r\n",
    "    bruteTest=np.array([])\r\n",
    "    valuesPosible=[numericValue,categoricalValue]\r\n",
    "    result=''\r\n",
    "    \r\n",
    "        \r\n",
    "    for x in range(nMax):\r\n",
    "        \r\n",
    "        \r\n",
    "        bruteTest=np.append(bruteTest, categoricalValue)\r\n",
    "        bruteTestMix=np.copy(bruteTest)\r\n",
    "        \r\n",
    "        for y in product(valuesPosible, repeat=x):\r\n",
    "            \r\n",
    "            bruteTestMix=np.asarray(y)\r\n",
    "            print(bruteTestMix.shape)\r\n",
    "            print(bruteTestMix)\r\n",
    "            try:\r\n",
    "                \r\n",
    "                #print(model.predict(bruteTestMix.reshape(1,-1)))\r\n",
    "                result=model.predict(bruteTestMix.reshape(1,-1))\r\n",
    "                break\r\n",
    "                \r\n",
    "            except Exception as ex:\r\n",
    "                print ('fault')\r\n",
    "        \r\n",
    "            \r\n",
    "        if result!='':\r\n",
    "            return result\r\n",
    "       \r\n",
    "                    \r\n",
    "\r\n",
    "        \r\n",
    "        "
   ],
   "outputs": [],
   "metadata": {}
  },
  {
   "cell_type": "code",
   "execution_count": 30,
   "source": [
    "print(bruteForce())"
   ],
   "outputs": [
    {
     "output_type": "stream",
     "name": "stdout",
     "text": [
      "(0,)\n",
      "[]\n",
      "fault\n",
      "(1,)\n",
      "[0]\n",
      "fault\n",
      "(1,)\n",
      "['word']\n",
      "fault\n",
      "(2,)\n",
      "[0 0]\n",
      "fault\n",
      "(2,)\n",
      "['0' 'word']\n",
      "fault\n",
      "(2,)\n",
      "['word' '0']\n",
      "fault\n",
      "(2,)\n",
      "['word' 'word']\n",
      "fault\n",
      "(3,)\n",
      "[0 0 0]\n",
      "fault\n",
      "(3,)\n",
      "['0' '0' 'word']\n",
      "fault\n",
      "(3,)\n",
      "['0' 'word' '0']\n",
      "fault\n",
      "(3,)\n",
      "['0' 'word' 'word']\n",
      "fault\n",
      "(3,)\n",
      "['word' '0' '0']\n",
      "fault\n",
      "(3,)\n",
      "['word' '0' 'word']\n",
      "fault\n",
      "(3,)\n",
      "['word' 'word' '0']\n",
      "fault\n",
      "(3,)\n",
      "['word' 'word' 'word']\n",
      "fault\n",
      "None\n"
     ]
    }
   ],
   "metadata": {}
  },
  {
   "cell_type": "markdown",
   "source": [
    "Finalmente se obtiene un resultado aceptado por el modelo clasificatorio, una longitud de 10 variables de tipo numerico"
   ],
   "metadata": {}
  },
  {
   "cell_type": "markdown",
   "source": [
    "# Aleatoriedad"
   ],
   "metadata": {}
  },
  {
   "cell_type": "markdown",
   "source": [
    "En esta fase se explorará el modelo de clasificación de forma tal que se pueda encontrar un patrón que permita identificar algunos rango de valores en las distintas variables, en donde la retroalimentación varíe. Antes de considerar los casos anteriores en donde no necesariamente el valor de una variable cuantitativa debe ser de tipo numerico (dado que admite números en formato String), es necesario descubrir si estas variables cuantitativas son discretas o continuas"
   ],
   "metadata": {}
  }
 ],
 "metadata": {
  "interpreter": {
   "hash": "2aafba6fd41afbc37b2c539ff55e748439b864b56a5a196fba85a643518eef0d"
  },
  "kernelspec": {
   "name": "python3",
   "display_name": "Python 3.8.11 64-bit ('jupy': conda)"
  },
  "language_info": {
   "codemirror_mode": {
    "name": "ipython",
    "version": 3
   },
   "file_extension": ".py",
   "mimetype": "text/x-python",
   "name": "python",
   "nbconvert_exporter": "python",
   "pygments_lexer": "ipython3",
   "version": "3.8.11"
  }
 },
 "nbformat": 4,
 "nbformat_minor": 2
}