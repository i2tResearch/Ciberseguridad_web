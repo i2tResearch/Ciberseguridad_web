{
 "cells": [
  {
   "cell_type": "code",
   "execution_count": 1,
   "metadata": {},
   "outputs": [],
   "source": [
    "import pandas as pd\n",
    "import numpy as np\n",
    "import ast\n",
    "#import swifter"
   ]
  },
  {
   "cell_type": "code",
   "execution_count": 2,
   "metadata": {},
   "outputs": [],
   "source": [
    "facetime = pd.read_csv('./datasets/Benign/output-facetime.csv', header=0)\n",
    "bittorrent = pd.read_csv('./datasets/Benign/output-bittorrent.csv', header=0)\n",
    "wow = pd.read_csv('./datasets/Benign/output-wow.csv', header=0)\n",
    "weibo4 = pd.read_csv('./datasets/Benign/output-weibo4.csv', header=0)"
   ]
  },
  {
   "cell_type": "code",
   "execution_count": 3,
   "metadata": {},
   "outputs": [],
   "source": [
    "df = pd.concat([facetime,bittorrent,wow,weibo4],ignore_index=True)"
   ]
  },
  {
   "cell_type": "code",
   "execution_count": 4,
   "metadata": {},
   "outputs": [
    {
     "data": {
      "text/html": [
       "<div>\n",
       "<style scoped>\n",
       "    .dataframe tbody tr th:only-of-type {\n",
       "        vertical-align: middle;\n",
       "    }\n",
       "\n",
       "    .dataframe tbody tr th {\n",
       "        vertical-align: top;\n",
       "    }\n",
       "\n",
       "    .dataframe thead th {\n",
       "        text-align: right;\n",
       "    }\n",
       "</style>\n",
       "<table border=\"1\" class=\"dataframe\">\n",
       "  <thead>\n",
       "    <tr style=\"text-align: right;\">\n",
       "      <th></th>\n",
       "      <th>udps.n_bytes_per_packet</th>\n",
       "    </tr>\n",
       "  </thead>\n",
       "  <tbody>\n",
       "    <tr>\n",
       "      <th>0</th>\n",
       "      <td>[[87, 50, 173, 229, 228, 154, 168, 244, 68, 0,...</td>\n",
       "    </tr>\n",
       "    <tr>\n",
       "      <th>1</th>\n",
       "      <td>[[87, 125, 254, 175, 198, 190, 46, 47, 68, 0, ...</td>\n",
       "    </tr>\n",
       "    <tr>\n",
       "      <th>2</th>\n",
       "      <td>[[87, 50, 171, 97, 228, 154, 168, 244, 68, 0, ...</td>\n",
       "    </tr>\n",
       "    <tr>\n",
       "      <th>3</th>\n",
       "      <td>[[87, 55, 175, 17, 251, 78, 178, 239, 68, 0, 0...</td>\n",
       "    </tr>\n",
       "    <tr>\n",
       "      <th>4</th>\n",
       "      <td>[[87, 50, 176, 197, 228, 154, 168, 244, 68, 0,...</td>\n",
       "    </tr>\n",
       "  </tbody>\n",
       "</table>\n",
       "</div>"
      ],
      "text/plain": [
       "                             udps.n_bytes_per_packet\n",
       "0  [[87, 50, 173, 229, 228, 154, 168, 244, 68, 0,...\n",
       "1  [[87, 125, 254, 175, 198, 190, 46, 47, 68, 0, ...\n",
       "2  [[87, 50, 171, 97, 228, 154, 168, 244, 68, 0, ...\n",
       "3  [[87, 55, 175, 17, 251, 78, 178, 239, 68, 0, 0...\n",
       "4  [[87, 50, 176, 197, 228, 154, 168, 244, 68, 0,..."
      ]
     },
     "execution_count": 4,
     "metadata": {},
     "output_type": "execute_result"
    }
   ],
   "source": [
    "df.head()"
   ]
  },
  {
   "cell_type": "code",
   "execution_count": 5,
   "metadata": {},
   "outputs": [
    {
     "data": {
      "text/plain": [
       "(26335, 1)"
      ]
     },
     "execution_count": 5,
     "metadata": {},
     "output_type": "execute_result"
    }
   ],
   "source": [
    "df.shape"
   ]
  },
  {
   "cell_type": "code",
   "execution_count": 6,
   "metadata": {},
   "outputs": [],
   "source": [
    "df['udps.n_bytes_per_packet'] = df['udps.n_bytes_per_packet'].apply(ast.literal_eval)\n",
    "#df['udps.n_bytes_per_packet'] = df['udps.n_bytes_per_packet'].swifter.apply(ast.literal_eval)"
   ]
  },
  {
   "cell_type": "code",
   "execution_count": 7,
   "metadata": {},
   "outputs": [],
   "source": [
    "rows = np.vstack(df['udps.n_bytes_per_packet'])"
   ]
  },
  {
   "cell_type": "code",
   "execution_count": 8,
   "metadata": {},
   "outputs": [
    {
     "data": {
      "text/plain": [
       "(312249, 1024)"
      ]
     },
     "execution_count": 8,
     "metadata": {},
     "output_type": "execute_result"
    }
   ],
   "source": [
    "rows.shape"
   ]
  },
  {
   "cell_type": "code",
   "execution_count": 9,
   "metadata": {},
   "outputs": [],
   "source": [
    "means = np.mean(rows, axis=0)"
   ]
  },
  {
   "cell_type": "code",
   "execution_count": 10,
   "metadata": {},
   "outputs": [
    {
     "data": {
      "text/plain": [
       "1024"
      ]
     },
     "execution_count": 10,
     "metadata": {},
     "output_type": "execute_result"
    }
   ],
   "source": [
    "len(means)"
   ]
  },
  {
   "cell_type": "code",
   "execution_count": 11,
   "metadata": {},
   "outputs": [],
   "source": [
    "df_means = pd.DataFrame({'udps.n_bytes_per_packet': means})"
   ]
  },
  {
   "cell_type": "code",
   "execution_count": 12,
   "metadata": {},
   "outputs": [
    {
     "data": {
      "text/plain": [
       "<bound method NDFrame.head of       udps.n_bytes_per_packet\n",
       "0                   73.390992\n",
       "1                   74.119446\n",
       "2                   77.960410\n",
       "3                   75.565533\n",
       "4                   74.736896\n",
       "...                       ...\n",
       "1019                60.874456\n",
       "1020                58.364369\n",
       "1021                62.393766\n",
       "1022                59.731490\n",
       "1023                60.793588\n",
       "\n",
       "[1024 rows x 1 columns]>"
      ]
     },
     "execution_count": 12,
     "metadata": {},
     "output_type": "execute_result"
    }
   ],
   "source": [
    "df_means.head"
   ]
  },
  {
   "cell_type": "code",
   "execution_count": 13,
   "metadata": {},
   "outputs": [],
   "source": [
    "df_means = df_means.transpose()"
   ]
  },
  {
   "cell_type": "code",
   "execution_count": 16,
   "metadata": {},
   "outputs": [],
   "source": [
    "df_means.to_csv('datasets/benign_mean.csv' ,header=False,index=False)"
   ]
  },
  {
   "cell_type": "code",
   "execution_count": 15,
   "metadata": {},
   "outputs": [
    {
     "data": {
      "text/html": [
       "<div>\n",
       "<style scoped>\n",
       "    .dataframe tbody tr th:only-of-type {\n",
       "        vertical-align: middle;\n",
       "    }\n",
       "\n",
       "    .dataframe tbody tr th {\n",
       "        vertical-align: top;\n",
       "    }\n",
       "\n",
       "    .dataframe thead th {\n",
       "        text-align: right;\n",
       "    }\n",
       "</style>\n",
       "<table border=\"1\" class=\"dataframe\">\n",
       "  <thead>\n",
       "    <tr style=\"text-align: right;\">\n",
       "      <th></th>\n",
       "      <th>0</th>\n",
       "      <th>1</th>\n",
       "      <th>2</th>\n",
       "      <th>3</th>\n",
       "      <th>4</th>\n",
       "      <th>5</th>\n",
       "      <th>6</th>\n",
       "      <th>7</th>\n",
       "      <th>8</th>\n",
       "      <th>9</th>\n",
       "      <th>...</th>\n",
       "      <th>1014</th>\n",
       "      <th>1015</th>\n",
       "      <th>1016</th>\n",
       "      <th>1017</th>\n",
       "      <th>1018</th>\n",
       "      <th>1019</th>\n",
       "      <th>1020</th>\n",
       "      <th>1021</th>\n",
       "      <th>1022</th>\n",
       "      <th>1023</th>\n",
       "    </tr>\n",
       "  </thead>\n",
       "  <tbody>\n",
       "    <tr>\n",
       "      <th>udps.n_bytes_per_packet</th>\n",
       "      <td>73.390992</td>\n",
       "      <td>74.119446</td>\n",
       "      <td>77.96041</td>\n",
       "      <td>75.565533</td>\n",
       "      <td>74.736896</td>\n",
       "      <td>77.11757</td>\n",
       "      <td>75.348485</td>\n",
       "      <td>81.508472</td>\n",
       "      <td>70.839602</td>\n",
       "      <td>72.926767</td>\n",
       "      <td>...</td>\n",
       "      <td>58.903542</td>\n",
       "      <td>59.783634</td>\n",
       "      <td>62.44176</td>\n",
       "      <td>58.618708</td>\n",
       "      <td>59.83721</td>\n",
       "      <td>60.874456</td>\n",
       "      <td>58.364369</td>\n",
       "      <td>62.393766</td>\n",
       "      <td>59.73149</td>\n",
       "      <td>60.793588</td>\n",
       "    </tr>\n",
       "  </tbody>\n",
       "</table>\n",
       "<p>1 rows × 1024 columns</p>\n",
       "</div>"
      ],
      "text/plain": [
       "                              0          1         2          3          4     \\\n",
       "udps.n_bytes_per_packet  73.390992  74.119446  77.96041  75.565533  74.736896   \n",
       "\n",
       "                             5          6          7          8          9     \\\n",
       "udps.n_bytes_per_packet  77.11757  75.348485  81.508472  70.839602  72.926767   \n",
       "\n",
       "                         ...       1014       1015      1016       1017  \\\n",
       "udps.n_bytes_per_packet  ...  58.903542  59.783634  62.44176  58.618708   \n",
       "\n",
       "                             1018       1019       1020       1021      1022  \\\n",
       "udps.n_bytes_per_packet  59.83721  60.874456  58.364369  62.393766  59.73149   \n",
       "\n",
       "                              1023  \n",
       "udps.n_bytes_per_packet  60.793588  \n",
       "\n",
       "[1 rows x 1024 columns]"
      ]
     },
     "execution_count": 15,
     "metadata": {},
     "output_type": "execute_result"
    }
   ],
   "source": [
    "df_means.head()"
   ]
  }
 ],
 "metadata": {
  "kernelspec": {
   "display_name": "pdg",
   "language": "python",
   "name": "python3"
  },
  "language_info": {
   "codemirror_mode": {
    "name": "ipython",
    "version": 3
   },
   "file_extension": ".py",
   "mimetype": "text/x-python",
   "name": "python",
   "nbconvert_exporter": "python",
   "pygments_lexer": "ipython3",
   "version": "3.8.16"
  },
  "orig_nbformat": 4
 },
 "nbformat": 4,
 "nbformat_minor": 2
}
