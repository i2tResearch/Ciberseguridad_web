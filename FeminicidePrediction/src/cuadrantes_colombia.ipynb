{
  "cells": [
    {
      "cell_type": "code",
      "source": [
        "#!pip install geopandas\n",
        "#!pip install contextily\n",
        "#!pip list\n",
        "#!nvcc --version\n",
        "!nvidia-smi"
      ],
      "metadata": {
        "id": "851G2WQ-DUf8",
        "colab": {
          "base_uri": "https://localhost:8080/"
        },
        "outputId": "e8f68351-ddfa-493b-94a6-d0f6afb428c3"
      },
      "execution_count": null,
      "outputs": [
        {
          "output_type": "stream",
          "name": "stdout",
          "text": [
            "Wed May 31 17:33:28 2023       \n",
            "+-----------------------------------------------------------------------------+\n",
            "| NVIDIA-SMI 525.85.12    Driver Version: 525.85.12    CUDA Version: 12.0     |\n",
            "|-------------------------------+----------------------+----------------------+\n",
            "| GPU  Name        Persistence-M| Bus-Id        Disp.A | Volatile Uncorr. ECC |\n",
            "| Fan  Temp  Perf  Pwr:Usage/Cap|         Memory-Usage | GPU-Util  Compute M. |\n",
            "|                               |                      |               MIG M. |\n",
            "|===============================+======================+======================|\n",
            "|   0  Tesla T4            Off  | 00000000:00:04.0 Off |                    0 |\n",
            "| N/A   56C    P8    12W /  70W |      0MiB / 15360MiB |      0%      Default |\n",
            "|                               |                      |                  N/A |\n",
            "+-------------------------------+----------------------+----------------------+\n",
            "                                                                               \n",
            "+-----------------------------------------------------------------------------+\n",
            "| Processes:                                                                  |\n",
            "|  GPU   GI   CI        PID   Type   Process name                  GPU Memory |\n",
            "|        ID   ID                                                   Usage      |\n",
            "|=============================================================================|\n",
            "|  No running processes found                                                 |\n",
            "+-----------------------------------------------------------------------------+\n"
          ]
        }
      ]
    },
    {
      "cell_type": "code",
      "execution_count": null,
      "metadata": {
        "id": "XI16yAKJDPJv"
      },
      "outputs": [],
      "source": [
        "# Importaciones de bibliotecas estándar de Python\n",
        "from datetime import datetime, timedelta\n",
        "\n",
        "# Importaciones de bibliotecas de terceros\n",
        "#import geopandas as gpd\n",
        "import pandas as pd\n",
        "import os as os\n",
        "import numpy as np\n",
        "import traceback\n",
        "import os\n",
        "from shapely.geometry import box\n",
        "from shapely.ops import unary_union\n",
        "import matplotlib.pyplot as plt\n",
        "#import contextily as ctx\n",
        "import pandas as pd\n",
        "from pandas import Timestamp\n",
        "import unicodedata\n",
        "from PIL import Image\n",
        "from IPython.display import display\n",
        "import tensorflow as tf\n",
        "from tensorflow.python import keras\n",
        "from tensorflow.python.keras import layers, Model\n",
        "from tensorflow.python.keras.optimizers import adam_v2\n",
        "from tensorflow.python.keras.metrics import Mean\n",
        "from keras.losses import MeanSquaredError\n",
        "from google.colab import drive"
      ]
    },
    {
      "cell_type": "code",
      "execution_count": null,
      "metadata": {
        "colab": {
          "base_uri": "https://localhost:8080/"
        },
        "id": "if7y3aN8DPJw",
        "outputId": "6fe5d779-87ce-4cda-f5a4-a5a519e90d33"
      },
      "outputs": [
        {
          "output_type": "stream",
          "name": "stdout",
          "text": [
            "Drive already mounted at /content/drive; to attempt to forcibly remount, call drive.mount(\"/content/drive\", force_remount=True).\n"
          ]
        }
      ],
      "source": [
        "tf.config.list_physical_devices('GPU')\n",
        "drive.mount('/content/drive')"
      ]
    },
    {
      "cell_type": "code",
      "execution_count": null,
      "metadata": {
        "colab": {
          "base_uri": "https://localhost:8080/"
        },
        "id": "3Ij7N_twDPJw",
        "outputId": "5a23a9b5-4cb0-46c4-af22-34974fec3e0e"
      },
      "outputs": [
        {
          "output_type": "stream",
          "name": "stdout",
          "text": [
            "2.12.0\n"
          ]
        }
      ],
      "source": [
        "print(tf.__version__)"
      ]
    },
    {
      "cell_type": "code",
      "source": [
        "print(os.listdir('/content/drive/MyDrive/MGN2021_MPIO_POLITICO/weights/'))"
      ],
      "metadata": {
        "colab": {
          "base_uri": "https://localhost:8080/",
          "height": 166
        },
        "id": "q6UVxN4gegLY",
        "outputId": "217c037e-4106-4000-9232-dbed4fb32096"
      },
      "execution_count": null,
      "outputs": [
        {
          "output_type": "error",
          "ename": "FileNotFoundError",
          "evalue": "ignored",
          "traceback": [
            "\u001b[0;31m---------------------------------------------------------------------------\u001b[0m",
            "\u001b[0;31mFileNotFoundError\u001b[0m                         Traceback (most recent call last)",
            "\u001b[0;32m<ipython-input-8-57f3fc4fcc19>\u001b[0m in \u001b[0;36m<cell line: 1>\u001b[0;34m()\u001b[0m\n\u001b[0;32m----> 1\u001b[0;31m \u001b[0mprint\u001b[0m\u001b[0;34m(\u001b[0m\u001b[0mos\u001b[0m\u001b[0;34m.\u001b[0m\u001b[0mlistdir\u001b[0m\u001b[0;34m(\u001b[0m\u001b[0;34m'/content/drive/MyDrive/MGN2021_MPIO_POLITICO/weights/'\u001b[0m\u001b[0;34m)\u001b[0m\u001b[0;34m)\u001b[0m\u001b[0;34m\u001b[0m\u001b[0;34m\u001b[0m\u001b[0m\n\u001b[0m",
            "\u001b[0;31mFileNotFoundError\u001b[0m: [Errno 2] No such file or directory: '/content/drive/MyDrive/MGN2021_MPIO_POLITICO/weights/'"
          ]
        }
      ]
    },
    {
      "cell_type": "code",
      "execution_count": null,
      "metadata": {
        "colab": {
          "base_uri": "https://localhost:8080/"
        },
        "id": "eoQIQhn-DPJx",
        "outputId": "12d0da34-2252-4c88-ae46-0b846d45d876"
      },
      "outputs": [
        {
          "output_type": "stream",
          "name": "stdout",
          "text": [
            "Num GPUs Available:  1\n"
          ]
        }
      ],
      "source": [
        "print(\"Num GPUs Available: \", len(tf.config.list_physical_devices('GPU')))"
      ]
    },
    {
      "cell_type": "code",
      "execution_count": null,
      "metadata": {
        "colab": {
          "base_uri": "https://localhost:8080/",
          "height": 305
        },
        "id": "d57me8-ZDPJy",
        "outputId": "3655ae4a-7f76-4586-ae41-7884cd75f811"
      },
      "outputs": [
        {
          "output_type": "error",
          "ename": "AttributeError",
          "evalue": "ignored",
          "traceback": [
            "\u001b[0;31m---------------------------------------------------------------------------\u001b[0m",
            "\u001b[0;31mAttributeError\u001b[0m                            Traceback (most recent call last)",
            "\u001b[0;32m<ipython-input-13-60f31fa9d270>\u001b[0m in \u001b[0;36m<cell line: 1>\u001b[0;34m()\u001b[0m\n\u001b[0;32m----> 1\u001b[0;31m \u001b[0mgdf\u001b[0m\u001b[0;34m=\u001b[0m\u001b[0mpd\u001b[0m\u001b[0;34m.\u001b[0m\u001b[0mread_file\u001b[0m\u001b[0;34m(\u001b[0m\u001b[0;34m\"/content/drive/MyDrive/MGN2021_MPIO_POLITICO/MGN_MPIO_POLITICO.shp\"\u001b[0m\u001b[0;34m)\u001b[0m\u001b[0;34m\u001b[0m\u001b[0;34m\u001b[0m\u001b[0m\n\u001b[0m\u001b[1;32m      2\u001b[0m \u001b[0mgdf\u001b[0m\u001b[0;34m.\u001b[0m\u001b[0mhead\u001b[0m\u001b[0;34m(\u001b[0m\u001b[0;34m)\u001b[0m\u001b[0;34m\u001b[0m\u001b[0;34m\u001b[0m\u001b[0m\n",
            "\u001b[0;32m/usr/local/lib/python3.10/dist-packages/pandas/__init__.py\u001b[0m in \u001b[0;36m__getattr__\u001b[0;34m(name)\u001b[0m\n\u001b[1;32m    262\u001b[0m         \u001b[0;32mreturn\u001b[0m \u001b[0m_SparseArray\u001b[0m\u001b[0;34m\u001b[0m\u001b[0;34m\u001b[0m\u001b[0m\n\u001b[1;32m    263\u001b[0m \u001b[0;34m\u001b[0m\u001b[0m\n\u001b[0;32m--> 264\u001b[0;31m     \u001b[0;32mraise\u001b[0m \u001b[0mAttributeError\u001b[0m\u001b[0;34m(\u001b[0m\u001b[0;34mf\"module 'pandas' has no attribute '{name}'\"\u001b[0m\u001b[0;34m)\u001b[0m\u001b[0;34m\u001b[0m\u001b[0;34m\u001b[0m\u001b[0m\n\u001b[0m\u001b[1;32m    265\u001b[0m \u001b[0;34m\u001b[0m\u001b[0m\n\u001b[1;32m    266\u001b[0m \u001b[0;34m\u001b[0m\u001b[0m\n",
            "\u001b[0;31mAttributeError\u001b[0m: module 'pandas' has no attribute 'read_file'"
          ]
        }
      ],
      "source": [
        "gdf=pd.read_file(\"/content/drive/MyDrive/MGN2021_MPIO_POLITICO/MGN_MPIO_POLITICO.shp\")\n",
        "gdf.head()"
      ]
    },
    {
      "cell_type": "code",
      "execution_count": null,
      "metadata": {
        "id": "qsoWhTLDDPJz"
      },
      "outputs": [],
      "source": [
        "def remove_accents_and_uppercase(text):\n",
        "    if not isinstance(text, str):\n",
        "        return text\n",
        "\n",
        "    text = ''.join(c for c in unicodedata.normalize('NFD', text) if unicodedata.category(c) != 'Mn')\n",
        "    return text.upper()"
      ]
    },
    {
      "cell_type": "code",
      "execution_count": null,
      "metadata": {
        "colab": {
          "base_uri": "https://localhost:8080/",
          "height": 206
        },
        "id": "oTonaRcNDPJz",
        "outputId": "f8487ce2-07d5-4e06-f3c9-6b2407f4d963"
      },
      "outputs": [
        {
          "output_type": "execute_result",
          "data": {
            "text/plain": [
              "  DPTO_CCDGO MPIO_CCDGO MPIO_CDPMP DPTO_CNMBR  MPIO_CNMBR  \\\n",
              "0         05        001      05001  ANTIOQUIA    MEDELLIN   \n",
              "1         05        002      05002  ANTIOQUIA   ABEJORRAL   \n",
              "2         05        004      05004  ANTIOQUIA    ABRIAQUI   \n",
              "3         05        021      05021  ANTIOQUIA  ALEJANDRIA   \n",
              "4         05        030      05030  ANTIOQUIA       AMAGA   \n",
              "\n",
              "                          MPIO_CRSLC  MPIO_NAREA MPIO_CSMBL  MPIO_VGNC  \\\n",
              "0                               1965  374.812877          4       2021   \n",
              "1                               1814  507.141095          4       2021   \n",
              "2                               1912  296.894050          4       2021   \n",
              "3  Decreto departamental 304 de 1907  128.932153          4       2021   \n",
              "4                               1912   84.132675          4       2021   \n",
              "\n",
              "   MPIO_TIPO  Shape_Leng  Shape_Area  \\\n",
              "0  MUNICIPIO    1.032546    0.030606   \n",
              "1  MUNICIPIO    1.158504    0.041384   \n",
              "2  MUNICIPIO    0.812183    0.024248   \n",
              "3  MUNICIPIO    0.705200    0.010535   \n",
              "4  MUNICIPIO    0.445241    0.006867   \n",
              "\n",
              "                                            geometry  \n",
              "0  POLYGON ((-75.66974 6.37360, -75.66965 6.37360...  \n",
              "1  POLYGON ((-75.46938 5.94575, -75.46897 5.94571...  \n",
              "2  POLYGON ((-76.08351 6.75050, -76.08325 6.75048...  \n",
              "3  POLYGON ((-75.03320 6.41586, -75.03313 6.41585...  \n",
              "4  POLYGON ((-75.67587 6.08561, -75.67540 6.08491...  "
            ],
            "text/html": [
              "\n",
              "  <div id=\"df-c7ec5ee5-252b-43c2-939f-48f02b49c6ac\">\n",
              "    <div class=\"colab-df-container\">\n",
              "      <div>\n",
              "<style scoped>\n",
              "    .dataframe tbody tr th:only-of-type {\n",
              "        vertical-align: middle;\n",
              "    }\n",
              "\n",
              "    .dataframe tbody tr th {\n",
              "        vertical-align: top;\n",
              "    }\n",
              "\n",
              "    .dataframe thead th {\n",
              "        text-align: right;\n",
              "    }\n",
              "</style>\n",
              "<table border=\"1\" class=\"dataframe\">\n",
              "  <thead>\n",
              "    <tr style=\"text-align: right;\">\n",
              "      <th></th>\n",
              "      <th>DPTO_CCDGO</th>\n",
              "      <th>MPIO_CCDGO</th>\n",
              "      <th>MPIO_CDPMP</th>\n",
              "      <th>DPTO_CNMBR</th>\n",
              "      <th>MPIO_CNMBR</th>\n",
              "      <th>MPIO_CRSLC</th>\n",
              "      <th>MPIO_NAREA</th>\n",
              "      <th>MPIO_CSMBL</th>\n",
              "      <th>MPIO_VGNC</th>\n",
              "      <th>MPIO_TIPO</th>\n",
              "      <th>Shape_Leng</th>\n",
              "      <th>Shape_Area</th>\n",
              "      <th>geometry</th>\n",
              "    </tr>\n",
              "  </thead>\n",
              "  <tbody>\n",
              "    <tr>\n",
              "      <th>0</th>\n",
              "      <td>05</td>\n",
              "      <td>001</td>\n",
              "      <td>05001</td>\n",
              "      <td>ANTIOQUIA</td>\n",
              "      <td>MEDELLIN</td>\n",
              "      <td>1965</td>\n",
              "      <td>374.812877</td>\n",
              "      <td>4</td>\n",
              "      <td>2021</td>\n",
              "      <td>MUNICIPIO</td>\n",
              "      <td>1.032546</td>\n",
              "      <td>0.030606</td>\n",
              "      <td>POLYGON ((-75.66974 6.37360, -75.66965 6.37360...</td>\n",
              "    </tr>\n",
              "    <tr>\n",
              "      <th>1</th>\n",
              "      <td>05</td>\n",
              "      <td>002</td>\n",
              "      <td>05002</td>\n",
              "      <td>ANTIOQUIA</td>\n",
              "      <td>ABEJORRAL</td>\n",
              "      <td>1814</td>\n",
              "      <td>507.141095</td>\n",
              "      <td>4</td>\n",
              "      <td>2021</td>\n",
              "      <td>MUNICIPIO</td>\n",
              "      <td>1.158504</td>\n",
              "      <td>0.041384</td>\n",
              "      <td>POLYGON ((-75.46938 5.94575, -75.46897 5.94571...</td>\n",
              "    </tr>\n",
              "    <tr>\n",
              "      <th>2</th>\n",
              "      <td>05</td>\n",
              "      <td>004</td>\n",
              "      <td>05004</td>\n",
              "      <td>ANTIOQUIA</td>\n",
              "      <td>ABRIAQUI</td>\n",
              "      <td>1912</td>\n",
              "      <td>296.894050</td>\n",
              "      <td>4</td>\n",
              "      <td>2021</td>\n",
              "      <td>MUNICIPIO</td>\n",
              "      <td>0.812183</td>\n",
              "      <td>0.024248</td>\n",
              "      <td>POLYGON ((-76.08351 6.75050, -76.08325 6.75048...</td>\n",
              "    </tr>\n",
              "    <tr>\n",
              "      <th>3</th>\n",
              "      <td>05</td>\n",
              "      <td>021</td>\n",
              "      <td>05021</td>\n",
              "      <td>ANTIOQUIA</td>\n",
              "      <td>ALEJANDRIA</td>\n",
              "      <td>Decreto departamental 304 de 1907</td>\n",
              "      <td>128.932153</td>\n",
              "      <td>4</td>\n",
              "      <td>2021</td>\n",
              "      <td>MUNICIPIO</td>\n",
              "      <td>0.705200</td>\n",
              "      <td>0.010535</td>\n",
              "      <td>POLYGON ((-75.03320 6.41586, -75.03313 6.41585...</td>\n",
              "    </tr>\n",
              "    <tr>\n",
              "      <th>4</th>\n",
              "      <td>05</td>\n",
              "      <td>030</td>\n",
              "      <td>05030</td>\n",
              "      <td>ANTIOQUIA</td>\n",
              "      <td>AMAGA</td>\n",
              "      <td>1912</td>\n",
              "      <td>84.132675</td>\n",
              "      <td>4</td>\n",
              "      <td>2021</td>\n",
              "      <td>MUNICIPIO</td>\n",
              "      <td>0.445241</td>\n",
              "      <td>0.006867</td>\n",
              "      <td>POLYGON ((-75.67587 6.08561, -75.67540 6.08491...</td>\n",
              "    </tr>\n",
              "  </tbody>\n",
              "</table>\n",
              "</div>\n",
              "      <button class=\"colab-df-convert\" onclick=\"convertToInteractive('df-c7ec5ee5-252b-43c2-939f-48f02b49c6ac')\"\n",
              "              title=\"Convert this dataframe to an interactive table.\"\n",
              "              style=\"display:none;\">\n",
              "        \n",
              "  <svg xmlns=\"http://www.w3.org/2000/svg\" height=\"24px\"viewBox=\"0 0 24 24\"\n",
              "       width=\"24px\">\n",
              "    <path d=\"M0 0h24v24H0V0z\" fill=\"none\"/>\n",
              "    <path d=\"M18.56 5.44l.94 2.06.94-2.06 2.06-.94-2.06-.94-.94-2.06-.94 2.06-2.06.94zm-11 1L8.5 8.5l.94-2.06 2.06-.94-2.06-.94L8.5 2.5l-.94 2.06-2.06.94zm10 10l.94 2.06.94-2.06 2.06-.94-2.06-.94-.94-2.06-.94 2.06-2.06.94z\"/><path d=\"M17.41 7.96l-1.37-1.37c-.4-.4-.92-.59-1.43-.59-.52 0-1.04.2-1.43.59L10.3 9.45l-7.72 7.72c-.78.78-.78 2.05 0 2.83L4 21.41c.39.39.9.59 1.41.59.51 0 1.02-.2 1.41-.59l7.78-7.78 2.81-2.81c.8-.78.8-2.07 0-2.86zM5.41 20L4 18.59l7.72-7.72 1.47 1.35L5.41 20z\"/>\n",
              "  </svg>\n",
              "      </button>\n",
              "      \n",
              "  <style>\n",
              "    .colab-df-container {\n",
              "      display:flex;\n",
              "      flex-wrap:wrap;\n",
              "      gap: 12px;\n",
              "    }\n",
              "\n",
              "    .colab-df-convert {\n",
              "      background-color: #E8F0FE;\n",
              "      border: none;\n",
              "      border-radius: 50%;\n",
              "      cursor: pointer;\n",
              "      display: none;\n",
              "      fill: #1967D2;\n",
              "      height: 32px;\n",
              "      padding: 0 0 0 0;\n",
              "      width: 32px;\n",
              "    }\n",
              "\n",
              "    .colab-df-convert:hover {\n",
              "      background-color: #E2EBFA;\n",
              "      box-shadow: 0px 1px 2px rgba(60, 64, 67, 0.3), 0px 1px 3px 1px rgba(60, 64, 67, 0.15);\n",
              "      fill: #174EA6;\n",
              "    }\n",
              "\n",
              "    [theme=dark] .colab-df-convert {\n",
              "      background-color: #3B4455;\n",
              "      fill: #D2E3FC;\n",
              "    }\n",
              "\n",
              "    [theme=dark] .colab-df-convert:hover {\n",
              "      background-color: #434B5C;\n",
              "      box-shadow: 0px 1px 3px 1px rgba(0, 0, 0, 0.15);\n",
              "      filter: drop-shadow(0px 1px 2px rgba(0, 0, 0, 0.3));\n",
              "      fill: #FFFFFF;\n",
              "    }\n",
              "  </style>\n",
              "\n",
              "      <script>\n",
              "        const buttonEl =\n",
              "          document.querySelector('#df-c7ec5ee5-252b-43c2-939f-48f02b49c6ac button.colab-df-convert');\n",
              "        buttonEl.style.display =\n",
              "          google.colab.kernel.accessAllowed ? 'block' : 'none';\n",
              "\n",
              "        async function convertToInteractive(key) {\n",
              "          const element = document.querySelector('#df-c7ec5ee5-252b-43c2-939f-48f02b49c6ac');\n",
              "          const dataTable =\n",
              "            await google.colab.kernel.invokeFunction('convertToInteractive',\n",
              "                                                     [key], {});\n",
              "          if (!dataTable) return;\n",
              "\n",
              "          const docLinkHtml = 'Like what you see? Visit the ' +\n",
              "            '<a target=\"_blank\" href=https://colab.research.google.com/notebooks/data_table.ipynb>data table notebook</a>'\n",
              "            + ' to learn more about interactive tables.';\n",
              "          element.innerHTML = '';\n",
              "          dataTable['output_type'] = 'display_data';\n",
              "          await google.colab.output.renderOutput(dataTable, element);\n",
              "          const docLink = document.createElement('div');\n",
              "          docLink.innerHTML = docLinkHtml;\n",
              "          element.appendChild(docLink);\n",
              "        }\n",
              "      </script>\n",
              "    </div>\n",
              "  </div>\n",
              "  "
            ]
          },
          "metadata": {},
          "execution_count": 85
        }
      ],
      "source": [
        "columnas_a_transformar_colombia = [\"DPTO_CNMBR\", \"MPIO_CNMBR\"]\n",
        "gdf[columnas_a_transformar_colombia]=gdf[columnas_a_transformar_colombia].applymap(remove_accents_and_uppercase)\n",
        "gdf.head()"
      ]
    },
    {
      "cell_type": "code",
      "execution_count": null,
      "metadata": {
        "id": "vhsXLXmaDPJ0",
        "colab": {
          "base_uri": "https://localhost:8080/",
          "height": 183
        },
        "outputId": "9a697b19-a5ff-456b-bf79-15b1b3eb8e23"
      },
      "outputs": [
        {
          "output_type": "error",
          "ename": "NameError",
          "evalue": "ignored",
          "traceback": [
            "\u001b[0;31m---------------------------------------------------------------------------\u001b[0m",
            "\u001b[0;31mNameError\u001b[0m                                 Traceback (most recent call last)",
            "\u001b[0;32m<ipython-input-16-54c544901b43>\u001b[0m in \u001b[0;36m<cell line: 1>\u001b[0;34m()\u001b[0m\n\u001b[0;32m----> 1\u001b[0;31m \u001b[0mgdf\u001b[0m \u001b[0;34m=\u001b[0m \u001b[0mgdf\u001b[0m\u001b[0;34m.\u001b[0m\u001b[0mto_crs\u001b[0m\u001b[0;34m(\u001b[0m\u001b[0;34m'EPSG:3857'\u001b[0m\u001b[0;34m)\u001b[0m\u001b[0;34m\u001b[0m\u001b[0;34m\u001b[0m\u001b[0m\n\u001b[0m\u001b[1;32m      2\u001b[0m \u001b[0mgdf\u001b[0m\u001b[0;34m[\u001b[0m\u001b[0;34m'latitud'\u001b[0m\u001b[0;34m]\u001b[0m \u001b[0;34m=\u001b[0m \u001b[0mgdf\u001b[0m\u001b[0;34m[\u001b[0m\u001b[0;34m'geometry'\u001b[0m\u001b[0;34m]\u001b[0m\u001b[0;34m.\u001b[0m\u001b[0mcentroid\u001b[0m\u001b[0;34m.\u001b[0m\u001b[0my\u001b[0m\u001b[0;34m\u001b[0m\u001b[0;34m\u001b[0m\u001b[0m\n",
            "\u001b[0;31mNameError\u001b[0m: name 'gdf' is not defined"
          ]
        }
      ],
      "source": [
        "gdf = gdf.to_crs('EPSG:3857')\n",
        "gdf['latitud'] = gdf['geometry'].centroid.y"
      ]
    },
    {
      "cell_type": "code",
      "execution_count": null,
      "metadata": {
        "id": "jtZmh1StDPJ0"
      },
      "outputs": [],
      "source": [
        "gdf_sorted = gdf.sort_values('latitud', ascending=False)"
      ]
    },
    {
      "cell_type": "code",
      "execution_count": null,
      "metadata": {
        "id": "_HFsXjj7DPJ0"
      },
      "outputs": [],
      "source": [
        "gdf_sorted = gdf_sorted.reset_index(drop=True)"
      ]
    },
    {
      "cell_type": "code",
      "execution_count": null,
      "metadata": {
        "id": "QzSqAIOGDPJ0",
        "outputId": "71cd8f6e-4c69-413f-b41b-6abe5df5d5ad",
        "colab": {
          "base_uri": "https://localhost:8080/",
          "height": 166
        }
      },
      "outputs": [
        {
          "output_type": "error",
          "ename": "NameError",
          "evalue": "ignored",
          "traceback": [
            "\u001b[0;31m---------------------------------------------------------------------------\u001b[0m",
            "\u001b[0;31mNameError\u001b[0m                                 Traceback (most recent call last)",
            "\u001b[0;32m<ipython-input-15-334f785e9934>\u001b[0m in \u001b[0;36m<cell line: 1>\u001b[0;34m()\u001b[0m\n\u001b[0;32m----> 1\u001b[0;31m \u001b[0mgdf_sorted\u001b[0m\u001b[0;34m.\u001b[0m\u001b[0mhead\u001b[0m\u001b[0;34m(\u001b[0m\u001b[0;34m)\u001b[0m\u001b[0;34m\u001b[0m\u001b[0;34m\u001b[0m\u001b[0m\n\u001b[0m",
            "\u001b[0;31mNameError\u001b[0m: name 'gdf_sorted' is not defined"
          ]
        }
      ],
      "source": [
        "gdf_sorted.head()"
      ]
    },
    {
      "cell_type": "code",
      "execution_count": null,
      "metadata": {
        "id": "ZT6COJ3vDPJ0",
        "outputId": "2a6e7fe5-5490-4956-d442-ce0c3a9d040e",
        "colab": {
          "base_uri": "https://localhost:8080/"
        }
      },
      "outputs": [
        {
          "output_type": "execute_result",
          "data": {
            "text/plain": [
              "1121"
            ]
          },
          "metadata": {},
          "execution_count": 90
        }
      ],
      "source": [
        "len(gdf_sorted)"
      ]
    },
    {
      "cell_type": "code",
      "execution_count": null,
      "metadata": {
        "id": "YJcUktLSDPJ1",
        "outputId": "4e05d839-2998-4cc3-bb28-a8fd0e801e80",
        "colab": {
          "base_uri": "https://localhost:8080/"
        }
      },
      "outputs": [
        {
          "output_type": "execute_result",
          "data": {
            "text/plain": [
              "1121"
            ]
          },
          "metadata": {},
          "execution_count": 91
        }
      ],
      "source": [
        "municipio_a_indice = {(row['DPTO_CNMBR'], row['MPIO_CNMBR']): i for i, row in gdf_sorted.iterrows()}\n",
        "len(municipio_a_indice)"
      ]
    },
    {
      "cell_type": "code",
      "execution_count": null,
      "metadata": {
        "id": "jttaiQ6iDPJ1"
      },
      "outputs": [],
      "source": [
        "indice_a_municipio = {indice: municipio for municipio, indice in municipio_a_indice.items()}\n",
        "municipios = [indice_a_municipio[i] for i in range(len(indice_a_municipio))]\n"
      ]
    },
    {
      "cell_type": "code",
      "execution_count": null,
      "metadata": {
        "id": "BTTGvJoDDPJ1",
        "outputId": "ecdf062a-8848-4ab1-979b-60cc5dba41de",
        "colab": {
          "base_uri": "https://localhost:8080/"
        }
      },
      "outputs": [
        {
          "output_type": "stream",
          "name": "stdout",
          "text": [
            "[('ARCHIPIELAGO DE SAN ANDRES, PROVIDENCIA Y SANTA CATALINA', 'PROVIDENCIA'), ('ARCHIPIELAGO DE SAN ANDRES, PROVIDENCIA Y SANTA CATALINA', 'SAN ANDRES'), ('LA GUAJIRA', 'URIBIA'), ('LA GUAJIRA', 'MANAURE'), ('LA GUAJIRA', 'MAICAO'), ('LA GUAJIRA', 'RIOHACHA'), ('LA GUAJIRA', 'ALBANIA'), ('MAGDALENA', 'SANTA MARTA'), ('LA GUAJIRA', 'HATONUEVO'), ('LA GUAJIRA', 'DIBULLA'), ('ATLANTICO', 'PUERTO COLOMBIA'), ('LA GUAJIRA', 'BARRANCAS'), ('ATLANTICO', 'BARRANQUILLA'), ('LA GUAJIRA', 'DISTRACCION'), ('ATLANTICO', 'TUBARA'), ('ATLANTICO', 'SOLEDAD'), ('ATLANTICO', 'GALAPA'), ('MAGDALENA', 'SITIONUEVO'), ('MAGDALENA', 'CIENAGA'), ('ATLANTICO', 'MALAMBO'), ('MAGDALENA', 'PUEBLOVIEJO'), ('LA GUAJIRA', 'FONSECA'), ('ATLANTICO', 'JUAN DE ACOSTA'), ('LA GUAJIRA', 'SAN JUAN DEL CESAR'), ('ATLANTICO', 'SABANAGRANDE'), ('MAGDALENA', 'ZONA BANANERA'), ('ATLANTICO', 'BARANOA'), ('ATLANTICO', 'POLONUEVO'), ('ATLANTICO', 'SANTO TOMAS'), ('ATLANTICO', 'PIOJO'), ('ATLANTICO', 'USIACURI'), ('ATLANTICO', 'PALMAR DE VARELA'), ('MAGDALENA', 'EL RETEN'), ('BOLIVAR', 'SANTA CATALINA'), ('MAGDALENA', 'REMOLINO'), ('MAGDALENA', 'ARACATACA'), ('LA GUAJIRA', 'EL MOLINO'), ('ATLANTICO', 'LURUACO'), ('ATLANTICO', 'SABANALARGA'), ('ATLANTICO', 'PONEDERA'), ('LA GUAJIRA', 'VILLANUEVA'), ('BOLIVAR', 'CLEMENCIA'), ('MAGDALENA', 'SALAMINA'), ('ATLANTICO', 'REPELON'), ('LA GUAJIRA', 'URUMITA'), ('ATLANTICO', 'CANDELARIA'), ('BOLIVAR', 'SANTA ROSA'), ('CESAR', 'PUEBLO BELLO'), ('MAGDALENA', 'FUNDACION'), ('LA GUAJIRA', 'LA JAGUA DEL PILAR'), ('ATLANTICO', 'MANATI'), ('BOLIVAR', 'CARTAGENA DE INDIAS'), ('BOLIVAR', 'VILLANUEVA'), ('MAGDALENA', 'PIVIJAY'), ('ATLANTICO', 'CAMPO DE LA CRUZ'), ('CESAR', 'MANAURE BALCON DEL CESAR'), ('CESAR', 'VALLEDUPAR'), ('BOLIVAR', 'SAN CRISTOBAL'), ('BOLIVAR', 'SAN ESTANISLAO'), ('ATLANTICO', 'SANTA LUCIA'), ('BOLIVAR', 'TURBACO'), ('MAGDALENA', 'EL PINON'), ('BOLIVAR', 'SOPLAVIENTO'), ('ATLANTICO', 'SUAN'), ('MAGDALENA', 'CERRO DE SAN ANTONIO'), ('MAGDALENA', 'ALGARROBO'), ('BOLIVAR', 'ARROYOHONDO'), ('MAGDALENA', 'CONCORDIA'), ('BOLIVAR', 'CALAMAR'), ('BOLIVAR', 'TURBANA'), ('CESAR', 'EL COPEY'), ('BOLIVAR', 'MAHATES'), ('CESAR', 'SAN DIEGO'), ('BOLIVAR', 'ARJONA'), ('CESAR', 'LA PAZ'), ('MAGDALENA', 'PEDRAZA'), ('MAGDALENA', 'ZAPAYAN'), ('MAGDALENA', 'SABANAS DE SAN ANGEL'), ('MAGDALENA', 'CHIVOLO'), ('BOLIVAR', 'EL GUAMO'), ('BOLIVAR', 'MARIA LA BAJA'), ('BOLIVAR', 'SAN JUAN NEPOMUCENO'), ('CESAR', 'AGUSTIN CODAZZI'), ('CESAR', 'BOSCONIA'), ('MAGDALENA', 'TENERIFE'), ('BOLIVAR', 'SAN JACINTO'), ('MAGDALENA', 'ARIGUANI'), ('SUCRE', 'SAN ONOFRE'), ('MAGDALENA', 'PLATO'), ('BOLIVAR', 'ZAMBRANO'), ('MAGDALENA', 'NUEVA GRANADA'), ('CESAR', 'BECERRIL'), ('BOLIVAR', 'EL CARMEN DE BOLIVAR'), ('CESAR', 'EL PASO'), ('SUCRE', 'CHALAN'), ('CESAR', 'LA JAGUA DE IBIRICO'), ('SUCRE', 'OVEJAS'), ('BOLIVAR', 'CORDOBA'), ('SUCRE', 'SANTIAGO DE TOLU'), ('MAGDALENA', 'PIJINO DEL CARMEN'), ('SUCRE', 'COLOSO'), ('MAGDALENA', 'SANTA BARBARA DE PINTO'), ('MAGDALENA', 'SANTA ANA'), ('CESAR', 'ASTREA'), ('SUCRE', 'SAN JOSE DE TOLUVIEJO'), ('CESAR', 'CHIRIGUANA'), ('SUCRE', 'LOS PALMITOS'), ('SUCRE', 'SAN PEDRO'), ('SUCRE', 'COVENAS'), ('SUCRE', 'MORROA'), ('CORDOBA', 'SAN ANTERO'), ('MAGDALENA', 'SAN SEBASTIAN DE BUENAVISTA'), ('SUCRE', 'PALMITO'), ('CORDOBA', 'SAN BERNARDO DEL VIENTO'), ('MAGDALENA', 'SAN ZENON'), ('SUCRE', 'BUENAVISTA'), ('SUCRE', 'SINCELEJO'), ('BOLIVAR', 'TALAIGUA NUEVO'), ('SUCRE', 'SAN JUAN DE BETULIA'), ('CORDOBA', 'PURISIMA DE LA CONCEPCION'), ('CORDOBA', 'MOMIL'), ('SUCRE', 'SAN LUIS DE SINCE'), ('MAGDALENA', 'GUAMAL'), ('CESAR', 'CURUMANI'), ('BOLIVAR', 'CICUCO'), ('CORDOBA', 'TUCHIN'), ('CESAR', 'CHIMICHAGUA'), ('SUCRE', 'COROZAL'), ('CORDOBA', 'MONITOS'), ('BOLIVAR', 'MAGANGUE'), ('SUCRE', 'SAMPUES'), ('CORDOBA', 'LORICA'), ('BOLIVAR', 'SANTA CRUZ DE MOMPOX'), ('SUCRE', 'GALERAS'), ('CORDOBA', 'SAN ANDRES DE SOTAVENTO'), ('MAGDALENA', 'EL BANCO'), ('CORDOBA', 'CHIMA'), ('BOLIVAR', 'SAN FERNANDO'), ('SUCRE', 'EL ROBLE'), ('CORDOBA', 'COTORRA'), ('BOLIVAR', 'MARGARITA'), ('CORDOBA', 'CHINU'), ('CORDOBA', 'PUERTO ESCONDIDO'), ('CORDOBA', 'SAN PELAYO'), ('BOLIVAR', 'HATILLO DE LOBA'), ('CESAR', 'PAILITAS'), ('CESAR', 'TAMALAMEQUE'), ('CORDOBA', 'CERETE'), ('NORTE DE SANTANDER', 'CONVENCION'), ('BOLIVAR', 'PINILLOS'), ('NORTE DE SANTANDER', 'EL CARMEN'), ('BOLIVAR', 'EL PENON'), ('CORDOBA', 'CIENAGA DE ORO'), ('CORDOBA', 'LOS CORDOBAS'), ('BOLIVAR', 'BARRANCO DE LOBA'), ('SUCRE', 'SAN BENITO ABAD'), ('SUCRE', 'SUCRE'), ('SUCRE', 'LA UNION'), ('CORDOBA', 'SAHAGUN'), ('SUCRE', 'CAIMITO'), ('BOLIVAR', 'SAN MARTIN DE LOBA'), ('CESAR', 'PELAYA'), ('NORTE DE SANTANDER', 'TEORAMA'), ('BOLIVAR', 'ALTOS DEL ROSARIO'), ('CORDOBA', 'CANALETE'), ('BOLIVAR', 'REGIDOR'), ('NORTE DE SANTANDER', 'TIBU'), ('ANTIOQUIA', 'SAN JUAN DE URABA'), ('CORDOBA', 'SAN CARLOS'), ('NORTE DE SANTANDER', 'EL TARRA'), ('BOLIVAR', 'ACHI'), ('CESAR', 'LA GLORIA'), ('ANTIOQUIA', 'ARBOLETES'), ('SUCRE', 'SAN MARCOS'), ('CORDOBA', 'MONTERIA'), ('SUCRE', 'MAJAGUAL'), ('BOLIVAR', 'NOROSI'), ('ANTIOQUIA', 'NECOCLI'), ('BOLIVAR', 'RIO VIEJO'), ('BOLIVAR', 'TIQUISIO'), ('CORDOBA', 'PUEBLO NUEVO'), ('NORTE DE SANTANDER', 'SAN CALIXTO'), ('CHOCO', 'ACANDI'), ('CESAR', 'GONZALEZ'), ('SUCRE', 'GUARANDA'), ('ANTIOQUIA', 'SAN PEDRO DE URABA'), ('NORTE DE SANTANDER', 'HACARI'), ('BOLIVAR', 'ARENAL'), ('CESAR', 'GAMARRA'), ('NORTE DE SANTANDER', 'PUERTO SANTANDER'), ('CORDOBA', 'PLANETA RICA'), ('CORDOBA', 'AYAPEL'), ('NORTE DE SANTANDER', 'SARDINATA'), ('NORTE DE SANTANDER', 'LA PLAYA'), ('BOLIVAR', 'MORALES'), ('CESAR', 'AGUACHICA'), ('BOLIVAR', 'SAN JACINTO DEL CAUCA'), ('NORTE DE SANTANDER', 'OCANA'), ('CORDOBA', 'VALENCIA'), ('CESAR', 'RIO DE ORO'), ('CORDOBA', 'BUENAVISTA'), ('CHOCO', 'UNGUIA'), ('NORTE DE SANTANDER', 'SAN JOSE DE CUCUTA'), ('NORTE DE SANTANDER', 'EL ZULIA'), ('NORTE DE SANTANDER', 'BUCARASICA'), ('CORDOBA', 'LA APARTADA'), ('NORTE DE SANTANDER', 'ABREGO'), ('BOLIVAR', 'MONTECRISTO'), ('ANTIOQUIA', 'TURBO'), ('ANTIOQUIA', 'NECHI'), ('NORTE DE SANTANDER', 'LOURDES'), ('CESAR', 'SAN MARTIN'), ('NORTE DE SANTANDER', 'VILLA CARO'), ('NORTE DE SANTANDER', 'GRAMALOTE'), ('ANTIOQUIA', 'APARTADO'), ('NORTE DE SANTANDER', 'SANTIAGO'), ('CORDOBA', 'MONTELIBANO'), ('ANTIOQUIA', 'CAUCASIA'), ('BOLIVAR', 'SIMITI'), ('NORTE DE SANTANDER', 'SAN CAYETANO'), ('CESAR', 'SAN ALBERTO'), ('CORDOBA', 'TIERRALTA'), ('ANTIOQUIA', 'CAREPA'), ('NORTE DE SANTANDER', 'SALAZAR'), ('BOLIVAR', 'SANTA ROSA DEL SUR'), ('NORTE DE SANTANDER', 'VILLA DEL ROSARIO'), ('CORDOBA', 'SAN JOSE DE URE'), ('NORTE DE SANTANDER', 'DURANIA'), ('NORTE DE SANTANDER', 'LOS PATIOS'), ('CORDOBA', 'PUERTO LIBERTADOR'), ('ANTIOQUIA', 'EL BAGRE'), ('NORTE DE SANTANDER', 'LA ESPERANZA'), ('NORTE DE SANTANDER', 'CACHIRA'), ('ANTIOQUIA', 'CACERES'), ('NORTE DE SANTANDER', 'BOCHALEMA'), ('ANTIOQUIA', 'CHIGORODO'), ('NORTE DE SANTANDER', 'ARBOLEDAS'), ('NORTE DE SANTANDER', 'RAGONVALIA'), ('NORTE DE SANTANDER', 'CHINACOTA'), ('SANTANDER', 'PUERTO WILCHES'), ('SANTANDER', 'EL PLAYON'), ('NORTE DE SANTANDER', 'CUCUTILLA'), ('NORTE DE SANTANDER', 'HERRAN'), ('ANTIOQUIA', 'TARAZA'), ('NORTE DE SANTANDER', 'PAMPLONITA'), ('SANTANDER', 'SURATA'), ('SANTANDER', 'RIONEGRO'), ('ANTIOQUIA', 'ZARAGOZA'), ('BOLIVAR', 'SAN PABLO'), ('SANTANDER', 'SABANA DE TORRES'), ('CHOCO', 'RIOSUCIO'), ('NORTE DE SANTANDER', 'PAMPLONA'), ('SANTANDER', 'CALIFORNIA'), ('SANTANDER', 'MATANZA'), ('ANTIOQUIA', 'MUTATA'), ('SANTANDER', 'VETAS'), ('NORTE DE SANTANDER', 'MUTISCUA'), ('ANTIOQUIA', 'ITUANGO'), ('NORTE DE SANTANDER', 'CACOTA'), ('ANTIOQUIA', 'SEGOVIA'), ('NORTE DE SANTANDER', 'LABATECA'), ('ANTIOQUIA', 'VALDIVIA'), ('SANTANDER', 'CHARTA'), ('BOLIVAR', 'CANTAGALLO'), ('NORTE DE SANTANDER', 'TOLEDO'), ('SANTANDER', 'LEBRIJA'), ('ANTIOQUIA', 'ANORI'), ('NORTE DE SANTANDER', 'SILOS'), ('SANTANDER', 'TONA'), ('SANTANDER', 'BUCARAMANGA'), ('ANTIOQUIA', 'BRICENO'), ('CHOCO', 'JURADO'), ('SANTANDER', 'FLORIDABLANCA'), ('SANTANDER', 'BARRANCABERMEJA'), ('NORTE DE SANTANDER', 'CHITAGA'), ('ANTIOQUIA', 'PEQUE'), ('SANTANDER', 'GIRON'), ('ANTIOQUIA', 'CAMPAMENTO'), ('CHOCO', 'CARMEN DEL DARIEN'), ('ANTIOQUIA', 'TOLEDO'), ('SANTANDER', 'BETULIA'), ('ANTIOQUIA', 'REMEDIOS'), ('ANTIOQUIA', 'DABEIBA'), ('SANTANDER', 'SANTA BARBARA'), ('ANTIOQUIA', 'YARUMAL'), ('ANTIOQUIA', 'AMALFI'), ('SANTANDER', 'PIEDECUESTA'), ('SANTANDER', 'GUACA'), ('ANTIOQUIA', 'YONDO'), ('ANTIOQUIA', 'SAN ANDRES DE CUERQUIA'), ('ANTIOQUIA', 'URAMITA'), ('ARAUCA', 'SARAVENA'), ('SANTANDER', 'CERRITO'), ('ANTIOQUIA', 'SABANALARGA'), ('SANTANDER', 'SAN VICENTE DE CHUCURI'), ('BOYACA', 'CUBARA'), ('ANTIOQUIA', 'GUADALUPE'), ('ANTIOQUIA', 'ANGOSTURA'), ('ANTIOQUIA', 'VEGACHI'), ('SANTANDER', 'ZAPATOCA'), ('ANTIOQUIA', 'MURINDO'), ('ANTIOQUIA', 'SAN JOSE DE LA MONTANA'), ('ANTIOQUIA', 'CANASGORDAS'), ('SANTANDER', 'LOS SANTOS'), ('ANTIOQUIA', 'BURITICA'), ('ARAUCA', 'ARAUQUITA'), ('SANTANDER', 'SAN ANDRES'), ('ARAUCA', 'ARAUCA'), ('SANTANDER', 'CONCEPCION'), ('ANTIOQUIA', 'CAROLINA'), ('SANTANDER', 'CEPITA'), ('ANTIOQUIA', 'LIBORINA'), ('SANTANDER', 'MALAGA'), ('ANTIOQUIA', 'YALI'), ('SANTANDER', 'ARATOCA'), ('SANTANDER', 'JORDAN'), ('ANTIOQUIA', 'GOMEZ PLATA'), ('ARAUCA', 'FORTUL'), ('ANTIOQUIA', 'FRONTINO'), ('BOYACA', 'CHISCAS'), ('SANTANDER', 'VILLANUEVA'), ('SANTANDER', 'PUERTO PARRA'), ('ANTIOQUIA', 'SANTA ROSA DE OSOS'), ('SANTANDER', 'GALAN'), ('SANTANDER', 'EL CARMEN DE CHUCURI'), ('ANTIOQUIA', 'GIRALDO'), ('SANTANDER', 'CARCASI'), ('SANTANDER', 'ENCISO'), ('ANTIOQUIA', 'BELMIRA'), ('SANTANDER', 'SIMACOTA'), ('SANTANDER', 'BARICHARA'), ('ANTIOQUIA', 'YOLOMBO'), ('SANTANDER', 'MOLAGAVITA'), ('SANTANDER', 'SAN JOSE DE MIRANDA'), ('ANTIOQUIA', 'ABRIAQUI'), ('SANTANDER', 'CURITI'), ('ANTIOQUIA', 'OLAYA'), ('ANTIOQUIA', 'ENTRERRIOS'), ('SANTANDER', 'SAN MIGUEL'), ('BOYACA', 'GUICAN DE LA SIERRA'), ('SANTANDER', 'CABRERA'), ('SANTANDER', 'HATO'), ('SANTANDER', 'SAN GIL'), ('ANTIOQUIA', 'CISNEROS'), ('ANTIOQUIA', 'SANTA FE DE ANTIOQUIA'), ('ANTIOQUIA', 'MACEO'), ('SANTANDER', 'PALMAR'), ('SANTANDER', 'CAPITANEJO'), ('ANTIOQUIA', 'SOPETRAN'), ('BOYACA', 'COVARACHIA'), ('SANTANDER', 'PINCHOTE'), ('SANTANDER', 'MACARAVITA'), ('BOYACA', 'EL ESPINO'), ('ANTIOQUIA', 'DONMATIAS'), ('SANTANDER', 'MOGOTES'), ('ANTIOQUIA', 'PUERTO BERRIO'), ('ANTIOQUIA', 'SANTO DOMINGO'), ('CHOCO', 'BOJAYA'), ('SANTANDER', 'SOCORRO'), ('SANTANDER', 'SAN JOAQUIN'), ('ANTIOQUIA', 'SAN PEDRO DE LOS MILAGROS'), ('ANTIOQUIA', 'VIGIA DEL FUERTE'), ('ANTIOQUIA', 'SAN ROQUE'), ('BOYACA', 'GUACAMAYAS'), ('ANTIOQUIA', 'BARBOSA'), ('BOYACA', 'PANQUEBA'), ('ANTIOQUIA', 'SAN JERONIMO'), ('SANTANDER', 'VALLE DE SAN JOSE'), ('ANTIOQUIA', 'CAICEDO'), ('BOYACA', 'TIPACOQUE'), ('SANTANDER', 'PARAMO'), ('ARAUCA', 'PUERTO RONDON'), ('SANTANDER', 'CIMITARRA'), ('SANTANDER', 'SANTA HELENA DEL OPON'), ('BOYACA', 'SAN MATEO'), ('SANTANDER', 'PALMAS DEL SOCORRO'), ('ARAUCA', 'TAME'), ('ANTIOQUIA', 'GIRARDOTA'), ('ANTIOQUIA', 'CONCEPCION'), ('SANTANDER', 'CHIMA'), ('ANTIOQUIA', 'ALEJANDRIA'), ('ANTIOQUIA', 'BELLO'), ('SANTANDER', 'CONFINES'), ('SANTANDER', 'OCAMONTE'), ('BOYACA', 'EL COCUY'), ('ANTIOQUIA', 'COPACABANA'), ('ARAUCA', 'CRAVO NORTE'), ('ANTIOQUIA', 'CARACOLI'), ('BOYACA', 'BOAVITA'), ('ANTIOQUIA', 'URRAO'), ('SANTANDER', 'ONZAGA'), ('SANTANDER', 'LANDAZURI'), ('ANTIOQUIA', 'EBEJICO'), ('BOYACA', 'SOATA'), ('SANTANDER', 'GUAPOTA'), ('ANTIOQUIA', 'SAN RAFAEL'), ('ANTIOQUIA', 'SAN VICENTE FERRER'), ('ANTIOQUIA', 'ANZA'), ('SANTANDER', 'CONTRATACION'), ('CHOCO', 'BAHIA SOLANO'), ('ANTIOQUIA', 'GUARNE'), ('BOYACA', 'LA UVITA'), ('ANTIOQUIA', 'MEDELLIN'), ('SANTANDER', 'EL GUACAMAYO'), ('ANTIOQUIA', 'GUATAPE'), ('SANTANDER', 'COROMORO'), ('SANTANDER', 'GUADALUPE'), ('ANTIOQUIA', 'PENOL'), ('SANTANDER', 'OIBA'), ('SANTANDER', 'VELEZ'), ('SANTANDER', 'LA PAZ'), ('BOYACA', 'SUSACON'), ('ANTIOQUIA', 'HELICONIA'), ('SANTANDER', 'CHARALA'), ('ANTIOQUIA', 'SAN CARLOS'), ('ANTIOQUIA', 'BETULIA'), ('ANTIOQUIA', 'MARINILLA'), ('SANTANDER', 'AGUADA'), ('ANTIOQUIA', 'ITAGUI'), ('CASANARE', 'LA SALINA'), ('ANTIOQUIA', 'ARMENIA'), ('ANTIOQUIA', 'ENVIGADO'), ('ANTIOQUIA', 'RIONEGRO'), ('BOYACA', 'JERICO'), ('ANTIOQUIA', 'SABANETA'), ('ANTIOQUIA', 'LA ESTRELLA'), ('BOYACA', 'SATIVANORTE'), ('ANTIOQUIA', 'PUERTO NARE'), ('ANTIOQUIA', 'EL SANTUARIO'), ('ANTIOQUIA', 'GRANADA'), ('ANTIOQUIA', 'ANGELOPOLIS'), ('SANTANDER', 'SUAITA'), ('CASANARE', 'HATO COROZAL'), ('SANTANDER', 'SAN BENITO'), ('SANTANDER', 'EL PENON'), ('SANTANDER', 'BOLIVAR'), ('BOYACA', 'CHITA'), ('SANTANDER', 'ENCINO'), ('BOYACA', 'TUTAZA'), ('BOYACA', 'SATIVASUR'), ('SANTANDER', 'CHIPATA'), ('ANTIOQUIA', 'TITIRIBI'), ('BOYACA', 'SANTANA'), ('ANTIOQUIA', 'CONCORDIA'), ('ANTIOQUIA', 'CALDAS'), ('ANTIOQUIA', 'RETIRO'), ('CASANARE', 'SACAMA'), ('CHOCO', 'MEDIO ATRATO'), ('SANTANDER', 'GUEPSA'), ('ANTIOQUIA', 'AMAGA'), ('BOYACA', 'PAZ DE RIO'), ('ANTIOQUIA', 'SAN LUIS'), ('ANTIOQUIA', 'COCORNA'), ('BOYACA', 'BELEN'), ('BOYACA', 'SAN JOSE DE PARE'), ('ANTIOQUIA', 'LA CEJA'), ('BOYACA', 'CHITARAQUE'), ('SANTANDER', 'SUCRE'), ('ANTIOQUIA', 'EL CARMEN DE VIBORAL'), ('ANTIOQUIA', 'SALGAR'), ('BOYACA', 'CERINZA'), ('BOYACA', 'SOCHA'), ('ANTIOQUIA', 'VENECIA'), ('SANTANDER', 'BARBOSA'), ('ANTIOQUIA', 'PUERTO TRIUNFO'), ('BOYACA', 'PUERTO BOYACA'), ('SANTANDER', 'GUAVATA'), ('ANTIOQUIA', 'LA UNION'), ('CHOCO', 'QUIBDO'), ('BOYACA', 'SOCOTA'), ('SANTANDER', 'GAMBITA'), ('BOYACA', 'TOGUI'), ('BOYACA', 'BETEITIVA'), ('ANTIOQUIA', 'MONTEBELLO'), ('SANTANDER', 'LA BELLEZA'), ('BOYACA', 'SANTA ROSA DE VITERBO'), ('BOYACA', 'DUITAMA'), ('ANTIOQUIA', 'FREDONIA'), ('BOYACA', 'TASCO'), ('ANTIOQUIA', 'SAN FRANCISCO'), ('ANTIOQUIA', 'SANTA BARBARA'), ('CASANARE', 'TAMARA'), ('ANTIOQUIA', 'TARSO'), ('BOYACA', 'MONIQUIRA'), ('BOYACA', 'FLORESTA'), ('SANTANDER', 'JESUS MARIA'), ('BOYACA', 'BUSBANZA'), ('ANTIOQUIA', 'CIUDAD BOLIVAR'), ('VICHADA', 'PUERTO CARRENO'), ('SANTANDER', 'PUENTE NACIONAL'), ('BOYACA', 'PAIPA'), ('BOYACA', 'CORRALES'), ('CHOCO', 'EL CARMEN DE ATRATO'), ('ANTIOQUIA', 'PUEBLORRICO'), ('ANTIOQUIA', 'ABEJORRAL'), ('BOYACA', 'GAMEZA'), ('SANTANDER', 'FLORIAN'), ('ANTIOQUIA', 'HISPANIA'), ('BOYACA', 'SOTAQUIRA'), ('CASANARE', 'PAZ DE ARIPORO'), ('BOYACA', 'NOBSA'), ('SANTANDER', 'ALBANIA'), ('ANTIOQUIA', 'JERICO'), ('BOYACA', 'TOPAGA'), ('ANTIOQUIA', 'SONSON'), ('BOYACA', 'OTANCHE'), ('BOYACA', 'ARCABUCO'), ('BOYACA', 'TIBASOSA'), ('ANTIOQUIA', 'LA PINTADA'), ('BOYACA', 'GACHANTIVA'), ('BOYACA', 'PISBA'), ('BOYACA', 'SANTA SOFIA'), ('ANTIOQUIA', 'BETANIA'), ('BOYACA', 'TUNUNGUA'), ('BOYACA', 'MONGUA'), ('ANTIOQUIA', 'ARGELIA'), ('BOYACA', 'SABOYA'), ('BOYACA', 'MONGUI'), ('CHOCO', 'NUQUI'), ('BOYACA', 'PAUNA'), ('BOYACA', 'COMBITA'), ('BOYACA', 'SAN PABLO DE BORBUR'), ('BOYACA', 'BRICENO'), ('ANTIOQUIA', 'TAMESIS'), ('BOYACA', 'FIRAVITOBA'), ('BOYACA', 'TUTA'), ('BOYACA', 'SOGAMOSO'), ('BOYACA', 'VILLA DE LEYVA'), ('CASANARE', 'PORE'), ('ANTIOQUIA', 'VALPARAISO'), ('BOYACA', 'CHIQUIZA'), ('BOYACA', 'SUTAMARCHAN'), ('CALDAS', 'NORCASIA'), ('CHOCO', 'ALTO BAUDO'), ('ANTIOQUIA', 'ANDES'), ('BOYACA', 'CHIQUINQUIRA'), ('BOYACA', 'PAYA'), ('CUNDINAMARCA', 'PUERTO SALGAR'), ('BOYACA', 'IZA'), ('BOYACA', 'OICATA'), ('BOYACA', 'MOTAVITA'), ('CALDAS', 'AGUADAS'), ('CUNDINAMARCA', 'YACOPI'), ('BOYACA', 'CUITIVA'), ('CHOCO', 'LLORO'), ('ANTIOQUIA', 'NARINO'), ('BOYACA', 'SORA'), ('BOYACA', 'TOCA'), ('BOYACA', 'TINJACA'), ('BOYACA', 'CALDAS'), ('ANTIOQUIA', 'JARDIN'), ('BOYACA', 'SACHICA'), ('BOYACA', 'MARIPI'), ('CHOCO', 'RIO QUITO'), ('BOYACA', 'CHIVATA'), ('BOYACA', 'QUIPAMA'), ('CHOCO', 'ATRATO'), ('ANTIOQUIA', 'CARAMANTA'), ('BOYACA', 'LABRANZAGRANDE'), ('CALDAS', 'LA DORADA'), ('CALDAS', 'SAMANA'), ('BOYACA', 'SAN MIGUEL DE SEMA'), ('CASANARE', 'NUNCHIA'), ('BOYACA', 'CUCAITA'), ('BOYACA', 'MUZO'), ('BOYACA', 'TUNJA'), ('VICHADA', 'LA PRIMAVERA'), ('BOYACA', 'LA VICTORIA'), ('CUNDINAMARCA', 'SIMIJACA'), ('CHOCO', 'BAGADO'), ('CALDAS', 'PACORA'), ('BOYACA', 'SIACHOQUE'), ('BOYACA', 'PESCA'), ('BOYACA', 'RAQUIRA'), ('BOYACA', 'SORACA'), ('CALDAS', 'MARMATO'), ('BOYACA', 'BUENAVISTA'), ('BOYACA', 'TOTA'), ('BOYACA', 'SAMACA'), ('CALDAS', 'SUPIA'), ('CALDAS', 'VICTORIA'), ('BOYACA', 'COPER'), ('CALDAS', 'RIOSUCIO'), ('BOYACA', 'VIRACACHA'), ('CUNDINAMARCA', 'SUSA'), ('BOYACA', 'BOYACA'), ('BOYACA', 'AQUITANIA'), ('CUNDINAMARCA', 'FUQUENE'), ('RISARALDA', 'MISTRATO'), ('CALDAS', 'PENSILVANIA'), ('CALDAS', 'LA MERCED'), ('BOYACA', 'CIENEGA'), ('CHOCO', 'CERTEGUI'), ('CUNDINAMARCA', 'PAIME'), ('CUNDINAMARCA', 'GUACHETA'), ('BOYACA', 'VENTAQUEMADA'), ('BOYACA', 'PAJARITO'), ('CUNDINAMARCA', 'CAPARRAPI'), ('BOYACA', 'RONDON'), ('BOYACA', 'JENESANO'), ('CALDAS', 'SALAMINA'), ('CASANARE', 'TRINIDAD'), ('CHOCO', 'EL CANTON DEL SAN PABLO'), ('CUNDINAMARCA', 'TOPAIPI'), ('BOYACA', 'NUEVO COLON'), ('CUNDINAMARCA', 'CARMEN DE CARUPA'), ('CUNDINAMARCA', 'LA PALMA'), ('RISARALDA', 'QUINCHIA'), ('RISARALDA', 'GUATICA'), ('BOYACA', 'RAMIRIQUI'), ('CUNDINAMARCA', 'VILLA DE SAN DIEGO DE UBATE'), ('CUNDINAMARCA', 'SAN CAYETANO'), ('CALDAS', 'MARQUETALIA'), ('BOYACA', 'TURMEQUE'), ('CUNDINAMARCA', 'LENGUAZAQUE'), ('BOYACA', 'TIBANA'), ('RISARALDA', 'PUEBLO RICO'), ('CALDAS', 'FILADELFIA'), ('BOYACA', 'ZETAQUIRA'), ('CHOCO', 'UNION PANAMERICANA'), ('CUNDINAMARCA', 'VILLAGOMEZ'), ('CHOCO', 'TADO'), ('CALDAS', 'ARANZAZU'), ('CASANARE', 'RECETOR'), ('CUNDINAMARCA', 'EL PENON'), ('CUNDINAMARCA', 'SUTATAUSA'), ('CASANARE', 'YOPAL'), ('CALDAS', 'MARULANDA'), ('TOLIMA', 'SAN SEBASTIAN DE MARIQUITA'), ('BOYACA', 'SAN EDUARDO'), ('CALDAS', 'MANZANARES'), ('BOYACA', 'BERBEO'), ('CASANARE', 'SAN LUIS DE PALENQUE'), ('CUNDINAMARCA', 'CUCUNUBA'), ('CASANARE', 'CHAMEZA'), ('CUNDINAMARCA', 'VILLAPINZON'), ('BOYACA', 'UMBITA'), ('CUNDINAMARCA', 'LA PENA'), ('BOYACA', 'CHINAVITA'), ('RISARALDA', 'BELEN DE UMBRIA'), ('CALDAS', 'ANSERMA'), ('CUNDINAMARCA', 'TAUSA'), ('CUNDINAMARCA', 'UTICA'), ('TOLIMA', 'FRESNO'), ('CALDAS', 'NEIRA'), ('TOLIMA', 'HONDA'), ('CUNDINAMARCA', 'GUADUAS'), ('CHOCO', 'RIO IRO'), ('CUNDINAMARCA', 'PACHO'), ('BOYACA', 'MIRAFLORES'), ('BOYACA', 'PACHAVITA'), ('RISARALDA', 'APIA'), ('CUNDINAMARCA', 'SUESCA'), ('CUNDINAMARCA', 'NIMAIMA'), ('CUNDINAMARCA', 'VERGARA'), ('CASANARE', 'AGUAZUL'), ('CUNDINAMARCA', 'CHOCONTA'), ('BOYACA', 'LA CAPILLA'), ('CALDAS', 'RISARALDA'), ('CHOCO', 'MEDIO BAUDO'), ('CUNDINAMARCA', 'COGUA'), ('CUNDINAMARCA', 'QUEBRADANEGRA'), ('BOYACA', 'PAEZ'), ('TOLIMA', 'PALOCABILDO'), ('CUNDINAMARCA', 'NEMOCON'), ('BOYACA', 'GARAGOA'), ('CUNDINAMARCA', 'TIBIRITA'), ('CALDAS', 'MANIZALES'), ('TOLIMA', 'FALAN'), ('CHOCO', 'CONDOTO'), ('BOYACA', 'TENZA'), ('CALDAS', 'SAN JOSE'), ('TOLIMA', 'HERVEO'), ('CUNDINAMARCA', 'NOCAIMA'), ('CUNDINAMARCA', 'SUPATA'), ('CALDAS', 'PALESTINA'), ('CALDAS', 'VITERBO'), ('CUNDINAMARCA', 'ZIPAQUIRA'), ('RISARALDA', 'SANTUARIO'), ('CUNDINAMARCA', 'MACHETA'), ('BOYACA', 'SUTATENZA'), ('TOLIMA', 'CASABIANCA'), ('BOYACA', 'GUATEQUE'), ('CHOCO', 'BAJO BAUDO'), ('CUNDINAMARCA', 'VILLETA'), ('CUNDINAMARCA', 'GACHANCIPA'), ('CUNDINAMARCA', 'SESQUILE'), ('BOYACA', 'CAMPOHERMOSO'), ('TOLIMA', 'ARMERO'), ('CALDAS', 'BELALCAZAR'), ('RISARALDA', 'LA CELIA'), ('CALDAS', 'CHINCHINA'), ('BOYACA', 'MACANAL'), ('CUNDINAMARCA', 'LA VEGA'), ('CUNDINAMARCA', 'MANTA'), ('BOYACA', 'SOMONDOCO'), ('CUNDINAMARCA', 'SUBACHOQUE'), ('CUNDINAMARCA', 'TOCANCIPA'), ('VICHADA', 'SANTA ROSALIA'), ('TOLIMA', 'VILLAHERMOSA'), ('CUNDINAMARCA', 'SAN FRANCISCO'), ('CHOCO', 'SAN JOSE DEL PALMAR'), ('BOYACA', 'ALMEIDA'), ('CUNDINAMARCA', 'CHAGUANI'), ('CUNDINAMARCA', 'TABIO'), ('CUNDINAMARCA', 'SASAIMA'), ('RISARALDA', 'MARSELLA'), ('CALDAS', 'VILLAMARIA'), ('BOYACA', 'GUAYATA'), ('CUNDINAMARCA', 'CAJICA'), ('RISARALDA', 'BALBOA'), ('VALLE DEL CAUCA', 'EL AGUILA'), ('CASANARE', 'OROCUE'), ('CUNDINAMARCA', 'GUATAVITA'), ('RISARALDA', 'LA VIRGINIA'), ('CUNDINAMARCA', 'ALBAN'), ('CUNDINAMARCA', 'VIANI'), ('CUNDINAMARCA', 'SOPO'), ('CUNDINAMARCA', 'EL ROSAL'), ('CUNDINAMARCA', 'GUAYABAL DE SIQUIMA'), ('TOLIMA', 'LIBANO'), ('BOYACA', 'CHIVOR'), ('CUNDINAMARCA', 'GACHETA'), ('TOLIMA', 'LERIDA'), ('CUNDINAMARCA', 'CHIA'), ('CHOCO', 'NOVITA'), ('CUNDINAMARCA', 'BITUIMA'), ('RISARALDA', 'DOSQUEBRADAS'), ('CASANARE', 'MONTERREY'), ('CUNDINAMARCA', 'SAN JUAN DE RIOSECO'), ('CUNDINAMARCA', 'TENJO'), ('CUNDINAMARCA', 'FACATATIVA'), ('RISARALDA', 'SANTA ROSA DE CABAL'), ('TOLIMA', 'MURILLO'), ('TOLIMA', 'AMBALEMA'), ('BOYACA', 'SANTA MARIA'), ('BOYACA', 'SAN LUIS DE GACENO'), ('CHOCO', 'MEDIO SAN JUAN'), ('CASANARE', 'SABANALARGA'), ('CUNDINAMARCA', 'GUASCA'), ('VALLE DEL CAUCA', 'ANSERMANUEVO'), ('CUNDINAMARCA', 'ANOLAIMA'), ('CUNDINAMARCA', 'COTA'), ('RISARALDA', 'PEREIRA'), ('CUNDINAMARCA', 'MADRID'), ('CUNDINAMARCA', 'UBALA'), ('VALLE DEL CAUCA', 'EL CAIRO'), ('CUNDINAMARCA', 'ZIPACON'), ('CUNDINAMARCA', 'FUNZA'), ('CHOCO', 'ISTMINA'), ('TOLIMA', 'SANTA ISABEL'), ('CUNDINAMARCA', 'GAMA'), ('CUNDINAMARCA', 'CACHIPAY'), ('CUNDINAMARCA', 'BELTRAN'), ('CUNDINAMARCA', 'QUIPILE'), ('TOLIMA', 'VENADILLO'), ('VALLE DEL CAUCA', 'ULLOA'), ('VALLE DEL CAUCA', 'CARTAGO'), ('CUNDINAMARCA', 'JUNIN'), ('VALLE DEL CAUCA', 'ARGELIA'), ('CUNDINAMARCA', 'LA CALERA'), ('CASANARE', 'TAURAMENA'), ('CUNDINAMARCA', 'BOJACA'), ('CUNDINAMARCA', 'PULI'), ('VALLE DEL CAUCA', 'ALCALA'), ('CASANARE', 'MANI'), ('CUNDINAMARCA', 'MOSQUERA'), ('QUINDIO', 'FILANDIA'), ('CUNDINAMARCA', 'GACHALA'), ('CUNDINAMARCA', 'TENA'), ('CUNDINAMARCA', 'LA MESA'), ('VALLE DEL CAUCA', 'TORO'), ('TOLIMA', 'ANZOATEGUI'), ('VALLE DEL CAUCA', 'VERSALLES'), ('QUINDIO', 'SALENTO'), ('QUINDIO', 'QUIMBAYA'), ('QUINDIO', 'CIRCASIA'), ('CUNDINAMARCA', 'SAN ANTONIO DEL TEQUENDAMA'), ('VALLE DEL CAUCA', 'OBANDO'), ('CHOCO', 'SIPI'), ('CUNDINAMARCA', 'CHOACHI'), ('TOLIMA', 'ALVARADO'), ('CUNDINAMARCA', 'JERUSALEN'), ('CUNDINAMARCA', 'ANAPOIMA'), ('CUNDINAMARCA', 'EL COLEGIO'), ('VALLE DEL CAUCA', 'EL DOVIO'), ('VALLE DEL CAUCA', 'LA UNION'), ('CUNDINAMARCA', 'SOACHA'), ('CUNDINAMARCA', 'FOMEQUE'), ('CASANARE', 'VILLANUEVA'), ('CUNDINAMARCA', 'GRANADA'), ('QUINDIO', 'MONTENEGRO'), ('CUNDINAMARCA', 'APULO'), ('META', 'BARRANCA DE UPIA'), ('CUNDINAMARCA', 'GUATAQUI'), ('CUNDINAMARCA', 'UBAQUE'), ('QUINDIO', 'ARMENIA'), ('TOLIMA', 'PIEDRAS'), ('CUNDINAMARCA', 'MEDINA'), ('VALLE DEL CAUCA', 'LA VICTORIA'), ('META', 'SAN JUANITO'), ('QUINDIO', 'CALARCA'), ('CUNDINAMARCA', 'SIBATE'), ('CUNDINAMARCA', 'PARATEBUENO'), ('CUNDINAMARCA', 'TOCAIMA'), ('TOLIMA', 'IBAGUE'), ('VALLE DEL CAUCA', 'ROLDANILLO'), ('CUNDINAMARCA', 'SILVANIA'), ('CUNDINAMARCA', 'VIOTA'), ('QUINDIO', 'LA TEBAIDA'), ('CUNDINAMARCA', 'CHIPAQUE'), ('CUNDINAMARCA', 'NARINO'), ('TOLIMA', 'CAJAMARCA'), ('CUNDINAMARCA', 'CAQUEZA'), ('QUINDIO', 'CORDOBA'), ('CUNDINAMARCA', 'AGUA DE DIOS'), ('QUINDIO', 'BUENAVISTA'), ('VALLE DEL CAUCA', 'BOLIVAR'), ('TOLIMA', 'COELLO'), ('VALLE DEL CAUCA', 'ZARZAL'), ('META', 'EL CALVARIO'), ('CUNDINAMARCA', 'GIRARDOT'), ('CUNDINAMARCA', 'QUETAME'), ('CUNDINAMARCA', 'FUSAGASUGA'), ('CUNDINAMARCA', 'TIBACUY'), ('BOGOTA, D.C.', 'BOGOTA, D.C.'), ('CUNDINAMARCA', 'FOSCA'), ('META', 'CABUYARO'), ('VALLE DEL CAUCA', 'CAICEDONIA'), ('CUNDINAMARCA', 'RICAURTE'), ('QUINDIO', 'PIJAO'), ('CUNDINAMARCA', 'UNE'), ('CUNDINAMARCA', 'NILO'), ('CUNDINAMARCA', 'PASCA'), ('VICHADA', 'CUMARIBO'), ('CHOCO', 'EL LITORAL DEL SAN JUAN'), ('TOLIMA', 'FLANDES'), ('META', 'RESTREPO'), ('VALLE DEL CAUCA', 'TRUJILLO'), ('CUNDINAMARCA', 'ARBELAEZ'), ('META', 'CUMARAL'), ('CUNDINAMARCA', 'GUAYABETAL'), ('TOLIMA', 'ROVIRA'), ('VALLE DEL CAUCA', 'BUGALAGRANDE'), ('VALLE DEL CAUCA', 'SEVILLA'), ('TOLIMA', 'MELGAR'), ('TOLIMA', 'VALLE DE SAN JUAN'), ('CUNDINAMARCA', 'PANDI'), ('QUINDIO', 'GENOVA'), ('TOLIMA', 'ESPINAL'), ('CUNDINAMARCA', 'GUTIERREZ'), ('VALLE DEL CAUCA', 'ANDALUCIA'), ('CUNDINAMARCA', 'SAN BERNARDO'), ('TOLIMA', 'ICONONZO'), ('TOLIMA', 'SAN LUIS'), ('TOLIMA', 'CARMEN DE APICALA'), ('VALLE DEL CAUCA', 'RIOFRIO'), ('TOLIMA', 'RONCESVALLES'), ('META', 'VILLAVICENCIO'), ('TOLIMA', 'GUAMO'), ('CUNDINAMARCA', 'VENECIA'), ('TOLIMA', 'SUAREZ'), ('VALLE DEL CAUCA', 'TULUA'), ('META', 'PUERTO LOPEZ'), ('META', 'ACACIAS'), ('META', 'PUERTO GAITAN'), ('TOLIMA', 'CUNDAY'), ('VALLE DEL CAUCA', 'SAN PEDRO'), ('TOLIMA', 'SAN ANTONIO'), ('META', 'GUAMAL'), ('VALLE DEL CAUCA', 'CALIMA'), ('TOLIMA', 'ORTEGA'), ('CUNDINAMARCA', 'CABRERA'), ('TOLIMA', 'SALDANA'), ('VALLE DEL CAUCA', 'YOTOCO'), ('VALLE DEL CAUCA', 'GUADALAJARA DE BUGA'), ('TOLIMA', 'VILLARRICA'), ('TOLIMA', 'PURIFICACION'), ('META', 'SAN CARLOS DE GUAROA'), ('META', 'CUBARRAL'), ('VALLE DEL CAUCA', 'RESTREPO'), ('META', 'CASTILLA LA NUEVA'), ('VALLE DEL CAUCA', 'GUACARI'), ('VALLE DEL CAUCA', 'GINEBRA'), ('TOLIMA', 'CHAPARRAL'), ('VALLE DEL CAUCA', 'VIJES'), ('TOLIMA', 'COYAIMA'), ('TOLIMA', 'PRADO'), ('META', 'EL DORADO'), ('VALLE DEL CAUCA', 'LA CUMBRE'), ('VALLE DEL CAUCA', 'EL CERRITO'), ('VALLE DEL CAUCA', 'DAGUA'), ('META', 'EL CASTILLO'), ('META', 'LEJANIAS'), ('VALLE DEL CAUCA', 'BUENAVENTURA'), ('TOLIMA', 'DOLORES'), ('VALLE DEL CAUCA', 'YUMBO'), ('VALLE DEL CAUCA', 'PALMIRA'), ('TOLIMA', 'NATAGAIMA'), ('META', 'SAN MARTIN'), ('META', 'GRANADA'), ('TOLIMA', 'RIOBLANCO'), ('HUILA', 'COLOMBIA'), ('TOLIMA', 'ATACO'), ('VALLE DEL CAUCA', 'PRADERA'), ('VALLE DEL CAUCA', 'CALI'), ('TOLIMA', 'ALPUJARRA'), ('GUAINIA', 'CACAHUAL'), ('META', 'FUENTE DE ORO'), ('VALLE DEL CAUCA', 'CANDELARIA'), ('GUAINIA', 'INIRIDA'), ('VALLE DEL CAUCA', 'FLORIDA'), ('META', 'SAN JUAN DE ARAMA'), ('HUILA', 'VILLAVIEJA'), ('CAUCA', 'PUERTO TEJADA'), ('HUILA', 'AIPE'), ('CAUCA', 'MIRANDA'), ('VALLE DEL CAUCA', 'JAMUNDI'), ('CAUCA', 'PADILLA'), ('META', 'PUERTO LLERAS'), ('CAUCA', 'VILLA RICA'), ('META', 'MESETAS'), ('CAUCA', 'GUACHENE'), ('GUAINIA', 'BARRANCOMINAS'), ('CAUCA', 'CORINTO'), ('HUILA', 'BARAYA'), ('META', 'MAPIRIPAN'), ('TOLIMA', 'PLANADAS'), ('META', 'URIBE'), ('CAUCA', 'BUENOS AIRES'), ('CAUCA', 'CALOTO'), ('HUILA', 'TELLO'), ('CAUCA', 'LOPEZ DE MICAY'), ('HUILA', 'NEIVA'), ('CAUCA', 'SANTANDER DE QUILICHAO'), ('CAUCA', 'TORIBIO'), ('CAUCA', 'SUAREZ'), ('HUILA', 'SANTA MARIA'), ('HUILA', 'PALERMO'), ('CAUCA', 'JAMBALO'), ('HUILA', 'TERUEL'), ('CAUCA', 'MORALES'), ('META', 'VISTAHERMOSA'), ('CAUCA', 'CALDONO'), ('HUILA', 'RIVERA'), ('META', 'PUERTO RICO'), ('META', 'PUERTO CONCORDIA'), ('CAUCA', 'PAEZ'), ('CAUCA', 'PIENDAMO - TUNIA'), ('CAUCA', 'TIMBIQUI'), ('HUILA', 'IQUIRA'), ('HUILA', 'CAMPOALEGRE'), ('CAUCA', 'SILVIA'), ('HUILA', 'YAGUARA'), ('CAUCA', 'CAJIBIO'), ('HUILA', 'NATAGA'), ('HUILA', 'HOBO'), ('CAUCA', 'EL TAMBO'), ('HUILA', 'TESALIA'), ('GUAINIA', 'PUERTO COLOMBIA'), ('CAUCA', 'TOTORO'), ('CAUCA', 'INZA'), ('HUILA', 'ALGECIRAS'), ('GUAVIARE', 'SAN JOSE DEL GUAVIARE'), ('CAUCA', 'POPAYAN'), ('NARINO', 'MOSQUERA'), ('GUAINIA', 'MORICHAL'), ('NARINO', 'LA TOLA'), ('CAUCA', 'GUAPI'), ('HUILA', 'PAICOL'), ('HUILA', 'GIGANTE'), ('CAUCA', 'TIMBIO'), ('CAUCA', 'ARGELIA'), ('HUILA', 'LA PLATA'), ('NARINO', 'SANTA BARBARA'), ('NARINO', 'OLAYA HERRERA'), ('CAUCA', 'PURACE'), ('HUILA', 'AGRADO'), ('META', 'LA MACARENA'), ('HUILA', 'PITAL'), ('CAUCA', 'ROSAS'), ('CAUCA', 'SOTARA PAISPAMBA'), ('CAUCA', 'LA SIERRA'), ('NARINO', 'EL CHARCO'), ('HUILA', 'LA ARGENTINA'), ('HUILA', 'GARZON'), ('GUAINIA', 'SAN FELIPE'), ('CAUCA', 'PATIA'), ('HUILA', 'TARQUI'), ('HUILA', 'SALADOBLANCO'), ('NARINO', 'FRANCISCO PIZARRO'), ('GUAVIARE', 'EL RETORNO'), ('CAUCA', 'BALBOA'), ('HUILA', 'ALTAMIRA'), ('HUILA', 'OPORAPA'), ('CAUCA', 'SUCRE'), ('CAUCA', 'LA VEGA'), ('CAQUETA', 'PUERTO RICO'), ('HUILA', 'ISNOS'), ('HUILA', 'ELIAS'), ('HUILA', 'GUADALUPE'), ('GUAINIA', 'PANA PANA'), ('HUILA', 'TIMANA'), ('NARINO', 'LEIVA'), ('HUILA', 'SAN AGUSTIN'), ('CAUCA', 'ALMAGUER'), ('NARINO', 'MAGUI'), ('NARINO', 'ROBERTO PAYAN'), ('HUILA', 'SUAZA'), ('CAUCA', 'SAN SEBASTIAN'), ('CAUCA', 'BOLIVAR'), ('NARINO', 'EL ROSARIO'), ('HUILA', 'PITALITO'), ('CAUCA', 'MERCADERES'), ('CAQUETA', 'EL DONCELLO'), ('CAQUETA', 'FLORENCIA'), ('NARINO', 'POLICARPA'), ('NARINO', 'CUMBITARA'), ('HUILA', 'ACEVEDO'), ('CAUCA', 'FLORENCIA'), ('VAUPES', 'PAPUNAHUA'), ('NARINO', 'SAN PABLO'), ('HUILA', 'PALESTINA'), ('NARINO', 'LOS ANDES'), ('NARINO', 'COLON'), ('NARINO', 'SAN ANDRES DE TUMACO'), ('NARINO', 'LA UNION'), ('CAQUETA', 'EL PAUJIL'), ('CAQUETA', 'SAN VICENTE DEL CAGUAN'), ('GUAVIARE', 'CALAMAR'), ('NARINO', 'TAMINANGO'), ('NARINO', 'BELEN'), ('NARINO', 'LA CRUZ'), ('NARINO', 'LA LLANADA'), ('NARINO', 'SAN LORENZO'), ('NARINO', 'SAN PEDRO DE CARTAGO'), ('NARINO', 'SAN BERNARDO'), ('CAUCA', 'SANTA ROSA'), ('NARINO', 'EL PENOL'), ('CAQUETA', 'BELEN DE LOS ANDAQUIES'), ('NARINO', 'ARBOLEDA'), ('NARINO', 'ALBAN'), ('NARINO', 'BARBACOAS'), ('NARINO', 'SAMANIEGO'), ('NARINO', 'EL TAMBO'), ('NARINO', 'EL TABLON DE GOMEZ'), ('GUAINIA', 'LA GUADALUPE'), ('NARINO', 'LINARES'), ('NARINO', 'CHACHAGUI'), ('CAQUETA', 'MORELIA'), ('GUAVIARE', 'MIRAFLORES'), ('NARINO', 'LA FLORIDA'), ('NARINO', 'BUESACO'), ('CAQUETA', 'SAN JOSE DEL FRAGUA'), ('CAQUETA', 'LA MONTANITA'), ('NARINO', 'SANDONA'), ('NARINO', 'SANTACRUZ'), ('NARINO', 'NARINO'), ('NARINO', 'ANCUYA'), ('NARINO', 'PROVIDENCIA'), ('PUTUMAYO', 'SIBUNDOY'), ('PUTUMAYO', 'MOCOA'), ('CAQUETA', 'ALBANIA'), ('PUTUMAYO', 'COLON'), ('NARINO', 'CONSACA'), ('NARINO', 'RICAURTE'), ('NARINO', 'MALLAMA'), ('CAUCA', 'PIAMONTE'), ('NARINO', 'GUAITARILLA'), ('CAQUETA', 'MILAN'), ('PUTUMAYO', 'SAN FRANCISCO'), ('NARINO', 'TUQUERRES'), ('NARINO', 'YACUANQUER'), ('PUTUMAYO', 'SANTIAGO'), ('NARINO', 'PASTO'), ('NARINO', 'IMUES'), ('NARINO', 'TANGUA'), ('CAQUETA', 'VALPARAISO'), ('CAQUETA', 'CURILLO'), ('VAUPES', 'CARURU'), ('NARINO', 'SAPUYES'), ('NARINO', 'OSPINA'), ('VAUPES', 'MITU'), ('NARINO', 'ILES'), ('NARINO', 'GUACHUCAL'), ('NARINO', 'CUMBAL'), ('NARINO', 'CONTADERO'), ('NARINO', 'GUALMATAN'), ('NARINO', 'PUPIALES'), ('NARINO', 'FUNES'), ('NARINO', 'ALDANA'), ('PUTUMAYO', 'VILLAGARZON'), ('CAQUETA', 'SOLITA'), ('NARINO', 'CUASPUD CARLOSAMA'), ('VAUPES', 'YAVARATE'), ('NARINO', 'PUERRES'), ('NARINO', 'CORDOBA'), ('PUTUMAYO', 'PUERTO GUZMAN'), ('PUTUMAYO', 'PUERTO CAICEDO'), ('NARINO', 'POTOSI'), ('PUTUMAYO', 'ORITO'), ('CAQUETA', 'CARTAGENA DEL CHAIRA'), ('NARINO', 'IPIALES'), ('PUTUMAYO', 'PUERTO ASIS'), ('PUTUMAYO', 'VALLE DEL GUAMUEZ'), ('PUTUMAYO', 'SAN MIGUEL'), ('CAQUETA', 'SOLANO'), ('VAUPES', 'PACOA'), ('PUTUMAYO', 'PUERTO LEGUIZAMO'), ('AMAZONAS', 'LA VICTORIA'), ('AMAZONAS', 'MIRITI - PARANA'), ('VAUPES', 'TARAIRA'), ('AMAZONAS', 'PUERTO ALEGRIA'), ('AMAZONAS', 'PUERTO SANTANDER'), ('AMAZONAS', 'LA CHORRERA'), ('AMAZONAS', 'LA PEDRERA'), ('AMAZONAS', 'PUERTO ARICA'), ('AMAZONAS', 'EL ENCANTO'), ('AMAZONAS', 'TARAPACA'), ('AMAZONAS', 'LETICIA'), ('AMAZONAS', 'PUERTO NARINO')]\n"
          ]
        }
      ],
      "source": [
        "print(municipios)"
      ]
    },
    {
      "cell_type": "code",
      "execution_count": null,
      "metadata": {
        "id": "kjB1tO5ADPJ1",
        "outputId": "f6d5228a-b6cc-4012-bed5-741884272e6f",
        "colab": {
          "base_uri": "https://localhost:8080/"
        }
      },
      "outputs": [
        {
          "output_type": "stream",
          "name": "stdout",
          "text": [
            "{('ARCHIPIELAGO DE SAN ANDRES, PROVIDENCIA Y SANTA CATALINA', 'PROVIDENCIA'): 0, ('ARCHIPIELAGO DE SAN ANDRES, PROVIDENCIA Y SANTA CATALINA', 'SAN ANDRES'): 1, ('LA GUAJIRA', 'URIBIA'): 2, ('LA GUAJIRA', 'MANAURE'): 3, ('LA GUAJIRA', 'MAICAO'): 4, ('LA GUAJIRA', 'RIOHACHA'): 5, ('LA GUAJIRA', 'ALBANIA'): 6, ('MAGDALENA', 'SANTA MARTA'): 7, ('LA GUAJIRA', 'HATONUEVO'): 8, ('LA GUAJIRA', 'DIBULLA'): 9, ('ATLANTICO', 'PUERTO COLOMBIA'): 10, ('LA GUAJIRA', 'BARRANCAS'): 11, ('ATLANTICO', 'BARRANQUILLA'): 12, ('LA GUAJIRA', 'DISTRACCION'): 13, ('ATLANTICO', 'TUBARA'): 14, ('ATLANTICO', 'SOLEDAD'): 15, ('ATLANTICO', 'GALAPA'): 16, ('MAGDALENA', 'SITIONUEVO'): 17, ('MAGDALENA', 'CIENAGA'): 18, ('ATLANTICO', 'MALAMBO'): 19, ('MAGDALENA', 'PUEBLOVIEJO'): 20, ('LA GUAJIRA', 'FONSECA'): 21, ('ATLANTICO', 'JUAN DE ACOSTA'): 22, ('LA GUAJIRA', 'SAN JUAN DEL CESAR'): 23, ('ATLANTICO', 'SABANAGRANDE'): 24, ('MAGDALENA', 'ZONA BANANERA'): 25, ('ATLANTICO', 'BARANOA'): 26, ('ATLANTICO', 'POLONUEVO'): 27, ('ATLANTICO', 'SANTO TOMAS'): 28, ('ATLANTICO', 'PIOJO'): 29, ('ATLANTICO', 'USIACURI'): 30, ('ATLANTICO', 'PALMAR DE VARELA'): 31, ('MAGDALENA', 'EL RETEN'): 32, ('BOLIVAR', 'SANTA CATALINA'): 33, ('MAGDALENA', 'REMOLINO'): 34, ('MAGDALENA', 'ARACATACA'): 35, ('LA GUAJIRA', 'EL MOLINO'): 36, ('ATLANTICO', 'LURUACO'): 37, ('ATLANTICO', 'SABANALARGA'): 38, ('ATLANTICO', 'PONEDERA'): 39, ('LA GUAJIRA', 'VILLANUEVA'): 40, ('BOLIVAR', 'CLEMENCIA'): 41, ('MAGDALENA', 'SALAMINA'): 42, ('ATLANTICO', 'REPELON'): 43, ('LA GUAJIRA', 'URUMITA'): 44, ('ATLANTICO', 'CANDELARIA'): 45, ('BOLIVAR', 'SANTA ROSA'): 46, ('CESAR', 'PUEBLO BELLO'): 47, ('MAGDALENA', 'FUNDACION'): 48, ('LA GUAJIRA', 'LA JAGUA DEL PILAR'): 49, ('ATLANTICO', 'MANATI'): 50, ('BOLIVAR', 'CARTAGENA DE INDIAS'): 51, ('BOLIVAR', 'VILLANUEVA'): 52, ('MAGDALENA', 'PIVIJAY'): 53, ('ATLANTICO', 'CAMPO DE LA CRUZ'): 54, ('CESAR', 'MANAURE BALCON DEL CESAR'): 55, ('CESAR', 'VALLEDUPAR'): 56, ('BOLIVAR', 'SAN CRISTOBAL'): 57, ('BOLIVAR', 'SAN ESTANISLAO'): 58, ('ATLANTICO', 'SANTA LUCIA'): 59, ('BOLIVAR', 'TURBACO'): 60, ('MAGDALENA', 'EL PINON'): 61, ('BOLIVAR', 'SOPLAVIENTO'): 62, ('ATLANTICO', 'SUAN'): 63, ('MAGDALENA', 'CERRO DE SAN ANTONIO'): 64, ('MAGDALENA', 'ALGARROBO'): 65, ('BOLIVAR', 'ARROYOHONDO'): 66, ('MAGDALENA', 'CONCORDIA'): 67, ('BOLIVAR', 'CALAMAR'): 68, ('BOLIVAR', 'TURBANA'): 69, ('CESAR', 'EL COPEY'): 70, ('BOLIVAR', 'MAHATES'): 71, ('CESAR', 'SAN DIEGO'): 72, ('BOLIVAR', 'ARJONA'): 73, ('CESAR', 'LA PAZ'): 74, ('MAGDALENA', 'PEDRAZA'): 75, ('MAGDALENA', 'ZAPAYAN'): 76, ('MAGDALENA', 'SABANAS DE SAN ANGEL'): 77, ('MAGDALENA', 'CHIVOLO'): 78, ('BOLIVAR', 'EL GUAMO'): 79, ('BOLIVAR', 'MARIA LA BAJA'): 80, ('BOLIVAR', 'SAN JUAN NEPOMUCENO'): 81, ('CESAR', 'AGUSTIN CODAZZI'): 82, ('CESAR', 'BOSCONIA'): 83, ('MAGDALENA', 'TENERIFE'): 84, ('BOLIVAR', 'SAN JACINTO'): 85, ('MAGDALENA', 'ARIGUANI'): 86, ('SUCRE', 'SAN ONOFRE'): 87, ('MAGDALENA', 'PLATO'): 88, ('BOLIVAR', 'ZAMBRANO'): 89, ('MAGDALENA', 'NUEVA GRANADA'): 90, ('CESAR', 'BECERRIL'): 91, ('BOLIVAR', 'EL CARMEN DE BOLIVAR'): 92, ('CESAR', 'EL PASO'): 93, ('SUCRE', 'CHALAN'): 94, ('CESAR', 'LA JAGUA DE IBIRICO'): 95, ('SUCRE', 'OVEJAS'): 96, ('BOLIVAR', 'CORDOBA'): 97, ('SUCRE', 'SANTIAGO DE TOLU'): 98, ('MAGDALENA', 'PIJINO DEL CARMEN'): 99, ('SUCRE', 'COLOSO'): 100, ('MAGDALENA', 'SANTA BARBARA DE PINTO'): 101, ('MAGDALENA', 'SANTA ANA'): 102, ('CESAR', 'ASTREA'): 103, ('SUCRE', 'SAN JOSE DE TOLUVIEJO'): 104, ('CESAR', 'CHIRIGUANA'): 105, ('SUCRE', 'LOS PALMITOS'): 106, ('SUCRE', 'SAN PEDRO'): 107, ('SUCRE', 'COVENAS'): 108, ('SUCRE', 'MORROA'): 109, ('CORDOBA', 'SAN ANTERO'): 110, ('MAGDALENA', 'SAN SEBASTIAN DE BUENAVISTA'): 111, ('SUCRE', 'PALMITO'): 112, ('CORDOBA', 'SAN BERNARDO DEL VIENTO'): 113, ('MAGDALENA', 'SAN ZENON'): 114, ('SUCRE', 'BUENAVISTA'): 115, ('SUCRE', 'SINCELEJO'): 116, ('BOLIVAR', 'TALAIGUA NUEVO'): 117, ('SUCRE', 'SAN JUAN DE BETULIA'): 118, ('CORDOBA', 'PURISIMA DE LA CONCEPCION'): 119, ('CORDOBA', 'MOMIL'): 120, ('SUCRE', 'SAN LUIS DE SINCE'): 121, ('MAGDALENA', 'GUAMAL'): 122, ('CESAR', 'CURUMANI'): 123, ('BOLIVAR', 'CICUCO'): 124, ('CORDOBA', 'TUCHIN'): 125, ('CESAR', 'CHIMICHAGUA'): 126, ('SUCRE', 'COROZAL'): 127, ('CORDOBA', 'MONITOS'): 128, ('BOLIVAR', 'MAGANGUE'): 129, ('SUCRE', 'SAMPUES'): 130, ('CORDOBA', 'LORICA'): 131, ('BOLIVAR', 'SANTA CRUZ DE MOMPOX'): 132, ('SUCRE', 'GALERAS'): 133, ('CORDOBA', 'SAN ANDRES DE SOTAVENTO'): 134, ('MAGDALENA', 'EL BANCO'): 135, ('CORDOBA', 'CHIMA'): 136, ('BOLIVAR', 'SAN FERNANDO'): 137, ('SUCRE', 'EL ROBLE'): 138, ('CORDOBA', 'COTORRA'): 139, ('BOLIVAR', 'MARGARITA'): 140, ('CORDOBA', 'CHINU'): 141, ('CORDOBA', 'PUERTO ESCONDIDO'): 142, ('CORDOBA', 'SAN PELAYO'): 143, ('BOLIVAR', 'HATILLO DE LOBA'): 144, ('CESAR', 'PAILITAS'): 145, ('CESAR', 'TAMALAMEQUE'): 146, ('CORDOBA', 'CERETE'): 147, ('NORTE DE SANTANDER', 'CONVENCION'): 148, ('BOLIVAR', 'PINILLOS'): 149, ('NORTE DE SANTANDER', 'EL CARMEN'): 150, ('BOLIVAR', 'EL PENON'): 151, ('CORDOBA', 'CIENAGA DE ORO'): 152, ('CORDOBA', 'LOS CORDOBAS'): 153, ('BOLIVAR', 'BARRANCO DE LOBA'): 154, ('SUCRE', 'SAN BENITO ABAD'): 155, ('SUCRE', 'SUCRE'): 156, ('SUCRE', 'LA UNION'): 157, ('CORDOBA', 'SAHAGUN'): 158, ('SUCRE', 'CAIMITO'): 159, ('BOLIVAR', 'SAN MARTIN DE LOBA'): 160, ('CESAR', 'PELAYA'): 161, ('NORTE DE SANTANDER', 'TEORAMA'): 162, ('BOLIVAR', 'ALTOS DEL ROSARIO'): 163, ('CORDOBA', 'CANALETE'): 164, ('BOLIVAR', 'REGIDOR'): 165, ('NORTE DE SANTANDER', 'TIBU'): 166, ('ANTIOQUIA', 'SAN JUAN DE URABA'): 167, ('CORDOBA', 'SAN CARLOS'): 168, ('NORTE DE SANTANDER', 'EL TARRA'): 169, ('BOLIVAR', 'ACHI'): 170, ('CESAR', 'LA GLORIA'): 171, ('ANTIOQUIA', 'ARBOLETES'): 172, ('SUCRE', 'SAN MARCOS'): 173, ('CORDOBA', 'MONTERIA'): 174, ('SUCRE', 'MAJAGUAL'): 175, ('BOLIVAR', 'NOROSI'): 176, ('ANTIOQUIA', 'NECOCLI'): 177, ('BOLIVAR', 'RIO VIEJO'): 178, ('BOLIVAR', 'TIQUISIO'): 179, ('CORDOBA', 'PUEBLO NUEVO'): 180, ('NORTE DE SANTANDER', 'SAN CALIXTO'): 181, ('CHOCO', 'ACANDI'): 182, ('CESAR', 'GONZALEZ'): 183, ('SUCRE', 'GUARANDA'): 184, ('ANTIOQUIA', 'SAN PEDRO DE URABA'): 185, ('NORTE DE SANTANDER', 'HACARI'): 186, ('BOLIVAR', 'ARENAL'): 187, ('CESAR', 'GAMARRA'): 188, ('NORTE DE SANTANDER', 'PUERTO SANTANDER'): 189, ('CORDOBA', 'PLANETA RICA'): 190, ('CORDOBA', 'AYAPEL'): 191, ('NORTE DE SANTANDER', 'SARDINATA'): 192, ('NORTE DE SANTANDER', 'LA PLAYA'): 193, ('BOLIVAR', 'MORALES'): 194, ('CESAR', 'AGUACHICA'): 195, ('BOLIVAR', 'SAN JACINTO DEL CAUCA'): 196, ('NORTE DE SANTANDER', 'OCANA'): 197, ('CORDOBA', 'VALENCIA'): 198, ('CESAR', 'RIO DE ORO'): 199, ('CORDOBA', 'BUENAVISTA'): 200, ('CHOCO', 'UNGUIA'): 201, ('NORTE DE SANTANDER', 'SAN JOSE DE CUCUTA'): 202, ('NORTE DE SANTANDER', 'EL ZULIA'): 203, ('NORTE DE SANTANDER', 'BUCARASICA'): 204, ('CORDOBA', 'LA APARTADA'): 205, ('NORTE DE SANTANDER', 'ABREGO'): 206, ('BOLIVAR', 'MONTECRISTO'): 207, ('ANTIOQUIA', 'TURBO'): 208, ('ANTIOQUIA', 'NECHI'): 209, ('NORTE DE SANTANDER', 'LOURDES'): 210, ('CESAR', 'SAN MARTIN'): 211, ('NORTE DE SANTANDER', 'VILLA CARO'): 212, ('NORTE DE SANTANDER', 'GRAMALOTE'): 213, ('ANTIOQUIA', 'APARTADO'): 214, ('NORTE DE SANTANDER', 'SANTIAGO'): 215, ('CORDOBA', 'MONTELIBANO'): 216, ('ANTIOQUIA', 'CAUCASIA'): 217, ('BOLIVAR', 'SIMITI'): 218, ('NORTE DE SANTANDER', 'SAN CAYETANO'): 219, ('CESAR', 'SAN ALBERTO'): 220, ('CORDOBA', 'TIERRALTA'): 221, ('ANTIOQUIA', 'CAREPA'): 222, ('NORTE DE SANTANDER', 'SALAZAR'): 223, ('BOLIVAR', 'SANTA ROSA DEL SUR'): 224, ('NORTE DE SANTANDER', 'VILLA DEL ROSARIO'): 225, ('CORDOBA', 'SAN JOSE DE URE'): 226, ('NORTE DE SANTANDER', 'DURANIA'): 227, ('NORTE DE SANTANDER', 'LOS PATIOS'): 228, ('CORDOBA', 'PUERTO LIBERTADOR'): 229, ('ANTIOQUIA', 'EL BAGRE'): 230, ('NORTE DE SANTANDER', 'LA ESPERANZA'): 231, ('NORTE DE SANTANDER', 'CACHIRA'): 232, ('ANTIOQUIA', 'CACERES'): 233, ('NORTE DE SANTANDER', 'BOCHALEMA'): 234, ('ANTIOQUIA', 'CHIGORODO'): 235, ('NORTE DE SANTANDER', 'ARBOLEDAS'): 236, ('NORTE DE SANTANDER', 'RAGONVALIA'): 237, ('NORTE DE SANTANDER', 'CHINACOTA'): 238, ('SANTANDER', 'PUERTO WILCHES'): 239, ('SANTANDER', 'EL PLAYON'): 240, ('NORTE DE SANTANDER', 'CUCUTILLA'): 241, ('NORTE DE SANTANDER', 'HERRAN'): 242, ('ANTIOQUIA', 'TARAZA'): 243, ('NORTE DE SANTANDER', 'PAMPLONITA'): 244, ('SANTANDER', 'SURATA'): 245, ('SANTANDER', 'RIONEGRO'): 246, ('ANTIOQUIA', 'ZARAGOZA'): 247, ('BOLIVAR', 'SAN PABLO'): 248, ('SANTANDER', 'SABANA DE TORRES'): 249, ('CHOCO', 'RIOSUCIO'): 250, ('NORTE DE SANTANDER', 'PAMPLONA'): 251, ('SANTANDER', 'CALIFORNIA'): 252, ('SANTANDER', 'MATANZA'): 253, ('ANTIOQUIA', 'MUTATA'): 254, ('SANTANDER', 'VETAS'): 255, ('NORTE DE SANTANDER', 'MUTISCUA'): 256, ('ANTIOQUIA', 'ITUANGO'): 257, ('NORTE DE SANTANDER', 'CACOTA'): 258, ('ANTIOQUIA', 'SEGOVIA'): 259, ('NORTE DE SANTANDER', 'LABATECA'): 260, ('ANTIOQUIA', 'VALDIVIA'): 261, ('SANTANDER', 'CHARTA'): 262, ('BOLIVAR', 'CANTAGALLO'): 263, ('NORTE DE SANTANDER', 'TOLEDO'): 264, ('SANTANDER', 'LEBRIJA'): 265, ('ANTIOQUIA', 'ANORI'): 266, ('NORTE DE SANTANDER', 'SILOS'): 267, ('SANTANDER', 'TONA'): 268, ('SANTANDER', 'BUCARAMANGA'): 269, ('ANTIOQUIA', 'BRICENO'): 270, ('CHOCO', 'JURADO'): 271, ('SANTANDER', 'FLORIDABLANCA'): 272, ('SANTANDER', 'BARRANCABERMEJA'): 273, ('NORTE DE SANTANDER', 'CHITAGA'): 274, ('ANTIOQUIA', 'PEQUE'): 275, ('SANTANDER', 'GIRON'): 276, ('ANTIOQUIA', 'CAMPAMENTO'): 277, ('CHOCO', 'CARMEN DEL DARIEN'): 278, ('ANTIOQUIA', 'TOLEDO'): 279, ('SANTANDER', 'BETULIA'): 280, ('ANTIOQUIA', 'REMEDIOS'): 281, ('ANTIOQUIA', 'DABEIBA'): 282, ('SANTANDER', 'SANTA BARBARA'): 283, ('ANTIOQUIA', 'YARUMAL'): 284, ('ANTIOQUIA', 'AMALFI'): 285, ('SANTANDER', 'PIEDECUESTA'): 286, ('SANTANDER', 'GUACA'): 287, ('ANTIOQUIA', 'YONDO'): 288, ('ANTIOQUIA', 'SAN ANDRES DE CUERQUIA'): 289, ('ANTIOQUIA', 'URAMITA'): 290, ('ARAUCA', 'SARAVENA'): 291, ('SANTANDER', 'CERRITO'): 292, ('ANTIOQUIA', 'SABANALARGA'): 293, ('SANTANDER', 'SAN VICENTE DE CHUCURI'): 294, ('BOYACA', 'CUBARA'): 295, ('ANTIOQUIA', 'GUADALUPE'): 296, ('ANTIOQUIA', 'ANGOSTURA'): 297, ('ANTIOQUIA', 'VEGACHI'): 298, ('SANTANDER', 'ZAPATOCA'): 299, ('ANTIOQUIA', 'MURINDO'): 300, ('ANTIOQUIA', 'SAN JOSE DE LA MONTANA'): 301, ('ANTIOQUIA', 'CANASGORDAS'): 302, ('SANTANDER', 'LOS SANTOS'): 303, ('ANTIOQUIA', 'BURITICA'): 304, ('ARAUCA', 'ARAUQUITA'): 305, ('SANTANDER', 'SAN ANDRES'): 306, ('ARAUCA', 'ARAUCA'): 307, ('SANTANDER', 'CONCEPCION'): 308, ('ANTIOQUIA', 'CAROLINA'): 309, ('SANTANDER', 'CEPITA'): 310, ('ANTIOQUIA', 'LIBORINA'): 311, ('SANTANDER', 'MALAGA'): 312, ('ANTIOQUIA', 'YALI'): 313, ('SANTANDER', 'ARATOCA'): 314, ('SANTANDER', 'JORDAN'): 315, ('ANTIOQUIA', 'GOMEZ PLATA'): 316, ('ARAUCA', 'FORTUL'): 317, ('ANTIOQUIA', 'FRONTINO'): 318, ('BOYACA', 'CHISCAS'): 319, ('SANTANDER', 'VILLANUEVA'): 320, ('SANTANDER', 'PUERTO PARRA'): 321, ('ANTIOQUIA', 'SANTA ROSA DE OSOS'): 322, ('SANTANDER', 'GALAN'): 323, ('SANTANDER', 'EL CARMEN DE CHUCURI'): 324, ('ANTIOQUIA', 'GIRALDO'): 325, ('SANTANDER', 'CARCASI'): 326, ('SANTANDER', 'ENCISO'): 327, ('ANTIOQUIA', 'BELMIRA'): 328, ('SANTANDER', 'SIMACOTA'): 329, ('SANTANDER', 'BARICHARA'): 330, ('ANTIOQUIA', 'YOLOMBO'): 331, ('SANTANDER', 'MOLAGAVITA'): 332, ('SANTANDER', 'SAN JOSE DE MIRANDA'): 333, ('ANTIOQUIA', 'ABRIAQUI'): 334, ('SANTANDER', 'CURITI'): 335, ('ANTIOQUIA', 'OLAYA'): 336, ('ANTIOQUIA', 'ENTRERRIOS'): 337, ('SANTANDER', 'SAN MIGUEL'): 338, ('BOYACA', 'GUICAN DE LA SIERRA'): 339, ('SANTANDER', 'CABRERA'): 340, ('SANTANDER', 'HATO'): 341, ('SANTANDER', 'SAN GIL'): 342, ('ANTIOQUIA', 'CISNEROS'): 343, ('ANTIOQUIA', 'SANTA FE DE ANTIOQUIA'): 344, ('ANTIOQUIA', 'MACEO'): 345, ('SANTANDER', 'PALMAR'): 346, ('SANTANDER', 'CAPITANEJO'): 347, ('ANTIOQUIA', 'SOPETRAN'): 348, ('BOYACA', 'COVARACHIA'): 349, ('SANTANDER', 'PINCHOTE'): 350, ('SANTANDER', 'MACARAVITA'): 351, ('BOYACA', 'EL ESPINO'): 352, ('ANTIOQUIA', 'DONMATIAS'): 353, ('SANTANDER', 'MOGOTES'): 354, ('ANTIOQUIA', 'PUERTO BERRIO'): 355, ('ANTIOQUIA', 'SANTO DOMINGO'): 356, ('CHOCO', 'BOJAYA'): 357, ('SANTANDER', 'SOCORRO'): 358, ('SANTANDER', 'SAN JOAQUIN'): 359, ('ANTIOQUIA', 'SAN PEDRO DE LOS MILAGROS'): 360, ('ANTIOQUIA', 'VIGIA DEL FUERTE'): 361, ('ANTIOQUIA', 'SAN ROQUE'): 362, ('BOYACA', 'GUACAMAYAS'): 363, ('ANTIOQUIA', 'BARBOSA'): 364, ('BOYACA', 'PANQUEBA'): 365, ('ANTIOQUIA', 'SAN JERONIMO'): 366, ('SANTANDER', 'VALLE DE SAN JOSE'): 367, ('ANTIOQUIA', 'CAICEDO'): 368, ('BOYACA', 'TIPACOQUE'): 369, ('SANTANDER', 'PARAMO'): 370, ('ARAUCA', 'PUERTO RONDON'): 371, ('SANTANDER', 'CIMITARRA'): 372, ('SANTANDER', 'SANTA HELENA DEL OPON'): 373, ('BOYACA', 'SAN MATEO'): 374, ('SANTANDER', 'PALMAS DEL SOCORRO'): 375, ('ARAUCA', 'TAME'): 376, ('ANTIOQUIA', 'GIRARDOTA'): 377, ('ANTIOQUIA', 'CONCEPCION'): 378, ('SANTANDER', 'CHIMA'): 379, ('ANTIOQUIA', 'ALEJANDRIA'): 380, ('ANTIOQUIA', 'BELLO'): 381, ('SANTANDER', 'CONFINES'): 382, ('SANTANDER', 'OCAMONTE'): 383, ('BOYACA', 'EL COCUY'): 384, ('ANTIOQUIA', 'COPACABANA'): 385, ('ARAUCA', 'CRAVO NORTE'): 386, ('ANTIOQUIA', 'CARACOLI'): 387, ('BOYACA', 'BOAVITA'): 388, ('ANTIOQUIA', 'URRAO'): 389, ('SANTANDER', 'ONZAGA'): 390, ('SANTANDER', 'LANDAZURI'): 391, ('ANTIOQUIA', 'EBEJICO'): 392, ('BOYACA', 'SOATA'): 393, ('SANTANDER', 'GUAPOTA'): 394, ('ANTIOQUIA', 'SAN RAFAEL'): 395, ('ANTIOQUIA', 'SAN VICENTE FERRER'): 396, ('ANTIOQUIA', 'ANZA'): 397, ('SANTANDER', 'CONTRATACION'): 398, ('CHOCO', 'BAHIA SOLANO'): 399, ('ANTIOQUIA', 'GUARNE'): 400, ('BOYACA', 'LA UVITA'): 401, ('ANTIOQUIA', 'MEDELLIN'): 402, ('SANTANDER', 'EL GUACAMAYO'): 403, ('ANTIOQUIA', 'GUATAPE'): 404, ('SANTANDER', 'COROMORO'): 405, ('SANTANDER', 'GUADALUPE'): 406, ('ANTIOQUIA', 'PENOL'): 407, ('SANTANDER', 'OIBA'): 408, ('SANTANDER', 'VELEZ'): 409, ('SANTANDER', 'LA PAZ'): 410, ('BOYACA', 'SUSACON'): 411, ('ANTIOQUIA', 'HELICONIA'): 412, ('SANTANDER', 'CHARALA'): 413, ('ANTIOQUIA', 'SAN CARLOS'): 414, ('ANTIOQUIA', 'BETULIA'): 415, ('ANTIOQUIA', 'MARINILLA'): 416, ('SANTANDER', 'AGUADA'): 417, ('ANTIOQUIA', 'ITAGUI'): 418, ('CASANARE', 'LA SALINA'): 419, ('ANTIOQUIA', 'ARMENIA'): 420, ('ANTIOQUIA', 'ENVIGADO'): 421, ('ANTIOQUIA', 'RIONEGRO'): 422, ('BOYACA', 'JERICO'): 423, ('ANTIOQUIA', 'SABANETA'): 424, ('ANTIOQUIA', 'LA ESTRELLA'): 425, ('BOYACA', 'SATIVANORTE'): 426, ('ANTIOQUIA', 'PUERTO NARE'): 427, ('ANTIOQUIA', 'EL SANTUARIO'): 428, ('ANTIOQUIA', 'GRANADA'): 429, ('ANTIOQUIA', 'ANGELOPOLIS'): 430, ('SANTANDER', 'SUAITA'): 431, ('CASANARE', 'HATO COROZAL'): 432, ('SANTANDER', 'SAN BENITO'): 433, ('SANTANDER', 'EL PENON'): 434, ('SANTANDER', 'BOLIVAR'): 435, ('BOYACA', 'CHITA'): 436, ('SANTANDER', 'ENCINO'): 437, ('BOYACA', 'TUTAZA'): 438, ('BOYACA', 'SATIVASUR'): 439, ('SANTANDER', 'CHIPATA'): 440, ('ANTIOQUIA', 'TITIRIBI'): 441, ('BOYACA', 'SANTANA'): 442, ('ANTIOQUIA', 'CONCORDIA'): 443, ('ANTIOQUIA', 'CALDAS'): 444, ('ANTIOQUIA', 'RETIRO'): 445, ('CASANARE', 'SACAMA'): 446, ('CHOCO', 'MEDIO ATRATO'): 447, ('SANTANDER', 'GUEPSA'): 448, ('ANTIOQUIA', 'AMAGA'): 449, ('BOYACA', 'PAZ DE RIO'): 450, ('ANTIOQUIA', 'SAN LUIS'): 451, ('ANTIOQUIA', 'COCORNA'): 452, ('BOYACA', 'BELEN'): 453, ('BOYACA', 'SAN JOSE DE PARE'): 454, ('ANTIOQUIA', 'LA CEJA'): 455, ('BOYACA', 'CHITARAQUE'): 456, ('SANTANDER', 'SUCRE'): 457, ('ANTIOQUIA', 'EL CARMEN DE VIBORAL'): 458, ('ANTIOQUIA', 'SALGAR'): 459, ('BOYACA', 'CERINZA'): 460, ('BOYACA', 'SOCHA'): 461, ('ANTIOQUIA', 'VENECIA'): 462, ('SANTANDER', 'BARBOSA'): 463, ('ANTIOQUIA', 'PUERTO TRIUNFO'): 464, ('BOYACA', 'PUERTO BOYACA'): 465, ('SANTANDER', 'GUAVATA'): 466, ('ANTIOQUIA', 'LA UNION'): 467, ('CHOCO', 'QUIBDO'): 468, ('BOYACA', 'SOCOTA'): 469, ('SANTANDER', 'GAMBITA'): 470, ('BOYACA', 'TOGUI'): 471, ('BOYACA', 'BETEITIVA'): 472, ('ANTIOQUIA', 'MONTEBELLO'): 473, ('SANTANDER', 'LA BELLEZA'): 474, ('BOYACA', 'SANTA ROSA DE VITERBO'): 475, ('BOYACA', 'DUITAMA'): 476, ('ANTIOQUIA', 'FREDONIA'): 477, ('BOYACA', 'TASCO'): 478, ('ANTIOQUIA', 'SAN FRANCISCO'): 479, ('ANTIOQUIA', 'SANTA BARBARA'): 480, ('CASANARE', 'TAMARA'): 481, ('ANTIOQUIA', 'TARSO'): 482, ('BOYACA', 'MONIQUIRA'): 483, ('BOYACA', 'FLORESTA'): 484, ('SANTANDER', 'JESUS MARIA'): 485, ('BOYACA', 'BUSBANZA'): 486, ('ANTIOQUIA', 'CIUDAD BOLIVAR'): 487, ('VICHADA', 'PUERTO CARRENO'): 488, ('SANTANDER', 'PUENTE NACIONAL'): 489, ('BOYACA', 'PAIPA'): 490, ('BOYACA', 'CORRALES'): 491, ('CHOCO', 'EL CARMEN DE ATRATO'): 492, ('ANTIOQUIA', 'PUEBLORRICO'): 493, ('ANTIOQUIA', 'ABEJORRAL'): 494, ('BOYACA', 'GAMEZA'): 495, ('SANTANDER', 'FLORIAN'): 496, ('ANTIOQUIA', 'HISPANIA'): 497, ('BOYACA', 'SOTAQUIRA'): 498, ('CASANARE', 'PAZ DE ARIPORO'): 499, ('BOYACA', 'NOBSA'): 500, ('SANTANDER', 'ALBANIA'): 501, ('ANTIOQUIA', 'JERICO'): 502, ('BOYACA', 'TOPAGA'): 503, ('ANTIOQUIA', 'SONSON'): 504, ('BOYACA', 'OTANCHE'): 505, ('BOYACA', 'ARCABUCO'): 506, ('BOYACA', 'TIBASOSA'): 507, ('ANTIOQUIA', 'LA PINTADA'): 508, ('BOYACA', 'GACHANTIVA'): 509, ('BOYACA', 'PISBA'): 510, ('BOYACA', 'SANTA SOFIA'): 511, ('ANTIOQUIA', 'BETANIA'): 512, ('BOYACA', 'TUNUNGUA'): 513, ('BOYACA', 'MONGUA'): 514, ('ANTIOQUIA', 'ARGELIA'): 515, ('BOYACA', 'SABOYA'): 516, ('BOYACA', 'MONGUI'): 517, ('CHOCO', 'NUQUI'): 518, ('BOYACA', 'PAUNA'): 519, ('BOYACA', 'COMBITA'): 520, ('BOYACA', 'SAN PABLO DE BORBUR'): 521, ('BOYACA', 'BRICENO'): 522, ('ANTIOQUIA', 'TAMESIS'): 523, ('BOYACA', 'FIRAVITOBA'): 524, ('BOYACA', 'TUTA'): 525, ('BOYACA', 'SOGAMOSO'): 526, ('BOYACA', 'VILLA DE LEYVA'): 527, ('CASANARE', 'PORE'): 528, ('ANTIOQUIA', 'VALPARAISO'): 529, ('BOYACA', 'CHIQUIZA'): 530, ('BOYACA', 'SUTAMARCHAN'): 531, ('CALDAS', 'NORCASIA'): 532, ('CHOCO', 'ALTO BAUDO'): 533, ('ANTIOQUIA', 'ANDES'): 534, ('BOYACA', 'CHIQUINQUIRA'): 535, ('BOYACA', 'PAYA'): 536, ('CUNDINAMARCA', 'PUERTO SALGAR'): 537, ('BOYACA', 'IZA'): 538, ('BOYACA', 'OICATA'): 539, ('BOYACA', 'MOTAVITA'): 540, ('CALDAS', 'AGUADAS'): 541, ('CUNDINAMARCA', 'YACOPI'): 542, ('BOYACA', 'CUITIVA'): 543, ('CHOCO', 'LLORO'): 544, ('ANTIOQUIA', 'NARINO'): 545, ('BOYACA', 'SORA'): 546, ('BOYACA', 'TOCA'): 547, ('BOYACA', 'TINJACA'): 548, ('BOYACA', 'CALDAS'): 549, ('ANTIOQUIA', 'JARDIN'): 550, ('BOYACA', 'SACHICA'): 551, ('BOYACA', 'MARIPI'): 552, ('CHOCO', 'RIO QUITO'): 553, ('BOYACA', 'CHIVATA'): 554, ('BOYACA', 'QUIPAMA'): 555, ('CHOCO', 'ATRATO'): 556, ('ANTIOQUIA', 'CARAMANTA'): 557, ('BOYACA', 'LABRANZAGRANDE'): 558, ('CALDAS', 'LA DORADA'): 559, ('CALDAS', 'SAMANA'): 560, ('BOYACA', 'SAN MIGUEL DE SEMA'): 561, ('CASANARE', 'NUNCHIA'): 562, ('BOYACA', 'CUCAITA'): 563, ('BOYACA', 'MUZO'): 564, ('BOYACA', 'TUNJA'): 565, ('VICHADA', 'LA PRIMAVERA'): 566, ('BOYACA', 'LA VICTORIA'): 567, ('CUNDINAMARCA', 'SIMIJACA'): 568, ('CHOCO', 'BAGADO'): 569, ('CALDAS', 'PACORA'): 570, ('BOYACA', 'SIACHOQUE'): 571, ('BOYACA', 'PESCA'): 572, ('BOYACA', 'RAQUIRA'): 573, ('BOYACA', 'SORACA'): 574, ('CALDAS', 'MARMATO'): 575, ('BOYACA', 'BUENAVISTA'): 576, ('BOYACA', 'TOTA'): 577, ('BOYACA', 'SAMACA'): 578, ('CALDAS', 'SUPIA'): 579, ('CALDAS', 'VICTORIA'): 580, ('BOYACA', 'COPER'): 581, ('CALDAS', 'RIOSUCIO'): 582, ('BOYACA', 'VIRACACHA'): 583, ('CUNDINAMARCA', 'SUSA'): 584, ('BOYACA', 'BOYACA'): 585, ('BOYACA', 'AQUITANIA'): 586, ('CUNDINAMARCA', 'FUQUENE'): 587, ('RISARALDA', 'MISTRATO'): 588, ('CALDAS', 'PENSILVANIA'): 589, ('CALDAS', 'LA MERCED'): 590, ('BOYACA', 'CIENEGA'): 591, ('CHOCO', 'CERTEGUI'): 592, ('CUNDINAMARCA', 'PAIME'): 593, ('CUNDINAMARCA', 'GUACHETA'): 594, ('BOYACA', 'VENTAQUEMADA'): 595, ('BOYACA', 'PAJARITO'): 596, ('CUNDINAMARCA', 'CAPARRAPI'): 597, ('BOYACA', 'RONDON'): 598, ('BOYACA', 'JENESANO'): 599, ('CALDAS', 'SALAMINA'): 600, ('CASANARE', 'TRINIDAD'): 601, ('CHOCO', 'EL CANTON DEL SAN PABLO'): 602, ('CUNDINAMARCA', 'TOPAIPI'): 603, ('BOYACA', 'NUEVO COLON'): 604, ('CUNDINAMARCA', 'CARMEN DE CARUPA'): 605, ('CUNDINAMARCA', 'LA PALMA'): 606, ('RISARALDA', 'QUINCHIA'): 607, ('RISARALDA', 'GUATICA'): 608, ('BOYACA', 'RAMIRIQUI'): 609, ('CUNDINAMARCA', 'VILLA DE SAN DIEGO DE UBATE'): 610, ('CUNDINAMARCA', 'SAN CAYETANO'): 611, ('CALDAS', 'MARQUETALIA'): 612, ('BOYACA', 'TURMEQUE'): 613, ('CUNDINAMARCA', 'LENGUAZAQUE'): 614, ('BOYACA', 'TIBANA'): 615, ('RISARALDA', 'PUEBLO RICO'): 616, ('CALDAS', 'FILADELFIA'): 617, ('BOYACA', 'ZETAQUIRA'): 618, ('CHOCO', 'UNION PANAMERICANA'): 619, ('CUNDINAMARCA', 'VILLAGOMEZ'): 620, ('CHOCO', 'TADO'): 621, ('CALDAS', 'ARANZAZU'): 622, ('CASANARE', 'RECETOR'): 623, ('CUNDINAMARCA', 'EL PENON'): 624, ('CUNDINAMARCA', 'SUTATAUSA'): 625, ('CASANARE', 'YOPAL'): 626, ('CALDAS', 'MARULANDA'): 627, ('TOLIMA', 'SAN SEBASTIAN DE MARIQUITA'): 628, ('BOYACA', 'SAN EDUARDO'): 629, ('CALDAS', 'MANZANARES'): 630, ('BOYACA', 'BERBEO'): 631, ('CASANARE', 'SAN LUIS DE PALENQUE'): 632, ('CUNDINAMARCA', 'CUCUNUBA'): 633, ('CASANARE', 'CHAMEZA'): 634, ('CUNDINAMARCA', 'VILLAPINZON'): 635, ('BOYACA', 'UMBITA'): 636, ('CUNDINAMARCA', 'LA PENA'): 637, ('BOYACA', 'CHINAVITA'): 638, ('RISARALDA', 'BELEN DE UMBRIA'): 639, ('CALDAS', 'ANSERMA'): 640, ('CUNDINAMARCA', 'TAUSA'): 641, ('CUNDINAMARCA', 'UTICA'): 642, ('TOLIMA', 'FRESNO'): 643, ('CALDAS', 'NEIRA'): 644, ('TOLIMA', 'HONDA'): 645, ('CUNDINAMARCA', 'GUADUAS'): 646, ('CHOCO', 'RIO IRO'): 647, ('CUNDINAMARCA', 'PACHO'): 648, ('BOYACA', 'MIRAFLORES'): 649, ('BOYACA', 'PACHAVITA'): 650, ('RISARALDA', 'APIA'): 651, ('CUNDINAMARCA', 'SUESCA'): 652, ('CUNDINAMARCA', 'NIMAIMA'): 653, ('CUNDINAMARCA', 'VERGARA'): 654, ('CASANARE', 'AGUAZUL'): 655, ('CUNDINAMARCA', 'CHOCONTA'): 656, ('BOYACA', 'LA CAPILLA'): 657, ('CALDAS', 'RISARALDA'): 658, ('CHOCO', 'MEDIO BAUDO'): 659, ('CUNDINAMARCA', 'COGUA'): 660, ('CUNDINAMARCA', 'QUEBRADANEGRA'): 661, ('BOYACA', 'PAEZ'): 662, ('TOLIMA', 'PALOCABILDO'): 663, ('CUNDINAMARCA', 'NEMOCON'): 664, ('BOYACA', 'GARAGOA'): 665, ('CUNDINAMARCA', 'TIBIRITA'): 666, ('CALDAS', 'MANIZALES'): 667, ('TOLIMA', 'FALAN'): 668, ('CHOCO', 'CONDOTO'): 669, ('BOYACA', 'TENZA'): 670, ('CALDAS', 'SAN JOSE'): 671, ('TOLIMA', 'HERVEO'): 672, ('CUNDINAMARCA', 'NOCAIMA'): 673, ('CUNDINAMARCA', 'SUPATA'): 674, ('CALDAS', 'PALESTINA'): 675, ('CALDAS', 'VITERBO'): 676, ('CUNDINAMARCA', 'ZIPAQUIRA'): 677, ('RISARALDA', 'SANTUARIO'): 678, ('CUNDINAMARCA', 'MACHETA'): 679, ('BOYACA', 'SUTATENZA'): 680, ('TOLIMA', 'CASABIANCA'): 681, ('BOYACA', 'GUATEQUE'): 682, ('CHOCO', 'BAJO BAUDO'): 683, ('CUNDINAMARCA', 'VILLETA'): 684, ('CUNDINAMARCA', 'GACHANCIPA'): 685, ('CUNDINAMARCA', 'SESQUILE'): 686, ('BOYACA', 'CAMPOHERMOSO'): 687, ('TOLIMA', 'ARMERO'): 688, ('CALDAS', 'BELALCAZAR'): 689, ('RISARALDA', 'LA CELIA'): 690, ('CALDAS', 'CHINCHINA'): 691, ('BOYACA', 'MACANAL'): 692, ('CUNDINAMARCA', 'LA VEGA'): 693, ('CUNDINAMARCA', 'MANTA'): 694, ('BOYACA', 'SOMONDOCO'): 695, ('CUNDINAMARCA', 'SUBACHOQUE'): 696, ('CUNDINAMARCA', 'TOCANCIPA'): 697, ('VICHADA', 'SANTA ROSALIA'): 698, ('TOLIMA', 'VILLAHERMOSA'): 699, ('CUNDINAMARCA', 'SAN FRANCISCO'): 700, ('CHOCO', 'SAN JOSE DEL PALMAR'): 701, ('BOYACA', 'ALMEIDA'): 702, ('CUNDINAMARCA', 'CHAGUANI'): 703, ('CUNDINAMARCA', 'TABIO'): 704, ('CUNDINAMARCA', 'SASAIMA'): 705, ('RISARALDA', 'MARSELLA'): 706, ('CALDAS', 'VILLAMARIA'): 707, ('BOYACA', 'GUAYATA'): 708, ('CUNDINAMARCA', 'CAJICA'): 709, ('RISARALDA', 'BALBOA'): 710, ('VALLE DEL CAUCA', 'EL AGUILA'): 711, ('CASANARE', 'OROCUE'): 712, ('CUNDINAMARCA', 'GUATAVITA'): 713, ('RISARALDA', 'LA VIRGINIA'): 714, ('CUNDINAMARCA', 'ALBAN'): 715, ('CUNDINAMARCA', 'VIANI'): 716, ('CUNDINAMARCA', 'SOPO'): 717, ('CUNDINAMARCA', 'EL ROSAL'): 718, ('CUNDINAMARCA', 'GUAYABAL DE SIQUIMA'): 719, ('TOLIMA', 'LIBANO'): 720, ('BOYACA', 'CHIVOR'): 721, ('CUNDINAMARCA', 'GACHETA'): 722, ('TOLIMA', 'LERIDA'): 723, ('CUNDINAMARCA', 'CHIA'): 724, ('CHOCO', 'NOVITA'): 725, ('CUNDINAMARCA', 'BITUIMA'): 726, ('RISARALDA', 'DOSQUEBRADAS'): 727, ('CASANARE', 'MONTERREY'): 728, ('CUNDINAMARCA', 'SAN JUAN DE RIOSECO'): 729, ('CUNDINAMARCA', 'TENJO'): 730, ('CUNDINAMARCA', 'FACATATIVA'): 731, ('RISARALDA', 'SANTA ROSA DE CABAL'): 732, ('TOLIMA', 'MURILLO'): 733, ('TOLIMA', 'AMBALEMA'): 734, ('BOYACA', 'SANTA MARIA'): 735, ('BOYACA', 'SAN LUIS DE GACENO'): 736, ('CHOCO', 'MEDIO SAN JUAN'): 737, ('CASANARE', 'SABANALARGA'): 738, ('CUNDINAMARCA', 'GUASCA'): 739, ('VALLE DEL CAUCA', 'ANSERMANUEVO'): 740, ('CUNDINAMARCA', 'ANOLAIMA'): 741, ('CUNDINAMARCA', 'COTA'): 742, ('RISARALDA', 'PEREIRA'): 743, ('CUNDINAMARCA', 'MADRID'): 744, ('CUNDINAMARCA', 'UBALA'): 745, ('VALLE DEL CAUCA', 'EL CAIRO'): 746, ('CUNDINAMARCA', 'ZIPACON'): 747, ('CUNDINAMARCA', 'FUNZA'): 748, ('CHOCO', 'ISTMINA'): 749, ('TOLIMA', 'SANTA ISABEL'): 750, ('CUNDINAMARCA', 'GAMA'): 751, ('CUNDINAMARCA', 'CACHIPAY'): 752, ('CUNDINAMARCA', 'BELTRAN'): 753, ('CUNDINAMARCA', 'QUIPILE'): 754, ('TOLIMA', 'VENADILLO'): 755, ('VALLE DEL CAUCA', 'ULLOA'): 756, ('VALLE DEL CAUCA', 'CARTAGO'): 757, ('CUNDINAMARCA', 'JUNIN'): 758, ('VALLE DEL CAUCA', 'ARGELIA'): 759, ('CUNDINAMARCA', 'LA CALERA'): 760, ('CASANARE', 'TAURAMENA'): 761, ('CUNDINAMARCA', 'BOJACA'): 762, ('CUNDINAMARCA', 'PULI'): 763, ('VALLE DEL CAUCA', 'ALCALA'): 764, ('CASANARE', 'MANI'): 765, ('CUNDINAMARCA', 'MOSQUERA'): 766, ('QUINDIO', 'FILANDIA'): 767, ('CUNDINAMARCA', 'GACHALA'): 768, ('CUNDINAMARCA', 'TENA'): 769, ('CUNDINAMARCA', 'LA MESA'): 770, ('VALLE DEL CAUCA', 'TORO'): 771, ('TOLIMA', 'ANZOATEGUI'): 772, ('VALLE DEL CAUCA', 'VERSALLES'): 773, ('QUINDIO', 'SALENTO'): 774, ('QUINDIO', 'QUIMBAYA'): 775, ('QUINDIO', 'CIRCASIA'): 776, ('CUNDINAMARCA', 'SAN ANTONIO DEL TEQUENDAMA'): 777, ('VALLE DEL CAUCA', 'OBANDO'): 778, ('CHOCO', 'SIPI'): 779, ('CUNDINAMARCA', 'CHOACHI'): 780, ('TOLIMA', 'ALVARADO'): 781, ('CUNDINAMARCA', 'JERUSALEN'): 782, ('CUNDINAMARCA', 'ANAPOIMA'): 783, ('CUNDINAMARCA', 'EL COLEGIO'): 784, ('VALLE DEL CAUCA', 'EL DOVIO'): 785, ('VALLE DEL CAUCA', 'LA UNION'): 786, ('CUNDINAMARCA', 'SOACHA'): 787, ('CUNDINAMARCA', 'FOMEQUE'): 788, ('CASANARE', 'VILLANUEVA'): 789, ('CUNDINAMARCA', 'GRANADA'): 790, ('QUINDIO', 'MONTENEGRO'): 791, ('CUNDINAMARCA', 'APULO'): 792, ('META', 'BARRANCA DE UPIA'): 793, ('CUNDINAMARCA', 'GUATAQUI'): 794, ('CUNDINAMARCA', 'UBAQUE'): 795, ('QUINDIO', 'ARMENIA'): 796, ('TOLIMA', 'PIEDRAS'): 797, ('CUNDINAMARCA', 'MEDINA'): 798, ('VALLE DEL CAUCA', 'LA VICTORIA'): 799, ('META', 'SAN JUANITO'): 800, ('QUINDIO', 'CALARCA'): 801, ('CUNDINAMARCA', 'SIBATE'): 802, ('CUNDINAMARCA', 'PARATEBUENO'): 803, ('CUNDINAMARCA', 'TOCAIMA'): 804, ('TOLIMA', 'IBAGUE'): 805, ('VALLE DEL CAUCA', 'ROLDANILLO'): 806, ('CUNDINAMARCA', 'SILVANIA'): 807, ('CUNDINAMARCA', 'VIOTA'): 808, ('QUINDIO', 'LA TEBAIDA'): 809, ('CUNDINAMARCA', 'CHIPAQUE'): 810, ('CUNDINAMARCA', 'NARINO'): 811, ('TOLIMA', 'CAJAMARCA'): 812, ('CUNDINAMARCA', 'CAQUEZA'): 813, ('QUINDIO', 'CORDOBA'): 814, ('CUNDINAMARCA', 'AGUA DE DIOS'): 815, ('QUINDIO', 'BUENAVISTA'): 816, ('VALLE DEL CAUCA', 'BOLIVAR'): 817, ('TOLIMA', 'COELLO'): 818, ('VALLE DEL CAUCA', 'ZARZAL'): 819, ('META', 'EL CALVARIO'): 820, ('CUNDINAMARCA', 'GIRARDOT'): 821, ('CUNDINAMARCA', 'QUETAME'): 822, ('CUNDINAMARCA', 'FUSAGASUGA'): 823, ('CUNDINAMARCA', 'TIBACUY'): 824, ('BOGOTA, D.C.', 'BOGOTA, D.C.'): 825, ('CUNDINAMARCA', 'FOSCA'): 826, ('META', 'CABUYARO'): 827, ('VALLE DEL CAUCA', 'CAICEDONIA'): 828, ('CUNDINAMARCA', 'RICAURTE'): 829, ('QUINDIO', 'PIJAO'): 830, ('CUNDINAMARCA', 'UNE'): 831, ('CUNDINAMARCA', 'NILO'): 832, ('CUNDINAMARCA', 'PASCA'): 833, ('VICHADA', 'CUMARIBO'): 834, ('CHOCO', 'EL LITORAL DEL SAN JUAN'): 835, ('TOLIMA', 'FLANDES'): 836, ('META', 'RESTREPO'): 837, ('VALLE DEL CAUCA', 'TRUJILLO'): 838, ('CUNDINAMARCA', 'ARBELAEZ'): 839, ('META', 'CUMARAL'): 840, ('CUNDINAMARCA', 'GUAYABETAL'): 841, ('TOLIMA', 'ROVIRA'): 842, ('VALLE DEL CAUCA', 'BUGALAGRANDE'): 843, ('VALLE DEL CAUCA', 'SEVILLA'): 844, ('TOLIMA', 'MELGAR'): 845, ('TOLIMA', 'VALLE DE SAN JUAN'): 846, ('CUNDINAMARCA', 'PANDI'): 847, ('QUINDIO', 'GENOVA'): 848, ('TOLIMA', 'ESPINAL'): 849, ('CUNDINAMARCA', 'GUTIERREZ'): 850, ('VALLE DEL CAUCA', 'ANDALUCIA'): 851, ('CUNDINAMARCA', 'SAN BERNARDO'): 852, ('TOLIMA', 'ICONONZO'): 853, ('TOLIMA', 'SAN LUIS'): 854, ('TOLIMA', 'CARMEN DE APICALA'): 855, ('VALLE DEL CAUCA', 'RIOFRIO'): 856, ('TOLIMA', 'RONCESVALLES'): 857, ('META', 'VILLAVICENCIO'): 858, ('TOLIMA', 'GUAMO'): 859, ('CUNDINAMARCA', 'VENECIA'): 860, ('TOLIMA', 'SUAREZ'): 861, ('VALLE DEL CAUCA', 'TULUA'): 862, ('META', 'PUERTO LOPEZ'): 863, ('META', 'ACACIAS'): 864, ('META', 'PUERTO GAITAN'): 865, ('TOLIMA', 'CUNDAY'): 866, ('VALLE DEL CAUCA', 'SAN PEDRO'): 867, ('TOLIMA', 'SAN ANTONIO'): 868, ('META', 'GUAMAL'): 869, ('VALLE DEL CAUCA', 'CALIMA'): 870, ('TOLIMA', 'ORTEGA'): 871, ('CUNDINAMARCA', 'CABRERA'): 872, ('TOLIMA', 'SALDANA'): 873, ('VALLE DEL CAUCA', 'YOTOCO'): 874, ('VALLE DEL CAUCA', 'GUADALAJARA DE BUGA'): 875, ('TOLIMA', 'VILLARRICA'): 876, ('TOLIMA', 'PURIFICACION'): 877, ('META', 'SAN CARLOS DE GUAROA'): 878, ('META', 'CUBARRAL'): 879, ('VALLE DEL CAUCA', 'RESTREPO'): 880, ('META', 'CASTILLA LA NUEVA'): 881, ('VALLE DEL CAUCA', 'GUACARI'): 882, ('VALLE DEL CAUCA', 'GINEBRA'): 883, ('TOLIMA', 'CHAPARRAL'): 884, ('VALLE DEL CAUCA', 'VIJES'): 885, ('TOLIMA', 'COYAIMA'): 886, ('TOLIMA', 'PRADO'): 887, ('META', 'EL DORADO'): 888, ('VALLE DEL CAUCA', 'LA CUMBRE'): 889, ('VALLE DEL CAUCA', 'EL CERRITO'): 890, ('VALLE DEL CAUCA', 'DAGUA'): 891, ('META', 'EL CASTILLO'): 892, ('META', 'LEJANIAS'): 893, ('VALLE DEL CAUCA', 'BUENAVENTURA'): 894, ('TOLIMA', 'DOLORES'): 895, ('VALLE DEL CAUCA', 'YUMBO'): 896, ('VALLE DEL CAUCA', 'PALMIRA'): 897, ('TOLIMA', 'NATAGAIMA'): 898, ('META', 'SAN MARTIN'): 899, ('META', 'GRANADA'): 900, ('TOLIMA', 'RIOBLANCO'): 901, ('HUILA', 'COLOMBIA'): 902, ('TOLIMA', 'ATACO'): 903, ('VALLE DEL CAUCA', 'PRADERA'): 904, ('VALLE DEL CAUCA', 'CALI'): 905, ('TOLIMA', 'ALPUJARRA'): 906, ('GUAINIA', 'CACAHUAL'): 907, ('META', 'FUENTE DE ORO'): 908, ('VALLE DEL CAUCA', 'CANDELARIA'): 909, ('GUAINIA', 'INIRIDA'): 910, ('VALLE DEL CAUCA', 'FLORIDA'): 911, ('META', 'SAN JUAN DE ARAMA'): 912, ('HUILA', 'VILLAVIEJA'): 913, ('CAUCA', 'PUERTO TEJADA'): 914, ('HUILA', 'AIPE'): 915, ('CAUCA', 'MIRANDA'): 916, ('VALLE DEL CAUCA', 'JAMUNDI'): 917, ('CAUCA', 'PADILLA'): 918, ('META', 'PUERTO LLERAS'): 919, ('CAUCA', 'VILLA RICA'): 920, ('META', 'MESETAS'): 921, ('CAUCA', 'GUACHENE'): 922, ('GUAINIA', 'BARRANCOMINAS'): 923, ('CAUCA', 'CORINTO'): 924, ('HUILA', 'BARAYA'): 925, ('META', 'MAPIRIPAN'): 926, ('TOLIMA', 'PLANADAS'): 927, ('META', 'URIBE'): 928, ('CAUCA', 'BUENOS AIRES'): 929, ('CAUCA', 'CALOTO'): 930, ('HUILA', 'TELLO'): 931, ('CAUCA', 'LOPEZ DE MICAY'): 932, ('HUILA', 'NEIVA'): 933, ('CAUCA', 'SANTANDER DE QUILICHAO'): 934, ('CAUCA', 'TORIBIO'): 935, ('CAUCA', 'SUAREZ'): 936, ('HUILA', 'SANTA MARIA'): 937, ('HUILA', 'PALERMO'): 938, ('CAUCA', 'JAMBALO'): 939, ('HUILA', 'TERUEL'): 940, ('CAUCA', 'MORALES'): 941, ('META', 'VISTAHERMOSA'): 942, ('CAUCA', 'CALDONO'): 943, ('HUILA', 'RIVERA'): 944, ('META', 'PUERTO RICO'): 945, ('META', 'PUERTO CONCORDIA'): 946, ('CAUCA', 'PAEZ'): 947, ('CAUCA', 'PIENDAMO - TUNIA'): 948, ('CAUCA', 'TIMBIQUI'): 949, ('HUILA', 'IQUIRA'): 950, ('HUILA', 'CAMPOALEGRE'): 951, ('CAUCA', 'SILVIA'): 952, ('HUILA', 'YAGUARA'): 953, ('CAUCA', 'CAJIBIO'): 954, ('HUILA', 'NATAGA'): 955, ('HUILA', 'HOBO'): 956, ('CAUCA', 'EL TAMBO'): 957, ('HUILA', 'TESALIA'): 958, ('GUAINIA', 'PUERTO COLOMBIA'): 959, ('CAUCA', 'TOTORO'): 960, ('CAUCA', 'INZA'): 961, ('HUILA', 'ALGECIRAS'): 962, ('GUAVIARE', 'SAN JOSE DEL GUAVIARE'): 963, ('CAUCA', 'POPAYAN'): 964, ('NARINO', 'MOSQUERA'): 965, ('GUAINIA', 'MORICHAL'): 966, ('NARINO', 'LA TOLA'): 967, ('CAUCA', 'GUAPI'): 968, ('HUILA', 'PAICOL'): 969, ('HUILA', 'GIGANTE'): 970, ('CAUCA', 'TIMBIO'): 971, ('CAUCA', 'ARGELIA'): 972, ('HUILA', 'LA PLATA'): 973, ('NARINO', 'SANTA BARBARA'): 974, ('NARINO', 'OLAYA HERRERA'): 975, ('CAUCA', 'PURACE'): 976, ('HUILA', 'AGRADO'): 977, ('META', 'LA MACARENA'): 978, ('HUILA', 'PITAL'): 979, ('CAUCA', 'ROSAS'): 980, ('CAUCA', 'SOTARA PAISPAMBA'): 981, ('CAUCA', 'LA SIERRA'): 982, ('NARINO', 'EL CHARCO'): 983, ('HUILA', 'LA ARGENTINA'): 984, ('HUILA', 'GARZON'): 985, ('GUAINIA', 'SAN FELIPE'): 986, ('CAUCA', 'PATIA'): 987, ('HUILA', 'TARQUI'): 988, ('HUILA', 'SALADOBLANCO'): 989, ('NARINO', 'FRANCISCO PIZARRO'): 990, ('GUAVIARE', 'EL RETORNO'): 991, ('CAUCA', 'BALBOA'): 992, ('HUILA', 'ALTAMIRA'): 993, ('HUILA', 'OPORAPA'): 994, ('CAUCA', 'SUCRE'): 995, ('CAUCA', 'LA VEGA'): 996, ('CAQUETA', 'PUERTO RICO'): 997, ('HUILA', 'ISNOS'): 998, ('HUILA', 'ELIAS'): 999, ('HUILA', 'GUADALUPE'): 1000, ('GUAINIA', 'PANA PANA'): 1001, ('HUILA', 'TIMANA'): 1002, ('NARINO', 'LEIVA'): 1003, ('HUILA', 'SAN AGUSTIN'): 1004, ('CAUCA', 'ALMAGUER'): 1005, ('NARINO', 'MAGUI'): 1006, ('NARINO', 'ROBERTO PAYAN'): 1007, ('HUILA', 'SUAZA'): 1008, ('CAUCA', 'SAN SEBASTIAN'): 1009, ('CAUCA', 'BOLIVAR'): 1010, ('NARINO', 'EL ROSARIO'): 1011, ('HUILA', 'PITALITO'): 1012, ('CAUCA', 'MERCADERES'): 1013, ('CAQUETA', 'EL DONCELLO'): 1014, ('CAQUETA', 'FLORENCIA'): 1015, ('NARINO', 'POLICARPA'): 1016, ('NARINO', 'CUMBITARA'): 1017, ('HUILA', 'ACEVEDO'): 1018, ('CAUCA', 'FLORENCIA'): 1019, ('VAUPES', 'PAPUNAHUA'): 1020, ('NARINO', 'SAN PABLO'): 1021, ('HUILA', 'PALESTINA'): 1022, ('NARINO', 'LOS ANDES'): 1023, ('NARINO', 'COLON'): 1024, ('NARINO', 'SAN ANDRES DE TUMACO'): 1025, ('NARINO', 'LA UNION'): 1026, ('CAQUETA', 'EL PAUJIL'): 1027, ('CAQUETA', 'SAN VICENTE DEL CAGUAN'): 1028, ('GUAVIARE', 'CALAMAR'): 1029, ('NARINO', 'TAMINANGO'): 1030, ('NARINO', 'BELEN'): 1031, ('NARINO', 'LA CRUZ'): 1032, ('NARINO', 'LA LLANADA'): 1033, ('NARINO', 'SAN LORENZO'): 1034, ('NARINO', 'SAN PEDRO DE CARTAGO'): 1035, ('NARINO', 'SAN BERNARDO'): 1036, ('CAUCA', 'SANTA ROSA'): 1037, ('NARINO', 'EL PENOL'): 1038, ('CAQUETA', 'BELEN DE LOS ANDAQUIES'): 1039, ('NARINO', 'ARBOLEDA'): 1040, ('NARINO', 'ALBAN'): 1041, ('NARINO', 'BARBACOAS'): 1042, ('NARINO', 'SAMANIEGO'): 1043, ('NARINO', 'EL TAMBO'): 1044, ('NARINO', 'EL TABLON DE GOMEZ'): 1045, ('GUAINIA', 'LA GUADALUPE'): 1046, ('NARINO', 'LINARES'): 1047, ('NARINO', 'CHACHAGUI'): 1048, ('CAQUETA', 'MORELIA'): 1049, ('GUAVIARE', 'MIRAFLORES'): 1050, ('NARINO', 'LA FLORIDA'): 1051, ('NARINO', 'BUESACO'): 1052, ('CAQUETA', 'SAN JOSE DEL FRAGUA'): 1053, ('CAQUETA', 'LA MONTANITA'): 1054, ('NARINO', 'SANDONA'): 1055, ('NARINO', 'SANTACRUZ'): 1056, ('NARINO', 'NARINO'): 1057, ('NARINO', 'ANCUYA'): 1058, ('NARINO', 'PROVIDENCIA'): 1059, ('PUTUMAYO', 'SIBUNDOY'): 1060, ('PUTUMAYO', 'MOCOA'): 1061, ('CAQUETA', 'ALBANIA'): 1062, ('PUTUMAYO', 'COLON'): 1063, ('NARINO', 'CONSACA'): 1064, ('NARINO', 'RICAURTE'): 1065, ('NARINO', 'MALLAMA'): 1066, ('CAUCA', 'PIAMONTE'): 1067, ('NARINO', 'GUAITARILLA'): 1068, ('CAQUETA', 'MILAN'): 1069, ('PUTUMAYO', 'SAN FRANCISCO'): 1070, ('NARINO', 'TUQUERRES'): 1071, ('NARINO', 'YACUANQUER'): 1072, ('PUTUMAYO', 'SANTIAGO'): 1073, ('NARINO', 'PASTO'): 1074, ('NARINO', 'IMUES'): 1075, ('NARINO', 'TANGUA'): 1076, ('CAQUETA', 'VALPARAISO'): 1077, ('CAQUETA', 'CURILLO'): 1078, ('VAUPES', 'CARURU'): 1079, ('NARINO', 'SAPUYES'): 1080, ('NARINO', 'OSPINA'): 1081, ('VAUPES', 'MITU'): 1082, ('NARINO', 'ILES'): 1083, ('NARINO', 'GUACHUCAL'): 1084, ('NARINO', 'CUMBAL'): 1085, ('NARINO', 'CONTADERO'): 1086, ('NARINO', 'GUALMATAN'): 1087, ('NARINO', 'PUPIALES'): 1088, ('NARINO', 'FUNES'): 1089, ('NARINO', 'ALDANA'): 1090, ('PUTUMAYO', 'VILLAGARZON'): 1091, ('CAQUETA', 'SOLITA'): 1092, ('NARINO', 'CUASPUD CARLOSAMA'): 1093, ('VAUPES', 'YAVARATE'): 1094, ('NARINO', 'PUERRES'): 1095, ('NARINO', 'CORDOBA'): 1096, ('PUTUMAYO', 'PUERTO GUZMAN'): 1097, ('PUTUMAYO', 'PUERTO CAICEDO'): 1098, ('NARINO', 'POTOSI'): 1099, ('PUTUMAYO', 'ORITO'): 1100, ('CAQUETA', 'CARTAGENA DEL CHAIRA'): 1101, ('NARINO', 'IPIALES'): 1102, ('PUTUMAYO', 'PUERTO ASIS'): 1103, ('PUTUMAYO', 'VALLE DEL GUAMUEZ'): 1104, ('PUTUMAYO', 'SAN MIGUEL'): 1105, ('CAQUETA', 'SOLANO'): 1106, ('VAUPES', 'PACOA'): 1107, ('PUTUMAYO', 'PUERTO LEGUIZAMO'): 1108, ('AMAZONAS', 'LA VICTORIA'): 1109, ('AMAZONAS', 'MIRITI - PARANA'): 1110, ('VAUPES', 'TARAIRA'): 1111, ('AMAZONAS', 'PUERTO ALEGRIA'): 1112, ('AMAZONAS', 'PUERTO SANTANDER'): 1113, ('AMAZONAS', 'LA CHORRERA'): 1114, ('AMAZONAS', 'LA PEDRERA'): 1115, ('AMAZONAS', 'PUERTO ARICA'): 1116, ('AMAZONAS', 'EL ENCANTO'): 1117, ('AMAZONAS', 'TARAPACA'): 1118, ('AMAZONAS', 'LETICIA'): 1119, ('AMAZONAS', 'PUERTO NARINO'): 1120}\n"
          ]
        }
      ],
      "source": [
        "print(municipio_a_indice)"
      ]
    },
    {
      "cell_type": "markdown",
      "metadata": {
        "id": "eRZRNWgHDPJ1"
      },
      "source": [
        "Con la plantilla lista para ser usada, se procede a crear cada capa como una imagen distinta por cada dia desde que se registro el primer feminicidio en el dataframe del observatorio"
      ]
    },
    {
      "cell_type": "code",
      "execution_count": null,
      "metadata": {
        "id": "y-Dp-0qwDPJ2",
        "outputId": "674ee52e-40e4-413c-f6cf-7ad0f258d097",
        "colab": {
          "base_uri": "https://localhost:8080/",
          "height": 206
        }
      },
      "outputs": [
        {
          "output_type": "execute_result",
          "data": {
            "text/plain": [
              "  fecha_en_prensa     departamento      municipio  num_casos  \\\n",
              "0      2018-01-02        ANTIOQUIA       HISPANIA          1   \n",
              "1      2018-01-02             META  VILLAVICENCIO          1   \n",
              "2      2018-01-03        ANTIOQUIA       MEDELLIN          3   \n",
              "3      2018-01-03  VALLE DEL CAUCA           CALI          2   \n",
              "4      2018-01-05          CORDOBA       MONTERIA          1   \n",
              "\n",
              "   num_casos_normalizado  \n",
              "0                   0.00  \n",
              "1                   0.00  \n",
              "2                   0.50  \n",
              "3                   0.25  \n",
              "4                   0.00  "
            ],
            "text/html": [
              "\n",
              "  <div id=\"df-fb5fb038-4a71-4550-839a-ba7eeb973f03\">\n",
              "    <div class=\"colab-df-container\">\n",
              "      <div>\n",
              "<style scoped>\n",
              "    .dataframe tbody tr th:only-of-type {\n",
              "        vertical-align: middle;\n",
              "    }\n",
              "\n",
              "    .dataframe tbody tr th {\n",
              "        vertical-align: top;\n",
              "    }\n",
              "\n",
              "    .dataframe thead th {\n",
              "        text-align: right;\n",
              "    }\n",
              "</style>\n",
              "<table border=\"1\" class=\"dataframe\">\n",
              "  <thead>\n",
              "    <tr style=\"text-align: right;\">\n",
              "      <th></th>\n",
              "      <th>fecha_en_prensa</th>\n",
              "      <th>departamento</th>\n",
              "      <th>municipio</th>\n",
              "      <th>num_casos</th>\n",
              "      <th>num_casos_normalizado</th>\n",
              "    </tr>\n",
              "  </thead>\n",
              "  <tbody>\n",
              "    <tr>\n",
              "      <th>0</th>\n",
              "      <td>2018-01-02</td>\n",
              "      <td>ANTIOQUIA</td>\n",
              "      <td>HISPANIA</td>\n",
              "      <td>1</td>\n",
              "      <td>0.00</td>\n",
              "    </tr>\n",
              "    <tr>\n",
              "      <th>1</th>\n",
              "      <td>2018-01-02</td>\n",
              "      <td>META</td>\n",
              "      <td>VILLAVICENCIO</td>\n",
              "      <td>1</td>\n",
              "      <td>0.00</td>\n",
              "    </tr>\n",
              "    <tr>\n",
              "      <th>2</th>\n",
              "      <td>2018-01-03</td>\n",
              "      <td>ANTIOQUIA</td>\n",
              "      <td>MEDELLIN</td>\n",
              "      <td>3</td>\n",
              "      <td>0.50</td>\n",
              "    </tr>\n",
              "    <tr>\n",
              "      <th>3</th>\n",
              "      <td>2018-01-03</td>\n",
              "      <td>VALLE DEL CAUCA</td>\n",
              "      <td>CALI</td>\n",
              "      <td>2</td>\n",
              "      <td>0.25</td>\n",
              "    </tr>\n",
              "    <tr>\n",
              "      <th>4</th>\n",
              "      <td>2018-01-05</td>\n",
              "      <td>CORDOBA</td>\n",
              "      <td>MONTERIA</td>\n",
              "      <td>1</td>\n",
              "      <td>0.00</td>\n",
              "    </tr>\n",
              "  </tbody>\n",
              "</table>\n",
              "</div>\n",
              "      <button class=\"colab-df-convert\" onclick=\"convertToInteractive('df-fb5fb038-4a71-4550-839a-ba7eeb973f03')\"\n",
              "              title=\"Convert this dataframe to an interactive table.\"\n",
              "              style=\"display:none;\">\n",
              "        \n",
              "  <svg xmlns=\"http://www.w3.org/2000/svg\" height=\"24px\"viewBox=\"0 0 24 24\"\n",
              "       width=\"24px\">\n",
              "    <path d=\"M0 0h24v24H0V0z\" fill=\"none\"/>\n",
              "    <path d=\"M18.56 5.44l.94 2.06.94-2.06 2.06-.94-2.06-.94-.94-2.06-.94 2.06-2.06.94zm-11 1L8.5 8.5l.94-2.06 2.06-.94-2.06-.94L8.5 2.5l-.94 2.06-2.06.94zm10 10l.94 2.06.94-2.06 2.06-.94-2.06-.94-.94-2.06-.94 2.06-2.06.94z\"/><path d=\"M17.41 7.96l-1.37-1.37c-.4-.4-.92-.59-1.43-.59-.52 0-1.04.2-1.43.59L10.3 9.45l-7.72 7.72c-.78.78-.78 2.05 0 2.83L4 21.41c.39.39.9.59 1.41.59.51 0 1.02-.2 1.41-.59l7.78-7.78 2.81-2.81c.8-.78.8-2.07 0-2.86zM5.41 20L4 18.59l7.72-7.72 1.47 1.35L5.41 20z\"/>\n",
              "  </svg>\n",
              "      </button>\n",
              "      \n",
              "  <style>\n",
              "    .colab-df-container {\n",
              "      display:flex;\n",
              "      flex-wrap:wrap;\n",
              "      gap: 12px;\n",
              "    }\n",
              "\n",
              "    .colab-df-convert {\n",
              "      background-color: #E8F0FE;\n",
              "      border: none;\n",
              "      border-radius: 50%;\n",
              "      cursor: pointer;\n",
              "      display: none;\n",
              "      fill: #1967D2;\n",
              "      height: 32px;\n",
              "      padding: 0 0 0 0;\n",
              "      width: 32px;\n",
              "    }\n",
              "\n",
              "    .colab-df-convert:hover {\n",
              "      background-color: #E2EBFA;\n",
              "      box-shadow: 0px 1px 2px rgba(60, 64, 67, 0.3), 0px 1px 3px 1px rgba(60, 64, 67, 0.15);\n",
              "      fill: #174EA6;\n",
              "    }\n",
              "\n",
              "    [theme=dark] .colab-df-convert {\n",
              "      background-color: #3B4455;\n",
              "      fill: #D2E3FC;\n",
              "    }\n",
              "\n",
              "    [theme=dark] .colab-df-convert:hover {\n",
              "      background-color: #434B5C;\n",
              "      box-shadow: 0px 1px 3px 1px rgba(0, 0, 0, 0.15);\n",
              "      filter: drop-shadow(0px 1px 2px rgba(0, 0, 0, 0.3));\n",
              "      fill: #FFFFFF;\n",
              "    }\n",
              "  </style>\n",
              "\n",
              "      <script>\n",
              "        const buttonEl =\n",
              "          document.querySelector('#df-fb5fb038-4a71-4550-839a-ba7eeb973f03 button.colab-df-convert');\n",
              "        buttonEl.style.display =\n",
              "          google.colab.kernel.accessAllowed ? 'block' : 'none';\n",
              "\n",
              "        async function convertToInteractive(key) {\n",
              "          const element = document.querySelector('#df-fb5fb038-4a71-4550-839a-ba7eeb973f03');\n",
              "          const dataTable =\n",
              "            await google.colab.kernel.invokeFunction('convertToInteractive',\n",
              "                                                     [key], {});\n",
              "          if (!dataTable) return;\n",
              "\n",
              "          const docLinkHtml = 'Like what you see? Visit the ' +\n",
              "            '<a target=\"_blank\" href=https://colab.research.google.com/notebooks/data_table.ipynb>data table notebook</a>'\n",
              "            + ' to learn more about interactive tables.';\n",
              "          element.innerHTML = '';\n",
              "          dataTable['output_type'] = 'display_data';\n",
              "          await google.colab.output.renderOutput(dataTable, element);\n",
              "          const docLink = document.createElement('div');\n",
              "          docLink.innerHTML = docLinkHtml;\n",
              "          element.appendChild(docLink);\n",
              "        }\n",
              "      </script>\n",
              "    </div>\n",
              "  </div>\n",
              "  "
            ]
          },
          "metadata": {},
          "execution_count": 95
        }
      ],
      "source": [
        "feminicidios = pd.read_csv('/content/drive/MyDrive/MGN2021_MPIO_POLITICO/datos_observatorio_limpios.csv', encoding='utf-8', sep=',')\n",
        "\n",
        "feminicidios['num_casos'] = feminicidios['num_casos'].astype(int)\n",
        "\n",
        "feminicidios['fecha_en_prensa'] = pd.to_datetime(feminicidios['fecha_en_prensa'])\n",
        "\n",
        "feminicidios.head()"
      ]
    },
    {
      "cell_type": "code",
      "execution_count": null,
      "metadata": {
        "id": "JnyRaRaTDPJ3",
        "outputId": "1d793c4c-449a-4ee7-f916-2df768f7cf10",
        "colab": {
          "base_uri": "https://localhost:8080/"
        }
      },
      "outputs": [
        {
          "output_type": "stream",
          "name": "stdout",
          "text": [
            "2018-01-02 00:00:00 - 2023-01-28 00:00:00\n"
          ]
        }
      ],
      "source": [
        "fecha_mas_antigua = feminicidios['fecha_en_prensa'].min()\n",
        "ultima_fecha = feminicidios['fecha_en_prensa'].max()\n",
        "\n",
        "print(fecha_mas_antigua,'-',ultima_fecha)"
      ]
    },
    {
      "cell_type": "code",
      "execution_count": null,
      "metadata": {
        "id": "4SHLYsyQDPJ3",
        "outputId": "f54361f6-15a1-4420-f949-596a0b9b962a",
        "colab": {
          "base_uri": "https://localhost:8080/"
        }
      },
      "outputs": [
        {
          "output_type": "stream",
          "name": "stdout",
          "text": [
            "1852\n"
          ]
        }
      ],
      "source": [
        "diferencia = ultima_fecha- fecha_mas_antigua\n",
        "num_dias = diferencia.days\n",
        "print(num_dias)\n",
        "fecha_inicial=fecha_mas_antigua\n",
        "fecha_final=ultima_fecha"
      ]
    },
    {
      "cell_type": "code",
      "execution_count": null,
      "metadata": {
        "id": "JeODO0dMDPJ4"
      },
      "outputs": [],
      "source": [
        "min_num_casos = feminicidios['num_casos'].min()\n",
        "max_num_casos = feminicidios['num_casos'].max()\n",
        "feminicidios['num_casos_normalizado'] = (feminicidios['num_casos'] - min_num_casos) / (max_num_casos - min_num_casos)"
      ]
    },
    {
      "cell_type": "code",
      "execution_count": null,
      "metadata": {
        "id": "-0CF0LiaDPJ4"
      },
      "outputs": [],
      "source": [
        "fecha_min = feminicidios['fecha_en_prensa'].min()\n",
        "fecha_max = feminicidios['fecha_en_prensa'].max()\n",
        "rango_fechas = pd.date_range(fecha_min, fecha_max)"
      ]
    },
    {
      "cell_type": "code",
      "execution_count": null,
      "metadata": {
        "id": "WpjxRBTQDPJ4"
      },
      "outputs": [],
      "source": [
        "data = {fecha: [0]*len(municipio_a_indice) for fecha in rango_fechas}"
      ]
    },
    {
      "cell_type": "code",
      "execution_count": null,
      "metadata": {
        "id": "7VrFqfGKDPJ4"
      },
      "outputs": [],
      "source": [
        "for _, row in feminicidios.iterrows():\n",
        "    try:\n",
        "        fecha = row['fecha_en_prensa']\n",
        "        departamento = row['departamento']\n",
        "        municipio = row['municipio']\n",
        "        indice = municipio_a_indice[(departamento, municipio)]\n",
        "        data[fecha][indice] = 1\n",
        "    except KeyError:\n",
        "        print(f\"KeyError for departamento: {departamento}, municipio: {municipio}, fecha: {fecha}\")\n"
      ]
    },
    {
      "cell_type": "code",
      "execution_count": null,
      "metadata": {
        "id": "vyCEDERgDPJ5",
        "outputId": "ddf5ebcb-2e44-4268-f28a-01460bf44861",
        "colab": {
          "base_uri": "https://localhost:8080/"
        }
      },
      "outputs": [
        {
          "output_type": "stream",
          "name": "stdout",
          "text": [
            "{('ARCHIPIELAGO DE SAN ANDRES, PROVIDENCIA Y SANTA CATALINA', 'PROVIDENCIA'): 0, ('ARCHIPIELAGO DE SAN ANDRES, PROVIDENCIA Y SANTA CATALINA', 'SAN ANDRES'): 1, ('LA GUAJIRA', 'URIBIA'): 2, ('LA GUAJIRA', 'MANAURE'): 3, ('LA GUAJIRA', 'MAICAO'): 4, ('LA GUAJIRA', 'RIOHACHA'): 5, ('LA GUAJIRA', 'ALBANIA'): 6, ('MAGDALENA', 'SANTA MARTA'): 7, ('LA GUAJIRA', 'HATONUEVO'): 8, ('LA GUAJIRA', 'DIBULLA'): 9, ('ATLANTICO', 'PUERTO COLOMBIA'): 10, ('LA GUAJIRA', 'BARRANCAS'): 11, ('ATLANTICO', 'BARRANQUILLA'): 12, ('LA GUAJIRA', 'DISTRACCION'): 13, ('ATLANTICO', 'TUBARA'): 14, ('ATLANTICO', 'SOLEDAD'): 15, ('ATLANTICO', 'GALAPA'): 16, ('MAGDALENA', 'SITIONUEVO'): 17, ('MAGDALENA', 'CIENAGA'): 18, ('ATLANTICO', 'MALAMBO'): 19, ('MAGDALENA', 'PUEBLOVIEJO'): 20, ('LA GUAJIRA', 'FONSECA'): 21, ('ATLANTICO', 'JUAN DE ACOSTA'): 22, ('LA GUAJIRA', 'SAN JUAN DEL CESAR'): 23, ('ATLANTICO', 'SABANAGRANDE'): 24, ('MAGDALENA', 'ZONA BANANERA'): 25, ('ATLANTICO', 'BARANOA'): 26, ('ATLANTICO', 'POLONUEVO'): 27, ('ATLANTICO', 'SANTO TOMAS'): 28, ('ATLANTICO', 'PIOJO'): 29, ('ATLANTICO', 'USIACURI'): 30, ('ATLANTICO', 'PALMAR DE VARELA'): 31, ('MAGDALENA', 'EL RETEN'): 32, ('BOLIVAR', 'SANTA CATALINA'): 33, ('MAGDALENA', 'REMOLINO'): 34, ('MAGDALENA', 'ARACATACA'): 35, ('LA GUAJIRA', 'EL MOLINO'): 36, ('ATLANTICO', 'LURUACO'): 37, ('ATLANTICO', 'SABANALARGA'): 38, ('ATLANTICO', 'PONEDERA'): 39, ('LA GUAJIRA', 'VILLANUEVA'): 40, ('BOLIVAR', 'CLEMENCIA'): 41, ('MAGDALENA', 'SALAMINA'): 42, ('ATLANTICO', 'REPELON'): 43, ('LA GUAJIRA', 'URUMITA'): 44, ('ATLANTICO', 'CANDELARIA'): 45, ('BOLIVAR', 'SANTA ROSA'): 46, ('CESAR', 'PUEBLO BELLO'): 47, ('MAGDALENA', 'FUNDACION'): 48, ('LA GUAJIRA', 'LA JAGUA DEL PILAR'): 49, ('ATLANTICO', 'MANATI'): 50, ('BOLIVAR', 'CARTAGENA DE INDIAS'): 51, ('BOLIVAR', 'VILLANUEVA'): 52, ('MAGDALENA', 'PIVIJAY'): 53, ('ATLANTICO', 'CAMPO DE LA CRUZ'): 54, ('CESAR', 'MANAURE BALCON DEL CESAR'): 55, ('CESAR', 'VALLEDUPAR'): 56, ('BOLIVAR', 'SAN CRISTOBAL'): 57, ('BOLIVAR', 'SAN ESTANISLAO'): 58, ('ATLANTICO', 'SANTA LUCIA'): 59, ('BOLIVAR', 'TURBACO'): 60, ('MAGDALENA', 'EL PINON'): 61, ('BOLIVAR', 'SOPLAVIENTO'): 62, ('ATLANTICO', 'SUAN'): 63, ('MAGDALENA', 'CERRO DE SAN ANTONIO'): 64, ('MAGDALENA', 'ALGARROBO'): 65, ('BOLIVAR', 'ARROYOHONDO'): 66, ('MAGDALENA', 'CONCORDIA'): 67, ('BOLIVAR', 'CALAMAR'): 68, ('BOLIVAR', 'TURBANA'): 69, ('CESAR', 'EL COPEY'): 70, ('BOLIVAR', 'MAHATES'): 71, ('CESAR', 'SAN DIEGO'): 72, ('BOLIVAR', 'ARJONA'): 73, ('CESAR', 'LA PAZ'): 74, ('MAGDALENA', 'PEDRAZA'): 75, ('MAGDALENA', 'ZAPAYAN'): 76, ('MAGDALENA', 'SABANAS DE SAN ANGEL'): 77, ('MAGDALENA', 'CHIVOLO'): 78, ('BOLIVAR', 'EL GUAMO'): 79, ('BOLIVAR', 'MARIA LA BAJA'): 80, ('BOLIVAR', 'SAN JUAN NEPOMUCENO'): 81, ('CESAR', 'AGUSTIN CODAZZI'): 82, ('CESAR', 'BOSCONIA'): 83, ('MAGDALENA', 'TENERIFE'): 84, ('BOLIVAR', 'SAN JACINTO'): 85, ('MAGDALENA', 'ARIGUANI'): 86, ('SUCRE', 'SAN ONOFRE'): 87, ('MAGDALENA', 'PLATO'): 88, ('BOLIVAR', 'ZAMBRANO'): 89, ('MAGDALENA', 'NUEVA GRANADA'): 90, ('CESAR', 'BECERRIL'): 91, ('BOLIVAR', 'EL CARMEN DE BOLIVAR'): 92, ('CESAR', 'EL PASO'): 93, ('SUCRE', 'CHALAN'): 94, ('CESAR', 'LA JAGUA DE IBIRICO'): 95, ('SUCRE', 'OVEJAS'): 96, ('BOLIVAR', 'CORDOBA'): 97, ('SUCRE', 'SANTIAGO DE TOLU'): 98, ('MAGDALENA', 'PIJINO DEL CARMEN'): 99, ('SUCRE', 'COLOSO'): 100, ('MAGDALENA', 'SANTA BARBARA DE PINTO'): 101, ('MAGDALENA', 'SANTA ANA'): 102, ('CESAR', 'ASTREA'): 103, ('SUCRE', 'SAN JOSE DE TOLUVIEJO'): 104, ('CESAR', 'CHIRIGUANA'): 105, ('SUCRE', 'LOS PALMITOS'): 106, ('SUCRE', 'SAN PEDRO'): 107, ('SUCRE', 'COVENAS'): 108, ('SUCRE', 'MORROA'): 109, ('CORDOBA', 'SAN ANTERO'): 110, ('MAGDALENA', 'SAN SEBASTIAN DE BUENAVISTA'): 111, ('SUCRE', 'PALMITO'): 112, ('CORDOBA', 'SAN BERNARDO DEL VIENTO'): 113, ('MAGDALENA', 'SAN ZENON'): 114, ('SUCRE', 'BUENAVISTA'): 115, ('SUCRE', 'SINCELEJO'): 116, ('BOLIVAR', 'TALAIGUA NUEVO'): 117, ('SUCRE', 'SAN JUAN DE BETULIA'): 118, ('CORDOBA', 'PURISIMA DE LA CONCEPCION'): 119, ('CORDOBA', 'MOMIL'): 120, ('SUCRE', 'SAN LUIS DE SINCE'): 121, ('MAGDALENA', 'GUAMAL'): 122, ('CESAR', 'CURUMANI'): 123, ('BOLIVAR', 'CICUCO'): 124, ('CORDOBA', 'TUCHIN'): 125, ('CESAR', 'CHIMICHAGUA'): 126, ('SUCRE', 'COROZAL'): 127, ('CORDOBA', 'MONITOS'): 128, ('BOLIVAR', 'MAGANGUE'): 129, ('SUCRE', 'SAMPUES'): 130, ('CORDOBA', 'LORICA'): 131, ('BOLIVAR', 'SANTA CRUZ DE MOMPOX'): 132, ('SUCRE', 'GALERAS'): 133, ('CORDOBA', 'SAN ANDRES DE SOTAVENTO'): 134, ('MAGDALENA', 'EL BANCO'): 135, ('CORDOBA', 'CHIMA'): 136, ('BOLIVAR', 'SAN FERNANDO'): 137, ('SUCRE', 'EL ROBLE'): 138, ('CORDOBA', 'COTORRA'): 139, ('BOLIVAR', 'MARGARITA'): 140, ('CORDOBA', 'CHINU'): 141, ('CORDOBA', 'PUERTO ESCONDIDO'): 142, ('CORDOBA', 'SAN PELAYO'): 143, ('BOLIVAR', 'HATILLO DE LOBA'): 144, ('CESAR', 'PAILITAS'): 145, ('CESAR', 'TAMALAMEQUE'): 146, ('CORDOBA', 'CERETE'): 147, ('NORTE DE SANTANDER', 'CONVENCION'): 148, ('BOLIVAR', 'PINILLOS'): 149, ('NORTE DE SANTANDER', 'EL CARMEN'): 150, ('BOLIVAR', 'EL PENON'): 151, ('CORDOBA', 'CIENAGA DE ORO'): 152, ('CORDOBA', 'LOS CORDOBAS'): 153, ('BOLIVAR', 'BARRANCO DE LOBA'): 154, ('SUCRE', 'SAN BENITO ABAD'): 155, ('SUCRE', 'SUCRE'): 156, ('SUCRE', 'LA UNION'): 157, ('CORDOBA', 'SAHAGUN'): 158, ('SUCRE', 'CAIMITO'): 159, ('BOLIVAR', 'SAN MARTIN DE LOBA'): 160, ('CESAR', 'PELAYA'): 161, ('NORTE DE SANTANDER', 'TEORAMA'): 162, ('BOLIVAR', 'ALTOS DEL ROSARIO'): 163, ('CORDOBA', 'CANALETE'): 164, ('BOLIVAR', 'REGIDOR'): 165, ('NORTE DE SANTANDER', 'TIBU'): 166, ('ANTIOQUIA', 'SAN JUAN DE URABA'): 167, ('CORDOBA', 'SAN CARLOS'): 168, ('NORTE DE SANTANDER', 'EL TARRA'): 169, ('BOLIVAR', 'ACHI'): 170, ('CESAR', 'LA GLORIA'): 171, ('ANTIOQUIA', 'ARBOLETES'): 172, ('SUCRE', 'SAN MARCOS'): 173, ('CORDOBA', 'MONTERIA'): 174, ('SUCRE', 'MAJAGUAL'): 175, ('BOLIVAR', 'NOROSI'): 176, ('ANTIOQUIA', 'NECOCLI'): 177, ('BOLIVAR', 'RIO VIEJO'): 178, ('BOLIVAR', 'TIQUISIO'): 179, ('CORDOBA', 'PUEBLO NUEVO'): 180, ('NORTE DE SANTANDER', 'SAN CALIXTO'): 181, ('CHOCO', 'ACANDI'): 182, ('CESAR', 'GONZALEZ'): 183, ('SUCRE', 'GUARANDA'): 184, ('ANTIOQUIA', 'SAN PEDRO DE URABA'): 185, ('NORTE DE SANTANDER', 'HACARI'): 186, ('BOLIVAR', 'ARENAL'): 187, ('CESAR', 'GAMARRA'): 188, ('NORTE DE SANTANDER', 'PUERTO SANTANDER'): 189, ('CORDOBA', 'PLANETA RICA'): 190, ('CORDOBA', 'AYAPEL'): 191, ('NORTE DE SANTANDER', 'SARDINATA'): 192, ('NORTE DE SANTANDER', 'LA PLAYA'): 193, ('BOLIVAR', 'MORALES'): 194, ('CESAR', 'AGUACHICA'): 195, ('BOLIVAR', 'SAN JACINTO DEL CAUCA'): 196, ('NORTE DE SANTANDER', 'OCANA'): 197, ('CORDOBA', 'VALENCIA'): 198, ('CESAR', 'RIO DE ORO'): 199, ('CORDOBA', 'BUENAVISTA'): 200, ('CHOCO', 'UNGUIA'): 201, ('NORTE DE SANTANDER', 'SAN JOSE DE CUCUTA'): 202, ('NORTE DE SANTANDER', 'EL ZULIA'): 203, ('NORTE DE SANTANDER', 'BUCARASICA'): 204, ('CORDOBA', 'LA APARTADA'): 205, ('NORTE DE SANTANDER', 'ABREGO'): 206, ('BOLIVAR', 'MONTECRISTO'): 207, ('ANTIOQUIA', 'TURBO'): 208, ('ANTIOQUIA', 'NECHI'): 209, ('NORTE DE SANTANDER', 'LOURDES'): 210, ('CESAR', 'SAN MARTIN'): 211, ('NORTE DE SANTANDER', 'VILLA CARO'): 212, ('NORTE DE SANTANDER', 'GRAMALOTE'): 213, ('ANTIOQUIA', 'APARTADO'): 214, ('NORTE DE SANTANDER', 'SANTIAGO'): 215, ('CORDOBA', 'MONTELIBANO'): 216, ('ANTIOQUIA', 'CAUCASIA'): 217, ('BOLIVAR', 'SIMITI'): 218, ('NORTE DE SANTANDER', 'SAN CAYETANO'): 219, ('CESAR', 'SAN ALBERTO'): 220, ('CORDOBA', 'TIERRALTA'): 221, ('ANTIOQUIA', 'CAREPA'): 222, ('NORTE DE SANTANDER', 'SALAZAR'): 223, ('BOLIVAR', 'SANTA ROSA DEL SUR'): 224, ('NORTE DE SANTANDER', 'VILLA DEL ROSARIO'): 225, ('CORDOBA', 'SAN JOSE DE URE'): 226, ('NORTE DE SANTANDER', 'DURANIA'): 227, ('NORTE DE SANTANDER', 'LOS PATIOS'): 228, ('CORDOBA', 'PUERTO LIBERTADOR'): 229, ('ANTIOQUIA', 'EL BAGRE'): 230, ('NORTE DE SANTANDER', 'LA ESPERANZA'): 231, ('NORTE DE SANTANDER', 'CACHIRA'): 232, ('ANTIOQUIA', 'CACERES'): 233, ('NORTE DE SANTANDER', 'BOCHALEMA'): 234, ('ANTIOQUIA', 'CHIGORODO'): 235, ('NORTE DE SANTANDER', 'ARBOLEDAS'): 236, ('NORTE DE SANTANDER', 'RAGONVALIA'): 237, ('NORTE DE SANTANDER', 'CHINACOTA'): 238, ('SANTANDER', 'PUERTO WILCHES'): 239, ('SANTANDER', 'EL PLAYON'): 240, ('NORTE DE SANTANDER', 'CUCUTILLA'): 241, ('NORTE DE SANTANDER', 'HERRAN'): 242, ('ANTIOQUIA', 'TARAZA'): 243, ('NORTE DE SANTANDER', 'PAMPLONITA'): 244, ('SANTANDER', 'SURATA'): 245, ('SANTANDER', 'RIONEGRO'): 246, ('ANTIOQUIA', 'ZARAGOZA'): 247, ('BOLIVAR', 'SAN PABLO'): 248, ('SANTANDER', 'SABANA DE TORRES'): 249, ('CHOCO', 'RIOSUCIO'): 250, ('NORTE DE SANTANDER', 'PAMPLONA'): 251, ('SANTANDER', 'CALIFORNIA'): 252, ('SANTANDER', 'MATANZA'): 253, ('ANTIOQUIA', 'MUTATA'): 254, ('SANTANDER', 'VETAS'): 255, ('NORTE DE SANTANDER', 'MUTISCUA'): 256, ('ANTIOQUIA', 'ITUANGO'): 257, ('NORTE DE SANTANDER', 'CACOTA'): 258, ('ANTIOQUIA', 'SEGOVIA'): 259, ('NORTE DE SANTANDER', 'LABATECA'): 260, ('ANTIOQUIA', 'VALDIVIA'): 261, ('SANTANDER', 'CHARTA'): 262, ('BOLIVAR', 'CANTAGALLO'): 263, ('NORTE DE SANTANDER', 'TOLEDO'): 264, ('SANTANDER', 'LEBRIJA'): 265, ('ANTIOQUIA', 'ANORI'): 266, ('NORTE DE SANTANDER', 'SILOS'): 267, ('SANTANDER', 'TONA'): 268, ('SANTANDER', 'BUCARAMANGA'): 269, ('ANTIOQUIA', 'BRICENO'): 270, ('CHOCO', 'JURADO'): 271, ('SANTANDER', 'FLORIDABLANCA'): 272, ('SANTANDER', 'BARRANCABERMEJA'): 273, ('NORTE DE SANTANDER', 'CHITAGA'): 274, ('ANTIOQUIA', 'PEQUE'): 275, ('SANTANDER', 'GIRON'): 276, ('ANTIOQUIA', 'CAMPAMENTO'): 277, ('CHOCO', 'CARMEN DEL DARIEN'): 278, ('ANTIOQUIA', 'TOLEDO'): 279, ('SANTANDER', 'BETULIA'): 280, ('ANTIOQUIA', 'REMEDIOS'): 281, ('ANTIOQUIA', 'DABEIBA'): 282, ('SANTANDER', 'SANTA BARBARA'): 283, ('ANTIOQUIA', 'YARUMAL'): 284, ('ANTIOQUIA', 'AMALFI'): 285, ('SANTANDER', 'PIEDECUESTA'): 286, ('SANTANDER', 'GUACA'): 287, ('ANTIOQUIA', 'YONDO'): 288, ('ANTIOQUIA', 'SAN ANDRES DE CUERQUIA'): 289, ('ANTIOQUIA', 'URAMITA'): 290, ('ARAUCA', 'SARAVENA'): 291, ('SANTANDER', 'CERRITO'): 292, ('ANTIOQUIA', 'SABANALARGA'): 293, ('SANTANDER', 'SAN VICENTE DE CHUCURI'): 294, ('BOYACA', 'CUBARA'): 295, ('ANTIOQUIA', 'GUADALUPE'): 296, ('ANTIOQUIA', 'ANGOSTURA'): 297, ('ANTIOQUIA', 'VEGACHI'): 298, ('SANTANDER', 'ZAPATOCA'): 299, ('ANTIOQUIA', 'MURINDO'): 300, ('ANTIOQUIA', 'SAN JOSE DE LA MONTANA'): 301, ('ANTIOQUIA', 'CANASGORDAS'): 302, ('SANTANDER', 'LOS SANTOS'): 303, ('ANTIOQUIA', 'BURITICA'): 304, ('ARAUCA', 'ARAUQUITA'): 305, ('SANTANDER', 'SAN ANDRES'): 306, ('ARAUCA', 'ARAUCA'): 307, ('SANTANDER', 'CONCEPCION'): 308, ('ANTIOQUIA', 'CAROLINA'): 309, ('SANTANDER', 'CEPITA'): 310, ('ANTIOQUIA', 'LIBORINA'): 311, ('SANTANDER', 'MALAGA'): 312, ('ANTIOQUIA', 'YALI'): 313, ('SANTANDER', 'ARATOCA'): 314, ('SANTANDER', 'JORDAN'): 315, ('ANTIOQUIA', 'GOMEZ PLATA'): 316, ('ARAUCA', 'FORTUL'): 317, ('ANTIOQUIA', 'FRONTINO'): 318, ('BOYACA', 'CHISCAS'): 319, ('SANTANDER', 'VILLANUEVA'): 320, ('SANTANDER', 'PUERTO PARRA'): 321, ('ANTIOQUIA', 'SANTA ROSA DE OSOS'): 322, ('SANTANDER', 'GALAN'): 323, ('SANTANDER', 'EL CARMEN DE CHUCURI'): 324, ('ANTIOQUIA', 'GIRALDO'): 325, ('SANTANDER', 'CARCASI'): 326, ('SANTANDER', 'ENCISO'): 327, ('ANTIOQUIA', 'BELMIRA'): 328, ('SANTANDER', 'SIMACOTA'): 329, ('SANTANDER', 'BARICHARA'): 330, ('ANTIOQUIA', 'YOLOMBO'): 331, ('SANTANDER', 'MOLAGAVITA'): 332, ('SANTANDER', 'SAN JOSE DE MIRANDA'): 333, ('ANTIOQUIA', 'ABRIAQUI'): 334, ('SANTANDER', 'CURITI'): 335, ('ANTIOQUIA', 'OLAYA'): 336, ('ANTIOQUIA', 'ENTRERRIOS'): 337, ('SANTANDER', 'SAN MIGUEL'): 338, ('BOYACA', 'GUICAN DE LA SIERRA'): 339, ('SANTANDER', 'CABRERA'): 340, ('SANTANDER', 'HATO'): 341, ('SANTANDER', 'SAN GIL'): 342, ('ANTIOQUIA', 'CISNEROS'): 343, ('ANTIOQUIA', 'SANTA FE DE ANTIOQUIA'): 344, ('ANTIOQUIA', 'MACEO'): 345, ('SANTANDER', 'PALMAR'): 346, ('SANTANDER', 'CAPITANEJO'): 347, ('ANTIOQUIA', 'SOPETRAN'): 348, ('BOYACA', 'COVARACHIA'): 349, ('SANTANDER', 'PINCHOTE'): 350, ('SANTANDER', 'MACARAVITA'): 351, ('BOYACA', 'EL ESPINO'): 352, ('ANTIOQUIA', 'DONMATIAS'): 353, ('SANTANDER', 'MOGOTES'): 354, ('ANTIOQUIA', 'PUERTO BERRIO'): 355, ('ANTIOQUIA', 'SANTO DOMINGO'): 356, ('CHOCO', 'BOJAYA'): 357, ('SANTANDER', 'SOCORRO'): 358, ('SANTANDER', 'SAN JOAQUIN'): 359, ('ANTIOQUIA', 'SAN PEDRO DE LOS MILAGROS'): 360, ('ANTIOQUIA', 'VIGIA DEL FUERTE'): 361, ('ANTIOQUIA', 'SAN ROQUE'): 362, ('BOYACA', 'GUACAMAYAS'): 363, ('ANTIOQUIA', 'BARBOSA'): 364, ('BOYACA', 'PANQUEBA'): 365, ('ANTIOQUIA', 'SAN JERONIMO'): 366, ('SANTANDER', 'VALLE DE SAN JOSE'): 367, ('ANTIOQUIA', 'CAICEDO'): 368, ('BOYACA', 'TIPACOQUE'): 369, ('SANTANDER', 'PARAMO'): 370, ('ARAUCA', 'PUERTO RONDON'): 371, ('SANTANDER', 'CIMITARRA'): 372, ('SANTANDER', 'SANTA HELENA DEL OPON'): 373, ('BOYACA', 'SAN MATEO'): 374, ('SANTANDER', 'PALMAS DEL SOCORRO'): 375, ('ARAUCA', 'TAME'): 376, ('ANTIOQUIA', 'GIRARDOTA'): 377, ('ANTIOQUIA', 'CONCEPCION'): 378, ('SANTANDER', 'CHIMA'): 379, ('ANTIOQUIA', 'ALEJANDRIA'): 380, ('ANTIOQUIA', 'BELLO'): 381, ('SANTANDER', 'CONFINES'): 382, ('SANTANDER', 'OCAMONTE'): 383, ('BOYACA', 'EL COCUY'): 384, ('ANTIOQUIA', 'COPACABANA'): 385, ('ARAUCA', 'CRAVO NORTE'): 386, ('ANTIOQUIA', 'CARACOLI'): 387, ('BOYACA', 'BOAVITA'): 388, ('ANTIOQUIA', 'URRAO'): 389, ('SANTANDER', 'ONZAGA'): 390, ('SANTANDER', 'LANDAZURI'): 391, ('ANTIOQUIA', 'EBEJICO'): 392, ('BOYACA', 'SOATA'): 393, ('SANTANDER', 'GUAPOTA'): 394, ('ANTIOQUIA', 'SAN RAFAEL'): 395, ('ANTIOQUIA', 'SAN VICENTE FERRER'): 396, ('ANTIOQUIA', 'ANZA'): 397, ('SANTANDER', 'CONTRATACION'): 398, ('CHOCO', 'BAHIA SOLANO'): 399, ('ANTIOQUIA', 'GUARNE'): 400, ('BOYACA', 'LA UVITA'): 401, ('ANTIOQUIA', 'MEDELLIN'): 402, ('SANTANDER', 'EL GUACAMAYO'): 403, ('ANTIOQUIA', 'GUATAPE'): 404, ('SANTANDER', 'COROMORO'): 405, ('SANTANDER', 'GUADALUPE'): 406, ('ANTIOQUIA', 'PENOL'): 407, ('SANTANDER', 'OIBA'): 408, ('SANTANDER', 'VELEZ'): 409, ('SANTANDER', 'LA PAZ'): 410, ('BOYACA', 'SUSACON'): 411, ('ANTIOQUIA', 'HELICONIA'): 412, ('SANTANDER', 'CHARALA'): 413, ('ANTIOQUIA', 'SAN CARLOS'): 414, ('ANTIOQUIA', 'BETULIA'): 415, ('ANTIOQUIA', 'MARINILLA'): 416, ('SANTANDER', 'AGUADA'): 417, ('ANTIOQUIA', 'ITAGUI'): 418, ('CASANARE', 'LA SALINA'): 419, ('ANTIOQUIA', 'ARMENIA'): 420, ('ANTIOQUIA', 'ENVIGADO'): 421, ('ANTIOQUIA', 'RIONEGRO'): 422, ('BOYACA', 'JERICO'): 423, ('ANTIOQUIA', 'SABANETA'): 424, ('ANTIOQUIA', 'LA ESTRELLA'): 425, ('BOYACA', 'SATIVANORTE'): 426, ('ANTIOQUIA', 'PUERTO NARE'): 427, ('ANTIOQUIA', 'EL SANTUARIO'): 428, ('ANTIOQUIA', 'GRANADA'): 429, ('ANTIOQUIA', 'ANGELOPOLIS'): 430, ('SANTANDER', 'SUAITA'): 431, ('CASANARE', 'HATO COROZAL'): 432, ('SANTANDER', 'SAN BENITO'): 433, ('SANTANDER', 'EL PENON'): 434, ('SANTANDER', 'BOLIVAR'): 435, ('BOYACA', 'CHITA'): 436, ('SANTANDER', 'ENCINO'): 437, ('BOYACA', 'TUTAZA'): 438, ('BOYACA', 'SATIVASUR'): 439, ('SANTANDER', 'CHIPATA'): 440, ('ANTIOQUIA', 'TITIRIBI'): 441, ('BOYACA', 'SANTANA'): 442, ('ANTIOQUIA', 'CONCORDIA'): 443, ('ANTIOQUIA', 'CALDAS'): 444, ('ANTIOQUIA', 'RETIRO'): 445, ('CASANARE', 'SACAMA'): 446, ('CHOCO', 'MEDIO ATRATO'): 447, ('SANTANDER', 'GUEPSA'): 448, ('ANTIOQUIA', 'AMAGA'): 449, ('BOYACA', 'PAZ DE RIO'): 450, ('ANTIOQUIA', 'SAN LUIS'): 451, ('ANTIOQUIA', 'COCORNA'): 452, ('BOYACA', 'BELEN'): 453, ('BOYACA', 'SAN JOSE DE PARE'): 454, ('ANTIOQUIA', 'LA CEJA'): 455, ('BOYACA', 'CHITARAQUE'): 456, ('SANTANDER', 'SUCRE'): 457, ('ANTIOQUIA', 'EL CARMEN DE VIBORAL'): 458, ('ANTIOQUIA', 'SALGAR'): 459, ('BOYACA', 'CERINZA'): 460, ('BOYACA', 'SOCHA'): 461, ('ANTIOQUIA', 'VENECIA'): 462, ('SANTANDER', 'BARBOSA'): 463, ('ANTIOQUIA', 'PUERTO TRIUNFO'): 464, ('BOYACA', 'PUERTO BOYACA'): 465, ('SANTANDER', 'GUAVATA'): 466, ('ANTIOQUIA', 'LA UNION'): 467, ('CHOCO', 'QUIBDO'): 468, ('BOYACA', 'SOCOTA'): 469, ('SANTANDER', 'GAMBITA'): 470, ('BOYACA', 'TOGUI'): 471, ('BOYACA', 'BETEITIVA'): 472, ('ANTIOQUIA', 'MONTEBELLO'): 473, ('SANTANDER', 'LA BELLEZA'): 474, ('BOYACA', 'SANTA ROSA DE VITERBO'): 475, ('BOYACA', 'DUITAMA'): 476, ('ANTIOQUIA', 'FREDONIA'): 477, ('BOYACA', 'TASCO'): 478, ('ANTIOQUIA', 'SAN FRANCISCO'): 479, ('ANTIOQUIA', 'SANTA BARBARA'): 480, ('CASANARE', 'TAMARA'): 481, ('ANTIOQUIA', 'TARSO'): 482, ('BOYACA', 'MONIQUIRA'): 483, ('BOYACA', 'FLORESTA'): 484, ('SANTANDER', 'JESUS MARIA'): 485, ('BOYACA', 'BUSBANZA'): 486, ('ANTIOQUIA', 'CIUDAD BOLIVAR'): 487, ('VICHADA', 'PUERTO CARRENO'): 488, ('SANTANDER', 'PUENTE NACIONAL'): 489, ('BOYACA', 'PAIPA'): 490, ('BOYACA', 'CORRALES'): 491, ('CHOCO', 'EL CARMEN DE ATRATO'): 492, ('ANTIOQUIA', 'PUEBLORRICO'): 493, ('ANTIOQUIA', 'ABEJORRAL'): 494, ('BOYACA', 'GAMEZA'): 495, ('SANTANDER', 'FLORIAN'): 496, ('ANTIOQUIA', 'HISPANIA'): 497, ('BOYACA', 'SOTAQUIRA'): 498, ('CASANARE', 'PAZ DE ARIPORO'): 499, ('BOYACA', 'NOBSA'): 500, ('SANTANDER', 'ALBANIA'): 501, ('ANTIOQUIA', 'JERICO'): 502, ('BOYACA', 'TOPAGA'): 503, ('ANTIOQUIA', 'SONSON'): 504, ('BOYACA', 'OTANCHE'): 505, ('BOYACA', 'ARCABUCO'): 506, ('BOYACA', 'TIBASOSA'): 507, ('ANTIOQUIA', 'LA PINTADA'): 508, ('BOYACA', 'GACHANTIVA'): 509, ('BOYACA', 'PISBA'): 510, ('BOYACA', 'SANTA SOFIA'): 511, ('ANTIOQUIA', 'BETANIA'): 512, ('BOYACA', 'TUNUNGUA'): 513, ('BOYACA', 'MONGUA'): 514, ('ANTIOQUIA', 'ARGELIA'): 515, ('BOYACA', 'SABOYA'): 516, ('BOYACA', 'MONGUI'): 517, ('CHOCO', 'NUQUI'): 518, ('BOYACA', 'PAUNA'): 519, ('BOYACA', 'COMBITA'): 520, ('BOYACA', 'SAN PABLO DE BORBUR'): 521, ('BOYACA', 'BRICENO'): 522, ('ANTIOQUIA', 'TAMESIS'): 523, ('BOYACA', 'FIRAVITOBA'): 524, ('BOYACA', 'TUTA'): 525, ('BOYACA', 'SOGAMOSO'): 526, ('BOYACA', 'VILLA DE LEYVA'): 527, ('CASANARE', 'PORE'): 528, ('ANTIOQUIA', 'VALPARAISO'): 529, ('BOYACA', 'CHIQUIZA'): 530, ('BOYACA', 'SUTAMARCHAN'): 531, ('CALDAS', 'NORCASIA'): 532, ('CHOCO', 'ALTO BAUDO'): 533, ('ANTIOQUIA', 'ANDES'): 534, ('BOYACA', 'CHIQUINQUIRA'): 535, ('BOYACA', 'PAYA'): 536, ('CUNDINAMARCA', 'PUERTO SALGAR'): 537, ('BOYACA', 'IZA'): 538, ('BOYACA', 'OICATA'): 539, ('BOYACA', 'MOTAVITA'): 540, ('CALDAS', 'AGUADAS'): 541, ('CUNDINAMARCA', 'YACOPI'): 542, ('BOYACA', 'CUITIVA'): 543, ('CHOCO', 'LLORO'): 544, ('ANTIOQUIA', 'NARINO'): 545, ('BOYACA', 'SORA'): 546, ('BOYACA', 'TOCA'): 547, ('BOYACA', 'TINJACA'): 548, ('BOYACA', 'CALDAS'): 549, ('ANTIOQUIA', 'JARDIN'): 550, ('BOYACA', 'SACHICA'): 551, ('BOYACA', 'MARIPI'): 552, ('CHOCO', 'RIO QUITO'): 553, ('BOYACA', 'CHIVATA'): 554, ('BOYACA', 'QUIPAMA'): 555, ('CHOCO', 'ATRATO'): 556, ('ANTIOQUIA', 'CARAMANTA'): 557, ('BOYACA', 'LABRANZAGRANDE'): 558, ('CALDAS', 'LA DORADA'): 559, ('CALDAS', 'SAMANA'): 560, ('BOYACA', 'SAN MIGUEL DE SEMA'): 561, ('CASANARE', 'NUNCHIA'): 562, ('BOYACA', 'CUCAITA'): 563, ('BOYACA', 'MUZO'): 564, ('BOYACA', 'TUNJA'): 565, ('VICHADA', 'LA PRIMAVERA'): 566, ('BOYACA', 'LA VICTORIA'): 567, ('CUNDINAMARCA', 'SIMIJACA'): 568, ('CHOCO', 'BAGADO'): 569, ('CALDAS', 'PACORA'): 570, ('BOYACA', 'SIACHOQUE'): 571, ('BOYACA', 'PESCA'): 572, ('BOYACA', 'RAQUIRA'): 573, ('BOYACA', 'SORACA'): 574, ('CALDAS', 'MARMATO'): 575, ('BOYACA', 'BUENAVISTA'): 576, ('BOYACA', 'TOTA'): 577, ('BOYACA', 'SAMACA'): 578, ('CALDAS', 'SUPIA'): 579, ('CALDAS', 'VICTORIA'): 580, ('BOYACA', 'COPER'): 581, ('CALDAS', 'RIOSUCIO'): 582, ('BOYACA', 'VIRACACHA'): 583, ('CUNDINAMARCA', 'SUSA'): 584, ('BOYACA', 'BOYACA'): 585, ('BOYACA', 'AQUITANIA'): 586, ('CUNDINAMARCA', 'FUQUENE'): 587, ('RISARALDA', 'MISTRATO'): 588, ('CALDAS', 'PENSILVANIA'): 589, ('CALDAS', 'LA MERCED'): 590, ('BOYACA', 'CIENEGA'): 591, ('CHOCO', 'CERTEGUI'): 592, ('CUNDINAMARCA', 'PAIME'): 593, ('CUNDINAMARCA', 'GUACHETA'): 594, ('BOYACA', 'VENTAQUEMADA'): 595, ('BOYACA', 'PAJARITO'): 596, ('CUNDINAMARCA', 'CAPARRAPI'): 597, ('BOYACA', 'RONDON'): 598, ('BOYACA', 'JENESANO'): 599, ('CALDAS', 'SALAMINA'): 600, ('CASANARE', 'TRINIDAD'): 601, ('CHOCO', 'EL CANTON DEL SAN PABLO'): 602, ('CUNDINAMARCA', 'TOPAIPI'): 603, ('BOYACA', 'NUEVO COLON'): 604, ('CUNDINAMARCA', 'CARMEN DE CARUPA'): 605, ('CUNDINAMARCA', 'LA PALMA'): 606, ('RISARALDA', 'QUINCHIA'): 607, ('RISARALDA', 'GUATICA'): 608, ('BOYACA', 'RAMIRIQUI'): 609, ('CUNDINAMARCA', 'VILLA DE SAN DIEGO DE UBATE'): 610, ('CUNDINAMARCA', 'SAN CAYETANO'): 611, ('CALDAS', 'MARQUETALIA'): 612, ('BOYACA', 'TURMEQUE'): 613, ('CUNDINAMARCA', 'LENGUAZAQUE'): 614, ('BOYACA', 'TIBANA'): 615, ('RISARALDA', 'PUEBLO RICO'): 616, ('CALDAS', 'FILADELFIA'): 617, ('BOYACA', 'ZETAQUIRA'): 618, ('CHOCO', 'UNION PANAMERICANA'): 619, ('CUNDINAMARCA', 'VILLAGOMEZ'): 620, ('CHOCO', 'TADO'): 621, ('CALDAS', 'ARANZAZU'): 622, ('CASANARE', 'RECETOR'): 623, ('CUNDINAMARCA', 'EL PENON'): 624, ('CUNDINAMARCA', 'SUTATAUSA'): 625, ('CASANARE', 'YOPAL'): 626, ('CALDAS', 'MARULANDA'): 627, ('TOLIMA', 'SAN SEBASTIAN DE MARIQUITA'): 628, ('BOYACA', 'SAN EDUARDO'): 629, ('CALDAS', 'MANZANARES'): 630, ('BOYACA', 'BERBEO'): 631, ('CASANARE', 'SAN LUIS DE PALENQUE'): 632, ('CUNDINAMARCA', 'CUCUNUBA'): 633, ('CASANARE', 'CHAMEZA'): 634, ('CUNDINAMARCA', 'VILLAPINZON'): 635, ('BOYACA', 'UMBITA'): 636, ('CUNDINAMARCA', 'LA PENA'): 637, ('BOYACA', 'CHINAVITA'): 638, ('RISARALDA', 'BELEN DE UMBRIA'): 639, ('CALDAS', 'ANSERMA'): 640, ('CUNDINAMARCA', 'TAUSA'): 641, ('CUNDINAMARCA', 'UTICA'): 642, ('TOLIMA', 'FRESNO'): 643, ('CALDAS', 'NEIRA'): 644, ('TOLIMA', 'HONDA'): 645, ('CUNDINAMARCA', 'GUADUAS'): 646, ('CHOCO', 'RIO IRO'): 647, ('CUNDINAMARCA', 'PACHO'): 648, ('BOYACA', 'MIRAFLORES'): 649, ('BOYACA', 'PACHAVITA'): 650, ('RISARALDA', 'APIA'): 651, ('CUNDINAMARCA', 'SUESCA'): 652, ('CUNDINAMARCA', 'NIMAIMA'): 653, ('CUNDINAMARCA', 'VERGARA'): 654, ('CASANARE', 'AGUAZUL'): 655, ('CUNDINAMARCA', 'CHOCONTA'): 656, ('BOYACA', 'LA CAPILLA'): 657, ('CALDAS', 'RISARALDA'): 658, ('CHOCO', 'MEDIO BAUDO'): 659, ('CUNDINAMARCA', 'COGUA'): 660, ('CUNDINAMARCA', 'QUEBRADANEGRA'): 661, ('BOYACA', 'PAEZ'): 662, ('TOLIMA', 'PALOCABILDO'): 663, ('CUNDINAMARCA', 'NEMOCON'): 664, ('BOYACA', 'GARAGOA'): 665, ('CUNDINAMARCA', 'TIBIRITA'): 666, ('CALDAS', 'MANIZALES'): 667, ('TOLIMA', 'FALAN'): 668, ('CHOCO', 'CONDOTO'): 669, ('BOYACA', 'TENZA'): 670, ('CALDAS', 'SAN JOSE'): 671, ('TOLIMA', 'HERVEO'): 672, ('CUNDINAMARCA', 'NOCAIMA'): 673, ('CUNDINAMARCA', 'SUPATA'): 674, ('CALDAS', 'PALESTINA'): 675, ('CALDAS', 'VITERBO'): 676, ('CUNDINAMARCA', 'ZIPAQUIRA'): 677, ('RISARALDA', 'SANTUARIO'): 678, ('CUNDINAMARCA', 'MACHETA'): 679, ('BOYACA', 'SUTATENZA'): 680, ('TOLIMA', 'CASABIANCA'): 681, ('BOYACA', 'GUATEQUE'): 682, ('CHOCO', 'BAJO BAUDO'): 683, ('CUNDINAMARCA', 'VILLETA'): 684, ('CUNDINAMARCA', 'GACHANCIPA'): 685, ('CUNDINAMARCA', 'SESQUILE'): 686, ('BOYACA', 'CAMPOHERMOSO'): 687, ('TOLIMA', 'ARMERO'): 688, ('CALDAS', 'BELALCAZAR'): 689, ('RISARALDA', 'LA CELIA'): 690, ('CALDAS', 'CHINCHINA'): 691, ('BOYACA', 'MACANAL'): 692, ('CUNDINAMARCA', 'LA VEGA'): 693, ('CUNDINAMARCA', 'MANTA'): 694, ('BOYACA', 'SOMONDOCO'): 695, ('CUNDINAMARCA', 'SUBACHOQUE'): 696, ('CUNDINAMARCA', 'TOCANCIPA'): 697, ('VICHADA', 'SANTA ROSALIA'): 698, ('TOLIMA', 'VILLAHERMOSA'): 699, ('CUNDINAMARCA', 'SAN FRANCISCO'): 700, ('CHOCO', 'SAN JOSE DEL PALMAR'): 701, ('BOYACA', 'ALMEIDA'): 702, ('CUNDINAMARCA', 'CHAGUANI'): 703, ('CUNDINAMARCA', 'TABIO'): 704, ('CUNDINAMARCA', 'SASAIMA'): 705, ('RISARALDA', 'MARSELLA'): 706, ('CALDAS', 'VILLAMARIA'): 707, ('BOYACA', 'GUAYATA'): 708, ('CUNDINAMARCA', 'CAJICA'): 709, ('RISARALDA', 'BALBOA'): 710, ('VALLE DEL CAUCA', 'EL AGUILA'): 711, ('CASANARE', 'OROCUE'): 712, ('CUNDINAMARCA', 'GUATAVITA'): 713, ('RISARALDA', 'LA VIRGINIA'): 714, ('CUNDINAMARCA', 'ALBAN'): 715, ('CUNDINAMARCA', 'VIANI'): 716, ('CUNDINAMARCA', 'SOPO'): 717, ('CUNDINAMARCA', 'EL ROSAL'): 718, ('CUNDINAMARCA', 'GUAYABAL DE SIQUIMA'): 719, ('TOLIMA', 'LIBANO'): 720, ('BOYACA', 'CHIVOR'): 721, ('CUNDINAMARCA', 'GACHETA'): 722, ('TOLIMA', 'LERIDA'): 723, ('CUNDINAMARCA', 'CHIA'): 724, ('CHOCO', 'NOVITA'): 725, ('CUNDINAMARCA', 'BITUIMA'): 726, ('RISARALDA', 'DOSQUEBRADAS'): 727, ('CASANARE', 'MONTERREY'): 728, ('CUNDINAMARCA', 'SAN JUAN DE RIOSECO'): 729, ('CUNDINAMARCA', 'TENJO'): 730, ('CUNDINAMARCA', 'FACATATIVA'): 731, ('RISARALDA', 'SANTA ROSA DE CABAL'): 732, ('TOLIMA', 'MURILLO'): 733, ('TOLIMA', 'AMBALEMA'): 734, ('BOYACA', 'SANTA MARIA'): 735, ('BOYACA', 'SAN LUIS DE GACENO'): 736, ('CHOCO', 'MEDIO SAN JUAN'): 737, ('CASANARE', 'SABANALARGA'): 738, ('CUNDINAMARCA', 'GUASCA'): 739, ('VALLE DEL CAUCA', 'ANSERMANUEVO'): 740, ('CUNDINAMARCA', 'ANOLAIMA'): 741, ('CUNDINAMARCA', 'COTA'): 742, ('RISARALDA', 'PEREIRA'): 743, ('CUNDINAMARCA', 'MADRID'): 744, ('CUNDINAMARCA', 'UBALA'): 745, ('VALLE DEL CAUCA', 'EL CAIRO'): 746, ('CUNDINAMARCA', 'ZIPACON'): 747, ('CUNDINAMARCA', 'FUNZA'): 748, ('CHOCO', 'ISTMINA'): 749, ('TOLIMA', 'SANTA ISABEL'): 750, ('CUNDINAMARCA', 'GAMA'): 751, ('CUNDINAMARCA', 'CACHIPAY'): 752, ('CUNDINAMARCA', 'BELTRAN'): 753, ('CUNDINAMARCA', 'QUIPILE'): 754, ('TOLIMA', 'VENADILLO'): 755, ('VALLE DEL CAUCA', 'ULLOA'): 756, ('VALLE DEL CAUCA', 'CARTAGO'): 757, ('CUNDINAMARCA', 'JUNIN'): 758, ('VALLE DEL CAUCA', 'ARGELIA'): 759, ('CUNDINAMARCA', 'LA CALERA'): 760, ('CASANARE', 'TAURAMENA'): 761, ('CUNDINAMARCA', 'BOJACA'): 762, ('CUNDINAMARCA', 'PULI'): 763, ('VALLE DEL CAUCA', 'ALCALA'): 764, ('CASANARE', 'MANI'): 765, ('CUNDINAMARCA', 'MOSQUERA'): 766, ('QUINDIO', 'FILANDIA'): 767, ('CUNDINAMARCA', 'GACHALA'): 768, ('CUNDINAMARCA', 'TENA'): 769, ('CUNDINAMARCA', 'LA MESA'): 770, ('VALLE DEL CAUCA', 'TORO'): 771, ('TOLIMA', 'ANZOATEGUI'): 772, ('VALLE DEL CAUCA', 'VERSALLES'): 773, ('QUINDIO', 'SALENTO'): 774, ('QUINDIO', 'QUIMBAYA'): 775, ('QUINDIO', 'CIRCASIA'): 776, ('CUNDINAMARCA', 'SAN ANTONIO DEL TEQUENDAMA'): 777, ('VALLE DEL CAUCA', 'OBANDO'): 778, ('CHOCO', 'SIPI'): 779, ('CUNDINAMARCA', 'CHOACHI'): 780, ('TOLIMA', 'ALVARADO'): 781, ('CUNDINAMARCA', 'JERUSALEN'): 782, ('CUNDINAMARCA', 'ANAPOIMA'): 783, ('CUNDINAMARCA', 'EL COLEGIO'): 784, ('VALLE DEL CAUCA', 'EL DOVIO'): 785, ('VALLE DEL CAUCA', 'LA UNION'): 786, ('CUNDINAMARCA', 'SOACHA'): 787, ('CUNDINAMARCA', 'FOMEQUE'): 788, ('CASANARE', 'VILLANUEVA'): 789, ('CUNDINAMARCA', 'GRANADA'): 790, ('QUINDIO', 'MONTENEGRO'): 791, ('CUNDINAMARCA', 'APULO'): 792, ('META', 'BARRANCA DE UPIA'): 793, ('CUNDINAMARCA', 'GUATAQUI'): 794, ('CUNDINAMARCA', 'UBAQUE'): 795, ('QUINDIO', 'ARMENIA'): 796, ('TOLIMA', 'PIEDRAS'): 797, ('CUNDINAMARCA', 'MEDINA'): 798, ('VALLE DEL CAUCA', 'LA VICTORIA'): 799, ('META', 'SAN JUANITO'): 800, ('QUINDIO', 'CALARCA'): 801, ('CUNDINAMARCA', 'SIBATE'): 802, ('CUNDINAMARCA', 'PARATEBUENO'): 803, ('CUNDINAMARCA', 'TOCAIMA'): 804, ('TOLIMA', 'IBAGUE'): 805, ('VALLE DEL CAUCA', 'ROLDANILLO'): 806, ('CUNDINAMARCA', 'SILVANIA'): 807, ('CUNDINAMARCA', 'VIOTA'): 808, ('QUINDIO', 'LA TEBAIDA'): 809, ('CUNDINAMARCA', 'CHIPAQUE'): 810, ('CUNDINAMARCA', 'NARINO'): 811, ('TOLIMA', 'CAJAMARCA'): 812, ('CUNDINAMARCA', 'CAQUEZA'): 813, ('QUINDIO', 'CORDOBA'): 814, ('CUNDINAMARCA', 'AGUA DE DIOS'): 815, ('QUINDIO', 'BUENAVISTA'): 816, ('VALLE DEL CAUCA', 'BOLIVAR'): 817, ('TOLIMA', 'COELLO'): 818, ('VALLE DEL CAUCA', 'ZARZAL'): 819, ('META', 'EL CALVARIO'): 820, ('CUNDINAMARCA', 'GIRARDOT'): 821, ('CUNDINAMARCA', 'QUETAME'): 822, ('CUNDINAMARCA', 'FUSAGASUGA'): 823, ('CUNDINAMARCA', 'TIBACUY'): 824, ('BOGOTA, D.C.', 'BOGOTA, D.C.'): 825, ('CUNDINAMARCA', 'FOSCA'): 826, ('META', 'CABUYARO'): 827, ('VALLE DEL CAUCA', 'CAICEDONIA'): 828, ('CUNDINAMARCA', 'RICAURTE'): 829, ('QUINDIO', 'PIJAO'): 830, ('CUNDINAMARCA', 'UNE'): 831, ('CUNDINAMARCA', 'NILO'): 832, ('CUNDINAMARCA', 'PASCA'): 833, ('VICHADA', 'CUMARIBO'): 834, ('CHOCO', 'EL LITORAL DEL SAN JUAN'): 835, ('TOLIMA', 'FLANDES'): 836, ('META', 'RESTREPO'): 837, ('VALLE DEL CAUCA', 'TRUJILLO'): 838, ('CUNDINAMARCA', 'ARBELAEZ'): 839, ('META', 'CUMARAL'): 840, ('CUNDINAMARCA', 'GUAYABETAL'): 841, ('TOLIMA', 'ROVIRA'): 842, ('VALLE DEL CAUCA', 'BUGALAGRANDE'): 843, ('VALLE DEL CAUCA', 'SEVILLA'): 844, ('TOLIMA', 'MELGAR'): 845, ('TOLIMA', 'VALLE DE SAN JUAN'): 846, ('CUNDINAMARCA', 'PANDI'): 847, ('QUINDIO', 'GENOVA'): 848, ('TOLIMA', 'ESPINAL'): 849, ('CUNDINAMARCA', 'GUTIERREZ'): 850, ('VALLE DEL CAUCA', 'ANDALUCIA'): 851, ('CUNDINAMARCA', 'SAN BERNARDO'): 852, ('TOLIMA', 'ICONONZO'): 853, ('TOLIMA', 'SAN LUIS'): 854, ('TOLIMA', 'CARMEN DE APICALA'): 855, ('VALLE DEL CAUCA', 'RIOFRIO'): 856, ('TOLIMA', 'RONCESVALLES'): 857, ('META', 'VILLAVICENCIO'): 858, ('TOLIMA', 'GUAMO'): 859, ('CUNDINAMARCA', 'VENECIA'): 860, ('TOLIMA', 'SUAREZ'): 861, ('VALLE DEL CAUCA', 'TULUA'): 862, ('META', 'PUERTO LOPEZ'): 863, ('META', 'ACACIAS'): 864, ('META', 'PUERTO GAITAN'): 865, ('TOLIMA', 'CUNDAY'): 866, ('VALLE DEL CAUCA', 'SAN PEDRO'): 867, ('TOLIMA', 'SAN ANTONIO'): 868, ('META', 'GUAMAL'): 869, ('VALLE DEL CAUCA', 'CALIMA'): 870, ('TOLIMA', 'ORTEGA'): 871, ('CUNDINAMARCA', 'CABRERA'): 872, ('TOLIMA', 'SALDANA'): 873, ('VALLE DEL CAUCA', 'YOTOCO'): 874, ('VALLE DEL CAUCA', 'GUADALAJARA DE BUGA'): 875, ('TOLIMA', 'VILLARRICA'): 876, ('TOLIMA', 'PURIFICACION'): 877, ('META', 'SAN CARLOS DE GUAROA'): 878, ('META', 'CUBARRAL'): 879, ('VALLE DEL CAUCA', 'RESTREPO'): 880, ('META', 'CASTILLA LA NUEVA'): 881, ('VALLE DEL CAUCA', 'GUACARI'): 882, ('VALLE DEL CAUCA', 'GINEBRA'): 883, ('TOLIMA', 'CHAPARRAL'): 884, ('VALLE DEL CAUCA', 'VIJES'): 885, ('TOLIMA', 'COYAIMA'): 886, ('TOLIMA', 'PRADO'): 887, ('META', 'EL DORADO'): 888, ('VALLE DEL CAUCA', 'LA CUMBRE'): 889, ('VALLE DEL CAUCA', 'EL CERRITO'): 890, ('VALLE DEL CAUCA', 'DAGUA'): 891, ('META', 'EL CASTILLO'): 892, ('META', 'LEJANIAS'): 893, ('VALLE DEL CAUCA', 'BUENAVENTURA'): 894, ('TOLIMA', 'DOLORES'): 895, ('VALLE DEL CAUCA', 'YUMBO'): 896, ('VALLE DEL CAUCA', 'PALMIRA'): 897, ('TOLIMA', 'NATAGAIMA'): 898, ('META', 'SAN MARTIN'): 899, ('META', 'GRANADA'): 900, ('TOLIMA', 'RIOBLANCO'): 901, ('HUILA', 'COLOMBIA'): 902, ('TOLIMA', 'ATACO'): 903, ('VALLE DEL CAUCA', 'PRADERA'): 904, ('VALLE DEL CAUCA', 'CALI'): 905, ('TOLIMA', 'ALPUJARRA'): 906, ('GUAINIA', 'CACAHUAL'): 907, ('META', 'FUENTE DE ORO'): 908, ('VALLE DEL CAUCA', 'CANDELARIA'): 909, ('GUAINIA', 'INIRIDA'): 910, ('VALLE DEL CAUCA', 'FLORIDA'): 911, ('META', 'SAN JUAN DE ARAMA'): 912, ('HUILA', 'VILLAVIEJA'): 913, ('CAUCA', 'PUERTO TEJADA'): 914, ('HUILA', 'AIPE'): 915, ('CAUCA', 'MIRANDA'): 916, ('VALLE DEL CAUCA', 'JAMUNDI'): 917, ('CAUCA', 'PADILLA'): 918, ('META', 'PUERTO LLERAS'): 919, ('CAUCA', 'VILLA RICA'): 920, ('META', 'MESETAS'): 921, ('CAUCA', 'GUACHENE'): 922, ('GUAINIA', 'BARRANCOMINAS'): 923, ('CAUCA', 'CORINTO'): 924, ('HUILA', 'BARAYA'): 925, ('META', 'MAPIRIPAN'): 926, ('TOLIMA', 'PLANADAS'): 927, ('META', 'URIBE'): 928, ('CAUCA', 'BUENOS AIRES'): 929, ('CAUCA', 'CALOTO'): 930, ('HUILA', 'TELLO'): 931, ('CAUCA', 'LOPEZ DE MICAY'): 932, ('HUILA', 'NEIVA'): 933, ('CAUCA', 'SANTANDER DE QUILICHAO'): 934, ('CAUCA', 'TORIBIO'): 935, ('CAUCA', 'SUAREZ'): 936, ('HUILA', 'SANTA MARIA'): 937, ('HUILA', 'PALERMO'): 938, ('CAUCA', 'JAMBALO'): 939, ('HUILA', 'TERUEL'): 940, ('CAUCA', 'MORALES'): 941, ('META', 'VISTAHERMOSA'): 942, ('CAUCA', 'CALDONO'): 943, ('HUILA', 'RIVERA'): 944, ('META', 'PUERTO RICO'): 945, ('META', 'PUERTO CONCORDIA'): 946, ('CAUCA', 'PAEZ'): 947, ('CAUCA', 'PIENDAMO - TUNIA'): 948, ('CAUCA', 'TIMBIQUI'): 949, ('HUILA', 'IQUIRA'): 950, ('HUILA', 'CAMPOALEGRE'): 951, ('CAUCA', 'SILVIA'): 952, ('HUILA', 'YAGUARA'): 953, ('CAUCA', 'CAJIBIO'): 954, ('HUILA', 'NATAGA'): 955, ('HUILA', 'HOBO'): 956, ('CAUCA', 'EL TAMBO'): 957, ('HUILA', 'TESALIA'): 958, ('GUAINIA', 'PUERTO COLOMBIA'): 959, ('CAUCA', 'TOTORO'): 960, ('CAUCA', 'INZA'): 961, ('HUILA', 'ALGECIRAS'): 962, ('GUAVIARE', 'SAN JOSE DEL GUAVIARE'): 963, ('CAUCA', 'POPAYAN'): 964, ('NARINO', 'MOSQUERA'): 965, ('GUAINIA', 'MORICHAL'): 966, ('NARINO', 'LA TOLA'): 967, ('CAUCA', 'GUAPI'): 968, ('HUILA', 'PAICOL'): 969, ('HUILA', 'GIGANTE'): 970, ('CAUCA', 'TIMBIO'): 971, ('CAUCA', 'ARGELIA'): 972, ('HUILA', 'LA PLATA'): 973, ('NARINO', 'SANTA BARBARA'): 974, ('NARINO', 'OLAYA HERRERA'): 975, ('CAUCA', 'PURACE'): 976, ('HUILA', 'AGRADO'): 977, ('META', 'LA MACARENA'): 978, ('HUILA', 'PITAL'): 979, ('CAUCA', 'ROSAS'): 980, ('CAUCA', 'SOTARA PAISPAMBA'): 981, ('CAUCA', 'LA SIERRA'): 982, ('NARINO', 'EL CHARCO'): 983, ('HUILA', 'LA ARGENTINA'): 984, ('HUILA', 'GARZON'): 985, ('GUAINIA', 'SAN FELIPE'): 986, ('CAUCA', 'PATIA'): 987, ('HUILA', 'TARQUI'): 988, ('HUILA', 'SALADOBLANCO'): 989, ('NARINO', 'FRANCISCO PIZARRO'): 990, ('GUAVIARE', 'EL RETORNO'): 991, ('CAUCA', 'BALBOA'): 992, ('HUILA', 'ALTAMIRA'): 993, ('HUILA', 'OPORAPA'): 994, ('CAUCA', 'SUCRE'): 995, ('CAUCA', 'LA VEGA'): 996, ('CAQUETA', 'PUERTO RICO'): 997, ('HUILA', 'ISNOS'): 998, ('HUILA', 'ELIAS'): 999, ('HUILA', 'GUADALUPE'): 1000, ('GUAINIA', 'PANA PANA'): 1001, ('HUILA', 'TIMANA'): 1002, ('NARINO', 'LEIVA'): 1003, ('HUILA', 'SAN AGUSTIN'): 1004, ('CAUCA', 'ALMAGUER'): 1005, ('NARINO', 'MAGUI'): 1006, ('NARINO', 'ROBERTO PAYAN'): 1007, ('HUILA', 'SUAZA'): 1008, ('CAUCA', 'SAN SEBASTIAN'): 1009, ('CAUCA', 'BOLIVAR'): 1010, ('NARINO', 'EL ROSARIO'): 1011, ('HUILA', 'PITALITO'): 1012, ('CAUCA', 'MERCADERES'): 1013, ('CAQUETA', 'EL DONCELLO'): 1014, ('CAQUETA', 'FLORENCIA'): 1015, ('NARINO', 'POLICARPA'): 1016, ('NARINO', 'CUMBITARA'): 1017, ('HUILA', 'ACEVEDO'): 1018, ('CAUCA', 'FLORENCIA'): 1019, ('VAUPES', 'PAPUNAHUA'): 1020, ('NARINO', 'SAN PABLO'): 1021, ('HUILA', 'PALESTINA'): 1022, ('NARINO', 'LOS ANDES'): 1023, ('NARINO', 'COLON'): 1024, ('NARINO', 'SAN ANDRES DE TUMACO'): 1025, ('NARINO', 'LA UNION'): 1026, ('CAQUETA', 'EL PAUJIL'): 1027, ('CAQUETA', 'SAN VICENTE DEL CAGUAN'): 1028, ('GUAVIARE', 'CALAMAR'): 1029, ('NARINO', 'TAMINANGO'): 1030, ('NARINO', 'BELEN'): 1031, ('NARINO', 'LA CRUZ'): 1032, ('NARINO', 'LA LLANADA'): 1033, ('NARINO', 'SAN LORENZO'): 1034, ('NARINO', 'SAN PEDRO DE CARTAGO'): 1035, ('NARINO', 'SAN BERNARDO'): 1036, ('CAUCA', 'SANTA ROSA'): 1037, ('NARINO', 'EL PENOL'): 1038, ('CAQUETA', 'BELEN DE LOS ANDAQUIES'): 1039, ('NARINO', 'ARBOLEDA'): 1040, ('NARINO', 'ALBAN'): 1041, ('NARINO', 'BARBACOAS'): 1042, ('NARINO', 'SAMANIEGO'): 1043, ('NARINO', 'EL TAMBO'): 1044, ('NARINO', 'EL TABLON DE GOMEZ'): 1045, ('GUAINIA', 'LA GUADALUPE'): 1046, ('NARINO', 'LINARES'): 1047, ('NARINO', 'CHACHAGUI'): 1048, ('CAQUETA', 'MORELIA'): 1049, ('GUAVIARE', 'MIRAFLORES'): 1050, ('NARINO', 'LA FLORIDA'): 1051, ('NARINO', 'BUESACO'): 1052, ('CAQUETA', 'SAN JOSE DEL FRAGUA'): 1053, ('CAQUETA', 'LA MONTANITA'): 1054, ('NARINO', 'SANDONA'): 1055, ('NARINO', 'SANTACRUZ'): 1056, ('NARINO', 'NARINO'): 1057, ('NARINO', 'ANCUYA'): 1058, ('NARINO', 'PROVIDENCIA'): 1059, ('PUTUMAYO', 'SIBUNDOY'): 1060, ('PUTUMAYO', 'MOCOA'): 1061, ('CAQUETA', 'ALBANIA'): 1062, ('PUTUMAYO', 'COLON'): 1063, ('NARINO', 'CONSACA'): 1064, ('NARINO', 'RICAURTE'): 1065, ('NARINO', 'MALLAMA'): 1066, ('CAUCA', 'PIAMONTE'): 1067, ('NARINO', 'GUAITARILLA'): 1068, ('CAQUETA', 'MILAN'): 1069, ('PUTUMAYO', 'SAN FRANCISCO'): 1070, ('NARINO', 'TUQUERRES'): 1071, ('NARINO', 'YACUANQUER'): 1072, ('PUTUMAYO', 'SANTIAGO'): 1073, ('NARINO', 'PASTO'): 1074, ('NARINO', 'IMUES'): 1075, ('NARINO', 'TANGUA'): 1076, ('CAQUETA', 'VALPARAISO'): 1077, ('CAQUETA', 'CURILLO'): 1078, ('VAUPES', 'CARURU'): 1079, ('NARINO', 'SAPUYES'): 1080, ('NARINO', 'OSPINA'): 1081, ('VAUPES', 'MITU'): 1082, ('NARINO', 'ILES'): 1083, ('NARINO', 'GUACHUCAL'): 1084, ('NARINO', 'CUMBAL'): 1085, ('NARINO', 'CONTADERO'): 1086, ('NARINO', 'GUALMATAN'): 1087, ('NARINO', 'PUPIALES'): 1088, ('NARINO', 'FUNES'): 1089, ('NARINO', 'ALDANA'): 1090, ('PUTUMAYO', 'VILLAGARZON'): 1091, ('CAQUETA', 'SOLITA'): 1092, ('NARINO', 'CUASPUD CARLOSAMA'): 1093, ('VAUPES', 'YAVARATE'): 1094, ('NARINO', 'PUERRES'): 1095, ('NARINO', 'CORDOBA'): 1096, ('PUTUMAYO', 'PUERTO GUZMAN'): 1097, ('PUTUMAYO', 'PUERTO CAICEDO'): 1098, ('NARINO', 'POTOSI'): 1099, ('PUTUMAYO', 'ORITO'): 1100, ('CAQUETA', 'CARTAGENA DEL CHAIRA'): 1101, ('NARINO', 'IPIALES'): 1102, ('PUTUMAYO', 'PUERTO ASIS'): 1103, ('PUTUMAYO', 'VALLE DEL GUAMUEZ'): 1104, ('PUTUMAYO', 'SAN MIGUEL'): 1105, ('CAQUETA', 'SOLANO'): 1106, ('VAUPES', 'PACOA'): 1107, ('PUTUMAYO', 'PUERTO LEGUIZAMO'): 1108, ('AMAZONAS', 'LA VICTORIA'): 1109, ('AMAZONAS', 'MIRITI - PARANA'): 1110, ('VAUPES', 'TARAIRA'): 1111, ('AMAZONAS', 'PUERTO ALEGRIA'): 1112, ('AMAZONAS', 'PUERTO SANTANDER'): 1113, ('AMAZONAS', 'LA CHORRERA'): 1114, ('AMAZONAS', 'LA PEDRERA'): 1115, ('AMAZONAS', 'PUERTO ARICA'): 1116, ('AMAZONAS', 'EL ENCANTO'): 1117, ('AMAZONAS', 'TARAPACA'): 1118, ('AMAZONAS', 'LETICIA'): 1119, ('AMAZONAS', 'PUERTO NARINO'): 1120}\n"
          ]
        }
      ],
      "source": [
        "print(municipio_a_indice)"
      ]
    },
    {
      "cell_type": "code",
      "execution_count": null,
      "metadata": {
        "id": "2Yp4b7AdDPJ5"
      },
      "outputs": [],
      "source": [
        "# Convertir el diccionario a una lista de tuplas (fecha, vector)\n",
        "data_list = [(fecha, vector) for fecha, vector in data.items()]\n",
        "\n",
        "# Ordenar la lista por fecha\n",
        "data_list.sort(key=lambda x: x[0])"
      ]
    },
    {
      "cell_type": "code",
      "execution_count": null,
      "metadata": {
        "id": "PlyKn_u9DPJ5"
      },
      "outputs": [],
      "source": [
        "def create_input_sequences(data, start_date, end_date, window_size):\n",
        "    start_index = None\n",
        "    end_index = None\n",
        "\n",
        "    for i, (date, _) in enumerate(data):\n",
        "        if date == start_date and start_index is None:\n",
        "            start_index = i\n",
        "        if date == end_date:\n",
        "            end_index = i\n",
        "\n",
        "    if start_index is None or end_index is None:\n",
        "        raise ValueError('Start date or end date not found in data.')\n",
        "\n",
        "    input_sequences = []\n",
        "    dates = []\n",
        "\n",
        "    for i in range(start_index + window_size, end_index + 1):\n",
        "        sequence = [vector for _, vector in data[i-window_size:i]]\n",
        "        sequence_date = data[i][0]\n",
        "        input_sequences.append(sequence)\n",
        "        dates.append(sequence_date)\n",
        "\n",
        "    return input_sequences, dates\n"
      ]
    },
    {
      "cell_type": "code",
      "execution_count": null,
      "metadata": {
        "id": "CuanW7WpDPJ5",
        "outputId": "5ec468ac-df95-441a-8752-467607904813",
        "colab": {
          "base_uri": "https://localhost:8080/"
        }
      },
      "outputs": [
        {
          "output_type": "stream",
          "name": "stdout",
          "text": [
            "Dates: [Timestamp('2022-01-01 00:00:00', freq='D'), Timestamp('2022-01-02 00:00:00', freq='D')]\n"
          ]
        }
      ],
      "source": [
        "# Define el rango de fechas\n",
        "start_date = Timestamp('2022-01-01') - pd.Timedelta(days=42)  # Ajusta la fecha de inicio a 42 días antes\n",
        "end_date = Timestamp('2022-01-02')\n",
        "\n",
        "# Crear secuencias de entrada\n",
        "input_sequences, dates = create_input_sequences(data_list, start_date, end_date, 42)\n",
        "\n",
        "print('Dates:', dates)"
      ]
    },
    {
      "cell_type": "code",
      "execution_count": null,
      "metadata": {
        "id": "m1t6OG7QDPJ5"
      },
      "outputs": [],
      "source": [
        "num_municipios=len(municipios)"
      ]
    },
    {
      "cell_type": "code",
      "execution_count": null,
      "metadata": {
        "id": "8iNqbafKDPJ6"
      },
      "outputs": [],
      "source": [
        "# Generador PRUEBA AAAAAAAAAAAAAAAAAAAAAAAAAAAAAAAAAAAAAAAAAAA\n",
        "seq_length = 42\n",
        "# Generador\n",
        "def build_cgan_generator(latent_dim, n_cats):\n",
        "    # Label Inputs\n",
        "    in_label = layers.Input(shape=(1,))\n",
        "    lbls = layers.Embedding(n_cats, 50)(in_label)\n",
        "    lbls = layers.Dense((seq_length) * num_municipios)(lbls)\n",
        "    lbls = layers.Reshape((seq_length, num_municipios))(lbls)  # Ajustamos las dimensiones\n",
        "\n",
        "    # Generator Inputs (latent vector)\n",
        "    in_latent = layers.Input(shape=(latent_dim,))\n",
        "    gen = layers.Dense((seq_length ) * num_municipios)(in_latent)\n",
        "    gen = layers.Reshape((seq_length, num_municipios))(gen)  # Ajustamos las dimensiones\n",
        "\n",
        "    # Combine both inputs\n",
        "    concat = layers.Concatenate(axis=-1)([gen, lbls])\n",
        "\n",
        "    # Hidden Layer 1\n",
        "    g = layers.Conv1D(filters=128, kernel_size=3, padding='same')(concat)\n",
        "    g = layers.LeakyReLU(alpha=0.2)(g)\n",
        "\n",
        "    # Hidden Layer 2\n",
        "    g = layers.Conv1D(filters=128, kernel_size=3, padding='same')(g)\n",
        "    g = layers.LeakyReLU(alpha=0.2)(g)\n",
        "\n",
        "    # Output Layer\n",
        "    output_layer = layers.Dense(num_municipios, activation='sigmoid')(g)\n",
        "\n",
        "    # Define model\n",
        "    model = Model([in_latent, in_label], output_layer)\n",
        "    return model\n",
        "\n",
        "# Discriminador\n",
        "def build_cgan_discriminator(seq_length, num_municipios, n_cats):\n",
        "    # Image input\n",
        "    in_img = layers.Input(shape=(seq_length, num_municipios))\n",
        "\n",
        "    # Label input\n",
        "    in_label = layers.Input(shape=(1,))\n",
        "    lbls = layers.Embedding(n_cats, 50)(in_label)\n",
        "    lbls = layers.Dense((seq_length ) * num_municipios)(lbls)\n",
        "    lbls = layers.Reshape((seq_length, num_municipios))(lbls)\n",
        "\n",
        "    # Concatenate image and label inputs\n",
        "    concat = layers.Concatenate(axis=-1)([in_img, lbls])\n",
        "\n",
        "    # Hidden Layer 1\n",
        "    d = layers.Conv1D(filters=128, kernel_size=3, padding='same')(concat)\n",
        "    d = layers.LeakyReLU(alpha=0.2)(d)\n",
        "\n",
        "    # Hidden Layer 2\n",
        "    d = layers.Conv1D(filters=128, kernel_size=3, padding='same')(d)\n",
        "    d = layers.LeakyReLU(alpha=0.2)(d)\n",
        "    d = layers.Flatten()(d)\n",
        "\n",
        "    # Output Layer\n",
        "    output_layer = layers.Dense(1, activation='sigmoid')(d)\n",
        "\n",
        "    # Define model\n",
        "    model = Model([in_img, in_label], output_layer)\n",
        "    return model\n",
        "\n",
        "\n"
      ]
    },
    {
      "cell_type": "code",
      "source": [
        "#Modelo optimizado PRUEBA Urcuqui\n",
        "class CGAN(keras.Model):\n",
        "    def __init__(self, discriminator, generator, latent_dim):\n",
        "        super(CGAN, self).__init__()\n",
        "        self.discriminator = discriminator\n",
        "        self.generator = generator\n",
        "        self.latent_dim = latent_dim\n",
        "\n",
        "    def compile(self, d_optimizer, g_optimizer, loss_fn):\n",
        "        super(CGAN, self).compile()\n",
        "        self.d_optimizer = d_optimizer\n",
        "        self.g_optimizer = g_optimizer\n",
        "        self.loss_fn = loss_fn\n",
        "\n",
        "    def train_step(self, real_sequences):\n",
        "        if isinstance(real_sequences, tuple):\n",
        "            real_sequences = real_sequences[0]\n",
        "\n",
        "        # Sample random points in the latent space\n",
        "        batch_size = tf.shape(real_sequences)[0]\n",
        "        random_latent_vectors = tf.random.normal(shape=(batch_size, self.latent_dim))\n",
        "\n",
        "        # Decode them to fake sequences\n",
        "        generated_sequences = self.generator.fit(random_latent_vectors, steps_per_epoch=10)\n",
        "\n",
        "        # Combine them with real sequences\n",
        "        combined_sequences = tf.concat([generated_sequences, real_sequences], axis=0)\n",
        "\n",
        "        # Assemble labels discriminating real from fake sequences\n",
        "        labels = tf.concat(\n",
        "            [tf.ones((batch_size, 1)) * 0.9, tf.zeros((batch_size, 1)) * 0.1], axis=0\n",
        "        ) # Aplicamos el suavizado de etiquetas\n",
        "\n",
        "        # Train the discriminator\n",
        "        with tf.GradientTape() as tape:\n",
        "            predictions = self.discriminator.fit(combined_sequences, steps_per_epoch=10)\n",
        "            d_loss = self.loss_fn(labels, predictions)\n",
        "        grads = tape.gradient(d_loss, self.discriminator.trainable_weights)\n",
        "        self.d_optimizer.apply_gradients(zip(grads, self.discriminator.trainable_weights))\n",
        "\n",
        "        # Sample random points in the latent space\n",
        "        random_latent_vectors = tf.random.normal(shape=(batch_size, self.latent_dim))\n",
        "\n",
        "        # Assemble labels that say \"all real sequences\"\n",
        "        misleading_labels = tf.ones((batch_size, 1)) * 0.9\n",
        "\n",
        "        # Train the generator (note that we should *not* update the weights\n",
        "        # of the discriminator)!\n",
        "        with tf.GradientTape() as tape:\n",
        "            predictions = self.discriminator(self.generator(random_latent_vectors))\n",
        "            g_loss = self.loss_fn(misleading_labels, predictions)\n",
        "        grads = tape.gradient(g_loss, self.generator.trainable_weights)\n",
        "        self.g_optimizer.apply_gradients(zip(grads, self.generator.trainable_weights))\n",
        "\n",
        "        return {\"d_loss\": d_loss, \"g_loss\": g_loss}\n",
        "\n",
        ""
      ],
      "metadata": {
        "id": "QEE3eRriGgsd"
      },
      "execution_count": null,
      "outputs": []
    },
    {
      "cell_type": "code",
      "source": [
        "#Modelo CGAN Optimizado Inicial\n",
        "class CGAN(keras.Model):\n",
        "    def __init__(self, discriminator, generator, latent_dim):\n",
        "        super(CGAN, self).__init__()\n",
        "        self.discriminator = discriminator\n",
        "        self.generator = generator\n",
        "        self.latent_dim = latent_dim\n",
        "\n",
        "    def compile(self, d_optimizer, g_optimizer, loss_fn):\n",
        "        super(CGAN, self).compile()\n",
        "        self.d_optimizer = d_optimizer\n",
        "        self.g_optimizer = g_optimizer\n",
        "        self.loss_fn = loss_fn\n",
        "\n",
        "    def train_step(self, real_sequences):\n",
        "        if isinstance(real_sequences, tuple):\n",
        "            real_sequences = real_sequences[0]\n",
        "\n",
        "        # Sample random points in the latent space\n",
        "        batch_size = tf.shape(real_sequences)[0]\n",
        "        random_latent_vectors = tf.random.normal(shape=(batch_size, self.latent_dim))\n",
        "\n",
        "        # Decode them to fake sequences\n",
        "        generated_sequences = self.generator(random_latent_vectors)\n",
        "\n",
        "        # Combine them with real sequences\n",
        "        combined_sequences = tf.concat([generated_sequences, real_sequences], axis=0)\n",
        "\n",
        "        # Assemble labels discriminating real from fake sequences\n",
        "        labels = tf.concat(\n",
        "            [tf.ones((batch_size, 1)) * 0.9, tf.zeros((batch_size, 1)) * 0.1], axis=0\n",
        "        ) # Aplicamos el suavizado de etiquetas\n",
        "\n",
        "        # Train the discriminator\n",
        "        with tf.GradientTape() as tape:\n",
        "            predictions = self.discriminator(combined_sequences)\n",
        "            d_loss = self.loss_fn(labels, predictions)\n",
        "        grads = tape.gradient(d_loss, self.discriminator.trainable_weights)\n",
        "        self.d_optimizer.apply_gradients(zip(grads, self.discriminator.trainable_weights))\n",
        "\n",
        "        # Sample random points in the latent space\n",
        "        random_latent_vectors = tf.random.normal(shape=(batch_size, self.latent_dim))\n",
        "\n",
        "        # Assemble labels that say \"all real sequences\"\n",
        "        misleading_labels = tf.ones((batch_size, 1)) * 0.9\n",
        "\n",
        "        # Train the generator (note that we should *not* update the weights\n",
        "        # of the discriminator)!\n",
        "        with tf.GradientTape() as tape:\n",
        "            predictions = self.discriminator(self.generator(random_latent_vectors))\n",
        "            g_loss = self.loss_fn(misleading_labels, predictions)\n",
        "        grads = tape.gradient(g_loss, self.generator.trainable_weights)\n",
        "        self.g_optimizer.apply_gradients(zip(grads, self.generator.trainable_weights))\n",
        "\n",
        "        return {\"d_loss\": d_loss, \"g_loss\": g_loss}"
      ],
      "metadata": {
        "id": "rvyyLV3Ig7TM"
      },
      "execution_count": null,
      "outputs": []
    },
    {
      "cell_type": "code",
      "execution_count": null,
      "metadata": {
        "id": "RM4O9IfgDPJ6"
      },
      "outputs": [],
      "source": [
        "def map_municipios_to_indices(municipios, municipio_a_indice):\n",
        "    return [municipio_a_indice[municipio] for municipio in municipios]"
      ]
    },
    {
      "cell_type": "code",
      "execution_count": null,
      "metadata": {
        "id": "-uAAFQSkDPJ6"
      },
      "outputs": [],
      "source": [
        "def data_loader(input_sequences, municipios, batch_size, municipio_a_indice):\n",
        "    while True:\n",
        "        # Crear índices aleatorios para el batch\n",
        "        idx = np.random.randint(0, len(input_sequences), batch_size)\n",
        "\n",
        "        # Crear el batch de secuencias y municipios\n",
        "        batch_seqs = np.array([input_sequences[i] for i in idx])\n",
        "        batch_municipios = [municipios[i] for i in idx]\n",
        "\n",
        "        # Mapear los municipios a sus índices correspondientes\n",
        "        batch_labels = map_municipios_to_indices(batch_municipios, municipio_a_indice)\n",
        "\n",
        "        yield batch_seqs, batch_labels\n"
      ]
    },
    {
      "cell_type": "code",
      "execution_count": null,
      "metadata": {
        "id": "LYRXsruZDPJ7",
        "outputId": "2c48e5f7-d66d-4238-c455-d3e99162795d",
        "colab": {
          "base_uri": "https://localhost:8080/"
        }
      },
      "outputs": [
        {
          "output_type": "stream",
          "name": "stdout",
          "text": [
            "Model: \"model_20\"\n",
            "__________________________________________________________________________________________________\n",
            "Layer (type)                    Output Shape         Param #     Connected to                     \n",
            "==================================================================================================\n",
            "input_41 (InputLayer)           [(None, 1)]          0                                            \n",
            "__________________________________________________________________________________________________\n",
            "input_42 (InputLayer)           [(None, 20)]         0                                            \n",
            "__________________________________________________________________________________________________\n",
            "embedding_20 (Embedding)        (None, 1, 50)        56050       input_41[0][0]                   \n",
            "__________________________________________________________________________________________________\n",
            "dense_51 (Dense)                (None, 11210)        235410      input_42[0][0]                   \n",
            "__________________________________________________________________________________________________\n",
            "dense_50 (Dense)                (None, 1, 11210)     571710      embedding_20[0][0]               \n",
            "__________________________________________________________________________________________________\n",
            "reshape_31 (Reshape)            (None, 10, 1121)     0           dense_51[0][0]                   \n",
            "__________________________________________________________________________________________________\n",
            "reshape_30 (Reshape)            (None, 10, 1121)     0           dense_50[0][0]                   \n",
            "__________________________________________________________________________________________________\n",
            "concatenate_20 (Concatenate)    (None, 10, 2242)     0           reshape_31[0][0]                 \n",
            "                                                                 reshape_30[0][0]                 \n",
            "__________________________________________________________________________________________________\n",
            "conv1d_40 (Conv1D)              (None, 10, 128)      861056      concatenate_20[0][0]             \n",
            "__________________________________________________________________________________________________\n",
            "leaky_re_lu_40 (LeakyReLU)      (None, 10, 128)      0           conv1d_40[0][0]                  \n",
            "__________________________________________________________________________________________________\n",
            "conv1d_41 (Conv1D)              (None, 10, 128)      49280       leaky_re_lu_40[0][0]             \n",
            "__________________________________________________________________________________________________\n",
            "leaky_re_lu_41 (LeakyReLU)      (None, 10, 128)      0           conv1d_41[0][0]                  \n",
            "__________________________________________________________________________________________________\n",
            "dense_52 (Dense)                (None, 10, 1121)     144609      leaky_re_lu_41[0][0]             \n",
            "==================================================================================================\n",
            "Total params: 1,918,115\n",
            "Trainable params: 1,918,115\n",
            "Non-trainable params: 0\n",
            "__________________________________________________________________________________________________\n",
            "Model: \"model_21\"\n",
            "__________________________________________________________________________________________________\n",
            "Layer (type)                    Output Shape         Param #     Connected to                     \n",
            "==================================================================================================\n",
            "input_44 (InputLayer)           [(None, 1)]          0                                            \n",
            "__________________________________________________________________________________________________\n",
            "embedding_21 (Embedding)        (None, 1, 50)        56050       input_44[0][0]                   \n",
            "__________________________________________________________________________________________________\n",
            "dense_53 (Dense)                (None, 1, 11210)     571710      embedding_21[0][0]               \n",
            "__________________________________________________________________________________________________\n",
            "input_43 (InputLayer)           [(None, 10, 1121)]   0                                            \n",
            "__________________________________________________________________________________________________\n",
            "reshape_32 (Reshape)            (None, 10, 1121)     0           dense_53[0][0]                   \n",
            "__________________________________________________________________________________________________\n",
            "concatenate_21 (Concatenate)    (None, 10, 2242)     0           input_43[0][0]                   \n",
            "                                                                 reshape_32[0][0]                 \n",
            "__________________________________________________________________________________________________\n",
            "conv1d_42 (Conv1D)              (None, 10, 128)      861056      concatenate_21[0][0]             \n",
            "__________________________________________________________________________________________________\n",
            "leaky_re_lu_42 (LeakyReLU)      (None, 10, 128)      0           conv1d_42[0][0]                  \n",
            "__________________________________________________________________________________________________\n",
            "conv1d_43 (Conv1D)              (None, 10, 128)      49280       leaky_re_lu_42[0][0]             \n",
            "__________________________________________________________________________________________________\n",
            "leaky_re_lu_43 (LeakyReLU)      (None, 10, 128)      0           conv1d_43[0][0]                  \n",
            "__________________________________________________________________________________________________\n",
            "flatten_10 (Flatten)            (None, 1280)         0           leaky_re_lu_43[0][0]             \n",
            "__________________________________________________________________________________________________\n",
            "dense_54 (Dense)                (None, 1)            1281        flatten_10[0][0]                 \n",
            "==================================================================================================\n",
            "Total params: 1,539,377\n",
            "Trainable params: 1,539,377\n",
            "Non-trainable params: 0\n",
            "__________________________________________________________________________________________________\n"
          ]
        }
      ],
      "source": [
        "# Parámetros Iniciales con el data Loader\n",
        "seq_length = 42  # Longitud de las secuencias de tiempo\n",
        "num_municipios = len(municipios)  # Longitud de los vectores en tus secuencias\n",
        "latent_dim = 20\n",
        "batch_size = 128\n",
        "num_epochs = 100\n",
        "n_cats = len(municipios)\n",
        "\n",
        "# Crear modelos y optimizadores\n",
        "generator = build_cgan_generator(latent_dim, n_cats)\n",
        "discriminator = build_cgan_discriminator(seq_length, num_municipios, n_cats)\n",
        "\n",
        "generator.summary()\n",
        "discriminator.summary()\n",
        "\n",
        "generator_optimizer = adam_v2.Adam(learning_rate=0.0002, beta_1=0.5)\n",
        "discriminator_optimizer = adam_v2.Adam(learning_rate=0.0002, beta_1=0.5)\n",
        "\n",
        "# Crear dataloader\n",
        "#data_loader = dataloader(input_sequences, batch_size)\n",
        "data_gen = data_loader(input_sequences, municipios, batch_size, municipio_a_indice)\n",
        "\n"
      ]
    },
    {
      "cell_type": "code",
      "execution_count": null,
      "metadata": {
        "id": "zFa04caBDPJ7",
        "outputId": "a1bdbad4-09ef-4326-f6f2-70d0dad6c243",
        "colab": {
          "base_uri": "https://localhost:8080/"
        }
      },
      "outputs": [
        {
          "output_type": "stream",
          "name": "stdout",
          "text": [
            "Loaded weights from disk.\n"
          ]
        }
      ],
      "source": [
        "# Ciclo de entrenamiento AYUDAAAAAAAAAAAAAAAAAAAAAAAAAAAAAAAAAAAAAAAAAAAAAAAAAAAAAAAAAAAAAAAAAAAAA EXAMPLE\n",
        "# Define metrics\n",
        "generator_loss_metric = tf.keras.metrics.Mean(name='generator_loss')\n",
        "discriminator_loss_metric = tf.keras.metrics.Mean(name='discriminator_loss')\n",
        "\n",
        "# Define lists to hold history of losses\n",
        "generator_loss_history = []\n",
        "discriminator_loss_history = []\n",
        "\n",
        "# Antes de comenzar el entrenamiento, puedes cargar los pesos del modelo si existen.\n",
        "try:\n",
        "    generator.load_weights('/content/drive/MyDrive/MGN2021_MPIO_POLITICO/weights/generator_weights.h5')\n",
        "    discriminator.load_weights('/content/drive/MyDrive/MGN2021_MPIO_POLITICO/weights/discriminator_weights.h5')\n",
        "    print(\"Loaded weights from disk.\")\n",
        "except:\n",
        "    print(\"No weights found. Training from scratch.\")\n",
        "\n",
        "# Ciclo de entrenamiento\n",
        "for epoch in range(num_epochs):\n",
        "    for i, (real_seqs, labels) in enumerate(data_gen):\n",
        "        real_seqs = real_seqs[:,:seq_length // 4,:]\n",
        "        labels = tf.reshape(labels, (-1, 1))\n",
        "\n",
        "        # Actualiza el discriminador\n",
        "        real_labels = tf.ones((real_seqs.shape[0], 1))\n",
        "        fake_seqs = generator([tf.random.normal((real_seqs.shape[0], latent_dim)), labels])\n",
        "        fake_labels = tf.zeros((real_seqs.shape[0], 1))\n",
        "\n",
        "        with tf.GradientTape() as tape:\n",
        "            real_preds = discriminator([real_seqs, labels])\n",
        "            fake_preds = discriminator([fake_seqs, labels])\n",
        "\n",
        "            real_loss = tf.keras.losses.binary_crossentropy(real_labels, real_preds)\n",
        "            fake_loss = tf.keras.losses.binary_crossentropy(fake_labels, fake_preds)\n",
        "            disc_loss = (real_loss + fake_loss) * 0.5\n",
        "\n",
        "        discriminator_loss_metric.update_state(disc_loss)\n",
        "\n",
        "        disc_grads = tape.gradient(disc_loss, discriminator.trainable_weights)\n",
        "        discriminator_optimizer.apply_gradients(zip(disc_grads, discriminator.trainable_weights))\n",
        "\n",
        "        # Actualiza el generador\n",
        "        sampled_labels = tf.random.uniform((real_seqs.shape[0], 1), minval=0, maxval=n_cats, dtype=tf.int32)\n",
        "\n",
        "        with tf.GradientTape() as tape:\n",
        "            fake_seqs = generator([tf.random.normal((real_seqs.shape[0], latent_dim)), sampled_labels])\n",
        "            fake_preds = discriminator([fake_seqs, sampled_labels])\n",
        "            gen_loss = tf.keras.losses.binary_crossentropy(tf.ones_like(fake_preds), fake_preds)\n",
        "\n",
        "        generator_loss_metric.update_state(gen_loss)\n",
        "\n",
        "        gen_grads = tape.gradient(gen_loss, generator.trainable_weights)\n",
        "        generator_optimizer.apply_gradients(zip(gen_grads, generator.trainable_weights))\n",
        "\n",
        "        # Guarda los pesos cada 50 pasos\n",
        "        if i % 500 == 0:\n",
        "            generator.save_weights('/content/drive/MyDrive/MGN2021_MPIO_POLITICO/weights/generator_weights.h5')\n",
        "            discriminator.save_weights('/content/drive/MyDrive/MGN2021_MPIO_POLITICO/weights/discriminator_weights.h5')\n",
        "            print(f\"Epoch: {epoch}, Step: {i}, Gen Loss: {generator_loss_metric.result().numpy()}, Disc Loss: {discriminator_loss_metric.result().numpy()}\")\n",
        "\n",
        "        # Add current losses to history\n",
        "        generator_loss_history.append(generator_loss_metric.result().numpy())\n",
        "        discriminator_loss_history.append(discriminator_loss_metric.result().numpy())\n",
        "\n",
        "        # Resetea las métricas al final de cada epoch\n",
        "        generator_loss_metric.reset_states()\n",
        "        discriminator_loss_metric.reset_states()\n"
      ]
    }
  ],
  "metadata": {
    "kernelspec": {
      "display_name": "Python 3",
      "name": "python3"
    },
    "language_info": {
      "codemirror_mode": {
        "name": "ipython",
        "version": 3
      },
      "file_extension": ".py",
      "mimetype": "text/x-python",
      "name": "python",
      "nbconvert_exporter": "python",
      "pygments_lexer": "ipython3",
      "version": "3.11.3"
    },
    "orig_nbformat": 4,
    "colab": {
      "provenance": [],
      "gpuType": "T4",
      "machine_shape": "hm"
    },
    "accelerator": "GPU"
  },
  "nbformat": 4,
  "nbformat_minor": 0
}