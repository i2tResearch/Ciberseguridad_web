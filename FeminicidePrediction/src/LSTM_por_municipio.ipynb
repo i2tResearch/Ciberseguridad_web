{
  "cells": [
    {
      "cell_type": "code",
      "source": [
        "#!pip install geopandas\n",
        "#!pip install contextily\n",
        "#!pip list\n",
        "#!nvcc --version\n",
        "#!pip install scalecast --upgrade\n",
        "#!pip install hcrystalball\n",
        "\n",
        "#!nvidia-smi"
      ],
      "metadata": {
        "id": "851G2WQ-DUf8"
      },
      "execution_count": null,
      "outputs": []
    },
    {
      "cell_type": "code",
      "execution_count": null,
      "metadata": {
        "id": "XI16yAKJDPJv"
      },
      "outputs": [],
      "source": [
        "# Importaciones de bibliotecas estándar de Python\n",
        "from datetime import datetime, timedelta\n",
        "\n",
        "# Importaciones de bibliotecas de terceros\n",
        "import geopandas as gpd\n",
        "import pandas as pd\n",
        "import numpy as np\n",
        "import pickle\n",
        "import unicodedata\n",
        "import seaborn as sns\n",
        "import matplotlib.pyplot as plt\n",
        "from scalecast.Forecaster import Forecaster\n",
        "import tensorflow as tf\n",
        "from tensorflow.python import keras\n",
        "from tensorflow.python.keras import layers, Model\n",
        "from tensorflow.python.keras.optimizers import adam_v2\n",
        "from tensorflow.python.keras.metrics import Mean\n",
        "from tensorflow.python.keras.callbacks import EarlyStopping\n",
        "from keras.losses import MeanSquaredError\n",
        "from google.colab import drive\n",
        "from scalecast.Forecaster import Forecaster\n",
        "from keras.callbacks import EarlyStopping\n",
        "from sklearn.linear_model import LinearRegression\n",
        "from scalecast.SeriesTransformer import SeriesTransformer\n",
        "from hcrystalball.wrappers import ExponentialSmoothingWrapper, ProphetWrapper, SarimaxWrapper\n",
        "from sklearn.pipeline import Pipeline\n",
        "from sklearn.preprocessing import StandardScaler\n",
        "from sklearn.ensemble import RandomForestRegressor\n",
        "from sklearn.linear_model import Lasso\n",
        "from hcrystalball.compose import TSColumnTransformer\n",
        "from hcrystalball.feature_extraction import SeasonalityTransformer, HolidayTransformer\n",
        "from hcrystalball.wrappers import get_sklearn_wrapper"
      ]
    },
    {
      "cell_type": "code",
      "execution_count": null,
      "metadata": {
        "id": "if7y3aN8DPJw"
      },
      "outputs": [],
      "source": [
        "tf.config.list_physical_devices('GPU')\n",
        "drive.mount('/content/drive')"
      ]
    },
    {
      "cell_type": "code",
      "source": [
        "gdf=gpd.read_file(\"/content/drive/MyDrive/PDG/data/MGN2021_MPIO_POLITICO/MGN_MPIO_POLITICO.shp\")\n",
        "def remove_accents_and_uppercase(text):\n",
        "    if not isinstance(text, str):\n",
        "        return text\n",
        "\n",
        "    text = ''.join(c for c in unicodedata.normalize('NFD', text) if unicodedata.category(c) != 'Mn')\n",
        "    return text.upper()\n",
        "\n",
        "columnas_a_transformar_colombia = [\"DPTO_CNMBR\", \"MPIO_CNMBR\"]\n",
        "gdf[columnas_a_transformar_colombia]=gdf[columnas_a_transformar_colombia].applymap(remove_accents_and_uppercase)\n",
        "gdf = gdf.to_crs('EPSG:3857')\n",
        "gdf['latitud'] = gdf['geometry'].centroid.y\n",
        "gdf_sorted = gdf.sort_values('latitud', ascending=False)\n",
        "gdf_sorted = gdf_sorted.reset_index(drop=True)"
      ],
      "metadata": {
        "id": "GfaA7N4AmEXe"
      },
      "execution_count": null,
      "outputs": []
    },
    {
      "cell_type": "code",
      "source": [
        "municipio_a_indice = {(row['DPTO_CNMBR'], row['MPIO_CNMBR']): i for i, row in gdf_sorted.iterrows()}"
      ],
      "metadata": {
        "id": "eoJgQAJpmD4U"
      },
      "execution_count": null,
      "outputs": []
    },
    {
      "cell_type": "code",
      "execution_count": null,
      "metadata": {
        "id": "y-Dp-0qwDPJ2"
      },
      "outputs": [],
      "source": [
        "feminicidios = pd.read_csv('/content/drive/MyDrive/MGN2021_MPIO_POLITICO/datos_observatorio_limpios.csv', encoding='utf-8', sep=',')\n",
        "\n",
        "feminicidios['num_casos'] = feminicidios['num_casos'].astype(int)\n",
        "\n",
        "feminicidios['fecha_en_prensa'] = pd.to_datetime(feminicidios['fecha_en_prensa'])\n",
        "\n",
        "feminicidios.head()"
      ]
    },
    {
      "cell_type": "code",
      "source": [
        "feminicidios_mlr = feminicidios.copy()\n",
        "\n",
        "feminicidios_mlr['fecha'] = feminicidios_mlr['fecha_en_prensa']\n",
        "\n",
        "feminicidios_mlr['ubicacion'] = feminicidios_mlr.apply(lambda row: municipio_a_indice[(row['departamento'], row['municipio'])], axis=1)\n",
        "\n",
        "feminicidios_mlr = feminicidios_mlr.drop(['fecha_en_prensa', 'departamento', 'municipio','num_casos_normalizado'], axis=1)\n",
        "\n",
        "feminicidios_mlr.head()"
      ],
      "metadata": {
        "id": "XpD7FLlPgHjE"
      },
      "execution_count": null,
      "outputs": []
    },
    {
      "cell_type": "code",
      "source": [
        "# Genera una serie de tiempo completa desde la fecha más antigua hasta la más reciente\n",
        "all_dates = pd.date_range(start=feminicidios['fecha_en_prensa'].min(), end=feminicidios['fecha_en_prensa'].max())\n",
        "\n",
        "# Obtén todas las combinaciones únicas de 'departamento' y 'municipio'\n",
        "combinations = feminicidios[['departamento', 'municipio']].drop_duplicates().values.tolist()\n",
        "\n",
        "for combo in combinations:\n",
        "    dept, city = combo\n",
        "    subset = feminicidios[(feminicidios['departamento'] == dept) & (feminicidios['municipio'] == city)].copy()\n",
        "    subset.set_index('fecha_en_prensa', inplace=True)\n",
        "    subset = subset.reindex(all_dates)\n",
        "    subset.index.name = 'fecha_en_prensa'\n",
        "    subset['num_casos'].fillna(0, inplace=True)\n",
        "\n",
        "    # Guarda cada subset en un CSV\n",
        "    subset.to_csv(f\"{dept}_{city}_feminicidios.csv\", columns=['num_casos'])\n"
      ],
      "metadata": {
        "id": "6WpY6cx0Q-qh"
      },
      "execution_count": null,
      "outputs": []
    },
    {
      "cell_type": "code",
      "source": [
        "f_depar_mun = pd.read_csv('/content/ANTIOQUIA_BELLO_feminicidios.csv', encoding='utf-8', sep=',')\n",
        "\n",
        "f_depar_mun['num_casos'] = f_depar_mun['num_casos'].astype(int)\n",
        "\n",
        "f_depar_mun['fecha_en_prensa'] = pd.to_datetime(f_depar_mun['fecha_en_prensa'])\n",
        "\n",
        "f_depar_mun.head()"
      ],
      "metadata": {
        "id": "STqRuFZTRyRF"
      },
      "execution_count": null,
      "outputs": []
    },
    {
      "cell_type": "code",
      "execution_count": null,
      "metadata": {
        "id": "JnyRaRaTDPJ3"
      },
      "outputs": [],
      "source": [
        "fecha_mas_antigua = feminicidios['fecha_en_prensa'].min()\n",
        "ultima_fecha = feminicidios['fecha_en_prensa'].max()\n",
        "\n",
        "print(fecha_mas_antigua,'-',ultima_fecha)"
      ]
    },
    {
      "cell_type": "code",
      "source": [
        "# Define model\n",
        "model = Pipeline(\n",
        "    steps=[\n",
        "        (\n",
        "            \"preprocessing\",\n",
        "            TSColumnTransformer(\n",
        "                transformers=[\n",
        "                    (\"seasonality\", SeasonalityTransformer(freq=\"D\"), [\"target\"]),\n",
        "                    (\"holidays\", HolidayTransformer(country_code=\"CO\"), [\"target\"]),\n",
        "                ]\n",
        "            ),\n",
        "        ),\n",
        "        (\n",
        "            \"model\",\n",
        "            get_sklearn_wrapper(RandomForestRegressor, random_state=42),\n",
        "        ),\n",
        "    ]\n",
        ")\n",
        "\n",
        "\n",
        "f = Forecaster(\n",
        "    y = f_depar_mun['num_casos'],\n",
        "    current_dates=f_depar_mun['fecha_en_prensa'],\n",
        "    DateStartActuals = fecha_mas_antigua,\n",
        "    DateEndActuals = ultima_fecha,\n",
        "    Freq = \"D\",\n",
        "    ForecastLength = 356,\n",
        "    Xvars = [],\n",
        "    Differenced = 0,\n",
        "    TestLength = .4,\n",
        "    ValidationLength = 4,\n",
        "    ValidationMetric=['rmse', 'r2'],\n",
        "    CILevel = 0.6,\n",
        "    BootstrapSamples = 5000\n",
        ")"
      ],
      "metadata": {
        "id": "gp1EA2I1KQbc"
      },
      "execution_count": null,
      "outputs": []
    },
    {
      "cell_type": "code",
      "source": [
        "#f.fit(model)\n",
        "#predictions = f.predict()\n"
      ],
      "metadata": {
        "id": "RpKcJja6qjgC"
      },
      "execution_count": null,
      "outputs": []
    },
    {
      "cell_type": "code",
      "source": [
        "f.plot_pacf(lags=26)\n",
        "plt.show()"
      ],
      "metadata": {
        "id": "W57V5mDCLRsD"
      },
      "execution_count": null,
      "outputs": []
    },
    {
      "cell_type": "code",
      "source": [
        "plt.figure(figsize=(20, 6), dpi=360)\n",
        "result = f.seasonal_decompose(period=365)\n",
        "fig = result.plot()\n",
        "\n",
        "# Ajusta el tamaño de la figura\n",
        "fig.set_size_inches(20, 6)\n",
        "\n",
        "plt.show()"
      ],
      "metadata": {
        "id": "Fvp0y-LbMmyx"
      },
      "execution_count": null,
      "outputs": []
    },
    {
      "cell_type": "code",
      "source": [
        "criticalpval = 0.05"
      ],
      "metadata": {
        "id": "a-P0xLeOH99c"
      },
      "execution_count": null,
      "outputs": []
    },
    {
      "cell_type": "code",
      "source": [
        "\n",
        "print('-'*100)\n",
        "print('Antioquia Augmented Dickey-Fuller results:')\n",
        "stat, pval, _, _, _, _ = f.adf_test(full_res=True)\n",
        "print('the test-stat value is: {:.2f}'.format(stat))\n",
        "print('the p-value is {:.4f}'.format(pval))\n",
        "print('the series is {}'.format('stationary' if pval < criticalpval else 'not stationary'))\n",
        "print('-'*100)"
      ],
      "metadata": {
        "id": "iqjUe_LkHbSa"
      },
      "execution_count": null,
      "outputs": []
    },
    {
      "cell_type": "code",
      "source": [
        "f.set_test_length(0.30)       # 1. 12 observations to test the results\n",
        "f.generate_future_dates(365) # 2. 12 future points to forecast\n",
        "f.set_estimator('lstm')     # 3. LSTM neural network\n",
        "f.eval_cis()"
      ],
      "metadata": {
        "id": "eaPmPiYpWD-D"
      },
      "execution_count": null,
      "outputs": []
    },
    {
      "cell_type": "code",
      "source": [
        "result1 = f.manual_forecast(call_me='lstm_default')\n",
        "plt.figure(figsize=(20, 6))\n",
        "f.plot_test_set(ci=True)\n",
        "plt.show()\n",
        "\n"
      ],
      "metadata": {
        "id": "jc87ve24WxEm"
      },
      "execution_count": null,
      "outputs": []
    },
    {
      "cell_type": "code",
      "source": [
        "f.manual_forecast(call_me='lstm_24lags',lags=24)\n",
        "f.plot_test_set(ci=True)"
      ],
      "metadata": {
        "id": "biqogLvpXW0E"
      },
      "execution_count": null,
      "outputs": []
    },
    {
      "cell_type": "code",
      "source": [
        "f.manual_forecast(\n",
        "    call_me='lstm_24lags_5epochs',\n",
        "    lags=24,\n",
        "    epochs=5,\n",
        "    validation_split=.2,\n",
        "    shuffle=True,\n",
        ")\n",
        "f.plot_test_set(ci=True)"
      ],
      "metadata": {
        "id": "_1A2BFWJC9RW"
      },
      "execution_count": null,
      "outputs": []
    },
    {
      "cell_type": "code",
      "source": [
        "f.manual_forecast(\n",
        "    call_me='lstm_24lags_earlystop_3layers',\n",
        "    lags=24,\n",
        "    epochs=25,\n",
        "    validation_split=.2,\n",
        "    shuffle=True,\n",
        "    callbacks=EarlyStopping(\n",
        "        monitor='val_loss',\n",
        "        patience=5,\n",
        "    ),\n",
        "    lstm_layer_sizes=(16,16,16),\n",
        "    dropout=(0,0,0),\n",
        ")\n",
        "\n",
        "f.plot_test_set(ci=True)"
      ],
      "metadata": {
        "id": "VlGLVFnNDDa2"
      },
      "execution_count": null,
      "outputs": []
    },
    {
      "cell_type": "code",
      "source": [
        "transformer = SeriesTransformer(f)\n",
        "f = transformer.DiffTransform()\n",
        "\n",
        "f.add_ar_terms(4)  # Añade términos autorregresivos para capturar dependencias diarias\n",
        "f.add_seasonal_regressors('day', dummy=True)  # Añade regresores estacionales diarios\n",
        "f.add_seasonal_regressors('month','quarter', dummy=True)  # Añade regresores estacionales mensuales\n",
        "f.add_seasonal_regressors('year')  # Añade regresores estacionales anuales\n",
        "f.add_time_trend()  # Añade un término de tendencia temporal\n"
      ],
      "metadata": {
        "id": "FaPKlBfMcR2N"
      },
      "execution_count": null,
      "outputs": []
    },
    {
      "cell_type": "code",
      "source": [
        "# Define un callback para la detención temprana Mejor\n",
        "early_stopping = EarlyStopping(monitor='val_loss', patience=10)\n",
        "\n",
        "f.manual_forecast(\n",
        "    call_me='lstm_best',\n",
        "    lags=42,\n",
        "    batch_size=32,\n",
        "    epochs=1000,\n",
        "    validation_split=.2,\n",
        "    shuffle=True,\n",
        "    activation='tanh',\n",
        "    optimizer='Adam',\n",
        "    learning_rate=0.005,\n",
        "    lstm_layer_sizes=(72,)*4,\n",
        "    dropout=(0.2,)*4,  # Aumenta la tasa de dropout para promover la generalización\n",
        "    callbacks=[early_stopping],  # Utiliza la detención temprana para prevenir el sobreajuste\n",
        "    plot_loss=True\n",
        ")\n"
      ],
      "metadata": {
        "id": "jqhK67GO52tB"
      },
      "execution_count": null,
      "outputs": []
    },
    {
      "cell_type": "code",
      "source": [
        "f.set_estimator('mlr')\n",
        "f.manual_forecast(call_me='mlr')\n",
        "\n",
        "f = transformer.DiffRevert(\n",
        "    exclude_models = [m for m in f.history if m != 'mlr']\n",
        ") # exclude all lstm models from the revert\n",
        "\n",
        "f.plot_test_set(order_by='TestSetMAPE',models=['lstm_best','mlr'])\n",
        "plt.title('Top-2 Models Test-set Performance - Level Data',size=16)\n",
        "plt.show()"
      ],
      "metadata": {
        "id": "isigc2TFzD91"
      },
      "execution_count": null,
      "outputs": []
    },
    {
      "cell_type": "code",
      "source": [
        "f.export('lvl_test_set_predictions')"
      ],
      "metadata": {
        "id": "e7RoHrzFJw35"
      },
      "execution_count": null,
      "outputs": []
    },
    {
      "cell_type": "code",
      "execution_count": null,
      "metadata": {
        "id": "4SHLYsyQDPJ3"
      },
      "outputs": [],
      "source": [
        "diferencia = ultima_fecha- fecha_mas_antigua\n",
        "num_dias = diferencia.days\n",
        "print(num_dias)\n",
        "fecha_inicial=fecha_mas_antigua\n",
        "fecha_final=ultima_fecha"
      ]
    },
    {
      "cell_type": "code",
      "execution_count": null,
      "metadata": {
        "id": "JeODO0dMDPJ4"
      },
      "outputs": [],
      "source": [
        "min_num_casos = feminicidios['num_casos'].min()\n",
        "max_num_casos = feminicidios['num_casos'].max()\n",
        "feminicidios['num_casos_normalizado'] = (feminicidios['num_casos'] - min_num_casos) / (max_num_casos - min_num_casos)"
      ]
    },
    {
      "cell_type": "code",
      "execution_count": null,
      "metadata": {
        "id": "-0CF0LiaDPJ4"
      },
      "outputs": [],
      "source": [
        "fecha_min = feminicidios['fecha_en_prensa'].min()\n",
        "fecha_max = feminicidios['fecha_en_prensa'].max()\n",
        "rango_fechas = pd.date_range(fecha_min, fecha_max)"
      ]
    },
    {
      "cell_type": "code",
      "source": [
        "# Define un callback para la detención temprana iNicial mia\n",
        "early_stopping = EarlyStopping(monitor='val_loss', patience=10)\n",
        "\n",
        "f.manual_forecast(\n",
        "    call_me='lstm_best',\n",
        "    lags=42,\n",
        "    batch_size=256,\n",
        "    epochs=1000,\n",
        "    validation_split=.2,\n",
        "    shuffle=True,\n",
        "    activation='tanh',\n",
        "    optimizer='Adam',\n",
        "    learning_rate=0.005,\n",
        "    lstm_layer_sizes=(72,)*4,\n",
        "    dropout=(0.2,)*4,  # Aumenta la tasa de dropout para promover la generalización\n",
        "    callbacks=[early_stopping],  # Utiliza la detención temprana para prevenir el sobreajuste\n",
        "    plot_loss=True\n",
        ")\n",
        "\n",
        "f.plot_test_set(order_by='TestSetMAPE', models='top_2', ci=True)\n"
      ],
      "metadata": {
        "id": "OuJrHGIrXem3"
      },
      "execution_count": null,
      "outputs": []
    }
  ],
  "metadata": {
    "kernelspec": {
      "display_name": "Python 3",
      "name": "python3"
    },
    "language_info": {
      "codemirror_mode": {
        "name": "ipython",
        "version": 3
      },
      "file_extension": ".py",
      "mimetype": "text/x-python",
      "name": "python",
      "nbconvert_exporter": "python",
      "pygments_lexer": "ipython3",
      "version": "3.11.3"
    },
    "orig_nbformat": 4,
    "colab": {
      "provenance": [],
      "gpuType": "T4",
      "private_outputs": true
    },
    "accelerator": "GPU"
  },
  "nbformat": 4,
  "nbformat_minor": 0
}