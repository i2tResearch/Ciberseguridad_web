{
 "cells": [
  {
   "cell_type": "code",
   "execution_count": 1,
   "metadata": {},
   "outputs": [],
   "source": [
    "import pandas as pd\n",
    "import numpy as np\n",
    "import seaborn as sns\n",
    "import matplotlib.pyplot as plt\n",
    "from termcolor import colored\n",
    "from sklearn import svm, metrics\n",
    "from sklearn.model_selection import train_test_split\n",
    "from mlxtend.evaluate import bias_variance_decomp\n",
    "from sklearn.model_selection import learning_curve\n"
   ]
  },
  {
   "cell_type": "code",
   "execution_count": 23,
   "metadata": {},
   "outputs": [],
   "source": [
    "def ROC(X_test,y_test, model):\n",
    "    y_pred_proba = model.predict_proba(X_test)\n",
    "    lr_probs = y_pred_proba[:,1]\n",
    "    ns_probs = [0 for _ in range(len(y_test))]\n",
    "    ns_auc = metrics.roc_auc_score(y_test, ns_probs)\n",
    "    lr_auc = metrics.roc_auc_score(y_test, lr_probs)\n",
    "    ns_fpr, ns_tpr, thresholds  = metrics.roc_curve(y_test,ns_probs)\n",
    "    lr_fpr, lr_tpr, thresholds = metrics.roc_curve(y_test, lr_probs)\n",
    "    plt.plot(ns_fpr,ns_tpr,linestyle='--', label='No Skill')\n",
    "    plt.plot(lr_fpr, lr_tpr, marker='.', label='SVM')\n",
    "    plt.xlabel('False Positive Rate')\n",
    "    plt.ylabel('True Positive Rate')\n",
    "    plt.legend()\n",
    "    plt.show()\n",
    "    print('No Skill: ROC AUC=%.3f' % (ns_auc))\n",
    "    print('Treeb: ROC AUC=%.3f' % (lr_auc))"
   ]
  },
  {
   "cell_type": "code",
   "execution_count": 3,
   "metadata": {},
   "outputs": [],
   "source": [
    "def curva_aprendizaje(model, X, y, score):\n",
    "    train_sizes, train_scores, test_scores = learning_curve(model, X, y,cv=10,scoring=score)\n",
    "    train_mean = np.mean(train_scores, axis=1)\n",
    "    train_std = np.std(train_scores, axis=1)\n",
    "    test_mean = np.mean(test_scores, axis=1)\n",
    "    test_std = np.std(test_scores, axis=1)\n",
    "\n",
    "    plt.plot(train_sizes, train_mean, '--', color=\"red\", label=\"Training score\")\n",
    "    plt.plot(train_sizes, test_mean, color=\"blue\", label=\"Cross-validation score\")\n",
    "\n",
    "    plt.fill_between(train_sizes, train_mean - train_std, train_mean + train_std,  alpha=0.15,color=\"r\")\n",
    "    plt.fill_between(train_sizes, test_mean - test_std, test_mean + test_std,  alpha=0.15,color=\"b\")\n",
    "\n",
    "    plt.title(\"Curva de aprendizaje\")\n",
    "    plt.xlabel(\"Training Set Size\"), plt.ylabel(\"Accuracy Score\"), plt.legend(loc=\"best\")\n",
    "    plt.tight_layout()\n",
    "    plt.show()"
   ]
  },
  {
   "cell_type": "code",
   "execution_count": 4,
   "metadata": {},
   "outputs": [],
   "source": [
    "def curva_validacion(model, X_train,y_train, param,rango):\n",
    "    train_prec, eval_prec = validation_curve(estimator = model, X = X_train, y=y_train, param_name=param,param_range=rango, cv =10)\n",
    "    train_mean = np.mean(train_prec, axis = 1)\n",
    "    train_std = np.mean(train_prec,axis = 1)\n",
    "    test_mean = np.mean(eval_prec,axis = 1)\n",
    "    test_std = np.std(eval_prec,axis=1)\n",
    "    \n",
    "    #Grafico\n",
    "    \n",
    "    plt.plot(rango,train_mean,color='r', marker = 'o',markersize = 5, label = 'Entrenamiento')\n",
    "    plt.fill_between(rango, train_mean - train_std, \n",
    "                 train_mean + train_std, alpha=0.15, color='r')\n",
    "    plt.plot(rango, test_mean, color='b', linestyle='--', marker='s', markersize=5, label='evaluacion')\n",
    "    plt.fill_between(rango, test_mean - test_std, \n",
    "                 test_mean + test_std, alpha=0.15, color='b')\n",
    "    plt.grid()\n",
    "    plt.legend(loc='center right')\n",
    "    plt.xlabel('Cant de nodos')\n",
    "    plt.ylabel('Precision')\n",
    "    plt.show()"
   ]
  },
  {
   "cell_type": "code",
   "execution_count": 5,
   "metadata": {},
   "outputs": [
    {
     "data": {
      "text/html": [
       "<div>\n",
       "<style scoped>\n",
       "    .dataframe tbody tr th:only-of-type {\n",
       "        vertical-align: middle;\n",
       "    }\n",
       "\n",
       "    .dataframe tbody tr th {\n",
       "        vertical-align: top;\n",
       "    }\n",
       "\n",
       "    .dataframe thead th {\n",
       "        text-align: right;\n",
       "    }\n",
       "</style>\n",
       "<table border=\"1\" class=\"dataframe\">\n",
       "  <thead>\n",
       "    <tr style=\"text-align: right;\">\n",
       "      <th></th>\n",
       "      <th>Netflows</th>\n",
       "      <th>p1_d</th>\n",
       "      <th>p2_d</th>\n",
       "      <th>p3_d</th>\n",
       "      <th>duration</th>\n",
       "      <th>max_d</th>\n",
       "      <th>min_d</th>\n",
       "      <th>#packets</th>\n",
       "      <th>Avg_bps</th>\n",
       "      <th>Avg_pps</th>\n",
       "      <th>...</th>\n",
       "      <th>p2_ip</th>\n",
       "      <th>p3_ip</th>\n",
       "      <th>p1_ib</th>\n",
       "      <th>p2_ib</th>\n",
       "      <th>p3_ib</th>\n",
       "      <th>First_Protocol_ICMP</th>\n",
       "      <th>First_Protocol_ICMP6</th>\n",
       "      <th>First_Protocol_TCP</th>\n",
       "      <th>First_Protocol_UDP</th>\n",
       "      <th>Type_mine</th>\n",
       "    </tr>\n",
       "  </thead>\n",
       "  <tbody>\n",
       "    <tr>\n",
       "      <th>0</th>\n",
       "      <td>-0.084787</td>\n",
       "      <td>-0.68541</td>\n",
       "      <td>-0.244709</td>\n",
       "      <td>-0.196223</td>\n",
       "      <td>0.361252</td>\n",
       "      <td>-0.132463</td>\n",
       "      <td>-0.625504</td>\n",
       "      <td>-0.317443</td>\n",
       "      <td>-0.359303</td>\n",
       "      <td>-0.336093</td>\n",
       "      <td>...</td>\n",
       "      <td>-0.343648</td>\n",
       "      <td>-0.398552</td>\n",
       "      <td>-0.417145</td>\n",
       "      <td>-0.476095</td>\n",
       "      <td>-0.558694</td>\n",
       "      <td>0</td>\n",
       "      <td>0</td>\n",
       "      <td>1</td>\n",
       "      <td>0</td>\n",
       "      <td>0</td>\n",
       "    </tr>\n",
       "  </tbody>\n",
       "</table>\n",
       "<p>1 rows × 31 columns</p>\n",
       "</div>"
      ],
      "text/plain": [
       "   Netflows     p1_d      p2_d      p3_d  duration     max_d     min_d  \\\n",
       "0 -0.084787 -0.68541 -0.244709 -0.196223  0.361252 -0.132463 -0.625504   \n",
       "\n",
       "   #packets   Avg_bps   Avg_pps  ...     p2_ip     p3_ip     p1_ib     p2_ib  \\\n",
       "0 -0.317443 -0.359303 -0.336093  ... -0.343648 -0.398552 -0.417145 -0.476095   \n",
       "\n",
       "      p3_ib  First_Protocol_ICMP  First_Protocol_ICMP6  First_Protocol_TCP  \\\n",
       "0 -0.558694                    0                     0                   1   \n",
       "\n",
       "   First_Protocol_UDP  Type_mine  \n",
       "0                   0          0  \n",
       "\n",
       "[1 rows x 31 columns]"
      ]
     },
     "execution_count": 5,
     "metadata": {},
     "output_type": "execute_result"
    }
   ],
   "source": [
    "data = pd.read_csv('./dataA.csv')\n",
    "data.head(1)"
   ]
  },
  {
   "cell_type": "markdown",
   "metadata": {},
   "source": [
    "# Best Features"
   ]
  },
  {
   "cell_type": "code",
   "execution_count": 6,
   "metadata": {},
   "outputs": [],
   "source": [
    "best_feature_pure = ['Avg_bps','Avg_bpp' ,'Avg_pps','p3_ip','p3_ib']"
   ]
  },
  {
   "cell_type": "code",
   "execution_count": 7,
   "metadata": {},
   "outputs": [],
   "source": [
    "y = data['Type_mine']\n",
    "X = data[best_feature_pure]"
   ]
  },
  {
   "cell_type": "markdown",
   "metadata": {},
   "source": [
    "# Holdout"
   ]
  },
  {
   "cell_type": "code",
   "execution_count": 8,
   "metadata": {},
   "outputs": [],
   "source": [
    "X_train, X_test, y_train, y_test = train_test_split(X,y,train_size = 0.7, test_size=0.3)"
   ]
  },
  {
   "cell_type": "code",
   "execution_count": 9,
   "metadata": {},
   "outputs": [],
   "source": [
    "model = svm.SVC(probability=True)"
   ]
  },
  {
   "cell_type": "code",
   "execution_count": 10,
   "metadata": {},
   "outputs": [
    {
     "data": {
      "text/plain": [
       "SVC(C=1.0, break_ties=False, cache_size=200, class_weight=None, coef0=0.0,\n",
       "    decision_function_shape='ovr', degree=3, gamma='scale', kernel='rbf',\n",
       "    max_iter=-1, probability=True, random_state=None, shrinking=True, tol=0.001,\n",
       "    verbose=False)"
      ]
     },
     "execution_count": 10,
     "metadata": {},
     "output_type": "execute_result"
    }
   ],
   "source": [
    "model.fit(X_train, y_train)"
   ]
  },
  {
   "cell_type": "code",
   "execution_count": 11,
   "metadata": {},
   "outputs": [],
   "source": [
    "y_pred = model.predict(X_test)"
   ]
  },
  {
   "cell_type": "code",
   "execution_count": 12,
   "metadata": {},
   "outputs": [
    {
     "name": "stdout",
     "output_type": "stream",
     "text": [
      "El modelo de SVM se equivocó en 40 de los 4733 registros que componen el dataset original\n"
     ]
    }
   ],
   "source": [
    "print(\"El modelo de SVM se equivocó en %d de los %d registros que componen el dataset original\"\n",
    "      % ((y_test != y_pred).sum(), data.shape[0]))"
   ]
  },
  {
   "cell_type": "code",
   "execution_count": 13,
   "metadata": {
    "scrolled": true
   },
   "outputs": [
    {
     "data": {
      "text/plain": [
       "([<matplotlib.axis.YTick at 0x1fb2b705160>,\n",
       "  <matplotlib.axis.YTick at 0x1fb2b6fb9e8>],\n",
       " <a list of 2 Text yticklabel objects>)"
      ]
     },
     "execution_count": 13,
     "metadata": {},
     "output_type": "execute_result"
    },
    {
     "data": {
      "image/png": "[encoded data removed]",
      "text/plain": [
       "<Figure size 432x288 with 2 Axes>"
      ]
     },
     "metadata": {
      "needs_background": "light"
     },
     "output_type": "display_data"
    }
   ],
   "source": [
    "churm = metrics.confusion_matrix(y_test, y_pred)\n",
    "plt.imshow(churm, cmap=plt.cm.Blues)\n",
    "plt.colorbar()\n",
    "tick_marks = np.arange(2)\n",
    "plt.xticks(tick_marks, ['Not_mine','Mine'])\n",
    "plt.yticks(tick_marks, ['Not_mine','Mine'])"
   ]
  },
  {
   "cell_type": "code",
   "execution_count": 14,
   "metadata": {
    "scrolled": true
   },
   "outputs": [
    {
     "data": {
      "text/html": [
       "<div>\n",
       "<style scoped>\n",
       "    .dataframe tbody tr th:only-of-type {\n",
       "        vertical-align: middle;\n",
       "    }\n",
       "\n",
       "    .dataframe tbody tr th {\n",
       "        vertical-align: top;\n",
       "    }\n",
       "\n",
       "    .dataframe thead th {\n",
       "        text-align: right;\n",
       "    }\n",
       "</style>\n",
       "<table border=\"1\" class=\"dataframe\">\n",
       "  <thead>\n",
       "    <tr style=\"text-align: right;\">\n",
       "      <th></th>\n",
       "      <th>0</th>\n",
       "      <th>1</th>\n",
       "    </tr>\n",
       "  </thead>\n",
       "  <tbody>\n",
       "    <tr>\n",
       "      <th>0</th>\n",
       "      <td>752</td>\n",
       "      <td>5</td>\n",
       "    </tr>\n",
       "    <tr>\n",
       "      <th>1</th>\n",
       "      <td>35</td>\n",
       "      <td>628</td>\n",
       "    </tr>\n",
       "  </tbody>\n",
       "</table>\n",
       "</div>"
      ],
      "text/plain": [
       "     0    1\n",
       "0  752    5\n",
       "1   35  628"
      ]
     },
     "execution_count": 14,
     "metadata": {},
     "output_type": "execute_result"
    }
   ],
   "source": [
    "pd.DataFrame(churm)"
   ]
  },
  {
   "cell_type": "code",
   "execution_count": 15,
   "metadata": {},
   "outputs": [
    {
     "name": "stdout",
     "output_type": "stream",
     "text": [
      "Exactitud:  0.971830985915493\n",
      "Kappa:  0.9432545890852999\n"
     ]
    }
   ],
   "source": [
    "print(\"Exactitud: \", metrics.accuracy_score(y_test, y_pred))\n",
    "print(\"Kappa: \", metrics.cohen_kappa_score(y_test, y_pred))"
   ]
  },
  {
   "cell_type": "code",
   "execution_count": 16,
   "metadata": {},
   "outputs": [
    {
     "name": "stdout",
     "output_type": "stream",
     "text": [
      "\u001b[1mMetricas de los registros mineros\u001b[0m\n",
      "Precisión     :  0.9921011058451816\n",
      "Recall        :  0.947209653092006\n",
      "Especificidad :  0.9933949801849405\n",
      "F1-score      :  0.9691358024691358\n"
     ]
    }
   ],
   "source": [
    "print(colored('Metricas de los registros mineros', attrs=['bold']))\n",
    "\n",
    "print(\"Precisión     : \", metrics.precision_score(y_test, y_pred, labels=[1], average='macro'))\n",
    "print(\"Recall        : \", metrics.recall_score(y_test, y_pred, labels=[1], average='macro'))\n",
    "\n",
    "VN = churm[0,0]\n",
    "FP = churm[0,1]\n",
    "specificity = VN/(VN+FP)\n",
    "\n",
    "print(\"Especificidad : \", specificity)\n",
    "\n",
    "print(\"F1-score      : \", metrics.f1_score(y_test, y_pred, labels=[1], average='macro'))"
   ]
  },
  {
   "cell_type": "code",
   "execution_count": 17,
   "metadata": {},
   "outputs": [
    {
     "name": "stdout",
     "output_type": "stream",
     "text": [
      "\u001b[1mMetricas de los registros no mineros\u001b[0m\n",
      "Precisión     :  0.9555273189326556\n",
      "Recall        :  0.9933949801849405\n",
      "Especificidad :  0.947209653092006\n",
      "F1-score      :  0.9740932642487047\n"
     ]
    }
   ],
   "source": [
    "print(colored('Metricas de los registros no mineros', attrs=['bold']))\n",
    "\n",
    "print(\"Precisión     : \", metrics.precision_score(y_test, y_pred, labels=[0], average='macro'))\n",
    "print(\"Recall        : \", metrics.recall_score(y_test, y_pred, labels=[0], average='macro'))\n",
    "\n",
    "VN = churm[1,1]\n",
    "FP = churm[1,0]\n",
    "specificity = VN/(VN+FP)\n",
    "\n",
    "print(\"Especificidad : \", specificity)\n",
    "\n",
    "print(\"F1-score      : \", metrics.f1_score(y_test, y_pred, labels=[0], average='macro'))"
   ]
  },
  {
   "cell_type": "code",
   "execution_count": 18,
   "metadata": {},
   "outputs": [
    {
     "name": "stdout",
     "output_type": "stream",
     "text": [
      "MSE: 0.029\n",
      "Bias: 0.028\n",
      "Variance: 0.001\n"
     ]
    }
   ],
   "source": [
    "mse, bias, var =  bias_variance_decomp(model, np.array(X_train), np.array(y_train), np.array(X_test), np.array(y_test), loss='mse', num_rounds=200)\n",
    "print('MSE: %.3f' % mse)\n",
    "print('Bias: %.3f' % bias)\n",
    "print('Variance: %.3f' % var)"
   ]
  },
  {
   "cell_type": "code",
   "execution_count": 19,
   "metadata": {},
   "outputs": [
    {
     "data": {
      "image/png": "[encoded data removed]",
      "text/plain": [
       "<Figure size 432x288 with 1 Axes>"
      ]
     },
     "metadata": {
      "needs_background": "light"
     },
     "output_type": "display_data"
    }
   ],
   "source": [
    "curva_aprendizaje(model, X, y, 'accuracy')"
   ]
  },
  {
   "cell_type": "code",
   "execution_count": 20,
   "metadata": {},
   "outputs": [],
   "source": [
    "train_sizes, train_scores, test_scores = learning_curve(svm.SVC(probability=True), \n",
    "                                                        X, y,cv=10,scoring='accuracy')"
   ]
  },
  {
   "cell_type": "code",
   "execution_count": 21,
   "metadata": {},
   "outputs": [
    {
     "data": {
      "image/png": "[encoded data removed]",
      "text/plain": [
       "<Figure size 432x288 with 1 Axes>"
      ]
     },
     "metadata": {
      "needs_background": "light"
     },
     "output_type": "display_data"
    }
   ],
   "source": [
    "train_mean = np.mean(train_scores, axis=1)\n",
    "train_std = np.std(train_scores, axis=1)\n",
    "\n",
    "test_mean = np.mean(test_scores, axis=1)\n",
    "test_std = np.std(test_scores, axis=1)\n",
    "\n",
    "plt.plot(train_sizes, train_mean, '--', color=\"red\",  label=\"Training score\")\n",
    "plt.plot(train_sizes, test_mean, color=\"blue\", label=\"Cross-validation score\")\n",
    "\n",
    "#plt.fill_between(train_sizes, train_mean - train_std, train_mean + train_std, color=\"gray\")\n",
    "#plt.fill_between(train_sizes, test_mean - test_std, test_mean + test_std, color=\"gray\")\n",
    "\n",
    "plt.title(\"Curva de aprendizaje\")\n",
    "plt.xlabel(\"Training Set Size\"), plt.ylabel(\"Accuracy Score\"), plt.legend(loc=\"best\")\n",
    "plt.tight_layout()\n",
    "plt.show()"
   ]
  },
  {
   "cell_type": "markdown",
   "metadata": {},
   "source": [
    "# ROC"
   ]
  },
  {
   "cell_type": "code",
   "execution_count": 24,
   "metadata": {},
   "outputs": [
    {
     "data": {
      "image/png": "[encoded data removed]",
      "text/plain": [
       "<Figure size 432x288 with 1 Axes>"
      ]
     },
     "metadata": {
      "needs_background": "light"
     },
     "output_type": "display_data"
    },
    {
     "name": "stdout",
     "output_type": "stream",
     "text": [
      "No Skill: ROC AUC=0.500\n",
      "Treeb: ROC AUC=0.993\n"
     ]
    }
   ],
   "source": [
    "ROC(X_test,y_test,model)"
   ]
  }
 ],
 "metadata": {
  "kernelspec": {
   "display_name": "Python 3",
   "language": "python",
   "name": "python3"
  },
  "language_info": {
   "codemirror_mode": {
    "name": "ipython",
    "version": 3
   },
   "file_extension": ".py",
   "mimetype": "text/x-python",
   "name": "python",
   "nbconvert_exporter": "python",
   "pygments_lexer": "ipython3",
   "version": "3.7.3"
  }
 },
 "nbformat": 4,
 "nbformat_minor": 2
}
