{
 "cells": [
  {
   "cell_type": "code",
   "execution_count": 23,
   "metadata": {},
   "outputs": [],
   "source": [
    "import pandas as pd\n",
    "import numpy as np\n",
    "import matplotlib.pyplot as plt\n",
    "import seaborn as sns\n",
    "from sklearn.compose import ColumnTransformer\n",
    "from termcolor import colored\n",
    "from sklearn.preprocessing import OneHotEncoder, StandardScaler\n",
    "from sklearn.impute import SimpleImputer\n",
    "\n",
    "\n",
    "\n",
    "from sklearn.model_selection import train_test_split\n",
    "from sklearn.ensemble import RandomForestClassifier\n",
    "from sklearn.experimental import enable_iterative_imputer\n",
    "from sklearn.impute import IterativeImputer\n",
    "from sklearn.model_selection import cross_val_score, RepeatedStratifiedKFold\n",
    "from sklearn.pipeline import Pipeline"
   ]
  },
  {
   "cell_type": "markdown",
   "metadata": {},
   "source": [
    "# Datos Puros"
   ]
  },
  {
   "cell_type": "code",
   "execution_count": 24,
   "metadata": {
    "scrolled": true
   },
   "outputs": [
    {
     "data": {
      "text/html": [
       "<div>\n",
       "<style scoped>\n",
       "    .dataframe tbody tr th:only-of-type {\n",
       "        vertical-align: middle;\n",
       "    }\n",
       "\n",
       "    .dataframe tbody tr th {\n",
       "        vertical-align: top;\n",
       "    }\n",
       "\n",
       "    .dataframe thead th {\n",
       "        text-align: right;\n",
       "    }\n",
       "</style>\n",
       "<table border=\"1\" class=\"dataframe\">\n",
       "  <thead>\n",
       "    <tr style=\"text-align: right;\">\n",
       "      <th></th>\n",
       "      <th>Netflows</th>\n",
       "      <th>First_Protocol</th>\n",
       "      <th>Second_Protocol</th>\n",
       "      <th>Third_Protocol</th>\n",
       "      <th>p1_d</th>\n",
       "      <th>p2_d</th>\n",
       "      <th>p3_d</th>\n",
       "      <th>duration</th>\n",
       "      <th>max_d</th>\n",
       "      <th>min_d</th>\n",
       "      <th>...</th>\n",
       "      <th>second_dp</th>\n",
       "      <th>third_dp</th>\n",
       "      <th>p1_ip</th>\n",
       "      <th>p2_ip</th>\n",
       "      <th>p3_ip</th>\n",
       "      <th>p1_ib</th>\n",
       "      <th>p2_ib</th>\n",
       "      <th>p3_ib</th>\n",
       "      <th>Type</th>\n",
       "      <th>Cryptocurrency</th>\n",
       "    </tr>\n",
       "  </thead>\n",
       "  <tbody>\n",
       "    <tr>\n",
       "      <th>0</th>\n",
       "      <td>82</td>\n",
       "      <td>TCP</td>\n",
       "      <td>UDP</td>\n",
       "      <td>NaN</td>\n",
       "      <td>2.9595</td>\n",
       "      <td>103.6315</td>\n",
       "      <td>135.19425</td>\n",
       "      <td>6709.539</td>\n",
       "      <td>184.327</td>\n",
       "      <td>0.0</td>\n",
       "      <td>...</td>\n",
       "      <td>5355.0</td>\n",
       "      <td>80.0</td>\n",
       "      <td>3.0</td>\n",
       "      <td>5.0</td>\n",
       "      <td>5.75</td>\n",
       "      <td>84.0</td>\n",
       "      <td>160.0</td>\n",
       "      <td>248.0</td>\n",
       "      <td>not_mine</td>\n",
       "      <td>Does not have</td>\n",
       "    </tr>\n",
       "  </tbody>\n",
       "</table>\n",
       "<p>1 rows × 31 columns</p>\n",
       "</div>"
      ],
      "text/plain": [
       "   Netflows First_Protocol Second_Protocol Third_Protocol    p1_d      p2_d  \\\n",
       "0        82            TCP             UDP            NaN  2.9595  103.6315   \n",
       "\n",
       "        p3_d  duration    max_d  min_d  ...  second_dp  third_dp  p1_ip  \\\n",
       "0  135.19425  6709.539  184.327    0.0  ...     5355.0      80.0    3.0   \n",
       "\n",
       "   p2_ip  p3_ip  p1_ib  p2_ib  p3_ib      Type  Cryptocurrency  \n",
       "0    5.0   5.75   84.0  160.0  248.0  not_mine   Does not have  \n",
       "\n",
       "[1 rows x 31 columns]"
      ]
     },
     "execution_count": 24,
     "metadata": {},
     "output_type": "execute_result"
    }
   ],
   "source": [
    "data = pd.read_csv('')\n",
    "data.head(1)"
   ]
  },
  {
   "cell_type": "code",
   "execution_count": 25,
   "metadata": {},
   "outputs": [],
   "source": [
    "data = data.drop(['Second_Protocol', 'Third_Protocol','Cryptocurrency'], axis = 1)"
   ]
  },
  {
   "cell_type": "markdown",
   "metadata": {},
   "source": [
    "## Imputación de valores ausentes"
   ]
  },
  {
   "cell_type": "code",
   "execution_count": 26,
   "metadata": {},
   "outputs": [],
   "source": [
    "punter = pd.concat([data['second_sp'],data['second_dp'],data['third_sp'],data['third_dp']], axis = 1)\n",
    "imputer = SimpleImputer(missing_values = np.nan, strategy = \"median\")\n",
    "values = imputer.fit_transform(punter)"
   ]
  },
  {
   "cell_type": "code",
   "execution_count": 27,
   "metadata": {
    "scrolled": true
   },
   "outputs": [
    {
     "data": {
      "text/html": [
       "<div>\n",
       "<style scoped>\n",
       "    .dataframe tbody tr th:only-of-type {\n",
       "        vertical-align: middle;\n",
       "    }\n",
       "\n",
       "    .dataframe tbody tr th {\n",
       "        vertical-align: top;\n",
       "    }\n",
       "\n",
       "    .dataframe thead th {\n",
       "        text-align: right;\n",
       "    }\n",
       "</style>\n",
       "<table border=\"1\" class=\"dataframe\">\n",
       "  <thead>\n",
       "    <tr style=\"text-align: right;\">\n",
       "      <th></th>\n",
       "      <th>Netflows</th>\n",
       "      <th>First_Protocol</th>\n",
       "      <th>p1_d</th>\n",
       "      <th>p2_d</th>\n",
       "      <th>p3_d</th>\n",
       "      <th>duration</th>\n",
       "      <th>max_d</th>\n",
       "      <th>min_d</th>\n",
       "      <th>#packets</th>\n",
       "      <th>Avg_bps</th>\n",
       "      <th>...</th>\n",
       "      <th>first_dp</th>\n",
       "      <th>second_dp</th>\n",
       "      <th>third_dp</th>\n",
       "      <th>p1_ip</th>\n",
       "      <th>p2_ip</th>\n",
       "      <th>p3_ip</th>\n",
       "      <th>p1_ib</th>\n",
       "      <th>p2_ib</th>\n",
       "      <th>p3_ib</th>\n",
       "      <th>Type</th>\n",
       "    </tr>\n",
       "  </thead>\n",
       "  <tbody>\n",
       "    <tr>\n",
       "      <th>0</th>\n",
       "      <td>82</td>\n",
       "      <td>TCP</td>\n",
       "      <td>2.9595</td>\n",
       "      <td>103.6315</td>\n",
       "      <td>135.19425</td>\n",
       "      <td>6709.539</td>\n",
       "      <td>184.327</td>\n",
       "      <td>0.0</td>\n",
       "      <td>407</td>\n",
       "      <td>1266</td>\n",
       "      <td>...</td>\n",
       "      <td>443</td>\n",
       "      <td>5355.0</td>\n",
       "      <td>80.0</td>\n",
       "      <td>3.0</td>\n",
       "      <td>5.0</td>\n",
       "      <td>5.75</td>\n",
       "      <td>84.0</td>\n",
       "      <td>160.0</td>\n",
       "      <td>248.0</td>\n",
       "      <td>not_mine</td>\n",
       "    </tr>\n",
       "    <tr>\n",
       "      <th>1</th>\n",
       "      <td>117</td>\n",
       "      <td>TCP</td>\n",
       "      <td>57.9530</td>\n",
       "      <td>64.0000</td>\n",
       "      <td>90.11300</td>\n",
       "      <td>7092.561</td>\n",
       "      <td>148.642</td>\n",
       "      <td>0.0</td>\n",
       "      <td>462</td>\n",
       "      <td>1301</td>\n",
       "      <td>...</td>\n",
       "      <td>443</td>\n",
       "      <td>5355.0</td>\n",
       "      <td>123.0</td>\n",
       "      <td>2.0</td>\n",
       "      <td>3.0</td>\n",
       "      <td>4.00</td>\n",
       "      <td>84.0</td>\n",
       "      <td>96.0</td>\n",
       "      <td>160.0</td>\n",
       "      <td>not_mine</td>\n",
       "    </tr>\n",
       "  </tbody>\n",
       "</table>\n",
       "<p>2 rows × 28 columns</p>\n",
       "</div>"
      ],
      "text/plain": [
       "   Netflows First_Protocol     p1_d      p2_d       p3_d  duration    max_d  \\\n",
       "0        82            TCP   2.9595  103.6315  135.19425  6709.539  184.327   \n",
       "1       117            TCP  57.9530   64.0000   90.11300  7092.561  148.642   \n",
       "\n",
       "   min_d  #packets  Avg_bps  ...  first_dp  second_dp  third_dp  p1_ip  p2_ip  \\\n",
       "0    0.0       407     1266  ...       443     5355.0      80.0    3.0    5.0   \n",
       "1    0.0       462     1301  ...       443     5355.0     123.0    2.0    3.0   \n",
       "\n",
       "   p3_ip  p1_ib  p2_ib  p3_ib      Type  \n",
       "0   5.75   84.0  160.0  248.0  not_mine  \n",
       "1   4.00   84.0   96.0  160.0  not_mine  \n",
       "\n",
       "[2 rows x 28 columns]"
      ]
     },
     "execution_count": 27,
     "metadata": {},
     "output_type": "execute_result"
    }
   ],
   "source": [
    "punter = pd.DataFrame(values, columns = punter.columns)\n",
    "data['second_sp'] = punter['second_sp']\n",
    "data['second_dp'] = punter['second_dp']\n",
    "data['third_sp'] = punter['third_sp']\n",
    "data['third_dp'] = punter['third_dp']\n",
    "data.head(2)"
   ]
  },
  {
   "cell_type": "markdown",
   "metadata": {},
   "source": [
    "# Exclusión de variables con varianza próxima a cero"
   ]
  },
  {
   "cell_type": "markdown",
   "metadata": {},
   "source": [
    "## OneHotEncoder"
   ]
  },
  {
   "cell_type": "code",
   "execution_count": 28,
   "metadata": {},
   "outputs": [
    {
     "data": {
      "text/plain": [
       "<4733x4 sparse matrix of type '<class 'numpy.float64'>'\n",
       "\twith 7233 stored elements in Compressed Sparse Row format>"
      ]
     },
     "execution_count": 28,
     "metadata": {},
     "output_type": "execute_result"
    }
   ],
   "source": [
    "data_categoric = data[data.select_dtypes(include=['object']).columns.to_list()]\n",
    "one_hot =  OneHotEncoder(drop=\"first\")\n",
    "one_hot.fit_transform(data_categoric)"
   ]
  },
  {
   "cell_type": "code",
   "execution_count": 29,
   "metadata": {},
   "outputs": [
    {
     "data": {
      "text/plain": [
       "[array(['ICMP', 'ICMP6', 'TCP', 'UDP'], dtype=object),\n",
       " array(['mine', 'not_mine'], dtype=object)]"
      ]
     },
     "execution_count": 29,
     "metadata": {},
     "output_type": "execute_result"
    }
   ],
   "source": [
    "one_hot.categories_"
   ]
  },
  {
   "cell_type": "code",
   "execution_count": 30,
   "metadata": {},
   "outputs": [
    {
     "data": {
      "text/html": [
       "<div>\n",
       "<style scoped>\n",
       "    .dataframe tbody tr th:only-of-type {\n",
       "        vertical-align: middle;\n",
       "    }\n",
       "\n",
       "    .dataframe tbody tr th {\n",
       "        vertical-align: top;\n",
       "    }\n",
       "\n",
       "    .dataframe thead th {\n",
       "        text-align: right;\n",
       "    }\n",
       "</style>\n",
       "<table border=\"1\" class=\"dataframe\">\n",
       "  <thead>\n",
       "    <tr style=\"text-align: right;\">\n",
       "      <th></th>\n",
       "      <th>First_Protocol_ICMP</th>\n",
       "      <th>First_Protocol_ICMP6</th>\n",
       "      <th>First_Protocol_TCP</th>\n",
       "      <th>First_Protocol_UDP</th>\n",
       "      <th>Type_mine</th>\n",
       "      <th>Type_not_mine</th>\n",
       "    </tr>\n",
       "  </thead>\n",
       "  <tbody>\n",
       "    <tr>\n",
       "      <th>0</th>\n",
       "      <td>0</td>\n",
       "      <td>0</td>\n",
       "      <td>1</td>\n",
       "      <td>0</td>\n",
       "      <td>0</td>\n",
       "      <td>1</td>\n",
       "    </tr>\n",
       "    <tr>\n",
       "      <th>1</th>\n",
       "      <td>0</td>\n",
       "      <td>0</td>\n",
       "      <td>1</td>\n",
       "      <td>0</td>\n",
       "      <td>0</td>\n",
       "      <td>1</td>\n",
       "    </tr>\n",
       "    <tr>\n",
       "      <th>2</th>\n",
       "      <td>0</td>\n",
       "      <td>0</td>\n",
       "      <td>1</td>\n",
       "      <td>0</td>\n",
       "      <td>0</td>\n",
       "      <td>1</td>\n",
       "    </tr>\n",
       "    <tr>\n",
       "      <th>3</th>\n",
       "      <td>0</td>\n",
       "      <td>0</td>\n",
       "      <td>1</td>\n",
       "      <td>0</td>\n",
       "      <td>1</td>\n",
       "      <td>0</td>\n",
       "    </tr>\n",
       "    <tr>\n",
       "      <th>4</th>\n",
       "      <td>0</td>\n",
       "      <td>0</td>\n",
       "      <td>1</td>\n",
       "      <td>0</td>\n",
       "      <td>0</td>\n",
       "      <td>1</td>\n",
       "    </tr>\n",
       "  </tbody>\n",
       "</table>\n",
       "</div>"
      ],
      "text/plain": [
       "   First_Protocol_ICMP  First_Protocol_ICMP6  First_Protocol_TCP  \\\n",
       "0                    0                     0                   1   \n",
       "1                    0                     0                   1   \n",
       "2                    0                     0                   1   \n",
       "3                    0                     0                   1   \n",
       "4                    0                     0                   1   \n",
       "\n",
       "   First_Protocol_UDP  Type_mine  Type_not_mine  \n",
       "0                   0          0              1  \n",
       "1                   0          0              1  \n",
       "2                   0          0              1  \n",
       "3                   0          1              0  \n",
       "4                   0          0              1  "
      ]
     },
     "execution_count": 30,
     "metadata": {},
     "output_type": "execute_result"
    }
   ],
   "source": [
    "dataDummy = pd.get_dummies(data_categoric)\n",
    "dataDummy.head()"
   ]
  },
  {
   "cell_type": "markdown",
   "metadata": {},
   "source": [
    "# Multicolinealidad"
   ]
  },
  {
   "cell_type": "code",
   "execution_count": 31,
   "metadata": {},
   "outputs": [
    {
     "data": {
      "text/plain": [
       "Index(['Netflows', 'First_Protocol', 'p1_d', 'p2_d', 'p3_d', 'duration',\n",
       "       'max_d', 'min_d', '#packets', 'Avg_bps', 'Avg_pps', 'Avg_bpp', '#Bytes',\n",
       "       '#sp', '#dp', 'first_sp', 'second_sp', 'third_sp', 'first_dp',\n",
       "       'second_dp', 'third_dp', 'p1_ip', 'p2_ip', 'p3_ip', 'p1_ib', 'p2_ib',\n",
       "       'p3_ib', 'Type', 'First_Protocol_ICMP', 'First_Protocol_ICMP6',\n",
       "       'First_Protocol_TCP', 'First_Protocol_UDP', 'Type_mine',\n",
       "       'Type_not_mine'],\n",
       "      dtype='object')"
      ]
     },
     "execution_count": 31,
     "metadata": {},
     "output_type": "execute_result"
    }
   ],
   "source": [
    "from statsmodels.stats.outliers_influence import variance_inflation_factor\n",
    "multicolinialidad = pd.concat([data, dataDummy], axis = 1)\n",
    "multicolinialidad.columns"
   ]
  },
  {
   "cell_type": "code",
   "execution_count": 33,
   "metadata": {},
   "outputs": [],
   "source": [
    "multicolinialidad = multicolinialidad.drop(['Type_not_mine','Type_mine','Type','First_Protocol'],axis = 1)"
   ]
  },
  {
   "cell_type": "code",
   "execution_count": 34,
   "metadata": {},
   "outputs": [],
   "source": [
    "vif_data = pd.DataFrame() \n",
    "vif_data[\"feature\"] = multicolinialidad.columns\n",
    "vif_data[\"VIF\"] = [variance_inflation_factor(multicolinialidad.values, i) for i in range(len(multicolinialidad.columns))] "
   ]
  },
  {
   "cell_type": "code",
   "execution_count": 35,
   "metadata": {},
   "outputs": [
    {
     "data": {
      "text/html": [
       "<div>\n",
       "<style scoped>\n",
       "    .dataframe tbody tr th:only-of-type {\n",
       "        vertical-align: middle;\n",
       "    }\n",
       "\n",
       "    .dataframe tbody tr th {\n",
       "        vertical-align: top;\n",
       "    }\n",
       "\n",
       "    .dataframe thead th {\n",
       "        text-align: right;\n",
       "    }\n",
       "</style>\n",
       "<table border=\"1\" class=\"dataframe\">\n",
       "  <thead>\n",
       "    <tr style=\"text-align: right;\">\n",
       "      <th></th>\n",
       "      <th>feature</th>\n",
       "      <th>VIF</th>\n",
       "    </tr>\n",
       "  </thead>\n",
       "  <tbody>\n",
       "    <tr>\n",
       "      <th>0</th>\n",
       "      <td>Netflows</td>\n",
       "      <td>4.675045</td>\n",
       "    </tr>\n",
       "    <tr>\n",
       "      <th>1</th>\n",
       "      <td>p1_d</td>\n",
       "      <td>117.174609</td>\n",
       "    </tr>\n",
       "    <tr>\n",
       "      <th>2</th>\n",
       "      <td>p2_d</td>\n",
       "      <td>125.662776</td>\n",
       "    </tr>\n",
       "    <tr>\n",
       "      <th>3</th>\n",
       "      <td>p3_d</td>\n",
       "      <td>93.853328</td>\n",
       "    </tr>\n",
       "    <tr>\n",
       "      <th>4</th>\n",
       "      <td>duration</td>\n",
       "      <td>4.794896</td>\n",
       "    </tr>\n",
       "    <tr>\n",
       "      <th>5</th>\n",
       "      <td>max_d</td>\n",
       "      <td>26.144148</td>\n",
       "    </tr>\n",
       "    <tr>\n",
       "      <th>6</th>\n",
       "      <td>min_d</td>\n",
       "      <td>73.665596</td>\n",
       "    </tr>\n",
       "    <tr>\n",
       "      <th>7</th>\n",
       "      <td>#packets</td>\n",
       "      <td>65.891817</td>\n",
       "    </tr>\n",
       "    <tr>\n",
       "      <th>8</th>\n",
       "      <td>Avg_bps</td>\n",
       "      <td>15.425059</td>\n",
       "    </tr>\n",
       "    <tr>\n",
       "      <th>9</th>\n",
       "      <td>Avg_pps</td>\n",
       "      <td>3.594882</td>\n",
       "    </tr>\n",
       "    <tr>\n",
       "      <th>10</th>\n",
       "      <td>Avg_bpp</td>\n",
       "      <td>2.390913</td>\n",
       "    </tr>\n",
       "    <tr>\n",
       "      <th>11</th>\n",
       "      <td>#Bytes</td>\n",
       "      <td>60.774167</td>\n",
       "    </tr>\n",
       "    <tr>\n",
       "      <th>12</th>\n",
       "      <td>#sp</td>\n",
       "      <td>324.330656</td>\n",
       "    </tr>\n",
       "    <tr>\n",
       "      <th>13</th>\n",
       "      <td>#dp</td>\n",
       "      <td>297.129599</td>\n",
       "    </tr>\n",
       "    <tr>\n",
       "      <th>14</th>\n",
       "      <td>first_sp</td>\n",
       "      <td>12.118300</td>\n",
       "    </tr>\n",
       "    <tr>\n",
       "      <th>15</th>\n",
       "      <td>second_sp</td>\n",
       "      <td>18.994116</td>\n",
       "    </tr>\n",
       "    <tr>\n",
       "      <th>16</th>\n",
       "      <td>third_sp</td>\n",
       "      <td>2.297461</td>\n",
       "    </tr>\n",
       "    <tr>\n",
       "      <th>17</th>\n",
       "      <td>first_dp</td>\n",
       "      <td>12.769956</td>\n",
       "    </tr>\n",
       "    <tr>\n",
       "      <th>18</th>\n",
       "      <td>second_dp</td>\n",
       "      <td>19.385793</td>\n",
       "    </tr>\n",
       "    <tr>\n",
       "      <th>19</th>\n",
       "      <td>third_dp</td>\n",
       "      <td>2.639658</td>\n",
       "    </tr>\n",
       "    <tr>\n",
       "      <th>20</th>\n",
       "      <td>p1_ip</td>\n",
       "      <td>338.280198</td>\n",
       "    </tr>\n",
       "    <tr>\n",
       "      <th>21</th>\n",
       "      <td>p2_ip</td>\n",
       "      <td>547.768488</td>\n",
       "    </tr>\n",
       "    <tr>\n",
       "      <th>22</th>\n",
       "      <td>p3_ip</td>\n",
       "      <td>135.152759</td>\n",
       "    </tr>\n",
       "    <tr>\n",
       "      <th>23</th>\n",
       "      <td>p1_ib</td>\n",
       "      <td>89.867525</td>\n",
       "    </tr>\n",
       "    <tr>\n",
       "      <th>24</th>\n",
       "      <td>p2_ib</td>\n",
       "      <td>425.705092</td>\n",
       "    </tr>\n",
       "    <tr>\n",
       "      <th>25</th>\n",
       "      <td>p3_ib</td>\n",
       "      <td>163.934407</td>\n",
       "    </tr>\n",
       "    <tr>\n",
       "      <th>26</th>\n",
       "      <td>First_Protocol_ICMP</td>\n",
       "      <td>1.001875</td>\n",
       "    </tr>\n",
       "    <tr>\n",
       "      <th>27</th>\n",
       "      <td>First_Protocol_ICMP6</td>\n",
       "      <td>1.010693</td>\n",
       "    </tr>\n",
       "    <tr>\n",
       "      <th>28</th>\n",
       "      <td>First_Protocol_TCP</td>\n",
       "      <td>17.673839</td>\n",
       "    </tr>\n",
       "    <tr>\n",
       "      <th>29</th>\n",
       "      <td>First_Protocol_UDP</td>\n",
       "      <td>2.749028</td>\n",
       "    </tr>\n",
       "  </tbody>\n",
       "</table>\n",
       "</div>"
      ],
      "text/plain": [
       "                 feature         VIF\n",
       "0               Netflows    4.675045\n",
       "1                   p1_d  117.174609\n",
       "2                   p2_d  125.662776\n",
       "3                   p3_d   93.853328\n",
       "4               duration    4.794896\n",
       "5                  max_d   26.144148\n",
       "6                  min_d   73.665596\n",
       "7               #packets   65.891817\n",
       "8                Avg_bps   15.425059\n",
       "9                Avg_pps    3.594882\n",
       "10               Avg_bpp    2.390913\n",
       "11                #Bytes   60.774167\n",
       "12                   #sp  324.330656\n",
       "13                   #dp  297.129599\n",
       "14              first_sp   12.118300\n",
       "15             second_sp   18.994116\n",
       "16              third_sp    2.297461\n",
       "17              first_dp   12.769956\n",
       "18             second_dp   19.385793\n",
       "19              third_dp    2.639658\n",
       "20                 p1_ip  338.280198\n",
       "21                 p2_ip  547.768488\n",
       "22                 p3_ip  135.152759\n",
       "23                 p1_ib   89.867525\n",
       "24                 p2_ib  425.705092\n",
       "25                 p3_ib  163.934407\n",
       "26   First_Protocol_ICMP    1.001875\n",
       "27  First_Protocol_ICMP6    1.010693\n",
       "28    First_Protocol_TCP   17.673839\n",
       "29    First_Protocol_UDP    2.749028"
      ]
     },
     "execution_count": 35,
     "metadata": {},
     "output_type": "execute_result"
    }
   ],
   "source": [
    "vif_data"
   ]
  },
  {
   "cell_type": "markdown",
   "metadata": {},
   "source": [
    "## Estandarización"
   ]
  },
  {
   "cell_type": "code",
   "execution_count": 42,
   "metadata": {},
   "outputs": [],
   "source": [
    "data_numeric = data[data.select_dtypes(include=['float64', 'int64']).columns.to_list()]"
   ]
  },
  {
   "cell_type": "code",
   "execution_count": 43,
   "metadata": {},
   "outputs": [],
   "source": [
    "preprocessor = ColumnTransformer([\n",
    "    ('scale', StandardScaler(), data_numeric.columns), \n",
    "], remainder='passthrough')"
   ]
  },
  {
   "cell_type": "code",
   "execution_count": 44,
   "metadata": {
    "scrolled": true
   },
   "outputs": [
    {
     "data": {
      "text/plain": [
       "array([[-0.08478692, -0.68540958, -0.24470927, ..., -0.4171446 ,\n",
       "        -0.47609459, -0.55869393],\n",
       "       [ 0.09792905, -0.3966615 , -0.4587796 , ..., -0.4171446 ,\n",
       "        -0.48255709, -0.56545917],\n",
       "       [-0.02214144, -0.63218965, -0.07436965, ..., -0.41066924,\n",
       "        -0.47367115, -0.42331227],\n",
       "       ...,\n",
       "       [ 2.03993881, -0.70094869, -0.80447685, ..., -0.4247973 ,\n",
       "        -0.48901959, -0.56822677],\n",
       "       [-0.50764388,  2.4109369 ,  2.39686337, ..., 10.59508937,\n",
       "         7.07210498,  5.181304  ],\n",
       "       [-0.34580973, -0.70094869, -0.80446875, ..., -0.42192754,\n",
       "        -0.48255709, -0.56691985]])"
      ]
     },
     "execution_count": 44,
     "metadata": {},
     "output_type": "execute_result"
    }
   ],
   "source": [
    "values = preprocessor.fit_transform(data_numeric)\n",
    "values"
   ]
  },
  {
   "cell_type": "code",
   "execution_count": 45,
   "metadata": {},
   "outputs": [
    {
     "data": {
      "text/html": [
       "<div>\n",
       "<style scoped>\n",
       "    .dataframe tbody tr th:only-of-type {\n",
       "        vertical-align: middle;\n",
       "    }\n",
       "\n",
       "    .dataframe tbody tr th {\n",
       "        vertical-align: top;\n",
       "    }\n",
       "\n",
       "    .dataframe thead th {\n",
       "        text-align: right;\n",
       "    }\n",
       "</style>\n",
       "<table border=\"1\" class=\"dataframe\">\n",
       "  <thead>\n",
       "    <tr style=\"text-align: right;\">\n",
       "      <th></th>\n",
       "      <th>Netflows</th>\n",
       "      <th>p1_d</th>\n",
       "      <th>p2_d</th>\n",
       "      <th>p3_d</th>\n",
       "      <th>duration</th>\n",
       "      <th>max_d</th>\n",
       "      <th>min_d</th>\n",
       "      <th>#packets</th>\n",
       "      <th>Avg_bps</th>\n",
       "      <th>Avg_pps</th>\n",
       "      <th>...</th>\n",
       "      <th>third_sp</th>\n",
       "      <th>first_dp</th>\n",
       "      <th>second_dp</th>\n",
       "      <th>third_dp</th>\n",
       "      <th>p1_ip</th>\n",
       "      <th>p2_ip</th>\n",
       "      <th>p3_ip</th>\n",
       "      <th>p1_ib</th>\n",
       "      <th>p2_ib</th>\n",
       "      <th>p3_ib</th>\n",
       "    </tr>\n",
       "  </thead>\n",
       "  <tbody>\n",
       "    <tr>\n",
       "      <th>0</th>\n",
       "      <td>-0.084787</td>\n",
       "      <td>-0.68541</td>\n",
       "      <td>-0.244709</td>\n",
       "      <td>-0.196223</td>\n",
       "      <td>0.361252</td>\n",
       "      <td>-0.132463</td>\n",
       "      <td>-0.625504</td>\n",
       "      <td>-0.317443</td>\n",
       "      <td>-0.359303</td>\n",
       "      <td>-0.336093</td>\n",
       "      <td>...</td>\n",
       "      <td>2.777318</td>\n",
       "      <td>-0.507971</td>\n",
       "      <td>-0.598943</td>\n",
       "      <td>-0.36157</td>\n",
       "      <td>-0.338855</td>\n",
       "      <td>-0.343648</td>\n",
       "      <td>-0.398552</td>\n",
       "      <td>-0.417145</td>\n",
       "      <td>-0.476095</td>\n",
       "      <td>-0.558694</td>\n",
       "    </tr>\n",
       "  </tbody>\n",
       "</table>\n",
       "<p>1 rows × 26 columns</p>\n",
       "</div>"
      ],
      "text/plain": [
       "   Netflows     p1_d      p2_d      p3_d  duration     max_d     min_d  \\\n",
       "0 -0.084787 -0.68541 -0.244709 -0.196223  0.361252 -0.132463 -0.625504   \n",
       "\n",
       "   #packets   Avg_bps   Avg_pps  ...  third_sp  first_dp  second_dp  third_dp  \\\n",
       "0 -0.317443 -0.359303 -0.336093  ...  2.777318 -0.507971  -0.598943  -0.36157   \n",
       "\n",
       "      p1_ip     p2_ip     p3_ip     p1_ib     p2_ib     p3_ib  \n",
       "0 -0.338855 -0.343648 -0.398552 -0.417145 -0.476095 -0.558694  \n",
       "\n",
       "[1 rows x 26 columns]"
      ]
     },
     "execution_count": 45,
     "metadata": {},
     "output_type": "execute_result"
    }
   ],
   "source": [
    "data_standarizada =  pd.DataFrame(values, columns = data_numeric.columns)\n",
    "data_standarizada.head(1)"
   ]
  },
  {
   "cell_type": "markdown",
   "metadata": {},
   "source": [
    "### Concatenación de los conjuntos de datos\n"
   ]
  },
  {
   "cell_type": "code",
   "execution_count": 46,
   "metadata": {},
   "outputs": [
    {
     "data": {
      "text/plain": [
       "Index(['Netflows', 'p1_d', 'p2_d', 'p3_d', 'duration', 'max_d', 'min_d',\n",
       "       '#packets', 'Avg_bps', 'Avg_pps', 'Avg_bpp', '#Bytes', '#sp', '#dp',\n",
       "       'first_sp', 'second_sp', 'third_sp', 'first_dp', 'second_dp',\n",
       "       'third_dp', 'p1_ip', 'p2_ip', 'p3_ip', 'p1_ib', 'p2_ib', 'p3_ib',\n",
       "       'First_Protocol_ICMP', 'First_Protocol_ICMP6', 'First_Protocol_TCP',\n",
       "       'First_Protocol_UDP', 'Type_mine', 'Type_not_mine'],\n",
       "      dtype='object')"
      ]
     },
     "execution_count": 46,
     "metadata": {},
     "output_type": "execute_result"
    }
   ],
   "source": [
    "data_p = pd.concat([data_standarizada, dataDummy], axis = 1)\n",
    "data_p.columns"
   ]
  },
  {
   "cell_type": "code",
   "execution_count": 47,
   "metadata": {},
   "outputs": [],
   "source": [
    "data_p = data_p.drop('Type_not_mine',axis = 1)"
   ]
  },
  {
   "cell_type": "code",
   "execution_count": 48,
   "metadata": {},
   "outputs": [],
   "source": [
    "data_p.to_csv('', index=False)"
   ]
  },
  {
   "cell_type": "markdown",
   "metadata": {},
   "source": [
    "# Data No Pura"
   ]
  },
  {
   "cell_type": "code",
   "execution_count": 49,
   "metadata": {},
   "outputs": [
    {
     "data": {
      "text/html": [
       "<div>\n",
       "<style scoped>\n",
       "    .dataframe tbody tr th:only-of-type {\n",
       "        vertical-align: middle;\n",
       "    }\n",
       "\n",
       "    .dataframe tbody tr th {\n",
       "        vertical-align: top;\n",
       "    }\n",
       "\n",
       "    .dataframe thead th {\n",
       "        text-align: right;\n",
       "    }\n",
       "</style>\n",
       "<table border=\"1\" class=\"dataframe\">\n",
       "  <thead>\n",
       "    <tr style=\"text-align: right;\">\n",
       "      <th></th>\n",
       "      <th>Netflows</th>\n",
       "      <th>First_Protocol</th>\n",
       "      <th>Second_Protocol</th>\n",
       "      <th>Third_Protocol</th>\n",
       "      <th>p1_d</th>\n",
       "      <th>p2_d</th>\n",
       "      <th>p3_d</th>\n",
       "      <th>duration</th>\n",
       "      <th>max_d</th>\n",
       "      <th>min_d</th>\n",
       "      <th>...</th>\n",
       "      <th>first_dp</th>\n",
       "      <th>second_dp</th>\n",
       "      <th>third_dp</th>\n",
       "      <th>p1_ip</th>\n",
       "      <th>p2_ip</th>\n",
       "      <th>p3_ip</th>\n",
       "      <th>p1_ib</th>\n",
       "      <th>p2_ib</th>\n",
       "      <th>p3_ib</th>\n",
       "      <th>Type</th>\n",
       "    </tr>\n",
       "  </thead>\n",
       "  <tbody>\n",
       "    <tr>\n",
       "      <th>0</th>\n",
       "      <td>1564</td>\n",
       "      <td>TCP</td>\n",
       "      <td>UDP</td>\n",
       "      <td>ICMP</td>\n",
       "      <td>0.0</td>\n",
       "      <td>0.101</td>\n",
       "      <td>1.721</td>\n",
       "      <td>10701.93</td>\n",
       "      <td>177.706</td>\n",
       "      <td>0.0</td>\n",
       "      <td>...</td>\n",
       "      <td>53</td>\n",
       "      <td>443.0</td>\n",
       "      <td>80.0</td>\n",
       "      <td>1.0</td>\n",
       "      <td>2.0</td>\n",
       "      <td>16.0</td>\n",
       "      <td>40.0</td>\n",
       "      <td>115.5</td>\n",
       "      <td>1883.5</td>\n",
       "      <td>mine</td>\n",
       "    </tr>\n",
       "  </tbody>\n",
       "</table>\n",
       "<p>1 rows × 30 columns</p>\n",
       "</div>"
      ],
      "text/plain": [
       "   Netflows First_Protocol Second_Protocol Third_Protocol  p1_d   p2_d   p3_d  \\\n",
       "0      1564            TCP             UDP           ICMP   0.0  0.101  1.721   \n",
       "\n",
       "   duration    max_d  min_d  ...  first_dp  second_dp  third_dp  p1_ip  p2_ip  \\\n",
       "0  10701.93  177.706    0.0  ...        53      443.0      80.0    1.0    2.0   \n",
       "\n",
       "   p3_ip  p1_ib  p2_ib   p3_ib  Type  \n",
       "0   16.0   40.0  115.5  1883.5  mine  \n",
       "\n",
       "[1 rows x 30 columns]"
      ]
     },
     "execution_count": 49,
     "metadata": {},
     "output_type": "execute_result"
    }
   ],
   "source": [
    "data_n = pd.read_csv('').drop(['Name'],axis = 1)\n",
    "data_n.head(1)"
   ]
  },
  {
   "cell_type": "code",
   "execution_count": 50,
   "metadata": {},
   "outputs": [],
   "source": [
    "data_n = data_n.drop(['Second_Protocol','Third_Protocol'], axis = 1)"
   ]
  },
  {
   "cell_type": "markdown",
   "metadata": {},
   "source": [
    "## Identificar valores nulos"
   ]
  },
  {
   "cell_type": "code",
   "execution_count": 51,
   "metadata": {
    "scrolled": true
   },
   "outputs": [
    {
     "data": {
      "text/plain": [
       "Netflows              0\n",
       "First_Protocol        0\n",
       "p1_d                  0\n",
       "p2_d                  0\n",
       "p3_d                  0\n",
       "duration              0\n",
       "max_d                 0\n",
       "min_d                 0\n",
       "#packets              0\n",
       "Avg_bps               0\n",
       "Avg_pps               0\n",
       "Avg_bpp               0\n",
       "#Bytes                0\n",
       "#sp                   0\n",
       "#dp                   0\n",
       "first_sp              0\n",
       "second_sp          7495\n",
       "third_sp          10953\n",
       "first_dp              0\n",
       "second_dp          1705\n",
       "third_dp           7064\n",
       "p1_ip                 0\n",
       "p2_ip                 0\n",
       "p3_ip                 0\n",
       "p1_ib                 0\n",
       "p2_ib                 0\n",
       "p3_ib                 0\n",
       "Type                  0\n",
       "dtype: int64"
      ]
     },
     "execution_count": 51,
     "metadata": {},
     "output_type": "execute_result"
    }
   ],
   "source": [
    "data_n.isnull().sum()"
   ]
  },
  {
   "cell_type": "markdown",
   "metadata": {},
   "source": [
    "## Imputar valores"
   ]
  },
  {
   "cell_type": "code",
   "execution_count": 52,
   "metadata": {},
   "outputs": [],
   "source": [
    "punter = pd.concat([data_n['second_sp'],data_n['third_sp'],data_n['second_dp'],data_n['third_dp']], axis = 1)\n",
    "imputer = SimpleImputer(missing_values = np.nan, strategy = 'median')\n",
    "values = imputer.fit_transform(punter)"
   ]
  },
  {
   "cell_type": "code",
   "execution_count": 53,
   "metadata": {},
   "outputs": [],
   "source": [
    "values = pd.DataFrame(values, columns = punter.columns)"
   ]
  },
  {
   "cell_type": "code",
   "execution_count": 54,
   "metadata": {},
   "outputs": [],
   "source": [
    "data_n['second_sp'] = values['second_sp']\n",
    "data_n['third_sp'] = values['third_sp']\n",
    "data_n['second_dp'] = values['second_dp']\n",
    "data_n['third_dp'] = values['third_dp']"
   ]
  },
  {
   "cell_type": "markdown",
   "metadata": {},
   "source": [
    "## OneHotEncoder"
   ]
  },
  {
   "cell_type": "code",
   "execution_count": 55,
   "metadata": {},
   "outputs": [
    {
     "data": {
      "text/plain": [
       "Index(['First_Protocol', 'Type'], dtype='object')"
      ]
     },
     "execution_count": 55,
     "metadata": {},
     "output_type": "execute_result"
    }
   ],
   "source": [
    "data_categoric = data_n.select_dtypes(['object'])\n",
    "data_categoric.columns"
   ]
  },
  {
   "cell_type": "code",
   "execution_count": 56,
   "metadata": {},
   "outputs": [
    {
     "data": {
      "text/plain": [
       "<37053x5 sparse matrix of type '<class 'numpy.float64'>'\n",
       "\twith 74106 stored elements in Compressed Sparse Row format>"
      ]
     },
     "execution_count": 56,
     "metadata": {},
     "output_type": "execute_result"
    }
   ],
   "source": [
    "one_hot =  OneHotEncoder()\n",
    "one_hot.fit_transform(data_categoric)"
   ]
  },
  {
   "cell_type": "code",
   "execution_count": 57,
   "metadata": {
    "scrolled": true
   },
   "outputs": [
    {
     "data": {
      "text/html": [
       "<div>\n",
       "<style scoped>\n",
       "    .dataframe tbody tr th:only-of-type {\n",
       "        vertical-align: middle;\n",
       "    }\n",
       "\n",
       "    .dataframe tbody tr th {\n",
       "        vertical-align: top;\n",
       "    }\n",
       "\n",
       "    .dataframe thead th {\n",
       "        text-align: right;\n",
       "    }\n",
       "</style>\n",
       "<table border=\"1\" class=\"dataframe\">\n",
       "  <thead>\n",
       "    <tr style=\"text-align: right;\">\n",
       "      <th></th>\n",
       "      <th>First_Protocol_ICMP</th>\n",
       "      <th>First_Protocol_ICMP6</th>\n",
       "      <th>First_Protocol_TCP</th>\n",
       "      <th>First_Protocol_UDP</th>\n",
       "      <th>Type_mine</th>\n",
       "    </tr>\n",
       "  </thead>\n",
       "  <tbody>\n",
       "    <tr>\n",
       "      <th>0</th>\n",
       "      <td>0</td>\n",
       "      <td>0</td>\n",
       "      <td>1</td>\n",
       "      <td>0</td>\n",
       "      <td>1</td>\n",
       "    </tr>\n",
       "    <tr>\n",
       "      <th>1</th>\n",
       "      <td>0</td>\n",
       "      <td>0</td>\n",
       "      <td>1</td>\n",
       "      <td>0</td>\n",
       "      <td>1</td>\n",
       "    </tr>\n",
       "    <tr>\n",
       "      <th>2</th>\n",
       "      <td>0</td>\n",
       "      <td>0</td>\n",
       "      <td>1</td>\n",
       "      <td>0</td>\n",
       "      <td>1</td>\n",
       "    </tr>\n",
       "    <tr>\n",
       "      <th>3</th>\n",
       "      <td>0</td>\n",
       "      <td>0</td>\n",
       "      <td>1</td>\n",
       "      <td>0</td>\n",
       "      <td>1</td>\n",
       "    </tr>\n",
       "    <tr>\n",
       "      <th>4</th>\n",
       "      <td>0</td>\n",
       "      <td>0</td>\n",
       "      <td>1</td>\n",
       "      <td>0</td>\n",
       "      <td>1</td>\n",
       "    </tr>\n",
       "  </tbody>\n",
       "</table>\n",
       "</div>"
      ],
      "text/plain": [
       "   First_Protocol_ICMP  First_Protocol_ICMP6  First_Protocol_TCP  \\\n",
       "0                    0                     0                   1   \n",
       "1                    0                     0                   1   \n",
       "2                    0                     0                   1   \n",
       "3                    0                     0                   1   \n",
       "4                    0                     0                   1   \n",
       "\n",
       "   First_Protocol_UDP  Type_mine  \n",
       "0                   0          1  \n",
       "1                   0          1  \n",
       "2                   0          1  \n",
       "3                   0          1  \n",
       "4                   0          1  "
      ]
     },
     "execution_count": 57,
     "metadata": {},
     "output_type": "execute_result"
    }
   ],
   "source": [
    "dataDummy = pd.get_dummies(data_categoric)\n",
    "dataDummy.head()"
   ]
  },
  {
   "cell_type": "markdown",
   "metadata": {},
   "source": [
    "## Estandarización"
   ]
  },
  {
   "cell_type": "code",
   "execution_count": 58,
   "metadata": {},
   "outputs": [],
   "source": [
    "data_numeric = data_n.select_dtypes(['int64','float64'])"
   ]
  },
  {
   "cell_type": "code",
   "execution_count": 59,
   "metadata": {},
   "outputs": [],
   "source": [
    "preprocessor = ColumnTransformer([\n",
    "    ('scale', StandardScaler(), data_numeric.columns), \n",
    "], remainder='passthrough')"
   ]
  },
  {
   "cell_type": "code",
   "execution_count": 60,
   "metadata": {},
   "outputs": [],
   "source": [
    "values = preprocessor.fit_transform(data_numeric)"
   ]
  },
  {
   "cell_type": "code",
   "execution_count": 61,
   "metadata": {},
   "outputs": [
    {
     "data": {
      "text/html": [
       "<div>\n",
       "<style scoped>\n",
       "    .dataframe tbody tr th:only-of-type {\n",
       "        vertical-align: middle;\n",
       "    }\n",
       "\n",
       "    .dataframe tbody tr th {\n",
       "        vertical-align: top;\n",
       "    }\n",
       "\n",
       "    .dataframe thead th {\n",
       "        text-align: right;\n",
       "    }\n",
       "</style>\n",
       "<table border=\"1\" class=\"dataframe\">\n",
       "  <thead>\n",
       "    <tr style=\"text-align: right;\">\n",
       "      <th></th>\n",
       "      <th>Netflows</th>\n",
       "      <th>p1_d</th>\n",
       "      <th>p2_d</th>\n",
       "      <th>p3_d</th>\n",
       "      <th>duration</th>\n",
       "      <th>max_d</th>\n",
       "      <th>min_d</th>\n",
       "      <th>#packets</th>\n",
       "      <th>Avg_bps</th>\n",
       "      <th>Avg_pps</th>\n",
       "      <th>...</th>\n",
       "      <th>third_sp</th>\n",
       "      <th>first_dp</th>\n",
       "      <th>second_dp</th>\n",
       "      <th>third_dp</th>\n",
       "      <th>p1_ip</th>\n",
       "      <th>p2_ip</th>\n",
       "      <th>p3_ip</th>\n",
       "      <th>p1_ib</th>\n",
       "      <th>p2_ib</th>\n",
       "      <th>p3_ib</th>\n",
       "    </tr>\n",
       "  </thead>\n",
       "  <tbody>\n",
       "    <tr>\n",
       "      <th>0</th>\n",
       "      <td>4.553656</td>\n",
       "      <td>-0.037927</td>\n",
       "      <td>-0.055406</td>\n",
       "      <td>-0.142137</td>\n",
       "      <td>15.85042</td>\n",
       "      <td>-0.126105</td>\n",
       "      <td>-0.01812</td>\n",
       "      <td>43.732192</td>\n",
       "      <td>127.789591</td>\n",
       "      <td>32.184816</td>\n",
       "      <td>...</td>\n",
       "      <td>-2.089595</td>\n",
       "      <td>-3.320085</td>\n",
       "      <td>-0.610708</td>\n",
       "      <td>-0.918693</td>\n",
       "      <td>-0.140926</td>\n",
       "      <td>0.725482</td>\n",
       "      <td>5.594429</td>\n",
       "      <td>-0.046617</td>\n",
       "      <td>0.189553</td>\n",
       "      <td>3.916348</td>\n",
       "    </tr>\n",
       "  </tbody>\n",
       "</table>\n",
       "<p>1 rows × 26 columns</p>\n",
       "</div>"
      ],
      "text/plain": [
       "   Netflows      p1_d      p2_d      p3_d  duration     max_d    min_d  \\\n",
       "0  4.553656 -0.037927 -0.055406 -0.142137  15.85042 -0.126105 -0.01812   \n",
       "\n",
       "    #packets     Avg_bps    Avg_pps  ...  third_sp  first_dp  second_dp  \\\n",
       "0  43.732192  127.789591  32.184816  ... -2.089595 -3.320085  -0.610708   \n",
       "\n",
       "   third_dp     p1_ip     p2_ip     p3_ip     p1_ib     p2_ib     p3_ib  \n",
       "0 -0.918693 -0.140926  0.725482  5.594429 -0.046617  0.189553  3.916348  \n",
       "\n",
       "[1 rows x 26 columns]"
      ]
     },
     "execution_count": 61,
     "metadata": {},
     "output_type": "execute_result"
    }
   ],
   "source": [
    "data_estandarizada = pd.DataFrame(values,columns= data_numeric.columns)\n",
    "data_estandarizada.head(1)"
   ]
  },
  {
   "cell_type": "markdown",
   "metadata": {},
   "source": [
    "### Concatenación de los conjuntos de datos"
   ]
  },
  {
   "cell_type": "code",
   "execution_count": 62,
   "metadata": {},
   "outputs": [
    {
     "data": {
      "text/html": [
       "<div>\n",
       "<style scoped>\n",
       "    .dataframe tbody tr th:only-of-type {\n",
       "        vertical-align: middle;\n",
       "    }\n",
       "\n",
       "    .dataframe tbody tr th {\n",
       "        vertical-align: top;\n",
       "    }\n",
       "\n",
       "    .dataframe thead th {\n",
       "        text-align: right;\n",
       "    }\n",
       "</style>\n",
       "<table border=\"1\" class=\"dataframe\">\n",
       "  <thead>\n",
       "    <tr style=\"text-align: right;\">\n",
       "      <th></th>\n",
       "      <th>Netflows</th>\n",
       "      <th>p1_d</th>\n",
       "      <th>p2_d</th>\n",
       "      <th>p3_d</th>\n",
       "      <th>duration</th>\n",
       "      <th>max_d</th>\n",
       "      <th>min_d</th>\n",
       "      <th>#packets</th>\n",
       "      <th>Avg_bps</th>\n",
       "      <th>Avg_pps</th>\n",
       "      <th>...</th>\n",
       "      <th>p2_ip</th>\n",
       "      <th>p3_ip</th>\n",
       "      <th>p1_ib</th>\n",
       "      <th>p2_ib</th>\n",
       "      <th>p3_ib</th>\n",
       "      <th>First_Protocol_ICMP</th>\n",
       "      <th>First_Protocol_ICMP6</th>\n",
       "      <th>First_Protocol_TCP</th>\n",
       "      <th>First_Protocol_UDP</th>\n",
       "      <th>Type_mine</th>\n",
       "    </tr>\n",
       "  </thead>\n",
       "  <tbody>\n",
       "    <tr>\n",
       "      <th>0</th>\n",
       "      <td>4.553656</td>\n",
       "      <td>-0.037927</td>\n",
       "      <td>-0.055406</td>\n",
       "      <td>-0.142137</td>\n",
       "      <td>15.850420</td>\n",
       "      <td>-0.126105</td>\n",
       "      <td>-0.018120</td>\n",
       "      <td>43.732192</td>\n",
       "      <td>127.789591</td>\n",
       "      <td>32.184816</td>\n",
       "      <td>...</td>\n",
       "      <td>0.725482</td>\n",
       "      <td>5.594429</td>\n",
       "      <td>-0.046617</td>\n",
       "      <td>0.189553</td>\n",
       "      <td>3.916348</td>\n",
       "      <td>0</td>\n",
       "      <td>0</td>\n",
       "      <td>1</td>\n",
       "      <td>0</td>\n",
       "      <td>1</td>\n",
       "    </tr>\n",
       "    <tr>\n",
       "      <th>1</th>\n",
       "      <td>150.056020</td>\n",
       "      <td>-0.013185</td>\n",
       "      <td>-0.053547</td>\n",
       "      <td>-0.178920</td>\n",
       "      <td>17.251858</td>\n",
       "      <td>-0.711131</td>\n",
       "      <td>-0.018120</td>\n",
       "      <td>146.492862</td>\n",
       "      <td>71.507445</td>\n",
       "      <td>165.641598</td>\n",
       "      <td>...</td>\n",
       "      <td>0.725482</td>\n",
       "      <td>0.096911</td>\n",
       "      <td>-0.046617</td>\n",
       "      <td>-0.035718</td>\n",
       "      <td>-0.233964</td>\n",
       "      <td>0</td>\n",
       "      <td>0</td>\n",
       "      <td>1</td>\n",
       "      <td>0</td>\n",
       "      <td>1</td>\n",
       "    </tr>\n",
       "    <tr>\n",
       "      <th>2</th>\n",
       "      <td>-0.083846</td>\n",
       "      <td>75.568495</td>\n",
       "      <td>34.015101</td>\n",
       "      <td>8.265983</td>\n",
       "      <td>0.330741</td>\n",
       "      <td>0.782195</td>\n",
       "      <td>91.815849</td>\n",
       "      <td>-0.015422</td>\n",
       "      <td>-0.003079</td>\n",
       "      <td>-0.015512</td>\n",
       "      <td>...</td>\n",
       "      <td>29.051386</td>\n",
       "      <td>13.448026</td>\n",
       "      <td>23.838681</td>\n",
       "      <td>25.276246</td>\n",
       "      <td>17.906751</td>\n",
       "      <td>0</td>\n",
       "      <td>0</td>\n",
       "      <td>1</td>\n",
       "      <td>0</td>\n",
       "      <td>1</td>\n",
       "    </tr>\n",
       "    <tr>\n",
       "      <th>3</th>\n",
       "      <td>-0.030404</td>\n",
       "      <td>-0.037927</td>\n",
       "      <td>0.321143</td>\n",
       "      <td>-0.004401</td>\n",
       "      <td>-0.676051</td>\n",
       "      <td>-0.920795</td>\n",
       "      <td>-0.018120</td>\n",
       "      <td>0.187019</td>\n",
       "      <td>7.298901</td>\n",
       "      <td>2.894156</td>\n",
       "      <td>...</td>\n",
       "      <td>10.319740</td>\n",
       "      <td>6.183449</td>\n",
       "      <td>0.018420</td>\n",
       "      <td>3.118086</td>\n",
       "      <td>16.694365</td>\n",
       "      <td>0</td>\n",
       "      <td>0</td>\n",
       "      <td>1</td>\n",
       "      <td>0</td>\n",
       "      <td>1</td>\n",
       "    </tr>\n",
       "    <tr>\n",
       "      <th>4</th>\n",
       "      <td>0.866219</td>\n",
       "      <td>-0.037927</td>\n",
       "      <td>0.117210</td>\n",
       "      <td>0.453844</td>\n",
       "      <td>9.373725</td>\n",
       "      <td>0.476526</td>\n",
       "      <td>-0.018120</td>\n",
       "      <td>4.984884</td>\n",
       "      <td>3.312031</td>\n",
       "      <td>1.536311</td>\n",
       "      <td>...</td>\n",
       "      <td>3.466698</td>\n",
       "      <td>3.631030</td>\n",
       "      <td>0.013882</td>\n",
       "      <td>1.049877</td>\n",
       "      <td>4.835751</td>\n",
       "      <td>0</td>\n",
       "      <td>0</td>\n",
       "      <td>1</td>\n",
       "      <td>0</td>\n",
       "      <td>1</td>\n",
       "    </tr>\n",
       "  </tbody>\n",
       "</table>\n",
       "<p>5 rows × 31 columns</p>\n",
       "</div>"
      ],
      "text/plain": [
       "     Netflows       p1_d       p2_d      p3_d   duration     max_d      min_d  \\\n",
       "0    4.553656  -0.037927  -0.055406 -0.142137  15.850420 -0.126105  -0.018120   \n",
       "1  150.056020  -0.013185  -0.053547 -0.178920  17.251858 -0.711131  -0.018120   \n",
       "2   -0.083846  75.568495  34.015101  8.265983   0.330741  0.782195  91.815849   \n",
       "3   -0.030404  -0.037927   0.321143 -0.004401  -0.676051 -0.920795  -0.018120   \n",
       "4    0.866219  -0.037927   0.117210  0.453844   9.373725  0.476526  -0.018120   \n",
       "\n",
       "     #packets     Avg_bps     Avg_pps  ...      p2_ip      p3_ip      p1_ib  \\\n",
       "0   43.732192  127.789591   32.184816  ...   0.725482   5.594429  -0.046617   \n",
       "1  146.492862   71.507445  165.641598  ...   0.725482   0.096911  -0.046617   \n",
       "2   -0.015422   -0.003079   -0.015512  ...  29.051386  13.448026  23.838681   \n",
       "3    0.187019    7.298901    2.894156  ...  10.319740   6.183449   0.018420   \n",
       "4    4.984884    3.312031    1.536311  ...   3.466698   3.631030   0.013882   \n",
       "\n",
       "       p2_ib      p3_ib  First_Protocol_ICMP  First_Protocol_ICMP6  \\\n",
       "0   0.189553   3.916348                    0                     0   \n",
       "1  -0.035718  -0.233964                    0                     0   \n",
       "2  25.276246  17.906751                    0                     0   \n",
       "3   3.118086  16.694365                    0                     0   \n",
       "4   1.049877   4.835751                    0                     0   \n",
       "\n",
       "   First_Protocol_TCP  First_Protocol_UDP  Type_mine  \n",
       "0                   1                   0          1  \n",
       "1                   1                   0          1  \n",
       "2                   1                   0          1  \n",
       "3                   1                   0          1  \n",
       "4                   1                   0          1  \n",
       "\n",
       "[5 rows x 31 columns]"
      ]
     },
     "execution_count": 62,
     "metadata": {},
     "output_type": "execute_result"
    }
   ],
   "source": [
    "data_n = pd.concat([data_estandarizada,dataDummy],axis = 1)\n",
    "data_n.head()"
   ]
  },
  {
   "cell_type": "code",
   "execution_count": 64,
   "metadata": {},
   "outputs": [],
   "source": [
    "data_n.to_csv('', index = False)"
   ]
  }
 ],
 "metadata": {
  "kernelspec": {
   "display_name": "Python 3",
   "language": "python",
   "name": "python3"
  },
  "language_info": {
   "codemirror_mode": {
    "name": "ipython",
    "version": 3
   },
   "file_extension": ".py",
   "mimetype": "text/x-python",
   "name": "python",
   "nbconvert_exporter": "python",
   "pygments_lexer": "ipython3",
   "version": "3.7.3"
  }
 },
 "nbformat": 4,
 "nbformat_minor": 2
}
