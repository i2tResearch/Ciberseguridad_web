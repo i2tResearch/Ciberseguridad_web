{
 "cells": [
  {
   "cell_type": "markdown",
   "metadata": {},
   "source": [
    "# How to transform pcaps to nfpcaps and then in csv in Ubuntu"
   ]
  },
  {
   "cell_type": "markdown",
   "metadata": {},
   "source": [
    "## How to Install nfdump in ubuntu"
   ]
  },
  {
   "cell_type": "markdown",
   "metadata": {},
   "source": [
    "<img src=\"./Resources/nfdump.png\">"
   ]
  },
  {
   "cell_type": "markdown",
   "metadata": {},
   "source": [
    "First, you have to install nfdump, that is the tool that can let you transform .pcaps into nfcaps"
   ]
  },
  {
   "cell_type": "markdown",
   "metadata": {},
   "source": [
    "    sudo apt-get update\n",
    "    sudo apt-get install nfdump"
   ]
  },
  {
   "cell_type": "markdown",
   "metadata": {},
   "source": [
    "Then, you have to go to the nfdump folder with this command :"
   ]
  },
  {
   "cell_type": "markdown",
   "metadata": {},
   "source": [
    "    cd nfdump"
   ]
  },
  {
   "cell_type": "markdown",
   "metadata": {},
   "source": [
    "---"
   ]
  },
  {
   "cell_type": "markdown",
   "metadata": {},
   "source": [
    "## Enable nfpcapd option in nfdump"
   ]
  },
  {
   "cell_type": "markdown",
   "metadata": {},
   "source": [
    "You have to put the --enable-nfpcapd in true , so introduce this command"
   ]
  },
  {
   "cell_type": "markdown",
   "metadata": {},
   "source": [
    "    ./configure --enable-nfpcapd"
   ]
  },
  {
   "cell_type": "markdown",
   "metadata": {},
   "source": [
    "then :"
   ]
  },
  {
   "cell_type": "markdown",
   "metadata": {},
   "source": [
    "    make"
   ]
  },
  {
   "cell_type": "markdown",
   "metadata": {},
   "source": [
    "    sudo make install"
   ]
  },
  {
   "cell_type": "markdown",
   "metadata": {},
   "source": [
    "Then, nfpcapd have to be enable and ready to use it"
   ]
  },
  {
   "cell_type": "markdown",
   "metadata": {},
   "source": [
    "---"
   ]
  },
  {
   "cell_type": "markdown",
   "metadata": {},
   "source": [
    "## Transform pcap to nfpcapd (binary)"
   ]
  },
  {
   "cell_type": "markdown",
   "metadata": {},
   "source": [
    "Create a directory (if you want!), to save the nfcapds records"
   ]
  },
  {
   "cell_type": "markdown",
   "metadata": {},
   "source": [
    "    mkdir repository"
   ]
  },
  {
   "cell_type": "markdown",
   "metadata": {},
   "source": [
    "then, to transform :"
   ]
  },
  {
   "cell_type": "markdown",
   "metadata": {},
   "source": [
    "    nfpcapd -l directory-name -r directory-pcap-location"
   ]
  },
  {
   "cell_type": "markdown",
   "metadata": {},
   "source": [
    "if you want to define a time of creation between nfpcaps (example 5 minutes):"
   ]
  },
  {
   "cell_type": "markdown",
   "metadata": {},
   "source": [
    "    mfpcapd -l directory-name -r directory-pcap-location -t (minutes*60)"
   ]
  },
  {
   "cell_type": "markdown",
   "metadata": {},
   "source": [
    "## Transform nfpcapd to .csv"
   ]
  },
  {
   "cell_type": "markdown",
   "metadata": {},
   "source": [
    "Use this command :"
   ]
  },
  {
   "cell_type": "markdown",
   "metadata": {},
   "source": [
    "    nfdump -r file -o csv > output.csv"
   ]
  },
  {
   "cell_type": "markdown",
   "metadata": {},
   "source": [
    "---"
   ]
  },
  {
   "cell_type": "markdown",
   "metadata": {},
   "source": [
    "## Bibliography"
   ]
  },
  {
   "cell_type": "markdown",
   "metadata": {},
   "source": [
    "https://github.com/hbhzwj/pcap-converter\n",
    "\n",
    "https://github.com/vasiqmz/netflow2csv\n",
    "\n",
    "https://stackoverflow.com/questions/33706028/how-to-convert-pcap-file-to-nfcapd-file\n",
    "\n",
    "https://askubuntu.com/questions/687659/how-to-install-nfdump\n",
    "\n",
    "https://nsrc.org/workshops/2017/sanog29-cndo/networking/cndo/en/labs/9.31_setting_up_nfsen.html\n",
    "\n",
    "https://github.com/phaag/nfdump\n",
    "\n",
    "https://github.com/phaag/nfdump/issues/75\n",
    "\n",
    "https://stackoverflow.com/questions/33706028/how-to-convert-pcap-file-to-nfcapd-file\n",
    "\n",
    "https://www.first.org/resources/papers/conference2006/haag-peter-papers.pdf\n",
    "\n",
    "https://stackoverflow.com/questions/8092380/export-pcap-data-to-csv-timestamp-bytes-uplink-downlink-extra-info\n",
    "\n",
    "https://github.com/urcuqui/WhiteHat/wiki/Netflow-analytics"
   ]
  }
 ],
 "metadata": {
  "kernelspec": {
   "display_name": "Python 3",
   "language": "python",
   "name": "python3"
  },
  "language_info": {
   "codemirror_mode": {
    "name": "ipython",
    "version": 3
   },
   "file_extension": ".py",
   "mimetype": "text/x-python",
   "name": "python",
   "nbconvert_exporter": "python",
   "pygments_lexer": "ipython3",
   "version": "3.7.4"
  }
 },
 "nbformat": 4,
 "nbformat_minor": 2
}
