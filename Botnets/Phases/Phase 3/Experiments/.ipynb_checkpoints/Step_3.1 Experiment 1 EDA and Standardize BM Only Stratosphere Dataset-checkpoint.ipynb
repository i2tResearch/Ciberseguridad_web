{
 "cells": [
  {
   "cell_type": "markdown",
   "metadata": {},
   "source": [
    "# Step 3: Experiment 1: All Maligns vs All Benigns (Stratosphere) (EDA)"
   ]
  },
  {
   "cell_type": "markdown",
   "metadata": {},
   "source": [
    "---"
   ]
  },
  {
   "cell_type": "markdown",
   "metadata": {},
   "source": [
    "## 1. Imports"
   ]
  },
  {
   "cell_type": "code",
   "execution_count": 1,
   "metadata": {},
   "outputs": [],
   "source": [
    "import warnings\n",
    "warnings.filterwarnings('ignore') "
   ]
  },
  {
   "cell_type": "code",
   "execution_count": 2,
   "metadata": {},
   "outputs": [],
   "source": [
    "import math"
   ]
  },
  {
   "cell_type": "code",
   "execution_count": 3,
   "metadata": {},
   "outputs": [],
   "source": [
    "import numpy as np #operaciones matriciales y con vectores\n",
    "import pandas as pd #tratamiento de datos\n",
    "import random\n",
    "import matplotlib.pyplot as plt #gráficos\n",
    "import seaborn as sns"
   ]
  },
  {
   "cell_type": "code",
   "execution_count": 4,
   "metadata": {},
   "outputs": [],
   "source": [
    "from sklearn.model_selection import cross_validate\n",
    "from sklearn import preprocessing\n",
    "import joblib"
   ]
  },
  {
   "cell_type": "code",
   "execution_count": 5,
   "metadata": {},
   "outputs": [],
   "source": [
    "from sklearn.ensemble import  RandomForestClassifier"
   ]
  },
  {
   "cell_type": "markdown",
   "metadata": {},
   "source": [
    "---"
   ]
  },
  {
   "cell_type": "markdown",
   "metadata": {},
   "source": [
    "## 2. Load the B/M Only Stratosphere Dataset"
   ]
  },
  {
   "cell_type": "code",
   "execution_count": 6,
   "metadata": {},
   "outputs": [],
   "source": [
    "BM_onlyStratosphere = pd.read_csv(r\"C:\\Users\\Usuario\\Documents\\Github\\PDG\\PDG-2\\Datasets\\Time Window\\Cleaned\\BMOnlyStratosphere.csv\", delimiter = \",\")"
   ]
  },
  {
   "cell_type": "code",
   "execution_count": 7,
   "metadata": {
    "scrolled": true
   },
   "outputs": [
    {
     "data": {
      "text/html": [
       "<div>\n",
       "<style scoped>\n",
       "    .dataframe tbody tr th:only-of-type {\n",
       "        vertical-align: middle;\n",
       "    }\n",
       "\n",
       "    .dataframe tbody tr th {\n",
       "        vertical-align: top;\n",
       "    }\n",
       "\n",
       "    .dataframe thead th {\n",
       "        text-align: right;\n",
       "    }\n",
       "</style>\n",
       "<table border=\"1\" class=\"dataframe\">\n",
       "  <thead>\n",
       "    <tr style=\"text-align: right;\">\n",
       "      <th></th>\n",
       "      <th>Name</th>\n",
       "      <th>Netflows</th>\n",
       "      <th>First_Protocol</th>\n",
       "      <th>Second_Protocol</th>\n",
       "      <th>Third_Protocol</th>\n",
       "      <th>p1_d</th>\n",
       "      <th>p2_d</th>\n",
       "      <th>p3_d</th>\n",
       "      <th>duration</th>\n",
       "      <th>max_d</th>\n",
       "      <th>...</th>\n",
       "      <th>first_dp</th>\n",
       "      <th>second_dp</th>\n",
       "      <th>third_dp</th>\n",
       "      <th>p1_ip</th>\n",
       "      <th>p2_ip</th>\n",
       "      <th>p3_ip</th>\n",
       "      <th>p1_ib</th>\n",
       "      <th>p2_ib</th>\n",
       "      <th>p3_ib</th>\n",
       "      <th>Type</th>\n",
       "    </tr>\n",
       "  </thead>\n",
       "  <tbody>\n",
       "    <tr>\n",
       "      <td>0</td>\n",
       "      <td>24-csves/5221.csv</td>\n",
       "      <td>278</td>\n",
       "      <td>None</td>\n",
       "      <td>TCP</td>\n",
       "      <td>IGMP</td>\n",
       "      <td>0.00000</td>\n",
       "      <td>0.000</td>\n",
       "      <td>0.00000</td>\n",
       "      <td>118.792</td>\n",
       "      <td>9.013</td>\n",
       "      <td>...</td>\n",
       "      <td>0</td>\n",
       "      <td>1281</td>\n",
       "      <td>34560</td>\n",
       "      <td>1.0</td>\n",
       "      <td>1.0</td>\n",
       "      <td>1.0</td>\n",
       "      <td>32.0</td>\n",
       "      <td>32.0</td>\n",
       "      <td>32.0</td>\n",
       "      <td>Malign</td>\n",
       "    </tr>\n",
       "    <tr>\n",
       "      <td>1</td>\n",
       "      <td>26-csves/3766.csv</td>\n",
       "      <td>184</td>\n",
       "      <td>None</td>\n",
       "      <td>ICMP6</td>\n",
       "      <td>IGMP</td>\n",
       "      <td>0.00000</td>\n",
       "      <td>0.000</td>\n",
       "      <td>0.00000</td>\n",
       "      <td>542.294</td>\n",
       "      <td>131.072</td>\n",
       "      <td>...</td>\n",
       "      <td>0</td>\n",
       "      <td>34560</td>\n",
       "      <td>1900</td>\n",
       "      <td>1.0</td>\n",
       "      <td>1.0</td>\n",
       "      <td>1.0</td>\n",
       "      <td>32.0</td>\n",
       "      <td>32.0</td>\n",
       "      <td>32.0</td>\n",
       "      <td>Malign</td>\n",
       "    </tr>\n",
       "    <tr>\n",
       "      <td>2</td>\n",
       "      <td>78-csves/235.csv</td>\n",
       "      <td>14</td>\n",
       "      <td>TCP</td>\n",
       "      <td>None</td>\n",
       "      <td>None</td>\n",
       "      <td>0.09675</td>\n",
       "      <td>0.316</td>\n",
       "      <td>0.56575</td>\n",
       "      <td>257.749</td>\n",
       "      <td>127.249</td>\n",
       "      <td>...</td>\n",
       "      <td>443</td>\n",
       "      <td>53073</td>\n",
       "      <td>53074</td>\n",
       "      <td>7.5</td>\n",
       "      <td>9.0</td>\n",
       "      <td>9.0</td>\n",
       "      <td>730.0</td>\n",
       "      <td>772.0</td>\n",
       "      <td>2954.0</td>\n",
       "      <td>Malign</td>\n",
       "    </tr>\n",
       "    <tr>\n",
       "      <td>3</td>\n",
       "      <td>29-csves/9248.csv</td>\n",
       "      <td>186</td>\n",
       "      <td>None</td>\n",
       "      <td>IGMP</td>\n",
       "      <td>ICMP6</td>\n",
       "      <td>0.00000</td>\n",
       "      <td>0.000</td>\n",
       "      <td>0.00000</td>\n",
       "      <td>0.000</td>\n",
       "      <td>0.000</td>\n",
       "      <td>...</td>\n",
       "      <td>0</td>\n",
       "      <td>34560</td>\n",
       "      <td>34304</td>\n",
       "      <td>1.0</td>\n",
       "      <td>1.0</td>\n",
       "      <td>1.0</td>\n",
       "      <td>32.0</td>\n",
       "      <td>32.0</td>\n",
       "      <td>32.0</td>\n",
       "      <td>Malign</td>\n",
       "    </tr>\n",
       "    <tr>\n",
       "      <td>4</td>\n",
       "      <td>32-csves/12833.csv</td>\n",
       "      <td>168</td>\n",
       "      <td>None</td>\n",
       "      <td>IGMP</td>\n",
       "      <td>None</td>\n",
       "      <td>0.00000</td>\n",
       "      <td>0.000</td>\n",
       "      <td>0.00000</td>\n",
       "      <td>0.000</td>\n",
       "      <td>0.000</td>\n",
       "      <td>...</td>\n",
       "      <td>0</td>\n",
       "      <td>-1</td>\n",
       "      <td>-1</td>\n",
       "      <td>1.0</td>\n",
       "      <td>1.0</td>\n",
       "      <td>1.0</td>\n",
       "      <td>32.0</td>\n",
       "      <td>32.0</td>\n",
       "      <td>32.0</td>\n",
       "      <td>Malign</td>\n",
       "    </tr>\n",
       "    <tr>\n",
       "      <td>...</td>\n",
       "      <td>...</td>\n",
       "      <td>...</td>\n",
       "      <td>...</td>\n",
       "      <td>...</td>\n",
       "      <td>...</td>\n",
       "      <td>...</td>\n",
       "      <td>...</td>\n",
       "      <td>...</td>\n",
       "      <td>...</td>\n",
       "      <td>...</td>\n",
       "      <td>...</td>\n",
       "      <td>...</td>\n",
       "      <td>...</td>\n",
       "      <td>...</td>\n",
       "      <td>...</td>\n",
       "      <td>...</td>\n",
       "      <td>...</td>\n",
       "      <td>...</td>\n",
       "      <td>...</td>\n",
       "      <td>...</td>\n",
       "      <td>...</td>\n",
       "    </tr>\n",
       "    <tr>\n",
       "      <td>194142</td>\n",
       "      <td>23-csves/5054.csv</td>\n",
       "      <td>802</td>\n",
       "      <td>None</td>\n",
       "      <td>ICMP6</td>\n",
       "      <td>UDP</td>\n",
       "      <td>0.00000</td>\n",
       "      <td>0.000</td>\n",
       "      <td>0.00000</td>\n",
       "      <td>215.632</td>\n",
       "      <td>58.542</td>\n",
       "      <td>...</td>\n",
       "      <td>0</td>\n",
       "      <td>34560</td>\n",
       "      <td>34816</td>\n",
       "      <td>1.0</td>\n",
       "      <td>1.0</td>\n",
       "      <td>1.0</td>\n",
       "      <td>32.0</td>\n",
       "      <td>32.0</td>\n",
       "      <td>32.0</td>\n",
       "      <td>Malign</td>\n",
       "    </tr>\n",
       "    <tr>\n",
       "      <td>194143</td>\n",
       "      <td>3-csves/8656.csv</td>\n",
       "      <td>336</td>\n",
       "      <td>None</td>\n",
       "      <td>ICMP6</td>\n",
       "      <td>ICMP</td>\n",
       "      <td>0.00000</td>\n",
       "      <td>0.000</td>\n",
       "      <td>0.00000</td>\n",
       "      <td>1039.028</td>\n",
       "      <td>253.004</td>\n",
       "      <td>...</td>\n",
       "      <td>0</td>\n",
       "      <td>34560</td>\n",
       "      <td>1281</td>\n",
       "      <td>1.0</td>\n",
       "      <td>1.0</td>\n",
       "      <td>1.0</td>\n",
       "      <td>32.0</td>\n",
       "      <td>32.0</td>\n",
       "      <td>32.0</td>\n",
       "      <td>Malign</td>\n",
       "    </tr>\n",
       "    <tr>\n",
       "      <td>194144</td>\n",
       "      <td>5-csves/4041.csv</td>\n",
       "      <td>220</td>\n",
       "      <td>None</td>\n",
       "      <td>ICMP6</td>\n",
       "      <td>IGMP</td>\n",
       "      <td>0.00000</td>\n",
       "      <td>0.000</td>\n",
       "      <td>0.00000</td>\n",
       "      <td>0.000</td>\n",
       "      <td>0.000</td>\n",
       "      <td>...</td>\n",
       "      <td>0</td>\n",
       "      <td>34560</td>\n",
       "      <td>34304</td>\n",
       "      <td>1.0</td>\n",
       "      <td>1.0</td>\n",
       "      <td>1.0</td>\n",
       "      <td>32.0</td>\n",
       "      <td>32.0</td>\n",
       "      <td>32.0</td>\n",
       "      <td>Malign</td>\n",
       "    </tr>\n",
       "    <tr>\n",
       "      <td>194145</td>\n",
       "      <td>65-csves/1260.csv</td>\n",
       "      <td>46</td>\n",
       "      <td>TCP</td>\n",
       "      <td>ICMP</td>\n",
       "      <td>None</td>\n",
       "      <td>0.04300</td>\n",
       "      <td>0.378</td>\n",
       "      <td>0.42675</td>\n",
       "      <td>45.557</td>\n",
       "      <td>27.832</td>\n",
       "      <td>...</td>\n",
       "      <td>443</td>\n",
       "      <td>1281</td>\n",
       "      <td>51487</td>\n",
       "      <td>3.0</td>\n",
       "      <td>8.5</td>\n",
       "      <td>9.0</td>\n",
       "      <td>60.0</td>\n",
       "      <td>786.5</td>\n",
       "      <td>2898.0</td>\n",
       "      <td>Malign</td>\n",
       "    </tr>\n",
       "    <tr>\n",
       "      <td>194146</td>\n",
       "      <td>9-csves/8417.csv</td>\n",
       "      <td>966</td>\n",
       "      <td>None</td>\n",
       "      <td>ICMP6</td>\n",
       "      <td>UDP</td>\n",
       "      <td>0.00000</td>\n",
       "      <td>0.000</td>\n",
       "      <td>0.00000</td>\n",
       "      <td>269.170</td>\n",
       "      <td>59.540</td>\n",
       "      <td>...</td>\n",
       "      <td>0</td>\n",
       "      <td>34560</td>\n",
       "      <td>34816</td>\n",
       "      <td>1.0</td>\n",
       "      <td>1.0</td>\n",
       "      <td>1.0</td>\n",
       "      <td>32.0</td>\n",
       "      <td>32.0</td>\n",
       "      <td>32.0</td>\n",
       "      <td>Malign</td>\n",
       "    </tr>\n",
       "  </tbody>\n",
       "</table>\n",
       "<p>194147 rows × 31 columns</p>\n",
       "</div>"
      ],
      "text/plain": [
       "                      Name  Netflows First_Protocol Second_Protocol  \\\n",
       "0        24-csves/5221.csv       278           None             TCP   \n",
       "1        26-csves/3766.csv       184           None           ICMP6   \n",
       "2         78-csves/235.csv        14            TCP            None   \n",
       "3        29-csves/9248.csv       186           None            IGMP   \n",
       "4       32-csves/12833.csv       168           None            IGMP   \n",
       "...                    ...       ...            ...             ...   \n",
       "194142   23-csves/5054.csv       802           None           ICMP6   \n",
       "194143    3-csves/8656.csv       336           None           ICMP6   \n",
       "194144    5-csves/4041.csv       220           None           ICMP6   \n",
       "194145   65-csves/1260.csv        46            TCP            ICMP   \n",
       "194146    9-csves/8417.csv       966           None           ICMP6   \n",
       "\n",
       "       Third_Protocol     p1_d   p2_d     p3_d  duration    max_d  ...  \\\n",
       "0                IGMP  0.00000  0.000  0.00000   118.792    9.013  ...   \n",
       "1                IGMP  0.00000  0.000  0.00000   542.294  131.072  ...   \n",
       "2                None  0.09675  0.316  0.56575   257.749  127.249  ...   \n",
       "3               ICMP6  0.00000  0.000  0.00000     0.000    0.000  ...   \n",
       "4                None  0.00000  0.000  0.00000     0.000    0.000  ...   \n",
       "...               ...      ...    ...      ...       ...      ...  ...   \n",
       "194142            UDP  0.00000  0.000  0.00000   215.632   58.542  ...   \n",
       "194143           ICMP  0.00000  0.000  0.00000  1039.028  253.004  ...   \n",
       "194144           IGMP  0.00000  0.000  0.00000     0.000    0.000  ...   \n",
       "194145           None  0.04300  0.378  0.42675    45.557   27.832  ...   \n",
       "194146            UDP  0.00000  0.000  0.00000   269.170   59.540  ...   \n",
       "\n",
       "        first_dp  second_dp  third_dp  p1_ip  p2_ip  p3_ip  p1_ib  p2_ib  \\\n",
       "0              0       1281     34560    1.0    1.0    1.0   32.0   32.0   \n",
       "1              0      34560      1900    1.0    1.0    1.0   32.0   32.0   \n",
       "2            443      53073     53074    7.5    9.0    9.0  730.0  772.0   \n",
       "3              0      34560     34304    1.0    1.0    1.0   32.0   32.0   \n",
       "4              0         -1        -1    1.0    1.0    1.0   32.0   32.0   \n",
       "...          ...        ...       ...    ...    ...    ...    ...    ...   \n",
       "194142         0      34560     34816    1.0    1.0    1.0   32.0   32.0   \n",
       "194143         0      34560      1281    1.0    1.0    1.0   32.0   32.0   \n",
       "194144         0      34560     34304    1.0    1.0    1.0   32.0   32.0   \n",
       "194145       443       1281     51487    3.0    8.5    9.0   60.0  786.5   \n",
       "194146         0      34560     34816    1.0    1.0    1.0   32.0   32.0   \n",
       "\n",
       "         p3_ib    Type  \n",
       "0         32.0  Malign  \n",
       "1         32.0  Malign  \n",
       "2       2954.0  Malign  \n",
       "3         32.0  Malign  \n",
       "4         32.0  Malign  \n",
       "...        ...     ...  \n",
       "194142    32.0  Malign  \n",
       "194143    32.0  Malign  \n",
       "194144    32.0  Malign  \n",
       "194145  2898.0  Malign  \n",
       "194146    32.0  Malign  \n",
       "\n",
       "[194147 rows x 31 columns]"
      ]
     },
     "execution_count": 7,
     "metadata": {},
     "output_type": "execute_result"
    }
   ],
   "source": [
    "BM_onlyStratosphere"
   ]
  },
  {
   "cell_type": "markdown",
   "metadata": {},
   "source": [
    "---"
   ]
  },
  {
   "cell_type": "markdown",
   "metadata": {},
   "source": [
    "## 3. Let's see the dataset..."
   ]
  },
  {
   "cell_type": "code",
   "execution_count": 8,
   "metadata": {},
   "outputs": [
    {
     "name": "stdout",
     "output_type": "stream",
     "text": [
      "<class 'pandas.core.frame.DataFrame'>\n",
      "RangeIndex: 194147 entries, 0 to 194146\n",
      "Data columns (total 31 columns):\n",
      "Name               194147 non-null object\n",
      "Netflows           194147 non-null int64\n",
      "First_Protocol     194147 non-null object\n",
      "Second_Protocol    194147 non-null object\n",
      "Third_Protocol     194147 non-null object\n",
      "p1_d               194147 non-null float64\n",
      "p2_d               194147 non-null float64\n",
      "p3_d               194147 non-null float64\n",
      "duration           194147 non-null float64\n",
      "max_d              194147 non-null float64\n",
      "min_d              194147 non-null float64\n",
      "packets            194147 non-null int64\n",
      "Avg_bps            194147 non-null int64\n",
      "Avg_pps            194147 non-null int64\n",
      "Avg_bpp            194147 non-null int64\n",
      "Bytes              194147 non-null int64\n",
      "number_sp          194147 non-null int64\n",
      "number_dp          194147 non-null int64\n",
      "first_sp           194147 non-null int64\n",
      "second_sp          194147 non-null int64\n",
      "third_sp           194147 non-null int64\n",
      "first_dp           194147 non-null int64\n",
      "second_dp          194147 non-null int64\n",
      "third_dp           194147 non-null int64\n",
      "p1_ip              194147 non-null float64\n",
      "p2_ip              194147 non-null float64\n",
      "p3_ip              194147 non-null float64\n",
      "p1_ib              194147 non-null float64\n",
      "p2_ib              194147 non-null float64\n",
      "p3_ib              194147 non-null float64\n",
      "Type               194147 non-null object\n",
      "dtypes: float64(12), int64(14), object(5)\n",
      "memory usage: 45.9+ MB\n"
     ]
    }
   ],
   "source": [
    "BM_onlyStratosphere.info()"
   ]
  },
  {
   "cell_type": "code",
   "execution_count": 9,
   "metadata": {},
   "outputs": [
    {
     "data": {
      "text/html": [
       "<div>\n",
       "<style scoped>\n",
       "    .dataframe tbody tr th:only-of-type {\n",
       "        vertical-align: middle;\n",
       "    }\n",
       "\n",
       "    .dataframe tbody tr th {\n",
       "        vertical-align: top;\n",
       "    }\n",
       "\n",
       "    .dataframe thead th {\n",
       "        text-align: right;\n",
       "    }\n",
       "</style>\n",
       "<table border=\"1\" class=\"dataframe\">\n",
       "  <thead>\n",
       "    <tr style=\"text-align: right;\">\n",
       "      <th></th>\n",
       "      <th>count</th>\n",
       "      <th>unique</th>\n",
       "      <th>top</th>\n",
       "      <th>freq</th>\n",
       "      <th>mean</th>\n",
       "      <th>std</th>\n",
       "      <th>min</th>\n",
       "      <th>25%</th>\n",
       "      <th>50%</th>\n",
       "      <th>75%</th>\n",
       "      <th>max</th>\n",
       "    </tr>\n",
       "  </thead>\n",
       "  <tbody>\n",
       "    <tr>\n",
       "      <td>Name</td>\n",
       "      <td>194147</td>\n",
       "      <td>193795</td>\n",
       "      <td>9-csves/29.csv</td>\n",
       "      <td>2</td>\n",
       "      <td>NaN</td>\n",
       "      <td>NaN</td>\n",
       "      <td>NaN</td>\n",
       "      <td>NaN</td>\n",
       "      <td>NaN</td>\n",
       "      <td>NaN</td>\n",
       "      <td>NaN</td>\n",
       "    </tr>\n",
       "    <tr>\n",
       "      <td>Netflows</td>\n",
       "      <td>194147</td>\n",
       "      <td>NaN</td>\n",
       "      <td>NaN</td>\n",
       "      <td>NaN</td>\n",
       "      <td>231.319</td>\n",
       "      <td>370.972</td>\n",
       "      <td>1</td>\n",
       "      <td>121</td>\n",
       "      <td>220</td>\n",
       "      <td>284</td>\n",
       "      <td>43128</td>\n",
       "    </tr>\n",
       "    <tr>\n",
       "      <td>First_Protocol</td>\n",
       "      <td>194147</td>\n",
       "      <td>6</td>\n",
       "      <td>None</td>\n",
       "      <td>146454</td>\n",
       "      <td>NaN</td>\n",
       "      <td>NaN</td>\n",
       "      <td>NaN</td>\n",
       "      <td>NaN</td>\n",
       "      <td>NaN</td>\n",
       "      <td>NaN</td>\n",
       "      <td>NaN</td>\n",
       "    </tr>\n",
       "    <tr>\n",
       "      <td>Second_Protocol</td>\n",
       "      <td>194147</td>\n",
       "      <td>6</td>\n",
       "      <td>ICMP6</td>\n",
       "      <td>63580</td>\n",
       "      <td>NaN</td>\n",
       "      <td>NaN</td>\n",
       "      <td>NaN</td>\n",
       "      <td>NaN</td>\n",
       "      <td>NaN</td>\n",
       "      <td>NaN</td>\n",
       "      <td>NaN</td>\n",
       "    </tr>\n",
       "    <tr>\n",
       "      <td>Third_Protocol</td>\n",
       "      <td>194147</td>\n",
       "      <td>6</td>\n",
       "      <td>ICMP6</td>\n",
       "      <td>51589</td>\n",
       "      <td>NaN</td>\n",
       "      <td>NaN</td>\n",
       "      <td>NaN</td>\n",
       "      <td>NaN</td>\n",
       "      <td>NaN</td>\n",
       "      <td>NaN</td>\n",
       "      <td>NaN</td>\n",
       "    </tr>\n",
       "    <tr>\n",
       "      <td>p1_d</td>\n",
       "      <td>194147</td>\n",
       "      <td>NaN</td>\n",
       "      <td>NaN</td>\n",
       "      <td>NaN</td>\n",
       "      <td>0.415676</td>\n",
       "      <td>4.25479</td>\n",
       "      <td>0</td>\n",
       "      <td>0</td>\n",
       "      <td>0</td>\n",
       "      <td>0</td>\n",
       "      <td>234.367</td>\n",
       "    </tr>\n",
       "    <tr>\n",
       "      <td>p2_d</td>\n",
       "      <td>194147</td>\n",
       "      <td>NaN</td>\n",
       "      <td>NaN</td>\n",
       "      <td>NaN</td>\n",
       "      <td>1.65565</td>\n",
       "      <td>13.7437</td>\n",
       "      <td>0</td>\n",
       "      <td>0</td>\n",
       "      <td>0</td>\n",
       "      <td>0</td>\n",
       "      <td>284.322</td>\n",
       "    </tr>\n",
       "    <tr>\n",
       "      <td>p3_d</td>\n",
       "      <td>194147</td>\n",
       "      <td>NaN</td>\n",
       "      <td>NaN</td>\n",
       "      <td>NaN</td>\n",
       "      <td>6.32657</td>\n",
       "      <td>24.1957</td>\n",
       "      <td>0</td>\n",
       "      <td>0</td>\n",
       "      <td>0</td>\n",
       "      <td>0</td>\n",
       "      <td>293.159</td>\n",
       "    </tr>\n",
       "    <tr>\n",
       "      <td>duration</td>\n",
       "      <td>194147</td>\n",
       "      <td>NaN</td>\n",
       "      <td>NaN</td>\n",
       "      <td>NaN</td>\n",
       "      <td>435.904</td>\n",
       "      <td>4435.41</td>\n",
       "      <td>0</td>\n",
       "      <td>3.828</td>\n",
       "      <td>65.952</td>\n",
       "      <td>509.082</td>\n",
       "      <td>302504</td>\n",
       "    </tr>\n",
       "    <tr>\n",
       "      <td>max_d</td>\n",
       "      <td>194147</td>\n",
       "      <td>NaN</td>\n",
       "      <td>NaN</td>\n",
       "      <td>NaN</td>\n",
       "      <td>72.4697</td>\n",
       "      <td>88.5303</td>\n",
       "      <td>0</td>\n",
       "      <td>0.7705</td>\n",
       "      <td>13.507</td>\n",
       "      <td>131.071</td>\n",
       "      <td>584.251</td>\n",
       "    </tr>\n",
       "    <tr>\n",
       "      <td>min_d</td>\n",
       "      <td>194147</td>\n",
       "      <td>NaN</td>\n",
       "      <td>NaN</td>\n",
       "      <td>NaN</td>\n",
       "      <td>0.0166019</td>\n",
       "      <td>1.36332</td>\n",
       "      <td>0</td>\n",
       "      <td>0</td>\n",
       "      <td>0</td>\n",
       "      <td>0</td>\n",
       "      <td>234.31</td>\n",
       "    </tr>\n",
       "    <tr>\n",
       "      <td>packets</td>\n",
       "      <td>194147</td>\n",
       "      <td>NaN</td>\n",
       "      <td>NaN</td>\n",
       "      <td>NaN</td>\n",
       "      <td>424.766</td>\n",
       "      <td>4253.46</td>\n",
       "      <td>1</td>\n",
       "      <td>144</td>\n",
       "      <td>258</td>\n",
       "      <td>346</td>\n",
       "      <td>469938</td>\n",
       "    </tr>\n",
       "    <tr>\n",
       "      <td>Avg_bps</td>\n",
       "      <td>194147</td>\n",
       "      <td>NaN</td>\n",
       "      <td>NaN</td>\n",
       "      <td>NaN</td>\n",
       "      <td>4647.18</td>\n",
       "      <td>108287</td>\n",
       "      <td>0</td>\n",
       "      <td>251</td>\n",
       "      <td>380</td>\n",
       "      <td>730</td>\n",
       "      <td>1.77912e+07</td>\n",
       "    </tr>\n",
       "    <tr>\n",
       "      <td>Avg_pps</td>\n",
       "      <td>194147</td>\n",
       "      <td>NaN</td>\n",
       "      <td>NaN</td>\n",
       "      <td>NaN</td>\n",
       "      <td>1.59395</td>\n",
       "      <td>21.809</td>\n",
       "      <td>0</td>\n",
       "      <td>0</td>\n",
       "      <td>0</td>\n",
       "      <td>1</td>\n",
       "      <td>4000</td>\n",
       "    </tr>\n",
       "    <tr>\n",
       "      <td>Avg_bpp</td>\n",
       "      <td>194147</td>\n",
       "      <td>NaN</td>\n",
       "      <td>NaN</td>\n",
       "      <td>NaN</td>\n",
       "      <td>82.6583</td>\n",
       "      <td>79.8542</td>\n",
       "      <td>0</td>\n",
       "      <td>34</td>\n",
       "      <td>54</td>\n",
       "      <td>114</td>\n",
       "      <td>1243</td>\n",
       "    </tr>\n",
       "    <tr>\n",
       "      <td>Bytes</td>\n",
       "      <td>194147</td>\n",
       "      <td>NaN</td>\n",
       "      <td>NaN</td>\n",
       "      <td>NaN</td>\n",
       "      <td>105272</td>\n",
       "      <td>2.99681e+06</td>\n",
       "      <td>8</td>\n",
       "      <td>7664</td>\n",
       "      <td>12380</td>\n",
       "      <td>24511</td>\n",
       "      <td>4.30544e+08</td>\n",
       "    </tr>\n",
       "    <tr>\n",
       "      <td>number_sp</td>\n",
       "      <td>194147</td>\n",
       "      <td>NaN</td>\n",
       "      <td>NaN</td>\n",
       "      <td>NaN</td>\n",
       "      <td>19.0184</td>\n",
       "      <td>109.984</td>\n",
       "      <td>1</td>\n",
       "      <td>2</td>\n",
       "      <td>6</td>\n",
       "      <td>11</td>\n",
       "      <td>7100</td>\n",
       "    </tr>\n",
       "    <tr>\n",
       "      <td>number_dp</td>\n",
       "      <td>194147</td>\n",
       "      <td>NaN</td>\n",
       "      <td>NaN</td>\n",
       "      <td>NaN</td>\n",
       "      <td>16.8499</td>\n",
       "      <td>96.7217</td>\n",
       "      <td>1</td>\n",
       "      <td>4</td>\n",
       "      <td>6</td>\n",
       "      <td>10</td>\n",
       "      <td>6716</td>\n",
       "    </tr>\n",
       "    <tr>\n",
       "      <td>first_sp</td>\n",
       "      <td>194147</td>\n",
       "      <td>NaN</td>\n",
       "      <td>NaN</td>\n",
       "      <td>NaN</td>\n",
       "      <td>883.604</td>\n",
       "      <td>3538.18</td>\n",
       "      <td>0</td>\n",
       "      <td>0</td>\n",
       "      <td>0</td>\n",
       "      <td>0</td>\n",
       "      <td>65251</td>\n",
       "    </tr>\n",
       "    <tr>\n",
       "      <td>second_sp</td>\n",
       "      <td>194147</td>\n",
       "      <td>NaN</td>\n",
       "      <td>NaN</td>\n",
       "      <td>NaN</td>\n",
       "      <td>16619.7</td>\n",
       "      <td>23589.1</td>\n",
       "      <td>-1</td>\n",
       "      <td>0</td>\n",
       "      <td>443</td>\n",
       "      <td>49159</td>\n",
       "      <td>65534</td>\n",
       "    </tr>\n",
       "    <tr>\n",
       "      <td>third_sp</td>\n",
       "      <td>194147</td>\n",
       "      <td>NaN</td>\n",
       "      <td>NaN</td>\n",
       "      <td>NaN</td>\n",
       "      <td>26188.7</td>\n",
       "      <td>26866.8</td>\n",
       "      <td>-1</td>\n",
       "      <td>-1</td>\n",
       "      <td>10117</td>\n",
       "      <td>54452.5</td>\n",
       "      <td>65534</td>\n",
       "    </tr>\n",
       "    <tr>\n",
       "      <td>first_dp</td>\n",
       "      <td>194147</td>\n",
       "      <td>NaN</td>\n",
       "      <td>NaN</td>\n",
       "      <td>NaN</td>\n",
       "      <td>1360.66</td>\n",
       "      <td>5391.67</td>\n",
       "      <td>0</td>\n",
       "      <td>0</td>\n",
       "      <td>0</td>\n",
       "      <td>0</td>\n",
       "      <td>61532</td>\n",
       "    </tr>\n",
       "    <tr>\n",
       "      <td>second_dp</td>\n",
       "      <td>194147</td>\n",
       "      <td>NaN</td>\n",
       "      <td>NaN</td>\n",
       "      <td>NaN</td>\n",
       "      <td>26970.9</td>\n",
       "      <td>17315.5</td>\n",
       "      <td>-1</td>\n",
       "      <td>5355</td>\n",
       "      <td>34560</td>\n",
       "      <td>34560</td>\n",
       "      <td>65533</td>\n",
       "    </tr>\n",
       "    <tr>\n",
       "      <td>third_dp</td>\n",
       "      <td>194147</td>\n",
       "      <td>NaN</td>\n",
       "      <td>NaN</td>\n",
       "      <td>NaN</td>\n",
       "      <td>20846.1</td>\n",
       "      <td>22181.2</td>\n",
       "      <td>-1</td>\n",
       "      <td>1281</td>\n",
       "      <td>5353</td>\n",
       "      <td>34816</td>\n",
       "      <td>65534</td>\n",
       "    </tr>\n",
       "    <tr>\n",
       "      <td>p1_ip</td>\n",
       "      <td>194147</td>\n",
       "      <td>NaN</td>\n",
       "      <td>NaN</td>\n",
       "      <td>NaN</td>\n",
       "      <td>1.5697</td>\n",
       "      <td>3.3546</td>\n",
       "      <td>1</td>\n",
       "      <td>1</td>\n",
       "      <td>1</td>\n",
       "      <td>1</td>\n",
       "      <td>128</td>\n",
       "    </tr>\n",
       "    <tr>\n",
       "      <td>p2_ip</td>\n",
       "      <td>194147</td>\n",
       "      <td>NaN</td>\n",
       "      <td>NaN</td>\n",
       "      <td>NaN</td>\n",
       "      <td>2.21913</td>\n",
       "      <td>6.58642</td>\n",
       "      <td>1</td>\n",
       "      <td>1</td>\n",
       "      <td>1</td>\n",
       "      <td>1</td>\n",
       "      <td>255</td>\n",
       "    </tr>\n",
       "    <tr>\n",
       "      <td>p3_ip</td>\n",
       "      <td>194147</td>\n",
       "      <td>NaN</td>\n",
       "      <td>NaN</td>\n",
       "      <td>NaN</td>\n",
       "      <td>2.85999</td>\n",
       "      <td>14.9025</td>\n",
       "      <td>1</td>\n",
       "      <td>1</td>\n",
       "      <td>1</td>\n",
       "      <td>1</td>\n",
       "      <td>471.5</td>\n",
       "    </tr>\n",
       "    <tr>\n",
       "      <td>p1_ib</td>\n",
       "      <td>194147</td>\n",
       "      <td>NaN</td>\n",
       "      <td>NaN</td>\n",
       "      <td>NaN</td>\n",
       "      <td>106.55</td>\n",
       "      <td>543.576</td>\n",
       "      <td>8</td>\n",
       "      <td>32</td>\n",
       "      <td>32</td>\n",
       "      <td>32</td>\n",
       "      <td>13835</td>\n",
       "    </tr>\n",
       "    <tr>\n",
       "      <td>p2_ib</td>\n",
       "      <td>194147</td>\n",
       "      <td>NaN</td>\n",
       "      <td>NaN</td>\n",
       "      <td>NaN</td>\n",
       "      <td>206.693</td>\n",
       "      <td>1075.99</td>\n",
       "      <td>8</td>\n",
       "      <td>32</td>\n",
       "      <td>32</td>\n",
       "      <td>32</td>\n",
       "      <td>27416</td>\n",
       "    </tr>\n",
       "    <tr>\n",
       "      <td>p3_ib</td>\n",
       "      <td>194147</td>\n",
       "      <td>NaN</td>\n",
       "      <td>NaN</td>\n",
       "      <td>NaN</td>\n",
       "      <td>965.689</td>\n",
       "      <td>14247.2</td>\n",
       "      <td>8</td>\n",
       "      <td>32</td>\n",
       "      <td>32</td>\n",
       "      <td>70</td>\n",
       "      <td>356160</td>\n",
       "    </tr>\n",
       "    <tr>\n",
       "      <td>Type</td>\n",
       "      <td>194147</td>\n",
       "      <td>2</td>\n",
       "      <td>Malign</td>\n",
       "      <td>193631</td>\n",
       "      <td>NaN</td>\n",
       "      <td>NaN</td>\n",
       "      <td>NaN</td>\n",
       "      <td>NaN</td>\n",
       "      <td>NaN</td>\n",
       "      <td>NaN</td>\n",
       "      <td>NaN</td>\n",
       "    </tr>\n",
       "  </tbody>\n",
       "</table>\n",
       "</div>"
      ],
      "text/plain": [
       "                  count  unique             top    freq       mean  \\\n",
       "Name             194147  193795  9-csves/29.csv       2        NaN   \n",
       "Netflows         194147     NaN             NaN     NaN    231.319   \n",
       "First_Protocol   194147       6            None  146454        NaN   \n",
       "Second_Protocol  194147       6           ICMP6   63580        NaN   \n",
       "Third_Protocol   194147       6           ICMP6   51589        NaN   \n",
       "p1_d             194147     NaN             NaN     NaN   0.415676   \n",
       "p2_d             194147     NaN             NaN     NaN    1.65565   \n",
       "p3_d             194147     NaN             NaN     NaN    6.32657   \n",
       "duration         194147     NaN             NaN     NaN    435.904   \n",
       "max_d            194147     NaN             NaN     NaN    72.4697   \n",
       "min_d            194147     NaN             NaN     NaN  0.0166019   \n",
       "packets          194147     NaN             NaN     NaN    424.766   \n",
       "Avg_bps          194147     NaN             NaN     NaN    4647.18   \n",
       "Avg_pps          194147     NaN             NaN     NaN    1.59395   \n",
       "Avg_bpp          194147     NaN             NaN     NaN    82.6583   \n",
       "Bytes            194147     NaN             NaN     NaN     105272   \n",
       "number_sp        194147     NaN             NaN     NaN    19.0184   \n",
       "number_dp        194147     NaN             NaN     NaN    16.8499   \n",
       "first_sp         194147     NaN             NaN     NaN    883.604   \n",
       "second_sp        194147     NaN             NaN     NaN    16619.7   \n",
       "third_sp         194147     NaN             NaN     NaN    26188.7   \n",
       "first_dp         194147     NaN             NaN     NaN    1360.66   \n",
       "second_dp        194147     NaN             NaN     NaN    26970.9   \n",
       "third_dp         194147     NaN             NaN     NaN    20846.1   \n",
       "p1_ip            194147     NaN             NaN     NaN     1.5697   \n",
       "p2_ip            194147     NaN             NaN     NaN    2.21913   \n",
       "p3_ip            194147     NaN             NaN     NaN    2.85999   \n",
       "p1_ib            194147     NaN             NaN     NaN     106.55   \n",
       "p2_ib            194147     NaN             NaN     NaN    206.693   \n",
       "p3_ib            194147     NaN             NaN     NaN    965.689   \n",
       "Type             194147       2          Malign  193631        NaN   \n",
       "\n",
       "                         std  min     25%     50%      75%          max  \n",
       "Name                     NaN  NaN     NaN     NaN      NaN          NaN  \n",
       "Netflows             370.972    1     121     220      284        43128  \n",
       "First_Protocol           NaN  NaN     NaN     NaN      NaN          NaN  \n",
       "Second_Protocol          NaN  NaN     NaN     NaN      NaN          NaN  \n",
       "Third_Protocol           NaN  NaN     NaN     NaN      NaN          NaN  \n",
       "p1_d                 4.25479    0       0       0        0      234.367  \n",
       "p2_d                 13.7437    0       0       0        0      284.322  \n",
       "p3_d                 24.1957    0       0       0        0      293.159  \n",
       "duration             4435.41    0   3.828  65.952  509.082       302504  \n",
       "max_d                88.5303    0  0.7705  13.507  131.071      584.251  \n",
       "min_d                1.36332    0       0       0        0       234.31  \n",
       "packets              4253.46    1     144     258      346       469938  \n",
       "Avg_bps               108287    0     251     380      730  1.77912e+07  \n",
       "Avg_pps               21.809    0       0       0        1         4000  \n",
       "Avg_bpp              79.8542    0      34      54      114         1243  \n",
       "Bytes            2.99681e+06    8    7664   12380    24511  4.30544e+08  \n",
       "number_sp            109.984    1       2       6       11         7100  \n",
       "number_dp            96.7217    1       4       6       10         6716  \n",
       "first_sp             3538.18    0       0       0        0        65251  \n",
       "second_sp            23589.1   -1       0     443    49159        65534  \n",
       "third_sp             26866.8   -1      -1   10117  54452.5        65534  \n",
       "first_dp             5391.67    0       0       0        0        61532  \n",
       "second_dp            17315.5   -1    5355   34560    34560        65533  \n",
       "third_dp             22181.2   -1    1281    5353    34816        65534  \n",
       "p1_ip                 3.3546    1       1       1        1          128  \n",
       "p2_ip                6.58642    1       1       1        1          255  \n",
       "p3_ip                14.9025    1       1       1        1        471.5  \n",
       "p1_ib                543.576    8      32      32       32        13835  \n",
       "p2_ib                1075.99    8      32      32       32        27416  \n",
       "p3_ib                14247.2    8      32      32       70       356160  \n",
       "Type                     NaN  NaN     NaN     NaN      NaN          NaN  "
      ]
     },
     "execution_count": 9,
     "metadata": {},
     "output_type": "execute_result"
    }
   ],
   "source": [
    "BM_onlyStratosphere.describe(include=\"all\").T"
   ]
  },
  {
   "cell_type": "code",
   "execution_count": 10,
   "metadata": {},
   "outputs": [
    {
     "name": "stdout",
     "output_type": "stream",
     "text": [
      "Number of null values in each column:\n",
      "Name               0\n",
      "Netflows           0\n",
      "First_Protocol     0\n",
      "Second_Protocol    0\n",
      "Third_Protocol     0\n",
      "p1_d               0\n",
      "p2_d               0\n",
      "p3_d               0\n",
      "duration           0\n",
      "max_d              0\n",
      "min_d              0\n",
      "packets            0\n",
      "Avg_bps            0\n",
      "Avg_pps            0\n",
      "Avg_bpp            0\n",
      "Bytes              0\n",
      "number_sp          0\n",
      "number_dp          0\n",
      "first_sp           0\n",
      "second_sp          0\n",
      "third_sp           0\n",
      "first_dp           0\n",
      "second_dp          0\n",
      "third_dp           0\n",
      "p1_ip              0\n",
      "p2_ip              0\n",
      "p3_ip              0\n",
      "p1_ib              0\n",
      "p2_ib              0\n",
      "p3_ib              0\n",
      "Type               0\n",
      "dtype: int64\n"
     ]
    }
   ],
   "source": [
    "null_counts = BM_onlyStratosphere.isnull().sum()\n",
    "print(\"Number of null values in each column:\\n{}\".format(null_counts))"
   ]
  },
  {
   "cell_type": "code",
   "execution_count": 11,
   "metadata": {},
   "outputs": [
    {
     "data": {
      "image/png": "[encoded data removed]",
      "text/plain": [
       "<Figure size 1440x720 with 2 Axes>"
      ]
     },
     "metadata": {
      "needs_background": "light"
     },
     "output_type": "display_data"
    }
   ],
   "source": [
    "fig, axs = plt.subplots(1,2,figsize=(20,10))\n",
    "sns.countplot(x='Type',data=BM_onlyStratosphere,ax=axs[0])\n",
    "axs[0].set_title(\"Frequency of each Type\")\n",
    "BM_onlyStratosphere.Type.value_counts().plot(x=None,y=None, kind='pie', ax=axs[1],autopct='%1.2f%%')\n",
    "axs[1].set_title(\"Percentage of each Type\")\n",
    "plt.show()"
   ]
  },
  {
   "cell_type": "markdown",
   "metadata": {},
   "source": [
    "---"
   ]
  },
  {
   "cell_type": "markdown",
   "metadata": {},
   "source": [
    "## 4. Let's make a copy of the original dataset..."
   ]
  },
  {
   "cell_type": "code",
   "execution_count": 12,
   "metadata": {},
   "outputs": [],
   "source": [
    "BM_onlyStratosphere_copy = BM_onlyStratosphere.copy()"
   ]
  },
  {
   "cell_type": "markdown",
   "metadata": {},
   "source": [
    "---"
   ]
  },
  {
   "cell_type": "markdown",
   "metadata": {},
   "source": [
    "## 5. Drop Innnecesary Columns..."
   ]
  },
  {
   "cell_type": "markdown",
   "metadata": {},
   "source": [
    "Let's verify if there are columns that have less than 4 values in the column's values"
   ]
  },
  {
   "cell_type": "code",
   "execution_count": 13,
   "metadata": {},
   "outputs": [
    {
     "name": "stdout",
     "output_type": "stream",
     "text": [
      "Malign    193631\n",
      "Benign       516\n",
      "Name: Type, dtype: int64\n",
      "\n"
     ]
    }
   ],
   "source": [
    "for col in BM_onlyStratosphere_copy.columns:\n",
    "    if (len(BM_onlyStratosphere_copy[col].unique()) < 4):\n",
    "        print(BM_onlyStratosphere_copy[col].value_counts())\n",
    "        print()"
   ]
  },
  {
   "cell_type": "markdown",
   "metadata": {},
   "source": [
    "Obviously, the column **Type** can't be delete because it's the **TARGET**"
   ]
  },
  {
   "cell_type": "markdown",
   "metadata": {},
   "source": [
    "---"
   ]
  },
  {
   "cell_type": "markdown",
   "metadata": {},
   "source": [
    "## 6. Let's create the Dictionary"
   ]
  },
  {
   "cell_type": "code",
   "execution_count": 14,
   "metadata": {},
   "outputs": [],
   "source": [
    "le = preprocessing.LabelEncoder()"
   ]
  },
  {
   "cell_type": "markdown",
   "metadata": {},
   "source": [
    "#### 6.1 First_Protocol var"
   ]
  },
  {
   "cell_type": "code",
   "execution_count": 15,
   "metadata": {},
   "outputs": [
    {
     "data": {
      "text/plain": [
       "array(['None', 'TCP', 'UDP', 'ICMP', 'ICMP6', 'IGMP'], dtype=object)"
      ]
     },
     "execution_count": 15,
     "metadata": {},
     "output_type": "execute_result"
    }
   ],
   "source": [
    "BM_onlyStratosphere_copy.First_Protocol.unique()"
   ]
  },
  {
   "cell_type": "code",
   "execution_count": 16,
   "metadata": {},
   "outputs": [],
   "source": [
    "first_protocol_column_codified = le.fit_transform(BM_onlyStratosphere_copy.First_Protocol)"
   ]
  },
  {
   "cell_type": "code",
   "execution_count": 17,
   "metadata": {},
   "outputs": [
    {
     "name": "stdout",
     "output_type": "stream",
     "text": [
      "{'ICMP': 0, 'ICMP6': 1, 'IGMP': 2, 'None': 3, 'TCP': 4, 'UDP': 5}\n"
     ]
    }
   ],
   "source": [
    "le_name_mapping_first_protocol = dict(zip(le.classes_, le.transform(le.classes_)))\n",
    "print(le_name_mapping_first_protocol)"
   ]
  },
  {
   "cell_type": "code",
   "execution_count": 18,
   "metadata": {},
   "outputs": [],
   "source": [
    "BM_onlyStratosphere_copy.First_Protocol = le.fit_transform(BM_onlyStratosphere_copy.First_Protocol)"
   ]
  },
  {
   "cell_type": "markdown",
   "metadata": {},
   "source": [
    "#### 6.2 Second_Protocol var"
   ]
  },
  {
   "cell_type": "code",
   "execution_count": 19,
   "metadata": {},
   "outputs": [
    {
     "data": {
      "text/plain": [
       "array(['TCP', 'ICMP6', 'None', 'IGMP', 'ICMP', 'UDP'], dtype=object)"
      ]
     },
     "execution_count": 19,
     "metadata": {},
     "output_type": "execute_result"
    }
   ],
   "source": [
    "BM_onlyStratosphere_copy.Second_Protocol.unique()"
   ]
  },
  {
   "cell_type": "code",
   "execution_count": 20,
   "metadata": {},
   "outputs": [],
   "source": [
    "second_protocol_column_codified = le.fit_transform(BM_onlyStratosphere_copy.Second_Protocol)"
   ]
  },
  {
   "cell_type": "code",
   "execution_count": 21,
   "metadata": {},
   "outputs": [
    {
     "name": "stdout",
     "output_type": "stream",
     "text": [
      "{'ICMP': 0, 'ICMP6': 1, 'IGMP': 2, 'None': 3, 'TCP': 4, 'UDP': 5}\n"
     ]
    }
   ],
   "source": [
    "le_name_mapping_second_protocol = dict(zip(le.classes_, le.transform(le.classes_)))\n",
    "print(le_name_mapping_second_protocol)"
   ]
  },
  {
   "cell_type": "code",
   "execution_count": 22,
   "metadata": {},
   "outputs": [],
   "source": [
    "BM_onlyStratosphere_copy.Second_Protocol = le.fit_transform(BM_onlyStratosphere_copy.Second_Protocol)"
   ]
  },
  {
   "cell_type": "markdown",
   "metadata": {},
   "source": [
    "#### 6.3 Third_Protocol var"
   ]
  },
  {
   "cell_type": "code",
   "execution_count": 23,
   "metadata": {},
   "outputs": [
    {
     "data": {
      "text/plain": [
       "array(['IGMP', 'None', 'ICMP6', 'UDP', 'TCP', 'ICMP'], dtype=object)"
      ]
     },
     "execution_count": 23,
     "metadata": {},
     "output_type": "execute_result"
    }
   ],
   "source": [
    "BM_onlyStratosphere_copy.Third_Protocol.unique()"
   ]
  },
  {
   "cell_type": "code",
   "execution_count": 24,
   "metadata": {},
   "outputs": [],
   "source": [
    "third_protocol_column_codified = le.fit_transform(BM_onlyStratosphere_copy.Third_Protocol)"
   ]
  },
  {
   "cell_type": "code",
   "execution_count": 25,
   "metadata": {},
   "outputs": [
    {
     "name": "stdout",
     "output_type": "stream",
     "text": [
      "{'ICMP': 0, 'ICMP6': 1, 'IGMP': 2, 'None': 3, 'TCP': 4, 'UDP': 5}\n"
     ]
    }
   ],
   "source": [
    "le_name_mapping_third_protocol = dict(zip(le.classes_, le.transform(le.classes_)))\n",
    "print(le_name_mapping_third_protocol)"
   ]
  },
  {
   "cell_type": "code",
   "execution_count": 26,
   "metadata": {},
   "outputs": [],
   "source": [
    "BM_onlyStratosphere_copy.Third_Protocol = le.fit_transform(BM_onlyStratosphere_copy.Third_Protocol)"
   ]
  },
  {
   "cell_type": "markdown",
   "metadata": {},
   "source": [
    "#### 6.4 Type"
   ]
  },
  {
   "cell_type": "code",
   "execution_count": 27,
   "metadata": {},
   "outputs": [
    {
     "data": {
      "text/plain": [
       "array(['Malign', 'Benign'], dtype=object)"
      ]
     },
     "execution_count": 27,
     "metadata": {},
     "output_type": "execute_result"
    }
   ],
   "source": [
    "BM_onlyStratosphere_copy.Type.unique()"
   ]
  },
  {
   "cell_type": "code",
   "execution_count": 28,
   "metadata": {},
   "outputs": [],
   "source": [
    "Type_protocol_column_codified = le.fit_transform(BM_onlyStratosphere_copy.Type)"
   ]
  },
  {
   "cell_type": "code",
   "execution_count": 29,
   "metadata": {},
   "outputs": [
    {
     "name": "stdout",
     "output_type": "stream",
     "text": [
      "{'Benign': 0, 'Malign': 1}\n"
     ]
    }
   ],
   "source": [
    "le_name_mapping_type = dict(zip(le.classes_, le.transform(le.classes_)))\n",
    "print(le_name_mapping_type)"
   ]
  },
  {
   "cell_type": "code",
   "execution_count": 30,
   "metadata": {},
   "outputs": [],
   "source": [
    "BM_onlyStratosphere_copy.Type = le.fit_transform(BM_onlyStratosphere_copy.Type)"
   ]
  },
  {
   "cell_type": "markdown",
   "metadata": {},
   "source": [
    "---"
   ]
  },
  {
   "cell_type": "markdown",
   "metadata": {},
   "source": [
    "## 7. Let's save the Label Encoder..."
   ]
  },
  {
   "cell_type": "code",
   "execution_count": 31,
   "metadata": {},
   "outputs": [
    {
     "data": {
      "text/plain": [
       "['./Tools/label_encoder.joblib']"
      ]
     },
     "execution_count": 31,
     "metadata": {},
     "output_type": "execute_result"
    }
   ],
   "source": [
    "joblib.dump(le, './Tools/label_encoder.joblib')"
   ]
  },
  {
   "cell_type": "markdown",
   "metadata": {},
   "source": [
    "---"
   ]
  },
  {
   "cell_type": "markdown",
   "metadata": {},
   "source": [
    "## 8.  ::::::: FEATURE IMPORTANCE ::::::::"
   ]
  },
  {
   "cell_type": "code",
   "execution_count": 32,
   "metadata": {},
   "outputs": [],
   "source": [
    "names = BM_onlyStratosphere_copy.Name\n",
    "BM_onlyStratosphere_copy = BM_onlyStratosphere_copy.drop(['Name'], axis=1)"
   ]
  },
  {
   "cell_type": "code",
   "execution_count": 33,
   "metadata": {},
   "outputs": [],
   "source": [
    "clf=RandomForestClassifier(n_estimators =10, random_state = 1234, class_weight=\"balanced\")"
   ]
  },
  {
   "cell_type": "code",
   "execution_count": 34,
   "metadata": {},
   "outputs": [],
   "source": [
    "X = BM_onlyStratosphere_copy.iloc[:,:-1]\n",
    "y = BM_onlyStratosphere_copy.Type"
   ]
  },
  {
   "cell_type": "code",
   "execution_count": 35,
   "metadata": {},
   "outputs": [],
   "source": [
    "output = cross_validate(clf, X, y, cv=20, scoring = 'accuracy', return_estimator =True)"
   ]
  },
  {
   "cell_type": "code",
   "execution_count": 36,
   "metadata": {},
   "outputs": [],
   "source": [
    "first_sp = []\n",
    "avg_bps = []\n",
    "number_sp = []\n",
    "Bytes = []\n",
    "number_dp = []\n",
    "duration = []\n",
    "p1_ib = []\n",
    "First_Protocol = []\n",
    "Avg_pps = []\n",
    "p2_ib = []\n",
    "p2_d = []\n",
    "Netflows = []\n",
    "p3_d = []\n",
    "p3_ib = []\n",
    "max_d = []\n",
    "p3_ip = []\n",
    "Avg_bpp = []\n",
    "packets = []\n",
    "second_sp = []\n",
    "first_dp = []\n",
    "third_sp = []\n",
    "Second_Protocol = []\n",
    "second_dp = []\n",
    "p1_d = []\n",
    "Third_Protocol = []\n",
    "third_dp = []\n",
    "p2_ip = []\n",
    "p1_ip = []\n",
    "min_d = []"
   ]
  },
  {
   "cell_type": "code",
   "execution_count": 37,
   "metadata": {},
   "outputs": [],
   "source": [
    "for idx,estimator in enumerate(output['estimator']):\n",
    "#     print(\"Features sorted by their score for estimator {}:\".format(idx))    \n",
    "    feature_importances = pd.DataFrame(estimator.feature_importances_,\n",
    "                                       index = X.columns,\n",
    "                                       columns=['importance']).sort_values('importance', ascending=False)\n",
    "#     print(feature_importances)\n",
    "    for i in range(0,len(feature_importances.index)):\n",
    "        if feature_importances.index[i] == \"first_sp\":\n",
    "            first_sp.append(feature_importances.iloc[i,0])\n",
    "        if feature_importances.index[i] == \"Avg_bps\":\n",
    "            avg_bps.append(feature_importances.iloc[i,0])\n",
    "        if feature_importances.index[i] == \"number_sp\":\n",
    "            number_sp.append(feature_importances.iloc[i,0])\n",
    "        if feature_importances.index[i] == \"Bytes\":\n",
    "            Bytes.append(feature_importances.iloc[i,0])\n",
    "        if feature_importances.index[i] == \"number_dp\":\n",
    "            number_dp.append(feature_importances.iloc[i,0])\n",
    "        if feature_importances.index[i] == \"duration\":\n",
    "            duration.append(feature_importances.iloc[i,0])\n",
    "        if feature_importances.index[i] == \"p1_ib\":\n",
    "            p1_ib.append(feature_importances.iloc[i,0])\n",
    "        if feature_importances.index[i] == \"First_Protocol\":\n",
    "            First_Protocol.append(feature_importances.iloc[i,0])\n",
    "        if feature_importances.index[i] == \"Avg_pps\":\n",
    "            Avg_pps.append(feature_importances.iloc[i,0])\n",
    "        if feature_importances.index[i] == \"p2_ib\":\n",
    "            p2_ib.append(feature_importances.iloc[i,0])\n",
    "        if feature_importances.index[i] == \"p2_d\":\n",
    "            p2_d.append(feature_importances.iloc[i,0])\n",
    "        if feature_importances.index[i] == \"Netflows\":\n",
    "            Netflows.append(feature_importances.iloc[i,0])\n",
    "        if feature_importances.index[i] == \"p3_d\":\n",
    "            p3_d.append(feature_importances.iloc[i,0])\n",
    "        if feature_importances.index[i] == \"p3_ib\":\n",
    "            p3_ib.append(feature_importances.iloc[i,0])\n",
    "        if feature_importances.index[i] == \"max_d\":\n",
    "            max_d.append(feature_importances.iloc[i,0])\n",
    "        if feature_importances.index[i] == \"p3_ip\":\n",
    "            p3_ip.append(feature_importances.iloc[i,0])\n",
    "        if feature_importances.index[i] == \"Avg_bpp\":\n",
    "            Avg_bpp.append(feature_importances.iloc[i,0])\n",
    "        if feature_importances.index[i] == \"packets\":\n",
    "            packets.append(feature_importances.iloc[i,0])\n",
    "        if feature_importances.index[i] == \"second_sp\":\n",
    "            second_sp.append(feature_importances.iloc[i,0])\n",
    "        if feature_importances.index[i] == \"first_dp\":\n",
    "            first_dp.append(feature_importances.iloc[i,0])\n",
    "        if feature_importances.index[i] == \"third_sp\":\n",
    "            third_sp.append(feature_importances.iloc[i,0])\n",
    "        if feature_importances.index[i] == \"Second_Protocol\":\n",
    "            Second_Protocol.append(feature_importances.iloc[i,0])\n",
    "        if feature_importances.index[i] == \"second_dp\":\n",
    "            second_dp.append(feature_importances.iloc[i,0])\n",
    "        if feature_importances.index[i] == \"p1_d\":\n",
    "            p1_d.append(feature_importances.iloc[i,0])\n",
    "        if feature_importances.index[i] == \"Third_Protocol\":\n",
    "            Third_Protocol.append(feature_importances.iloc[i,0])\n",
    "        if feature_importances.index[i] == \"third_dp\":\n",
    "            third_dp.append(feature_importances.iloc[i,0])\n",
    "        if feature_importances.index[i] == \"p2_ip\":\n",
    "            p2_ip.append(feature_importances.iloc[i,0])\n",
    "        if feature_importances.index[i] == \"p1_ip\":\n",
    "            p1_ip.append(feature_importances.iloc[i,0])\n",
    "        if feature_importances.index[i] == \"min_d\":\n",
    "            min_d.append(feature_importances.iloc[i,0])\n",
    "        \n",
    "        "
   ]
  },
  {
   "cell_type": "code",
   "execution_count": 38,
   "metadata": {},
   "outputs": [],
   "source": [
    "first_sp = pd.Series(first_sp)\n",
    "avg_bps = pd.Series(avg_bps)\n",
    "number_sp = pd.Series(number_sp)\n",
    "Bytes = pd.Series(Bytes)\n",
    "number_dp = pd.Series(number_dp)\n",
    "duration = pd.Series(duration)\n",
    "p1_ib = pd.Series(p1_ib)\n",
    "First_Protocol = pd.Series(First_Protocol)\n",
    "Avg_pps = pd.Series(Avg_pps)\n",
    "p2_ib = pd.Series(p2_ib)\n",
    "p2_d = pd.Series(p2_d)\n",
    "Netflows = pd.Series(Netflows)\n",
    "p3_d = pd.Series(p3_d)\n",
    "p3_ib = pd.Series(p3_ib)\n",
    "max_d = pd.Series(max_d)\n",
    "p3_ip = pd.Series(p3_ip)\n",
    "Avg_bpp = pd.Series(Avg_bpp)\n",
    "packets = pd.Series(packets)\n",
    "second_sp = pd.Series(second_sp)\n",
    "first_dp = pd.Series(first_dp)\n",
    "third_sp = pd.Series(third_sp)\n",
    "Second_Protocol = pd.Series(Second_Protocol)\n",
    "second_dp = pd.Series(second_dp)\n",
    "p1_d = pd.Series(p1_d)\n",
    "Third_Protocol = pd.Series(Third_Protocol)\n",
    "third_dp = pd.Series(third_dp)\n",
    "p2_ip = pd.Series(p2_ip)\n",
    "p1_ip = pd.Series(p1_ip)\n",
    "min_d = pd.Series(min_d)"
   ]
  },
  {
   "cell_type": "code",
   "execution_count": 39,
   "metadata": {},
   "outputs": [],
   "source": [
    "var_pd = pd.DataFrame(columns=['Var',\"Value\"])"
   ]
  },
  {
   "cell_type": "code",
   "execution_count": 40,
   "metadata": {},
   "outputs": [],
   "source": [
    "var_pd= var_pd.append({'Var' : 'First_sp', 'Value' : first_sp.mean()}, ignore_index=True)\n",
    "var_pd=var_pd.append({'Var' : 'Avg_bps', 'Value' : avg_bps.mean()}, ignore_index=True)\n",
    "var_pd=var_pd.append({'Var' : 'Number_sp', 'Value' : number_sp.mean()}, ignore_index=True)\n",
    "var_pd=var_pd.append({'Var' : 'Bytes', 'Value' : Bytes.mean()}, ignore_index=True)\n",
    "var_pd=var_pd.append({'Var' : 'Number_dp', 'Value' : number_dp.mean()}, ignore_index=True)\n",
    "var_pd=var_pd.append({'Var' : 'Duration', 'Value' : duration.mean()}, ignore_index=True)\n",
    "var_pd=var_pd.append({'Var' : 'P1_ib', 'Value' : p1_ib.mean()}, ignore_index=True)\n",
    "var_pd=var_pd.append({'Var' : 'First_Protocol', 'Value' : First_Protocol.mean()}, ignore_index=True)\n",
    "var_pd=var_pd.append({'Var' : 'Avg_pps', 'Value' : Avg_pps.mean()}, ignore_index=True)\n",
    "var_pd=var_pd.append({'Var' : 'P2_ib', 'Value' : p2_ib.mean()}, ignore_index=True)\n",
    "var_pd=var_pd.append({'Var' : 'P2_d', 'Value' : p2_d.mean()}, ignore_index=True)\n",
    "var_pd=var_pd.append({'Var' : 'Netflows', 'Value' : Netflows.mean()}, ignore_index=True)\n",
    "var_pd=var_pd.append({'Var' : 'P3_d', 'Value' : p3_d.mean()}, ignore_index=True)\n",
    "var_pd=var_pd.append({'Var' : 'P3_ib', 'Value' : p3_ib.mean()}, ignore_index=True)\n",
    "var_pd=var_pd.append({'Var' : 'Max_d', 'Value' : max_d.mean()}, ignore_index=True)\n",
    "var_pd=var_pd.append({'Var' : 'P3_ib', 'Value' : p3_ip.mean()}, ignore_index=True)\n",
    "var_pd=var_pd.append({'Var' : 'Avg_bpp', 'Value' : Avg_bpp.mean()}, ignore_index=True)\n",
    "var_pd=var_pd.append({'Var' : 'Packets', 'Value' : packets.mean()}, ignore_index=True)\n",
    "var_pd=var_pd.append({'Var' : 'Second_sp', 'Value' : second_sp.mean()}, ignore_index=True)\n",
    "var_pd=var_pd.append({'Var' : 'First_dp', 'Value' : first_dp.mean()}, ignore_index=True)\n",
    "var_pd=var_pd.append({'Var' : 'Third_sp', 'Value' : third_sp.mean()}, ignore_index=True)\n",
    "var_pd=var_pd.append({'Var' : 'Second_protocol', 'Value' : Second_Protocol.mean()}, ignore_index=True)\n",
    "var_pd=var_pd.append({'Var' : 'Second_dp', 'Value' : second_dp.mean()}, ignore_index=True)\n",
    "var_pd=var_pd.append({'Var' : 'P1_d', 'Value' : p1_d.mean()}, ignore_index=True)\n",
    "var_pd=var_pd.append({'Var' : 'Third_Protocol', 'Value' : Third_Protocol.mean()}, ignore_index=True)\n",
    "var_pd=var_pd.append({'Var' : 'Third_dp', 'Value' : third_dp.mean()}, ignore_index=True)\n",
    "var_pd=var_pd.append({'Var' : 'P2_ip', 'Value' : p2_ip.mean()}, ignore_index=True)\n",
    "var_pd=var_pd.append({'Var' : 'P1_ip', 'Value' : p1_ip.mean()}, ignore_index=True)\n",
    "var_pd=var_pd.append({'Var' : 'Min_d', 'Value' : min_d.mean()}, ignore_index=True)"
   ]
  },
  {
   "cell_type": "code",
   "execution_count": 41,
   "metadata": {},
   "outputs": [
    {
     "data": {
      "text/html": [
       "<div>\n",
       "<style scoped>\n",
       "    .dataframe tbody tr th:only-of-type {\n",
       "        vertical-align: middle;\n",
       "    }\n",
       "\n",
       "    .dataframe tbody tr th {\n",
       "        vertical-align: top;\n",
       "    }\n",
       "\n",
       "    .dataframe thead th {\n",
       "        text-align: right;\n",
       "    }\n",
       "</style>\n",
       "<table border=\"1\" class=\"dataframe\">\n",
       "  <thead>\n",
       "    <tr style=\"text-align: right;\">\n",
       "      <th></th>\n",
       "      <th>Var</th>\n",
       "      <th>Value</th>\n",
       "    </tr>\n",
       "  </thead>\n",
       "  <tbody>\n",
       "    <tr>\n",
       "      <td>0</td>\n",
       "      <td>First_sp</td>\n",
       "      <td>2.248355e-01</td>\n",
       "    </tr>\n",
       "    <tr>\n",
       "      <td>1</td>\n",
       "      <td>Avg_bps</td>\n",
       "      <td>1.155602e-01</td>\n",
       "    </tr>\n",
       "    <tr>\n",
       "      <td>5</td>\n",
       "      <td>Duration</td>\n",
       "      <td>8.474027e-02</td>\n",
       "    </tr>\n",
       "    <tr>\n",
       "      <td>7</td>\n",
       "      <td>First_Protocol</td>\n",
       "      <td>8.224250e-02</td>\n",
       "    </tr>\n",
       "    <tr>\n",
       "      <td>6</td>\n",
       "      <td>P1_ib</td>\n",
       "      <td>7.817732e-02</td>\n",
       "    </tr>\n",
       "    <tr>\n",
       "      <td>4</td>\n",
       "      <td>Number_dp</td>\n",
       "      <td>7.767767e-02</td>\n",
       "    </tr>\n",
       "    <tr>\n",
       "      <td>3</td>\n",
       "      <td>Bytes</td>\n",
       "      <td>7.735165e-02</td>\n",
       "    </tr>\n",
       "    <tr>\n",
       "      <td>2</td>\n",
       "      <td>Number_sp</td>\n",
       "      <td>7.257284e-02</td>\n",
       "    </tr>\n",
       "    <tr>\n",
       "      <td>9</td>\n",
       "      <td>P2_ib</td>\n",
       "      <td>4.937030e-02</td>\n",
       "    </tr>\n",
       "    <tr>\n",
       "      <td>10</td>\n",
       "      <td>P2_d</td>\n",
       "      <td>4.049368e-02</td>\n",
       "    </tr>\n",
       "    <tr>\n",
       "      <td>13</td>\n",
       "      <td>P3_ib</td>\n",
       "      <td>1.635744e-02</td>\n",
       "    </tr>\n",
       "    <tr>\n",
       "      <td>12</td>\n",
       "      <td>P3_d</td>\n",
       "      <td>1.543880e-02</td>\n",
       "    </tr>\n",
       "    <tr>\n",
       "      <td>11</td>\n",
       "      <td>Netflows</td>\n",
       "      <td>9.453088e-03</td>\n",
       "    </tr>\n",
       "    <tr>\n",
       "      <td>19</td>\n",
       "      <td>First_dp</td>\n",
       "      <td>7.222052e-03</td>\n",
       "    </tr>\n",
       "    <tr>\n",
       "      <td>8</td>\n",
       "      <td>Avg_pps</td>\n",
       "      <td>6.250447e-03</td>\n",
       "    </tr>\n",
       "    <tr>\n",
       "      <td>22</td>\n",
       "      <td>Second_dp</td>\n",
       "      <td>6.229667e-03</td>\n",
       "    </tr>\n",
       "    <tr>\n",
       "      <td>21</td>\n",
       "      <td>Second_protocol</td>\n",
       "      <td>5.812432e-03</td>\n",
       "    </tr>\n",
       "    <tr>\n",
       "      <td>18</td>\n",
       "      <td>Second_sp</td>\n",
       "      <td>5.793695e-03</td>\n",
       "    </tr>\n",
       "    <tr>\n",
       "      <td>17</td>\n",
       "      <td>Packets</td>\n",
       "      <td>5.523538e-03</td>\n",
       "    </tr>\n",
       "    <tr>\n",
       "      <td>15</td>\n",
       "      <td>P3_ib</td>\n",
       "      <td>5.273603e-03</td>\n",
       "    </tr>\n",
       "    <tr>\n",
       "      <td>14</td>\n",
       "      <td>Max_d</td>\n",
       "      <td>3.122954e-03</td>\n",
       "    </tr>\n",
       "    <tr>\n",
       "      <td>20</td>\n",
       "      <td>Third_sp</td>\n",
       "      <td>2.759124e-03</td>\n",
       "    </tr>\n",
       "    <tr>\n",
       "      <td>16</td>\n",
       "      <td>Avg_bpp</td>\n",
       "      <td>2.356223e-03</td>\n",
       "    </tr>\n",
       "    <tr>\n",
       "      <td>26</td>\n",
       "      <td>P2_ip</td>\n",
       "      <td>2.322342e-03</td>\n",
       "    </tr>\n",
       "    <tr>\n",
       "      <td>27</td>\n",
       "      <td>P1_ip</td>\n",
       "      <td>1.125652e-03</td>\n",
       "    </tr>\n",
       "    <tr>\n",
       "      <td>25</td>\n",
       "      <td>Third_dp</td>\n",
       "      <td>1.052922e-03</td>\n",
       "    </tr>\n",
       "    <tr>\n",
       "      <td>24</td>\n",
       "      <td>Third_Protocol</td>\n",
       "      <td>5.971068e-04</td>\n",
       "    </tr>\n",
       "    <tr>\n",
       "      <td>23</td>\n",
       "      <td>P1_d</td>\n",
       "      <td>2.867872e-04</td>\n",
       "    </tr>\n",
       "    <tr>\n",
       "      <td>28</td>\n",
       "      <td>Min_d</td>\n",
       "      <td>2.204753e-07</td>\n",
       "    </tr>\n",
       "  </tbody>\n",
       "</table>\n",
       "</div>"
      ],
      "text/plain": [
       "                Var         Value\n",
       "0          First_sp  2.248355e-01\n",
       "1           Avg_bps  1.155602e-01\n",
       "5          Duration  8.474027e-02\n",
       "7    First_Protocol  8.224250e-02\n",
       "6             P1_ib  7.817732e-02\n",
       "4         Number_dp  7.767767e-02\n",
       "3             Bytes  7.735165e-02\n",
       "2         Number_sp  7.257284e-02\n",
       "9             P2_ib  4.937030e-02\n",
       "10             P2_d  4.049368e-02\n",
       "13            P3_ib  1.635744e-02\n",
       "12             P3_d  1.543880e-02\n",
       "11         Netflows  9.453088e-03\n",
       "19         First_dp  7.222052e-03\n",
       "8           Avg_pps  6.250447e-03\n",
       "22        Second_dp  6.229667e-03\n",
       "21  Second_protocol  5.812432e-03\n",
       "18        Second_sp  5.793695e-03\n",
       "17          Packets  5.523538e-03\n",
       "15            P3_ib  5.273603e-03\n",
       "14            Max_d  3.122954e-03\n",
       "20         Third_sp  2.759124e-03\n",
       "16          Avg_bpp  2.356223e-03\n",
       "26            P2_ip  2.322342e-03\n",
       "27            P1_ip  1.125652e-03\n",
       "25         Third_dp  1.052922e-03\n",
       "24   Third_Protocol  5.971068e-04\n",
       "23             P1_d  2.867872e-04\n",
       "28            Min_d  2.204753e-07"
      ]
     },
     "execution_count": 41,
     "metadata": {},
     "output_type": "execute_result"
    }
   ],
   "source": [
    "var_pd.sort_values(by=['Value'], ascending=False)"
   ]
  },
  {
   "cell_type": "markdown",
   "metadata": {},
   "source": [
    "---"
   ]
  },
  {
   "cell_type": "markdown",
   "metadata": {},
   "source": [
    "## Important"
   ]
  },
  {
   "cell_type": "markdown",
   "metadata": {},
   "source": [
    "In this **step**, we have to decide what columns we will use in the training. In the **previous dataframe**, we can see the values of the **mean of the importance stimator of each column, order in Descending order.**. "
   ]
  },
  {
   "cell_type": "markdown",
   "metadata": {},
   "source": [
    "We decide to choose the vars that have in the column of \"value\", a **value > 0.01**. In this case, the following columns have been selected:"
   ]
  },
  {
   "cell_type": "markdown",
   "metadata": {},
   "source": [
    "1. First_sp\n",
    "2.\tAvg_bps\n",
    "3.\tDuration\n",
    "4. \tFirst_Protocol\n",
    "5.\tP1_ib\n",
    "6.\tNumber_dp\n",
    "7.\tBytes\n",
    "8.\tNumber_sp\n",
    "9.\tP2_ib\n",
    "10.\tP2_d\n",
    "11.\tP3_ib\n",
    "12. P3_d"
   ]
  },
  {
   "cell_type": "code",
   "execution_count": 42,
   "metadata": {},
   "outputs": [
    {
     "data": {
      "text/plain": [
       "Index(['Netflows', 'First_Protocol', 'Second_Protocol', 'Third_Protocol',\n",
       "       'p1_d', 'p2_d', 'p3_d', 'duration', 'max_d', 'min_d', 'packets',\n",
       "       'Avg_bps', 'Avg_pps', 'Avg_bpp', 'Bytes', 'number_sp', 'number_dp',\n",
       "       'first_sp', 'second_sp', 'third_sp', 'first_dp', 'second_dp',\n",
       "       'third_dp', 'p1_ip', 'p2_ip', 'p3_ip', 'p1_ib', 'p2_ib', 'p3_ib',\n",
       "       'Type'],\n",
       "      dtype='object')"
      ]
     },
     "execution_count": 42,
     "metadata": {},
     "output_type": "execute_result"
    }
   ],
   "source": [
    "BM_onlyStratosphere_copy.columns"
   ]
  },
  {
   "cell_type": "code",
   "execution_count": 43,
   "metadata": {},
   "outputs": [],
   "source": [
    "BM_onlyStratosphere_copy = BM_onlyStratosphere_copy.drop(['Third_Protocol','p1_d','max_d','min_d','packets','Avg_pps'\n",
    "                                           ,'Avg_bpp','second_sp','third_sp','first_dp','second_dp','third_dp'\n",
    "                                           ,'p1_ip','p2_ip','p3_ip','Netflows','Second_Protocol'], axis=1)"
   ]
  },
  {
   "cell_type": "code",
   "execution_count": 44,
   "metadata": {},
   "outputs": [
    {
     "data": {
      "text/plain": [
       "Index(['First_Protocol', 'p2_d', 'p3_d', 'duration', 'Avg_bps', 'Bytes',\n",
       "       'number_sp', 'number_dp', 'first_sp', 'p1_ib', 'p2_ib', 'p3_ib',\n",
       "       'Type'],\n",
       "      dtype='object')"
      ]
     },
     "execution_count": 44,
     "metadata": {},
     "output_type": "execute_result"
    }
   ],
   "source": [
    "columns_chosen = BM_onlyStratosphere_copy.columns\n",
    "columns_chosen"
   ]
  },
  {
   "cell_type": "markdown",
   "metadata": {},
   "source": [
    "---"
   ]
  },
  {
   "cell_type": "markdown",
   "metadata": {},
   "source": [
    "## 7. Let's Standardize the dataset..."
   ]
  },
  {
   "cell_type": "code",
   "execution_count": 45,
   "metadata": {},
   "outputs": [],
   "source": [
    "scaler = preprocessing.RobustScaler()"
   ]
  },
  {
   "cell_type": "code",
   "execution_count": 46,
   "metadata": {},
   "outputs": [],
   "source": [
    "dStandard_BM_onlyStratosphere_copy = BM_onlyStratosphere_copy.copy()"
   ]
  },
  {
   "cell_type": "code",
   "execution_count": 48,
   "metadata": {},
   "outputs": [],
   "source": [
    "dStandard_BM_onlyStratosphere_copy[['p2_d', 'p3_d','duration', 'Avg_bps', 'Bytes', 'number_sp', 'number_dp','p1_ib', 'p3_ib','p2_ib']] = scaler.fit_transform(dStandard_BM_onlyStratosphere_copy[['p2_d', 'p3_d',\n",
    "       'duration', 'Avg_bps', 'Bytes', 'number_sp', 'number_dp','p1_ib', 'p3_ib','p2_ib']])"
   ]
  },
  {
   "cell_type": "code",
   "execution_count": 49,
   "metadata": {},
   "outputs": [
    {
     "data": {
      "text/html": [
       "<div>\n",
       "<style scoped>\n",
       "    .dataframe tbody tr th:only-of-type {\n",
       "        vertical-align: middle;\n",
       "    }\n",
       "\n",
       "    .dataframe tbody tr th {\n",
       "        vertical-align: top;\n",
       "    }\n",
       "\n",
       "    .dataframe thead th {\n",
       "        text-align: right;\n",
       "    }\n",
       "</style>\n",
       "<table border=\"1\" class=\"dataframe\">\n",
       "  <thead>\n",
       "    <tr style=\"text-align: right;\">\n",
       "      <th></th>\n",
       "      <th>First_Protocol</th>\n",
       "      <th>p2_d</th>\n",
       "      <th>p3_d</th>\n",
       "      <th>duration</th>\n",
       "      <th>Avg_bps</th>\n",
       "      <th>Bytes</th>\n",
       "      <th>number_sp</th>\n",
       "      <th>number_dp</th>\n",
       "      <th>first_sp</th>\n",
       "      <th>p1_ib</th>\n",
       "      <th>p2_ib</th>\n",
       "      <th>p3_ib</th>\n",
       "      <th>Type</th>\n",
       "    </tr>\n",
       "  </thead>\n",
       "  <tbody>\n",
       "    <tr>\n",
       "      <td>0</td>\n",
       "      <td>3</td>\n",
       "      <td>0.000</td>\n",
       "      <td>0.00000</td>\n",
       "      <td>0.104581</td>\n",
       "      <td>0.494781</td>\n",
       "      <td>0.587167</td>\n",
       "      <td>1.333333</td>\n",
       "      <td>1.166667</td>\n",
       "      <td>0</td>\n",
       "      <td>0.0</td>\n",
       "      <td>0.0</td>\n",
       "      <td>0.000000</td>\n",
       "      <td>1</td>\n",
       "    </tr>\n",
       "    <tr>\n",
       "      <td>1</td>\n",
       "      <td>3</td>\n",
       "      <td>0.000</td>\n",
       "      <td>0.00000</td>\n",
       "      <td>0.942777</td>\n",
       "      <td>-0.077244</td>\n",
       "      <td>0.021369</td>\n",
       "      <td>0.222222</td>\n",
       "      <td>0.333333</td>\n",
       "      <td>0</td>\n",
       "      <td>0.0</td>\n",
       "      <td>0.0</td>\n",
       "      <td>0.000000</td>\n",
       "      <td>1</td>\n",
       "    </tr>\n",
       "    <tr>\n",
       "      <td>2</td>\n",
       "      <td>4</td>\n",
       "      <td>0.316</td>\n",
       "      <td>0.56575</td>\n",
       "      <td>0.379605</td>\n",
       "      <td>2.077244</td>\n",
       "      <td>0.585505</td>\n",
       "      <td>0.222222</td>\n",
       "      <td>0.333333</td>\n",
       "      <td>443</td>\n",
       "      <td>698.0</td>\n",
       "      <td>740.0</td>\n",
       "      <td>76.894737</td>\n",
       "      <td>1</td>\n",
       "    </tr>\n",
       "    <tr>\n",
       "      <td>3</td>\n",
       "      <td>3</td>\n",
       "      <td>0.000</td>\n",
       "      <td>0.00000</td>\n",
       "      <td>-0.130532</td>\n",
       "      <td>-0.467641</td>\n",
       "      <td>-0.410993</td>\n",
       "      <td>-0.555556</td>\n",
       "      <td>-0.500000</td>\n",
       "      <td>0</td>\n",
       "      <td>0.0</td>\n",
       "      <td>0.0</td>\n",
       "      <td>0.000000</td>\n",
       "      <td>1</td>\n",
       "    </tr>\n",
       "    <tr>\n",
       "      <td>4</td>\n",
       "      <td>3</td>\n",
       "      <td>0.000</td>\n",
       "      <td>0.00000</td>\n",
       "      <td>-0.130532</td>\n",
       "      <td>-0.471816</td>\n",
       "      <td>-0.437110</td>\n",
       "      <td>-0.555556</td>\n",
       "      <td>-0.833333</td>\n",
       "      <td>0</td>\n",
       "      <td>0.0</td>\n",
       "      <td>0.0</td>\n",
       "      <td>0.000000</td>\n",
       "      <td>1</td>\n",
       "    </tr>\n",
       "  </tbody>\n",
       "</table>\n",
       "</div>"
      ],
      "text/plain": [
       "   First_Protocol   p2_d     p3_d  duration   Avg_bps     Bytes  number_sp  \\\n",
       "0               3  0.000  0.00000  0.104581  0.494781  0.587167   1.333333   \n",
       "1               3  0.000  0.00000  0.942777 -0.077244  0.021369   0.222222   \n",
       "2               4  0.316  0.56575  0.379605  2.077244  0.585505   0.222222   \n",
       "3               3  0.000  0.00000 -0.130532 -0.467641 -0.410993  -0.555556   \n",
       "4               3  0.000  0.00000 -0.130532 -0.471816 -0.437110  -0.555556   \n",
       "\n",
       "   number_dp  first_sp  p1_ib  p2_ib      p3_ib  Type  \n",
       "0   1.166667         0    0.0    0.0   0.000000     1  \n",
       "1   0.333333         0    0.0    0.0   0.000000     1  \n",
       "2   0.333333       443  698.0  740.0  76.894737     1  \n",
       "3  -0.500000         0    0.0    0.0   0.000000     1  \n",
       "4  -0.833333         0    0.0    0.0   0.000000     1  "
      ]
     },
     "execution_count": 49,
     "metadata": {},
     "output_type": "execute_result"
    }
   ],
   "source": [
    "dStandard_BM_onlyStratosphere_copy.head()"
   ]
  },
  {
   "cell_type": "code",
   "execution_count": 50,
   "metadata": {},
   "outputs": [],
   "source": [
    "dStandard_BM_onlyStratosphere_copy.to_csv(r\"C:\\Users\\Usuario\\Documents\\Github\\PDG\\PDG-2\\Datasets\\Time Window\\Cleaned\\DStandardBMExp1.csv\",sep=',',index=False)"
   ]
  },
  {
   "cell_type": "markdown",
   "metadata": {},
   "source": [
    "---"
   ]
  },
  {
   "cell_type": "markdown",
   "metadata": {},
   "source": [
    "## 8. Let's save the Robust Scaler..."
   ]
  },
  {
   "cell_type": "code",
   "execution_count": 51,
   "metadata": {},
   "outputs": [
    {
     "data": {
      "text/plain": [
       "['./Tools/scalerExp1.save']"
      ]
     },
     "execution_count": 51,
     "metadata": {},
     "output_type": "execute_result"
    }
   ],
   "source": [
    "scaler_filename = \"./Tools/scalerExp1.save\"\n",
    "joblib.dump(scaler, scaler_filename) "
   ]
  },
  {
   "cell_type": "markdown",
   "metadata": {},
   "source": [
    "---"
   ]
  },
  {
   "cell_type": "markdown",
   "metadata": {},
   "source": [
    "## References"
   ]
  },
  {
   "cell_type": "markdown",
   "metadata": {},
   "source": [
    "1. https://medium.com/@urvashilluniya/why-data-normalization-is-necessary-for-machine-learning-models-681b65a05029\n",
    "2. https://www.dataquest.io/blog/machine-learning-preparing-data/\n",
    "3. https://machinelearningmastery.com/feature-selection-with-real-and-categorical-data/\n",
    "4. https://stackoverflow.com/questions/55466081/how-to-calculate-feature-importance-in-each-models-of-cross-validation-in-sklear"
   ]
  }
 ],
 "metadata": {
  "kernelspec": {
   "display_name": "Python 3",
   "language": "python",
   "name": "python3"
  },
  "language_info": {
   "codemirror_mode": {
    "name": "ipython",
    "version": 3
   },
   "file_extension": ".py",
   "mimetype": "text/x-python",
   "name": "python",
   "nbconvert_exporter": "python",
   "pygments_lexer": "ipython3",
   "version": "3.7.4"
  }
 },
 "nbformat": 4,
 "nbformat_minor": 2
}
