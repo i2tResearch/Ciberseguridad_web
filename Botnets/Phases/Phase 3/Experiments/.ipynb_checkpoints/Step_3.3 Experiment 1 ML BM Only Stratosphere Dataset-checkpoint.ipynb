{
 "cells": [
  {
   "cell_type": "markdown",
   "metadata": {},
   "source": [
    "# Step 3: Experiment 1: All Maligns vs All Benigns (Stratosphere)(ML)"
   ]
  },
  {
   "cell_type": "markdown",
   "metadata": {},
   "source": [
    "---"
   ]
  },
  {
   "cell_type": "markdown",
   "metadata": {},
   "source": [
    "## 1. Imports"
   ]
  },
  {
   "cell_type": "code",
   "execution_count": 1,
   "metadata": {},
   "outputs": [],
   "source": [
    "import warnings\n",
    "warnings.filterwarnings('ignore') "
   ]
  },
  {
   "cell_type": "code",
   "execution_count": 2,
   "metadata": {},
   "outputs": [],
   "source": [
    "import math"
   ]
  },
  {
   "cell_type": "code",
   "execution_count": 3,
   "metadata": {},
   "outputs": [],
   "source": [
    "import numpy as np #operaciones matriciales y con vectores\n",
    "import pandas as pd #tratamiento de datos\n",
    "import random\n",
    "import matplotlib.pyplot as plt #gráficos\n",
    "import seaborn as sns\n",
    "import joblib"
   ]
  },
  {
   "cell_type": "code",
   "execution_count": 4,
   "metadata": {},
   "outputs": [],
   "source": [
    "from sklearn import naive_bayes\n",
    "from sklearn import tree\n",
    "from sklearn.neighbors import KNeighborsClassifier\n",
    "from sklearn.linear_model import LogisticRegression\n",
    "from sklearn import tree\n",
    "from sklearn import linear_model\n",
    "from sklearn.ensemble import RandomForestClassifier\n",
    "from sklearn.metrics import classification_report"
   ]
  },
  {
   "cell_type": "code",
   "execution_count": 5,
   "metadata": {},
   "outputs": [],
   "source": [
    "from sklearn.model_selection import train_test_split #metodo de particionamiento de datasets para evaluación\n",
    "from sklearn import preprocessing\n",
    "from sklearn import metrics\n",
    "from sklearn.model_selection import cross_val_score\n",
    "from sklearn.model_selection import cross_validate\n",
    "from sklearn.model_selection import GridSearchCV"
   ]
  },
  {
   "cell_type": "markdown",
   "metadata": {},
   "source": [
    "---"
   ]
  },
  {
   "cell_type": "markdown",
   "metadata": {},
   "source": [
    "## 2. Load the Standardize B/M Only Stratosphere Dataset"
   ]
  },
  {
   "cell_type": "code",
   "execution_count": 6,
   "metadata": {},
   "outputs": [],
   "source": [
    "BM_onlyStratosphere = pd.read_csv(r\"C:\\Users\\Usuario\\Documents\\Github\\PDG\\PDG-2\\Datasets\\Time Window\\Cleaned\\DStandardBMExp1.csv\", delimiter = \",\")"
   ]
  },
  {
   "cell_type": "code",
   "execution_count": 7,
   "metadata": {},
   "outputs": [
    {
     "data": {
      "text/html": [
       "<div>\n",
       "<style scoped>\n",
       "    .dataframe tbody tr th:only-of-type {\n",
       "        vertical-align: middle;\n",
       "    }\n",
       "\n",
       "    .dataframe tbody tr th {\n",
       "        vertical-align: top;\n",
       "    }\n",
       "\n",
       "    .dataframe thead th {\n",
       "        text-align: right;\n",
       "    }\n",
       "</style>\n",
       "<table border=\"1\" class=\"dataframe\">\n",
       "  <thead>\n",
       "    <tr style=\"text-align: right;\">\n",
       "      <th></th>\n",
       "      <th>First_Protocol</th>\n",
       "      <th>p2_d</th>\n",
       "      <th>p3_d</th>\n",
       "      <th>duration</th>\n",
       "      <th>Avg_bps</th>\n",
       "      <th>Bytes</th>\n",
       "      <th>number_sp</th>\n",
       "      <th>number_dp</th>\n",
       "      <th>first_sp</th>\n",
       "      <th>p1_ib</th>\n",
       "      <th>p2_ib</th>\n",
       "      <th>p3_ib</th>\n",
       "      <th>Type</th>\n",
       "    </tr>\n",
       "  </thead>\n",
       "  <tbody>\n",
       "    <tr>\n",
       "      <td>0</td>\n",
       "      <td>3</td>\n",
       "      <td>0.000</td>\n",
       "      <td>0.00000</td>\n",
       "      <td>0.104581</td>\n",
       "      <td>0.494781</td>\n",
       "      <td>0.587167</td>\n",
       "      <td>1.333333</td>\n",
       "      <td>1.166667</td>\n",
       "      <td>0</td>\n",
       "      <td>0.0</td>\n",
       "      <td>0.0</td>\n",
       "      <td>0.000000</td>\n",
       "      <td>1</td>\n",
       "    </tr>\n",
       "    <tr>\n",
       "      <td>1</td>\n",
       "      <td>3</td>\n",
       "      <td>0.000</td>\n",
       "      <td>0.00000</td>\n",
       "      <td>0.942777</td>\n",
       "      <td>-0.077244</td>\n",
       "      <td>0.021369</td>\n",
       "      <td>0.222222</td>\n",
       "      <td>0.333333</td>\n",
       "      <td>0</td>\n",
       "      <td>0.0</td>\n",
       "      <td>0.0</td>\n",
       "      <td>0.000000</td>\n",
       "      <td>1</td>\n",
       "    </tr>\n",
       "    <tr>\n",
       "      <td>2</td>\n",
       "      <td>4</td>\n",
       "      <td>0.316</td>\n",
       "      <td>0.56575</td>\n",
       "      <td>0.379605</td>\n",
       "      <td>2.077244</td>\n",
       "      <td>0.585505</td>\n",
       "      <td>0.222222</td>\n",
       "      <td>0.333333</td>\n",
       "      <td>443</td>\n",
       "      <td>698.0</td>\n",
       "      <td>740.0</td>\n",
       "      <td>76.894737</td>\n",
       "      <td>1</td>\n",
       "    </tr>\n",
       "    <tr>\n",
       "      <td>3</td>\n",
       "      <td>3</td>\n",
       "      <td>0.000</td>\n",
       "      <td>0.00000</td>\n",
       "      <td>-0.130532</td>\n",
       "      <td>-0.467641</td>\n",
       "      <td>-0.410993</td>\n",
       "      <td>-0.555556</td>\n",
       "      <td>-0.500000</td>\n",
       "      <td>0</td>\n",
       "      <td>0.0</td>\n",
       "      <td>0.0</td>\n",
       "      <td>0.000000</td>\n",
       "      <td>1</td>\n",
       "    </tr>\n",
       "    <tr>\n",
       "      <td>4</td>\n",
       "      <td>3</td>\n",
       "      <td>0.000</td>\n",
       "      <td>0.00000</td>\n",
       "      <td>-0.130532</td>\n",
       "      <td>-0.471816</td>\n",
       "      <td>-0.437110</td>\n",
       "      <td>-0.555556</td>\n",
       "      <td>-0.833333</td>\n",
       "      <td>0</td>\n",
       "      <td>0.0</td>\n",
       "      <td>0.0</td>\n",
       "      <td>0.000000</td>\n",
       "      <td>1</td>\n",
       "    </tr>\n",
       "  </tbody>\n",
       "</table>\n",
       "</div>"
      ],
      "text/plain": [
       "   First_Protocol   p2_d     p3_d  duration   Avg_bps     Bytes  number_sp  \\\n",
       "0               3  0.000  0.00000  0.104581  0.494781  0.587167   1.333333   \n",
       "1               3  0.000  0.00000  0.942777 -0.077244  0.021369   0.222222   \n",
       "2               4  0.316  0.56575  0.379605  2.077244  0.585505   0.222222   \n",
       "3               3  0.000  0.00000 -0.130532 -0.467641 -0.410993  -0.555556   \n",
       "4               3  0.000  0.00000 -0.130532 -0.471816 -0.437110  -0.555556   \n",
       "\n",
       "   number_dp  first_sp  p1_ib  p2_ib      p3_ib  Type  \n",
       "0   1.166667         0    0.0    0.0   0.000000     1  \n",
       "1   0.333333         0    0.0    0.0   0.000000     1  \n",
       "2   0.333333       443  698.0  740.0  76.894737     1  \n",
       "3  -0.500000         0    0.0    0.0   0.000000     1  \n",
       "4  -0.833333         0    0.0    0.0   0.000000     1  "
      ]
     },
     "execution_count": 7,
     "metadata": {},
     "output_type": "execute_result"
    }
   ],
   "source": [
    "BM_onlyStratosphere.head()"
   ]
  },
  {
   "cell_type": "markdown",
   "metadata": {},
   "source": [
    "---"
   ]
  },
  {
   "cell_type": "markdown",
   "metadata": {},
   "source": [
    "## 3. Let's Create a copy of the original dataset..."
   ]
  },
  {
   "cell_type": "code",
   "execution_count": 8,
   "metadata": {},
   "outputs": [
    {
     "data": {
      "text/plain": [
       "(194147, 13)"
      ]
     },
     "execution_count": 8,
     "metadata": {},
     "output_type": "execute_result"
    }
   ],
   "source": [
    "BM_onlyStratosphere_copy = BM_onlyStratosphere.copy()\n",
    "BM_onlyStratosphere_copy.shape"
   ]
  },
  {
   "cell_type": "markdown",
   "metadata": {},
   "source": [
    "---"
   ]
  },
  {
   "cell_type": "markdown",
   "metadata": {},
   "source": [
    "## 4. Let's create a Dataframe to save the Accuracies..."
   ]
  },
  {
   "cell_type": "code",
   "execution_count": 9,
   "metadata": {},
   "outputs": [],
   "source": [
    "acc_Machine_Learning = pd.DataFrame(columns=['Name',\"Accuracy_Value\",\"CV\"])"
   ]
  },
  {
   "cell_type": "markdown",
   "metadata": {},
   "source": [
    "---"
   ]
  },
  {
   "cell_type": "markdown",
   "metadata": {},
   "source": [
    "---"
   ]
  },
  {
   "cell_type": "markdown",
   "metadata": {},
   "source": [
    "## 5. :::::::: MACHINE LEARNING ::::::::"
   ]
  },
  {
   "cell_type": "markdown",
   "metadata": {},
   "source": [
    "#### 5.1 Gaussian Naive Bayes"
   ]
  },
  {
   "cell_type": "code",
   "execution_count": 10,
   "metadata": {},
   "outputs": [],
   "source": [
    "x = BM_onlyStratosphere_copy.iloc[:,:-1]\n",
    "y = BM_onlyStratosphere_copy['Type']"
   ]
  },
  {
   "cell_type": "code",
   "execution_count": 11,
   "metadata": {},
   "outputs": [],
   "source": [
    "gnb = naive_bayes.GaussianNB()\n",
    "params = {}"
   ]
  },
  {
   "cell_type": "code",
   "execution_count": 12,
   "metadata": {},
   "outputs": [
    {
     "data": {
      "text/plain": [
       "GridSearchCV(cv=10, error_score='raise-deprecating',\n",
       "             estimator=GaussianNB(priors=None, var_smoothing=1e-09), iid='warn',\n",
       "             n_jobs=None, param_grid={}, pre_dispatch='2*n_jobs', refit=True,\n",
       "             return_train_score=True, scoring=None, verbose=0)"
      ]
     },
     "execution_count": 12,
     "metadata": {},
     "output_type": "execute_result"
    }
   ],
   "source": [
    "gscv_gnb = GridSearchCV(estimator=gnb, param_grid=params, cv=10, return_train_score=True)\n",
    "gscv_gnb.fit(x,y)"
   ]
  },
  {
   "cell_type": "code",
   "execution_count": 13,
   "metadata": {},
   "outputs": [
    {
     "data": {
      "text/plain": [
       "{'mean_fit_time': array([0.23435285]),\n",
       " 'std_fit_time': array([0.01194771]),\n",
       " 'mean_score_time': array([0.03052411]),\n",
       " 'std_score_time': array([0.00261155]),\n",
       " 'params': [{}],\n",
       " 'split0_test_score': array([0.98305521]),\n",
       " 'split1_test_score': array([0.98300283]),\n",
       " 'split2_test_score': array([0.98768993]),\n",
       " 'split3_test_score': array([0.98372392]),\n",
       " 'split4_test_score': array([0.98269379]),\n",
       " 'split5_test_score': array([0.98619624]),\n",
       " 'split6_test_score': array([0.98449572]),\n",
       " 'split7_test_score': array([0.98449572]),\n",
       " 'split8_test_score': array([0.98748326]),\n",
       " 'split9_test_score': array([0.98465025]),\n",
       " 'mean_test_score': array([0.98474867]),\n",
       " 'std_test_score': array([0.00171903]),\n",
       " 'rank_test_score': array([1]),\n",
       " 'split0_train_score': array([0.98385518]),\n",
       " 'split1_train_score': array([0.98387244]),\n",
       " 'split2_train_score': array([0.98659089]),\n",
       " 'split3_train_score': array([0.98378088]),\n",
       " 'split4_train_score': array([0.98384383]),\n",
       " 'split5_train_score': array([0.9871632]),\n",
       " 'split6_train_score': array([0.98370085]),\n",
       " 'split7_train_score': array([0.98355777]),\n",
       " 'split8_train_score': array([0.98684278]),\n",
       " 'split9_train_score': array([0.98364362]),\n",
       " 'mean_train_score': array([0.98468514]),\n",
       " 'std_train_score': array([0.00143623])}"
      ]
     },
     "execution_count": 13,
     "metadata": {},
     "output_type": "execute_result"
    }
   ],
   "source": [
    "gscv_gnb.cv_results_"
   ]
  },
  {
   "cell_type": "markdown",
   "metadata": {},
   "source": [
    "The **best_score (Mean cross-validated score of the best_estimator)** is :"
   ]
  },
  {
   "cell_type": "code",
   "execution_count": 14,
   "metadata": {},
   "outputs": [
    {
     "data": {
      "text/plain": [
       "0.9847486698223511"
      ]
     },
     "execution_count": 14,
     "metadata": {},
     "output_type": "execute_result"
    }
   ],
   "source": [
    "gscv_gnb.best_score_"
   ]
  },
  {
   "cell_type": "markdown",
   "metadata": {},
   "source": [
    "The **best estimator (model)** is :"
   ]
  },
  {
   "cell_type": "code",
   "execution_count": 15,
   "metadata": {},
   "outputs": [
    {
     "data": {
      "text/plain": [
       "GaussianNB(priors=None, var_smoothing=1e-09)"
      ]
     },
     "execution_count": 15,
     "metadata": {},
     "output_type": "execute_result"
    }
   ],
   "source": [
    "gnb = gscv_gnb.best_estimator_\n",
    "gnb"
   ]
  },
  {
   "cell_type": "code",
   "execution_count": 16,
   "metadata": {},
   "outputs": [],
   "source": [
    "acc_Machine_Learning= acc_Machine_Learning.append({'Name' : 'GaussianNB ', 'Accuracy_Value' : gscv_gnb.best_score_, 'CV' : 10}, \n",
    "                                           ignore_index=True)"
   ]
  },
  {
   "cell_type": "code",
   "execution_count": 17,
   "metadata": {},
   "outputs": [
    {
     "data": {
      "text/html": [
       "<div>\n",
       "<style scoped>\n",
       "    .dataframe tbody tr th:only-of-type {\n",
       "        vertical-align: middle;\n",
       "    }\n",
       "\n",
       "    .dataframe tbody tr th {\n",
       "        vertical-align: top;\n",
       "    }\n",
       "\n",
       "    .dataframe thead th {\n",
       "        text-align: right;\n",
       "    }\n",
       "</style>\n",
       "<table border=\"1\" class=\"dataframe\">\n",
       "  <thead>\n",
       "    <tr style=\"text-align: right;\">\n",
       "      <th></th>\n",
       "      <th>Name</th>\n",
       "      <th>Accuracy_Value</th>\n",
       "      <th>CV</th>\n",
       "    </tr>\n",
       "  </thead>\n",
       "  <tbody>\n",
       "    <tr>\n",
       "      <td>0</td>\n",
       "      <td>GaussianNB</td>\n",
       "      <td>0.984749</td>\n",
       "      <td>10</td>\n",
       "    </tr>\n",
       "  </tbody>\n",
       "</table>\n",
       "</div>"
      ],
      "text/plain": [
       "          Name  Accuracy_Value  CV\n",
       "0  GaussianNB         0.984749  10"
      ]
     },
     "execution_count": 17,
     "metadata": {},
     "output_type": "execute_result"
    }
   ],
   "source": [
    "acc_Machine_Learning"
   ]
  },
  {
   "cell_type": "markdown",
   "metadata": {},
   "source": [
    "---"
   ]
  },
  {
   "cell_type": "markdown",
   "metadata": {},
   "source": [
    "#### 5.2 Decision Tree Classifier"
   ]
  },
  {
   "cell_type": "code",
   "execution_count": 18,
   "metadata": {},
   "outputs": [],
   "source": [
    "dtc = tree.DecisionTreeClassifier()\n",
    "tree_params = {'criterion':['gini','entropy'],\n",
    "               'max_depth':[3,4,5,6,7,8,9,10,11,12,13,14,15,16,17,18,19,20],\n",
    "               'random_state' : [1234]\n",
    "              }"
   ]
  },
  {
   "cell_type": "code",
   "execution_count": 19,
   "metadata": {},
   "outputs": [
    {
     "data": {
      "text/plain": [
       "GridSearchCV(cv=10, error_score='raise-deprecating',\n",
       "             estimator=DecisionTreeClassifier(class_weight=None,\n",
       "                                              criterion='gini', max_depth=None,\n",
       "                                              max_features=None,\n",
       "                                              max_leaf_nodes=None,\n",
       "                                              min_impurity_decrease=0.0,\n",
       "                                              min_impurity_split=None,\n",
       "                                              min_samples_leaf=1,\n",
       "                                              min_samples_split=2,\n",
       "                                              min_weight_fraction_leaf=0.0,\n",
       "                                              presort=False, random_state=None,\n",
       "                                              splitter='best'),\n",
       "             iid='warn', n_jobs=None,\n",
       "             param_grid={'criterion': ['gini', 'entropy'],\n",
       "                         'max_depth': [3, 4, 5, 6, 7, 8, 9, 10, 11, 12, 13, 14,\n",
       "                                       15, 16, 17, 18, 19, 20],\n",
       "                         'random_state': [1234]},\n",
       "             pre_dispatch='2*n_jobs', refit=True, return_train_score=False,\n",
       "             scoring=None, verbose=0)"
      ]
     },
     "execution_count": 19,
     "metadata": {},
     "output_type": "execute_result"
    }
   ],
   "source": [
    "gscv_dtc = GridSearchCV(dtc, tree_params, cv=10)\n",
    "gscv_dtc.fit(x,y)"
   ]
  },
  {
   "cell_type": "markdown",
   "metadata": {},
   "source": [
    "The **best_score (Mean cross-validated score of the best_estimator)** is :"
   ]
  },
  {
   "cell_type": "code",
   "execution_count": 20,
   "metadata": {},
   "outputs": [
    {
     "data": {
      "text/plain": [
       "0.9998763823288539"
      ]
     },
     "execution_count": 20,
     "metadata": {},
     "output_type": "execute_result"
    }
   ],
   "source": [
    "gscv_dtc.best_score_"
   ]
  },
  {
   "cell_type": "markdown",
   "metadata": {},
   "source": [
    "The **best estimator (model)** is :"
   ]
  },
  {
   "cell_type": "code",
   "execution_count": 21,
   "metadata": {},
   "outputs": [
    {
     "data": {
      "text/plain": [
       "DecisionTreeClassifier(class_weight=None, criterion='entropy', max_depth=9,\n",
       "                       max_features=None, max_leaf_nodes=None,\n",
       "                       min_impurity_decrease=0.0, min_impurity_split=None,\n",
       "                       min_samples_leaf=1, min_samples_split=2,\n",
       "                       min_weight_fraction_leaf=0.0, presort=False,\n",
       "                       random_state=1234, splitter='best')"
      ]
     },
     "execution_count": 21,
     "metadata": {},
     "output_type": "execute_result"
    }
   ],
   "source": [
    "dtc = gscv_dtc.best_estimator_\n",
    "dtc"
   ]
  },
  {
   "cell_type": "code",
   "execution_count": 22,
   "metadata": {},
   "outputs": [],
   "source": [
    "acc_Machine_Learning= acc_Machine_Learning.append({'Name' : dtc, 'Accuracy_Value' : gscv_dtc.best_score_, 'CV' : 10}, \n",
    "                                           ignore_index=True)"
   ]
  },
  {
   "cell_type": "code",
   "execution_count": 23,
   "metadata": {},
   "outputs": [
    {
     "data": {
      "text/html": [
       "<div>\n",
       "<style scoped>\n",
       "    .dataframe tbody tr th:only-of-type {\n",
       "        vertical-align: middle;\n",
       "    }\n",
       "\n",
       "    .dataframe tbody tr th {\n",
       "        vertical-align: top;\n",
       "    }\n",
       "\n",
       "    .dataframe thead th {\n",
       "        text-align: right;\n",
       "    }\n",
       "</style>\n",
       "<table border=\"1\" class=\"dataframe\">\n",
       "  <thead>\n",
       "    <tr style=\"text-align: right;\">\n",
       "      <th></th>\n",
       "      <th>Name</th>\n",
       "      <th>Accuracy_Value</th>\n",
       "      <th>CV</th>\n",
       "    </tr>\n",
       "  </thead>\n",
       "  <tbody>\n",
       "    <tr>\n",
       "      <td>0</td>\n",
       "      <td>GaussianNB</td>\n",
       "      <td>0.984749</td>\n",
       "      <td>10</td>\n",
       "    </tr>\n",
       "    <tr>\n",
       "      <td>1</td>\n",
       "      <td>DecisionTreeClassifier(class_weight=None, crit...</td>\n",
       "      <td>0.999876</td>\n",
       "      <td>10</td>\n",
       "    </tr>\n",
       "  </tbody>\n",
       "</table>\n",
       "</div>"
      ],
      "text/plain": [
       "                                                Name  Accuracy_Value  CV\n",
       "0                                        GaussianNB         0.984749  10\n",
       "1  DecisionTreeClassifier(class_weight=None, crit...        0.999876  10"
      ]
     },
     "execution_count": 23,
     "metadata": {},
     "output_type": "execute_result"
    }
   ],
   "source": [
    "acc_Machine_Learning"
   ]
  },
  {
   "cell_type": "markdown",
   "metadata": {},
   "source": [
    "---"
   ]
  },
  {
   "cell_type": "markdown",
   "metadata": {},
   "source": [
    "#### 5.3 KNN"
   ]
  },
  {
   "cell_type": "code",
   "execution_count": 24,
   "metadata": {},
   "outputs": [],
   "source": [
    "knn =  KNeighborsClassifier()\n",
    "knn_params = {'n_neighbors':[1,3,5], 'weights' : ['uniform','distance'], 'metric':['euclidean','manhattan']}\n"
   ]
  },
  {
   "cell_type": "code",
   "execution_count": 25,
   "metadata": {},
   "outputs": [],
   "source": [
    "# gscv_knn = GridSearchCV(knn, knn_params, cv=5, n_jobs=-1)\n",
    "# gscv_knn.fit(x,y)"
   ]
  },
  {
   "cell_type": "markdown",
   "metadata": {},
   "source": [
    "The **best_score (Mean cross-validated score of the best_estimator)** is :"
   ]
  },
  {
   "cell_type": "code",
   "execution_count": 26,
   "metadata": {},
   "outputs": [],
   "source": [
    "# gscv_knn.best_score_"
   ]
  },
  {
   "cell_type": "markdown",
   "metadata": {},
   "source": [
    "The **best estimator (model)** is :"
   ]
  },
  {
   "cell_type": "code",
   "execution_count": 27,
   "metadata": {},
   "outputs": [],
   "source": [
    "# knn = gscv_knn.best_estimator_\n",
    "# knn"
   ]
  },
  {
   "cell_type": "code",
   "execution_count": 28,
   "metadata": {},
   "outputs": [],
   "source": [
    "# acc_Machine_Learning= acc_Machine_Learning.append({'Name' : knn, 'Accuracy_Value' : gscv_knn.best_score_, 'CV' :5}, \n",
    "#                                            ignore_index=True)"
   ]
  },
  {
   "cell_type": "code",
   "execution_count": 29,
   "metadata": {},
   "outputs": [],
   "source": [
    "# acc_Machine_Learning"
   ]
  },
  {
   "cell_type": "markdown",
   "metadata": {},
   "source": [
    "---"
   ]
  },
  {
   "cell_type": "markdown",
   "metadata": {},
   "source": [
    "#### 5.4 Logistic Regression"
   ]
  },
  {
   "cell_type": "code",
   "execution_count": 30,
   "metadata": {},
   "outputs": [],
   "source": [
    "logreg = linear_model.LinearRegression()\n",
    "params = {}"
   ]
  },
  {
   "cell_type": "code",
   "execution_count": 31,
   "metadata": {},
   "outputs": [
    {
     "data": {
      "text/plain": [
       "GridSearchCV(cv=10, error_score='raise-deprecating',\n",
       "             estimator=LinearRegression(copy_X=True, fit_intercept=True,\n",
       "                                        n_jobs=None, normalize=False),\n",
       "             iid='warn', n_jobs=None, param_grid={}, pre_dispatch='2*n_jobs',\n",
       "             refit=True, return_train_score=False, scoring=None, verbose=0)"
      ]
     },
     "execution_count": 31,
     "metadata": {},
     "output_type": "execute_result"
    }
   ],
   "source": [
    "gscv_lg = GridSearchCV(logreg, params, cv=10)\n",
    "gscv_lg.fit(x,y)"
   ]
  },
  {
   "cell_type": "markdown",
   "metadata": {},
   "source": [
    "The **best_score (Mean cross-validated score of the best_estimator)** is :"
   ]
  },
  {
   "cell_type": "code",
   "execution_count": 32,
   "metadata": {},
   "outputs": [
    {
     "data": {
      "text/plain": [
       "0.4421567544398485"
      ]
     },
     "execution_count": 32,
     "metadata": {},
     "output_type": "execute_result"
    }
   ],
   "source": [
    "gscv_lg.best_score_"
   ]
  },
  {
   "cell_type": "markdown",
   "metadata": {},
   "source": [
    "The **best estimator (model)** is :"
   ]
  },
  {
   "cell_type": "code",
   "execution_count": 33,
   "metadata": {},
   "outputs": [
    {
     "data": {
      "text/plain": [
       "LinearRegression(copy_X=True, fit_intercept=True, n_jobs=None, normalize=False)"
      ]
     },
     "execution_count": 33,
     "metadata": {},
     "output_type": "execute_result"
    }
   ],
   "source": [
    "logreg = gscv_lg.best_estimator_\n",
    "logreg"
   ]
  },
  {
   "cell_type": "code",
   "execution_count": 34,
   "metadata": {},
   "outputs": [],
   "source": [
    "acc_Machine_Learning= acc_Machine_Learning.append({'Name' : logreg, 'Accuracy_Value' : gscv_lg.best_score_, 'CV' :10}, \n",
    "                                           ignore_index=True)"
   ]
  },
  {
   "cell_type": "code",
   "execution_count": 35,
   "metadata": {},
   "outputs": [
    {
     "data": {
      "text/html": [
       "<div>\n",
       "<style scoped>\n",
       "    .dataframe tbody tr th:only-of-type {\n",
       "        vertical-align: middle;\n",
       "    }\n",
       "\n",
       "    .dataframe tbody tr th {\n",
       "        vertical-align: top;\n",
       "    }\n",
       "\n",
       "    .dataframe thead th {\n",
       "        text-align: right;\n",
       "    }\n",
       "</style>\n",
       "<table border=\"1\" class=\"dataframe\">\n",
       "  <thead>\n",
       "    <tr style=\"text-align: right;\">\n",
       "      <th></th>\n",
       "      <th>Name</th>\n",
       "      <th>Accuracy_Value</th>\n",
       "      <th>CV</th>\n",
       "    </tr>\n",
       "  </thead>\n",
       "  <tbody>\n",
       "    <tr>\n",
       "      <td>0</td>\n",
       "      <td>GaussianNB</td>\n",
       "      <td>0.984749</td>\n",
       "      <td>10</td>\n",
       "    </tr>\n",
       "    <tr>\n",
       "      <td>1</td>\n",
       "      <td>DecisionTreeClassifier(class_weight=None, crit...</td>\n",
       "      <td>0.999876</td>\n",
       "      <td>10</td>\n",
       "    </tr>\n",
       "    <tr>\n",
       "      <td>2</td>\n",
       "      <td>LinearRegression(copy_X=True, fit_intercept=Tr...</td>\n",
       "      <td>0.442157</td>\n",
       "      <td>10</td>\n",
       "    </tr>\n",
       "  </tbody>\n",
       "</table>\n",
       "</div>"
      ],
      "text/plain": [
       "                                                Name  Accuracy_Value  CV\n",
       "0                                        GaussianNB         0.984749  10\n",
       "1  DecisionTreeClassifier(class_weight=None, crit...        0.999876  10\n",
       "2  LinearRegression(copy_X=True, fit_intercept=Tr...        0.442157  10"
      ]
     },
     "execution_count": 35,
     "metadata": {},
     "output_type": "execute_result"
    }
   ],
   "source": [
    "acc_Machine_Learning"
   ]
  },
  {
   "cell_type": "markdown",
   "metadata": {},
   "source": [
    "---"
   ]
  },
  {
   "cell_type": "markdown",
   "metadata": {},
   "source": [
    "#### 5.5 Random Forest Classifier"
   ]
  },
  {
   "cell_type": "code",
   "execution_count": 36,
   "metadata": {},
   "outputs": [],
   "source": [
    "clf = RandomForestClassifier()\n",
    "clf_param = { \n",
    "    'n_estimators': [200, 500],\n",
    "    'max_features': ['auto', 'sqrt', 'log2'],\n",
    "    'max_depth' : [4,5,6,7,8,9,10,11,12,13,14,15],\n",
    "    'criterion' :['gini', 'entropy'],\n",
    "    'random_state' : [1234]\n",
    "}"
   ]
  },
  {
   "cell_type": "code",
   "execution_count": 37,
   "metadata": {},
   "outputs": [
    {
     "data": {
      "text/plain": [
       "GridSearchCV(cv=10, error_score='raise-deprecating',\n",
       "             estimator=RandomForestClassifier(bootstrap=True, class_weight=None,\n",
       "                                              criterion='gini', max_depth=None,\n",
       "                                              max_features='auto',\n",
       "                                              max_leaf_nodes=None,\n",
       "                                              min_impurity_decrease=0.0,\n",
       "                                              min_impurity_split=None,\n",
       "                                              min_samples_leaf=1,\n",
       "                                              min_samples_split=2,\n",
       "                                              min_weight_fraction_leaf=0.0,\n",
       "                                              n_estimators='warn', n_jobs=None,\n",
       "                                              oob_score=False,\n",
       "                                              random_state=None, verbose=0,\n",
       "                                              warm_start=False),\n",
       "             iid='warn', n_jobs=None, param_grid={}, pre_dispatch='2*n_jobs',\n",
       "             refit=True, return_train_score=False, scoring=None, verbose=0)"
      ]
     },
     "execution_count": 37,
     "metadata": {},
     "output_type": "execute_result"
    }
   ],
   "source": [
    "gscv_rfc = GridSearchCV(clf, params, cv=10)\n",
    "gscv_rfc.fit(x,y)"
   ]
  },
  {
   "cell_type": "markdown",
   "metadata": {},
   "source": [
    "The **best_score (Mean cross-validated score of the best_estimator)** is :"
   ]
  },
  {
   "cell_type": "code",
   "execution_count": 38,
   "metadata": {},
   "outputs": [
    {
     "data": {
      "text/plain": [
       "0.9999124374829382"
      ]
     },
     "execution_count": 38,
     "metadata": {},
     "output_type": "execute_result"
    }
   ],
   "source": [
    "gscv_rfc.best_score_"
   ]
  },
  {
   "cell_type": "markdown",
   "metadata": {},
   "source": [
    "The **best estimator (model)** is :"
   ]
  },
  {
   "cell_type": "code",
   "execution_count": 39,
   "metadata": {},
   "outputs": [
    {
     "data": {
      "text/plain": [
       "RandomForestClassifier(bootstrap=True, class_weight=None, criterion='gini',\n",
       "                       max_depth=None, max_features='auto', max_leaf_nodes=None,\n",
       "                       min_impurity_decrease=0.0, min_impurity_split=None,\n",
       "                       min_samples_leaf=1, min_samples_split=2,\n",
       "                       min_weight_fraction_leaf=0.0, n_estimators=10,\n",
       "                       n_jobs=None, oob_score=False, random_state=None,\n",
       "                       verbose=0, warm_start=False)"
      ]
     },
     "execution_count": 39,
     "metadata": {},
     "output_type": "execute_result"
    }
   ],
   "source": [
    "clf = gscv_rfc.best_estimator_\n",
    "clf"
   ]
  },
  {
   "cell_type": "code",
   "execution_count": 40,
   "metadata": {},
   "outputs": [],
   "source": [
    "acc_Machine_Learning= acc_Machine_Learning.append({'Name' : clf, 'Accuracy_Value' : gscv_rfc.best_score_, 'CV' :10}, \n",
    "                                           ignore_index=True)"
   ]
  },
  {
   "cell_type": "code",
   "execution_count": 41,
   "metadata": {},
   "outputs": [
    {
     "data": {
      "text/html": [
       "<div>\n",
       "<style scoped>\n",
       "    .dataframe tbody tr th:only-of-type {\n",
       "        vertical-align: middle;\n",
       "    }\n",
       "\n",
       "    .dataframe tbody tr th {\n",
       "        vertical-align: top;\n",
       "    }\n",
       "\n",
       "    .dataframe thead th {\n",
       "        text-align: right;\n",
       "    }\n",
       "</style>\n",
       "<table border=\"1\" class=\"dataframe\">\n",
       "  <thead>\n",
       "    <tr style=\"text-align: right;\">\n",
       "      <th></th>\n",
       "      <th>Name</th>\n",
       "      <th>Accuracy_Value</th>\n",
       "      <th>CV</th>\n",
       "    </tr>\n",
       "  </thead>\n",
       "  <tbody>\n",
       "    <tr>\n",
       "      <td>0</td>\n",
       "      <td>GaussianNB</td>\n",
       "      <td>0.984749</td>\n",
       "      <td>10</td>\n",
       "    </tr>\n",
       "    <tr>\n",
       "      <td>1</td>\n",
       "      <td>DecisionTreeClassifier(class_weight=None, crit...</td>\n",
       "      <td>0.999876</td>\n",
       "      <td>10</td>\n",
       "    </tr>\n",
       "    <tr>\n",
       "      <td>2</td>\n",
       "      <td>LinearRegression(copy_X=True, fit_intercept=Tr...</td>\n",
       "      <td>0.442157</td>\n",
       "      <td>10</td>\n",
       "    </tr>\n",
       "    <tr>\n",
       "      <td>3</td>\n",
       "      <td>(DecisionTreeClassifier(class_weight=None, cri...</td>\n",
       "      <td>0.999912</td>\n",
       "      <td>10</td>\n",
       "    </tr>\n",
       "  </tbody>\n",
       "</table>\n",
       "</div>"
      ],
      "text/plain": [
       "                                                Name  Accuracy_Value  CV\n",
       "0                                        GaussianNB         0.984749  10\n",
       "1  DecisionTreeClassifier(class_weight=None, crit...        0.999876  10\n",
       "2  LinearRegression(copy_X=True, fit_intercept=Tr...        0.442157  10\n",
       "3  (DecisionTreeClassifier(class_weight=None, cri...        0.999912  10"
      ]
     },
     "execution_count": 41,
     "metadata": {},
     "output_type": "execute_result"
    }
   ],
   "source": [
    "acc_Machine_Learning"
   ]
  },
  {
   "cell_type": "markdown",
   "metadata": {},
   "source": [
    "---"
   ]
  },
  {
   "cell_type": "markdown",
   "metadata": {},
   "source": [
    "## 6. Let's save the accuracies"
   ]
  },
  {
   "cell_type": "code",
   "execution_count": 42,
   "metadata": {},
   "outputs": [
    {
     "data": {
      "text/html": [
       "<div>\n",
       "<style scoped>\n",
       "    .dataframe tbody tr th:only-of-type {\n",
       "        vertical-align: middle;\n",
       "    }\n",
       "\n",
       "    .dataframe tbody tr th {\n",
       "        vertical-align: top;\n",
       "    }\n",
       "\n",
       "    .dataframe thead th {\n",
       "        text-align: right;\n",
       "    }\n",
       "</style>\n",
       "<table border=\"1\" class=\"dataframe\">\n",
       "  <thead>\n",
       "    <tr style=\"text-align: right;\">\n",
       "      <th></th>\n",
       "      <th>Name</th>\n",
       "      <th>Accuracy_Value</th>\n",
       "      <th>CV</th>\n",
       "    </tr>\n",
       "  </thead>\n",
       "  <tbody>\n",
       "    <tr>\n",
       "      <td>3</td>\n",
       "      <td>(DecisionTreeClassifier(class_weight=None, cri...</td>\n",
       "      <td>0.999912</td>\n",
       "      <td>10</td>\n",
       "    </tr>\n",
       "    <tr>\n",
       "      <td>1</td>\n",
       "      <td>DecisionTreeClassifier(class_weight=None, crit...</td>\n",
       "      <td>0.999876</td>\n",
       "      <td>10</td>\n",
       "    </tr>\n",
       "    <tr>\n",
       "      <td>0</td>\n",
       "      <td>GaussianNB</td>\n",
       "      <td>0.984749</td>\n",
       "      <td>10</td>\n",
       "    </tr>\n",
       "    <tr>\n",
       "      <td>2</td>\n",
       "      <td>LinearRegression(copy_X=True, fit_intercept=Tr...</td>\n",
       "      <td>0.442157</td>\n",
       "      <td>10</td>\n",
       "    </tr>\n",
       "  </tbody>\n",
       "</table>\n",
       "</div>"
      ],
      "text/plain": [
       "                                                Name  Accuracy_Value  CV\n",
       "3  (DecisionTreeClassifier(class_weight=None, cri...        0.999912  10\n",
       "1  DecisionTreeClassifier(class_weight=None, crit...        0.999876  10\n",
       "0                                        GaussianNB         0.984749  10\n",
       "2  LinearRegression(copy_X=True, fit_intercept=Tr...        0.442157  10"
      ]
     },
     "execution_count": 42,
     "metadata": {},
     "output_type": "execute_result"
    }
   ],
   "source": [
    "acc_Machine_Learning = acc_Machine_Learning.sort_values(by=['Accuracy_Value'], ascending=False)\n",
    "acc_Machine_Learning"
   ]
  },
  {
   "cell_type": "code",
   "execution_count": 43,
   "metadata": {},
   "outputs": [],
   "source": [
    "acc_Machine_Learning.to_csv(r\"C:\\Users\\Usuario\\Documents\\Github\\PDG\\PDG-2\\Datasets\\Time Window\\Accuracies\\MLAccuraciesExp1.csv\",sep=',',index=False)"
   ]
  },
  {
   "cell_type": "markdown",
   "metadata": {},
   "source": [
    "---"
   ]
  },
  {
   "cell_type": "markdown",
   "metadata": {},
   "source": [
    "## 7. Let's choose the best ML Algorithm"
   ]
  },
  {
   "cell_type": "code",
   "execution_count": 44,
   "metadata": {},
   "outputs": [
    {
     "data": {
      "text/plain": [
       "Name              (DecisionTreeClassifier(class_weight=None, cri...\n",
       "Accuracy_Value                                             0.999912\n",
       "CV                                                               10\n",
       "Name: 3, dtype: object"
      ]
     },
     "execution_count": 44,
     "metadata": {},
     "output_type": "execute_result"
    }
   ],
   "source": [
    "acc_Machine_Learning.iloc[0,:]"
   ]
  },
  {
   "cell_type": "markdown",
   "metadata": {},
   "source": [
    "---"
   ]
  },
  {
   "cell_type": "markdown",
   "metadata": {},
   "source": [
    "---"
   ]
  },
  {
   "cell_type": "markdown",
   "metadata": {},
   "source": [
    "## 8. ::::::::::::::::: TEST WITH REAL DATA :::::::::::::::::::::"
   ]
  },
  {
   "cell_type": "code",
   "execution_count": 45,
   "metadata": {},
   "outputs": [],
   "source": [
    "b = pd.read_csv(r\"C:\\Users\\Usuario\\Documents\\Github\\PDG\\PDG-2\\Datasets\\Time Window\\TEST\\testB1.csv\", delimiter = \",\")"
   ]
  },
  {
   "cell_type": "code",
   "execution_count": 46,
   "metadata": {},
   "outputs": [
    {
     "data": {
      "text/html": [
       "<div>\n",
       "<style scoped>\n",
       "    .dataframe tbody tr th:only-of-type {\n",
       "        vertical-align: middle;\n",
       "    }\n",
       "\n",
       "    .dataframe tbody tr th {\n",
       "        vertical-align: top;\n",
       "    }\n",
       "\n",
       "    .dataframe thead th {\n",
       "        text-align: right;\n",
       "    }\n",
       "</style>\n",
       "<table border=\"1\" class=\"dataframe\">\n",
       "  <thead>\n",
       "    <tr style=\"text-align: right;\">\n",
       "      <th></th>\n",
       "      <th>Name</th>\n",
       "      <th>Netflows</th>\n",
       "      <th>First_Protocol</th>\n",
       "      <th>Second_Protocol</th>\n",
       "      <th>Third_Protocol</th>\n",
       "      <th>p1_d</th>\n",
       "      <th>p2_d</th>\n",
       "      <th>p3_d</th>\n",
       "      <th>duration</th>\n",
       "      <th>max_d</th>\n",
       "      <th>...</th>\n",
       "      <th>first_dp</th>\n",
       "      <th>second_dp</th>\n",
       "      <th>third_dp</th>\n",
       "      <th>p1_ip</th>\n",
       "      <th>p2_ip</th>\n",
       "      <th>p3_ip</th>\n",
       "      <th>p1_ib</th>\n",
       "      <th>p2_ib</th>\n",
       "      <th>p3_ib</th>\n",
       "      <th>Type</th>\n",
       "    </tr>\n",
       "  </thead>\n",
       "  <tbody>\n",
       "    <tr>\n",
       "      <td>0</td>\n",
       "      <td>23-csves/0.csv</td>\n",
       "      <td>194</td>\n",
       "      <td>UDP</td>\n",
       "      <td>TCP</td>\n",
       "      <td>IGMP</td>\n",
       "      <td>0.0</td>\n",
       "      <td>0.000</td>\n",
       "      <td>10.20150</td>\n",
       "      <td>10324.970</td>\n",
       "      <td>299.971</td>\n",
       "      <td>...</td>\n",
       "      <td>443</td>\n",
       "      <td>1900</td>\n",
       "      <td>52122</td>\n",
       "      <td>1.0</td>\n",
       "      <td>1.0</td>\n",
       "      <td>9.0</td>\n",
       "      <td>40.25</td>\n",
       "      <td>97.5</td>\n",
       "      <td>1074.50</td>\n",
       "      <td>Benign</td>\n",
       "    </tr>\n",
       "    <tr>\n",
       "      <td>1</td>\n",
       "      <td>23-csves/1.csv</td>\n",
       "      <td>166</td>\n",
       "      <td>UDP</td>\n",
       "      <td>TCP</td>\n",
       "      <td>IGMP</td>\n",
       "      <td>0.0</td>\n",
       "      <td>0.033</td>\n",
       "      <td>124.86375</td>\n",
       "      <td>11250.986</td>\n",
       "      <td>284.470</td>\n",
       "      <td>...</td>\n",
       "      <td>443</td>\n",
       "      <td>52122</td>\n",
       "      <td>1900</td>\n",
       "      <td>1.0</td>\n",
       "      <td>2.0</td>\n",
       "      <td>10.0</td>\n",
       "      <td>37.00</td>\n",
       "      <td>136.5</td>\n",
       "      <td>1304.75</td>\n",
       "      <td>Benign</td>\n",
       "    </tr>\n",
       "    <tr>\n",
       "      <td>2</td>\n",
       "      <td>23-csves/2.csv</td>\n",
       "      <td>161</td>\n",
       "      <td>UDP</td>\n",
       "      <td>TCP</td>\n",
       "      <td>IGMP</td>\n",
       "      <td>0.0</td>\n",
       "      <td>0.000</td>\n",
       "      <td>15.16900</td>\n",
       "      <td>9879.502</td>\n",
       "      <td>299.979</td>\n",
       "      <td>...</td>\n",
       "      <td>443</td>\n",
       "      <td>1900</td>\n",
       "      <td>52122</td>\n",
       "      <td>1.0</td>\n",
       "      <td>1.0</td>\n",
       "      <td>10.0</td>\n",
       "      <td>37.00</td>\n",
       "      <td>133.0</td>\n",
       "      <td>1084.00</td>\n",
       "      <td>Benign</td>\n",
       "    </tr>\n",
       "    <tr>\n",
       "      <td>3</td>\n",
       "      <td>23-csves/3.csv</td>\n",
       "      <td>263</td>\n",
       "      <td>UDP</td>\n",
       "      <td>TCP</td>\n",
       "      <td>ICMP</td>\n",
       "      <td>0.0</td>\n",
       "      <td>0.000</td>\n",
       "      <td>7.30350</td>\n",
       "      <td>11424.463</td>\n",
       "      <td>299.994</td>\n",
       "      <td>...</td>\n",
       "      <td>443</td>\n",
       "      <td>1900</td>\n",
       "      <td>0</td>\n",
       "      <td>1.0</td>\n",
       "      <td>1.0</td>\n",
       "      <td>10.0</td>\n",
       "      <td>40.00</td>\n",
       "      <td>100.0</td>\n",
       "      <td>1152.50</td>\n",
       "      <td>Benign</td>\n",
       "    </tr>\n",
       "    <tr>\n",
       "      <td>4</td>\n",
       "      <td>23-csves/4.csv</td>\n",
       "      <td>177</td>\n",
       "      <td>UDP</td>\n",
       "      <td>TCP</td>\n",
       "      <td>IGMP</td>\n",
       "      <td>0.0</td>\n",
       "      <td>0.000</td>\n",
       "      <td>65.46600</td>\n",
       "      <td>10823.177</td>\n",
       "      <td>299.989</td>\n",
       "      <td>...</td>\n",
       "      <td>443</td>\n",
       "      <td>52122</td>\n",
       "      <td>1900</td>\n",
       "      <td>1.0</td>\n",
       "      <td>2.0</td>\n",
       "      <td>10.0</td>\n",
       "      <td>37.00</td>\n",
       "      <td>126.0</td>\n",
       "      <td>1104.00</td>\n",
       "      <td>Benign</td>\n",
       "    </tr>\n",
       "  </tbody>\n",
       "</table>\n",
       "<p>5 rows × 31 columns</p>\n",
       "</div>"
      ],
      "text/plain": [
       "             Name  Netflows First_Protocol Second_Protocol Third_Protocol  \\\n",
       "0  23-csves/0.csv       194            UDP             TCP           IGMP   \n",
       "1  23-csves/1.csv       166            UDP             TCP           IGMP   \n",
       "2  23-csves/2.csv       161            UDP             TCP           IGMP   \n",
       "3  23-csves/3.csv       263            UDP             TCP           ICMP   \n",
       "4  23-csves/4.csv       177            UDP             TCP           IGMP   \n",
       "\n",
       "   p1_d   p2_d       p3_d   duration    max_d  ...  first_dp  second_dp  \\\n",
       "0   0.0  0.000   10.20150  10324.970  299.971  ...       443       1900   \n",
       "1   0.0  0.033  124.86375  11250.986  284.470  ...       443      52122   \n",
       "2   0.0  0.000   15.16900   9879.502  299.979  ...       443       1900   \n",
       "3   0.0  0.000    7.30350  11424.463  299.994  ...       443       1900   \n",
       "4   0.0  0.000   65.46600  10823.177  299.989  ...       443      52122   \n",
       "\n",
       "   third_dp  p1_ip  p2_ip  p3_ip  p1_ib  p2_ib    p3_ib    Type  \n",
       "0     52122    1.0    1.0    9.0  40.25   97.5  1074.50  Benign  \n",
       "1      1900    1.0    2.0   10.0  37.00  136.5  1304.75  Benign  \n",
       "2     52122    1.0    1.0   10.0  37.00  133.0  1084.00  Benign  \n",
       "3         0    1.0    1.0   10.0  40.00  100.0  1152.50  Benign  \n",
       "4      1900    1.0    2.0   10.0  37.00  126.0  1104.00  Benign  \n",
       "\n",
       "[5 rows x 31 columns]"
      ]
     },
     "execution_count": 46,
     "metadata": {},
     "output_type": "execute_result"
    }
   ],
   "source": [
    "b.head(5)"
   ]
  },
  {
   "cell_type": "code",
   "execution_count": 47,
   "metadata": {},
   "outputs": [
    {
     "data": {
      "text/plain": [
       "Index(['Name', 'Netflows', 'First_Protocol', 'Second_Protocol',\n",
       "       'Third_Protocol', 'p1_d', 'p2_d', 'p3_d', 'duration', 'max_d', 'min_d',\n",
       "       'packets', 'Avg_bps', 'Avg_pps', 'Avg_bpp', 'Bytes', 'number_sp',\n",
       "       'number_dp', 'first_sp', 'second_sp', 'third_sp', 'first_dp',\n",
       "       'second_dp', 'third_dp', 'p1_ip', 'p2_ip', 'p3_ip', 'p1_ib', 'p2_ib',\n",
       "       'p3_ib', 'Type'],\n",
       "      dtype='object')"
      ]
     },
     "execution_count": 47,
     "metadata": {},
     "output_type": "execute_result"
    }
   ],
   "source": [
    "b.columns"
   ]
  },
  {
   "cell_type": "code",
   "execution_count": 48,
   "metadata": {},
   "outputs": [
    {
     "data": {
      "text/plain": [
       "(633, 31)"
      ]
     },
     "execution_count": 48,
     "metadata": {},
     "output_type": "execute_result"
    }
   ],
   "source": [
    "b.shape"
   ]
  },
  {
   "cell_type": "markdown",
   "metadata": {},
   "source": [
    "--"
   ]
  },
  {
   "cell_type": "code",
   "execution_count": 49,
   "metadata": {},
   "outputs": [],
   "source": [
    "m = malign_dataset = pd.read_csv(r\"C:\\Users\\Usuario\\Documents\\Github\\PDG\\PDG-2\\Datasets\\Time Window\\TEST\\testM1.csv\", delimiter = \",\")"
   ]
  },
  {
   "cell_type": "code",
   "execution_count": 50,
   "metadata": {},
   "outputs": [
    {
     "data": {
      "text/html": [
       "<div>\n",
       "<style scoped>\n",
       "    .dataframe tbody tr th:only-of-type {\n",
       "        vertical-align: middle;\n",
       "    }\n",
       "\n",
       "    .dataframe tbody tr th {\n",
       "        vertical-align: top;\n",
       "    }\n",
       "\n",
       "    .dataframe thead th {\n",
       "        text-align: right;\n",
       "    }\n",
       "</style>\n",
       "<table border=\"1\" class=\"dataframe\">\n",
       "  <thead>\n",
       "    <tr style=\"text-align: right;\">\n",
       "      <th></th>\n",
       "      <th>Name</th>\n",
       "      <th>Netflows</th>\n",
       "      <th>First_Protocol</th>\n",
       "      <th>Second_Protocol</th>\n",
       "      <th>Third_Protocol</th>\n",
       "      <th>p1_d</th>\n",
       "      <th>p2_d</th>\n",
       "      <th>p3_d</th>\n",
       "      <th>duration</th>\n",
       "      <th>max_d</th>\n",
       "      <th>...</th>\n",
       "      <th>first_dp</th>\n",
       "      <th>second_dp</th>\n",
       "      <th>third_dp</th>\n",
       "      <th>p1_ip</th>\n",
       "      <th>p2_ip</th>\n",
       "      <th>p3_ip</th>\n",
       "      <th>p1_ib</th>\n",
       "      <th>p2_ib</th>\n",
       "      <th>p3_ib</th>\n",
       "      <th>Type</th>\n",
       "    </tr>\n",
       "  </thead>\n",
       "  <tbody>\n",
       "    <tr>\n",
       "      <td>0</td>\n",
       "      <td>32-csves/837.csv</td>\n",
       "      <td>111</td>\n",
       "      <td>NaN</td>\n",
       "      <td>IGMP</td>\n",
       "      <td>ICMP6</td>\n",
       "      <td>0.0000</td>\n",
       "      <td>0.0000</td>\n",
       "      <td>0.000</td>\n",
       "      <td>0.000</td>\n",
       "      <td>0.000</td>\n",
       "      <td>...</td>\n",
       "      <td>0</td>\n",
       "      <td>34304.0</td>\n",
       "      <td>NaN</td>\n",
       "      <td>1.00</td>\n",
       "      <td>1.0</td>\n",
       "      <td>1.0</td>\n",
       "      <td>32.0</td>\n",
       "      <td>32.0</td>\n",
       "      <td>32.00</td>\n",
       "      <td>Malign</td>\n",
       "    </tr>\n",
       "    <tr>\n",
       "      <td>1</td>\n",
       "      <td>23-csves/524.csv</td>\n",
       "      <td>190</td>\n",
       "      <td>NaN</td>\n",
       "      <td>IGMP</td>\n",
       "      <td>ICMP6</td>\n",
       "      <td>0.0000</td>\n",
       "      <td>0.0000</td>\n",
       "      <td>0.000</td>\n",
       "      <td>535.268</td>\n",
       "      <td>130.816</td>\n",
       "      <td>...</td>\n",
       "      <td>0</td>\n",
       "      <td>34560.0</td>\n",
       "      <td>1900.0</td>\n",
       "      <td>1.00</td>\n",
       "      <td>1.0</td>\n",
       "      <td>1.0</td>\n",
       "      <td>32.0</td>\n",
       "      <td>32.0</td>\n",
       "      <td>32.00</td>\n",
       "      <td>Malign</td>\n",
       "    </tr>\n",
       "    <tr>\n",
       "      <td>2</td>\n",
       "      <td>80-csves/2882.csv</td>\n",
       "      <td>6</td>\n",
       "      <td>TCP</td>\n",
       "      <td>NaN</td>\n",
       "      <td>NaN</td>\n",
       "      <td>0.0045</td>\n",
       "      <td>0.0185</td>\n",
       "      <td>95.458</td>\n",
       "      <td>254.579</td>\n",
       "      <td>127.271</td>\n",
       "      <td>...</td>\n",
       "      <td>443</td>\n",
       "      <td>52330.0</td>\n",
       "      <td>52331.0</td>\n",
       "      <td>3.75</td>\n",
       "      <td>6.5</td>\n",
       "      <td>8.5</td>\n",
       "      <td>263.5</td>\n",
       "      <td>665.0</td>\n",
       "      <td>2367.75</td>\n",
       "      <td>Malign</td>\n",
       "    </tr>\n",
       "    <tr>\n",
       "      <td>3</td>\n",
       "      <td>1-csves/4548.csv</td>\n",
       "      <td>316</td>\n",
       "      <td>NaN</td>\n",
       "      <td>UDP</td>\n",
       "      <td>IGMP</td>\n",
       "      <td>0.0000</td>\n",
       "      <td>0.0000</td>\n",
       "      <td>0.000</td>\n",
       "      <td>42.548</td>\n",
       "      <td>3.030</td>\n",
       "      <td>...</td>\n",
       "      <td>0</td>\n",
       "      <td>137.0</td>\n",
       "      <td>5355.0</td>\n",
       "      <td>1.00</td>\n",
       "      <td>1.0</td>\n",
       "      <td>1.0</td>\n",
       "      <td>32.0</td>\n",
       "      <td>32.0</td>\n",
       "      <td>32.00</td>\n",
       "      <td>Malign</td>\n",
       "    </tr>\n",
       "    <tr>\n",
       "      <td>4</td>\n",
       "      <td>5-csves/1348.csv</td>\n",
       "      <td>222</td>\n",
       "      <td>NaN</td>\n",
       "      <td>ICMP6</td>\n",
       "      <td>IGMP</td>\n",
       "      <td>0.0000</td>\n",
       "      <td>0.0000</td>\n",
       "      <td>0.000</td>\n",
       "      <td>0.000</td>\n",
       "      <td>0.000</td>\n",
       "      <td>...</td>\n",
       "      <td>0</td>\n",
       "      <td>34560.0</td>\n",
       "      <td>34304.0</td>\n",
       "      <td>1.00</td>\n",
       "      <td>1.0</td>\n",
       "      <td>1.0</td>\n",
       "      <td>32.0</td>\n",
       "      <td>32.0</td>\n",
       "      <td>32.00</td>\n",
       "      <td>Malign</td>\n",
       "    </tr>\n",
       "  </tbody>\n",
       "</table>\n",
       "<p>5 rows × 31 columns</p>\n",
       "</div>"
      ],
      "text/plain": [
       "                Name  Netflows First_Protocol Second_Protocol Third_Protocol  \\\n",
       "0   32-csves/837.csv       111            NaN            IGMP          ICMP6   \n",
       "1   23-csves/524.csv       190            NaN            IGMP          ICMP6   \n",
       "2  80-csves/2882.csv         6            TCP             NaN            NaN   \n",
       "3   1-csves/4548.csv       316            NaN             UDP           IGMP   \n",
       "4   5-csves/1348.csv       222            NaN           ICMP6           IGMP   \n",
       "\n",
       "     p1_d    p2_d    p3_d  duration    max_d  ...  first_dp  second_dp  \\\n",
       "0  0.0000  0.0000   0.000     0.000    0.000  ...         0    34304.0   \n",
       "1  0.0000  0.0000   0.000   535.268  130.816  ...         0    34560.0   \n",
       "2  0.0045  0.0185  95.458   254.579  127.271  ...       443    52330.0   \n",
       "3  0.0000  0.0000   0.000    42.548    3.030  ...         0      137.0   \n",
       "4  0.0000  0.0000   0.000     0.000    0.000  ...         0    34560.0   \n",
       "\n",
       "   third_dp  p1_ip  p2_ip  p3_ip  p1_ib  p2_ib    p3_ib    Type  \n",
       "0       NaN   1.00    1.0    1.0   32.0   32.0    32.00  Malign  \n",
       "1    1900.0   1.00    1.0    1.0   32.0   32.0    32.00  Malign  \n",
       "2   52331.0   3.75    6.5    8.5  263.5  665.0  2367.75  Malign  \n",
       "3    5355.0   1.00    1.0    1.0   32.0   32.0    32.00  Malign  \n",
       "4   34304.0   1.00    1.0    1.0   32.0   32.0    32.00  Malign  \n",
       "\n",
       "[5 rows x 31 columns]"
      ]
     },
     "execution_count": 50,
     "metadata": {},
     "output_type": "execute_result"
    }
   ],
   "source": [
    "m.head()"
   ]
  },
  {
   "cell_type": "code",
   "execution_count": 51,
   "metadata": {},
   "outputs": [
    {
     "data": {
      "text/plain": [
       "(64544, 31)"
      ]
     },
     "execution_count": 51,
     "metadata": {},
     "output_type": "execute_result"
    }
   ],
   "source": [
    "#m = m.sample(b.shape[0])\n",
    "m.shape"
   ]
  },
  {
   "cell_type": "code",
   "execution_count": 52,
   "metadata": {},
   "outputs": [
    {
     "data": {
      "text/plain": [
       "Index(['Name', 'Netflows', 'First_Protocol', 'Second_Protocol',\n",
       "       'Third_Protocol', 'p1_d', 'p2_d', 'p3_d', 'duration', 'max_d', 'min_d',\n",
       "       'packets', 'Avg_bps', 'Avg_pps', 'Avg_bpp', 'Bytes', 'number_sp',\n",
       "       'number_dp', 'first_sp', 'second_sp', 'third_sp', 'first_dp',\n",
       "       'second_dp', 'third_dp', 'p1_ip', 'p2_ip', 'p3_ip', 'p1_ib', 'p2_ib',\n",
       "       'p3_ib', 'Type'],\n",
       "      dtype='object')"
      ]
     },
     "execution_count": 52,
     "metadata": {},
     "output_type": "execute_result"
    }
   ],
   "source": [
    "m.columns"
   ]
  },
  {
   "cell_type": "code",
   "execution_count": 53,
   "metadata": {},
   "outputs": [],
   "source": [
    "frames = [b,m]"
   ]
  },
  {
   "cell_type": "code",
   "execution_count": 54,
   "metadata": {
    "scrolled": false
   },
   "outputs": [
    {
     "data": {
      "text/html": [
       "<div>\n",
       "<style scoped>\n",
       "    .dataframe tbody tr th:only-of-type {\n",
       "        vertical-align: middle;\n",
       "    }\n",
       "\n",
       "    .dataframe tbody tr th {\n",
       "        vertical-align: top;\n",
       "    }\n",
       "\n",
       "    .dataframe thead th {\n",
       "        text-align: right;\n",
       "    }\n",
       "</style>\n",
       "<table border=\"1\" class=\"dataframe\">\n",
       "  <thead>\n",
       "    <tr style=\"text-align: right;\">\n",
       "      <th></th>\n",
       "      <th>Name</th>\n",
       "      <th>Netflows</th>\n",
       "      <th>First_Protocol</th>\n",
       "      <th>Second_Protocol</th>\n",
       "      <th>Third_Protocol</th>\n",
       "      <th>p1_d</th>\n",
       "      <th>p2_d</th>\n",
       "      <th>p3_d</th>\n",
       "      <th>duration</th>\n",
       "      <th>max_d</th>\n",
       "      <th>...</th>\n",
       "      <th>first_dp</th>\n",
       "      <th>second_dp</th>\n",
       "      <th>third_dp</th>\n",
       "      <th>p1_ip</th>\n",
       "      <th>p2_ip</th>\n",
       "      <th>p3_ip</th>\n",
       "      <th>p1_ib</th>\n",
       "      <th>p2_ib</th>\n",
       "      <th>p3_ib</th>\n",
       "      <th>Type</th>\n",
       "    </tr>\n",
       "  </thead>\n",
       "  <tbody>\n",
       "    <tr>\n",
       "      <td>0</td>\n",
       "      <td>23-csves/0.csv</td>\n",
       "      <td>194</td>\n",
       "      <td>UDP</td>\n",
       "      <td>TCP</td>\n",
       "      <td>IGMP</td>\n",
       "      <td>0.0</td>\n",
       "      <td>0.000</td>\n",
       "      <td>10.20150</td>\n",
       "      <td>10324.970</td>\n",
       "      <td>299.971</td>\n",
       "      <td>...</td>\n",
       "      <td>443</td>\n",
       "      <td>1900.0</td>\n",
       "      <td>52122.0</td>\n",
       "      <td>1.0</td>\n",
       "      <td>1.0</td>\n",
       "      <td>9.0</td>\n",
       "      <td>40.25</td>\n",
       "      <td>97.5</td>\n",
       "      <td>1074.50</td>\n",
       "      <td>Benign</td>\n",
       "    </tr>\n",
       "    <tr>\n",
       "      <td>1</td>\n",
       "      <td>23-csves/1.csv</td>\n",
       "      <td>166</td>\n",
       "      <td>UDP</td>\n",
       "      <td>TCP</td>\n",
       "      <td>IGMP</td>\n",
       "      <td>0.0</td>\n",
       "      <td>0.033</td>\n",
       "      <td>124.86375</td>\n",
       "      <td>11250.986</td>\n",
       "      <td>284.470</td>\n",
       "      <td>...</td>\n",
       "      <td>443</td>\n",
       "      <td>52122.0</td>\n",
       "      <td>1900.0</td>\n",
       "      <td>1.0</td>\n",
       "      <td>2.0</td>\n",
       "      <td>10.0</td>\n",
       "      <td>37.00</td>\n",
       "      <td>136.5</td>\n",
       "      <td>1304.75</td>\n",
       "      <td>Benign</td>\n",
       "    </tr>\n",
       "    <tr>\n",
       "      <td>2</td>\n",
       "      <td>23-csves/2.csv</td>\n",
       "      <td>161</td>\n",
       "      <td>UDP</td>\n",
       "      <td>TCP</td>\n",
       "      <td>IGMP</td>\n",
       "      <td>0.0</td>\n",
       "      <td>0.000</td>\n",
       "      <td>15.16900</td>\n",
       "      <td>9879.502</td>\n",
       "      <td>299.979</td>\n",
       "      <td>...</td>\n",
       "      <td>443</td>\n",
       "      <td>1900.0</td>\n",
       "      <td>52122.0</td>\n",
       "      <td>1.0</td>\n",
       "      <td>1.0</td>\n",
       "      <td>10.0</td>\n",
       "      <td>37.00</td>\n",
       "      <td>133.0</td>\n",
       "      <td>1084.00</td>\n",
       "      <td>Benign</td>\n",
       "    </tr>\n",
       "    <tr>\n",
       "      <td>3</td>\n",
       "      <td>23-csves/3.csv</td>\n",
       "      <td>263</td>\n",
       "      <td>UDP</td>\n",
       "      <td>TCP</td>\n",
       "      <td>ICMP</td>\n",
       "      <td>0.0</td>\n",
       "      <td>0.000</td>\n",
       "      <td>7.30350</td>\n",
       "      <td>11424.463</td>\n",
       "      <td>299.994</td>\n",
       "      <td>...</td>\n",
       "      <td>443</td>\n",
       "      <td>1900.0</td>\n",
       "      <td>0.0</td>\n",
       "      <td>1.0</td>\n",
       "      <td>1.0</td>\n",
       "      <td>10.0</td>\n",
       "      <td>40.00</td>\n",
       "      <td>100.0</td>\n",
       "      <td>1152.50</td>\n",
       "      <td>Benign</td>\n",
       "    </tr>\n",
       "    <tr>\n",
       "      <td>4</td>\n",
       "      <td>23-csves/4.csv</td>\n",
       "      <td>177</td>\n",
       "      <td>UDP</td>\n",
       "      <td>TCP</td>\n",
       "      <td>IGMP</td>\n",
       "      <td>0.0</td>\n",
       "      <td>0.000</td>\n",
       "      <td>65.46600</td>\n",
       "      <td>10823.177</td>\n",
       "      <td>299.989</td>\n",
       "      <td>...</td>\n",
       "      <td>443</td>\n",
       "      <td>52122.0</td>\n",
       "      <td>1900.0</td>\n",
       "      <td>1.0</td>\n",
       "      <td>2.0</td>\n",
       "      <td>10.0</td>\n",
       "      <td>37.00</td>\n",
       "      <td>126.0</td>\n",
       "      <td>1104.00</td>\n",
       "      <td>Benign</td>\n",
       "    </tr>\n",
       "  </tbody>\n",
       "</table>\n",
       "<p>5 rows × 31 columns</p>\n",
       "</div>"
      ],
      "text/plain": [
       "             Name  Netflows First_Protocol Second_Protocol Third_Protocol  \\\n",
       "0  23-csves/0.csv       194            UDP             TCP           IGMP   \n",
       "1  23-csves/1.csv       166            UDP             TCP           IGMP   \n",
       "2  23-csves/2.csv       161            UDP             TCP           IGMP   \n",
       "3  23-csves/3.csv       263            UDP             TCP           ICMP   \n",
       "4  23-csves/4.csv       177            UDP             TCP           IGMP   \n",
       "\n",
       "   p1_d   p2_d       p3_d   duration    max_d  ...  first_dp  second_dp  \\\n",
       "0   0.0  0.000   10.20150  10324.970  299.971  ...       443     1900.0   \n",
       "1   0.0  0.033  124.86375  11250.986  284.470  ...       443    52122.0   \n",
       "2   0.0  0.000   15.16900   9879.502  299.979  ...       443     1900.0   \n",
       "3   0.0  0.000    7.30350  11424.463  299.994  ...       443     1900.0   \n",
       "4   0.0  0.000   65.46600  10823.177  299.989  ...       443    52122.0   \n",
       "\n",
       "   third_dp  p1_ip  p2_ip  p3_ip  p1_ib  p2_ib    p3_ib    Type  \n",
       "0   52122.0    1.0    1.0    9.0  40.25   97.5  1074.50  Benign  \n",
       "1    1900.0    1.0    2.0   10.0  37.00  136.5  1304.75  Benign  \n",
       "2   52122.0    1.0    1.0   10.0  37.00  133.0  1084.00  Benign  \n",
       "3       0.0    1.0    1.0   10.0  40.00  100.0  1152.50  Benign  \n",
       "4    1900.0    1.0    2.0   10.0  37.00  126.0  1104.00  Benign  \n",
       "\n",
       "[5 rows x 31 columns]"
      ]
     },
     "execution_count": 54,
     "metadata": {},
     "output_type": "execute_result"
    }
   ],
   "source": [
    "test_dataset = pd.concat(frames)\n",
    "test_dataset.head()"
   ]
  },
  {
   "cell_type": "code",
   "execution_count": 55,
   "metadata": {},
   "outputs": [
    {
     "data": {
      "text/plain": [
       "(65177, 31)"
      ]
     },
     "execution_count": 55,
     "metadata": {},
     "output_type": "execute_result"
    }
   ],
   "source": [
    "test_dataset.shape"
   ]
  },
  {
   "cell_type": "markdown",
   "metadata": {},
   "source": [
    "---"
   ]
  },
  {
   "cell_type": "code",
   "execution_count": 56,
   "metadata": {},
   "outputs": [],
   "source": [
    "le = joblib.load('./Tools/label_encoder.joblib')"
   ]
  },
  {
   "cell_type": "code",
   "execution_count": 57,
   "metadata": {},
   "outputs": [
    {
     "data": {
      "text/plain": [
       "array(['Benign', 'Malign'], dtype=object)"
      ]
     },
     "execution_count": 57,
     "metadata": {},
     "output_type": "execute_result"
    }
   ],
   "source": [
    "test_dataset.Type.unique()"
   ]
  },
  {
   "cell_type": "code",
   "execution_count": 58,
   "metadata": {},
   "outputs": [],
   "source": [
    "test_dataset.Type = le.fit_transform(test_dataset.Type)"
   ]
  },
  {
   "cell_type": "code",
   "execution_count": 59,
   "metadata": {},
   "outputs": [
    {
     "data": {
      "text/plain": [
       "array([0, 1], dtype=int64)"
      ]
     },
     "execution_count": 59,
     "metadata": {},
     "output_type": "execute_result"
    }
   ],
   "source": [
    "test_dataset.Type.unique()"
   ]
  },
  {
   "cell_type": "code",
   "execution_count": 60,
   "metadata": {},
   "outputs": [],
   "source": [
    "types = test_dataset.Type"
   ]
  },
  {
   "cell_type": "markdown",
   "metadata": {},
   "source": [
    "---"
   ]
  },
  {
   "cell_type": "code",
   "execution_count": 61,
   "metadata": {},
   "outputs": [],
   "source": [
    "test_dataset = test_dataset.drop(['Name','Type','Third_Protocol','p1_d','max_d','min_d','packets','Avg_pps'\n",
    "                                           ,'Avg_bpp','second_sp','third_sp','first_dp','second_dp','third_dp'\n",
    "                                           ,'p1_ip','p2_ip','p3_ip','Second_Protocol','Netflows'], axis=1)"
   ]
  },
  {
   "cell_type": "markdown",
   "metadata": {},
   "source": [
    "--"
   ]
  },
  {
   "cell_type": "code",
   "execution_count": 62,
   "metadata": {},
   "outputs": [
    {
     "data": {
      "text/plain": [
       "First_Protocol     object\n",
       "p2_d              float64\n",
       "p3_d              float64\n",
       "duration          float64\n",
       "Avg_bps             int64\n",
       "Bytes               int64\n",
       "number_sp           int64\n",
       "number_dp           int64\n",
       "first_sp            int64\n",
       "p1_ib             float64\n",
       "p2_ib             float64\n",
       "p3_ib             float64\n",
       "dtype: object"
      ]
     },
     "execution_count": 62,
     "metadata": {},
     "output_type": "execute_result"
    }
   ],
   "source": [
    "test_dataset.dtypes"
   ]
  },
  {
   "cell_type": "code",
   "execution_count": 63,
   "metadata": {},
   "outputs": [],
   "source": [
    "test_dataset['First_Protocol'] = test_dataset['First_Protocol'].replace(np.nan,\"None\",regex=True)"
   ]
  },
  {
   "cell_type": "markdown",
   "metadata": {},
   "source": [
    "---"
   ]
  },
  {
   "cell_type": "markdown",
   "metadata": {},
   "source": [
    "First_Protocol"
   ]
  },
  {
   "cell_type": "code",
   "execution_count": 64,
   "metadata": {},
   "outputs": [
    {
     "data": {
      "text/plain": [
       "array(['UDP', 'TCP', 'ICMP', 'None', 'ICMP6', 'IGMP'], dtype=object)"
      ]
     },
     "execution_count": 64,
     "metadata": {},
     "output_type": "execute_result"
    }
   ],
   "source": [
    "test_dataset.First_Protocol.unique()"
   ]
  },
  {
   "cell_type": "code",
   "execution_count": 65,
   "metadata": {},
   "outputs": [],
   "source": [
    "test_dataset.First_Protocol = le.fit_transform(test_dataset.First_Protocol)"
   ]
  },
  {
   "cell_type": "code",
   "execution_count": 66,
   "metadata": {},
   "outputs": [
    {
     "data": {
      "text/plain": [
       "array([5, 4, 0, 3, 1, 2], dtype=int64)"
      ]
     },
     "execution_count": 66,
     "metadata": {},
     "output_type": "execute_result"
    }
   ],
   "source": [
    "test_dataset.First_Protocol.unique()"
   ]
  },
  {
   "cell_type": "code",
   "execution_count": 67,
   "metadata": {},
   "outputs": [
    {
     "data": {
      "text/html": [
       "<div>\n",
       "<style scoped>\n",
       "    .dataframe tbody tr th:only-of-type {\n",
       "        vertical-align: middle;\n",
       "    }\n",
       "\n",
       "    .dataframe tbody tr th {\n",
       "        vertical-align: top;\n",
       "    }\n",
       "\n",
       "    .dataframe thead th {\n",
       "        text-align: right;\n",
       "    }\n",
       "</style>\n",
       "<table border=\"1\" class=\"dataframe\">\n",
       "  <thead>\n",
       "    <tr style=\"text-align: right;\">\n",
       "      <th></th>\n",
       "      <th>First_Protocol</th>\n",
       "      <th>p2_d</th>\n",
       "      <th>p3_d</th>\n",
       "      <th>duration</th>\n",
       "      <th>Avg_bps</th>\n",
       "      <th>Bytes</th>\n",
       "      <th>number_sp</th>\n",
       "      <th>number_dp</th>\n",
       "      <th>first_sp</th>\n",
       "      <th>p1_ib</th>\n",
       "      <th>p2_ib</th>\n",
       "      <th>p3_ib</th>\n",
       "    </tr>\n",
       "  </thead>\n",
       "  <tbody>\n",
       "    <tr>\n",
       "      <td>0</td>\n",
       "      <td>5</td>\n",
       "      <td>0.000</td>\n",
       "      <td>10.20150</td>\n",
       "      <td>10324.970</td>\n",
       "      <td>88875</td>\n",
       "      <td>3332537</td>\n",
       "      <td>61</td>\n",
       "      <td>56</td>\n",
       "      <td>443</td>\n",
       "      <td>40.25</td>\n",
       "      <td>97.5</td>\n",
       "      <td>1074.50</td>\n",
       "    </tr>\n",
       "    <tr>\n",
       "      <td>1</td>\n",
       "      <td>5</td>\n",
       "      <td>0.033</td>\n",
       "      <td>124.86375</td>\n",
       "      <td>11250.986</td>\n",
       "      <td>176077</td>\n",
       "      <td>6261090</td>\n",
       "      <td>55</td>\n",
       "      <td>55</td>\n",
       "      <td>443</td>\n",
       "      <td>37.00</td>\n",
       "      <td>136.5</td>\n",
       "      <td>1304.75</td>\n",
       "    </tr>\n",
       "    <tr>\n",
       "      <td>2</td>\n",
       "      <td>5</td>\n",
       "      <td>0.000</td>\n",
       "      <td>15.16900</td>\n",
       "      <td>9879.502</td>\n",
       "      <td>89980</td>\n",
       "      <td>3374150</td>\n",
       "      <td>50</td>\n",
       "      <td>46</td>\n",
       "      <td>443</td>\n",
       "      <td>37.00</td>\n",
       "      <td>133.0</td>\n",
       "      <td>1084.00</td>\n",
       "    </tr>\n",
       "    <tr>\n",
       "      <td>3</td>\n",
       "      <td>5</td>\n",
       "      <td>0.000</td>\n",
       "      <td>7.30350</td>\n",
       "      <td>11424.463</td>\n",
       "      <td>234415</td>\n",
       "      <td>8790397</td>\n",
       "      <td>78</td>\n",
       "      <td>76</td>\n",
       "      <td>443</td>\n",
       "      <td>40.00</td>\n",
       "      <td>100.0</td>\n",
       "      <td>1152.50</td>\n",
       "    </tr>\n",
       "    <tr>\n",
       "      <td>4</td>\n",
       "      <td>5</td>\n",
       "      <td>0.000</td>\n",
       "      <td>65.46600</td>\n",
       "      <td>10823.177</td>\n",
       "      <td>101438</td>\n",
       "      <td>3803807</td>\n",
       "      <td>60</td>\n",
       "      <td>55</td>\n",
       "      <td>443</td>\n",
       "      <td>37.00</td>\n",
       "      <td>126.0</td>\n",
       "      <td>1104.00</td>\n",
       "    </tr>\n",
       "  </tbody>\n",
       "</table>\n",
       "</div>"
      ],
      "text/plain": [
       "   First_Protocol   p2_d       p3_d   duration  Avg_bps    Bytes  number_sp  \\\n",
       "0               5  0.000   10.20150  10324.970    88875  3332537         61   \n",
       "1               5  0.033  124.86375  11250.986   176077  6261090         55   \n",
       "2               5  0.000   15.16900   9879.502    89980  3374150         50   \n",
       "3               5  0.000    7.30350  11424.463   234415  8790397         78   \n",
       "4               5  0.000   65.46600  10823.177   101438  3803807         60   \n",
       "\n",
       "   number_dp  first_sp  p1_ib  p2_ib    p3_ib  \n",
       "0         56       443  40.25   97.5  1074.50  \n",
       "1         55       443  37.00  136.5  1304.75  \n",
       "2         46       443  37.00  133.0  1084.00  \n",
       "3         76       443  40.00  100.0  1152.50  \n",
       "4         55       443  37.00  126.0  1104.00  "
      ]
     },
     "execution_count": 67,
     "metadata": {},
     "output_type": "execute_result"
    }
   ],
   "source": [
    "test_dataset.head()"
   ]
  },
  {
   "cell_type": "markdown",
   "metadata": {},
   "source": [
    "---"
   ]
  },
  {
   "cell_type": "code",
   "execution_count": 68,
   "metadata": {},
   "outputs": [],
   "source": [
    "scaler = joblib.load(\"./Tools/scalerExp1.save\") "
   ]
  },
  {
   "cell_type": "code",
   "execution_count": 69,
   "metadata": {},
   "outputs": [],
   "source": [
    "test_dataset[['p2_d', 'p3_d','duration', 'Avg_bps', 'Bytes', 'number_sp', 'number_dp','p1_ib', 'p3_ib','p2_ib']] = scaler.transform(test_dataset[['p2_d', 'p3_d',\n",
    "       'duration', 'Avg_bps', 'Bytes', 'number_sp', 'number_dp','p1_ib', 'p3_ib','p2_ib']])"
   ]
  },
  {
   "cell_type": "code",
   "execution_count": 70,
   "metadata": {},
   "outputs": [
    {
     "data": {
      "text/html": [
       "<div>\n",
       "<style scoped>\n",
       "    .dataframe tbody tr th:only-of-type {\n",
       "        vertical-align: middle;\n",
       "    }\n",
       "\n",
       "    .dataframe tbody tr th {\n",
       "        vertical-align: top;\n",
       "    }\n",
       "\n",
       "    .dataframe thead th {\n",
       "        text-align: right;\n",
       "    }\n",
       "</style>\n",
       "<table border=\"1\" class=\"dataframe\">\n",
       "  <thead>\n",
       "    <tr style=\"text-align: right;\">\n",
       "      <th></th>\n",
       "      <th>First_Protocol</th>\n",
       "      <th>p2_d</th>\n",
       "      <th>p3_d</th>\n",
       "      <th>duration</th>\n",
       "      <th>Avg_bps</th>\n",
       "      <th>Bytes</th>\n",
       "      <th>number_sp</th>\n",
       "      <th>number_dp</th>\n",
       "      <th>first_sp</th>\n",
       "      <th>p1_ib</th>\n",
       "      <th>p2_ib</th>\n",
       "      <th>p3_ib</th>\n",
       "    </tr>\n",
       "  </thead>\n",
       "  <tbody>\n",
       "    <tr>\n",
       "      <td>0</td>\n",
       "      <td>5</td>\n",
       "      <td>0.0000</td>\n",
       "      <td>10.20150</td>\n",
       "      <td>20.304674</td>\n",
       "      <td>184.749478</td>\n",
       "      <td>197.077046</td>\n",
       "      <td>6.111111</td>\n",
       "      <td>8.333333</td>\n",
       "      <td>443</td>\n",
       "      <td>8.25</td>\n",
       "      <td>65.5</td>\n",
       "      <td>27.434211</td>\n",
       "    </tr>\n",
       "    <tr>\n",
       "      <td>1</td>\n",
       "      <td>5</td>\n",
       "      <td>0.0330</td>\n",
       "      <td>124.86375</td>\n",
       "      <td>22.137448</td>\n",
       "      <td>366.799582</td>\n",
       "      <td>370.909361</td>\n",
       "      <td>5.444444</td>\n",
       "      <td>8.166667</td>\n",
       "      <td>443</td>\n",
       "      <td>5.00</td>\n",
       "      <td>104.5</td>\n",
       "      <td>33.493421</td>\n",
       "    </tr>\n",
       "    <tr>\n",
       "      <td>2</td>\n",
       "      <td>5</td>\n",
       "      <td>0.0000</td>\n",
       "      <td>15.16900</td>\n",
       "      <td>19.423003</td>\n",
       "      <td>187.056367</td>\n",
       "      <td>199.547100</td>\n",
       "      <td>4.888889</td>\n",
       "      <td>6.666667</td>\n",
       "      <td>443</td>\n",
       "      <td>5.00</td>\n",
       "      <td>101.0</td>\n",
       "      <td>27.684211</td>\n",
       "    </tr>\n",
       "    <tr>\n",
       "      <td>3</td>\n",
       "      <td>5</td>\n",
       "      <td>0.0000</td>\n",
       "      <td>7.30350</td>\n",
       "      <td>22.480794</td>\n",
       "      <td>488.590814</td>\n",
       "      <td>521.043331</td>\n",
       "      <td>8.000000</td>\n",
       "      <td>11.666667</td>\n",
       "      <td>443</td>\n",
       "      <td>8.00</td>\n",
       "      <td>68.0</td>\n",
       "      <td>29.486842</td>\n",
       "    </tr>\n",
       "    <tr>\n",
       "      <td>4</td>\n",
       "      <td>5</td>\n",
       "      <td>0.0000</td>\n",
       "      <td>65.46600</td>\n",
       "      <td>21.290727</td>\n",
       "      <td>210.977035</td>\n",
       "      <td>225.050573</td>\n",
       "      <td>6.000000</td>\n",
       "      <td>8.166667</td>\n",
       "      <td>443</td>\n",
       "      <td>5.00</td>\n",
       "      <td>94.0</td>\n",
       "      <td>28.210526</td>\n",
       "    </tr>\n",
       "    <tr>\n",
       "      <td>...</td>\n",
       "      <td>...</td>\n",
       "      <td>...</td>\n",
       "      <td>...</td>\n",
       "      <td>...</td>\n",
       "      <td>...</td>\n",
       "      <td>...</td>\n",
       "      <td>...</td>\n",
       "      <td>...</td>\n",
       "      <td>...</td>\n",
       "      <td>...</td>\n",
       "      <td>...</td>\n",
       "      <td>...</td>\n",
       "    </tr>\n",
       "    <tr>\n",
       "      <td>64539</td>\n",
       "      <td>3</td>\n",
       "      <td>0.0000</td>\n",
       "      <td>0.00000</td>\n",
       "      <td>0.987670</td>\n",
       "      <td>0.045929</td>\n",
       "      <td>-0.085594</td>\n",
       "      <td>0.222222</td>\n",
       "      <td>0.500000</td>\n",
       "      <td>0</td>\n",
       "      <td>0.00</td>\n",
       "      <td>0.0</td>\n",
       "      <td>0.000000</td>\n",
       "    </tr>\n",
       "    <tr>\n",
       "      <td>64540</td>\n",
       "      <td>4</td>\n",
       "      <td>0.0005</td>\n",
       "      <td>1.03500</td>\n",
       "      <td>0.385994</td>\n",
       "      <td>-0.231733</td>\n",
       "      <td>-0.210126</td>\n",
       "      <td>0.000000</td>\n",
       "      <td>0.500000</td>\n",
       "      <td>0</td>\n",
       "      <td>28.00</td>\n",
       "      <td>28.0</td>\n",
       "      <td>11.434211</td>\n",
       "    </tr>\n",
       "    <tr>\n",
       "      <td>64541</td>\n",
       "      <td>4</td>\n",
       "      <td>0.0145</td>\n",
       "      <td>1.02450</td>\n",
       "      <td>0.384998</td>\n",
       "      <td>-0.250522</td>\n",
       "      <td>-0.207990</td>\n",
       "      <td>0.000000</td>\n",
       "      <td>0.833333</td>\n",
       "      <td>0</td>\n",
       "      <td>28.00</td>\n",
       "      <td>28.0</td>\n",
       "      <td>6.723684</td>\n",
       "    </tr>\n",
       "    <tr>\n",
       "      <td>64542</td>\n",
       "      <td>3</td>\n",
       "      <td>0.0000</td>\n",
       "      <td>0.00000</td>\n",
       "      <td>-0.105650</td>\n",
       "      <td>1.584551</td>\n",
       "      <td>1.192141</td>\n",
       "      <td>1.111111</td>\n",
       "      <td>1.000000</td>\n",
       "      <td>0</td>\n",
       "      <td>0.00</td>\n",
       "      <td>0.0</td>\n",
       "      <td>0.000000</td>\n",
       "    </tr>\n",
       "    <tr>\n",
       "      <td>64543</td>\n",
       "      <td>4</td>\n",
       "      <td>0.0255</td>\n",
       "      <td>0.23225</td>\n",
       "      <td>-0.004786</td>\n",
       "      <td>-0.141962</td>\n",
       "      <td>-0.107616</td>\n",
       "      <td>0.777778</td>\n",
       "      <td>1.166667</td>\n",
       "      <td>8080</td>\n",
       "      <td>56.50</td>\n",
       "      <td>559.5</td>\n",
       "      <td>19.789474</td>\n",
       "    </tr>\n",
       "  </tbody>\n",
       "</table>\n",
       "<p>65177 rows × 12 columns</p>\n",
       "</div>"
      ],
      "text/plain": [
       "       First_Protocol    p2_d       p3_d   duration     Avg_bps       Bytes  \\\n",
       "0                   5  0.0000   10.20150  20.304674  184.749478  197.077046   \n",
       "1                   5  0.0330  124.86375  22.137448  366.799582  370.909361   \n",
       "2                   5  0.0000   15.16900  19.423003  187.056367  199.547100   \n",
       "3                   5  0.0000    7.30350  22.480794  488.590814  521.043331   \n",
       "4                   5  0.0000   65.46600  21.290727  210.977035  225.050573   \n",
       "...               ...     ...        ...        ...         ...         ...   \n",
       "64539               3  0.0000    0.00000   0.987670    0.045929   -0.085594   \n",
       "64540               4  0.0005    1.03500   0.385994   -0.231733   -0.210126   \n",
       "64541               4  0.0145    1.02450   0.384998   -0.250522   -0.207990   \n",
       "64542               3  0.0000    0.00000  -0.105650    1.584551    1.192141   \n",
       "64543               4  0.0255    0.23225  -0.004786   -0.141962   -0.107616   \n",
       "\n",
       "       number_sp  number_dp  first_sp  p1_ib  p2_ib      p3_ib  \n",
       "0       6.111111   8.333333       443   8.25   65.5  27.434211  \n",
       "1       5.444444   8.166667       443   5.00  104.5  33.493421  \n",
       "2       4.888889   6.666667       443   5.00  101.0  27.684211  \n",
       "3       8.000000  11.666667       443   8.00   68.0  29.486842  \n",
       "4       6.000000   8.166667       443   5.00   94.0  28.210526  \n",
       "...          ...        ...       ...    ...    ...        ...  \n",
       "64539   0.222222   0.500000         0   0.00    0.0   0.000000  \n",
       "64540   0.000000   0.500000         0  28.00   28.0  11.434211  \n",
       "64541   0.000000   0.833333         0  28.00   28.0   6.723684  \n",
       "64542   1.111111   1.000000         0   0.00    0.0   0.000000  \n",
       "64543   0.777778   1.166667      8080  56.50  559.5  19.789474  \n",
       "\n",
       "[65177 rows x 12 columns]"
      ]
     },
     "execution_count": 70,
     "metadata": {},
     "output_type": "execute_result"
    }
   ],
   "source": [
    "test_dataset"
   ]
  },
  {
   "cell_type": "code",
   "execution_count": 71,
   "metadata": {},
   "outputs": [
    {
     "data": {
      "text/plain": [
       "RandomForestClassifier(bootstrap=True, class_weight=None, criterion='gini',\n",
       "                       max_depth=None, max_features='auto', max_leaf_nodes=None,\n",
       "                       min_impurity_decrease=0.0, min_impurity_split=None,\n",
       "                       min_samples_leaf=1, min_samples_split=2,\n",
       "                       min_weight_fraction_leaf=0.0, n_estimators=10,\n",
       "                       n_jobs=None, oob_score=False, random_state=None,\n",
       "                       verbose=0, warm_start=False)"
      ]
     },
     "execution_count": 71,
     "metadata": {},
     "output_type": "execute_result"
    }
   ],
   "source": [
    "clf"
   ]
  },
  {
   "cell_type": "code",
   "execution_count": 72,
   "metadata": {},
   "outputs": [],
   "source": [
    "y_pred= clf.predict(test_dataset)"
   ]
  },
  {
   "cell_type": "code",
   "execution_count": 73,
   "metadata": {},
   "outputs": [
    {
     "data": {
      "text/plain": [
       "{0: 621, 1: 64556}"
      ]
     },
     "execution_count": 73,
     "metadata": {},
     "output_type": "execute_result"
    }
   ],
   "source": [
    "y_pred\n",
    "unique, counts = np.unique(y_pred, return_counts=True)\n",
    "dict(zip(unique, counts))"
   ]
  },
  {
   "cell_type": "code",
   "execution_count": 74,
   "metadata": {},
   "outputs": [
    {
     "data": {
      "text/plain": [
       "array([0, 0, 0, ..., 1, 1, 1], dtype=int64)"
      ]
     },
     "execution_count": 74,
     "metadata": {},
     "output_type": "execute_result"
    }
   ],
   "source": [
    "y_pred"
   ]
  },
  {
   "cell_type": "code",
   "execution_count": 75,
   "metadata": {},
   "outputs": [],
   "source": [
    "types = types.astype(np.int64)"
   ]
  },
  {
   "cell_type": "code",
   "execution_count": 76,
   "metadata": {},
   "outputs": [
    {
     "data": {
      "text/plain": [
       "([<matplotlib.axis.YTick at 0x2940ac07b08>,\n",
       "  <matplotlib.axis.YTick at 0x2940ac10248>,\n",
       "  <matplotlib.axis.YTick at 0x2940ac1ad88>],\n",
       " <a list of 2 Text yticklabel objects>)"
      ]
     },
     "execution_count": 76,
     "metadata": {},
     "output_type": "execute_result"
    },
    {
     "data": {
      "image/png": "[encoded data removed]",
      "text/plain": [
       "<Figure size 432x288 with 2 Axes>"
      ]
     },
     "metadata": {
      "needs_background": "light"
     },
     "output_type": "display_data"
    }
   ],
   "source": [
    "cm= metrics.confusion_matrix(types, y_pred)\n",
    "plt.imshow(cm, cmap=plt.cm.Blues)\n",
    "plt.title(\"Matriz de confusión\")\n",
    "plt.colorbar()\n",
    "tick_marks = np.arange(3)\n",
    "plt.xticks(tick_marks, ['0','1']) \n",
    "plt.yticks(tick_marks, ['0','1'])"
   ]
  },
  {
   "cell_type": "code",
   "execution_count": 77,
   "metadata": {},
   "outputs": [
    {
     "name": "stdout",
     "output_type": "stream",
     "text": [
      "              precision    recall  f1-score   support\n",
      "\n",
      "           0       0.99      0.97      0.98       633\n",
      "           1       1.00      1.00      1.00     64544\n",
      "\n",
      "    accuracy                           1.00     65177\n",
      "   macro avg       1.00      0.99      0.99     65177\n",
      "weighted avg       1.00      1.00      1.00     65177\n",
      "\n"
     ]
    }
   ],
   "source": [
    "target_names = ['0', '1']\n",
    "print(classification_report(types, y_pred, target_names=target_names))"
   ]
  },
  {
   "cell_type": "markdown",
   "metadata": {},
   "source": [
    "---"
   ]
  },
  {
   "cell_type": "markdown",
   "metadata": {},
   "source": [
    "## 9. Let's save the best models..."
   ]
  },
  {
   "cell_type": "code",
   "execution_count": 78,
   "metadata": {},
   "outputs": [
    {
     "data": {
      "text/plain": [
       "['./Models/clf.sav']"
      ]
     },
     "execution_count": 78,
     "metadata": {},
     "output_type": "execute_result"
    }
   ],
   "source": [
    "filename = './Models/clf.sav'\n",
    "joblib.dump(clf, filename)"
   ]
  },
  {
   "cell_type": "code",
   "execution_count": 79,
   "metadata": {},
   "outputs": [
    {
     "data": {
      "text/plain": [
       "['./Models/dtc.sav']"
      ]
     },
     "execution_count": 79,
     "metadata": {},
     "output_type": "execute_result"
    }
   ],
   "source": [
    "filename = './Models/dtc.sav'\n",
    "joblib.dump(dtc, filename)"
   ]
  },
  {
   "cell_type": "code",
   "execution_count": 80,
   "metadata": {},
   "outputs": [
    {
     "data": {
      "text/plain": [
       "['./Models/gnb.sav']"
      ]
     },
     "execution_count": 80,
     "metadata": {},
     "output_type": "execute_result"
    }
   ],
   "source": [
    "filename = './Models/gnb.sav'\n",
    "joblib.dump(dtc, filename)"
   ]
  },
  {
   "cell_type": "markdown",
   "metadata": {},
   "source": [
    "----"
   ]
  },
  {
   "cell_type": "markdown",
   "metadata": {},
   "source": [
    "## References"
   ]
  },
  {
   "cell_type": "markdown",
   "metadata": {},
   "source": [
    "### Naive"
   ]
  },
  {
   "cell_type": "markdown",
   "metadata": {},
   "source": [
    "1. https://scikit-learn.org/stable/modules/generated/sklearn.naive_bayes.GaussianNB.html\n",
    "2. https://www.datacamp.com/community/tutorials/naive-bayes-scikit-learn\n",
    "3. https://stackoverflow.com/questions/58212613/naive-bayes-gaussian-throwing-valueerror-could-not-convert-string-to-float-m\n",
    "4. https://scikit-learn.org/stable/modules/naive_bayes.html\n",
    "5. https://scikit-learn.org/stable/modules/model_evaluation.html"
   ]
  },
  {
   "cell_type": "markdown",
   "metadata": {},
   "source": [
    "### Decision Tree"
   ]
  },
  {
   "cell_type": "markdown",
   "metadata": {},
   "source": [
    "1. https://stackoverflow.com/questions/35097003/cross-validation-decision-trees-in-sklearn\n",
    "2. https://scikit-learn.org/stable/modules/generated/sklearn.tree.DecisionTreeClassifier.html"
   ]
  },
  {
   "cell_type": "markdown",
   "metadata": {},
   "source": [
    "### Label Encoder"
   ]
  },
  {
   "cell_type": "markdown",
   "metadata": {},
   "source": [
    "1. https://www.interactivechaos.com/python/function/labelencoder"
   ]
  },
  {
   "cell_type": "markdown",
   "metadata": {},
   "source": [
    "### KNN"
   ]
  },
  {
   "cell_type": "markdown",
   "metadata": {},
   "source": [
    "1. https://medium.com/@svanillasun/how-to-deal-with-cross-validation-based-on-knn-algorithm-compute-auc-based-on-naive-bayes-ff4b8284cff4"
   ]
  }
 ],
 "metadata": {
  "kernelspec": {
   "display_name": "Python 3",
   "language": "python",
   "name": "python3"
  },
  "language_info": {
   "codemirror_mode": {
    "name": "ipython",
    "version": 3
   },
   "file_extension": ".py",
   "mimetype": "text/x-python",
   "name": "python",
   "nbconvert_exporter": "python",
   "pygments_lexer": "ipython3",
   "version": "3.7.4"
  }
 },
 "nbformat": 4,
 "nbformat_minor": 2
}
