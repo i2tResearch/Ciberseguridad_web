{
 "cells": [
  {
   "cell_type": "markdown",
   "metadata": {},
   "source": [
    "# Step 5 : Experiment 2 "
   ]
  },
  {
   "cell_type": "markdown",
   "metadata": {},
   "source": [
    "---"
   ]
  },
  {
   "cell_type": "markdown",
   "metadata": {},
   "source": [
    "## 1. Imports"
   ]
  },
  {
   "cell_type": "code",
   "execution_count": 1,
   "metadata": {},
   "outputs": [],
   "source": [
    "import warnings\n",
    "warnings.filterwarnings('ignore') "
   ]
  },
  {
   "cell_type": "code",
   "execution_count": 2,
   "metadata": {},
   "outputs": [],
   "source": [
    "import math"
   ]
  },
  {
   "cell_type": "code",
   "execution_count": 3,
   "metadata": {},
   "outputs": [],
   "source": [
    "import numpy as np #operaciones matriciales y con vectores\n",
    "import pandas as pd #tratamiento de datos\n",
    "import random\n",
    "import matplotlib.pyplot as plt #gráficos\n",
    "import seaborn as sns"
   ]
  },
  {
   "cell_type": "code",
   "execution_count": 4,
   "metadata": {},
   "outputs": [],
   "source": [
    "from sklearn.model_selection import cross_validate\n",
    "from sklearn import preprocessing\n",
    "import joblib"
   ]
  },
  {
   "cell_type": "code",
   "execution_count": 5,
   "metadata": {},
   "outputs": [],
   "source": [
    "from sklearn.ensemble import  RandomForestClassifier"
   ]
  },
  {
   "cell_type": "markdown",
   "metadata": {},
   "source": [
    "---"
   ]
  },
  {
   "cell_type": "markdown",
   "metadata": {},
   "source": [
    "## 2. Load the B/M Dataset"
   ]
  },
  {
   "cell_type": "markdown",
   "metadata": {},
   "source": [
    "Let's load the **benign train** :"
   ]
  },
  {
   "cell_type": "code",
   "execution_count": 6,
   "metadata": {},
   "outputs": [],
   "source": [
    "b_train = pd.read_csv(r\"C:\\Users\\Usuario\\Documents\\Github\\PDG\\PDG-2\\Datasets\\Time Window\\Cleaned\\Train\\BTrainExp2.csv\", delimiter = \",\")"
   ]
  },
  {
   "cell_type": "code",
   "execution_count": 7,
   "metadata": {
    "scrolled": true
   },
   "outputs": [
    {
     "data": {
      "text/plain": [
       "(813, 31)"
      ]
     },
     "execution_count": 7,
     "metadata": {},
     "output_type": "execute_result"
    }
   ],
   "source": [
    "b_train.shape"
   ]
  },
  {
   "cell_type": "markdown",
   "metadata": {},
   "source": [
    "Let's load the **malign train** :"
   ]
  },
  {
   "cell_type": "code",
   "execution_count": 8,
   "metadata": {},
   "outputs": [],
   "source": [
    "m_train = pd.read_csv(r\"C:\\Users\\Usuario\\Documents\\Github\\PDG\\PDG-2\\Datasets\\Time Window\\Cleaned\\Train\\MTrainExp2.csv\", delimiter = \",\")"
   ]
  },
  {
   "cell_type": "code",
   "execution_count": 9,
   "metadata": {},
   "outputs": [
    {
     "data": {
      "text/plain": [
       "(1200, 31)"
      ]
     },
     "execution_count": 9,
     "metadata": {},
     "output_type": "execute_result"
    }
   ],
   "source": [
    "m_train.shape"
   ]
  },
  {
   "cell_type": "markdown",
   "metadata": {},
   "source": [
    "Let's join both datasets:"
   ]
  },
  {
   "cell_type": "code",
   "execution_count": 10,
   "metadata": {},
   "outputs": [],
   "source": [
    "frames = [b_train, m_train]\n",
    "BM_onlyStratosphere = pd.concat(frames)"
   ]
  },
  {
   "cell_type": "code",
   "execution_count": 11,
   "metadata": {
    "scrolled": true
   },
   "outputs": [
    {
     "data": {
      "text/html": [
       "<div>\n",
       "<style scoped>\n",
       "    .dataframe tbody tr th:only-of-type {\n",
       "        vertical-align: middle;\n",
       "    }\n",
       "\n",
       "    .dataframe tbody tr th {\n",
       "        vertical-align: top;\n",
       "    }\n",
       "\n",
       "    .dataframe thead th {\n",
       "        text-align: right;\n",
       "    }\n",
       "</style>\n",
       "<table border=\"1\" class=\"dataframe\">\n",
       "  <thead>\n",
       "    <tr style=\"text-align: right;\">\n",
       "      <th></th>\n",
       "      <th>Name</th>\n",
       "      <th>Netflows</th>\n",
       "      <th>First_Protocol</th>\n",
       "      <th>Second_Protocol</th>\n",
       "      <th>Third_Protocol</th>\n",
       "      <th>p1_d</th>\n",
       "      <th>p2_d</th>\n",
       "      <th>p3_d</th>\n",
       "      <th>duration</th>\n",
       "      <th>max_d</th>\n",
       "      <th>...</th>\n",
       "      <th>first_dp</th>\n",
       "      <th>second_dp</th>\n",
       "      <th>third_dp</th>\n",
       "      <th>p1_ip</th>\n",
       "      <th>p2_ip</th>\n",
       "      <th>p3_ip</th>\n",
       "      <th>p1_ib</th>\n",
       "      <th>p2_ib</th>\n",
       "      <th>p3_ib</th>\n",
       "      <th>Type</th>\n",
       "    </tr>\n",
       "  </thead>\n",
       "  <tbody>\n",
       "    <tr>\n",
       "      <td>0</td>\n",
       "      <td>3-csves/9.csv</td>\n",
       "      <td>6974</td>\n",
       "      <td>UDP</td>\n",
       "      <td>TCP</td>\n",
       "      <td>None</td>\n",
       "      <td>0.0</td>\n",
       "      <td>0.0</td>\n",
       "      <td>6.82325</td>\n",
       "      <td>121438.910</td>\n",
       "      <td>287.866</td>\n",
       "      <td>...</td>\n",
       "      <td>53</td>\n",
       "      <td>443</td>\n",
       "      <td>80</td>\n",
       "      <td>1.0</td>\n",
       "      <td>1.0</td>\n",
       "      <td>6.0</td>\n",
       "      <td>50.0</td>\n",
       "      <td>111.0</td>\n",
       "      <td>336.75</td>\n",
       "      <td>Benign</td>\n",
       "    </tr>\n",
       "    <tr>\n",
       "      <td>1</td>\n",
       "      <td>3-csves/12.csv</td>\n",
       "      <td>4252</td>\n",
       "      <td>UDP</td>\n",
       "      <td>TCP</td>\n",
       "      <td>None</td>\n",
       "      <td>0.0</td>\n",
       "      <td>0.0</td>\n",
       "      <td>11.30000</td>\n",
       "      <td>94398.556</td>\n",
       "      <td>251.083</td>\n",
       "      <td>...</td>\n",
       "      <td>53</td>\n",
       "      <td>80</td>\n",
       "      <td>443</td>\n",
       "      <td>1.0</td>\n",
       "      <td>1.0</td>\n",
       "      <td>8.0</td>\n",
       "      <td>52.0</td>\n",
       "      <td>105.0</td>\n",
       "      <td>370.00</td>\n",
       "      <td>Benign</td>\n",
       "    </tr>\n",
       "    <tr>\n",
       "      <td>2</td>\n",
       "      <td>17-csves/26.csv</td>\n",
       "      <td>416</td>\n",
       "      <td>UDP</td>\n",
       "      <td>None</td>\n",
       "      <td>None</td>\n",
       "      <td>0.0</td>\n",
       "      <td>0.0</td>\n",
       "      <td>0.00000</td>\n",
       "      <td>0.000</td>\n",
       "      <td>0.000</td>\n",
       "      <td>...</td>\n",
       "      <td>53</td>\n",
       "      <td>9929</td>\n",
       "      <td>32984</td>\n",
       "      <td>1.0</td>\n",
       "      <td>1.0</td>\n",
       "      <td>1.0</td>\n",
       "      <td>45.0</td>\n",
       "      <td>95.0</td>\n",
       "      <td>256.25</td>\n",
       "      <td>Benign</td>\n",
       "    </tr>\n",
       "    <tr>\n",
       "      <td>3</td>\n",
       "      <td>6-csves/20.csv</td>\n",
       "      <td>512</td>\n",
       "      <td>UDP</td>\n",
       "      <td>TCP</td>\n",
       "      <td>None</td>\n",
       "      <td>0.0</td>\n",
       "      <td>0.0</td>\n",
       "      <td>0.00000</td>\n",
       "      <td>6285.274</td>\n",
       "      <td>280.386</td>\n",
       "      <td>...</td>\n",
       "      <td>53</td>\n",
       "      <td>443</td>\n",
       "      <td>547</td>\n",
       "      <td>1.0</td>\n",
       "      <td>1.0</td>\n",
       "      <td>1.0</td>\n",
       "      <td>48.0</td>\n",
       "      <td>140.0</td>\n",
       "      <td>250.00</td>\n",
       "      <td>Benign</td>\n",
       "    </tr>\n",
       "    <tr>\n",
       "      <td>4</td>\n",
       "      <td>3-csves/11.csv</td>\n",
       "      <td>4786</td>\n",
       "      <td>UDP</td>\n",
       "      <td>TCP</td>\n",
       "      <td>None</td>\n",
       "      <td>0.0</td>\n",
       "      <td>0.0</td>\n",
       "      <td>5.81500</td>\n",
       "      <td>64932.918</td>\n",
       "      <td>295.563</td>\n",
       "      <td>...</td>\n",
       "      <td>53</td>\n",
       "      <td>443</td>\n",
       "      <td>80</td>\n",
       "      <td>1.0</td>\n",
       "      <td>1.0</td>\n",
       "      <td>6.0</td>\n",
       "      <td>50.0</td>\n",
       "      <td>110.0</td>\n",
       "      <td>319.00</td>\n",
       "      <td>Benign</td>\n",
       "    </tr>\n",
       "  </tbody>\n",
       "</table>\n",
       "<p>5 rows × 31 columns</p>\n",
       "</div>"
      ],
      "text/plain": [
       "              Name  Netflows First_Protocol Second_Protocol Third_Protocol  \\\n",
       "0    3-csves/9.csv      6974            UDP             TCP           None   \n",
       "1   3-csves/12.csv      4252            UDP             TCP           None   \n",
       "2  17-csves/26.csv       416            UDP            None           None   \n",
       "3   6-csves/20.csv       512            UDP             TCP           None   \n",
       "4   3-csves/11.csv      4786            UDP             TCP           None   \n",
       "\n",
       "   p1_d  p2_d      p3_d    duration    max_d  ...  first_dp  second_dp  \\\n",
       "0   0.0   0.0   6.82325  121438.910  287.866  ...        53        443   \n",
       "1   0.0   0.0  11.30000   94398.556  251.083  ...        53         80   \n",
       "2   0.0   0.0   0.00000       0.000    0.000  ...        53       9929   \n",
       "3   0.0   0.0   0.00000    6285.274  280.386  ...        53        443   \n",
       "4   0.0   0.0   5.81500   64932.918  295.563  ...        53        443   \n",
       "\n",
       "   third_dp  p1_ip  p2_ip  p3_ip  p1_ib  p2_ib   p3_ib    Type  \n",
       "0        80    1.0    1.0    6.0   50.0  111.0  336.75  Benign  \n",
       "1       443    1.0    1.0    8.0   52.0  105.0  370.00  Benign  \n",
       "2     32984    1.0    1.0    1.0   45.0   95.0  256.25  Benign  \n",
       "3       547    1.0    1.0    1.0   48.0  140.0  250.00  Benign  \n",
       "4        80    1.0    1.0    6.0   50.0  110.0  319.00  Benign  \n",
       "\n",
       "[5 rows x 31 columns]"
      ]
     },
     "execution_count": 11,
     "metadata": {},
     "output_type": "execute_result"
    }
   ],
   "source": [
    "BM_onlyStratosphere.head()"
   ]
  },
  {
   "cell_type": "code",
   "execution_count": 12,
   "metadata": {},
   "outputs": [
    {
     "data": {
      "text/plain": [
       "(2013, 31)"
      ]
     },
     "execution_count": 12,
     "metadata": {},
     "output_type": "execute_result"
    }
   ],
   "source": [
    "BM_onlyStratosphere.shape"
   ]
  },
  {
   "cell_type": "code",
   "execution_count": 13,
   "metadata": {},
   "outputs": [],
   "source": [
    "BM_onlyStratosphere = BM_onlyStratosphere.sample(frac=1)"
   ]
  },
  {
   "cell_type": "markdown",
   "metadata": {},
   "source": [
    "---"
   ]
  },
  {
   "cell_type": "markdown",
   "metadata": {},
   "source": [
    "## 3. Let's see the dataset..."
   ]
  },
  {
   "cell_type": "code",
   "execution_count": 14,
   "metadata": {},
   "outputs": [
    {
     "name": "stdout",
     "output_type": "stream",
     "text": [
      "<class 'pandas.core.frame.DataFrame'>\n",
      "Int64Index: 2013 entries, 397 to 779\n",
      "Data columns (total 31 columns):\n",
      "Name               2013 non-null object\n",
      "Netflows           2013 non-null int64\n",
      "First_Protocol     2013 non-null object\n",
      "Second_Protocol    2013 non-null object\n",
      "Third_Protocol     2013 non-null object\n",
      "p1_d               2013 non-null float64\n",
      "p2_d               2013 non-null float64\n",
      "p3_d               2013 non-null float64\n",
      "duration           2013 non-null float64\n",
      "max_d              2013 non-null float64\n",
      "min_d              2013 non-null float64\n",
      "packets            2013 non-null int64\n",
      "Avg_bps            2013 non-null int64\n",
      "Avg_pps            2013 non-null int64\n",
      "Avg_bpp            2013 non-null int64\n",
      "Bytes              2013 non-null int64\n",
      "number_sp          2013 non-null int64\n",
      "number_dp          2013 non-null int64\n",
      "first_sp           2013 non-null int64\n",
      "second_sp          2013 non-null int64\n",
      "third_sp           2013 non-null int64\n",
      "first_dp           2013 non-null int64\n",
      "second_dp          2013 non-null int64\n",
      "third_dp           2013 non-null int64\n",
      "p1_ip              2013 non-null float64\n",
      "p2_ip              2013 non-null float64\n",
      "p3_ip              2013 non-null float64\n",
      "p1_ib              2013 non-null float64\n",
      "p2_ib              2013 non-null float64\n",
      "p3_ib              2013 non-null float64\n",
      "Type               2013 non-null object\n",
      "dtypes: float64(12), int64(14), object(5)\n",
      "memory usage: 503.2+ KB\n"
     ]
    }
   ],
   "source": [
    "BM_onlyStratosphere.info()"
   ]
  },
  {
   "cell_type": "code",
   "execution_count": 15,
   "metadata": {},
   "outputs": [
    {
     "data": {
      "text/html": [
       "<div>\n",
       "<style scoped>\n",
       "    .dataframe tbody tr th:only-of-type {\n",
       "        vertical-align: middle;\n",
       "    }\n",
       "\n",
       "    .dataframe tbody tr th {\n",
       "        vertical-align: top;\n",
       "    }\n",
       "\n",
       "    .dataframe thead th {\n",
       "        text-align: right;\n",
       "    }\n",
       "</style>\n",
       "<table border=\"1\" class=\"dataframe\">\n",
       "  <thead>\n",
       "    <tr style=\"text-align: right;\">\n",
       "      <th></th>\n",
       "      <th>count</th>\n",
       "      <th>unique</th>\n",
       "      <th>top</th>\n",
       "      <th>freq</th>\n",
       "      <th>mean</th>\n",
       "      <th>std</th>\n",
       "      <th>min</th>\n",
       "      <th>25%</th>\n",
       "      <th>50%</th>\n",
       "      <th>75%</th>\n",
       "      <th>max</th>\n",
       "    </tr>\n",
       "  </thead>\n",
       "  <tbody>\n",
       "    <tr>\n",
       "      <td>Name</td>\n",
       "      <td>2013</td>\n",
       "      <td>2011</td>\n",
       "      <td>34-csves/44.csv</td>\n",
       "      <td>2</td>\n",
       "      <td>NaN</td>\n",
       "      <td>NaN</td>\n",
       "      <td>NaN</td>\n",
       "      <td>NaN</td>\n",
       "      <td>NaN</td>\n",
       "      <td>NaN</td>\n",
       "      <td>NaN</td>\n",
       "    </tr>\n",
       "    <tr>\n",
       "      <td>Netflows</td>\n",
       "      <td>2013</td>\n",
       "      <td>NaN</td>\n",
       "      <td>NaN</td>\n",
       "      <td>NaN</td>\n",
       "      <td>871.623</td>\n",
       "      <td>2568.32</td>\n",
       "      <td>2</td>\n",
       "      <td>164</td>\n",
       "      <td>246</td>\n",
       "      <td>378</td>\n",
       "      <td>43128</td>\n",
       "    </tr>\n",
       "    <tr>\n",
       "      <td>First_Protocol</td>\n",
       "      <td>2013</td>\n",
       "      <td>5</td>\n",
       "      <td>None</td>\n",
       "      <td>912</td>\n",
       "      <td>NaN</td>\n",
       "      <td>NaN</td>\n",
       "      <td>NaN</td>\n",
       "      <td>NaN</td>\n",
       "      <td>NaN</td>\n",
       "      <td>NaN</td>\n",
       "      <td>NaN</td>\n",
       "    </tr>\n",
       "    <tr>\n",
       "      <td>Second_Protocol</td>\n",
       "      <td>2013</td>\n",
       "      <td>6</td>\n",
       "      <td>TCP</td>\n",
       "      <td>741</td>\n",
       "      <td>NaN</td>\n",
       "      <td>NaN</td>\n",
       "      <td>NaN</td>\n",
       "      <td>NaN</td>\n",
       "      <td>NaN</td>\n",
       "      <td>NaN</td>\n",
       "      <td>NaN</td>\n",
       "    </tr>\n",
       "    <tr>\n",
       "      <td>Third_Protocol</td>\n",
       "      <td>2013</td>\n",
       "      <td>7</td>\n",
       "      <td>IGMP</td>\n",
       "      <td>667</td>\n",
       "      <td>NaN</td>\n",
       "      <td>NaN</td>\n",
       "      <td>NaN</td>\n",
       "      <td>NaN</td>\n",
       "      <td>NaN</td>\n",
       "      <td>NaN</td>\n",
       "      <td>NaN</td>\n",
       "    </tr>\n",
       "    <tr>\n",
       "      <td>p1_d</td>\n",
       "      <td>2013</td>\n",
       "      <td>NaN</td>\n",
       "      <td>NaN</td>\n",
       "      <td>NaN</td>\n",
       "      <td>0.215494</td>\n",
       "      <td>2.46932</td>\n",
       "      <td>0</td>\n",
       "      <td>0</td>\n",
       "      <td>0</td>\n",
       "      <td>0</td>\n",
       "      <td>32.077</td>\n",
       "    </tr>\n",
       "    <tr>\n",
       "      <td>p2_d</td>\n",
       "      <td>2013</td>\n",
       "      <td>NaN</td>\n",
       "      <td>NaN</td>\n",
       "      <td>NaN</td>\n",
       "      <td>0.977253</td>\n",
       "      <td>10.0483</td>\n",
       "      <td>0</td>\n",
       "      <td>0</td>\n",
       "      <td>0</td>\n",
       "      <td>0</td>\n",
       "      <td>127.502</td>\n",
       "    </tr>\n",
       "    <tr>\n",
       "      <td>p3_d</td>\n",
       "      <td>2013</td>\n",
       "      <td>NaN</td>\n",
       "      <td>NaN</td>\n",
       "      <td>NaN</td>\n",
       "      <td>9.69497</td>\n",
       "      <td>28.4791</td>\n",
       "      <td>0</td>\n",
       "      <td>0</td>\n",
       "      <td>0</td>\n",
       "      <td>4.98375</td>\n",
       "      <td>258.798</td>\n",
       "    </tr>\n",
       "    <tr>\n",
       "      <td>duration</td>\n",
       "      <td>2013</td>\n",
       "      <td>NaN</td>\n",
       "      <td>NaN</td>\n",
       "      <td>NaN</td>\n",
       "      <td>13026.8</td>\n",
       "      <td>35459.9</td>\n",
       "      <td>0</td>\n",
       "      <td>20.856</td>\n",
       "      <td>533.486</td>\n",
       "      <td>8666.4</td>\n",
       "      <td>284555</td>\n",
       "    </tr>\n",
       "    <tr>\n",
       "      <td>max_d</td>\n",
       "      <td>2013</td>\n",
       "      <td>NaN</td>\n",
       "      <td>NaN</td>\n",
       "      <td>NaN</td>\n",
       "      <td>147.36</td>\n",
       "      <td>127.887</td>\n",
       "      <td>0</td>\n",
       "      <td>3.002</td>\n",
       "      <td>131.071</td>\n",
       "      <td>288.978</td>\n",
       "      <td>583.257</td>\n",
       "    </tr>\n",
       "    <tr>\n",
       "      <td>min_d</td>\n",
       "      <td>2013</td>\n",
       "      <td>NaN</td>\n",
       "      <td>NaN</td>\n",
       "      <td>NaN</td>\n",
       "      <td>0.000992548</td>\n",
       "      <td>0.0139859</td>\n",
       "      <td>0</td>\n",
       "      <td>0</td>\n",
       "      <td>0</td>\n",
       "      <td>0</td>\n",
       "      <td>0.325</td>\n",
       "    </tr>\n",
       "    <tr>\n",
       "      <td>packets</td>\n",
       "      <td>2013</td>\n",
       "      <td>NaN</td>\n",
       "      <td>NaN</td>\n",
       "      <td>NaN</td>\n",
       "      <td>20034.6</td>\n",
       "      <td>51228.3</td>\n",
       "      <td>4</td>\n",
       "      <td>220</td>\n",
       "      <td>360</td>\n",
       "      <td>17040</td>\n",
       "      <td>469938</td>\n",
       "    </tr>\n",
       "    <tr>\n",
       "      <td>Avg_bps</td>\n",
       "      <td>2013</td>\n",
       "      <td>NaN</td>\n",
       "      <td>NaN</td>\n",
       "      <td>NaN</td>\n",
       "      <td>359534</td>\n",
       "      <td>1.19402e+06</td>\n",
       "      <td>0</td>\n",
       "      <td>316</td>\n",
       "      <td>834</td>\n",
       "      <td>125264</td>\n",
       "      <td>1.43773e+07</td>\n",
       "    </tr>\n",
       "    <tr>\n",
       "      <td>Avg_pps</td>\n",
       "      <td>2013</td>\n",
       "      <td>NaN</td>\n",
       "      <td>NaN</td>\n",
       "      <td>NaN</td>\n",
       "      <td>72.6865</td>\n",
       "      <td>214.172</td>\n",
       "      <td>0</td>\n",
       "      <td>0</td>\n",
       "      <td>1</td>\n",
       "      <td>70</td>\n",
       "      <td>4000</td>\n",
       "    </tr>\n",
       "    <tr>\n",
       "      <td>Avg_bpp</td>\n",
       "      <td>2013</td>\n",
       "      <td>NaN</td>\n",
       "      <td>NaN</td>\n",
       "      <td>NaN</td>\n",
       "      <td>225.495</td>\n",
       "      <td>252.838</td>\n",
       "      <td>0</td>\n",
       "      <td>47</td>\n",
       "      <td>115</td>\n",
       "      <td>323</td>\n",
       "      <td>1217</td>\n",
       "    </tr>\n",
       "    <tr>\n",
       "      <td>Bytes</td>\n",
       "      <td>2013</td>\n",
       "      <td>NaN</td>\n",
       "      <td>NaN</td>\n",
       "      <td>NaN</td>\n",
       "      <td>1.27643e+07</td>\n",
       "      <td>4.26433e+07</td>\n",
       "      <td>128</td>\n",
       "      <td>9664</td>\n",
       "      <td>27596</td>\n",
       "      <td>4.21019e+06</td>\n",
       "      <td>5.33047e+08</td>\n",
       "    </tr>\n",
       "    <tr>\n",
       "      <td>number_sp</td>\n",
       "      <td>2013</td>\n",
       "      <td>NaN</td>\n",
       "      <td>NaN</td>\n",
       "      <td>NaN</td>\n",
       "      <td>178.959</td>\n",
       "      <td>492.786</td>\n",
       "      <td>1</td>\n",
       "      <td>4</td>\n",
       "      <td>12</td>\n",
       "      <td>95</td>\n",
       "      <td>6704</td>\n",
       "    </tr>\n",
       "    <tr>\n",
       "      <td>number_dp</td>\n",
       "      <td>2013</td>\n",
       "      <td>NaN</td>\n",
       "      <td>NaN</td>\n",
       "      <td>NaN</td>\n",
       "      <td>175.462</td>\n",
       "      <td>491.506</td>\n",
       "      <td>1</td>\n",
       "      <td>5</td>\n",
       "      <td>11</td>\n",
       "      <td>88</td>\n",
       "      <td>6716</td>\n",
       "    </tr>\n",
       "    <tr>\n",
       "      <td>first_sp</td>\n",
       "      <td>2013</td>\n",
       "      <td>NaN</td>\n",
       "      <td>NaN</td>\n",
       "      <td>NaN</td>\n",
       "      <td>790.404</td>\n",
       "      <td>4007.74</td>\n",
       "      <td>0</td>\n",
       "      <td>0</td>\n",
       "      <td>53</td>\n",
       "      <td>443</td>\n",
       "      <td>65251</td>\n",
       "    </tr>\n",
       "    <tr>\n",
       "      <td>second_sp</td>\n",
       "      <td>2013</td>\n",
       "      <td>NaN</td>\n",
       "      <td>NaN</td>\n",
       "      <td>NaN</td>\n",
       "      <td>15099.5</td>\n",
       "      <td>23594</td>\n",
       "      <td>-1</td>\n",
       "      <td>53</td>\n",
       "      <td>443</td>\n",
       "      <td>36415</td>\n",
       "      <td>65458</td>\n",
       "    </tr>\n",
       "    <tr>\n",
       "      <td>third_sp</td>\n",
       "      <td>2013</td>\n",
       "      <td>NaN</td>\n",
       "      <td>NaN</td>\n",
       "      <td>NaN</td>\n",
       "      <td>24325.4</td>\n",
       "      <td>27440.3</td>\n",
       "      <td>-1</td>\n",
       "      <td>53</td>\n",
       "      <td>3333</td>\n",
       "      <td>55592</td>\n",
       "      <td>65459</td>\n",
       "    </tr>\n",
       "    <tr>\n",
       "      <td>first_dp</td>\n",
       "      <td>2013</td>\n",
       "      <td>NaN</td>\n",
       "      <td>NaN</td>\n",
       "      <td>NaN</td>\n",
       "      <td>1014.07</td>\n",
       "      <td>4839.77</td>\n",
       "      <td>0</td>\n",
       "      <td>0</td>\n",
       "      <td>53</td>\n",
       "      <td>443</td>\n",
       "      <td>52447</td>\n",
       "    </tr>\n",
       "    <tr>\n",
       "      <td>second_dp</td>\n",
       "      <td>2013</td>\n",
       "      <td>NaN</td>\n",
       "      <td>NaN</td>\n",
       "      <td>NaN</td>\n",
       "      <td>20794.8</td>\n",
       "      <td>20628.1</td>\n",
       "      <td>-1</td>\n",
       "      <td>443</td>\n",
       "      <td>17500</td>\n",
       "      <td>34560</td>\n",
       "      <td>65458</td>\n",
       "    </tr>\n",
       "    <tr>\n",
       "      <td>third_dp</td>\n",
       "      <td>2013</td>\n",
       "      <td>NaN</td>\n",
       "      <td>NaN</td>\n",
       "      <td>NaN</td>\n",
       "      <td>20761</td>\n",
       "      <td>24223.1</td>\n",
       "      <td>-1</td>\n",
       "      <td>443</td>\n",
       "      <td>1900</td>\n",
       "      <td>34816</td>\n",
       "      <td>65459</td>\n",
       "    </tr>\n",
       "    <tr>\n",
       "      <td>p1_ip</td>\n",
       "      <td>2013</td>\n",
       "      <td>NaN</td>\n",
       "      <td>NaN</td>\n",
       "      <td>NaN</td>\n",
       "      <td>1.26701</td>\n",
       "      <td>1.12388</td>\n",
       "      <td>1</td>\n",
       "      <td>1</td>\n",
       "      <td>1</td>\n",
       "      <td>1</td>\n",
       "      <td>9</td>\n",
       "    </tr>\n",
       "    <tr>\n",
       "      <td>p2_ip</td>\n",
       "      <td>2013</td>\n",
       "      <td>NaN</td>\n",
       "      <td>NaN</td>\n",
       "      <td>NaN</td>\n",
       "      <td>1.86264</td>\n",
       "      <td>1.88067</td>\n",
       "      <td>1</td>\n",
       "      <td>1</td>\n",
       "      <td>1</td>\n",
       "      <td>2</td>\n",
       "      <td>12</td>\n",
       "    </tr>\n",
       "    <tr>\n",
       "      <td>p3_ip</td>\n",
       "      <td>2013</td>\n",
       "      <td>NaN</td>\n",
       "      <td>NaN</td>\n",
       "      <td>NaN</td>\n",
       "      <td>4.08147</td>\n",
       "      <td>3.90431</td>\n",
       "      <td>1</td>\n",
       "      <td>1</td>\n",
       "      <td>1</td>\n",
       "      <td>8</td>\n",
       "      <td>47</td>\n",
       "    </tr>\n",
       "    <tr>\n",
       "      <td>p1_ib</td>\n",
       "      <td>2013</td>\n",
       "      <td>NaN</td>\n",
       "      <td>NaN</td>\n",
       "      <td>NaN</td>\n",
       "      <td>72.8783</td>\n",
       "      <td>185.965</td>\n",
       "      <td>29</td>\n",
       "      <td>32</td>\n",
       "      <td>37</td>\n",
       "      <td>50</td>\n",
       "      <td>2826.25</td>\n",
       "    </tr>\n",
       "    <tr>\n",
       "      <td>p2_ib</td>\n",
       "      <td>2013</td>\n",
       "      <td>NaN</td>\n",
       "      <td>NaN</td>\n",
       "      <td>NaN</td>\n",
       "      <td>158.791</td>\n",
       "      <td>285.837</td>\n",
       "      <td>32</td>\n",
       "      <td>32</td>\n",
       "      <td>57</td>\n",
       "      <td>133</td>\n",
       "      <td>3007.5</td>\n",
       "    </tr>\n",
       "    <tr>\n",
       "      <td>p3_ib</td>\n",
       "      <td>2013</td>\n",
       "      <td>NaN</td>\n",
       "      <td>NaN</td>\n",
       "      <td>NaN</td>\n",
       "      <td>617.17</td>\n",
       "      <td>867.967</td>\n",
       "      <td>32</td>\n",
       "      <td>32</td>\n",
       "      <td>160.5</td>\n",
       "      <td>836</td>\n",
       "      <td>4644.25</td>\n",
       "    </tr>\n",
       "    <tr>\n",
       "      <td>Type</td>\n",
       "      <td>2013</td>\n",
       "      <td>2</td>\n",
       "      <td>Malign</td>\n",
       "      <td>1200</td>\n",
       "      <td>NaN</td>\n",
       "      <td>NaN</td>\n",
       "      <td>NaN</td>\n",
       "      <td>NaN</td>\n",
       "      <td>NaN</td>\n",
       "      <td>NaN</td>\n",
       "      <td>NaN</td>\n",
       "    </tr>\n",
       "  </tbody>\n",
       "</table>\n",
       "</div>"
      ],
      "text/plain": [
       "                count unique              top  freq         mean          std  \\\n",
       "Name             2013   2011  34-csves/44.csv     2          NaN          NaN   \n",
       "Netflows         2013    NaN              NaN   NaN      871.623      2568.32   \n",
       "First_Protocol   2013      5             None   912          NaN          NaN   \n",
       "Second_Protocol  2013      6              TCP   741          NaN          NaN   \n",
       "Third_Protocol   2013      7             IGMP   667          NaN          NaN   \n",
       "p1_d             2013    NaN              NaN   NaN     0.215494      2.46932   \n",
       "p2_d             2013    NaN              NaN   NaN     0.977253      10.0483   \n",
       "p3_d             2013    NaN              NaN   NaN      9.69497      28.4791   \n",
       "duration         2013    NaN              NaN   NaN      13026.8      35459.9   \n",
       "max_d            2013    NaN              NaN   NaN       147.36      127.887   \n",
       "min_d            2013    NaN              NaN   NaN  0.000992548    0.0139859   \n",
       "packets          2013    NaN              NaN   NaN      20034.6      51228.3   \n",
       "Avg_bps          2013    NaN              NaN   NaN       359534  1.19402e+06   \n",
       "Avg_pps          2013    NaN              NaN   NaN      72.6865      214.172   \n",
       "Avg_bpp          2013    NaN              NaN   NaN      225.495      252.838   \n",
       "Bytes            2013    NaN              NaN   NaN  1.27643e+07  4.26433e+07   \n",
       "number_sp        2013    NaN              NaN   NaN      178.959      492.786   \n",
       "number_dp        2013    NaN              NaN   NaN      175.462      491.506   \n",
       "first_sp         2013    NaN              NaN   NaN      790.404      4007.74   \n",
       "second_sp        2013    NaN              NaN   NaN      15099.5        23594   \n",
       "third_sp         2013    NaN              NaN   NaN      24325.4      27440.3   \n",
       "first_dp         2013    NaN              NaN   NaN      1014.07      4839.77   \n",
       "second_dp        2013    NaN              NaN   NaN      20794.8      20628.1   \n",
       "third_dp         2013    NaN              NaN   NaN        20761      24223.1   \n",
       "p1_ip            2013    NaN              NaN   NaN      1.26701      1.12388   \n",
       "p2_ip            2013    NaN              NaN   NaN      1.86264      1.88067   \n",
       "p3_ip            2013    NaN              NaN   NaN      4.08147      3.90431   \n",
       "p1_ib            2013    NaN              NaN   NaN      72.8783      185.965   \n",
       "p2_ib            2013    NaN              NaN   NaN      158.791      285.837   \n",
       "p3_ib            2013    NaN              NaN   NaN       617.17      867.967   \n",
       "Type             2013      2           Malign  1200          NaN          NaN   \n",
       "\n",
       "                 min     25%      50%          75%          max  \n",
       "Name             NaN     NaN      NaN          NaN          NaN  \n",
       "Netflows           2     164      246          378        43128  \n",
       "First_Protocol   NaN     NaN      NaN          NaN          NaN  \n",
       "Second_Protocol  NaN     NaN      NaN          NaN          NaN  \n",
       "Third_Protocol   NaN     NaN      NaN          NaN          NaN  \n",
       "p1_d               0       0        0            0       32.077  \n",
       "p2_d               0       0        0            0      127.502  \n",
       "p3_d               0       0        0      4.98375      258.798  \n",
       "duration           0  20.856  533.486       8666.4       284555  \n",
       "max_d              0   3.002  131.071      288.978      583.257  \n",
       "min_d              0       0        0            0        0.325  \n",
       "packets            4     220      360        17040       469938  \n",
       "Avg_bps            0     316      834       125264  1.43773e+07  \n",
       "Avg_pps            0       0        1           70         4000  \n",
       "Avg_bpp            0      47      115          323         1217  \n",
       "Bytes            128    9664    27596  4.21019e+06  5.33047e+08  \n",
       "number_sp          1       4       12           95         6704  \n",
       "number_dp          1       5       11           88         6716  \n",
       "first_sp           0       0       53          443        65251  \n",
       "second_sp         -1      53      443        36415        65458  \n",
       "third_sp          -1      53     3333        55592        65459  \n",
       "first_dp           0       0       53          443        52447  \n",
       "second_dp         -1     443    17500        34560        65458  \n",
       "third_dp          -1     443     1900        34816        65459  \n",
       "p1_ip              1       1        1            1            9  \n",
       "p2_ip              1       1        1            2           12  \n",
       "p3_ip              1       1        1            8           47  \n",
       "p1_ib             29      32       37           50      2826.25  \n",
       "p2_ib             32      32       57          133       3007.5  \n",
       "p3_ib             32      32    160.5          836      4644.25  \n",
       "Type             NaN     NaN      NaN          NaN          NaN  "
      ]
     },
     "execution_count": 15,
     "metadata": {},
     "output_type": "execute_result"
    }
   ],
   "source": [
    "BM_onlyStratosphere.describe(include=\"all\").T"
   ]
  },
  {
   "cell_type": "code",
   "execution_count": 16,
   "metadata": {},
   "outputs": [
    {
     "name": "stdout",
     "output_type": "stream",
     "text": [
      "Number of null values in each column:\n",
      "Name               0\n",
      "Netflows           0\n",
      "First_Protocol     0\n",
      "Second_Protocol    0\n",
      "Third_Protocol     0\n",
      "p1_d               0\n",
      "p2_d               0\n",
      "p3_d               0\n",
      "duration           0\n",
      "max_d              0\n",
      "min_d              0\n",
      "packets            0\n",
      "Avg_bps            0\n",
      "Avg_pps            0\n",
      "Avg_bpp            0\n",
      "Bytes              0\n",
      "number_sp          0\n",
      "number_dp          0\n",
      "first_sp           0\n",
      "second_sp          0\n",
      "third_sp           0\n",
      "first_dp           0\n",
      "second_dp          0\n",
      "third_dp           0\n",
      "p1_ip              0\n",
      "p2_ip              0\n",
      "p3_ip              0\n",
      "p1_ib              0\n",
      "p2_ib              0\n",
      "p3_ib              0\n",
      "Type               0\n",
      "dtype: int64\n"
     ]
    }
   ],
   "source": [
    "null_counts = BM_onlyStratosphere.isnull().sum()\n",
    "print(\"Number of null values in each column:\\n{}\".format(null_counts))"
   ]
  },
  {
   "cell_type": "code",
   "execution_count": 17,
   "metadata": {},
   "outputs": [
    {
     "data": {
      "image/png": "[encoded data removed]",
      "text/plain": [
       "<Figure size 1440x720 with 2 Axes>"
      ]
     },
     "metadata": {
      "needs_background": "light"
     },
     "output_type": "display_data"
    }
   ],
   "source": [
    "fig, axs = plt.subplots(1,2,figsize=(20,10))\n",
    "sns.countplot(x='Type',data=BM_onlyStratosphere,ax=axs[0])\n",
    "axs[0].set_title(\"Frequency of each Type\")\n",
    "BM_onlyStratosphere.Type.value_counts().plot(x=None,y=None, kind='pie', ax=axs[1],autopct='%1.2f%%')\n",
    "axs[1].set_title(\"Percentage of each Type\")\n",
    "plt.show()"
   ]
  },
  {
   "cell_type": "markdown",
   "metadata": {},
   "source": [
    "---"
   ]
  },
  {
   "cell_type": "markdown",
   "metadata": {},
   "source": [
    "## 4. Let's make a copy of the original dataset..."
   ]
  },
  {
   "cell_type": "code",
   "execution_count": 18,
   "metadata": {},
   "outputs": [],
   "source": [
    "BM_onlyStratosphere_copy = BM_onlyStratosphere.copy()"
   ]
  },
  {
   "cell_type": "markdown",
   "metadata": {},
   "source": [
    "---"
   ]
  },
  {
   "cell_type": "markdown",
   "metadata": {},
   "source": [
    "## 5. Drop Innnecesary Columns..."
   ]
  },
  {
   "cell_type": "markdown",
   "metadata": {},
   "source": [
    "Let's verify if there are columns that have less than 4 values in the column's values"
   ]
  },
  {
   "cell_type": "code",
   "execution_count": 19,
   "metadata": {},
   "outputs": [
    {
     "name": "stdout",
     "output_type": "stream",
     "text": [
      "Malign    1200\n",
      "Benign     813\n",
      "Name: Type, dtype: int64\n",
      "\n"
     ]
    }
   ],
   "source": [
    "for col in BM_onlyStratosphere_copy.columns:\n",
    "    if (len(BM_onlyStratosphere_copy[col].unique()) < 4):\n",
    "        print(BM_onlyStratosphere_copy[col].value_counts())\n",
    "        print()"
   ]
  },
  {
   "cell_type": "markdown",
   "metadata": {},
   "source": [
    "Obviously, the column **Type** can't be delete because it's the **TARGET**"
   ]
  },
  {
   "cell_type": "markdown",
   "metadata": {},
   "source": [
    "---"
   ]
  },
  {
   "cell_type": "markdown",
   "metadata": {},
   "source": [
    "## 6. Let's create the Dictionary"
   ]
  },
  {
   "cell_type": "code",
   "execution_count": 20,
   "metadata": {},
   "outputs": [],
   "source": [
    "le = preprocessing.LabelEncoder()"
   ]
  },
  {
   "cell_type": "markdown",
   "metadata": {},
   "source": [
    "#### 6.1 First_Protocol var"
   ]
  },
  {
   "cell_type": "code",
   "execution_count": 22,
   "metadata": {},
   "outputs": [
    {
     "data": {
      "text/plain": [
       "array(['UDP', 'TCP', 'None', 'ICMP', 'ICMP6'], dtype=object)"
      ]
     },
     "execution_count": 22,
     "metadata": {},
     "output_type": "execute_result"
    }
   ],
   "source": [
    "BM_onlyStratosphere_copy.First_Protocol.unique()"
   ]
  },
  {
   "cell_type": "code",
   "execution_count": 23,
   "metadata": {},
   "outputs": [],
   "source": [
    "first_protocol_column_codified = le.fit_transform(BM_onlyStratosphere_copy.First_Protocol)"
   ]
  },
  {
   "cell_type": "code",
   "execution_count": 24,
   "metadata": {},
   "outputs": [
    {
     "name": "stdout",
     "output_type": "stream",
     "text": [
      "{'ICMP': 0, 'ICMP6': 1, 'None': 2, 'TCP': 3, 'UDP': 4}\n"
     ]
    }
   ],
   "source": [
    "le_name_mapping_first_protocol = dict(zip(le.classes_, le.transform(le.classes_)))\n",
    "print(le_name_mapping_first_protocol)"
   ]
  },
  {
   "cell_type": "code",
   "execution_count": 25,
   "metadata": {},
   "outputs": [],
   "source": [
    "BM_onlyStratosphere_copy.First_Protocol = le.fit_transform(BM_onlyStratosphere_copy.First_Protocol)"
   ]
  },
  {
   "cell_type": "markdown",
   "metadata": {},
   "source": [
    "#### 6.2 Second_Protocol var"
   ]
  },
  {
   "cell_type": "code",
   "execution_count": 26,
   "metadata": {},
   "outputs": [
    {
     "data": {
      "text/plain": [
       "array(['TCP', 'ICMP', 'ICMP6', 'UDP', 'IGMP', 'None'], dtype=object)"
      ]
     },
     "execution_count": 26,
     "metadata": {},
     "output_type": "execute_result"
    }
   ],
   "source": [
    "BM_onlyStratosphere_copy.Second_Protocol.unique()"
   ]
  },
  {
   "cell_type": "code",
   "execution_count": 27,
   "metadata": {},
   "outputs": [],
   "source": [
    "second_protocol_column_codified = le.fit_transform(BM_onlyStratosphere_copy.Second_Protocol)"
   ]
  },
  {
   "cell_type": "code",
   "execution_count": 28,
   "metadata": {},
   "outputs": [
    {
     "name": "stdout",
     "output_type": "stream",
     "text": [
      "{'ICMP': 0, 'ICMP6': 1, 'IGMP': 2, 'None': 3, 'TCP': 4, 'UDP': 5}\n"
     ]
    }
   ],
   "source": [
    "le_name_mapping_second_protocol = dict(zip(le.classes_, le.transform(le.classes_)))\n",
    "print(le_name_mapping_second_protocol)"
   ]
  },
  {
   "cell_type": "code",
   "execution_count": 29,
   "metadata": {},
   "outputs": [],
   "source": [
    "BM_onlyStratosphere_copy.Second_Protocol = le.fit_transform(BM_onlyStratosphere_copy.Second_Protocol)"
   ]
  },
  {
   "cell_type": "markdown",
   "metadata": {},
   "source": [
    "#### 6.3 Third_Protocol var"
   ]
  },
  {
   "cell_type": "code",
   "execution_count": 30,
   "metadata": {},
   "outputs": [
    {
     "data": {
      "text/plain": [
       "array(['IGMP', 'None', 'UDP', 'ICMP6', 'ICMP', 'TCP', '139'], dtype=object)"
      ]
     },
     "execution_count": 30,
     "metadata": {},
     "output_type": "execute_result"
    }
   ],
   "source": [
    "BM_onlyStratosphere_copy.Third_Protocol.unique()"
   ]
  },
  {
   "cell_type": "code",
   "execution_count": 31,
   "metadata": {},
   "outputs": [],
   "source": [
    "third_protocol_column_codified = le.fit_transform(BM_onlyStratosphere_copy.Third_Protocol)"
   ]
  },
  {
   "cell_type": "code",
   "execution_count": 32,
   "metadata": {},
   "outputs": [
    {
     "name": "stdout",
     "output_type": "stream",
     "text": [
      "{'139': 0, 'ICMP': 1, 'ICMP6': 2, 'IGMP': 3, 'None': 4, 'TCP': 5, 'UDP': 6}\n"
     ]
    }
   ],
   "source": [
    "le_name_mapping_third_protocol = dict(zip(le.classes_, le.transform(le.classes_)))\n",
    "print(le_name_mapping_third_protocol)"
   ]
  },
  {
   "cell_type": "code",
   "execution_count": 33,
   "metadata": {},
   "outputs": [],
   "source": [
    "BM_onlyStratosphere_copy.Third_Protocol = le.fit_transform(BM_onlyStratosphere_copy.Third_Protocol)"
   ]
  },
  {
   "cell_type": "markdown",
   "metadata": {},
   "source": [
    "#### 6.4 Type"
   ]
  },
  {
   "cell_type": "code",
   "execution_count": 34,
   "metadata": {},
   "outputs": [
    {
     "data": {
      "text/plain": [
       "array(['Benign', 'Malign'], dtype=object)"
      ]
     },
     "execution_count": 34,
     "metadata": {},
     "output_type": "execute_result"
    }
   ],
   "source": [
    "BM_onlyStratosphere_copy.Type.unique()"
   ]
  },
  {
   "cell_type": "code",
   "execution_count": 35,
   "metadata": {},
   "outputs": [],
   "source": [
    "Type_protocol_column_codified = le.fit_transform(BM_onlyStratosphere_copy.Type)"
   ]
  },
  {
   "cell_type": "code",
   "execution_count": 36,
   "metadata": {},
   "outputs": [
    {
     "name": "stdout",
     "output_type": "stream",
     "text": [
      "{'Benign': 0, 'Malign': 1}\n"
     ]
    }
   ],
   "source": [
    "le_name_mapping_type = dict(zip(le.classes_, le.transform(le.classes_)))\n",
    "print(le_name_mapping_type)"
   ]
  },
  {
   "cell_type": "code",
   "execution_count": 37,
   "metadata": {},
   "outputs": [],
   "source": [
    "BM_onlyStratosphere_copy.Type = le.fit_transform(BM_onlyStratosphere_copy.Type)"
   ]
  },
  {
   "cell_type": "markdown",
   "metadata": {},
   "source": [
    "---"
   ]
  },
  {
   "cell_type": "markdown",
   "metadata": {},
   "source": [
    "## 7. Let's save the Label Encoder..."
   ]
  },
  {
   "cell_type": "code",
   "execution_count": 38,
   "metadata": {},
   "outputs": [
    {
     "data": {
      "text/plain": [
       "['./Tools/label_encoderExp2.joblib']"
      ]
     },
     "execution_count": 38,
     "metadata": {},
     "output_type": "execute_result"
    }
   ],
   "source": [
    "joblib.dump(le, './Tools/label_encoderExp2.joblib')"
   ]
  },
  {
   "cell_type": "markdown",
   "metadata": {},
   "source": [
    "---"
   ]
  },
  {
   "cell_type": "markdown",
   "metadata": {},
   "source": [
    "## 8.  ::::::: FEATURE IMPORTANCE ::::::::"
   ]
  },
  {
   "cell_type": "code",
   "execution_count": 39,
   "metadata": {},
   "outputs": [],
   "source": [
    "names = BM_onlyStratosphere_copy.Name\n",
    "BM_onlyStratosphere_copy = BM_onlyStratosphere_copy.drop(['Name'], axis=1)"
   ]
  },
  {
   "cell_type": "code",
   "execution_count": 40,
   "metadata": {},
   "outputs": [],
   "source": [
    "clf=RandomForestClassifier(n_estimators =10, random_state = 1234, class_weight=\"balanced\")"
   ]
  },
  {
   "cell_type": "code",
   "execution_count": 41,
   "metadata": {},
   "outputs": [],
   "source": [
    "X = BM_onlyStratosphere_copy.iloc[:,:-1]\n",
    "y = BM_onlyStratosphere_copy.Type"
   ]
  },
  {
   "cell_type": "code",
   "execution_count": 42,
   "metadata": {},
   "outputs": [],
   "source": [
    "output = cross_validate(clf, X, y, cv=20, scoring = 'accuracy', return_estimator =True)"
   ]
  },
  {
   "cell_type": "code",
   "execution_count": 43,
   "metadata": {},
   "outputs": [],
   "source": [
    "first_sp = []\n",
    "avg_bps = []\n",
    "number_sp = []\n",
    "Bytes = []\n",
    "number_dp = []\n",
    "duration = []\n",
    "p1_ib = []\n",
    "First_Protocol = []\n",
    "Avg_pps = []\n",
    "p2_ib = []\n",
    "p2_d = []\n",
    "Netflows = []\n",
    "p3_d = []\n",
    "p3_ib = []\n",
    "max_d = []\n",
    "p3_ip = []\n",
    "Avg_bpp = []\n",
    "packets = []\n",
    "second_sp = []\n",
    "first_dp = []\n",
    "third_sp = []\n",
    "Second_Protocol = []\n",
    "second_dp = []\n",
    "p1_d = []\n",
    "Third_Protocol = []\n",
    "third_dp = []\n",
    "p2_ip = []\n",
    "p1_ip = []\n",
    "min_d = []"
   ]
  },
  {
   "cell_type": "code",
   "execution_count": 44,
   "metadata": {},
   "outputs": [],
   "source": [
    "for idx,estimator in enumerate(output['estimator']):\n",
    "#     print(\"Features sorted by their score for estimator {}:\".format(idx))    \n",
    "    feature_importances = pd.DataFrame(estimator.feature_importances_,\n",
    "                                       index = X.columns,\n",
    "                                       columns=['importance']).sort_values('importance', ascending=False)\n",
    "#     print(feature_importances)\n",
    "    for i in range(0,len(feature_importances.index)):\n",
    "        if feature_importances.index[i] == \"first_sp\":\n",
    "            first_sp.append(feature_importances.iloc[i,0])\n",
    "        if feature_importances.index[i] == \"Avg_bps\":\n",
    "            avg_bps.append(feature_importances.iloc[i,0])\n",
    "        if feature_importances.index[i] == \"number_sp\":\n",
    "            number_sp.append(feature_importances.iloc[i,0])\n",
    "        if feature_importances.index[i] == \"Bytes\":\n",
    "            Bytes.append(feature_importances.iloc[i,0])\n",
    "        if feature_importances.index[i] == \"number_dp\":\n",
    "            number_dp.append(feature_importances.iloc[i,0])\n",
    "        if feature_importances.index[i] == \"duration\":\n",
    "            duration.append(feature_importances.iloc[i,0])\n",
    "        if feature_importances.index[i] == \"p1_ib\":\n",
    "            p1_ib.append(feature_importances.iloc[i,0])\n",
    "        if feature_importances.index[i] == \"First_Protocol\":\n",
    "            First_Protocol.append(feature_importances.iloc[i,0])\n",
    "        if feature_importances.index[i] == \"Avg_pps\":\n",
    "            Avg_pps.append(feature_importances.iloc[i,0])\n",
    "        if feature_importances.index[i] == \"p2_ib\":\n",
    "            p2_ib.append(feature_importances.iloc[i,0])\n",
    "        if feature_importances.index[i] == \"p2_d\":\n",
    "            p2_d.append(feature_importances.iloc[i,0])\n",
    "        if feature_importances.index[i] == \"Netflows\":\n",
    "            Netflows.append(feature_importances.iloc[i,0])\n",
    "        if feature_importances.index[i] == \"p3_d\":\n",
    "            p3_d.append(feature_importances.iloc[i,0])\n",
    "        if feature_importances.index[i] == \"p3_ib\":\n",
    "            p3_ib.append(feature_importances.iloc[i,0])\n",
    "        if feature_importances.index[i] == \"max_d\":\n",
    "            max_d.append(feature_importances.iloc[i,0])\n",
    "        if feature_importances.index[i] == \"p3_ip\":\n",
    "            p3_ip.append(feature_importances.iloc[i,0])\n",
    "        if feature_importances.index[i] == \"Avg_bpp\":\n",
    "            Avg_bpp.append(feature_importances.iloc[i,0])\n",
    "        if feature_importances.index[i] == \"packets\":\n",
    "            packets.append(feature_importances.iloc[i,0])\n",
    "        if feature_importances.index[i] == \"second_sp\":\n",
    "            second_sp.append(feature_importances.iloc[i,0])\n",
    "        if feature_importances.index[i] == \"first_dp\":\n",
    "            first_dp.append(feature_importances.iloc[i,0])\n",
    "        if feature_importances.index[i] == \"third_sp\":\n",
    "            third_sp.append(feature_importances.iloc[i,0])\n",
    "        if feature_importances.index[i] == \"Second_Protocol\":\n",
    "            Second_Protocol.append(feature_importances.iloc[i,0])\n",
    "        if feature_importances.index[i] == \"second_dp\":\n",
    "            second_dp.append(feature_importances.iloc[i,0])\n",
    "        if feature_importances.index[i] == \"p1_d\":\n",
    "            p1_d.append(feature_importances.iloc[i,0])\n",
    "        if feature_importances.index[i] == \"Third_Protocol\":\n",
    "            Third_Protocol.append(feature_importances.iloc[i,0])\n",
    "        if feature_importances.index[i] == \"third_dp\":\n",
    "            third_dp.append(feature_importances.iloc[i,0])\n",
    "        if feature_importances.index[i] == \"p2_ip\":\n",
    "            p2_ip.append(feature_importances.iloc[i,0])\n",
    "        if feature_importances.index[i] == \"p1_ip\":\n",
    "            p1_ip.append(feature_importances.iloc[i,0])\n",
    "        if feature_importances.index[i] == \"min_d\":\n",
    "            min_d.append(feature_importances.iloc[i,0])\n",
    "        \n",
    "        "
   ]
  },
  {
   "cell_type": "code",
   "execution_count": 45,
   "metadata": {},
   "outputs": [],
   "source": [
    "first_sp = pd.Series(first_sp)\n",
    "avg_bps = pd.Series(avg_bps)\n",
    "number_sp = pd.Series(number_sp)\n",
    "Bytes = pd.Series(Bytes)\n",
    "number_dp = pd.Series(number_dp)\n",
    "duration = pd.Series(duration)\n",
    "p1_ib = pd.Series(p1_ib)\n",
    "First_Protocol = pd.Series(First_Protocol)\n",
    "Avg_pps = pd.Series(Avg_pps)\n",
    "p2_ib = pd.Series(p2_ib)\n",
    "p2_d = pd.Series(p2_d)\n",
    "Netflows = pd.Series(Netflows)\n",
    "p3_d = pd.Series(p3_d)\n",
    "p3_ib = pd.Series(p3_ib)\n",
    "max_d = pd.Series(max_d)\n",
    "p3_ip = pd.Series(p3_ip)\n",
    "Avg_bpp = pd.Series(Avg_bpp)\n",
    "packets = pd.Series(packets)\n",
    "second_sp = pd.Series(second_sp)\n",
    "first_dp = pd.Series(first_dp)\n",
    "third_sp = pd.Series(third_sp)\n",
    "Second_Protocol = pd.Series(Second_Protocol)\n",
    "second_dp = pd.Series(second_dp)\n",
    "p1_d = pd.Series(p1_d)\n",
    "Third_Protocol = pd.Series(Third_Protocol)\n",
    "third_dp = pd.Series(third_dp)\n",
    "p2_ip = pd.Series(p2_ip)\n",
    "p1_ip = pd.Series(p1_ip)\n",
    "min_d = pd.Series(min_d)"
   ]
  },
  {
   "cell_type": "code",
   "execution_count": 46,
   "metadata": {},
   "outputs": [],
   "source": [
    "var_pd = pd.DataFrame(columns=['Var',\"Value\"])"
   ]
  },
  {
   "cell_type": "code",
   "execution_count": 47,
   "metadata": {},
   "outputs": [],
   "source": [
    "var_pd= var_pd.append({'Var' : 'First_sp', 'Value' : first_sp.mean()}, ignore_index=True)\n",
    "var_pd=var_pd.append({'Var' : 'Avg_bps', 'Value' : avg_bps.mean()}, ignore_index=True)\n",
    "var_pd=var_pd.append({'Var' : 'Number_sp', 'Value' : number_sp.mean()}, ignore_index=True)\n",
    "var_pd=var_pd.append({'Var' : 'Bytes', 'Value' : Bytes.mean()}, ignore_index=True)\n",
    "var_pd=var_pd.append({'Var' : 'Number_dp', 'Value' : number_dp.mean()}, ignore_index=True)\n",
    "var_pd=var_pd.append({'Var' : 'Duration', 'Value' : duration.mean()}, ignore_index=True)\n",
    "var_pd=var_pd.append({'Var' : 'P1_ib', 'Value' : p1_ib.mean()}, ignore_index=True)\n",
    "var_pd=var_pd.append({'Var' : 'First_Protocol', 'Value' : First_Protocol.mean()}, ignore_index=True)\n",
    "var_pd=var_pd.append({'Var' : 'Avg_pps', 'Value' : Avg_pps.mean()}, ignore_index=True)\n",
    "var_pd=var_pd.append({'Var' : 'P2_ib', 'Value' : p2_ib.mean()}, ignore_index=True)\n",
    "var_pd=var_pd.append({'Var' : 'P2_d', 'Value' : p2_d.mean()}, ignore_index=True)\n",
    "var_pd=var_pd.append({'Var' : 'Netflows', 'Value' : Netflows.mean()}, ignore_index=True)\n",
    "var_pd=var_pd.append({'Var' : 'P3_d', 'Value' : p3_d.mean()}, ignore_index=True)\n",
    "var_pd=var_pd.append({'Var' : 'P3_ib', 'Value' : p3_ib.mean()}, ignore_index=True)\n",
    "var_pd=var_pd.append({'Var' : 'Max_d', 'Value' : max_d.mean()}, ignore_index=True)\n",
    "var_pd=var_pd.append({'Var' : 'P3_ib', 'Value' : p3_ip.mean()}, ignore_index=True)\n",
    "var_pd=var_pd.append({'Var' : 'Avg_bpp', 'Value' : Avg_bpp.mean()}, ignore_index=True)\n",
    "var_pd=var_pd.append({'Var' : 'Packets', 'Value' : packets.mean()}, ignore_index=True)\n",
    "var_pd=var_pd.append({'Var' : 'Second_sp', 'Value' : second_sp.mean()}, ignore_index=True)\n",
    "var_pd=var_pd.append({'Var' : 'First_dp', 'Value' : first_dp.mean()}, ignore_index=True)\n",
    "var_pd=var_pd.append({'Var' : 'Third_sp', 'Value' : third_sp.mean()}, ignore_index=True)\n",
    "var_pd=var_pd.append({'Var' : 'Second_protocol', 'Value' : Second_Protocol.mean()}, ignore_index=True)\n",
    "var_pd=var_pd.append({'Var' : 'Second_dp', 'Value' : second_dp.mean()}, ignore_index=True)\n",
    "var_pd=var_pd.append({'Var' : 'P1_d', 'Value' : p1_d.mean()}, ignore_index=True)\n",
    "var_pd=var_pd.append({'Var' : 'Third_Protocol', 'Value' : Third_Protocol.mean()}, ignore_index=True)\n",
    "var_pd=var_pd.append({'Var' : 'Third_dp', 'Value' : third_dp.mean()}, ignore_index=True)\n",
    "var_pd=var_pd.append({'Var' : 'P2_ip', 'Value' : p2_ip.mean()}, ignore_index=True)\n",
    "var_pd=var_pd.append({'Var' : 'P1_ip', 'Value' : p1_ip.mean()}, ignore_index=True)\n",
    "var_pd=var_pd.append({'Var' : 'Min_d', 'Value' : min_d.mean()}, ignore_index=True)"
   ]
  },
  {
   "cell_type": "code",
   "execution_count": 48,
   "metadata": {},
   "outputs": [
    {
     "data": {
      "text/html": [
       "<div>\n",
       "<style scoped>\n",
       "    .dataframe tbody tr th:only-of-type {\n",
       "        vertical-align: middle;\n",
       "    }\n",
       "\n",
       "    .dataframe tbody tr th {\n",
       "        vertical-align: top;\n",
       "    }\n",
       "\n",
       "    .dataframe thead th {\n",
       "        text-align: right;\n",
       "    }\n",
       "</style>\n",
       "<table border=\"1\" class=\"dataframe\">\n",
       "  <thead>\n",
       "    <tr style=\"text-align: right;\">\n",
       "      <th></th>\n",
       "      <th>Var</th>\n",
       "      <th>Value</th>\n",
       "    </tr>\n",
       "  </thead>\n",
       "  <tbody>\n",
       "    <tr>\n",
       "      <td>1</td>\n",
       "      <td>Avg_bps</td>\n",
       "      <td>0.170984</td>\n",
       "    </tr>\n",
       "    <tr>\n",
       "      <td>8</td>\n",
       "      <td>Avg_pps</td>\n",
       "      <td>0.146648</td>\n",
       "    </tr>\n",
       "    <tr>\n",
       "      <td>3</td>\n",
       "      <td>Bytes</td>\n",
       "      <td>0.117889</td>\n",
       "    </tr>\n",
       "    <tr>\n",
       "      <td>9</td>\n",
       "      <td>P2_ib</td>\n",
       "      <td>0.116610</td>\n",
       "    </tr>\n",
       "    <tr>\n",
       "      <td>5</td>\n",
       "      <td>Duration</td>\n",
       "      <td>0.105195</td>\n",
       "    </tr>\n",
       "    <tr>\n",
       "      <td>2</td>\n",
       "      <td>Number_sp</td>\n",
       "      <td>0.100858</td>\n",
       "    </tr>\n",
       "    <tr>\n",
       "      <td>4</td>\n",
       "      <td>Number_dp</td>\n",
       "      <td>0.059502</td>\n",
       "    </tr>\n",
       "    <tr>\n",
       "      <td>7</td>\n",
       "      <td>First_Protocol</td>\n",
       "      <td>0.049743</td>\n",
       "    </tr>\n",
       "    <tr>\n",
       "      <td>0</td>\n",
       "      <td>First_sp</td>\n",
       "      <td>0.031814</td>\n",
       "    </tr>\n",
       "    <tr>\n",
       "      <td>13</td>\n",
       "      <td>P3_ib</td>\n",
       "      <td>0.013671</td>\n",
       "    </tr>\n",
       "    <tr>\n",
       "      <td>19</td>\n",
       "      <td>First_dp</td>\n",
       "      <td>0.011862</td>\n",
       "    </tr>\n",
       "    <tr>\n",
       "      <td>6</td>\n",
       "      <td>P1_ib</td>\n",
       "      <td>0.011433</td>\n",
       "    </tr>\n",
       "    <tr>\n",
       "      <td>12</td>\n",
       "      <td>P3_d</td>\n",
       "      <td>0.010116</td>\n",
       "    </tr>\n",
       "    <tr>\n",
       "      <td>14</td>\n",
       "      <td>Max_d</td>\n",
       "      <td>0.009568</td>\n",
       "    </tr>\n",
       "    <tr>\n",
       "      <td>17</td>\n",
       "      <td>Packets</td>\n",
       "      <td>0.008991</td>\n",
       "    </tr>\n",
       "    <tr>\n",
       "      <td>21</td>\n",
       "      <td>Second_protocol</td>\n",
       "      <td>0.006149</td>\n",
       "    </tr>\n",
       "    <tr>\n",
       "      <td>10</td>\n",
       "      <td>P2_d</td>\n",
       "      <td>0.005446</td>\n",
       "    </tr>\n",
       "    <tr>\n",
       "      <td>15</td>\n",
       "      <td>P3_ib</td>\n",
       "      <td>0.005316</td>\n",
       "    </tr>\n",
       "    <tr>\n",
       "      <td>11</td>\n",
       "      <td>Netflows</td>\n",
       "      <td>0.004664</td>\n",
       "    </tr>\n",
       "    <tr>\n",
       "      <td>16</td>\n",
       "      <td>Avg_bpp</td>\n",
       "      <td>0.002957</td>\n",
       "    </tr>\n",
       "    <tr>\n",
       "      <td>26</td>\n",
       "      <td>P2_ip</td>\n",
       "      <td>0.001900</td>\n",
       "    </tr>\n",
       "    <tr>\n",
       "      <td>25</td>\n",
       "      <td>Third_dp</td>\n",
       "      <td>0.001802</td>\n",
       "    </tr>\n",
       "    <tr>\n",
       "      <td>22</td>\n",
       "      <td>Second_dp</td>\n",
       "      <td>0.001785</td>\n",
       "    </tr>\n",
       "    <tr>\n",
       "      <td>20</td>\n",
       "      <td>Third_sp</td>\n",
       "      <td>0.001407</td>\n",
       "    </tr>\n",
       "    <tr>\n",
       "      <td>18</td>\n",
       "      <td>Second_sp</td>\n",
       "      <td>0.001266</td>\n",
       "    </tr>\n",
       "    <tr>\n",
       "      <td>24</td>\n",
       "      <td>Third_Protocol</td>\n",
       "      <td>0.001143</td>\n",
       "    </tr>\n",
       "    <tr>\n",
       "      <td>23</td>\n",
       "      <td>P1_d</td>\n",
       "      <td>0.000665</td>\n",
       "    </tr>\n",
       "    <tr>\n",
       "      <td>28</td>\n",
       "      <td>Min_d</td>\n",
       "      <td>0.000548</td>\n",
       "    </tr>\n",
       "    <tr>\n",
       "      <td>27</td>\n",
       "      <td>P1_ip</td>\n",
       "      <td>0.000069</td>\n",
       "    </tr>\n",
       "  </tbody>\n",
       "</table>\n",
       "</div>"
      ],
      "text/plain": [
       "                Var     Value\n",
       "1           Avg_bps  0.170984\n",
       "8           Avg_pps  0.146648\n",
       "3             Bytes  0.117889\n",
       "9             P2_ib  0.116610\n",
       "5          Duration  0.105195\n",
       "2         Number_sp  0.100858\n",
       "4         Number_dp  0.059502\n",
       "7    First_Protocol  0.049743\n",
       "0          First_sp  0.031814\n",
       "13            P3_ib  0.013671\n",
       "19         First_dp  0.011862\n",
       "6             P1_ib  0.011433\n",
       "12             P3_d  0.010116\n",
       "14            Max_d  0.009568\n",
       "17          Packets  0.008991\n",
       "21  Second_protocol  0.006149\n",
       "10             P2_d  0.005446\n",
       "15            P3_ib  0.005316\n",
       "11         Netflows  0.004664\n",
       "16          Avg_bpp  0.002957\n",
       "26            P2_ip  0.001900\n",
       "25         Third_dp  0.001802\n",
       "22        Second_dp  0.001785\n",
       "20         Third_sp  0.001407\n",
       "18        Second_sp  0.001266\n",
       "24   Third_Protocol  0.001143\n",
       "23             P1_d  0.000665\n",
       "28            Min_d  0.000548\n",
       "27            P1_ip  0.000069"
      ]
     },
     "execution_count": 48,
     "metadata": {},
     "output_type": "execute_result"
    }
   ],
   "source": [
    "var_pd.sort_values(by=['Value'], ascending=False)"
   ]
  },
  {
   "cell_type": "markdown",
   "metadata": {},
   "source": [
    "---"
   ]
  },
  {
   "cell_type": "markdown",
   "metadata": {},
   "source": [
    "## Important"
   ]
  },
  {
   "cell_type": "markdown",
   "metadata": {},
   "source": [
    "In this **step**, we have to decide what columns we will use in the training. In the **previous dataframe**, we can see the values of the **mean of the importance stimator of each column, order in Descending order.**. "
   ]
  },
  {
   "cell_type": "markdown",
   "metadata": {},
   "source": [
    "We decide to choose the vars that have in the column of \"value\", a **value > 0.01**. In this case, the following columns have been selected:"
   ]
  },
  {
   "cell_type": "markdown",
   "metadata": {},
   "source": [
    "1.\tAvg_bps\t\n",
    "2.\tAvg_pps\n",
    "3.\tBytes\t\n",
    "4.\tP2_ib\t\n",
    "5.\tDuration\t\n",
    "6.\tNumber_sp\t\n",
    "7.\tNumber_dp\t\n",
    "8.\tFirst_Protocol\t\n",
    "9.\tFirst_sp\t\n",
    "10.\tP3_ib\t\n",
    "11.\tFirst_dp\t\n",
    "12.\tP1_ib\t\n",
    "13.\tP3_d\t"
   ]
  },
  {
   "cell_type": "code",
   "execution_count": 50,
   "metadata": {},
   "outputs": [],
   "source": [
    "BM_onlyStratosphere_copy = BM_onlyStratosphere_copy[['Avg_bps','Avg_pps'\n",
    "                            ,'Bytes','p2_ib','duration','number_sp','number_dp','First_Protocol'\n",
    "                            ,'first_sp','p3_ib','first_dp','p1_ib','p3_d','Type']]"
   ]
  },
  {
   "cell_type": "code",
   "execution_count": 51,
   "metadata": {},
   "outputs": [
    {
     "data": {
      "text/plain": [
       "Index(['Avg_bps', 'Avg_pps', 'Bytes', 'p2_ib', 'duration', 'number_sp',\n",
       "       'number_dp', 'First_Protocol', 'first_sp', 'p3_ib', 'first_dp', 'p1_ib',\n",
       "       'p3_d', 'Type'],\n",
       "      dtype='object')"
      ]
     },
     "execution_count": 51,
     "metadata": {},
     "output_type": "execute_result"
    }
   ],
   "source": [
    "BM_onlyStratosphere_copy.columns"
   ]
  },
  {
   "cell_type": "code",
   "execution_count": 52,
   "metadata": {},
   "outputs": [
    {
     "data": {
      "text/plain": [
       "Index(['Avg_bps', 'Avg_pps', 'Bytes', 'p2_ib', 'duration', 'number_sp',\n",
       "       'number_dp', 'First_Protocol', 'first_sp', 'p3_ib', 'first_dp', 'p1_ib',\n",
       "       'p3_d', 'Type'],\n",
       "      dtype='object')"
      ]
     },
     "execution_count": 52,
     "metadata": {},
     "output_type": "execute_result"
    }
   ],
   "source": [
    "columns_chosen = BM_onlyStratosphere_copy.columns\n",
    "columns_chosen"
   ]
  },
  {
   "cell_type": "markdown",
   "metadata": {},
   "source": [
    "---"
   ]
  },
  {
   "cell_type": "markdown",
   "metadata": {},
   "source": [
    "## 7. Let's Standardize the dataset..."
   ]
  },
  {
   "cell_type": "code",
   "execution_count": 53,
   "metadata": {},
   "outputs": [],
   "source": [
    "scaler = preprocessing.RobustScaler()"
   ]
  },
  {
   "cell_type": "code",
   "execution_count": 54,
   "metadata": {},
   "outputs": [],
   "source": [
    "dStandard_BM_onlyStratosphere_copy = BM_onlyStratosphere_copy.copy()"
   ]
  },
  {
   "cell_type": "code",
   "execution_count": 55,
   "metadata": {},
   "outputs": [],
   "source": [
    "dStandard_BM_onlyStratosphere_copy[['Avg_bps','Avg_pps'\n",
    "                            ,'Bytes','p2_ib','duration','number_sp','number_dp'\n",
    "                            ,'p3_ib','p1_ib','p3_d']] = scaler.fit_transform(dStandard_BM_onlyStratosphere_copy[['Avg_bps','Avg_pps'\n",
    "                            ,'Bytes','p2_ib','duration','number_sp','number_dp'\n",
    "                            ,'p3_ib','p1_ib','p3_d']])"
   ]
  },
  {
   "cell_type": "code",
   "execution_count": 56,
   "metadata": {},
   "outputs": [
    {
     "data": {
      "text/plain": [
       "(2013, 14)"
      ]
     },
     "execution_count": 56,
     "metadata": {},
     "output_type": "execute_result"
    }
   ],
   "source": [
    "dStandard_BM_onlyStratosphere_copy.shape"
   ]
  },
  {
   "cell_type": "code",
   "execution_count": 57,
   "metadata": {},
   "outputs": [],
   "source": [
    "dStandard_BM_onlyStratosphere_copy.to_csv(r\"C:\\Users\\Usuario\\Documents\\Github\\PDG\\PDG-2\\Datasets\\Time Window\\Standardized\\SDTrainExp2.csv\",sep=',',index=False)"
   ]
  },
  {
   "cell_type": "markdown",
   "metadata": {},
   "source": [
    "---"
   ]
  },
  {
   "cell_type": "markdown",
   "metadata": {},
   "source": [
    "## 8. Let's save the Robust Scaler..."
   ]
  },
  {
   "cell_type": "code",
   "execution_count": 58,
   "metadata": {},
   "outputs": [
    {
     "data": {
      "text/plain": [
       "['./Tools/scalerExp2.save']"
      ]
     },
     "execution_count": 58,
     "metadata": {},
     "output_type": "execute_result"
    }
   ],
   "source": [
    "scaler_filename = \"./Tools/scalerExp2.save\"\n",
    "joblib.dump(scaler, scaler_filename) "
   ]
  },
  {
   "cell_type": "markdown",
   "metadata": {},
   "source": [
    "---"
   ]
  },
  {
   "cell_type": "markdown",
   "metadata": {},
   "source": [
    "## References"
   ]
  },
  {
   "cell_type": "markdown",
   "metadata": {},
   "source": [
    "1. https://medium.com/@urvashilluniya/why-data-normalization-is-necessary-for-machine-learning-models-681b65a05029\n",
    "2. https://www.dataquest.io/blog/machine-learning-preparing-data/\n",
    "3. https://machinelearningmastery.com/feature-selection-with-real-and-categorical-data/\n",
    "4. https://stackoverflow.com/questions/55466081/how-to-calculate-feature-importance-in-each-models-of-cross-validation-in-sklear"
   ]
  }
 ],
 "metadata": {
  "kernelspec": {
   "display_name": "Python 3",
   "language": "python",
   "name": "python3"
  },
  "language_info": {
   "codemirror_mode": {
    "name": "ipython",
    "version": 3
   },
   "file_extension": ".py",
   "mimetype": "text/x-python",
   "name": "python",
   "nbconvert_exporter": "python",
   "pygments_lexer": "ipython3",
   "version": "3.7.4"
  }
 },
 "nbformat": 4,
 "nbformat_minor": 2
}
