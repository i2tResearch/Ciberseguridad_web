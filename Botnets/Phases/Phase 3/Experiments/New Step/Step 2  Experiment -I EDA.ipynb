{
 "cells": [
  {
   "cell_type": "markdown",
   "metadata": {},
   "source": [
    "# Step 2 : Experiment II"
   ]
  },
  {
   "cell_type": "markdown",
   "metadata": {},
   "source": [
    "---"
   ]
  },
  {
   "cell_type": "markdown",
   "metadata": {},
   "source": [
    "## 1. Imports"
   ]
  },
  {
   "cell_type": "code",
   "execution_count": 1,
   "metadata": {},
   "outputs": [],
   "source": [
    "import warnings\n",
    "warnings.filterwarnings('ignore') "
   ]
  },
  {
   "cell_type": "code",
   "execution_count": 2,
   "metadata": {},
   "outputs": [],
   "source": [
    "import math"
   ]
  },
  {
   "cell_type": "code",
   "execution_count": 3,
   "metadata": {},
   "outputs": [],
   "source": [
    "import numpy as np #operaciones matriciales y con vectores\n",
    "import pandas as pd #tratamiento de datos\n",
    "import random\n",
    "import matplotlib.pyplot as plt #gráficos\n",
    "import seaborn as sns"
   ]
  },
  {
   "cell_type": "code",
   "execution_count": 4,
   "metadata": {},
   "outputs": [],
   "source": [
    "from sklearn.model_selection import cross_validate\n",
    "from sklearn import preprocessing\n",
    "import joblib"
   ]
  },
  {
   "cell_type": "code",
   "execution_count": 5,
   "metadata": {},
   "outputs": [],
   "source": [
    "from sklearn.ensemble import  RandomForestClassifier"
   ]
  },
  {
   "cell_type": "markdown",
   "metadata": {},
   "source": [
    "---"
   ]
  },
  {
   "cell_type": "markdown",
   "metadata": {},
   "source": [
    "## 2. Load the datasets"
   ]
  },
  {
   "cell_type": "markdown",
   "metadata": {},
   "source": [
    "Let's load the **benign dataset** :"
   ]
  },
  {
   "cell_type": "code",
   "execution_count": 6,
   "metadata": {},
   "outputs": [],
   "source": [
    "b = pd.read_csv(r\"C:\\Users\\Usuario\\Documents\\Github\\PDG\\PDG-2\\Datasets\\Time Window\\Originals\\Benigns\\BeningTimeWindowsStratosphere.csv\", delimiter = \",\")"
   ]
  },
  {
   "cell_type": "code",
   "execution_count": 7,
   "metadata": {
    "scrolled": true
   },
   "outputs": [
    {
     "data": {
      "text/plain": [
       "(519, 31)"
      ]
     },
     "execution_count": 7,
     "metadata": {},
     "output_type": "execute_result"
    }
   ],
   "source": [
    "b.shape"
   ]
  },
  {
   "cell_type": "markdown",
   "metadata": {},
   "source": [
    "Let's load the **malign train** :"
   ]
  },
  {
   "cell_type": "code",
   "execution_count": 8,
   "metadata": {},
   "outputs": [],
   "source": [
    "m = pd.read_csv(r\"C:\\Users\\Usuario\\Documents\\Github\\PDG\\PDG-2\\Datasets\\Time Window\\Originals\\Maligns\\MalignTimeWindowsStratosphere.csv\", delimiter = \",\")"
   ]
  },
  {
   "cell_type": "code",
   "execution_count": 9,
   "metadata": {
    "scrolled": true
   },
   "outputs": [
    {
     "data": {
      "text/plain": [
       "(258178, 31)"
      ]
     },
     "execution_count": 9,
     "metadata": {},
     "output_type": "execute_result"
    }
   ],
   "source": [
    "m.shape"
   ]
  },
  {
   "cell_type": "markdown",
   "metadata": {},
   "source": [
    "Let's create a **sample**:"
   ]
  },
  {
   "cell_type": "code",
   "execution_count": 10,
   "metadata": {},
   "outputs": [
    {
     "data": {
      "text/plain": [
       "(800, 31)"
      ]
     },
     "execution_count": 10,
     "metadata": {},
     "output_type": "execute_result"
    }
   ],
   "source": [
    "m = m.sample(n=800)\n",
    "m.shape"
   ]
  },
  {
   "cell_type": "markdown",
   "metadata": {},
   "source": [
    "Let's join both datasets:"
   ]
  },
  {
   "cell_type": "code",
   "execution_count": 11,
   "metadata": {},
   "outputs": [],
   "source": [
    "frames = [b, m]\n",
    "dataset = pd.concat(frames)"
   ]
  },
  {
   "cell_type": "code",
   "execution_count": 12,
   "metadata": {
    "scrolled": true
   },
   "outputs": [
    {
     "data": {
      "text/html": [
       "<div>\n",
       "<style scoped>\n",
       "    .dataframe tbody tr th:only-of-type {\n",
       "        vertical-align: middle;\n",
       "    }\n",
       "\n",
       "    .dataframe tbody tr th {\n",
       "        vertical-align: top;\n",
       "    }\n",
       "\n",
       "    .dataframe thead th {\n",
       "        text-align: right;\n",
       "    }\n",
       "</style>\n",
       "<table border=\"1\" class=\"dataframe\">\n",
       "  <thead>\n",
       "    <tr style=\"text-align: right;\">\n",
       "      <th></th>\n",
       "      <th>Name</th>\n",
       "      <th>Netflows</th>\n",
       "      <th>First_Protocol</th>\n",
       "      <th>Second_Protocol</th>\n",
       "      <th>Third_Protocol</th>\n",
       "      <th>p1_d</th>\n",
       "      <th>p2_d</th>\n",
       "      <th>p3_d</th>\n",
       "      <th>duration</th>\n",
       "      <th>max_d</th>\n",
       "      <th>...</th>\n",
       "      <th>first_dp</th>\n",
       "      <th>second_dp</th>\n",
       "      <th>third_dp</th>\n",
       "      <th>p1_ip</th>\n",
       "      <th>p2_ip</th>\n",
       "      <th>p3_ip</th>\n",
       "      <th>p1_ib</th>\n",
       "      <th>p2_ib</th>\n",
       "      <th>p3_ib</th>\n",
       "      <th>Type</th>\n",
       "    </tr>\n",
       "  </thead>\n",
       "  <tbody>\n",
       "    <tr>\n",
       "      <td>0</td>\n",
       "      <td>1-csves/0.csv</td>\n",
       "      <td>7846</td>\n",
       "      <td>UDP</td>\n",
       "      <td>TCP</td>\n",
       "      <td>NaN</td>\n",
       "      <td>0.0</td>\n",
       "      <td>0.0</td>\n",
       "      <td>9.971</td>\n",
       "      <td>170718.308</td>\n",
       "      <td>291.654</td>\n",
       "      <td>...</td>\n",
       "      <td>53</td>\n",
       "      <td>80.0</td>\n",
       "      <td>443.0</td>\n",
       "      <td>1.0</td>\n",
       "      <td>1.0</td>\n",
       "      <td>8.0</td>\n",
       "      <td>52.0</td>\n",
       "      <td>210.0</td>\n",
       "      <td>494.0</td>\n",
       "      <td>Benign</td>\n",
       "    </tr>\n",
       "    <tr>\n",
       "      <td>1</td>\n",
       "      <td>1-csves/1.csv</td>\n",
       "      <td>10044</td>\n",
       "      <td>UDP</td>\n",
       "      <td>TCP</td>\n",
       "      <td>ICMP</td>\n",
       "      <td>0.0</td>\n",
       "      <td>0.0</td>\n",
       "      <td>7.072</td>\n",
       "      <td>144468.294</td>\n",
       "      <td>291.495</td>\n",
       "      <td>...</td>\n",
       "      <td>53</td>\n",
       "      <td>443.0</td>\n",
       "      <td>80.0</td>\n",
       "      <td>1.0</td>\n",
       "      <td>1.0</td>\n",
       "      <td>4.0</td>\n",
       "      <td>49.0</td>\n",
       "      <td>155.0</td>\n",
       "      <td>430.0</td>\n",
       "      <td>Benign</td>\n",
       "    </tr>\n",
       "    <tr>\n",
       "      <td>2</td>\n",
       "      <td>1-csves/2.csv</td>\n",
       "      <td>7852</td>\n",
       "      <td>UDP</td>\n",
       "      <td>TCP</td>\n",
       "      <td>NaN</td>\n",
       "      <td>0.0</td>\n",
       "      <td>0.0</td>\n",
       "      <td>16.452</td>\n",
       "      <td>186441.984</td>\n",
       "      <td>296.048</td>\n",
       "      <td>...</td>\n",
       "      <td>53</td>\n",
       "      <td>80.0</td>\n",
       "      <td>443.0</td>\n",
       "      <td>1.0</td>\n",
       "      <td>1.0</td>\n",
       "      <td>10.0</td>\n",
       "      <td>52.0</td>\n",
       "      <td>211.0</td>\n",
       "      <td>634.0</td>\n",
       "      <td>Benign</td>\n",
       "    </tr>\n",
       "    <tr>\n",
       "      <td>3</td>\n",
       "      <td>1-csves/3.csv</td>\n",
       "      <td>5380</td>\n",
       "      <td>UDP</td>\n",
       "      <td>TCP</td>\n",
       "      <td>ICMP</td>\n",
       "      <td>0.0</td>\n",
       "      <td>0.0</td>\n",
       "      <td>7.917</td>\n",
       "      <td>99154.208</td>\n",
       "      <td>291.025</td>\n",
       "      <td>...</td>\n",
       "      <td>53</td>\n",
       "      <td>443.0</td>\n",
       "      <td>80.0</td>\n",
       "      <td>1.0</td>\n",
       "      <td>1.0</td>\n",
       "      <td>7.0</td>\n",
       "      <td>52.0</td>\n",
       "      <td>193.0</td>\n",
       "      <td>435.0</td>\n",
       "      <td>Benign</td>\n",
       "    </tr>\n",
       "    <tr>\n",
       "      <td>4</td>\n",
       "      <td>1-csves/4.csv</td>\n",
       "      <td>6660</td>\n",
       "      <td>UDP</td>\n",
       "      <td>TCP</td>\n",
       "      <td>ICMP</td>\n",
       "      <td>0.0</td>\n",
       "      <td>0.0</td>\n",
       "      <td>8.056</td>\n",
       "      <td>134871.434</td>\n",
       "      <td>291.589</td>\n",
       "      <td>...</td>\n",
       "      <td>53</td>\n",
       "      <td>80.0</td>\n",
       "      <td>443.0</td>\n",
       "      <td>1.0</td>\n",
       "      <td>1.0</td>\n",
       "      <td>6.0</td>\n",
       "      <td>51.0</td>\n",
       "      <td>199.0</td>\n",
       "      <td>434.0</td>\n",
       "      <td>Benign</td>\n",
       "    </tr>\n",
       "  </tbody>\n",
       "</table>\n",
       "<p>5 rows × 31 columns</p>\n",
       "</div>"
      ],
      "text/plain": [
       "            Name  Netflows First_Protocol Second_Protocol Third_Protocol  \\\n",
       "0  1-csves/0.csv      7846            UDP             TCP            NaN   \n",
       "1  1-csves/1.csv     10044            UDP             TCP           ICMP   \n",
       "2  1-csves/2.csv      7852            UDP             TCP            NaN   \n",
       "3  1-csves/3.csv      5380            UDP             TCP           ICMP   \n",
       "4  1-csves/4.csv      6660            UDP             TCP           ICMP   \n",
       "\n",
       "   p1_d  p2_d    p3_d    duration    max_d  ...  first_dp  second_dp  \\\n",
       "0   0.0   0.0   9.971  170718.308  291.654  ...        53       80.0   \n",
       "1   0.0   0.0   7.072  144468.294  291.495  ...        53      443.0   \n",
       "2   0.0   0.0  16.452  186441.984  296.048  ...        53       80.0   \n",
       "3   0.0   0.0   7.917   99154.208  291.025  ...        53      443.0   \n",
       "4   0.0   0.0   8.056  134871.434  291.589  ...        53       80.0   \n",
       "\n",
       "   third_dp  p1_ip  p2_ip  p3_ip  p1_ib  p2_ib  p3_ib    Type  \n",
       "0     443.0    1.0    1.0    8.0   52.0  210.0  494.0  Benign  \n",
       "1      80.0    1.0    1.0    4.0   49.0  155.0  430.0  Benign  \n",
       "2     443.0    1.0    1.0   10.0   52.0  211.0  634.0  Benign  \n",
       "3      80.0    1.0    1.0    7.0   52.0  193.0  435.0  Benign  \n",
       "4     443.0    1.0    1.0    6.0   51.0  199.0  434.0  Benign  \n",
       "\n",
       "[5 rows x 31 columns]"
      ]
     },
     "execution_count": 12,
     "metadata": {},
     "output_type": "execute_result"
    }
   ],
   "source": [
    "dataset.head()"
   ]
  },
  {
   "cell_type": "code",
   "execution_count": 13,
   "metadata": {},
   "outputs": [
    {
     "data": {
      "text/plain": [
       "(1319, 31)"
      ]
     },
     "execution_count": 13,
     "metadata": {},
     "output_type": "execute_result"
    }
   ],
   "source": [
    "dataset.shape"
   ]
  },
  {
   "cell_type": "code",
   "execution_count": 14,
   "metadata": {},
   "outputs": [],
   "source": [
    "dataset = dataset.sample(frac=1)"
   ]
  },
  {
   "cell_type": "markdown",
   "metadata": {},
   "source": [
    "---"
   ]
  },
  {
   "cell_type": "markdown",
   "metadata": {},
   "source": [
    "## 3. Let's see the dataset..."
   ]
  },
  {
   "cell_type": "code",
   "execution_count": 15,
   "metadata": {},
   "outputs": [
    {
     "name": "stdout",
     "output_type": "stream",
     "text": [
      "<class 'pandas.core.frame.DataFrame'>\n",
      "Int64Index: 1319 entries, 284 to 231862\n",
      "Data columns (total 31 columns):\n",
      "Name               1319 non-null object\n",
      "Netflows           1319 non-null int64\n",
      "First_Protocol     729 non-null object\n",
      "Second_Protocol    1172 non-null object\n",
      "Third_Protocol     707 non-null object\n",
      "p1_d               1319 non-null float64\n",
      "p2_d               1319 non-null float64\n",
      "p3_d               1319 non-null float64\n",
      "duration           1319 non-null float64\n",
      "max_d              1319 non-null float64\n",
      "min_d              1319 non-null float64\n",
      "packets            1319 non-null int64\n",
      "Avg_bps            1319 non-null int64\n",
      "Avg_pps            1319 non-null int64\n",
      "Avg_bpp            1319 non-null int64\n",
      "Bytes              1319 non-null int64\n",
      "number_sp          1319 non-null int64\n",
      "number_dp          1319 non-null int64\n",
      "first_sp           1319 non-null int64\n",
      "second_sp          1151 non-null float64\n",
      "third_sp           1080 non-null float64\n",
      "first_dp           1319 non-null int64\n",
      "second_dp          1294 non-null float64\n",
      "third_dp           1203 non-null float64\n",
      "p1_ip              1319 non-null float64\n",
      "p2_ip              1319 non-null float64\n",
      "p3_ip              1319 non-null float64\n",
      "p1_ib              1319 non-null float64\n",
      "p2_ib              1319 non-null float64\n",
      "p3_ib              1319 non-null float64\n",
      "Type               1319 non-null object\n",
      "dtypes: float64(16), int64(10), object(5)\n",
      "memory usage: 329.8+ KB\n"
     ]
    }
   ],
   "source": [
    "dataset.info()"
   ]
  },
  {
   "cell_type": "code",
   "execution_count": 16,
   "metadata": {},
   "outputs": [
    {
     "data": {
      "text/html": [
       "<div>\n",
       "<style scoped>\n",
       "    .dataframe tbody tr th:only-of-type {\n",
       "        vertical-align: middle;\n",
       "    }\n",
       "\n",
       "    .dataframe tbody tr th {\n",
       "        vertical-align: top;\n",
       "    }\n",
       "\n",
       "    .dataframe thead th {\n",
       "        text-align: right;\n",
       "    }\n",
       "</style>\n",
       "<table border=\"1\" class=\"dataframe\">\n",
       "  <thead>\n",
       "    <tr style=\"text-align: right;\">\n",
       "      <th></th>\n",
       "      <th>count</th>\n",
       "      <th>unique</th>\n",
       "      <th>top</th>\n",
       "      <th>freq</th>\n",
       "      <th>mean</th>\n",
       "      <th>std</th>\n",
       "      <th>min</th>\n",
       "      <th>25%</th>\n",
       "      <th>50%</th>\n",
       "      <th>75%</th>\n",
       "      <th>max</th>\n",
       "    </tr>\n",
       "  </thead>\n",
       "  <tbody>\n",
       "    <tr>\n",
       "      <td>Name</td>\n",
       "      <td>1319</td>\n",
       "      <td>1319</td>\n",
       "      <td>22-csves/5172.csv</td>\n",
       "      <td>1</td>\n",
       "      <td>NaN</td>\n",
       "      <td>NaN</td>\n",
       "      <td>NaN</td>\n",
       "      <td>NaN</td>\n",
       "      <td>NaN</td>\n",
       "      <td>NaN</td>\n",
       "      <td>NaN</td>\n",
       "    </tr>\n",
       "    <tr>\n",
       "      <td>Netflows</td>\n",
       "      <td>1319</td>\n",
       "      <td>NaN</td>\n",
       "      <td>NaN</td>\n",
       "      <td>NaN</td>\n",
       "      <td>1521.14</td>\n",
       "      <td>3396.17</td>\n",
       "      <td>2</td>\n",
       "      <td>160</td>\n",
       "      <td>276</td>\n",
       "      <td>1212</td>\n",
       "      <td>43128</td>\n",
       "    </tr>\n",
       "    <tr>\n",
       "      <td>First_Protocol</td>\n",
       "      <td>729</td>\n",
       "      <td>4</td>\n",
       "      <td>UDP</td>\n",
       "      <td>527</td>\n",
       "      <td>NaN</td>\n",
       "      <td>NaN</td>\n",
       "      <td>NaN</td>\n",
       "      <td>NaN</td>\n",
       "      <td>NaN</td>\n",
       "      <td>NaN</td>\n",
       "      <td>NaN</td>\n",
       "    </tr>\n",
       "    <tr>\n",
       "      <td>Second_Protocol</td>\n",
       "      <td>1172</td>\n",
       "      <td>5</td>\n",
       "      <td>TCP</td>\n",
       "      <td>459</td>\n",
       "      <td>NaN</td>\n",
       "      <td>NaN</td>\n",
       "      <td>NaN</td>\n",
       "      <td>NaN</td>\n",
       "      <td>NaN</td>\n",
       "      <td>NaN</td>\n",
       "      <td>NaN</td>\n",
       "    </tr>\n",
       "    <tr>\n",
       "      <td>Third_Protocol</td>\n",
       "      <td>707</td>\n",
       "      <td>5</td>\n",
       "      <td>ICMP6</td>\n",
       "      <td>229</td>\n",
       "      <td>NaN</td>\n",
       "      <td>NaN</td>\n",
       "      <td>NaN</td>\n",
       "      <td>NaN</td>\n",
       "      <td>NaN</td>\n",
       "      <td>NaN</td>\n",
       "      <td>NaN</td>\n",
       "    </tr>\n",
       "    <tr>\n",
       "      <td>p1_d</td>\n",
       "      <td>1319</td>\n",
       "      <td>NaN</td>\n",
       "      <td>NaN</td>\n",
       "      <td>NaN</td>\n",
       "      <td>0.292312</td>\n",
       "      <td>3.88075</td>\n",
       "      <td>0</td>\n",
       "      <td>0</td>\n",
       "      <td>0</td>\n",
       "      <td>0</td>\n",
       "      <td>105.527</td>\n",
       "    </tr>\n",
       "    <tr>\n",
       "      <td>p2_d</td>\n",
       "      <td>1319</td>\n",
       "      <td>NaN</td>\n",
       "      <td>NaN</td>\n",
       "      <td>NaN</td>\n",
       "      <td>0.977842</td>\n",
       "      <td>10.569</td>\n",
       "      <td>0</td>\n",
       "      <td>0</td>\n",
       "      <td>0</td>\n",
       "      <td>0</td>\n",
       "      <td>211.054</td>\n",
       "    </tr>\n",
       "    <tr>\n",
       "      <td>p3_d</td>\n",
       "      <td>1319</td>\n",
       "      <td>NaN</td>\n",
       "      <td>NaN</td>\n",
       "      <td>NaN</td>\n",
       "      <td>6.5282</td>\n",
       "      <td>21.7183</td>\n",
       "      <td>0</td>\n",
       "      <td>0</td>\n",
       "      <td>0</td>\n",
       "      <td>3.551</td>\n",
       "      <td>238.957</td>\n",
       "    </tr>\n",
       "    <tr>\n",
       "      <td>duration</td>\n",
       "      <td>1319</td>\n",
       "      <td>NaN</td>\n",
       "      <td>NaN</td>\n",
       "      <td>NaN</td>\n",
       "      <td>22124.1</td>\n",
       "      <td>48416.2</td>\n",
       "      <td>0</td>\n",
       "      <td>17.372</td>\n",
       "      <td>363.106</td>\n",
       "      <td>15021</td>\n",
       "      <td>302504</td>\n",
       "    </tr>\n",
       "    <tr>\n",
       "      <td>max_d</td>\n",
       "      <td>1319</td>\n",
       "      <td>NaN</td>\n",
       "      <td>NaN</td>\n",
       "      <td>NaN</td>\n",
       "      <td>134.357</td>\n",
       "      <td>125.124</td>\n",
       "      <td>0</td>\n",
       "      <td>3.001</td>\n",
       "      <td>127.608</td>\n",
       "      <td>282.323</td>\n",
       "      <td>509.799</td>\n",
       "    </tr>\n",
       "    <tr>\n",
       "      <td>min_d</td>\n",
       "      <td>1319</td>\n",
       "      <td>NaN</td>\n",
       "      <td>NaN</td>\n",
       "      <td>NaN</td>\n",
       "      <td>0.00341698</td>\n",
       "      <td>0.0948968</td>\n",
       "      <td>0</td>\n",
       "      <td>0</td>\n",
       "      <td>0</td>\n",
       "      <td>0</td>\n",
       "      <td>3.414</td>\n",
       "    </tr>\n",
       "    <tr>\n",
       "      <td>packets</td>\n",
       "      <td>1319</td>\n",
       "      <td>NaN</td>\n",
       "      <td>NaN</td>\n",
       "      <td>NaN</td>\n",
       "      <td>17156.6</td>\n",
       "      <td>48108.3</td>\n",
       "      <td>4</td>\n",
       "      <td>196</td>\n",
       "      <td>334</td>\n",
       "      <td>12529</td>\n",
       "      <td>469938</td>\n",
       "    </tr>\n",
       "    <tr>\n",
       "      <td>Avg_bps</td>\n",
       "      <td>1319</td>\n",
       "      <td>NaN</td>\n",
       "      <td>NaN</td>\n",
       "      <td>NaN</td>\n",
       "      <td>318029</td>\n",
       "      <td>1.0842e+06</td>\n",
       "      <td>0</td>\n",
       "      <td>308</td>\n",
       "      <td>748</td>\n",
       "      <td>198082</td>\n",
       "      <td>1.42229e+07</td>\n",
       "    </tr>\n",
       "    <tr>\n",
       "      <td>Avg_pps</td>\n",
       "      <td>1319</td>\n",
       "      <td>NaN</td>\n",
       "      <td>NaN</td>\n",
       "      <td>NaN</td>\n",
       "      <td>66.862</td>\n",
       "      <td>232.89</td>\n",
       "      <td>0</td>\n",
       "      <td>0</td>\n",
       "      <td>1</td>\n",
       "      <td>48</td>\n",
       "      <td>4000</td>\n",
       "    </tr>\n",
       "    <tr>\n",
       "      <td>Avg_bpp</td>\n",
       "      <td>1319</td>\n",
       "      <td>NaN</td>\n",
       "      <td>NaN</td>\n",
       "      <td>NaN</td>\n",
       "      <td>232.358</td>\n",
       "      <td>249.765</td>\n",
       "      <td>0</td>\n",
       "      <td>48</td>\n",
       "      <td>119</td>\n",
       "      <td>432</td>\n",
       "      <td>1217</td>\n",
       "    </tr>\n",
       "    <tr>\n",
       "      <td>Bytes</td>\n",
       "      <td>1319</td>\n",
       "      <td>NaN</td>\n",
       "      <td>NaN</td>\n",
       "      <td>NaN</td>\n",
       "      <td>1.055e+07</td>\n",
       "      <td>3.44823e+07</td>\n",
       "      <td>128</td>\n",
       "      <td>9337</td>\n",
       "      <td>24946</td>\n",
       "      <td>6.22458e+06</td>\n",
       "      <td>4.30544e+08</td>\n",
       "    </tr>\n",
       "    <tr>\n",
       "      <td>number_sp</td>\n",
       "      <td>1319</td>\n",
       "      <td>NaN</td>\n",
       "      <td>NaN</td>\n",
       "      <td>NaN</td>\n",
       "      <td>314.234</td>\n",
       "      <td>661.115</td>\n",
       "      <td>1</td>\n",
       "      <td>4</td>\n",
       "      <td>11</td>\n",
       "      <td>321.5</td>\n",
       "      <td>6704</td>\n",
       "    </tr>\n",
       "    <tr>\n",
       "      <td>number_dp</td>\n",
       "      <td>1319</td>\n",
       "      <td>NaN</td>\n",
       "      <td>NaN</td>\n",
       "      <td>NaN</td>\n",
       "      <td>312.359</td>\n",
       "      <td>659.474</td>\n",
       "      <td>1</td>\n",
       "      <td>5</td>\n",
       "      <td>10</td>\n",
       "      <td>306.5</td>\n",
       "      <td>6716</td>\n",
       "    </tr>\n",
       "    <tr>\n",
       "      <td>first_sp</td>\n",
       "      <td>1319</td>\n",
       "      <td>NaN</td>\n",
       "      <td>NaN</td>\n",
       "      <td>NaN</td>\n",
       "      <td>980.197</td>\n",
       "      <td>5274.56</td>\n",
       "      <td>0</td>\n",
       "      <td>0</td>\n",
       "      <td>53</td>\n",
       "      <td>53</td>\n",
       "      <td>65251</td>\n",
       "    </tr>\n",
       "    <tr>\n",
       "      <td>second_sp</td>\n",
       "      <td>1151</td>\n",
       "      <td>NaN</td>\n",
       "      <td>NaN</td>\n",
       "      <td>NaN</td>\n",
       "      <td>14606.9</td>\n",
       "      <td>22712.2</td>\n",
       "      <td>0</td>\n",
       "      <td>443</td>\n",
       "      <td>443</td>\n",
       "      <td>30635.5</td>\n",
       "      <td>65283</td>\n",
       "    </tr>\n",
       "    <tr>\n",
       "      <td>third_sp</td>\n",
       "      <td>1080</td>\n",
       "      <td>NaN</td>\n",
       "      <td>NaN</td>\n",
       "      <td>NaN</td>\n",
       "      <td>22637.4</td>\n",
       "      <td>26167.4</td>\n",
       "      <td>0</td>\n",
       "      <td>80</td>\n",
       "      <td>3333</td>\n",
       "      <td>52125.5</td>\n",
       "      <td>65438</td>\n",
       "    </tr>\n",
       "    <tr>\n",
       "      <td>first_dp</td>\n",
       "      <td>1319</td>\n",
       "      <td>NaN</td>\n",
       "      <td>NaN</td>\n",
       "      <td>NaN</td>\n",
       "      <td>1022.33</td>\n",
       "      <td>4998.36</td>\n",
       "      <td>0</td>\n",
       "      <td>0</td>\n",
       "      <td>53</td>\n",
       "      <td>53</td>\n",
       "      <td>59370</td>\n",
       "    </tr>\n",
       "    <tr>\n",
       "      <td>second_dp</td>\n",
       "      <td>1294</td>\n",
       "      <td>NaN</td>\n",
       "      <td>NaN</td>\n",
       "      <td>NaN</td>\n",
       "      <td>19521</td>\n",
       "      <td>19730</td>\n",
       "      <td>0</td>\n",
       "      <td>443</td>\n",
       "      <td>15668</td>\n",
       "      <td>34560</td>\n",
       "      <td>65332</td>\n",
       "    </tr>\n",
       "    <tr>\n",
       "      <td>third_dp</td>\n",
       "      <td>1203</td>\n",
       "      <td>NaN</td>\n",
       "      <td>NaN</td>\n",
       "      <td>NaN</td>\n",
       "      <td>16772.5</td>\n",
       "      <td>21601.1</td>\n",
       "      <td>0</td>\n",
       "      <td>443</td>\n",
       "      <td>1900</td>\n",
       "      <td>34560</td>\n",
       "      <td>65394</td>\n",
       "    </tr>\n",
       "    <tr>\n",
       "      <td>p1_ip</td>\n",
       "      <td>1319</td>\n",
       "      <td>NaN</td>\n",
       "      <td>NaN</td>\n",
       "      <td>NaN</td>\n",
       "      <td>1.61069</td>\n",
       "      <td>5.30392</td>\n",
       "      <td>1</td>\n",
       "      <td>1</td>\n",
       "      <td>1</td>\n",
       "      <td>1</td>\n",
       "      <td>111</td>\n",
       "    </tr>\n",
       "    <tr>\n",
       "      <td>p2_ip</td>\n",
       "      <td>1319</td>\n",
       "      <td>NaN</td>\n",
       "      <td>NaN</td>\n",
       "      <td>NaN</td>\n",
       "      <td>2.30023</td>\n",
       "      <td>10.5052</td>\n",
       "      <td>1</td>\n",
       "      <td>1</td>\n",
       "      <td>1</td>\n",
       "      <td>1</td>\n",
       "      <td>221</td>\n",
       "    </tr>\n",
       "    <tr>\n",
       "      <td>p3_ip</td>\n",
       "      <td>1319</td>\n",
       "      <td>NaN</td>\n",
       "      <td>NaN</td>\n",
       "      <td>NaN</td>\n",
       "      <td>4.69067</td>\n",
       "      <td>23.7414</td>\n",
       "      <td>1</td>\n",
       "      <td>1</td>\n",
       "      <td>1</td>\n",
       "      <td>5</td>\n",
       "      <td>444.5</td>\n",
       "    </tr>\n",
       "    <tr>\n",
       "      <td>p1_ib</td>\n",
       "      <td>1319</td>\n",
       "      <td>NaN</td>\n",
       "      <td>NaN</td>\n",
       "      <td>NaN</td>\n",
       "      <td>128.942</td>\n",
       "      <td>865.759</td>\n",
       "      <td>32</td>\n",
       "      <td>32</td>\n",
       "      <td>42</td>\n",
       "      <td>51</td>\n",
       "      <td>13478.5</td>\n",
       "    </tr>\n",
       "    <tr>\n",
       "      <td>p2_ib</td>\n",
       "      <td>1319</td>\n",
       "      <td>NaN</td>\n",
       "      <td>NaN</td>\n",
       "      <td>NaN</td>\n",
       "      <td>260.452</td>\n",
       "      <td>1704.83</td>\n",
       "      <td>32</td>\n",
       "      <td>32</td>\n",
       "      <td>57</td>\n",
       "      <td>111.75</td>\n",
       "      <td>26687</td>\n",
       "    </tr>\n",
       "    <tr>\n",
       "      <td>p3_ib</td>\n",
       "      <td>1319</td>\n",
       "      <td>NaN</td>\n",
       "      <td>NaN</td>\n",
       "      <td>NaN</td>\n",
       "      <td>1930.98</td>\n",
       "      <td>23337.3</td>\n",
       "      <td>32</td>\n",
       "      <td>32</td>\n",
       "      <td>138</td>\n",
       "      <td>370</td>\n",
       "      <td>352466</td>\n",
       "    </tr>\n",
       "    <tr>\n",
       "      <td>Type</td>\n",
       "      <td>1319</td>\n",
       "      <td>2</td>\n",
       "      <td>Malign</td>\n",
       "      <td>800</td>\n",
       "      <td>NaN</td>\n",
       "      <td>NaN</td>\n",
       "      <td>NaN</td>\n",
       "      <td>NaN</td>\n",
       "      <td>NaN</td>\n",
       "      <td>NaN</td>\n",
       "      <td>NaN</td>\n",
       "    </tr>\n",
       "  </tbody>\n",
       "</table>\n",
       "</div>"
      ],
      "text/plain": [
       "                count unique                top freq        mean          std  \\\n",
       "Name             1319   1319  22-csves/5172.csv    1         NaN          NaN   \n",
       "Netflows         1319    NaN                NaN  NaN     1521.14      3396.17   \n",
       "First_Protocol    729      4                UDP  527         NaN          NaN   \n",
       "Second_Protocol  1172      5                TCP  459         NaN          NaN   \n",
       "Third_Protocol    707      5              ICMP6  229         NaN          NaN   \n",
       "p1_d             1319    NaN                NaN  NaN    0.292312      3.88075   \n",
       "p2_d             1319    NaN                NaN  NaN    0.977842       10.569   \n",
       "p3_d             1319    NaN                NaN  NaN      6.5282      21.7183   \n",
       "duration         1319    NaN                NaN  NaN     22124.1      48416.2   \n",
       "max_d            1319    NaN                NaN  NaN     134.357      125.124   \n",
       "min_d            1319    NaN                NaN  NaN  0.00341698    0.0948968   \n",
       "packets          1319    NaN                NaN  NaN     17156.6      48108.3   \n",
       "Avg_bps          1319    NaN                NaN  NaN      318029   1.0842e+06   \n",
       "Avg_pps          1319    NaN                NaN  NaN      66.862       232.89   \n",
       "Avg_bpp          1319    NaN                NaN  NaN     232.358      249.765   \n",
       "Bytes            1319    NaN                NaN  NaN   1.055e+07  3.44823e+07   \n",
       "number_sp        1319    NaN                NaN  NaN     314.234      661.115   \n",
       "number_dp        1319    NaN                NaN  NaN     312.359      659.474   \n",
       "first_sp         1319    NaN                NaN  NaN     980.197      5274.56   \n",
       "second_sp        1151    NaN                NaN  NaN     14606.9      22712.2   \n",
       "third_sp         1080    NaN                NaN  NaN     22637.4      26167.4   \n",
       "first_dp         1319    NaN                NaN  NaN     1022.33      4998.36   \n",
       "second_dp        1294    NaN                NaN  NaN       19521        19730   \n",
       "third_dp         1203    NaN                NaN  NaN     16772.5      21601.1   \n",
       "p1_ip            1319    NaN                NaN  NaN     1.61069      5.30392   \n",
       "p2_ip            1319    NaN                NaN  NaN     2.30023      10.5052   \n",
       "p3_ip            1319    NaN                NaN  NaN     4.69067      23.7414   \n",
       "p1_ib            1319    NaN                NaN  NaN     128.942      865.759   \n",
       "p2_ib            1319    NaN                NaN  NaN     260.452      1704.83   \n",
       "p3_ib            1319    NaN                NaN  NaN     1930.98      23337.3   \n",
       "Type             1319      2             Malign  800         NaN          NaN   \n",
       "\n",
       "                 min     25%      50%          75%          max  \n",
       "Name             NaN     NaN      NaN          NaN          NaN  \n",
       "Netflows           2     160      276         1212        43128  \n",
       "First_Protocol   NaN     NaN      NaN          NaN          NaN  \n",
       "Second_Protocol  NaN     NaN      NaN          NaN          NaN  \n",
       "Third_Protocol   NaN     NaN      NaN          NaN          NaN  \n",
       "p1_d               0       0        0            0      105.527  \n",
       "p2_d               0       0        0            0      211.054  \n",
       "p3_d               0       0        0        3.551      238.957  \n",
       "duration           0  17.372  363.106        15021       302504  \n",
       "max_d              0   3.001  127.608      282.323      509.799  \n",
       "min_d              0       0        0            0        3.414  \n",
       "packets            4     196      334        12529       469938  \n",
       "Avg_bps            0     308      748       198082  1.42229e+07  \n",
       "Avg_pps            0       0        1           48         4000  \n",
       "Avg_bpp            0      48      119          432         1217  \n",
       "Bytes            128    9337    24946  6.22458e+06  4.30544e+08  \n",
       "number_sp          1       4       11        321.5         6704  \n",
       "number_dp          1       5       10        306.5         6716  \n",
       "first_sp           0       0       53           53        65251  \n",
       "second_sp          0     443      443      30635.5        65283  \n",
       "third_sp           0      80     3333      52125.5        65438  \n",
       "first_dp           0       0       53           53        59370  \n",
       "second_dp          0     443    15668        34560        65332  \n",
       "third_dp           0     443     1900        34560        65394  \n",
       "p1_ip              1       1        1            1          111  \n",
       "p2_ip              1       1        1            1          221  \n",
       "p3_ip              1       1        1            5        444.5  \n",
       "p1_ib             32      32       42           51      13478.5  \n",
       "p2_ib             32      32       57       111.75        26687  \n",
       "p3_ib             32      32      138          370       352466  \n",
       "Type             NaN     NaN      NaN          NaN          NaN  "
      ]
     },
     "execution_count": 16,
     "metadata": {},
     "output_type": "execute_result"
    }
   ],
   "source": [
    "dataset.describe(include=\"all\").T"
   ]
  },
  {
   "cell_type": "code",
   "execution_count": 17,
   "metadata": {},
   "outputs": [
    {
     "name": "stdout",
     "output_type": "stream",
     "text": [
      "Number of null values in each column:\n",
      "Name                 0\n",
      "Netflows             0\n",
      "First_Protocol     590\n",
      "Second_Protocol    147\n",
      "Third_Protocol     612\n",
      "p1_d                 0\n",
      "p2_d                 0\n",
      "p3_d                 0\n",
      "duration             0\n",
      "max_d                0\n",
      "min_d                0\n",
      "packets              0\n",
      "Avg_bps              0\n",
      "Avg_pps              0\n",
      "Avg_bpp              0\n",
      "Bytes                0\n",
      "number_sp            0\n",
      "number_dp            0\n",
      "first_sp             0\n",
      "second_sp          168\n",
      "third_sp           239\n",
      "first_dp             0\n",
      "second_dp           25\n",
      "third_dp           116\n",
      "p1_ip                0\n",
      "p2_ip                0\n",
      "p3_ip                0\n",
      "p1_ib                0\n",
      "p2_ib                0\n",
      "p3_ib                0\n",
      "Type                 0\n",
      "dtype: int64\n"
     ]
    }
   ],
   "source": [
    "null_counts = dataset.isnull().sum()\n",
    "print(\"Number of null values in each column:\\n{}\".format(null_counts))"
   ]
  },
  {
   "cell_type": "code",
   "execution_count": 18,
   "metadata": {},
   "outputs": [
    {
     "data": {
      "image/png": "[encoded data removed]",
      "text/plain": [
       "<Figure size 1440x720 with 2 Axes>"
      ]
     },
     "metadata": {
      "needs_background": "light"
     },
     "output_type": "display_data"
    }
   ],
   "source": [
    "fig, axs = plt.subplots(1,2,figsize=(20,10))\n",
    "sns.countplot(x='Type',data=dataset,ax=axs[0])\n",
    "axs[0].set_title(\"Frequency of each Type\")\n",
    "dataset.Type.value_counts().plot(x=None,y=None, kind='pie', ax=axs[1],autopct='%1.2f%%')\n",
    "axs[1].set_title(\"Percentage of each Type\")\n",
    "plt.show()"
   ]
  },
  {
   "cell_type": "markdown",
   "metadata": {},
   "source": [
    "---"
   ]
  },
  {
   "cell_type": "markdown",
   "metadata": {},
   "source": [
    "## 4. EDA"
   ]
  },
  {
   "cell_type": "markdown",
   "metadata": {},
   "source": [
    "### 4.1 Remove NaNs"
   ]
  },
  {
   "cell_type": "code",
   "execution_count": 19,
   "metadata": {},
   "outputs": [
    {
     "data": {
      "text/plain": [
       "Index(['Name', 'Netflows', 'First_Protocol', 'Second_Protocol',\n",
       "       'Third_Protocol', 'p1_d', 'p2_d', 'p3_d', 'duration', 'max_d', 'min_d',\n",
       "       'packets', 'Avg_bps', 'Avg_pps', 'Avg_bpp', 'Bytes', 'number_sp',\n",
       "       'number_dp', 'first_sp', 'second_sp', 'third_sp', 'first_dp',\n",
       "       'second_dp', 'third_dp', 'p1_ip', 'p2_ip', 'p3_ip', 'p1_ib', 'p2_ib',\n",
       "       'p3_ib', 'Type'],\n",
       "      dtype='object')"
      ]
     },
     "execution_count": 19,
     "metadata": {},
     "output_type": "execute_result"
    }
   ],
   "source": [
    "dataset.columns"
   ]
  },
  {
   "cell_type": "code",
   "execution_count": 20,
   "metadata": {},
   "outputs": [],
   "source": [
    "dataset['First_Protocol'] = dataset['First_Protocol'].replace(np.nan,\"None\",regex=True)\n",
    "dataset['Second_Protocol'] = dataset['Second_Protocol'].replace(np.nan,\"None\",regex=True)\n",
    "dataset['Third_Protocol'] = dataset['Third_Protocol'].replace(np.nan,\"None\",regex=True)"
   ]
  },
  {
   "cell_type": "code",
   "execution_count": 21,
   "metadata": {},
   "outputs": [],
   "source": [
    "dataset['second_sp'] = dataset['second_sp'].replace(np.nan,-1,regex=True)\n",
    "dataset['third_sp'] = dataset['third_sp'].replace(np.nan,-1,regex=True)\n",
    "\n",
    "dataset['second_sp'] = dataset['second_sp'].replace(np.nan,-1,regex=True)\n",
    "dataset['third_sp'] = dataset['third_sp'].replace(np.nan,-1,regex=True)"
   ]
  },
  {
   "cell_type": "code",
   "execution_count": 22,
   "metadata": {},
   "outputs": [],
   "source": [
    "dataset['second_dp'] = dataset['second_dp'].replace(np.nan,-1,regex=True)\n",
    "dataset['third_dp'] = dataset['third_dp'].replace(np.nan,-1,regex=True)\n",
    "\n",
    "dataset['second_dp'] = dataset['second_dp'].replace(np.nan,-1,regex=True)\n",
    "dataset['third_dp'] = dataset['third_dp'].replace(np.nan,-1,regex=True)"
   ]
  },
  {
   "cell_type": "code",
   "execution_count": 23,
   "metadata": {},
   "outputs": [
    {
     "name": "stdout",
     "output_type": "stream",
     "text": [
      "Number of null values in each column:\n",
      "Name               0\n",
      "Netflows           0\n",
      "First_Protocol     0\n",
      "Second_Protocol    0\n",
      "Third_Protocol     0\n",
      "p1_d               0\n",
      "p2_d               0\n",
      "p3_d               0\n",
      "duration           0\n",
      "max_d              0\n",
      "min_d              0\n",
      "packets            0\n",
      "Avg_bps            0\n",
      "Avg_pps            0\n",
      "Avg_bpp            0\n",
      "Bytes              0\n",
      "number_sp          0\n",
      "number_dp          0\n",
      "first_sp           0\n",
      "second_sp          0\n",
      "third_sp           0\n",
      "first_dp           0\n",
      "second_dp          0\n",
      "third_dp           0\n",
      "p1_ip              0\n",
      "p2_ip              0\n",
      "p3_ip              0\n",
      "p1_ib              0\n",
      "p2_ib              0\n",
      "p3_ib              0\n",
      "Type               0\n",
      "dtype: int64\n"
     ]
    }
   ],
   "source": [
    "null_counts = dataset.isnull().sum()\n",
    "print(\"Number of null values in each column:\\n{}\".format(null_counts))"
   ]
  },
  {
   "cell_type": "markdown",
   "metadata": {},
   "source": [
    "### 4.2 Changing Dtypes"
   ]
  },
  {
   "cell_type": "markdown",
   "metadata": {},
   "source": [
    "Columns like :"
   ]
  },
  {
   "cell_type": "markdown",
   "metadata": {},
   "source": [
    "   1. second_sp\n",
    "   2. third_sp\n",
    "   3. second_dp\n",
    "   4. third_dp"
   ]
  },
  {
   "cell_type": "markdown",
   "metadata": {},
   "source": [
    "Have to be **INTEGER** because they are **PORTS**"
   ]
  },
  {
   "cell_type": "code",
   "execution_count": 24,
   "metadata": {},
   "outputs": [],
   "source": [
    "dataset['second_sp'] = dataset['second_sp'].astype(np.int64)\n",
    "dataset['third_sp'] = dataset['third_sp'].astype(np.int64)"
   ]
  },
  {
   "cell_type": "code",
   "execution_count": 25,
   "metadata": {},
   "outputs": [],
   "source": [
    "dataset['second_dp'] = dataset['second_dp'].astype(np.int64)\n",
    "dataset['third_dp'] = dataset['third_dp'].astype(np.int64)"
   ]
  },
  {
   "cell_type": "code",
   "execution_count": 26,
   "metadata": {},
   "outputs": [
    {
     "name": "stdout",
     "output_type": "stream",
     "text": [
      "<class 'pandas.core.frame.DataFrame'>\n",
      "Int64Index: 1319 entries, 284 to 231862\n",
      "Data columns (total 31 columns):\n",
      "Name               1319 non-null object\n",
      "Netflows           1319 non-null int64\n",
      "First_Protocol     1319 non-null object\n",
      "Second_Protocol    1319 non-null object\n",
      "Third_Protocol     1319 non-null object\n",
      "p1_d               1319 non-null float64\n",
      "p2_d               1319 non-null float64\n",
      "p3_d               1319 non-null float64\n",
      "duration           1319 non-null float64\n",
      "max_d              1319 non-null float64\n",
      "min_d              1319 non-null float64\n",
      "packets            1319 non-null int64\n",
      "Avg_bps            1319 non-null int64\n",
      "Avg_pps            1319 non-null int64\n",
      "Avg_bpp            1319 non-null int64\n",
      "Bytes              1319 non-null int64\n",
      "number_sp          1319 non-null int64\n",
      "number_dp          1319 non-null int64\n",
      "first_sp           1319 non-null int64\n",
      "second_sp          1319 non-null int64\n",
      "third_sp           1319 non-null int64\n",
      "first_dp           1319 non-null int64\n",
      "second_dp          1319 non-null int64\n",
      "third_dp           1319 non-null int64\n",
      "p1_ip              1319 non-null float64\n",
      "p2_ip              1319 non-null float64\n",
      "p3_ip              1319 non-null float64\n",
      "p1_ib              1319 non-null float64\n",
      "p2_ib              1319 non-null float64\n",
      "p3_ib              1319 non-null float64\n",
      "Type               1319 non-null object\n",
      "dtypes: float64(12), int64(14), object(5)\n",
      "memory usage: 369.8+ KB\n"
     ]
    }
   ],
   "source": [
    "dataset.info()"
   ]
  },
  {
   "cell_type": "markdown",
   "metadata": {},
   "source": [
    "### 4.3  Drop Innnecesary Columns..."
   ]
  },
  {
   "cell_type": "markdown",
   "metadata": {},
   "source": [
    "Let's verify if there are columns that have less than 4 values in the column's values"
   ]
  },
  {
   "cell_type": "code",
   "execution_count": 27,
   "metadata": {
    "scrolled": true
   },
   "outputs": [
    {
     "name": "stdout",
     "output_type": "stream",
     "text": [
      "Malign    800\n",
      "Benign    519\n",
      "Name: Type, dtype: int64\n",
      "\n"
     ]
    }
   ],
   "source": [
    "for col in dataset.columns:\n",
    "    if (len(dataset[col].unique()) < 4):\n",
    "        print(dataset[col].value_counts())\n",
    "        print()"
   ]
  },
  {
   "cell_type": "markdown",
   "metadata": {},
   "source": [
    "Obviously, the column **Type** can't be delete because it's the **TARGET**"
   ]
  },
  {
   "cell_type": "markdown",
   "metadata": {},
   "source": [
    "---"
   ]
  },
  {
   "cell_type": "markdown",
   "metadata": {},
   "source": [
    "### 4.4. Let's create the Dictionary"
   ]
  },
  {
   "cell_type": "code",
   "execution_count": 28,
   "metadata": {},
   "outputs": [],
   "source": [
    "le = preprocessing.LabelEncoder()"
   ]
  },
  {
   "cell_type": "markdown",
   "metadata": {},
   "source": [
    "#### 4.4.1 First_Protocol var"
   ]
  },
  {
   "cell_type": "code",
   "execution_count": 29,
   "metadata": {},
   "outputs": [
    {
     "data": {
      "text/plain": [
       "array(['UDP', 'None', 'TCP', 'ICMP', 'ICMP6'], dtype=object)"
      ]
     },
     "execution_count": 29,
     "metadata": {},
     "output_type": "execute_result"
    }
   ],
   "source": [
    "dataset.First_Protocol.unique()"
   ]
  },
  {
   "cell_type": "code",
   "execution_count": 30,
   "metadata": {},
   "outputs": [],
   "source": [
    "first_protocol_column_codified = le.fit_transform(dataset.First_Protocol)"
   ]
  },
  {
   "cell_type": "code",
   "execution_count": 31,
   "metadata": {},
   "outputs": [
    {
     "name": "stdout",
     "output_type": "stream",
     "text": [
      "{'ICMP': 0, 'ICMP6': 1, 'None': 2, 'TCP': 3, 'UDP': 4}\n"
     ]
    }
   ],
   "source": [
    "le_name_mapping_first_protocol = dict(zip(le.classes_, le.transform(le.classes_)))\n",
    "print(le_name_mapping_first_protocol)"
   ]
  },
  {
   "cell_type": "code",
   "execution_count": 32,
   "metadata": {},
   "outputs": [],
   "source": [
    "dataset.First_Protocol = le.fit_transform(dataset.First_Protocol)"
   ]
  },
  {
   "cell_type": "code",
   "execution_count": 33,
   "metadata": {},
   "outputs": [
    {
     "data": {
      "text/plain": [
       "['./Tools/label_encoder_first_protocol_exp1.encoder']"
      ]
     },
     "execution_count": 33,
     "metadata": {},
     "output_type": "execute_result"
    }
   ],
   "source": [
    "joblib.dump(le, './Tools/label_encoder_first_protocol_exp1.encoder')"
   ]
  },
  {
   "cell_type": "markdown",
   "metadata": {},
   "source": [
    "#### 4.4.2 Second_Protocol var"
   ]
  },
  {
   "cell_type": "code",
   "execution_count": 34,
   "metadata": {},
   "outputs": [
    {
     "data": {
      "text/plain": [
       "array(['TCP', 'ICMP6', 'UDP', 'IGMP', 'ICMP', 'None'], dtype=object)"
      ]
     },
     "execution_count": 34,
     "metadata": {},
     "output_type": "execute_result"
    }
   ],
   "source": [
    "dataset.Second_Protocol.unique()"
   ]
  },
  {
   "cell_type": "code",
   "execution_count": 35,
   "metadata": {},
   "outputs": [],
   "source": [
    "second_protocol_column_codified = le.fit_transform(dataset.Second_Protocol)"
   ]
  },
  {
   "cell_type": "code",
   "execution_count": 36,
   "metadata": {},
   "outputs": [
    {
     "name": "stdout",
     "output_type": "stream",
     "text": [
      "{'ICMP': 0, 'ICMP6': 1, 'IGMP': 2, 'None': 3, 'TCP': 4, 'UDP': 5}\n"
     ]
    }
   ],
   "source": [
    "le_name_mapping_second_protocol = dict(zip(le.classes_, le.transform(le.classes_)))\n",
    "print(le_name_mapping_second_protocol)"
   ]
  },
  {
   "cell_type": "code",
   "execution_count": 37,
   "metadata": {},
   "outputs": [],
   "source": [
    "dataset.Second_Protocol = le.fit_transform(dataset.Second_Protocol)"
   ]
  },
  {
   "cell_type": "code",
   "execution_count": 38,
   "metadata": {},
   "outputs": [
    {
     "data": {
      "text/plain": [
       "['./Tools/label_encoder_second_protocol_exp1.encoder']"
      ]
     },
     "execution_count": 38,
     "metadata": {},
     "output_type": "execute_result"
    }
   ],
   "source": [
    "joblib.dump(le, './Tools/label_encoder_second_protocol_exp1.encoder')"
   ]
  },
  {
   "cell_type": "markdown",
   "metadata": {},
   "source": [
    "#### 4.4.3 Third_Protocol var"
   ]
  },
  {
   "cell_type": "code",
   "execution_count": 39,
   "metadata": {},
   "outputs": [
    {
     "data": {
      "text/plain": [
       "array(['ICMP', 'UDP', 'None', 'IGMP', 'ICMP6', 'TCP'], dtype=object)"
      ]
     },
     "execution_count": 39,
     "metadata": {},
     "output_type": "execute_result"
    }
   ],
   "source": [
    "dataset.Third_Protocol.unique()"
   ]
  },
  {
   "cell_type": "code",
   "execution_count": 40,
   "metadata": {},
   "outputs": [],
   "source": [
    "third_protocol_column_codified = le.fit_transform(dataset.Third_Protocol)"
   ]
  },
  {
   "cell_type": "code",
   "execution_count": 41,
   "metadata": {},
   "outputs": [
    {
     "name": "stdout",
     "output_type": "stream",
     "text": [
      "{'ICMP': 0, 'ICMP6': 1, 'IGMP': 2, 'None': 3, 'TCP': 4, 'UDP': 5}\n"
     ]
    }
   ],
   "source": [
    "le_name_mapping_third_protocol = dict(zip(le.classes_, le.transform(le.classes_)))\n",
    "print(le_name_mapping_third_protocol)"
   ]
  },
  {
   "cell_type": "code",
   "execution_count": 42,
   "metadata": {},
   "outputs": [],
   "source": [
    "dataset.Third_Protocol = le.fit_transform(dataset.Third_Protocol)"
   ]
  },
  {
   "cell_type": "code",
   "execution_count": 43,
   "metadata": {},
   "outputs": [
    {
     "data": {
      "text/plain": [
       "['./Tools/label_encoder_third_protocol_exp1.encoder']"
      ]
     },
     "execution_count": 43,
     "metadata": {},
     "output_type": "execute_result"
    }
   ],
   "source": [
    "joblib.dump(le, './Tools/label_encoder_third_protocol_exp1.encoder')"
   ]
  },
  {
   "cell_type": "markdown",
   "metadata": {},
   "source": [
    "#### 4.4.4 Type"
   ]
  },
  {
   "cell_type": "code",
   "execution_count": 44,
   "metadata": {},
   "outputs": [
    {
     "data": {
      "text/plain": [
       "array(['Benign', 'Malign'], dtype=object)"
      ]
     },
     "execution_count": 44,
     "metadata": {},
     "output_type": "execute_result"
    }
   ],
   "source": [
    "dataset.Type.unique()"
   ]
  },
  {
   "cell_type": "code",
   "execution_count": 45,
   "metadata": {},
   "outputs": [],
   "source": [
    "Type_protocol_column_codified = le.fit_transform(dataset.Type)"
   ]
  },
  {
   "cell_type": "code",
   "execution_count": 46,
   "metadata": {},
   "outputs": [
    {
     "name": "stdout",
     "output_type": "stream",
     "text": [
      "{'Benign': 0, 'Malign': 1}\n"
     ]
    }
   ],
   "source": [
    "le_name_mapping_type = dict(zip(le.classes_, le.transform(le.classes_)))\n",
    "print(le_name_mapping_type)"
   ]
  },
  {
   "cell_type": "code",
   "execution_count": 47,
   "metadata": {},
   "outputs": [],
   "source": [
    "dataset.Type = le.fit_transform(dataset.Type)"
   ]
  },
  {
   "cell_type": "code",
   "execution_count": 48,
   "metadata": {},
   "outputs": [
    {
     "data": {
      "text/plain": [
       "['./Tools/label_encoder_type_exp1.encoder']"
      ]
     },
     "execution_count": 48,
     "metadata": {},
     "output_type": "execute_result"
    }
   ],
   "source": [
    "joblib.dump(le, './Tools/label_encoder_type_exp1.encoder')"
   ]
  },
  {
   "cell_type": "markdown",
   "metadata": {},
   "source": [
    "---"
   ]
  },
  {
   "cell_type": "markdown",
   "metadata": {},
   "source": [
    "### 4.5 Let's see the outliers..."
   ]
  },
  {
   "cell_type": "code",
   "execution_count": 49,
   "metadata": {},
   "outputs": [
    {
     "data": {
      "text/plain": [
       "Index(['Name', 'Netflows', 'First_Protocol', 'Second_Protocol',\n",
       "       'Third_Protocol', 'p1_d', 'p2_d', 'p3_d', 'duration', 'max_d', 'min_d',\n",
       "       'packets', 'Avg_bps', 'Avg_pps', 'Avg_bpp', 'Bytes', 'number_sp',\n",
       "       'number_dp', 'first_sp', 'second_sp', 'third_sp', 'first_dp',\n",
       "       'second_dp', 'third_dp', 'p1_ip', 'p2_ip', 'p3_ip', 'p1_ib', 'p2_ib',\n",
       "       'p3_ib', 'Type'],\n",
       "      dtype='object')"
      ]
     },
     "execution_count": 49,
     "metadata": {},
     "output_type": "execute_result"
    }
   ],
   "source": [
    "dataset.columns"
   ]
  },
  {
   "cell_type": "code",
   "execution_count": 50,
   "metadata": {},
   "outputs": [],
   "source": [
    "invalid = [\"Name\",\"First_Protocol\",\"Second_Protocol\",\"Third_Protocol\",\"Type\"]"
   ]
  },
  {
   "cell_type": "code",
   "execution_count": 51,
   "metadata": {},
   "outputs": [
    {
     "data": {
      "image/png": "[encoded data removed]",
      "text/plain": [
       "<Figure size 432x288 with 1 Axes>"
      ]
     },
     "metadata": {
      "needs_background": "light"
     },
     "output_type": "display_data"
    },
    {
     "data": {
      "image/png": "[encoded data removed]",
      "text/plain": [
       "<Figure size 432x288 with 1 Axes>"
      ]
     },
     "metadata": {
      "needs_background": "light"
     },
     "output_type": "display_data"
    },
    {
     "data": {
      "image/png": "[encoded data removed]",
      "text/plain": [
       "<Figure size 432x288 with 1 Axes>"
      ]
     },
     "metadata": {
      "needs_background": "light"
     },
     "output_type": "display_data"
    },
    {
     "data": {
      "image/png": "[encoded data removed]",
      "text/plain": [
       "<Figure size 432x288 with 1 Axes>"
      ]
     },
     "metadata": {
      "needs_background": "light"
     },
     "output_type": "display_data"
    },
    {
     "data": {
      "image/png": "[encoded data removed]",
      "text/plain": [
       "<Figure size 432x288 with 1 Axes>"
      ]
     },
     "metadata": {
      "needs_background": "light"
     },
     "output_type": "display_data"
    },
    {
     "data": {
      "image/png": "[encoded data removed]",
      "text/plain": [
       "<Figure size 432x288 with 1 Axes>"
      ]
     },
     "metadata": {
      "needs_background": "light"
     },
     "output_type": "display_data"
    },
    {
     "data": {
      "image/png": "[encoded data removed]",
      "text/plain": [
       "<Figure size 432x288 with 1 Axes>"
      ]
     },
     "metadata": {
      "needs_background": "light"
     },
     "output_type": "display_data"
    },
    {
     "data": {
      "image/png": "[encoded data removed]",
      "text/plain": [
       "<Figure size 432x288 with 1 Axes>"
      ]
     },
     "metadata": {
      "needs_background": "light"
     },
     "output_type": "display_data"
    },
    {
     "data": {
      "image/png": "[encoded data removed]",
      "text/plain": [
       "<Figure size 432x288 with 1 Axes>"
      ]
     },
     "metadata": {
      "needs_background": "light"
     },
     "output_type": "display_data"
    },
    {
     "data": {
      "image/png": "[encoded data removed]",
      "text/plain": [
       "<Figure size 432x288 with 1 Axes>"
      ]
     },
     "metadata": {
      "needs_background": "light"
     },
     "output_type": "display_data"
    },
    {
     "data": {
      "image/png": "[encoded data removed]",
      "text/plain": [
       "<Figure size 432x288 with 1 Axes>"
      ]
     },
     "metadata": {
      "needs_background": "light"
     },
     "output_type": "display_data"
    },
    {
     "data": {
      "image/png": "[encoded data removed]",
      "text/plain": [
       "<Figure size 432x288 with 1 Axes>"
      ]
     },
     "metadata": {
      "needs_background": "light"
     },
     "output_type": "display_data"
    },
    {
     "data": {
      "image/png": "[encoded data removed]",
      "text/plain": [
       "<Figure size 432x288 with 1 Axes>"
      ]
     },
     "metadata": {
      "needs_background": "light"
     },
     "output_type": "display_data"
    },
    {
     "data": {
      "image/png": "[encoded data removed]",
      "text/plain": [
       "<Figure size 432x288 with 1 Axes>"
      ]
     },
     "metadata": {
      "needs_background": "light"
     },
     "output_type": "display_data"
    },
    {
     "data": {
      "image/png": "[encoded data removed]",
      "text/plain": [
       "<Figure size 432x288 with 1 Axes>"
      ]
     },
     "metadata": {
      "needs_background": "light"
     },
     "output_type": "display_data"
    },
    {
     "data": {
      "image/png": "[encoded data removed]",
      "text/plain": [
       "<Figure size 432x288 with 1 Axes>"
      ]
     },
     "metadata": {
      "needs_background": "light"
     },
     "output_type": "display_data"
    },
    {
     "data": {
      "image/png": "[encoded data removed]",
      "text/plain": [
       "<Figure size 432x288 with 1 Axes>"
      ]
     },
     "metadata": {
      "needs_background": "light"
     },
     "output_type": "display_data"
    },
    {
     "data": {
      "image/png": "[encoded data removed]",
      "text/plain": [
       "<Figure size 432x288 with 1 Axes>"
      ]
     },
     "metadata": {
      "needs_background": "light"
     },
     "output_type": "display_data"
    },
    {
     "data": {
      "image/png": "[encoded data removed]",
      "text/plain": [
       "<Figure size 432x288 with 1 Axes>"
      ]
     },
     "metadata": {
      "needs_background": "light"
     },
     "output_type": "display_data"
    },
    {
     "data": {
      "image/png": "[encoded data removed]",
      "text/plain": [
       "<Figure size 432x288 with 1 Axes>"
      ]
     },
     "metadata": {
      "needs_background": "light"
     },
     "output_type": "display_data"
    },
    {
     "data": {
      "image/png": "[encoded data removed]",
      "text/plain": [
       "<Figure size 432x288 with 1 Axes>"
      ]
     },
     "metadata": {
      "needs_background": "light"
     },
     "output_type": "display_data"
    },
    {
     "data": {
      "image/png": "[encoded data removed]",
      "text/plain": [
       "<Figure size 432x288 with 1 Axes>"
      ]
     },
     "metadata": {
      "needs_background": "light"
     },
     "output_type": "display_data"
    },
    {
     "data": {
      "image/png": "[encoded data removed]",
      "text/plain": [
       "<Figure size 432x288 with 1 Axes>"
      ]
     },
     "metadata": {
      "needs_background": "light"
     },
     "output_type": "display_data"
    },
    {
     "data": {
      "image/png": "[encoded data removed]",
      "text/plain": [
       "<Figure size 432x288 with 1 Axes>"
      ]
     },
     "metadata": {
      "needs_background": "light"
     },
     "output_type": "display_data"
    },
    {
     "data": {
      "image/png": "[encoded data removed]",
      "text/plain": [
       "<Figure size 432x288 with 1 Axes>"
      ]
     },
     "metadata": {
      "needs_background": "light"
     },
     "output_type": "display_data"
    },
    {
     "data": {
      "image/png": "[encoded data removed]",
      "text/plain": [
       "<Figure size 432x288 with 1 Axes>"
      ]
     },
     "metadata": {
      "needs_background": "light"
     },
     "output_type": "display_data"
    }
   ],
   "source": [
    "for column in dataset.columns:  \n",
    "    if column not in invalid:\n",
    "        fig = plt.figure()\n",
    "        ax = plt.subplot()\n",
    "        ax.set_title(\"Boxplot of %s\" %column)\n",
    "        ax.boxplot(dataset[column])"
   ]
  },
  {
   "cell_type": "markdown",
   "metadata": {},
   "source": [
    "---"
   ]
  },
  {
   "cell_type": "markdown",
   "metadata": {},
   "source": [
    "---"
   ]
  },
  {
   "cell_type": "markdown",
   "metadata": {},
   "source": [
    "---"
   ]
  },
  {
   "cell_type": "markdown",
   "metadata": {},
   "source": [
    "---"
   ]
  },
  {
   "cell_type": "markdown",
   "metadata": {},
   "source": [
    "---"
   ]
  },
  {
   "cell_type": "markdown",
   "metadata": {},
   "source": [
    "## 5. Let's Standardize the dataset..."
   ]
  },
  {
   "cell_type": "code",
   "execution_count": 52,
   "metadata": {},
   "outputs": [],
   "source": [
    "names = dataset.Name\n",
    "dataset = dataset.drop(['Name'], axis=1)"
   ]
  },
  {
   "cell_type": "code",
   "execution_count": 53,
   "metadata": {},
   "outputs": [],
   "source": [
    "scaler = preprocessing.RobustScaler()"
   ]
  },
  {
   "cell_type": "code",
   "execution_count": 54,
   "metadata": {},
   "outputs": [
    {
     "data": {
      "text/plain": [
       "Index(['Netflows', 'First_Protocol', 'Second_Protocol', 'Third_Protocol',\n",
       "       'p1_d', 'p2_d', 'p3_d', 'duration', 'max_d', 'min_d', 'packets',\n",
       "       'Avg_bps', 'Avg_pps', 'Avg_bpp', 'Bytes', 'number_sp', 'number_dp',\n",
       "       'first_sp', 'second_sp', 'third_sp', 'first_dp', 'second_dp',\n",
       "       'third_dp', 'p1_ip', 'p2_ip', 'p3_ip', 'p1_ib', 'p2_ib', 'p3_ib',\n",
       "       'Type'],\n",
       "      dtype='object')"
      ]
     },
     "execution_count": 54,
     "metadata": {},
     "output_type": "execute_result"
    }
   ],
   "source": [
    "dataset.columns"
   ]
  },
  {
   "cell_type": "code",
   "execution_count": 55,
   "metadata": {},
   "outputs": [
    {
     "data": {
      "text/html": [
       "<div>\n",
       "<style scoped>\n",
       "    .dataframe tbody tr th:only-of-type {\n",
       "        vertical-align: middle;\n",
       "    }\n",
       "\n",
       "    .dataframe tbody tr th {\n",
       "        vertical-align: top;\n",
       "    }\n",
       "\n",
       "    .dataframe thead th {\n",
       "        text-align: right;\n",
       "    }\n",
       "</style>\n",
       "<table border=\"1\" class=\"dataframe\">\n",
       "  <thead>\n",
       "    <tr style=\"text-align: right;\">\n",
       "      <th></th>\n",
       "      <th>Netflows</th>\n",
       "      <th>First_Protocol</th>\n",
       "      <th>Second_Protocol</th>\n",
       "      <th>Third_Protocol</th>\n",
       "      <th>p1_d</th>\n",
       "      <th>p2_d</th>\n",
       "      <th>p3_d</th>\n",
       "      <th>duration</th>\n",
       "      <th>max_d</th>\n",
       "      <th>min_d</th>\n",
       "      <th>...</th>\n",
       "      <th>first_dp</th>\n",
       "      <th>second_dp</th>\n",
       "      <th>third_dp</th>\n",
       "      <th>p1_ip</th>\n",
       "      <th>p2_ip</th>\n",
       "      <th>p3_ip</th>\n",
       "      <th>p1_ib</th>\n",
       "      <th>p2_ib</th>\n",
       "      <th>p3_ib</th>\n",
       "      <th>Type</th>\n",
       "    </tr>\n",
       "  </thead>\n",
       "  <tbody>\n",
       "    <tr>\n",
       "      <td>284</td>\n",
       "      <td>1678</td>\n",
       "      <td>4</td>\n",
       "      <td>4</td>\n",
       "      <td>0</td>\n",
       "      <td>0.00000</td>\n",
       "      <td>0.0000</td>\n",
       "      <td>0.00000</td>\n",
       "      <td>20765.940</td>\n",
       "      <td>297.986</td>\n",
       "      <td>0.000</td>\n",
       "      <td>...</td>\n",
       "      <td>53</td>\n",
       "      <td>443</td>\n",
       "      <td>80</td>\n",
       "      <td>1.00</td>\n",
       "      <td>1.0</td>\n",
       "      <td>1.0</td>\n",
       "      <td>44.0</td>\n",
       "      <td>57.0</td>\n",
       "      <td>199.00</td>\n",
       "      <td>0</td>\n",
       "    </tr>\n",
       "    <tr>\n",
       "      <td>198317</td>\n",
       "      <td>454</td>\n",
       "      <td>2</td>\n",
       "      <td>1</td>\n",
       "      <td>5</td>\n",
       "      <td>0.00000</td>\n",
       "      <td>0.0000</td>\n",
       "      <td>0.00000</td>\n",
       "      <td>1090.688</td>\n",
       "      <td>242.729</td>\n",
       "      <td>0.000</td>\n",
       "      <td>...</td>\n",
       "      <td>0</td>\n",
       "      <td>34560</td>\n",
       "      <td>137</td>\n",
       "      <td>1.00</td>\n",
       "      <td>1.0</td>\n",
       "      <td>1.0</td>\n",
       "      <td>32.0</td>\n",
       "      <td>32.0</td>\n",
       "      <td>32.00</td>\n",
       "      <td>1</td>\n",
       "    </tr>\n",
       "    <tr>\n",
       "      <td>320</td>\n",
       "      <td>392</td>\n",
       "      <td>3</td>\n",
       "      <td>5</td>\n",
       "      <td>3</td>\n",
       "      <td>0.00000</td>\n",
       "      <td>1.7755</td>\n",
       "      <td>79.92625</td>\n",
       "      <td>16769.040</td>\n",
       "      <td>124.098</td>\n",
       "      <td>0.000</td>\n",
       "      <td>...</td>\n",
       "      <td>53</td>\n",
       "      <td>443</td>\n",
       "      <td>80</td>\n",
       "      <td>1.00</td>\n",
       "      <td>8.0</td>\n",
       "      <td>11.0</td>\n",
       "      <td>57.0</td>\n",
       "      <td>180.0</td>\n",
       "      <td>300.50</td>\n",
       "      <td>0</td>\n",
       "    </tr>\n",
       "    <tr>\n",
       "      <td>126783</td>\n",
       "      <td>194</td>\n",
       "      <td>2</td>\n",
       "      <td>1</td>\n",
       "      <td>2</td>\n",
       "      <td>0.00000</td>\n",
       "      <td>0.0000</td>\n",
       "      <td>0.00000</td>\n",
       "      <td>0.000</td>\n",
       "      <td>0.000</td>\n",
       "      <td>0.000</td>\n",
       "      <td>...</td>\n",
       "      <td>0</td>\n",
       "      <td>34560</td>\n",
       "      <td>-1</td>\n",
       "      <td>1.00</td>\n",
       "      <td>1.0</td>\n",
       "      <td>1.0</td>\n",
       "      <td>32.0</td>\n",
       "      <td>32.0</td>\n",
       "      <td>32.00</td>\n",
       "      <td>1</td>\n",
       "    </tr>\n",
       "    <tr>\n",
       "      <td>122491</td>\n",
       "      <td>358</td>\n",
       "      <td>2</td>\n",
       "      <td>5</td>\n",
       "      <td>1</td>\n",
       "      <td>0.00000</td>\n",
       "      <td>0.0000</td>\n",
       "      <td>0.00000</td>\n",
       "      <td>1.970</td>\n",
       "      <td>0.985</td>\n",
       "      <td>0.000</td>\n",
       "      <td>...</td>\n",
       "      <td>0</td>\n",
       "      <td>17500</td>\n",
       "      <td>57621</td>\n",
       "      <td>1.00</td>\n",
       "      <td>1.0</td>\n",
       "      <td>1.0</td>\n",
       "      <td>32.0</td>\n",
       "      <td>32.0</td>\n",
       "      <td>32.00</td>\n",
       "      <td>1</td>\n",
       "    </tr>\n",
       "    <tr>\n",
       "      <td>...</td>\n",
       "      <td>...</td>\n",
       "      <td>...</td>\n",
       "      <td>...</td>\n",
       "      <td>...</td>\n",
       "      <td>...</td>\n",
       "      <td>...</td>\n",
       "      <td>...</td>\n",
       "      <td>...</td>\n",
       "      <td>...</td>\n",
       "      <td>...</td>\n",
       "      <td>...</td>\n",
       "      <td>...</td>\n",
       "      <td>...</td>\n",
       "      <td>...</td>\n",
       "      <td>...</td>\n",
       "      <td>...</td>\n",
       "      <td>...</td>\n",
       "      <td>...</td>\n",
       "      <td>...</td>\n",
       "      <td>...</td>\n",
       "      <td>...</td>\n",
       "    </tr>\n",
       "    <tr>\n",
       "      <td>88657</td>\n",
       "      <td>23</td>\n",
       "      <td>3</td>\n",
       "      <td>0</td>\n",
       "      <td>3</td>\n",
       "      <td>0.00000</td>\n",
       "      <td>0.0360</td>\n",
       "      <td>0.16550</td>\n",
       "      <td>183.311</td>\n",
       "      <td>150.535</td>\n",
       "      <td>0.000</td>\n",
       "      <td>...</td>\n",
       "      <td>8080</td>\n",
       "      <td>443</td>\n",
       "      <td>1281</td>\n",
       "      <td>1.00</td>\n",
       "      <td>5.0</td>\n",
       "      <td>5.0</td>\n",
       "      <td>105.0</td>\n",
       "      <td>591.0</td>\n",
       "      <td>784.00</td>\n",
       "      <td>1</td>\n",
       "    </tr>\n",
       "    <tr>\n",
       "      <td>16506</td>\n",
       "      <td>12</td>\n",
       "      <td>3</td>\n",
       "      <td>3</td>\n",
       "      <td>3</td>\n",
       "      <td>0.01775</td>\n",
       "      <td>0.4055</td>\n",
       "      <td>127.32900</td>\n",
       "      <td>511.129</td>\n",
       "      <td>127.444</td>\n",
       "      <td>0.001</td>\n",
       "      <td>...</td>\n",
       "      <td>443</td>\n",
       "      <td>54119</td>\n",
       "      <td>54120</td>\n",
       "      <td>6.75</td>\n",
       "      <td>9.0</td>\n",
       "      <td>9.0</td>\n",
       "      <td>689.5</td>\n",
       "      <td>768.0</td>\n",
       "      <td>2955.25</td>\n",
       "      <td>1</td>\n",
       "    </tr>\n",
       "    <tr>\n",
       "      <td>16826</td>\n",
       "      <td>280</td>\n",
       "      <td>2</td>\n",
       "      <td>2</td>\n",
       "      <td>1</td>\n",
       "      <td>0.00000</td>\n",
       "      <td>0.0000</td>\n",
       "      <td>0.00000</td>\n",
       "      <td>36.640</td>\n",
       "      <td>3.368</td>\n",
       "      <td>0.000</td>\n",
       "      <td>...</td>\n",
       "      <td>0</td>\n",
       "      <td>34560</td>\n",
       "      <td>1281</td>\n",
       "      <td>1.00</td>\n",
       "      <td>1.0</td>\n",
       "      <td>1.0</td>\n",
       "      <td>32.0</td>\n",
       "      <td>32.0</td>\n",
       "      <td>32.00</td>\n",
       "      <td>1</td>\n",
       "    </tr>\n",
       "    <tr>\n",
       "      <td>107600</td>\n",
       "      <td>286</td>\n",
       "      <td>2</td>\n",
       "      <td>2</td>\n",
       "      <td>1</td>\n",
       "      <td>0.00000</td>\n",
       "      <td>0.0000</td>\n",
       "      <td>0.00000</td>\n",
       "      <td>108.224</td>\n",
       "      <td>21.376</td>\n",
       "      <td>0.000</td>\n",
       "      <td>...</td>\n",
       "      <td>0</td>\n",
       "      <td>34560</td>\n",
       "      <td>1900</td>\n",
       "      <td>1.00</td>\n",
       "      <td>1.0</td>\n",
       "      <td>1.0</td>\n",
       "      <td>32.0</td>\n",
       "      <td>32.0</td>\n",
       "      <td>32.00</td>\n",
       "      <td>1</td>\n",
       "    </tr>\n",
       "    <tr>\n",
       "      <td>231862</td>\n",
       "      <td>354</td>\n",
       "      <td>2</td>\n",
       "      <td>1</td>\n",
       "      <td>0</td>\n",
       "      <td>0.00000</td>\n",
       "      <td>0.0000</td>\n",
       "      <td>0.00000</td>\n",
       "      <td>1150.876</td>\n",
       "      <td>287.849</td>\n",
       "      <td>0.000</td>\n",
       "      <td>...</td>\n",
       "      <td>0</td>\n",
       "      <td>34560</td>\n",
       "      <td>1281</td>\n",
       "      <td>1.00</td>\n",
       "      <td>1.0</td>\n",
       "      <td>1.0</td>\n",
       "      <td>32.0</td>\n",
       "      <td>32.0</td>\n",
       "      <td>32.00</td>\n",
       "      <td>1</td>\n",
       "    </tr>\n",
       "  </tbody>\n",
       "</table>\n",
       "<p>1319 rows × 30 columns</p>\n",
       "</div>"
      ],
      "text/plain": [
       "        Netflows  First_Protocol  Second_Protocol  Third_Protocol     p1_d  \\\n",
       "284         1678               4                4               0  0.00000   \n",
       "198317       454               2                1               5  0.00000   \n",
       "320          392               3                5               3  0.00000   \n",
       "126783       194               2                1               2  0.00000   \n",
       "122491       358               2                5               1  0.00000   \n",
       "...          ...             ...              ...             ...      ...   \n",
       "88657         23               3                0               3  0.00000   \n",
       "16506         12               3                3               3  0.01775   \n",
       "16826        280               2                2               1  0.00000   \n",
       "107600       286               2                2               1  0.00000   \n",
       "231862       354               2                1               0  0.00000   \n",
       "\n",
       "          p2_d       p3_d   duration    max_d  min_d  ...  first_dp  \\\n",
       "284     0.0000    0.00000  20765.940  297.986  0.000  ...        53   \n",
       "198317  0.0000    0.00000   1090.688  242.729  0.000  ...         0   \n",
       "320     1.7755   79.92625  16769.040  124.098  0.000  ...        53   \n",
       "126783  0.0000    0.00000      0.000    0.000  0.000  ...         0   \n",
       "122491  0.0000    0.00000      1.970    0.985  0.000  ...         0   \n",
       "...        ...        ...        ...      ...    ...  ...       ...   \n",
       "88657   0.0360    0.16550    183.311  150.535  0.000  ...      8080   \n",
       "16506   0.4055  127.32900    511.129  127.444  0.001  ...       443   \n",
       "16826   0.0000    0.00000     36.640    3.368  0.000  ...         0   \n",
       "107600  0.0000    0.00000    108.224   21.376  0.000  ...         0   \n",
       "231862  0.0000    0.00000   1150.876  287.849  0.000  ...         0   \n",
       "\n",
       "        second_dp  third_dp  p1_ip  p2_ip  p3_ip  p1_ib  p2_ib    p3_ib  Type  \n",
       "284           443        80   1.00    1.0    1.0   44.0   57.0   199.00     0  \n",
       "198317      34560       137   1.00    1.0    1.0   32.0   32.0    32.00     1  \n",
       "320           443        80   1.00    8.0   11.0   57.0  180.0   300.50     0  \n",
       "126783      34560        -1   1.00    1.0    1.0   32.0   32.0    32.00     1  \n",
       "122491      17500     57621   1.00    1.0    1.0   32.0   32.0    32.00     1  \n",
       "...           ...       ...    ...    ...    ...    ...    ...      ...   ...  \n",
       "88657         443      1281   1.00    5.0    5.0  105.0  591.0   784.00     1  \n",
       "16506       54119     54120   6.75    9.0    9.0  689.5  768.0  2955.25     1  \n",
       "16826       34560      1281   1.00    1.0    1.0   32.0   32.0    32.00     1  \n",
       "107600      34560      1900   1.00    1.0    1.0   32.0   32.0    32.00     1  \n",
       "231862      34560      1281   1.00    1.0    1.0   32.0   32.0    32.00     1  \n",
       "\n",
       "[1319 rows x 30 columns]"
      ]
     },
     "execution_count": 55,
     "metadata": {},
     "output_type": "execute_result"
    }
   ],
   "source": [
    "dataset "
   ]
  },
  {
   "cell_type": "code",
   "execution_count": 56,
   "metadata": {},
   "outputs": [],
   "source": [
    "dataset[['Netflows', \n",
    "       'p1_d', 'p2_d', 'p3_d', 'duration', 'max_d', 'min_d', 'packets',\n",
    "       'Avg_bps', 'Avg_pps', 'Avg_bpp', 'Bytes', 'number_sp', 'number_dp',\n",
    "        'p1_ip', 'p2_ip', 'p3_ip', 'p1_ib', 'p2_ib', 'p3_ib']] = scaler.fit_transform(dataset[['Netflows', \n",
    "       'p1_d', 'p2_d', 'p3_d', 'duration', 'max_d', 'min_d', 'packets',\n",
    "       'Avg_bps', 'Avg_pps', 'Avg_bpp', 'Bytes', 'number_sp', 'number_dp',\n",
    "        'p1_ip', 'p2_ip', 'p3_ip', 'p1_ib', 'p2_ib', 'p3_ib'\n",
    "]])"
   ]
  },
  {
   "cell_type": "code",
   "execution_count": 57,
   "metadata": {},
   "outputs": [
    {
     "data": {
      "text/plain": [
       "(1319, 30)"
      ]
     },
     "execution_count": 57,
     "metadata": {},
     "output_type": "execute_result"
    }
   ],
   "source": [
    "dataset.shape"
   ]
  },
  {
   "cell_type": "code",
   "execution_count": 58,
   "metadata": {},
   "outputs": [
    {
     "data": {
      "text/html": [
       "<div>\n",
       "<style scoped>\n",
       "    .dataframe tbody tr th:only-of-type {\n",
       "        vertical-align: middle;\n",
       "    }\n",
       "\n",
       "    .dataframe tbody tr th {\n",
       "        vertical-align: top;\n",
       "    }\n",
       "\n",
       "    .dataframe thead th {\n",
       "        text-align: right;\n",
       "    }\n",
       "</style>\n",
       "<table border=\"1\" class=\"dataframe\">\n",
       "  <thead>\n",
       "    <tr style=\"text-align: right;\">\n",
       "      <th></th>\n",
       "      <th>Netflows</th>\n",
       "      <th>First_Protocol</th>\n",
       "      <th>Second_Protocol</th>\n",
       "      <th>Third_Protocol</th>\n",
       "      <th>p1_d</th>\n",
       "      <th>p2_d</th>\n",
       "      <th>p3_d</th>\n",
       "      <th>duration</th>\n",
       "      <th>max_d</th>\n",
       "      <th>min_d</th>\n",
       "      <th>...</th>\n",
       "      <th>first_dp</th>\n",
       "      <th>second_dp</th>\n",
       "      <th>third_dp</th>\n",
       "      <th>p1_ip</th>\n",
       "      <th>p2_ip</th>\n",
       "      <th>p3_ip</th>\n",
       "      <th>p1_ib</th>\n",
       "      <th>p2_ib</th>\n",
       "      <th>p3_ib</th>\n",
       "      <th>Type</th>\n",
       "    </tr>\n",
       "  </thead>\n",
       "  <tbody>\n",
       "    <tr>\n",
       "      <td>284</td>\n",
       "      <td>1.332700</td>\n",
       "      <td>4</td>\n",
       "      <td>4</td>\n",
       "      <td>0</td>\n",
       "      <td>0.0</td>\n",
       "      <td>0.0000</td>\n",
       "      <td>0.000000</td>\n",
       "      <td>1.359859</td>\n",
       "      <td>0.609969</td>\n",
       "      <td>0.0</td>\n",
       "      <td>...</td>\n",
       "      <td>53</td>\n",
       "      <td>443</td>\n",
       "      <td>80</td>\n",
       "      <td>0.0</td>\n",
       "      <td>0.0</td>\n",
       "      <td>0.0</td>\n",
       "      <td>0.105263</td>\n",
       "      <td>0.00000</td>\n",
       "      <td>0.180473</td>\n",
       "      <td>0</td>\n",
       "    </tr>\n",
       "    <tr>\n",
       "      <td>198317</td>\n",
       "      <td>0.169202</td>\n",
       "      <td>2</td>\n",
       "      <td>1</td>\n",
       "      <td>5</td>\n",
       "      <td>0.0</td>\n",
       "      <td>0.0000</td>\n",
       "      <td>0.000000</td>\n",
       "      <td>0.048494</td>\n",
       "      <td>0.412144</td>\n",
       "      <td>0.0</td>\n",
       "      <td>...</td>\n",
       "      <td>0</td>\n",
       "      <td>34560</td>\n",
       "      <td>137</td>\n",
       "      <td>0.0</td>\n",
       "      <td>0.0</td>\n",
       "      <td>0.0</td>\n",
       "      <td>-0.526316</td>\n",
       "      <td>-0.31348</td>\n",
       "      <td>-0.313609</td>\n",
       "      <td>1</td>\n",
       "    </tr>\n",
       "    <tr>\n",
       "      <td>320</td>\n",
       "      <td>0.110266</td>\n",
       "      <td>3</td>\n",
       "      <td>5</td>\n",
       "      <td>3</td>\n",
       "      <td>0.0</td>\n",
       "      <td>1.7755</td>\n",
       "      <td>22.508096</td>\n",
       "      <td>1.093464</td>\n",
       "      <td>-0.012566</td>\n",
       "      <td>0.0</td>\n",
       "      <td>...</td>\n",
       "      <td>53</td>\n",
       "      <td>443</td>\n",
       "      <td>80</td>\n",
       "      <td>0.0</td>\n",
       "      <td>7.0</td>\n",
       "      <td>2.5</td>\n",
       "      <td>0.789474</td>\n",
       "      <td>1.54232</td>\n",
       "      <td>0.480769</td>\n",
       "      <td>0</td>\n",
       "    </tr>\n",
       "    <tr>\n",
       "      <td>126783</td>\n",
       "      <td>-0.077947</td>\n",
       "      <td>2</td>\n",
       "      <td>1</td>\n",
       "      <td>2</td>\n",
       "      <td>0.0</td>\n",
       "      <td>0.0000</td>\n",
       "      <td>0.000000</td>\n",
       "      <td>-0.024201</td>\n",
       "      <td>-0.456848</td>\n",
       "      <td>0.0</td>\n",
       "      <td>...</td>\n",
       "      <td>0</td>\n",
       "      <td>34560</td>\n",
       "      <td>-1</td>\n",
       "      <td>0.0</td>\n",
       "      <td>0.0</td>\n",
       "      <td>0.0</td>\n",
       "      <td>-0.526316</td>\n",
       "      <td>-0.31348</td>\n",
       "      <td>-0.313609</td>\n",
       "      <td>1</td>\n",
       "    </tr>\n",
       "    <tr>\n",
       "      <td>122491</td>\n",
       "      <td>0.077947</td>\n",
       "      <td>2</td>\n",
       "      <td>5</td>\n",
       "      <td>1</td>\n",
       "      <td>0.0</td>\n",
       "      <td>0.0000</td>\n",
       "      <td>0.000000</td>\n",
       "      <td>-0.024070</td>\n",
       "      <td>-0.453322</td>\n",
       "      <td>0.0</td>\n",
       "      <td>...</td>\n",
       "      <td>0</td>\n",
       "      <td>17500</td>\n",
       "      <td>57621</td>\n",
       "      <td>0.0</td>\n",
       "      <td>0.0</td>\n",
       "      <td>0.0</td>\n",
       "      <td>-0.526316</td>\n",
       "      <td>-0.31348</td>\n",
       "      <td>-0.313609</td>\n",
       "      <td>1</td>\n",
       "    </tr>\n",
       "  </tbody>\n",
       "</table>\n",
       "<p>5 rows × 30 columns</p>\n",
       "</div>"
      ],
      "text/plain": [
       "        Netflows  First_Protocol  Second_Protocol  Third_Protocol  p1_d  \\\n",
       "284     1.332700               4                4               0   0.0   \n",
       "198317  0.169202               2                1               5   0.0   \n",
       "320     0.110266               3                5               3   0.0   \n",
       "126783 -0.077947               2                1               2   0.0   \n",
       "122491  0.077947               2                5               1   0.0   \n",
       "\n",
       "          p2_d       p3_d  duration     max_d  min_d  ...  first_dp  \\\n",
       "284     0.0000   0.000000  1.359859  0.609969    0.0  ...        53   \n",
       "198317  0.0000   0.000000  0.048494  0.412144    0.0  ...         0   \n",
       "320     1.7755  22.508096  1.093464 -0.012566    0.0  ...        53   \n",
       "126783  0.0000   0.000000 -0.024201 -0.456848    0.0  ...         0   \n",
       "122491  0.0000   0.000000 -0.024070 -0.453322    0.0  ...         0   \n",
       "\n",
       "        second_dp  third_dp  p1_ip  p2_ip  p3_ip     p1_ib    p2_ib     p3_ib  \\\n",
       "284           443        80    0.0    0.0    0.0  0.105263  0.00000  0.180473   \n",
       "198317      34560       137    0.0    0.0    0.0 -0.526316 -0.31348 -0.313609   \n",
       "320           443        80    0.0    7.0    2.5  0.789474  1.54232  0.480769   \n",
       "126783      34560        -1    0.0    0.0    0.0 -0.526316 -0.31348 -0.313609   \n",
       "122491      17500     57621    0.0    0.0    0.0 -0.526316 -0.31348 -0.313609   \n",
       "\n",
       "        Type  \n",
       "284        0  \n",
       "198317     1  \n",
       "320        0  \n",
       "126783     1  \n",
       "122491     1  \n",
       "\n",
       "[5 rows x 30 columns]"
      ]
     },
     "execution_count": 58,
     "metadata": {},
     "output_type": "execute_result"
    }
   ],
   "source": [
    "dataset.head()"
   ]
  },
  {
   "cell_type": "markdown",
   "metadata": {},
   "source": [
    "---"
   ]
  },
  {
   "cell_type": "markdown",
   "metadata": {},
   "source": [
    "## 6.  ::::::: FEATURE IMPORTANCE ::::::::"
   ]
  },
  {
   "cell_type": "code",
   "execution_count": 60,
   "metadata": {},
   "outputs": [],
   "source": [
    "clf=RandomForestClassifier(n_estimators =10, random_state = 1234, class_weight=\"balanced\")"
   ]
  },
  {
   "cell_type": "code",
   "execution_count": 61,
   "metadata": {},
   "outputs": [],
   "source": [
    "X = dataset.iloc[:,:-1]\n",
    "y = dataset.Type"
   ]
  },
  {
   "cell_type": "code",
   "execution_count": 62,
   "metadata": {},
   "outputs": [],
   "source": [
    "output = cross_validate(clf, X, y, cv=20, scoring = 'accuracy', return_estimator =True)"
   ]
  },
  {
   "cell_type": "code",
   "execution_count": 63,
   "metadata": {},
   "outputs": [],
   "source": [
    "first_sp = []\n",
    "avg_bps = []\n",
    "number_sp = []\n",
    "Bytes = []\n",
    "number_dp = []\n",
    "duration = []\n",
    "p1_ib = []\n",
    "First_Protocol = []\n",
    "Avg_pps = []\n",
    "p2_ib = []\n",
    "p2_d = []\n",
    "Netflows = []\n",
    "p3_d = []\n",
    "p3_ib = []\n",
    "max_d = []\n",
    "p3_ip = []\n",
    "Avg_bpp = []\n",
    "packets = []\n",
    "second_sp = []\n",
    "first_dp = []\n",
    "third_sp = []\n",
    "Second_Protocol = []\n",
    "second_dp = []\n",
    "p1_d = []\n",
    "Third_Protocol = []\n",
    "third_dp = []\n",
    "p2_ip = []\n",
    "p1_ip = []\n",
    "min_d = []"
   ]
  },
  {
   "cell_type": "code",
   "execution_count": 64,
   "metadata": {},
   "outputs": [],
   "source": [
    "for idx,estimator in enumerate(output['estimator']):\n",
    "#     print(\"Features sorted by their score for estimator {}:\".format(idx))    \n",
    "    feature_importances = pd.DataFrame(estimator.feature_importances_,\n",
    "                                       index = X.columns,\n",
    "                                       columns=['importance']).sort_values('importance', ascending=False)\n",
    "#     print(feature_importances)\n",
    "    for i in range(0,len(feature_importances.index)):\n",
    "        if feature_importances.index[i] == \"first_sp\":\n",
    "            first_sp.append(feature_importances.iloc[i,0])\n",
    "        if feature_importances.index[i] == \"Avg_bps\":\n",
    "            avg_bps.append(feature_importances.iloc[i,0])\n",
    "        if feature_importances.index[i] == \"number_sp\":\n",
    "            number_sp.append(feature_importances.iloc[i,0])\n",
    "        if feature_importances.index[i] == \"Bytes\":\n",
    "            Bytes.append(feature_importances.iloc[i,0])\n",
    "        if feature_importances.index[i] == \"number_dp\":\n",
    "            number_dp.append(feature_importances.iloc[i,0])\n",
    "        if feature_importances.index[i] == \"duration\":\n",
    "            duration.append(feature_importances.iloc[i,0])\n",
    "        if feature_importances.index[i] == \"p1_ib\":\n",
    "            p1_ib.append(feature_importances.iloc[i,0])\n",
    "        if feature_importances.index[i] == \"First_Protocol\":\n",
    "            First_Protocol.append(feature_importances.iloc[i,0])\n",
    "        if feature_importances.index[i] == \"Avg_pps\":\n",
    "            Avg_pps.append(feature_importances.iloc[i,0])\n",
    "        if feature_importances.index[i] == \"p2_ib\":\n",
    "            p2_ib.append(feature_importances.iloc[i,0])\n",
    "        if feature_importances.index[i] == \"p2_d\":\n",
    "            p2_d.append(feature_importances.iloc[i,0])\n",
    "        if feature_importances.index[i] == \"Netflows\":\n",
    "            Netflows.append(feature_importances.iloc[i,0])\n",
    "        if feature_importances.index[i] == \"p3_d\":\n",
    "            p3_d.append(feature_importances.iloc[i,0])\n",
    "        if feature_importances.index[i] == \"p3_ib\":\n",
    "            p3_ib.append(feature_importances.iloc[i,0])\n",
    "        if feature_importances.index[i] == \"max_d\":\n",
    "            max_d.append(feature_importances.iloc[i,0])\n",
    "        if feature_importances.index[i] == \"p3_ip\":\n",
    "            p3_ip.append(feature_importances.iloc[i,0])\n",
    "        if feature_importances.index[i] == \"Avg_bpp\":\n",
    "            Avg_bpp.append(feature_importances.iloc[i,0])\n",
    "        if feature_importances.index[i] == \"packets\":\n",
    "            packets.append(feature_importances.iloc[i,0])\n",
    "        if feature_importances.index[i] == \"second_sp\":\n",
    "            second_sp.append(feature_importances.iloc[i,0])\n",
    "        if feature_importances.index[i] == \"first_dp\":\n",
    "            first_dp.append(feature_importances.iloc[i,0])\n",
    "        if feature_importances.index[i] == \"third_sp\":\n",
    "            third_sp.append(feature_importances.iloc[i,0])\n",
    "        if feature_importances.index[i] == \"Second_Protocol\":\n",
    "            Second_Protocol.append(feature_importances.iloc[i,0])\n",
    "        if feature_importances.index[i] == \"second_dp\":\n",
    "            second_dp.append(feature_importances.iloc[i,0])\n",
    "        if feature_importances.index[i] == \"p1_d\":\n",
    "            p1_d.append(feature_importances.iloc[i,0])\n",
    "        if feature_importances.index[i] == \"Third_Protocol\":\n",
    "            Third_Protocol.append(feature_importances.iloc[i,0])\n",
    "        if feature_importances.index[i] == \"third_dp\":\n",
    "            third_dp.append(feature_importances.iloc[i,0])\n",
    "        if feature_importances.index[i] == \"p2_ip\":\n",
    "            p2_ip.append(feature_importances.iloc[i,0])\n",
    "        if feature_importances.index[i] == \"p1_ip\":\n",
    "            p1_ip.append(feature_importances.iloc[i,0])\n",
    "        if feature_importances.index[i] == \"min_d\":\n",
    "            min_d.append(feature_importances.iloc[i,0])\n",
    "        \n",
    "        "
   ]
  },
  {
   "cell_type": "code",
   "execution_count": 65,
   "metadata": {},
   "outputs": [],
   "source": [
    "first_sp = pd.Series(first_sp)\n",
    "avg_bps = pd.Series(avg_bps)\n",
    "number_sp = pd.Series(number_sp)\n",
    "Bytes = pd.Series(Bytes)\n",
    "number_dp = pd.Series(number_dp)\n",
    "duration = pd.Series(duration)\n",
    "p1_ib = pd.Series(p1_ib)\n",
    "First_Protocol = pd.Series(First_Protocol)\n",
    "Avg_pps = pd.Series(Avg_pps)\n",
    "p2_ib = pd.Series(p2_ib)\n",
    "p2_d = pd.Series(p2_d)\n",
    "Netflows = pd.Series(Netflows)\n",
    "p3_d = pd.Series(p3_d)\n",
    "p3_ib = pd.Series(p3_ib)\n",
    "max_d = pd.Series(max_d)\n",
    "p3_ip = pd.Series(p3_ip)\n",
    "Avg_bpp = pd.Series(Avg_bpp)\n",
    "packets = pd.Series(packets)\n",
    "second_sp = pd.Series(second_sp)\n",
    "first_dp = pd.Series(first_dp)\n",
    "third_sp = pd.Series(third_sp)\n",
    "Second_Protocol = pd.Series(Second_Protocol)\n",
    "second_dp = pd.Series(second_dp)\n",
    "p1_d = pd.Series(p1_d)\n",
    "Third_Protocol = pd.Series(Third_Protocol)\n",
    "third_dp = pd.Series(third_dp)\n",
    "p2_ip = pd.Series(p2_ip)\n",
    "p1_ip = pd.Series(p1_ip)\n",
    "min_d = pd.Series(min_d)"
   ]
  },
  {
   "cell_type": "code",
   "execution_count": 66,
   "metadata": {},
   "outputs": [],
   "source": [
    "var_pd = pd.DataFrame(columns=['Var',\"Value\"])"
   ]
  },
  {
   "cell_type": "code",
   "execution_count": 67,
   "metadata": {},
   "outputs": [],
   "source": [
    "var_pd= var_pd.append({'Var' : 'First_sp', 'Value' : first_sp.mean()}, ignore_index=True)\n",
    "var_pd=var_pd.append({'Var' : 'Avg_bps', 'Value' : avg_bps.mean()}, ignore_index=True)\n",
    "var_pd=var_pd.append({'Var' : 'Number_sp', 'Value' : number_sp.mean()}, ignore_index=True)\n",
    "var_pd=var_pd.append({'Var' : 'Bytes', 'Value' : Bytes.mean()}, ignore_index=True)\n",
    "var_pd=var_pd.append({'Var' : 'Number_dp', 'Value' : number_dp.mean()}, ignore_index=True)\n",
    "var_pd=var_pd.append({'Var' : 'Duration', 'Value' : duration.mean()}, ignore_index=True)\n",
    "var_pd=var_pd.append({'Var' : 'P1_ib', 'Value' : p1_ib.mean()}, ignore_index=True)\n",
    "var_pd=var_pd.append({'Var' : 'First_Protocol', 'Value' : First_Protocol.mean()}, ignore_index=True)\n",
    "var_pd=var_pd.append({'Var' : 'Avg_pps', 'Value' : Avg_pps.mean()}, ignore_index=True)\n",
    "var_pd=var_pd.append({'Var' : 'P2_ib', 'Value' : p2_ib.mean()}, ignore_index=True)\n",
    "var_pd=var_pd.append({'Var' : 'P2_d', 'Value' : p2_d.mean()}, ignore_index=True)\n",
    "var_pd=var_pd.append({'Var' : 'Netflows', 'Value' : Netflows.mean()}, ignore_index=True)\n",
    "var_pd=var_pd.append({'Var' : 'P3_d', 'Value' : p3_d.mean()}, ignore_index=True)\n",
    "var_pd=var_pd.append({'Var' : 'P3_ib', 'Value' : p3_ib.mean()}, ignore_index=True)\n",
    "var_pd=var_pd.append({'Var' : 'Max_d', 'Value' : max_d.mean()}, ignore_index=True)\n",
    "var_pd=var_pd.append({'Var' : 'P3_ib', 'Value' : p3_ip.mean()}, ignore_index=True)\n",
    "var_pd=var_pd.append({'Var' : 'Avg_bpp', 'Value' : Avg_bpp.mean()}, ignore_index=True)\n",
    "var_pd=var_pd.append({'Var' : 'Packets', 'Value' : packets.mean()}, ignore_index=True)\n",
    "var_pd=var_pd.append({'Var' : 'Second_sp', 'Value' : second_sp.mean()}, ignore_index=True)\n",
    "var_pd=var_pd.append({'Var' : 'First_dp', 'Value' : first_dp.mean()}, ignore_index=True)\n",
    "var_pd=var_pd.append({'Var' : 'Third_sp', 'Value' : third_sp.mean()}, ignore_index=True)\n",
    "var_pd=var_pd.append({'Var' : 'Second_protocol', 'Value' : Second_Protocol.mean()}, ignore_index=True)\n",
    "var_pd=var_pd.append({'Var' : 'Second_dp', 'Value' : second_dp.mean()}, ignore_index=True)\n",
    "var_pd=var_pd.append({'Var' : 'P1_d', 'Value' : p1_d.mean()}, ignore_index=True)\n",
    "var_pd=var_pd.append({'Var' : 'Third_Protocol', 'Value' : Third_Protocol.mean()}, ignore_index=True)\n",
    "var_pd=var_pd.append({'Var' : 'Third_dp', 'Value' : third_dp.mean()}, ignore_index=True)\n",
    "var_pd=var_pd.append({'Var' : 'P2_ip', 'Value' : p2_ip.mean()}, ignore_index=True)\n",
    "var_pd=var_pd.append({'Var' : 'P1_ip', 'Value' : p1_ip.mean()}, ignore_index=True)\n",
    "var_pd=var_pd.append({'Var' : 'Min_d', 'Value' : min_d.mean()}, ignore_index=True)"
   ]
  },
  {
   "cell_type": "code",
   "execution_count": 68,
   "metadata": {},
   "outputs": [
    {
     "data": {
      "text/html": [
       "<div>\n",
       "<style scoped>\n",
       "    .dataframe tbody tr th:only-of-type {\n",
       "        vertical-align: middle;\n",
       "    }\n",
       "\n",
       "    .dataframe tbody tr th {\n",
       "        vertical-align: top;\n",
       "    }\n",
       "\n",
       "    .dataframe thead th {\n",
       "        text-align: right;\n",
       "    }\n",
       "</style>\n",
       "<table border=\"1\" class=\"dataframe\">\n",
       "  <thead>\n",
       "    <tr style=\"text-align: right;\">\n",
       "      <th></th>\n",
       "      <th>Var</th>\n",
       "      <th>Value</th>\n",
       "    </tr>\n",
       "  </thead>\n",
       "  <tbody>\n",
       "    <tr>\n",
       "      <td>0</td>\n",
       "      <td>First_sp</td>\n",
       "      <td>0.258766</td>\n",
       "    </tr>\n",
       "    <tr>\n",
       "      <td>1</td>\n",
       "      <td>Avg_bps</td>\n",
       "      <td>0.083101</td>\n",
       "    </tr>\n",
       "    <tr>\n",
       "      <td>2</td>\n",
       "      <td>Number_sp</td>\n",
       "      <td>0.079110</td>\n",
       "    </tr>\n",
       "    <tr>\n",
       "      <td>5</td>\n",
       "      <td>Duration</td>\n",
       "      <td>0.078350</td>\n",
       "    </tr>\n",
       "    <tr>\n",
       "      <td>4</td>\n",
       "      <td>Number_dp</td>\n",
       "      <td>0.077907</td>\n",
       "    </tr>\n",
       "    <tr>\n",
       "      <td>6</td>\n",
       "      <td>P1_ib</td>\n",
       "      <td>0.077355</td>\n",
       "    </tr>\n",
       "    <tr>\n",
       "      <td>3</td>\n",
       "      <td>Bytes</td>\n",
       "      <td>0.070927</td>\n",
       "    </tr>\n",
       "    <tr>\n",
       "      <td>7</td>\n",
       "      <td>First_Protocol</td>\n",
       "      <td>0.059367</td>\n",
       "    </tr>\n",
       "    <tr>\n",
       "      <td>9</td>\n",
       "      <td>P2_ib</td>\n",
       "      <td>0.055327</td>\n",
       "    </tr>\n",
       "    <tr>\n",
       "      <td>19</td>\n",
       "      <td>First_dp</td>\n",
       "      <td>0.040716</td>\n",
       "    </tr>\n",
       "    <tr>\n",
       "      <td>11</td>\n",
       "      <td>Netflows</td>\n",
       "      <td>0.023356</td>\n",
       "    </tr>\n",
       "    <tr>\n",
       "      <td>13</td>\n",
       "      <td>P3_ib</td>\n",
       "      <td>0.022826</td>\n",
       "    </tr>\n",
       "    <tr>\n",
       "      <td>12</td>\n",
       "      <td>P3_d</td>\n",
       "      <td>0.013811</td>\n",
       "    </tr>\n",
       "    <tr>\n",
       "      <td>8</td>\n",
       "      <td>Avg_pps</td>\n",
       "      <td>0.011346</td>\n",
       "    </tr>\n",
       "    <tr>\n",
       "      <td>21</td>\n",
       "      <td>Second_protocol</td>\n",
       "      <td>0.009711</td>\n",
       "    </tr>\n",
       "    <tr>\n",
       "      <td>17</td>\n",
       "      <td>Packets</td>\n",
       "      <td>0.005152</td>\n",
       "    </tr>\n",
       "    <tr>\n",
       "      <td>22</td>\n",
       "      <td>Second_dp</td>\n",
       "      <td>0.005055</td>\n",
       "    </tr>\n",
       "    <tr>\n",
       "      <td>16</td>\n",
       "      <td>Avg_bpp</td>\n",
       "      <td>0.004301</td>\n",
       "    </tr>\n",
       "    <tr>\n",
       "      <td>15</td>\n",
       "      <td>P3_ib</td>\n",
       "      <td>0.004243</td>\n",
       "    </tr>\n",
       "    <tr>\n",
       "      <td>26</td>\n",
       "      <td>P2_ip</td>\n",
       "      <td>0.003873</td>\n",
       "    </tr>\n",
       "    <tr>\n",
       "      <td>20</td>\n",
       "      <td>Third_sp</td>\n",
       "      <td>0.003690</td>\n",
       "    </tr>\n",
       "    <tr>\n",
       "      <td>18</td>\n",
       "      <td>Second_sp</td>\n",
       "      <td>0.002956</td>\n",
       "    </tr>\n",
       "    <tr>\n",
       "      <td>14</td>\n",
       "      <td>Max_d</td>\n",
       "      <td>0.002836</td>\n",
       "    </tr>\n",
       "    <tr>\n",
       "      <td>24</td>\n",
       "      <td>Third_Protocol</td>\n",
       "      <td>0.002451</td>\n",
       "    </tr>\n",
       "    <tr>\n",
       "      <td>23</td>\n",
       "      <td>P1_d</td>\n",
       "      <td>0.002081</td>\n",
       "    </tr>\n",
       "    <tr>\n",
       "      <td>25</td>\n",
       "      <td>Third_dp</td>\n",
       "      <td>0.001205</td>\n",
       "    </tr>\n",
       "    <tr>\n",
       "      <td>10</td>\n",
       "      <td>P2_d</td>\n",
       "      <td>0.000111</td>\n",
       "    </tr>\n",
       "    <tr>\n",
       "      <td>28</td>\n",
       "      <td>Min_d</td>\n",
       "      <td>0.000039</td>\n",
       "    </tr>\n",
       "    <tr>\n",
       "      <td>27</td>\n",
       "      <td>P1_ip</td>\n",
       "      <td>0.000031</td>\n",
       "    </tr>\n",
       "  </tbody>\n",
       "</table>\n",
       "</div>"
      ],
      "text/plain": [
       "                Var     Value\n",
       "0          First_sp  0.258766\n",
       "1           Avg_bps  0.083101\n",
       "2         Number_sp  0.079110\n",
       "5          Duration  0.078350\n",
       "4         Number_dp  0.077907\n",
       "6             P1_ib  0.077355\n",
       "3             Bytes  0.070927\n",
       "7    First_Protocol  0.059367\n",
       "9             P2_ib  0.055327\n",
       "19         First_dp  0.040716\n",
       "11         Netflows  0.023356\n",
       "13            P3_ib  0.022826\n",
       "12             P3_d  0.013811\n",
       "8           Avg_pps  0.011346\n",
       "21  Second_protocol  0.009711\n",
       "17          Packets  0.005152\n",
       "22        Second_dp  0.005055\n",
       "16          Avg_bpp  0.004301\n",
       "15            P3_ib  0.004243\n",
       "26            P2_ip  0.003873\n",
       "20         Third_sp  0.003690\n",
       "18        Second_sp  0.002956\n",
       "14            Max_d  0.002836\n",
       "24   Third_Protocol  0.002451\n",
       "23             P1_d  0.002081\n",
       "25         Third_dp  0.001205\n",
       "10             P2_d  0.000111\n",
       "28            Min_d  0.000039\n",
       "27            P1_ip  0.000031"
      ]
     },
     "execution_count": 68,
     "metadata": {},
     "output_type": "execute_result"
    }
   ],
   "source": [
    "var_pd.sort_values(by=['Value'], ascending=False)"
   ]
  },
  {
   "cell_type": "markdown",
   "metadata": {},
   "source": [
    "---"
   ]
  },
  {
   "cell_type": "markdown",
   "metadata": {},
   "source": [
    "## Important"
   ]
  },
  {
   "cell_type": "markdown",
   "metadata": {},
   "source": [
    "In this **step**, we have to decide what columns we will use in the training. In the **previous dataframe**, we can see the values of the **mean of the importance stimator of each column, order in Descending order.**. "
   ]
  },
  {
   "cell_type": "markdown",
   "metadata": {},
   "source": [
    "We decide to choose the vars that have in the column of \"value\", a **value > 0.01**. In this case, the following columns have been selected:"
   ]
  },
  {
   "cell_type": "markdown",
   "metadata": {},
   "source": [
    "1. First_sp\t\n",
    "2. Avg_bps\t\n",
    "3. P1_ib\t\n",
    "4. Duration\t\n",
    "5. Number_dp\t\n",
    "6. Bytes\t\n",
    "7. Number_sp\t\n",
    "8. First_Protocol\t\n",
    "9. P2_ib\t\n",
    "10. First_dp\t\n",
    "11. P3_ib\t\n",
    "12. Netflows\t\n",
    "13. P3_d\t\n",
    "14.  Second_protocol\t"
   ]
  },
  {
   "cell_type": "code",
   "execution_count": 69,
   "metadata": {},
   "outputs": [
    {
     "data": {
      "text/plain": [
       "Index(['Netflows', 'First_Protocol', 'Second_Protocol', 'Third_Protocol',\n",
       "       'p1_d', 'p2_d', 'p3_d', 'duration', 'max_d', 'min_d', 'packets',\n",
       "       'Avg_bps', 'Avg_pps', 'Avg_bpp', 'Bytes', 'number_sp', 'number_dp',\n",
       "       'first_sp', 'second_sp', 'third_sp', 'first_dp', 'second_dp',\n",
       "       'third_dp', 'p1_ip', 'p2_ip', 'p3_ip', 'p1_ib', 'p2_ib', 'p3_ib',\n",
       "       'Type'],\n",
       "      dtype='object')"
      ]
     },
     "execution_count": 69,
     "metadata": {},
     "output_type": "execute_result"
    }
   ],
   "source": [
    "dataset.columns"
   ]
  },
  {
   "cell_type": "code",
   "execution_count": 70,
   "metadata": {},
   "outputs": [],
   "source": [
    "dataset = dataset[['first_sp','Avg_bps','p1_ib','duration','number_dp','Bytes'\n",
    "                                          ,'number_sp','First_Protocol','p2_ib'\n",
    "                                          ,'first_dp','p3_ib','Netflows','p3_d','Second_Protocol','Type']]"
   ]
  },
  {
   "cell_type": "code",
   "execution_count": 71,
   "metadata": {
    "scrolled": true
   },
   "outputs": [
    {
     "data": {
      "text/plain": [
       "Index(['first_sp', 'Avg_bps', 'p1_ib', 'duration', 'number_dp', 'Bytes',\n",
       "       'number_sp', 'First_Protocol', 'p2_ib', 'first_dp', 'p3_ib', 'Netflows',\n",
       "       'p3_d', 'Second_Protocol', 'Type'],\n",
       "      dtype='object')"
      ]
     },
     "execution_count": 71,
     "metadata": {},
     "output_type": "execute_result"
    }
   ],
   "source": [
    "dataset.columns"
   ]
  },
  {
   "cell_type": "code",
   "execution_count": 72,
   "metadata": {},
   "outputs": [
    {
     "data": {
      "text/plain": [
       "Index(['first_sp', 'Avg_bps', 'p1_ib', 'duration', 'number_dp', 'Bytes',\n",
       "       'number_sp', 'First_Protocol', 'p2_ib', 'first_dp', 'p3_ib', 'Netflows',\n",
       "       'p3_d', 'Second_Protocol', 'Type'],\n",
       "      dtype='object')"
      ]
     },
     "execution_count": 72,
     "metadata": {},
     "output_type": "execute_result"
    }
   ],
   "source": [
    "columns_chosen = dataset.columns\n",
    "columns_chosen"
   ]
  },
  {
   "cell_type": "code",
   "execution_count": 75,
   "metadata": {},
   "outputs": [],
   "source": [
    "dataset.to_csv(r\"C:\\Users\\Usuario\\Documents\\Github\\PDG\\PDG-2\\Datasets\\Time Window\\Standardized\\SDatasetExp1.csv\",sep=',',index=False)"
   ]
  },
  {
   "cell_type": "markdown",
   "metadata": {},
   "source": [
    "---"
   ]
  },
  {
   "cell_type": "markdown",
   "metadata": {},
   "source": [
    "## 8. Let's save the Robust Scaler..."
   ]
  },
  {
   "cell_type": "code",
   "execution_count": 76,
   "metadata": {},
   "outputs": [
    {
     "data": {
      "text/plain": [
       "['./Tools/scalerExp1.save']"
      ]
     },
     "execution_count": 76,
     "metadata": {},
     "output_type": "execute_result"
    }
   ],
   "source": [
    "scaler_filename = \"./Tools/scalerExp1.save\"\n",
    "joblib.dump(scaler, scaler_filename) "
   ]
  },
  {
   "cell_type": "markdown",
   "metadata": {},
   "source": [
    "---"
   ]
  },
  {
   "cell_type": "markdown",
   "metadata": {},
   "source": [
    "## References"
   ]
  },
  {
   "cell_type": "markdown",
   "metadata": {},
   "source": [
    "1. https://medium.com/@urvashilluniya/why-data-normalization-is-necessary-for-machine-learning-models-681b65a05029\n",
    "2. https://www.dataquest.io/blog/machine-learning-preparing-data/\n",
    "3. https://machinelearningmastery.com/feature-selection-with-real-and-categorical-data/\n",
    "4. https://stackoverflow.com/questions/55466081/how-to-calculate-feature-importance-in-each-models-of-cross-validation-in-sklear"
   ]
  }
 ],
 "metadata": {
  "kernelspec": {
   "display_name": "Python 3",
   "language": "python",
   "name": "python3"
  },
  "language_info": {
   "codemirror_mode": {
    "name": "ipython",
    "version": 3
   },
   "file_extension": ".py",
   "mimetype": "text/x-python",
   "name": "python",
   "nbconvert_exporter": "python",
   "pygments_lexer": "ipython3",
   "version": "3.7.4"
  }
 },
 "nbformat": 4,
 "nbformat_minor": 2
}
