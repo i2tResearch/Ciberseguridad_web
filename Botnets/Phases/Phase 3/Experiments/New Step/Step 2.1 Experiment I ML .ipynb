{
 "cells": [
  {
   "cell_type": "markdown",
   "metadata": {},
   "source": [
    "# Step 2.1: Experiment I: Machine Learning"
   ]
  },
  {
   "cell_type": "markdown",
   "metadata": {},
   "source": [
    "---"
   ]
  },
  {
   "cell_type": "markdown",
   "metadata": {},
   "source": [
    "## 1. Imports"
   ]
  },
  {
   "cell_type": "code",
   "execution_count": 1,
   "metadata": {},
   "outputs": [],
   "source": [
    "import warnings\n",
    "warnings.filterwarnings('ignore') "
   ]
  },
  {
   "cell_type": "code",
   "execution_count": 2,
   "metadata": {},
   "outputs": [],
   "source": [
    "import math"
   ]
  },
  {
   "cell_type": "code",
   "execution_count": 3,
   "metadata": {},
   "outputs": [],
   "source": [
    "import numpy as np #operaciones matriciales y con vectores\n",
    "import pandas as pd #tratamiento de datos\n",
    "import random\n",
    "import matplotlib.pyplot as plt #gráficos\n",
    "import seaborn as sns\n",
    "import joblib"
   ]
  },
  {
   "cell_type": "code",
   "execution_count": 4,
   "metadata": {},
   "outputs": [],
   "source": [
    "from sklearn import naive_bayes\n",
    "from sklearn import tree\n",
    "from sklearn.neighbors import KNeighborsClassifier\n",
    "from sklearn.linear_model import LogisticRegression\n",
    "from sklearn import tree\n",
    "from sklearn import linear_model\n",
    "from sklearn.ensemble import RandomForestClassifier\n",
    "from sklearn.metrics import classification_report"
   ]
  },
  {
   "cell_type": "code",
   "execution_count": 5,
   "metadata": {},
   "outputs": [],
   "source": [
    "from sklearn.model_selection import train_test_split #metodo de particionamiento de datasets para evaluación\n",
    "from sklearn import preprocessing\n",
    "from sklearn import metrics\n",
    "from sklearn.model_selection import cross_val_score\n",
    "from sklearn.model_selection import cross_validate\n",
    "from sklearn.model_selection import GridSearchCV\n",
    "from sklearn.tree import export_graphviz\n",
    "from sklearn.metrics import cohen_kappa_score\n",
    "from sklearn.metrics import accuracy_score"
   ]
  },
  {
   "cell_type": "markdown",
   "metadata": {},
   "source": [
    "---"
   ]
  },
  {
   "cell_type": "markdown",
   "metadata": {},
   "source": [
    "## 2. Load the Standardized Dataset"
   ]
  },
  {
   "cell_type": "code",
   "execution_count": 6,
   "metadata": {},
   "outputs": [],
   "source": [
    "BM_onlyStratosphere = pd.read_csv(r\"C:\\Users\\Usuario\\Documents\\Github\\PDG\\PDG-2\\Datasets\\Time Window\\Standardized\\SDatasetExp1.csv\", delimiter = \",\")"
   ]
  },
  {
   "cell_type": "code",
   "execution_count": 7,
   "metadata": {},
   "outputs": [
    {
     "data": {
      "text/html": [
       "<div>\n",
       "<style scoped>\n",
       "    .dataframe tbody tr th:only-of-type {\n",
       "        vertical-align: middle;\n",
       "    }\n",
       "\n",
       "    .dataframe tbody tr th {\n",
       "        vertical-align: top;\n",
       "    }\n",
       "\n",
       "    .dataframe thead th {\n",
       "        text-align: right;\n",
       "    }\n",
       "</style>\n",
       "<table border=\"1\" class=\"dataframe\">\n",
       "  <thead>\n",
       "    <tr style=\"text-align: right;\">\n",
       "      <th></th>\n",
       "      <th>first_sp</th>\n",
       "      <th>Avg_bps</th>\n",
       "      <th>p1_ib</th>\n",
       "      <th>duration</th>\n",
       "      <th>number_dp</th>\n",
       "      <th>Bytes</th>\n",
       "      <th>number_sp</th>\n",
       "      <th>First_Protocol</th>\n",
       "      <th>p2_ib</th>\n",
       "      <th>first_dp</th>\n",
       "      <th>p3_ib</th>\n",
       "      <th>Netflows</th>\n",
       "      <th>p3_d</th>\n",
       "      <th>Second_Protocol</th>\n",
       "      <th>Type</th>\n",
       "    </tr>\n",
       "  </thead>\n",
       "  <tbody>\n",
       "    <tr>\n",
       "      <td>0</td>\n",
       "      <td>53</td>\n",
       "      <td>0.812490</td>\n",
       "      <td>0.105263</td>\n",
       "      <td>1.359859</td>\n",
       "      <td>1.366501</td>\n",
       "      <td>0.966506</td>\n",
       "      <td>1.294488</td>\n",
       "      <td>4</td>\n",
       "      <td>0.00000</td>\n",
       "      <td>53</td>\n",
       "      <td>0.180473</td>\n",
       "      <td>1.332700</td>\n",
       "      <td>0.0</td>\n",
       "      <td>4</td>\n",
       "      <td>0</td>\n",
       "    </tr>\n",
       "    <tr>\n",
       "      <td>1</td>\n",
       "      <td>0</td>\n",
       "      <td>0.000521</td>\n",
       "      <td>-0.526316</td>\n",
       "      <td>0.048494</td>\n",
       "      <td>-0.003317</td>\n",
       "      <td>0.000952</td>\n",
       "      <td>-0.018898</td>\n",
       "      <td>2</td>\n",
       "      <td>-0.31348</td>\n",
       "      <td>0</td>\n",
       "      <td>-0.313609</td>\n",
       "      <td>0.169202</td>\n",
       "      <td>0.0</td>\n",
       "      <td>1</td>\n",
       "      <td>1</td>\n",
       "    </tr>\n",
       "  </tbody>\n",
       "</table>\n",
       "</div>"
      ],
      "text/plain": [
       "   first_sp   Avg_bps     p1_ib  duration  number_dp     Bytes  number_sp  \\\n",
       "0        53  0.812490  0.105263  1.359859   1.366501  0.966506   1.294488   \n",
       "1         0  0.000521 -0.526316  0.048494  -0.003317  0.000952  -0.018898   \n",
       "\n",
       "   First_Protocol    p2_ib  first_dp     p3_ib  Netflows  p3_d  \\\n",
       "0               4  0.00000        53  0.180473  1.332700   0.0   \n",
       "1               2 -0.31348         0 -0.313609  0.169202   0.0   \n",
       "\n",
       "   Second_Protocol  Type  \n",
       "0                4     0  \n",
       "1                1     1  "
      ]
     },
     "execution_count": 7,
     "metadata": {},
     "output_type": "execute_result"
    }
   ],
   "source": [
    "BM_onlyStratosphere.head(2)"
   ]
  },
  {
   "cell_type": "code",
   "execution_count": 8,
   "metadata": {
    "scrolled": true
   },
   "outputs": [
    {
     "data": {
      "text/plain": [
       "(1319, 15)"
      ]
     },
     "execution_count": 8,
     "metadata": {},
     "output_type": "execute_result"
    }
   ],
   "source": [
    "BM_onlyStratosphere.shape"
   ]
  },
  {
   "cell_type": "markdown",
   "metadata": {},
   "source": [
    "---"
   ]
  },
  {
   "cell_type": "markdown",
   "metadata": {},
   "source": [
    "## 3. Let's Split the data"
   ]
  },
  {
   "cell_type": "code",
   "execution_count": 9,
   "metadata": {},
   "outputs": [],
   "source": [
    "x = BM_onlyStratosphere.iloc[:,:-1]\n",
    "y = BM_onlyStratosphere['Type']"
   ]
  },
  {
   "cell_type": "code",
   "execution_count": 10,
   "metadata": {},
   "outputs": [],
   "source": [
    "X_train, X_test, y_train, y_test = train_test_split(x, y, test_size=0.3, random_state=1234)"
   ]
  },
  {
   "cell_type": "code",
   "execution_count": 11,
   "metadata": {},
   "outputs": [
    {
     "name": "stdout",
     "output_type": "stream",
     "text": [
      "(923, 14)\n",
      "(923,)\n"
     ]
    }
   ],
   "source": [
    "print(X_train.shape)\n",
    "print(y_train.shape)"
   ]
  },
  {
   "cell_type": "code",
   "execution_count": 12,
   "metadata": {},
   "outputs": [
    {
     "name": "stdout",
     "output_type": "stream",
     "text": [
      "(396, 14)\n",
      "(396,)\n"
     ]
    }
   ],
   "source": [
    "print(X_test.shape)\n",
    "print(y_test.shape)"
   ]
  },
  {
   "cell_type": "code",
   "execution_count": 13,
   "metadata": {},
   "outputs": [],
   "source": [
    "y_test = y_test.astype(np.int64)"
   ]
  },
  {
   "cell_type": "markdown",
   "metadata": {},
   "source": [
    "---"
   ]
  },
  {
   "cell_type": "markdown",
   "metadata": {},
   "source": [
    "## 4. Let's create a Dataframe to save the Accuracies..."
   ]
  },
  {
   "cell_type": "code",
   "execution_count": 14,
   "metadata": {},
   "outputs": [],
   "source": [
    "acc_Machine_Learning = pd.DataFrame(columns=[\"Name\",\"Accuracy_Value\",\"CV\",\"Type\",\"Kappa\"])"
   ]
  },
  {
   "cell_type": "markdown",
   "metadata": {},
   "source": [
    "---"
   ]
  },
  {
   "cell_type": "markdown",
   "metadata": {},
   "source": [
    "---"
   ]
  },
  {
   "cell_type": "markdown",
   "metadata": {},
   "source": [
    "## 5. :::::::: MACHINE LEARNING ::::::::"
   ]
  },
  {
   "cell_type": "markdown",
   "metadata": {},
   "source": [
    "#### 5.1 Gaussian Naive Bayes"
   ]
  },
  {
   "cell_type": "markdown",
   "metadata": {},
   "source": [
    "##### Train"
   ]
  },
  {
   "cell_type": "code",
   "execution_count": 15,
   "metadata": {},
   "outputs": [],
   "source": [
    "gnb = naive_bayes.GaussianNB()\n",
    "params = {}"
   ]
  },
  {
   "cell_type": "code",
   "execution_count": 16,
   "metadata": {},
   "outputs": [
    {
     "data": {
      "text/plain": [
       "GridSearchCV(cv=10, error_score='raise-deprecating',\n",
       "             estimator=GaussianNB(priors=None, var_smoothing=1e-09), iid='warn',\n",
       "             n_jobs=None, param_grid={}, pre_dispatch='2*n_jobs', refit=True,\n",
       "             return_train_score=True, scoring=None, verbose=0)"
      ]
     },
     "execution_count": 16,
     "metadata": {},
     "output_type": "execute_result"
    }
   ],
   "source": [
    "gscv_gnb = GridSearchCV(gnb, params, cv=10, return_train_score=True)\n",
    "gscv_gnb.fit(X_train,y_train)"
   ]
  },
  {
   "cell_type": "code",
   "execution_count": 17,
   "metadata": {},
   "outputs": [
    {
     "data": {
      "text/plain": [
       "{'mean_fit_time': array([0.00215001]),\n",
       " 'std_fit_time': array([0.00038898]),\n",
       " 'mean_score_time': array([0.00107496]),\n",
       " 'std_score_time': array([0.00029709]),\n",
       " 'params': [{}],\n",
       " 'split0_test_score': array([0.94680851]),\n",
       " 'split1_test_score': array([0.95698925]),\n",
       " 'split2_test_score': array([0.95652174]),\n",
       " 'split3_test_score': array([0.92391304]),\n",
       " 'split4_test_score': array([0.9673913]),\n",
       " 'split5_test_score': array([0.95652174]),\n",
       " 'split6_test_score': array([0.93478261]),\n",
       " 'split7_test_score': array([0.93478261]),\n",
       " 'split8_test_score': array([0.94565217]),\n",
       " 'split9_test_score': array([0.86956522]),\n",
       " 'mean_test_score': array([0.93932828]),\n",
       " 'std_test_score': array([0.02629547]),\n",
       " 'rank_test_score': array([1]),\n",
       " 'split0_train_score': array([0.94330519]),\n",
       " 'split1_train_score': array([0.94939759]),\n",
       " 'split2_train_score': array([0.94464501]),\n",
       " 'split3_train_score': array([0.94464501]),\n",
       " 'split4_train_score': array([0.93020457]),\n",
       " 'split5_train_score': array([0.94945848]),\n",
       " 'split6_train_score': array([0.93983153]),\n",
       " 'split7_train_score': array([0.93501805]),\n",
       " 'split8_train_score': array([0.93742479]),\n",
       " 'split9_train_score': array([0.93622142]),\n",
       " 'mean_train_score': array([0.94101516]),\n",
       " 'std_train_score': array([0.00602708])}"
      ]
     },
     "execution_count": 17,
     "metadata": {},
     "output_type": "execute_result"
    }
   ],
   "source": [
    "gscv_gnb.cv_results_"
   ]
  },
  {
   "cell_type": "markdown",
   "metadata": {},
   "source": [
    "The **best_score (Mean cross-validated score of the best_estimator)** is :"
   ]
  },
  {
   "cell_type": "code",
   "execution_count": 18,
   "metadata": {},
   "outputs": [
    {
     "data": {
      "text/plain": [
       "0.9393282773564464"
      ]
     },
     "execution_count": 18,
     "metadata": {},
     "output_type": "execute_result"
    }
   ],
   "source": [
    "gscv_gnb.best_score_"
   ]
  },
  {
   "cell_type": "markdown",
   "metadata": {},
   "source": [
    "The **best estimator (model)** is :"
   ]
  },
  {
   "cell_type": "code",
   "execution_count": 19,
   "metadata": {},
   "outputs": [
    {
     "data": {
      "text/plain": [
       "GaussianNB(priors=None, var_smoothing=1e-09)"
      ]
     },
     "execution_count": 19,
     "metadata": {},
     "output_type": "execute_result"
    }
   ],
   "source": [
    "gnb = gscv_gnb.best_estimator_\n",
    "gnb"
   ]
  },
  {
   "cell_type": "code",
   "execution_count": 20,
   "metadata": {},
   "outputs": [],
   "source": [
    "acc_Machine_Learning= acc_Machine_Learning.append({'Name' : gnb \n",
    "                                                   , 'Accuracy_Value' : gscv_gnb.best_score_\n",
    "                                                   , 'CV' : 10\n",
    "                                                   , 'Type' : 'TRAIN'}, \n",
    "                                           ignore_index=True)"
   ]
  },
  {
   "cell_type": "code",
   "execution_count": 21,
   "metadata": {},
   "outputs": [
    {
     "data": {
      "text/html": [
       "<div>\n",
       "<style scoped>\n",
       "    .dataframe tbody tr th:only-of-type {\n",
       "        vertical-align: middle;\n",
       "    }\n",
       "\n",
       "    .dataframe tbody tr th {\n",
       "        vertical-align: top;\n",
       "    }\n",
       "\n",
       "    .dataframe thead th {\n",
       "        text-align: right;\n",
       "    }\n",
       "</style>\n",
       "<table border=\"1\" class=\"dataframe\">\n",
       "  <thead>\n",
       "    <tr style=\"text-align: right;\">\n",
       "      <th></th>\n",
       "      <th>Name</th>\n",
       "      <th>Accuracy_Value</th>\n",
       "      <th>CV</th>\n",
       "      <th>Type</th>\n",
       "      <th>Kappa</th>\n",
       "    </tr>\n",
       "  </thead>\n",
       "  <tbody>\n",
       "    <tr>\n",
       "      <td>0</td>\n",
       "      <td>GaussianNB(priors=None, var_smoothing=1e-09)</td>\n",
       "      <td>0.939328</td>\n",
       "      <td>10</td>\n",
       "      <td>TRAIN</td>\n",
       "      <td>NaN</td>\n",
       "    </tr>\n",
       "  </tbody>\n",
       "</table>\n",
       "</div>"
      ],
      "text/plain": [
       "                                           Name  Accuracy_Value  CV   Type  \\\n",
       "0  GaussianNB(priors=None, var_smoothing=1e-09)        0.939328  10  TRAIN   \n",
       "\n",
       "   Kappa  \n",
       "0    NaN  "
      ]
     },
     "execution_count": 21,
     "metadata": {},
     "output_type": "execute_result"
    }
   ],
   "source": [
    "acc_Machine_Learning"
   ]
  },
  {
   "cell_type": "markdown",
   "metadata": {},
   "source": [
    "##### Test"
   ]
  },
  {
   "cell_type": "code",
   "execution_count": 22,
   "metadata": {},
   "outputs": [],
   "source": [
    "y_pred= gnb.predict(X_test)"
   ]
  },
  {
   "cell_type": "code",
   "execution_count": 23,
   "metadata": {},
   "outputs": [
    {
     "data": {
      "text/plain": [
       "{0: 147, 1: 249}"
      ]
     },
     "execution_count": 23,
     "metadata": {},
     "output_type": "execute_result"
    }
   ],
   "source": [
    "unique, counts = np.unique(y_test, return_counts=True)\n",
    "dict(zip(unique, counts))"
   ]
  },
  {
   "cell_type": "code",
   "execution_count": 24,
   "metadata": {},
   "outputs": [
    {
     "data": {
      "text/plain": [
       "{0: 133, 1: 263}"
      ]
     },
     "execution_count": 24,
     "metadata": {},
     "output_type": "execute_result"
    }
   ],
   "source": [
    "unique, counts = np.unique(y_pred, return_counts=True)\n",
    "dict(zip(unique, counts))"
   ]
  },
  {
   "cell_type": "code",
   "execution_count": 25,
   "metadata": {},
   "outputs": [
    {
     "data": {
      "text/plain": [
       "([<matplotlib.axis.YTick at 0x2ca409efe08>,\n",
       "  <matplotlib.axis.YTick at 0x2ca409ef6c8>,\n",
       "  <matplotlib.axis.YTick at 0x2ca409e03c8>],\n",
       " <a list of 2 Text yticklabel objects>)"
      ]
     },
     "execution_count": 25,
     "metadata": {},
     "output_type": "execute_result"
    },
    {
     "data": {
      "image/png": "[encoded data removed]",
      "text/plain": [
       "<Figure size 432x288 with 2 Axes>"
      ]
     },
     "metadata": {
      "needs_background": "light"
     },
     "output_type": "display_data"
    }
   ],
   "source": [
    "cm= metrics.confusion_matrix(y_test, y_pred)\n",
    "plt.imshow(cm, cmap=plt.cm.Blues)\n",
    "plt.title(\"Matriz de confusión\")\n",
    "plt.colorbar()\n",
    "tick_marks = np.arange(3)\n",
    "plt.xticks(tick_marks, ['0','1'])\n",
    "plt.yticks(tick_marks, ['0','1'])"
   ]
  },
  {
   "cell_type": "code",
   "execution_count": 26,
   "metadata": {},
   "outputs": [
    {
     "name": "stdout",
     "output_type": "stream",
     "text": [
      "              precision    recall  f1-score   support\n",
      "\n",
      "           0       0.98      0.89      0.94       147\n",
      "           1       0.94      0.99      0.96       249\n",
      "\n",
      "    accuracy                           0.95       396\n",
      "   macro avg       0.96      0.94      0.95       396\n",
      "weighted avg       0.96      0.95      0.95       396\n",
      "\n"
     ]
    }
   ],
   "source": [
    "print(classification_report(y_test, y_pred, labels=None))"
   ]
  },
  {
   "cell_type": "markdown",
   "metadata": {},
   "source": [
    "---"
   ]
  },
  {
   "cell_type": "code",
   "execution_count": 27,
   "metadata": {},
   "outputs": [],
   "source": [
    "acc_Machine_Learning= acc_Machine_Learning.append({'Name' : gnb\n",
    "                                                  , 'Accuracy_Value': accuracy_score(y_test,y_pred) \n",
    "                                                  , 'CV' : 10\n",
    "                                                  , 'Type' : 'TEST'\n",
    "                                                  , 'Kappa' : cohen_kappa_score(y_test, y_pred)}, \n",
    "                                           ignore_index=True)"
   ]
  },
  {
   "cell_type": "code",
   "execution_count": 28,
   "metadata": {},
   "outputs": [
    {
     "data": {
      "text/html": [
       "<div>\n",
       "<style scoped>\n",
       "    .dataframe tbody tr th:only-of-type {\n",
       "        vertical-align: middle;\n",
       "    }\n",
       "\n",
       "    .dataframe tbody tr th {\n",
       "        vertical-align: top;\n",
       "    }\n",
       "\n",
       "    .dataframe thead th {\n",
       "        text-align: right;\n",
       "    }\n",
       "</style>\n",
       "<table border=\"1\" class=\"dataframe\">\n",
       "  <thead>\n",
       "    <tr style=\"text-align: right;\">\n",
       "      <th></th>\n",
       "      <th>Name</th>\n",
       "      <th>Accuracy_Value</th>\n",
       "      <th>CV</th>\n",
       "      <th>Type</th>\n",
       "      <th>Kappa</th>\n",
       "    </tr>\n",
       "  </thead>\n",
       "  <tbody>\n",
       "    <tr>\n",
       "      <td>0</td>\n",
       "      <td>GaussianNB(priors=None, var_smoothing=1e-09)</td>\n",
       "      <td>0.939328</td>\n",
       "      <td>10</td>\n",
       "      <td>TRAIN</td>\n",
       "      <td>NaN</td>\n",
       "    </tr>\n",
       "    <tr>\n",
       "      <td>1</td>\n",
       "      <td>GaussianNB(priors=None, var_smoothing=1e-09)</td>\n",
       "      <td>0.954545</td>\n",
       "      <td>10</td>\n",
       "      <td>TEST</td>\n",
       "      <td>0.900694</td>\n",
       "    </tr>\n",
       "  </tbody>\n",
       "</table>\n",
       "</div>"
      ],
      "text/plain": [
       "                                           Name  Accuracy_Value  CV   Type  \\\n",
       "0  GaussianNB(priors=None, var_smoothing=1e-09)        0.939328  10  TRAIN   \n",
       "1  GaussianNB(priors=None, var_smoothing=1e-09)        0.954545  10   TEST   \n",
       "\n",
       "      Kappa  \n",
       "0       NaN  \n",
       "1  0.900694  "
      ]
     },
     "execution_count": 28,
     "metadata": {},
     "output_type": "execute_result"
    }
   ],
   "source": [
    "acc_Machine_Learning"
   ]
  },
  {
   "cell_type": "markdown",
   "metadata": {},
   "source": [
    "---"
   ]
  },
  {
   "cell_type": "markdown",
   "metadata": {},
   "source": [
    "#### 5.2 Decision Tree Classifier"
   ]
  },
  {
   "cell_type": "markdown",
   "metadata": {},
   "source": [
    "##### Train"
   ]
  },
  {
   "cell_type": "code",
   "execution_count": 29,
   "metadata": {},
   "outputs": [],
   "source": [
    "dtc = tree.DecisionTreeClassifier(random_state=1234)\n",
    "tree_params = {'criterion':['gini','entropy'],\n",
    "               'max_depth':[4,5,6,7,8,9,10,11,12,15,20,30,40,50,70,90,120,150],\n",
    "               'max_leaf_nodes': list(range(2, 100)),\n",
    "               'min_samples_split': [2, 3, 4]}"
   ]
  },
  {
   "cell_type": "code",
   "execution_count": 30,
   "metadata": {},
   "outputs": [
    {
     "data": {
      "text/plain": [
       "GridSearchCV(cv=10, error_score='raise-deprecating',\n",
       "             estimator=DecisionTreeClassifier(class_weight=None,\n",
       "                                              criterion='gini', max_depth=None,\n",
       "                                              max_features=None,\n",
       "                                              max_leaf_nodes=None,\n",
       "                                              min_impurity_decrease=0.0,\n",
       "                                              min_impurity_split=None,\n",
       "                                              min_samples_leaf=1,\n",
       "                                              min_samples_split=2,\n",
       "                                              min_weight_fraction_leaf=0.0,\n",
       "                                              presort=False, random_state=1234,\n",
       "                                              splitter='best'),\n",
       "             iid='warn', n_jobs=None,\n",
       "             param_grid={'criterion': ['gini', 'entropy'],\n",
       "                         'max_depth': [4, 5, 6, 7, 8, 9, 10, 11, 12, 15, 20, 30,\n",
       "                                       40, 50, 70, 90, 120, 150],\n",
       "                         'max_leaf_nodes': [2, 3, 4, 5, 6, 7, 8, 9, 10, 11, 12,\n",
       "                                            13, 14, 15, 16, 17, 18, 19, 20, 21,\n",
       "                                            22, 23, 24, 25, 26, 27, 28, 29, 30,\n",
       "                                            31, ...],\n",
       "                         'min_samples_split': [2, 3, 4]},\n",
       "             pre_dispatch='2*n_jobs', refit=True, return_train_score=False,\n",
       "             scoring=None, verbose=0)"
      ]
     },
     "execution_count": 30,
     "metadata": {},
     "output_type": "execute_result"
    }
   ],
   "source": [
    "gscv_dtc = GridSearchCV(dtc, tree_params, cv=10)\n",
    "gscv_dtc.fit(X_train,y_train)"
   ]
  },
  {
   "cell_type": "markdown",
   "metadata": {},
   "source": [
    "The **best_score (Mean cross-validated score of the best_estimator)** is :"
   ]
  },
  {
   "cell_type": "code",
   "execution_count": 31,
   "metadata": {},
   "outputs": [
    {
     "data": {
      "text/plain": [
       "0.9967497291440953"
      ]
     },
     "execution_count": 31,
     "metadata": {},
     "output_type": "execute_result"
    }
   ],
   "source": [
    "gscv_dtc.best_score_"
   ]
  },
  {
   "cell_type": "markdown",
   "metadata": {},
   "source": [
    "The **best estimator (model)** is :"
   ]
  },
  {
   "cell_type": "code",
   "execution_count": 32,
   "metadata": {},
   "outputs": [
    {
     "data": {
      "text/plain": [
       "DecisionTreeClassifier(class_weight=None, criterion='gini', max_depth=4,\n",
       "                       max_features=None, max_leaf_nodes=5,\n",
       "                       min_impurity_decrease=0.0, min_impurity_split=None,\n",
       "                       min_samples_leaf=1, min_samples_split=2,\n",
       "                       min_weight_fraction_leaf=0.0, presort=False,\n",
       "                       random_state=1234, splitter='best')"
      ]
     },
     "execution_count": 32,
     "metadata": {},
     "output_type": "execute_result"
    }
   ],
   "source": [
    "dtc = gscv_dtc.best_estimator_\n",
    "dtc"
   ]
  },
  {
   "cell_type": "code",
   "execution_count": 33,
   "metadata": {},
   "outputs": [],
   "source": [
    "acc_Machine_Learning= acc_Machine_Learning.append({'Name' : dtc, 'Accuracy_Value' : gscv_dtc.best_score_\n",
    "                                                   ,'CV' : 10\n",
    "                                                   ,'Type' : 'TRAIN'},\n",
    "                                                   ignore_index=True)"
   ]
  },
  {
   "cell_type": "code",
   "execution_count": 34,
   "metadata": {
    "scrolled": true
   },
   "outputs": [
    {
     "data": {
      "text/html": [
       "<div>\n",
       "<style scoped>\n",
       "    .dataframe tbody tr th:only-of-type {\n",
       "        vertical-align: middle;\n",
       "    }\n",
       "\n",
       "    .dataframe tbody tr th {\n",
       "        vertical-align: top;\n",
       "    }\n",
       "\n",
       "    .dataframe thead th {\n",
       "        text-align: right;\n",
       "    }\n",
       "</style>\n",
       "<table border=\"1\" class=\"dataframe\">\n",
       "  <thead>\n",
       "    <tr style=\"text-align: right;\">\n",
       "      <th></th>\n",
       "      <th>Name</th>\n",
       "      <th>Accuracy_Value</th>\n",
       "      <th>CV</th>\n",
       "      <th>Type</th>\n",
       "      <th>Kappa</th>\n",
       "    </tr>\n",
       "  </thead>\n",
       "  <tbody>\n",
       "    <tr>\n",
       "      <td>0</td>\n",
       "      <td>GaussianNB(priors=None, var_smoothing=1e-09)</td>\n",
       "      <td>0.939328</td>\n",
       "      <td>10</td>\n",
       "      <td>TRAIN</td>\n",
       "      <td>NaN</td>\n",
       "    </tr>\n",
       "    <tr>\n",
       "      <td>1</td>\n",
       "      <td>GaussianNB(priors=None, var_smoothing=1e-09)</td>\n",
       "      <td>0.954545</td>\n",
       "      <td>10</td>\n",
       "      <td>TEST</td>\n",
       "      <td>0.900694</td>\n",
       "    </tr>\n",
       "    <tr>\n",
       "      <td>2</td>\n",
       "      <td>DecisionTreeClassifier(class_weight=None, crit...</td>\n",
       "      <td>0.996750</td>\n",
       "      <td>10</td>\n",
       "      <td>TRAIN</td>\n",
       "      <td>NaN</td>\n",
       "    </tr>\n",
       "  </tbody>\n",
       "</table>\n",
       "</div>"
      ],
      "text/plain": [
       "                                                Name  Accuracy_Value  CV  \\\n",
       "0       GaussianNB(priors=None, var_smoothing=1e-09)        0.939328  10   \n",
       "1       GaussianNB(priors=None, var_smoothing=1e-09)        0.954545  10   \n",
       "2  DecisionTreeClassifier(class_weight=None, crit...        0.996750  10   \n",
       "\n",
       "    Type     Kappa  \n",
       "0  TRAIN       NaN  \n",
       "1   TEST  0.900694  \n",
       "2  TRAIN       NaN  "
      ]
     },
     "execution_count": 34,
     "metadata": {},
     "output_type": "execute_result"
    }
   ],
   "source": [
    "acc_Machine_Learning"
   ]
  },
  {
   "cell_type": "markdown",
   "metadata": {},
   "source": [
    "##### Test"
   ]
  },
  {
   "cell_type": "code",
   "execution_count": 35,
   "metadata": {},
   "outputs": [],
   "source": [
    "y_pred= dtc.predict(X_test)"
   ]
  },
  {
   "cell_type": "code",
   "execution_count": 36,
   "metadata": {},
   "outputs": [
    {
     "data": {
      "text/plain": [
       "{0: 147, 1: 249}"
      ]
     },
     "execution_count": 36,
     "metadata": {},
     "output_type": "execute_result"
    }
   ],
   "source": [
    "unique, counts = np.unique(y_test, return_counts=True)\n",
    "dict(zip(unique, counts))"
   ]
  },
  {
   "cell_type": "code",
   "execution_count": 37,
   "metadata": {},
   "outputs": [
    {
     "data": {
      "text/plain": [
       "{0: 147, 1: 249}"
      ]
     },
     "execution_count": 37,
     "metadata": {},
     "output_type": "execute_result"
    }
   ],
   "source": [
    "unique, counts = np.unique(y_pred, return_counts=True)\n",
    "dict(zip(unique, counts))"
   ]
  },
  {
   "cell_type": "code",
   "execution_count": 38,
   "metadata": {},
   "outputs": [
    {
     "data": {
      "text/plain": [
       "([<matplotlib.axis.YTick at 0x2ca40752c08>,\n",
       "  <matplotlib.axis.YTick at 0x2ca40ad5ec8>,\n",
       "  <matplotlib.axis.YTick at 0x2ca406c2c08>],\n",
       " <a list of 2 Text yticklabel objects>)"
      ]
     },
     "execution_count": 38,
     "metadata": {},
     "output_type": "execute_result"
    },
    {
     "data": {
      "image/png": "[encoded data removed]",
      "text/plain": [
       "<Figure size 432x288 with 2 Axes>"
      ]
     },
     "metadata": {
      "needs_background": "light"
     },
     "output_type": "display_data"
    }
   ],
   "source": [
    "cm= metrics.confusion_matrix(y_test, y_pred)\n",
    "plt.imshow(cm, cmap=plt.cm.Blues)\n",
    "plt.title(\"Matriz de confusión\")\n",
    "plt.colorbar()\n",
    "tick_marks = np.arange(3)\n",
    "plt.xticks(tick_marks, ['0','1']) \n",
    "plt.yticks(tick_marks, ['0','1'])"
   ]
  },
  {
   "cell_type": "code",
   "execution_count": 39,
   "metadata": {},
   "outputs": [
    {
     "name": "stdout",
     "output_type": "stream",
     "text": [
      "              precision    recall  f1-score   support\n",
      "\n",
      "           0       0.99      0.99      0.99       147\n",
      "           1       0.99      0.99      0.99       249\n",
      "\n",
      "    accuracy                           0.99       396\n",
      "   macro avg       0.99      0.99      0.99       396\n",
      "weighted avg       0.99      0.99      0.99       396\n",
      "\n"
     ]
    }
   ],
   "source": [
    "print(classification_report(y_test, y_pred, labels=None))"
   ]
  },
  {
   "cell_type": "markdown",
   "metadata": {},
   "source": [
    "---"
   ]
  },
  {
   "cell_type": "code",
   "execution_count": 40,
   "metadata": {},
   "outputs": [],
   "source": [
    "acc_Machine_Learning= acc_Machine_Learning.append({'Name' : dtc\n",
    "                                                  , 'Accuracy_Value': accuracy_score(y_test,y_pred) \n",
    "                                                  , 'CV' : 10\n",
    "                                                  , 'Type' : 'TEST'\n",
    "                                                  , 'Kappa' : cohen_kappa_score(y_test, y_pred)}, \n",
    "                                                   ignore_index=True)"
   ]
  },
  {
   "cell_type": "code",
   "execution_count": 41,
   "metadata": {},
   "outputs": [
    {
     "data": {
      "text/html": [
       "<div>\n",
       "<style scoped>\n",
       "    .dataframe tbody tr th:only-of-type {\n",
       "        vertical-align: middle;\n",
       "    }\n",
       "\n",
       "    .dataframe tbody tr th {\n",
       "        vertical-align: top;\n",
       "    }\n",
       "\n",
       "    .dataframe thead th {\n",
       "        text-align: right;\n",
       "    }\n",
       "</style>\n",
       "<table border=\"1\" class=\"dataframe\">\n",
       "  <thead>\n",
       "    <tr style=\"text-align: right;\">\n",
       "      <th></th>\n",
       "      <th>Name</th>\n",
       "      <th>Accuracy_Value</th>\n",
       "      <th>CV</th>\n",
       "      <th>Type</th>\n",
       "      <th>Kappa</th>\n",
       "    </tr>\n",
       "  </thead>\n",
       "  <tbody>\n",
       "    <tr>\n",
       "      <td>0</td>\n",
       "      <td>GaussianNB(priors=None, var_smoothing=1e-09)</td>\n",
       "      <td>0.939328</td>\n",
       "      <td>10</td>\n",
       "      <td>TRAIN</td>\n",
       "      <td>NaN</td>\n",
       "    </tr>\n",
       "    <tr>\n",
       "      <td>1</td>\n",
       "      <td>GaussianNB(priors=None, var_smoothing=1e-09)</td>\n",
       "      <td>0.954545</td>\n",
       "      <td>10</td>\n",
       "      <td>TEST</td>\n",
       "      <td>0.900694</td>\n",
       "    </tr>\n",
       "    <tr>\n",
       "      <td>2</td>\n",
       "      <td>DecisionTreeClassifier(class_weight=None, crit...</td>\n",
       "      <td>0.996750</td>\n",
       "      <td>10</td>\n",
       "      <td>TRAIN</td>\n",
       "      <td>NaN</td>\n",
       "    </tr>\n",
       "    <tr>\n",
       "      <td>3</td>\n",
       "      <td>DecisionTreeClassifier(class_weight=None, crit...</td>\n",
       "      <td>0.989899</td>\n",
       "      <td>10</td>\n",
       "      <td>TEST</td>\n",
       "      <td>0.978362</td>\n",
       "    </tr>\n",
       "  </tbody>\n",
       "</table>\n",
       "</div>"
      ],
      "text/plain": [
       "                                                Name  Accuracy_Value  CV  \\\n",
       "0       GaussianNB(priors=None, var_smoothing=1e-09)        0.939328  10   \n",
       "1       GaussianNB(priors=None, var_smoothing=1e-09)        0.954545  10   \n",
       "2  DecisionTreeClassifier(class_weight=None, crit...        0.996750  10   \n",
       "3  DecisionTreeClassifier(class_weight=None, crit...        0.989899  10   \n",
       "\n",
       "    Type     Kappa  \n",
       "0  TRAIN       NaN  \n",
       "1   TEST  0.900694  \n",
       "2  TRAIN       NaN  \n",
       "3   TEST  0.978362  "
      ]
     },
     "execution_count": 41,
     "metadata": {},
     "output_type": "execute_result"
    }
   ],
   "source": [
    "acc_Machine_Learning"
   ]
  },
  {
   "cell_type": "markdown",
   "metadata": {},
   "source": [
    "---"
   ]
  },
  {
   "cell_type": "markdown",
   "metadata": {},
   "source": [
    "#### 5.3 KNN"
   ]
  },
  {
   "cell_type": "markdown",
   "metadata": {},
   "source": [
    "##### Train"
   ]
  },
  {
   "cell_type": "code",
   "execution_count": 42,
   "metadata": {},
   "outputs": [],
   "source": [
    "knn =  KNeighborsClassifier()\n",
    "knn_params = {'n_neighbors':[1,3,5], \n",
    "              'weights' : ['uniform','distance'], \n",
    "              'metric':['euclidean','manhattan']\n",
    "             }\n"
   ]
  },
  {
   "cell_type": "code",
   "execution_count": 43,
   "metadata": {},
   "outputs": [
    {
     "data": {
      "text/plain": [
       "GridSearchCV(cv=10, error_score='raise-deprecating',\n",
       "             estimator=KNeighborsClassifier(algorithm='auto', leaf_size=30,\n",
       "                                            metric='minkowski',\n",
       "                                            metric_params=None, n_jobs=None,\n",
       "                                            n_neighbors=5, p=2,\n",
       "                                            weights='uniform'),\n",
       "             iid='warn', n_jobs=None,\n",
       "             param_grid={'metric': ['euclidean', 'manhattan'],\n",
       "                         'n_neighbors': [1, 3, 5],\n",
       "                         'weights': ['uniform', 'distance']},\n",
       "             pre_dispatch='2*n_jobs', refit=True, return_train_score=False,\n",
       "             scoring=None, verbose=0)"
      ]
     },
     "execution_count": 43,
     "metadata": {},
     "output_type": "execute_result"
    }
   ],
   "source": [
    "gscv_knn = GridSearchCV(knn, knn_params, cv=10)\n",
    "gscv_knn.fit(X_train,y_train)"
   ]
  },
  {
   "cell_type": "markdown",
   "metadata": {},
   "source": [
    "The **best_score (Mean cross-validated score of the best_estimator)** is :"
   ]
  },
  {
   "cell_type": "code",
   "execution_count": 44,
   "metadata": {},
   "outputs": [
    {
     "data": {
      "text/plain": [
       "0.9978331527627302"
      ]
     },
     "execution_count": 44,
     "metadata": {},
     "output_type": "execute_result"
    }
   ],
   "source": [
    "gscv_knn.best_score_"
   ]
  },
  {
   "cell_type": "markdown",
   "metadata": {},
   "source": [
    "The **best estimator (model)** is :"
   ]
  },
  {
   "cell_type": "code",
   "execution_count": 45,
   "metadata": {},
   "outputs": [
    {
     "data": {
      "text/plain": [
       "KNeighborsClassifier(algorithm='auto', leaf_size=30, metric='manhattan',\n",
       "                     metric_params=None, n_jobs=None, n_neighbors=5, p=2,\n",
       "                     weights='distance')"
      ]
     },
     "execution_count": 45,
     "metadata": {},
     "output_type": "execute_result"
    }
   ],
   "source": [
    "knn = gscv_knn.best_estimator_\n",
    "knn"
   ]
  },
  {
   "cell_type": "code",
   "execution_count": 46,
   "metadata": {},
   "outputs": [],
   "source": [
    "acc_Machine_Learning= acc_Machine_Learning.append({'Name' : knn\n",
    "                                                   ,'Accuracy_Value' : gscv_knn.best_score_\n",
    "                                                   , 'CV' :10\n",
    "                                                   , 'Type' : 'TRAIN'}, \n",
    "                                           ignore_index=True)"
   ]
  },
  {
   "cell_type": "code",
   "execution_count": 47,
   "metadata": {},
   "outputs": [
    {
     "data": {
      "text/html": [
       "<div>\n",
       "<style scoped>\n",
       "    .dataframe tbody tr th:only-of-type {\n",
       "        vertical-align: middle;\n",
       "    }\n",
       "\n",
       "    .dataframe tbody tr th {\n",
       "        vertical-align: top;\n",
       "    }\n",
       "\n",
       "    .dataframe thead th {\n",
       "        text-align: right;\n",
       "    }\n",
       "</style>\n",
       "<table border=\"1\" class=\"dataframe\">\n",
       "  <thead>\n",
       "    <tr style=\"text-align: right;\">\n",
       "      <th></th>\n",
       "      <th>Name</th>\n",
       "      <th>Accuracy_Value</th>\n",
       "      <th>CV</th>\n",
       "      <th>Type</th>\n",
       "      <th>Kappa</th>\n",
       "    </tr>\n",
       "  </thead>\n",
       "  <tbody>\n",
       "    <tr>\n",
       "      <td>0</td>\n",
       "      <td>GaussianNB(priors=None, var_smoothing=1e-09)</td>\n",
       "      <td>0.939328</td>\n",
       "      <td>10</td>\n",
       "      <td>TRAIN</td>\n",
       "      <td>NaN</td>\n",
       "    </tr>\n",
       "    <tr>\n",
       "      <td>1</td>\n",
       "      <td>GaussianNB(priors=None, var_smoothing=1e-09)</td>\n",
       "      <td>0.954545</td>\n",
       "      <td>10</td>\n",
       "      <td>TEST</td>\n",
       "      <td>0.900694</td>\n",
       "    </tr>\n",
       "    <tr>\n",
       "      <td>2</td>\n",
       "      <td>DecisionTreeClassifier(class_weight=None, crit...</td>\n",
       "      <td>0.996750</td>\n",
       "      <td>10</td>\n",
       "      <td>TRAIN</td>\n",
       "      <td>NaN</td>\n",
       "    </tr>\n",
       "    <tr>\n",
       "      <td>3</td>\n",
       "      <td>DecisionTreeClassifier(class_weight=None, crit...</td>\n",
       "      <td>0.989899</td>\n",
       "      <td>10</td>\n",
       "      <td>TEST</td>\n",
       "      <td>0.978362</td>\n",
       "    </tr>\n",
       "    <tr>\n",
       "      <td>4</td>\n",
       "      <td>KNeighborsClassifier(algorithm='auto', leaf_si...</td>\n",
       "      <td>0.997833</td>\n",
       "      <td>10</td>\n",
       "      <td>TRAIN</td>\n",
       "      <td>NaN</td>\n",
       "    </tr>\n",
       "  </tbody>\n",
       "</table>\n",
       "</div>"
      ],
      "text/plain": [
       "                                                Name  Accuracy_Value  CV  \\\n",
       "0       GaussianNB(priors=None, var_smoothing=1e-09)        0.939328  10   \n",
       "1       GaussianNB(priors=None, var_smoothing=1e-09)        0.954545  10   \n",
       "2  DecisionTreeClassifier(class_weight=None, crit...        0.996750  10   \n",
       "3  DecisionTreeClassifier(class_weight=None, crit...        0.989899  10   \n",
       "4  KNeighborsClassifier(algorithm='auto', leaf_si...        0.997833  10   \n",
       "\n",
       "    Type     Kappa  \n",
       "0  TRAIN       NaN  \n",
       "1   TEST  0.900694  \n",
       "2  TRAIN       NaN  \n",
       "3   TEST  0.978362  \n",
       "4  TRAIN       NaN  "
      ]
     },
     "execution_count": 47,
     "metadata": {},
     "output_type": "execute_result"
    }
   ],
   "source": [
    "acc_Machine_Learning"
   ]
  },
  {
   "cell_type": "markdown",
   "metadata": {},
   "source": [
    "##### Test"
   ]
  },
  {
   "cell_type": "code",
   "execution_count": 48,
   "metadata": {},
   "outputs": [],
   "source": [
    "y_pred= knn.predict(X_test)"
   ]
  },
  {
   "cell_type": "code",
   "execution_count": 49,
   "metadata": {},
   "outputs": [
    {
     "data": {
      "text/plain": [
       "{0: 147, 1: 249}"
      ]
     },
     "execution_count": 49,
     "metadata": {},
     "output_type": "execute_result"
    }
   ],
   "source": [
    "unique, counts = np.unique(y_test, return_counts=True)\n",
    "dict(zip(unique, counts))"
   ]
  },
  {
   "cell_type": "code",
   "execution_count": 50,
   "metadata": {},
   "outputs": [
    {
     "data": {
      "text/plain": [
       "{0: 145, 1: 251}"
      ]
     },
     "execution_count": 50,
     "metadata": {},
     "output_type": "execute_result"
    }
   ],
   "source": [
    "unique, counts = np.unique(y_pred, return_counts=True)\n",
    "dict(zip(unique, counts))"
   ]
  },
  {
   "cell_type": "code",
   "execution_count": 51,
   "metadata": {},
   "outputs": [
    {
     "data": {
      "text/plain": [
       "([<matplotlib.axis.YTick at 0x2ca41b544c8>,\n",
       "  <matplotlib.axis.YTick at 0x2ca43506408>,\n",
       "  <matplotlib.axis.YTick at 0x2ca434f7308>],\n",
       " <a list of 2 Text yticklabel objects>)"
      ]
     },
     "execution_count": 51,
     "metadata": {},
     "output_type": "execute_result"
    },
    {
     "data": {
      "image/png": "[encoded data removed]",
      "text/plain": [
       "<Figure size 432x288 with 2 Axes>"
      ]
     },
     "metadata": {
      "needs_background": "light"
     },
     "output_type": "display_data"
    }
   ],
   "source": [
    "cm= metrics.confusion_matrix(y_test, y_pred)\n",
    "plt.imshow(cm, cmap=plt.cm.Blues)\n",
    "plt.title(\"Matriz de confusión\")\n",
    "plt.colorbar()\n",
    "tick_marks = np.arange(3)\n",
    "plt.xticks(tick_marks, ['0','1']) \n",
    "plt.yticks(tick_marks, ['0','1'])"
   ]
  },
  {
   "cell_type": "code",
   "execution_count": 52,
   "metadata": {},
   "outputs": [
    {
     "name": "stdout",
     "output_type": "stream",
     "text": [
      "              precision    recall  f1-score   support\n",
      "\n",
      "           0       1.00      0.99      0.99       147\n",
      "           1       0.99      1.00      1.00       249\n",
      "\n",
      "    accuracy                           0.99       396\n",
      "   macro avg       1.00      0.99      0.99       396\n",
      "weighted avg       0.99      0.99      0.99       396\n",
      "\n"
     ]
    }
   ],
   "source": [
    "print(classification_report(y_test, y_pred, labels=None))"
   ]
  },
  {
   "cell_type": "markdown",
   "metadata": {},
   "source": [
    "---"
   ]
  },
  {
   "cell_type": "code",
   "execution_count": 53,
   "metadata": {},
   "outputs": [],
   "source": [
    "acc_Machine_Learning= acc_Machine_Learning.append({'Name' : knn\n",
    "                                                   , 'Accuracy_Value': accuracy_score(y_test,y_pred) \n",
    "                                                   , 'CV' : 10\n",
    "                                                   , 'Type' : 'TEST'\n",
    "                                                   , 'Kappa' : cohen_kappa_score(y_test, y_pred)}, \n",
    "                                                   ignore_index=True)"
   ]
  },
  {
   "cell_type": "code",
   "execution_count": 54,
   "metadata": {},
   "outputs": [
    {
     "data": {
      "text/html": [
       "<div>\n",
       "<style scoped>\n",
       "    .dataframe tbody tr th:only-of-type {\n",
       "        vertical-align: middle;\n",
       "    }\n",
       "\n",
       "    .dataframe tbody tr th {\n",
       "        vertical-align: top;\n",
       "    }\n",
       "\n",
       "    .dataframe thead th {\n",
       "        text-align: right;\n",
       "    }\n",
       "</style>\n",
       "<table border=\"1\" class=\"dataframe\">\n",
       "  <thead>\n",
       "    <tr style=\"text-align: right;\">\n",
       "      <th></th>\n",
       "      <th>Name</th>\n",
       "      <th>Accuracy_Value</th>\n",
       "      <th>CV</th>\n",
       "      <th>Type</th>\n",
       "      <th>Kappa</th>\n",
       "    </tr>\n",
       "  </thead>\n",
       "  <tbody>\n",
       "    <tr>\n",
       "      <td>0</td>\n",
       "      <td>GaussianNB(priors=None, var_smoothing=1e-09)</td>\n",
       "      <td>0.939328</td>\n",
       "      <td>10</td>\n",
       "      <td>TRAIN</td>\n",
       "      <td>NaN</td>\n",
       "    </tr>\n",
       "    <tr>\n",
       "      <td>1</td>\n",
       "      <td>GaussianNB(priors=None, var_smoothing=1e-09)</td>\n",
       "      <td>0.954545</td>\n",
       "      <td>10</td>\n",
       "      <td>TEST</td>\n",
       "      <td>0.900694</td>\n",
       "    </tr>\n",
       "    <tr>\n",
       "      <td>2</td>\n",
       "      <td>DecisionTreeClassifier(class_weight=None, crit...</td>\n",
       "      <td>0.996750</td>\n",
       "      <td>10</td>\n",
       "      <td>TRAIN</td>\n",
       "      <td>NaN</td>\n",
       "    </tr>\n",
       "    <tr>\n",
       "      <td>3</td>\n",
       "      <td>DecisionTreeClassifier(class_weight=None, crit...</td>\n",
       "      <td>0.989899</td>\n",
       "      <td>10</td>\n",
       "      <td>TEST</td>\n",
       "      <td>0.978362</td>\n",
       "    </tr>\n",
       "    <tr>\n",
       "      <td>4</td>\n",
       "      <td>KNeighborsClassifier(algorithm='auto', leaf_si...</td>\n",
       "      <td>0.997833</td>\n",
       "      <td>10</td>\n",
       "      <td>TRAIN</td>\n",
       "      <td>NaN</td>\n",
       "    </tr>\n",
       "    <tr>\n",
       "      <td>5</td>\n",
       "      <td>KNeighborsClassifier(algorithm='auto', leaf_si...</td>\n",
       "      <td>0.994949</td>\n",
       "      <td>10</td>\n",
       "      <td>TEST</td>\n",
       "      <td>0.989151</td>\n",
       "    </tr>\n",
       "  </tbody>\n",
       "</table>\n",
       "</div>"
      ],
      "text/plain": [
       "                                                Name  Accuracy_Value  CV  \\\n",
       "0       GaussianNB(priors=None, var_smoothing=1e-09)        0.939328  10   \n",
       "1       GaussianNB(priors=None, var_smoothing=1e-09)        0.954545  10   \n",
       "2  DecisionTreeClassifier(class_weight=None, crit...        0.996750  10   \n",
       "3  DecisionTreeClassifier(class_weight=None, crit...        0.989899  10   \n",
       "4  KNeighborsClassifier(algorithm='auto', leaf_si...        0.997833  10   \n",
       "5  KNeighborsClassifier(algorithm='auto', leaf_si...        0.994949  10   \n",
       "\n",
       "    Type     Kappa  \n",
       "0  TRAIN       NaN  \n",
       "1   TEST  0.900694  \n",
       "2  TRAIN       NaN  \n",
       "3   TEST  0.978362  \n",
       "4  TRAIN       NaN  \n",
       "5   TEST  0.989151  "
      ]
     },
     "execution_count": 54,
     "metadata": {},
     "output_type": "execute_result"
    }
   ],
   "source": [
    "acc_Machine_Learning"
   ]
  },
  {
   "cell_type": "markdown",
   "metadata": {},
   "source": [
    "---"
   ]
  },
  {
   "cell_type": "markdown",
   "metadata": {},
   "source": [
    "#### 5.4 Logistic Regression"
   ]
  },
  {
   "cell_type": "markdown",
   "metadata": {},
   "source": [
    "##### Train"
   ]
  },
  {
   "cell_type": "code",
   "execution_count": 55,
   "metadata": {},
   "outputs": [],
   "source": [
    "logreg = linear_model.LogisticRegression()\n",
    "params = {}"
   ]
  },
  {
   "cell_type": "code",
   "execution_count": 56,
   "metadata": {},
   "outputs": [
    {
     "data": {
      "text/plain": [
       "GridSearchCV(cv=10, error_score='raise-deprecating',\n",
       "             estimator=LogisticRegression(C=1.0, class_weight=None, dual=False,\n",
       "                                          fit_intercept=True,\n",
       "                                          intercept_scaling=1, l1_ratio=None,\n",
       "                                          max_iter=100, multi_class='warn',\n",
       "                                          n_jobs=None, penalty='l2',\n",
       "                                          random_state=None, solver='warn',\n",
       "                                          tol=0.0001, verbose=0,\n",
       "                                          warm_start=False),\n",
       "             iid='warn', n_jobs=None, param_grid={}, pre_dispatch='2*n_jobs',\n",
       "             refit=True, return_train_score=False, scoring=None, verbose=0)"
      ]
     },
     "execution_count": 56,
     "metadata": {},
     "output_type": "execute_result"
    }
   ],
   "source": [
    "gscv_lg = GridSearchCV(logreg, params, cv=10)\n",
    "gscv_lg.fit(X_train,y_train)"
   ]
  },
  {
   "cell_type": "markdown",
   "metadata": {},
   "source": [
    "The **best_score (Mean cross-validated score of the best_estimator)** is :"
   ]
  },
  {
   "cell_type": "code",
   "execution_count": 57,
   "metadata": {},
   "outputs": [
    {
     "data": {
      "text/plain": [
       "0.980498374864572"
      ]
     },
     "execution_count": 57,
     "metadata": {},
     "output_type": "execute_result"
    }
   ],
   "source": [
    "gscv_lg.best_score_"
   ]
  },
  {
   "cell_type": "markdown",
   "metadata": {},
   "source": [
    "The **best estimator (model)** is :"
   ]
  },
  {
   "cell_type": "code",
   "execution_count": 58,
   "metadata": {},
   "outputs": [
    {
     "data": {
      "text/plain": [
       "LogisticRegression(C=1.0, class_weight=None, dual=False, fit_intercept=True,\n",
       "                   intercept_scaling=1, l1_ratio=None, max_iter=100,\n",
       "                   multi_class='warn', n_jobs=None, penalty='l2',\n",
       "                   random_state=None, solver='warn', tol=0.0001, verbose=0,\n",
       "                   warm_start=False)"
      ]
     },
     "execution_count": 58,
     "metadata": {},
     "output_type": "execute_result"
    }
   ],
   "source": [
    "logreg = gscv_lg.best_estimator_\n",
    "logreg"
   ]
  },
  {
   "cell_type": "code",
   "execution_count": 59,
   "metadata": {},
   "outputs": [],
   "source": [
    "acc_Machine_Learning= acc_Machine_Learning.append({'Name' : logreg\n",
    "                                                   , 'Accuracy_Value' : gscv_lg.best_score_\n",
    "                                                   , 'CV' :10\n",
    "                                                   , 'Type' : 'TRAIN'}\n",
    "                                                  , ignore_index=True)"
   ]
  },
  {
   "cell_type": "code",
   "execution_count": 60,
   "metadata": {},
   "outputs": [
    {
     "data": {
      "text/html": [
       "<div>\n",
       "<style scoped>\n",
       "    .dataframe tbody tr th:only-of-type {\n",
       "        vertical-align: middle;\n",
       "    }\n",
       "\n",
       "    .dataframe tbody tr th {\n",
       "        vertical-align: top;\n",
       "    }\n",
       "\n",
       "    .dataframe thead th {\n",
       "        text-align: right;\n",
       "    }\n",
       "</style>\n",
       "<table border=\"1\" class=\"dataframe\">\n",
       "  <thead>\n",
       "    <tr style=\"text-align: right;\">\n",
       "      <th></th>\n",
       "      <th>Name</th>\n",
       "      <th>Accuracy_Value</th>\n",
       "      <th>CV</th>\n",
       "      <th>Type</th>\n",
       "      <th>Kappa</th>\n",
       "    </tr>\n",
       "  </thead>\n",
       "  <tbody>\n",
       "    <tr>\n",
       "      <td>0</td>\n",
       "      <td>GaussianNB(priors=None, var_smoothing=1e-09)</td>\n",
       "      <td>0.939328</td>\n",
       "      <td>10</td>\n",
       "      <td>TRAIN</td>\n",
       "      <td>NaN</td>\n",
       "    </tr>\n",
       "    <tr>\n",
       "      <td>1</td>\n",
       "      <td>GaussianNB(priors=None, var_smoothing=1e-09)</td>\n",
       "      <td>0.954545</td>\n",
       "      <td>10</td>\n",
       "      <td>TEST</td>\n",
       "      <td>0.900694</td>\n",
       "    </tr>\n",
       "    <tr>\n",
       "      <td>2</td>\n",
       "      <td>DecisionTreeClassifier(class_weight=None, crit...</td>\n",
       "      <td>0.996750</td>\n",
       "      <td>10</td>\n",
       "      <td>TRAIN</td>\n",
       "      <td>NaN</td>\n",
       "    </tr>\n",
       "    <tr>\n",
       "      <td>3</td>\n",
       "      <td>DecisionTreeClassifier(class_weight=None, crit...</td>\n",
       "      <td>0.989899</td>\n",
       "      <td>10</td>\n",
       "      <td>TEST</td>\n",
       "      <td>0.978362</td>\n",
       "    </tr>\n",
       "    <tr>\n",
       "      <td>4</td>\n",
       "      <td>KNeighborsClassifier(algorithm='auto', leaf_si...</td>\n",
       "      <td>0.997833</td>\n",
       "      <td>10</td>\n",
       "      <td>TRAIN</td>\n",
       "      <td>NaN</td>\n",
       "    </tr>\n",
       "    <tr>\n",
       "      <td>5</td>\n",
       "      <td>KNeighborsClassifier(algorithm='auto', leaf_si...</td>\n",
       "      <td>0.994949</td>\n",
       "      <td>10</td>\n",
       "      <td>TEST</td>\n",
       "      <td>0.989151</td>\n",
       "    </tr>\n",
       "    <tr>\n",
       "      <td>6</td>\n",
       "      <td>LogisticRegression(C=1.0, class_weight=None, d...</td>\n",
       "      <td>0.980498</td>\n",
       "      <td>10</td>\n",
       "      <td>TRAIN</td>\n",
       "      <td>NaN</td>\n",
       "    </tr>\n",
       "  </tbody>\n",
       "</table>\n",
       "</div>"
      ],
      "text/plain": [
       "                                                Name  Accuracy_Value  CV  \\\n",
       "0       GaussianNB(priors=None, var_smoothing=1e-09)        0.939328  10   \n",
       "1       GaussianNB(priors=None, var_smoothing=1e-09)        0.954545  10   \n",
       "2  DecisionTreeClassifier(class_weight=None, crit...        0.996750  10   \n",
       "3  DecisionTreeClassifier(class_weight=None, crit...        0.989899  10   \n",
       "4  KNeighborsClassifier(algorithm='auto', leaf_si...        0.997833  10   \n",
       "5  KNeighborsClassifier(algorithm='auto', leaf_si...        0.994949  10   \n",
       "6  LogisticRegression(C=1.0, class_weight=None, d...        0.980498  10   \n",
       "\n",
       "    Type     Kappa  \n",
       "0  TRAIN       NaN  \n",
       "1   TEST  0.900694  \n",
       "2  TRAIN       NaN  \n",
       "3   TEST  0.978362  \n",
       "4  TRAIN       NaN  \n",
       "5   TEST  0.989151  \n",
       "6  TRAIN       NaN  "
      ]
     },
     "execution_count": 60,
     "metadata": {},
     "output_type": "execute_result"
    }
   ],
   "source": [
    "acc_Machine_Learning"
   ]
  },
  {
   "cell_type": "markdown",
   "metadata": {},
   "source": [
    "##### Test"
   ]
  },
  {
   "cell_type": "code",
   "execution_count": 61,
   "metadata": {},
   "outputs": [],
   "source": [
    "y_pred= logreg.predict(X_test)"
   ]
  },
  {
   "cell_type": "code",
   "execution_count": 62,
   "metadata": {},
   "outputs": [
    {
     "data": {
      "text/plain": [
       "{0: 147, 1: 249}"
      ]
     },
     "execution_count": 62,
     "metadata": {},
     "output_type": "execute_result"
    }
   ],
   "source": [
    "unique, counts = np.unique(y_test, return_counts=True)\n",
    "dict(zip(unique, counts))"
   ]
  },
  {
   "cell_type": "code",
   "execution_count": 63,
   "metadata": {},
   "outputs": [
    {
     "data": {
      "text/plain": [
       "{0: 113, 1: 283}"
      ]
     },
     "execution_count": 63,
     "metadata": {},
     "output_type": "execute_result"
    }
   ],
   "source": [
    "unique, counts = np.unique(y_pred, return_counts=True)\n",
    "dict(zip(unique, counts))"
   ]
  },
  {
   "cell_type": "code",
   "execution_count": 64,
   "metadata": {},
   "outputs": [
    {
     "data": {
      "text/plain": [
       "([<matplotlib.axis.YTick at 0x2ca45a7ab88>,\n",
       "  <matplotlib.axis.YTick at 0x2ca45a7a548>,\n",
       "  <matplotlib.axis.YTick at 0x2ca4436f2c8>],\n",
       " <a list of 2 Text yticklabel objects>)"
      ]
     },
     "execution_count": 64,
     "metadata": {},
     "output_type": "execute_result"
    },
    {
     "data": {
      "image/png": "[encoded data removed]",
      "text/plain": [
       "<Figure size 432x288 with 2 Axes>"
      ]
     },
     "metadata": {
      "needs_background": "light"
     },
     "output_type": "display_data"
    }
   ],
   "source": [
    "cm= metrics.confusion_matrix(y_test, y_pred)\n",
    "plt.imshow(cm, cmap=plt.cm.Blues)\n",
    "plt.title(\"Matriz de confusión\")\n",
    "plt.colorbar()\n",
    "tick_marks = np.arange(3)\n",
    "plt.xticks(tick_marks, ['0','1']) \n",
    "plt.yticks(tick_marks, ['0','1'])"
   ]
  },
  {
   "cell_type": "code",
   "execution_count": 65,
   "metadata": {},
   "outputs": [
    {
     "name": "stdout",
     "output_type": "stream",
     "text": [
      "              precision    recall  f1-score   support\n",
      "\n",
      "           0       0.99      0.76      0.86       147\n",
      "           1       0.88      1.00      0.93       249\n",
      "\n",
      "    accuracy                           0.91       396\n",
      "   macro avg       0.93      0.88      0.90       396\n",
      "weighted avg       0.92      0.91      0.91       396\n",
      "\n"
     ]
    }
   ],
   "source": [
    "print(classification_report(y_test, y_pred, labels=None))"
   ]
  },
  {
   "cell_type": "markdown",
   "metadata": {},
   "source": [
    "---"
   ]
  },
  {
   "cell_type": "code",
   "execution_count": 66,
   "metadata": {},
   "outputs": [],
   "source": [
    "acc_Machine_Learning= acc_Machine_Learning.append({'Name' : logreg\n",
    "                                                   , 'Accuracy_Value': accuracy_score(y_test,y_pred) \n",
    "                                                   , 'CV' : 10\n",
    "                                                   , 'Type' : 'TEST'\n",
    "                                                   , 'Kappa' : cohen_kappa_score(y_test, y_pred)}, \n",
    "                                                   ignore_index=True)"
   ]
  },
  {
   "cell_type": "code",
   "execution_count": 67,
   "metadata": {},
   "outputs": [
    {
     "data": {
      "text/html": [
       "<div>\n",
       "<style scoped>\n",
       "    .dataframe tbody tr th:only-of-type {\n",
       "        vertical-align: middle;\n",
       "    }\n",
       "\n",
       "    .dataframe tbody tr th {\n",
       "        vertical-align: top;\n",
       "    }\n",
       "\n",
       "    .dataframe thead th {\n",
       "        text-align: right;\n",
       "    }\n",
       "</style>\n",
       "<table border=\"1\" class=\"dataframe\">\n",
       "  <thead>\n",
       "    <tr style=\"text-align: right;\">\n",
       "      <th></th>\n",
       "      <th>Name</th>\n",
       "      <th>Accuracy_Value</th>\n",
       "      <th>CV</th>\n",
       "      <th>Type</th>\n",
       "      <th>Kappa</th>\n",
       "    </tr>\n",
       "  </thead>\n",
       "  <tbody>\n",
       "    <tr>\n",
       "      <td>0</td>\n",
       "      <td>GaussianNB(priors=None, var_smoothing=1e-09)</td>\n",
       "      <td>0.939328</td>\n",
       "      <td>10</td>\n",
       "      <td>TRAIN</td>\n",
       "      <td>NaN</td>\n",
       "    </tr>\n",
       "    <tr>\n",
       "      <td>1</td>\n",
       "      <td>GaussianNB(priors=None, var_smoothing=1e-09)</td>\n",
       "      <td>0.954545</td>\n",
       "      <td>10</td>\n",
       "      <td>TEST</td>\n",
       "      <td>0.900694</td>\n",
       "    </tr>\n",
       "    <tr>\n",
       "      <td>2</td>\n",
       "      <td>DecisionTreeClassifier(class_weight=None, crit...</td>\n",
       "      <td>0.996750</td>\n",
       "      <td>10</td>\n",
       "      <td>TRAIN</td>\n",
       "      <td>NaN</td>\n",
       "    </tr>\n",
       "    <tr>\n",
       "      <td>3</td>\n",
       "      <td>DecisionTreeClassifier(class_weight=None, crit...</td>\n",
       "      <td>0.989899</td>\n",
       "      <td>10</td>\n",
       "      <td>TEST</td>\n",
       "      <td>0.978362</td>\n",
       "    </tr>\n",
       "    <tr>\n",
       "      <td>4</td>\n",
       "      <td>KNeighborsClassifier(algorithm='auto', leaf_si...</td>\n",
       "      <td>0.997833</td>\n",
       "      <td>10</td>\n",
       "      <td>TRAIN</td>\n",
       "      <td>NaN</td>\n",
       "    </tr>\n",
       "    <tr>\n",
       "      <td>5</td>\n",
       "      <td>KNeighborsClassifier(algorithm='auto', leaf_si...</td>\n",
       "      <td>0.994949</td>\n",
       "      <td>10</td>\n",
       "      <td>TEST</td>\n",
       "      <td>0.989151</td>\n",
       "    </tr>\n",
       "    <tr>\n",
       "      <td>6</td>\n",
       "      <td>LogisticRegression(C=1.0, class_weight=None, d...</td>\n",
       "      <td>0.980498</td>\n",
       "      <td>10</td>\n",
       "      <td>TRAIN</td>\n",
       "      <td>NaN</td>\n",
       "    </tr>\n",
       "    <tr>\n",
       "      <td>7</td>\n",
       "      <td>LogisticRegression(C=1.0, class_weight=None, d...</td>\n",
       "      <td>0.909091</td>\n",
       "      <td>10</td>\n",
       "      <td>TEST</td>\n",
       "      <td>0.795578</td>\n",
       "    </tr>\n",
       "  </tbody>\n",
       "</table>\n",
       "</div>"
      ],
      "text/plain": [
       "                                                Name  Accuracy_Value  CV  \\\n",
       "0       GaussianNB(priors=None, var_smoothing=1e-09)        0.939328  10   \n",
       "1       GaussianNB(priors=None, var_smoothing=1e-09)        0.954545  10   \n",
       "2  DecisionTreeClassifier(class_weight=None, crit...        0.996750  10   \n",
       "3  DecisionTreeClassifier(class_weight=None, crit...        0.989899  10   \n",
       "4  KNeighborsClassifier(algorithm='auto', leaf_si...        0.997833  10   \n",
       "5  KNeighborsClassifier(algorithm='auto', leaf_si...        0.994949  10   \n",
       "6  LogisticRegression(C=1.0, class_weight=None, d...        0.980498  10   \n",
       "7  LogisticRegression(C=1.0, class_weight=None, d...        0.909091  10   \n",
       "\n",
       "    Type     Kappa  \n",
       "0  TRAIN       NaN  \n",
       "1   TEST  0.900694  \n",
       "2  TRAIN       NaN  \n",
       "3   TEST  0.978362  \n",
       "4  TRAIN       NaN  \n",
       "5   TEST  0.989151  \n",
       "6  TRAIN       NaN  \n",
       "7   TEST  0.795578  "
      ]
     },
     "execution_count": 67,
     "metadata": {},
     "output_type": "execute_result"
    }
   ],
   "source": [
    "acc_Machine_Learning"
   ]
  },
  {
   "cell_type": "markdown",
   "metadata": {},
   "source": [
    "---"
   ]
  },
  {
   "cell_type": "markdown",
   "metadata": {},
   "source": [
    "#### 5.5 Random Forest Classifier"
   ]
  },
  {
   "cell_type": "markdown",
   "metadata": {},
   "source": [
    "##### Train"
   ]
  },
  {
   "cell_type": "code",
   "execution_count": 68,
   "metadata": {},
   "outputs": [],
   "source": [
    "clf = RandomForestClassifier(random_state=1234)\n",
    "clf_param = { \n",
    "    'n_estimators': [64, 128],\n",
    "    'max_features': ['auto', 'sqrt', 'log2'],\n",
    "    'max_depth' : [4,5,6,7,8,9,10,11,12,13,14,15],\n",
    "    'criterion' :['gini', 'entropy']}"
   ]
  },
  {
   "cell_type": "code",
   "execution_count": 69,
   "metadata": {},
   "outputs": [
    {
     "data": {
      "text/plain": [
       "GridSearchCV(cv=10, error_score='raise-deprecating',\n",
       "             estimator=RandomForestClassifier(bootstrap=True, class_weight=None,\n",
       "                                              criterion='gini', max_depth=None,\n",
       "                                              max_features='auto',\n",
       "                                              max_leaf_nodes=None,\n",
       "                                              min_impurity_decrease=0.0,\n",
       "                                              min_impurity_split=None,\n",
       "                                              min_samples_leaf=1,\n",
       "                                              min_samples_split=2,\n",
       "                                              min_weight_fraction_leaf=0.0,\n",
       "                                              n_estimators='warn', n_jobs=None,\n",
       "                                              oob_score=False,\n",
       "                                              random_state=1234, verbose=0,\n",
       "                                              warm_start=False),\n",
       "             iid='warn', n_jobs=None,\n",
       "             param_grid={'criterion': ['gini', 'entropy'],\n",
       "                         'max_depth': [4, 5, 6, 7, 8, 9, 10, 11, 12, 13, 14,\n",
       "                                       15],\n",
       "                         'max_features': ['auto', 'sqrt', 'log2'],\n",
       "                         'n_estimators': [64, 128]},\n",
       "             pre_dispatch='2*n_jobs', refit=True, return_train_score=False,\n",
       "             scoring=None, verbose=0)"
      ]
     },
     "execution_count": 69,
     "metadata": {},
     "output_type": "execute_result"
    }
   ],
   "source": [
    "gscv_rfc = GridSearchCV(clf, clf_param, cv=10)\n",
    "gscv_rfc.fit(X_train,y_train)"
   ]
  },
  {
   "cell_type": "markdown",
   "metadata": {},
   "source": [
    "The **best_score (Mean cross-validated score of the best_estimator)** is :"
   ]
  },
  {
   "cell_type": "code",
   "execution_count": 70,
   "metadata": {},
   "outputs": [
    {
     "data": {
      "text/plain": [
       "0.9978331527627302"
      ]
     },
     "execution_count": 70,
     "metadata": {},
     "output_type": "execute_result"
    }
   ],
   "source": [
    "gscv_rfc.best_score_"
   ]
  },
  {
   "cell_type": "markdown",
   "metadata": {},
   "source": [
    "The **best estimator (model)** is :"
   ]
  },
  {
   "cell_type": "code",
   "execution_count": 71,
   "metadata": {},
   "outputs": [
    {
     "data": {
      "text/plain": [
       "RandomForestClassifier(bootstrap=True, class_weight=None, criterion='gini',\n",
       "                       max_depth=5, max_features='auto', max_leaf_nodes=None,\n",
       "                       min_impurity_decrease=0.0, min_impurity_split=None,\n",
       "                       min_samples_leaf=1, min_samples_split=2,\n",
       "                       min_weight_fraction_leaf=0.0, n_estimators=64,\n",
       "                       n_jobs=None, oob_score=False, random_state=1234,\n",
       "                       verbose=0, warm_start=False)"
      ]
     },
     "execution_count": 71,
     "metadata": {},
     "output_type": "execute_result"
    }
   ],
   "source": [
    "clf = gscv_rfc.best_estimator_\n",
    "clf"
   ]
  },
  {
   "cell_type": "code",
   "execution_count": 72,
   "metadata": {},
   "outputs": [],
   "source": [
    "acc_Machine_Learning= acc_Machine_Learning.append({'Name' : clf\n",
    "                                                   ,'Accuracy_Value' : gscv_rfc.best_score_\n",
    "                                                   ,'CV' :10\n",
    "                                                   ,'Type' : 'TRAIN'}\n",
    "                                                   , ignore_index=True)"
   ]
  },
  {
   "cell_type": "code",
   "execution_count": 73,
   "metadata": {},
   "outputs": [
    {
     "data": {
      "text/html": [
       "<div>\n",
       "<style scoped>\n",
       "    .dataframe tbody tr th:only-of-type {\n",
       "        vertical-align: middle;\n",
       "    }\n",
       "\n",
       "    .dataframe tbody tr th {\n",
       "        vertical-align: top;\n",
       "    }\n",
       "\n",
       "    .dataframe thead th {\n",
       "        text-align: right;\n",
       "    }\n",
       "</style>\n",
       "<table border=\"1\" class=\"dataframe\">\n",
       "  <thead>\n",
       "    <tr style=\"text-align: right;\">\n",
       "      <th></th>\n",
       "      <th>Name</th>\n",
       "      <th>Accuracy_Value</th>\n",
       "      <th>CV</th>\n",
       "      <th>Type</th>\n",
       "      <th>Kappa</th>\n",
       "    </tr>\n",
       "  </thead>\n",
       "  <tbody>\n",
       "    <tr>\n",
       "      <td>0</td>\n",
       "      <td>GaussianNB(priors=None, var_smoothing=1e-09)</td>\n",
       "      <td>0.939328</td>\n",
       "      <td>10</td>\n",
       "      <td>TRAIN</td>\n",
       "      <td>NaN</td>\n",
       "    </tr>\n",
       "    <tr>\n",
       "      <td>1</td>\n",
       "      <td>GaussianNB(priors=None, var_smoothing=1e-09)</td>\n",
       "      <td>0.954545</td>\n",
       "      <td>10</td>\n",
       "      <td>TEST</td>\n",
       "      <td>0.900694</td>\n",
       "    </tr>\n",
       "    <tr>\n",
       "      <td>2</td>\n",
       "      <td>DecisionTreeClassifier(class_weight=None, crit...</td>\n",
       "      <td>0.996750</td>\n",
       "      <td>10</td>\n",
       "      <td>TRAIN</td>\n",
       "      <td>NaN</td>\n",
       "    </tr>\n",
       "    <tr>\n",
       "      <td>3</td>\n",
       "      <td>DecisionTreeClassifier(class_weight=None, crit...</td>\n",
       "      <td>0.989899</td>\n",
       "      <td>10</td>\n",
       "      <td>TEST</td>\n",
       "      <td>0.978362</td>\n",
       "    </tr>\n",
       "    <tr>\n",
       "      <td>4</td>\n",
       "      <td>KNeighborsClassifier(algorithm='auto', leaf_si...</td>\n",
       "      <td>0.997833</td>\n",
       "      <td>10</td>\n",
       "      <td>TRAIN</td>\n",
       "      <td>NaN</td>\n",
       "    </tr>\n",
       "    <tr>\n",
       "      <td>5</td>\n",
       "      <td>KNeighborsClassifier(algorithm='auto', leaf_si...</td>\n",
       "      <td>0.994949</td>\n",
       "      <td>10</td>\n",
       "      <td>TEST</td>\n",
       "      <td>0.989151</td>\n",
       "    </tr>\n",
       "    <tr>\n",
       "      <td>6</td>\n",
       "      <td>LogisticRegression(C=1.0, class_weight=None, d...</td>\n",
       "      <td>0.980498</td>\n",
       "      <td>10</td>\n",
       "      <td>TRAIN</td>\n",
       "      <td>NaN</td>\n",
       "    </tr>\n",
       "    <tr>\n",
       "      <td>7</td>\n",
       "      <td>LogisticRegression(C=1.0, class_weight=None, d...</td>\n",
       "      <td>0.909091</td>\n",
       "      <td>10</td>\n",
       "      <td>TEST</td>\n",
       "      <td>0.795578</td>\n",
       "    </tr>\n",
       "    <tr>\n",
       "      <td>8</td>\n",
       "      <td>(DecisionTreeClassifier(class_weight=None, cri...</td>\n",
       "      <td>0.997833</td>\n",
       "      <td>10</td>\n",
       "      <td>TRAIN</td>\n",
       "      <td>NaN</td>\n",
       "    </tr>\n",
       "  </tbody>\n",
       "</table>\n",
       "</div>"
      ],
      "text/plain": [
       "                                                Name  Accuracy_Value  CV  \\\n",
       "0       GaussianNB(priors=None, var_smoothing=1e-09)        0.939328  10   \n",
       "1       GaussianNB(priors=None, var_smoothing=1e-09)        0.954545  10   \n",
       "2  DecisionTreeClassifier(class_weight=None, crit...        0.996750  10   \n",
       "3  DecisionTreeClassifier(class_weight=None, crit...        0.989899  10   \n",
       "4  KNeighborsClassifier(algorithm='auto', leaf_si...        0.997833  10   \n",
       "5  KNeighborsClassifier(algorithm='auto', leaf_si...        0.994949  10   \n",
       "6  LogisticRegression(C=1.0, class_weight=None, d...        0.980498  10   \n",
       "7  LogisticRegression(C=1.0, class_weight=None, d...        0.909091  10   \n",
       "8  (DecisionTreeClassifier(class_weight=None, cri...        0.997833  10   \n",
       "\n",
       "    Type     Kappa  \n",
       "0  TRAIN       NaN  \n",
       "1   TEST  0.900694  \n",
       "2  TRAIN       NaN  \n",
       "3   TEST  0.978362  \n",
       "4  TRAIN       NaN  \n",
       "5   TEST  0.989151  \n",
       "6  TRAIN       NaN  \n",
       "7   TEST  0.795578  \n",
       "8  TRAIN       NaN  "
      ]
     },
     "execution_count": 73,
     "metadata": {},
     "output_type": "execute_result"
    }
   ],
   "source": [
    "acc_Machine_Learning"
   ]
  },
  {
   "cell_type": "markdown",
   "metadata": {},
   "source": [
    "##### Test"
   ]
  },
  {
   "cell_type": "code",
   "execution_count": 74,
   "metadata": {},
   "outputs": [],
   "source": [
    "y_pred= clf.predict(X_test)"
   ]
  },
  {
   "cell_type": "code",
   "execution_count": 75,
   "metadata": {},
   "outputs": [
    {
     "data": {
      "text/plain": [
       "{0: 147, 1: 249}"
      ]
     },
     "execution_count": 75,
     "metadata": {},
     "output_type": "execute_result"
    }
   ],
   "source": [
    "unique, counts = np.unique(y_test, return_counts=True)\n",
    "dict(zip(unique, counts))"
   ]
  },
  {
   "cell_type": "code",
   "execution_count": 76,
   "metadata": {},
   "outputs": [
    {
     "data": {
      "text/plain": [
       "{0: 148, 1: 248}"
      ]
     },
     "execution_count": 76,
     "metadata": {},
     "output_type": "execute_result"
    }
   ],
   "source": [
    "unique, counts = np.unique(y_pred, return_counts=True)\n",
    "dict(zip(unique, counts))"
   ]
  },
  {
   "cell_type": "code",
   "execution_count": 77,
   "metadata": {},
   "outputs": [
    {
     "data": {
      "text/plain": [
       "([<matplotlib.axis.YTick at 0x2ca40e2eec8>,\n",
       "  <matplotlib.axis.YTick at 0x2ca40e2eb48>,\n",
       "  <matplotlib.axis.YTick at 0x2ca40ab9d08>],\n",
       " <a list of 2 Text yticklabel objects>)"
      ]
     },
     "execution_count": 77,
     "metadata": {},
     "output_type": "execute_result"
    },
    {
     "data": {
      "image/png": "[encoded data removed]",
      "text/plain": [
       "<Figure size 432x288 with 2 Axes>"
      ]
     },
     "metadata": {
      "needs_background": "light"
     },
     "output_type": "display_data"
    }
   ],
   "source": [
    "cm= metrics.confusion_matrix(y_test, y_pred)\n",
    "plt.imshow(cm, cmap=plt.cm.Blues)\n",
    "plt.title(\"Matriz de confusión\")\n",
    "plt.colorbar()\n",
    "tick_marks = np.arange(3)\n",
    "plt.xticks(tick_marks, ['0','1']) \n",
    "plt.yticks(tick_marks, ['0','1'])"
   ]
  },
  {
   "cell_type": "code",
   "execution_count": 78,
   "metadata": {},
   "outputs": [
    {
     "name": "stdout",
     "output_type": "stream",
     "text": [
      "              precision    recall  f1-score   support\n",
      "\n",
      "           0       0.99      1.00      1.00       147\n",
      "           1       1.00      1.00      1.00       249\n",
      "\n",
      "    accuracy                           1.00       396\n",
      "   macro avg       1.00      1.00      1.00       396\n",
      "weighted avg       1.00      1.00      1.00       396\n",
      "\n"
     ]
    }
   ],
   "source": [
    "print(classification_report(y_test, y_pred, labels=None))"
   ]
  },
  {
   "cell_type": "markdown",
   "metadata": {},
   "source": [
    "---"
   ]
  },
  {
   "cell_type": "code",
   "execution_count": 79,
   "metadata": {},
   "outputs": [],
   "source": [
    "acc_Machine_Learning= acc_Machine_Learning.append({'Name' : clf\n",
    "                                                   , 'Accuracy_Value': accuracy_score(y_test,y_pred) \n",
    "                                                   , 'CV' : 10\n",
    "                                                   , 'Type' : 'TEST'\n",
    "                                                   , 'Kappa' : cohen_kappa_score(y_test, y_pred)}, \n",
    "                                                   ignore_index=True)"
   ]
  },
  {
   "cell_type": "code",
   "execution_count": 80,
   "metadata": {},
   "outputs": [
    {
     "data": {
      "text/html": [
       "<div>\n",
       "<style scoped>\n",
       "    .dataframe tbody tr th:only-of-type {\n",
       "        vertical-align: middle;\n",
       "    }\n",
       "\n",
       "    .dataframe tbody tr th {\n",
       "        vertical-align: top;\n",
       "    }\n",
       "\n",
       "    .dataframe thead th {\n",
       "        text-align: right;\n",
       "    }\n",
       "</style>\n",
       "<table border=\"1\" class=\"dataframe\">\n",
       "  <thead>\n",
       "    <tr style=\"text-align: right;\">\n",
       "      <th></th>\n",
       "      <th>Name</th>\n",
       "      <th>Accuracy_Value</th>\n",
       "      <th>CV</th>\n",
       "      <th>Type</th>\n",
       "      <th>Kappa</th>\n",
       "    </tr>\n",
       "  </thead>\n",
       "  <tbody>\n",
       "    <tr>\n",
       "      <td>0</td>\n",
       "      <td>GaussianNB(priors=None, var_smoothing=1e-09)</td>\n",
       "      <td>0.939328</td>\n",
       "      <td>10</td>\n",
       "      <td>TRAIN</td>\n",
       "      <td>NaN</td>\n",
       "    </tr>\n",
       "    <tr>\n",
       "      <td>1</td>\n",
       "      <td>GaussianNB(priors=None, var_smoothing=1e-09)</td>\n",
       "      <td>0.954545</td>\n",
       "      <td>10</td>\n",
       "      <td>TEST</td>\n",
       "      <td>0.900694</td>\n",
       "    </tr>\n",
       "    <tr>\n",
       "      <td>2</td>\n",
       "      <td>DecisionTreeClassifier(class_weight=None, crit...</td>\n",
       "      <td>0.996750</td>\n",
       "      <td>10</td>\n",
       "      <td>TRAIN</td>\n",
       "      <td>NaN</td>\n",
       "    </tr>\n",
       "    <tr>\n",
       "      <td>3</td>\n",
       "      <td>DecisionTreeClassifier(class_weight=None, crit...</td>\n",
       "      <td>0.989899</td>\n",
       "      <td>10</td>\n",
       "      <td>TEST</td>\n",
       "      <td>0.978362</td>\n",
       "    </tr>\n",
       "    <tr>\n",
       "      <td>4</td>\n",
       "      <td>KNeighborsClassifier(algorithm='auto', leaf_si...</td>\n",
       "      <td>0.997833</td>\n",
       "      <td>10</td>\n",
       "      <td>TRAIN</td>\n",
       "      <td>NaN</td>\n",
       "    </tr>\n",
       "    <tr>\n",
       "      <td>5</td>\n",
       "      <td>KNeighborsClassifier(algorithm='auto', leaf_si...</td>\n",
       "      <td>0.994949</td>\n",
       "      <td>10</td>\n",
       "      <td>TEST</td>\n",
       "      <td>0.989151</td>\n",
       "    </tr>\n",
       "    <tr>\n",
       "      <td>6</td>\n",
       "      <td>LogisticRegression(C=1.0, class_weight=None, d...</td>\n",
       "      <td>0.980498</td>\n",
       "      <td>10</td>\n",
       "      <td>TRAIN</td>\n",
       "      <td>NaN</td>\n",
       "    </tr>\n",
       "    <tr>\n",
       "      <td>7</td>\n",
       "      <td>LogisticRegression(C=1.0, class_weight=None, d...</td>\n",
       "      <td>0.909091</td>\n",
       "      <td>10</td>\n",
       "      <td>TEST</td>\n",
       "      <td>0.795578</td>\n",
       "    </tr>\n",
       "    <tr>\n",
       "      <td>8</td>\n",
       "      <td>(DecisionTreeClassifier(class_weight=None, cri...</td>\n",
       "      <td>0.997833</td>\n",
       "      <td>10</td>\n",
       "      <td>TRAIN</td>\n",
       "      <td>NaN</td>\n",
       "    </tr>\n",
       "    <tr>\n",
       "      <td>9</td>\n",
       "      <td>(DecisionTreeClassifier(class_weight=None, cri...</td>\n",
       "      <td>0.997475</td>\n",
       "      <td>10</td>\n",
       "      <td>TEST</td>\n",
       "      <td>0.994598</td>\n",
       "    </tr>\n",
       "  </tbody>\n",
       "</table>\n",
       "</div>"
      ],
      "text/plain": [
       "                                                Name  Accuracy_Value  CV  \\\n",
       "0       GaussianNB(priors=None, var_smoothing=1e-09)        0.939328  10   \n",
       "1       GaussianNB(priors=None, var_smoothing=1e-09)        0.954545  10   \n",
       "2  DecisionTreeClassifier(class_weight=None, crit...        0.996750  10   \n",
       "3  DecisionTreeClassifier(class_weight=None, crit...        0.989899  10   \n",
       "4  KNeighborsClassifier(algorithm='auto', leaf_si...        0.997833  10   \n",
       "5  KNeighborsClassifier(algorithm='auto', leaf_si...        0.994949  10   \n",
       "6  LogisticRegression(C=1.0, class_weight=None, d...        0.980498  10   \n",
       "7  LogisticRegression(C=1.0, class_weight=None, d...        0.909091  10   \n",
       "8  (DecisionTreeClassifier(class_weight=None, cri...        0.997833  10   \n",
       "9  (DecisionTreeClassifier(class_weight=None, cri...        0.997475  10   \n",
       "\n",
       "    Type     Kappa  \n",
       "0  TRAIN       NaN  \n",
       "1   TEST  0.900694  \n",
       "2  TRAIN       NaN  \n",
       "3   TEST  0.978362  \n",
       "4  TRAIN       NaN  \n",
       "5   TEST  0.989151  \n",
       "6  TRAIN       NaN  \n",
       "7   TEST  0.795578  \n",
       "8  TRAIN       NaN  \n",
       "9   TEST  0.994598  "
      ]
     },
     "execution_count": 80,
     "metadata": {},
     "output_type": "execute_result"
    }
   ],
   "source": [
    "acc_Machine_Learning"
   ]
  },
  {
   "cell_type": "markdown",
   "metadata": {},
   "source": [
    "---"
   ]
  },
  {
   "cell_type": "markdown",
   "metadata": {},
   "source": [
    "## 6. Let's save the accuracies"
   ]
  },
  {
   "cell_type": "code",
   "execution_count": 81,
   "metadata": {},
   "outputs": [
    {
     "data": {
      "text/html": [
       "<div>\n",
       "<style scoped>\n",
       "    .dataframe tbody tr th:only-of-type {\n",
       "        vertical-align: middle;\n",
       "    }\n",
       "\n",
       "    .dataframe tbody tr th {\n",
       "        vertical-align: top;\n",
       "    }\n",
       "\n",
       "    .dataframe thead th {\n",
       "        text-align: right;\n",
       "    }\n",
       "</style>\n",
       "<table border=\"1\" class=\"dataframe\">\n",
       "  <thead>\n",
       "    <tr style=\"text-align: right;\">\n",
       "      <th></th>\n",
       "      <th>Name</th>\n",
       "      <th>Accuracy_Value</th>\n",
       "      <th>CV</th>\n",
       "      <th>Type</th>\n",
       "      <th>Kappa</th>\n",
       "    </tr>\n",
       "  </thead>\n",
       "  <tbody>\n",
       "    <tr>\n",
       "      <td>4</td>\n",
       "      <td>KNeighborsClassifier(algorithm='auto', leaf_si...</td>\n",
       "      <td>0.997833</td>\n",
       "      <td>10</td>\n",
       "      <td>TRAIN</td>\n",
       "      <td>NaN</td>\n",
       "    </tr>\n",
       "    <tr>\n",
       "      <td>8</td>\n",
       "      <td>(DecisionTreeClassifier(class_weight=None, cri...</td>\n",
       "      <td>0.997833</td>\n",
       "      <td>10</td>\n",
       "      <td>TRAIN</td>\n",
       "      <td>NaN</td>\n",
       "    </tr>\n",
       "    <tr>\n",
       "      <td>9</td>\n",
       "      <td>(DecisionTreeClassifier(class_weight=None, cri...</td>\n",
       "      <td>0.997475</td>\n",
       "      <td>10</td>\n",
       "      <td>TEST</td>\n",
       "      <td>0.994598</td>\n",
       "    </tr>\n",
       "    <tr>\n",
       "      <td>2</td>\n",
       "      <td>DecisionTreeClassifier(class_weight=None, crit...</td>\n",
       "      <td>0.996750</td>\n",
       "      <td>10</td>\n",
       "      <td>TRAIN</td>\n",
       "      <td>NaN</td>\n",
       "    </tr>\n",
       "    <tr>\n",
       "      <td>5</td>\n",
       "      <td>KNeighborsClassifier(algorithm='auto', leaf_si...</td>\n",
       "      <td>0.994949</td>\n",
       "      <td>10</td>\n",
       "      <td>TEST</td>\n",
       "      <td>0.989151</td>\n",
       "    </tr>\n",
       "    <tr>\n",
       "      <td>3</td>\n",
       "      <td>DecisionTreeClassifier(class_weight=None, crit...</td>\n",
       "      <td>0.989899</td>\n",
       "      <td>10</td>\n",
       "      <td>TEST</td>\n",
       "      <td>0.978362</td>\n",
       "    </tr>\n",
       "    <tr>\n",
       "      <td>6</td>\n",
       "      <td>LogisticRegression(C=1.0, class_weight=None, d...</td>\n",
       "      <td>0.980498</td>\n",
       "      <td>10</td>\n",
       "      <td>TRAIN</td>\n",
       "      <td>NaN</td>\n",
       "    </tr>\n",
       "    <tr>\n",
       "      <td>1</td>\n",
       "      <td>GaussianNB(priors=None, var_smoothing=1e-09)</td>\n",
       "      <td>0.954545</td>\n",
       "      <td>10</td>\n",
       "      <td>TEST</td>\n",
       "      <td>0.900694</td>\n",
       "    </tr>\n",
       "    <tr>\n",
       "      <td>0</td>\n",
       "      <td>GaussianNB(priors=None, var_smoothing=1e-09)</td>\n",
       "      <td>0.939328</td>\n",
       "      <td>10</td>\n",
       "      <td>TRAIN</td>\n",
       "      <td>NaN</td>\n",
       "    </tr>\n",
       "    <tr>\n",
       "      <td>7</td>\n",
       "      <td>LogisticRegression(C=1.0, class_weight=None, d...</td>\n",
       "      <td>0.909091</td>\n",
       "      <td>10</td>\n",
       "      <td>TEST</td>\n",
       "      <td>0.795578</td>\n",
       "    </tr>\n",
       "  </tbody>\n",
       "</table>\n",
       "</div>"
      ],
      "text/plain": [
       "                                                Name  Accuracy_Value  CV  \\\n",
       "4  KNeighborsClassifier(algorithm='auto', leaf_si...        0.997833  10   \n",
       "8  (DecisionTreeClassifier(class_weight=None, cri...        0.997833  10   \n",
       "9  (DecisionTreeClassifier(class_weight=None, cri...        0.997475  10   \n",
       "2  DecisionTreeClassifier(class_weight=None, crit...        0.996750  10   \n",
       "5  KNeighborsClassifier(algorithm='auto', leaf_si...        0.994949  10   \n",
       "3  DecisionTreeClassifier(class_weight=None, crit...        0.989899  10   \n",
       "6  LogisticRegression(C=1.0, class_weight=None, d...        0.980498  10   \n",
       "1       GaussianNB(priors=None, var_smoothing=1e-09)        0.954545  10   \n",
       "0       GaussianNB(priors=None, var_smoothing=1e-09)        0.939328  10   \n",
       "7  LogisticRegression(C=1.0, class_weight=None, d...        0.909091  10   \n",
       "\n",
       "    Type     Kappa  \n",
       "4  TRAIN       NaN  \n",
       "8  TRAIN       NaN  \n",
       "9   TEST  0.994598  \n",
       "2  TRAIN       NaN  \n",
       "5   TEST  0.989151  \n",
       "3   TEST  0.978362  \n",
       "6  TRAIN       NaN  \n",
       "1   TEST  0.900694  \n",
       "0  TRAIN       NaN  \n",
       "7   TEST  0.795578  "
      ]
     },
     "execution_count": 81,
     "metadata": {},
     "output_type": "execute_result"
    }
   ],
   "source": [
    "acc_Machine_Learning = acc_Machine_Learning.sort_values(by=['Accuracy_Value'], ascending=False)\n",
    "acc_Machine_Learning"
   ]
  },
  {
   "cell_type": "code",
   "execution_count": 82,
   "metadata": {},
   "outputs": [],
   "source": [
    "acc_Machine_Learning.to_csv(r\"C:\\Users\\Usuario\\Documents\\Github\\PDG\\PDG-2\\Datasets\\Time Window\\Accuracies\\MLAccuraciesExp1.csv\",sep=',',index=False)"
   ]
  },
  {
   "cell_type": "markdown",
   "metadata": {},
   "source": [
    "---"
   ]
  },
  {
   "cell_type": "markdown",
   "metadata": {},
   "source": [
    "## 7. Let's choose the best ML Algorithm"
   ]
  },
  {
   "cell_type": "code",
   "execution_count": 83,
   "metadata": {},
   "outputs": [
    {
     "data": {
      "text/plain": [
       "Name              DecisionTreeClassifier(class_weight=None, crit...\n",
       "Accuracy_Value                                              0.99675\n",
       "CV                                                               10\n",
       "Type                                                          TRAIN\n",
       "Kappa                                                           NaN\n",
       "Name: 2, dtype: object"
      ]
     },
     "execution_count": 83,
     "metadata": {},
     "output_type": "execute_result"
    }
   ],
   "source": [
    "acc_Machine_Learning.iloc[3,:]"
   ]
  },
  {
   "cell_type": "markdown",
   "metadata": {},
   "source": [
    "---"
   ]
  },
  {
   "cell_type": "markdown",
   "metadata": {},
   "source": [
    "## 8. Let's probe with our Benign data generated..."
   ]
  },
  {
   "cell_type": "markdown",
   "metadata": {},
   "source": [
    "#### With KNN..."
   ]
  },
  {
   "cell_type": "code",
   "execution_count": 84,
   "metadata": {},
   "outputs": [],
   "source": [
    "test= pd.read_csv(r\"C:\\Users\\Usuario\\Documents\\Github\\PDG\\PDG-2\\Datasets\\Time Window\\Originals\\Benigns\\BenignTimeWindowsOurLab.csv\", delimiter = \",\")"
   ]
  },
  {
   "cell_type": "code",
   "execution_count": 85,
   "metadata": {},
   "outputs": [],
   "source": [
    "scaler = joblib.load(\"./Tools/scalerExp1.save\")"
   ]
  },
  {
   "cell_type": "code",
   "execution_count": 86,
   "metadata": {},
   "outputs": [],
   "source": [
    "test[['Netflows', \n",
    "       'p1_d', 'p2_d', 'p3_d', 'duration', 'max_d', 'min_d', 'packets',\n",
    "       'Avg_bps', 'Avg_pps', 'Avg_bpp', 'Bytes', 'number_sp', 'number_dp',\n",
    "        'p1_ip', 'p2_ip', 'p3_ip', 'p1_ib', 'p2_ib', 'p3_ib']] = scaler.transform(test[['Netflows', \n",
    "       'p1_d', 'p2_d', 'p3_d', 'duration', 'max_d', 'min_d', 'packets',\n",
    "       'Avg_bps', 'Avg_pps', 'Avg_bpp', 'Bytes', 'number_sp', 'number_dp',\n",
    "        'p1_ip', 'p2_ip', 'p3_ip', 'p1_ib', 'p2_ib', 'p3_ib'\n",
    "]])"
   ]
  },
  {
   "cell_type": "code",
   "execution_count": 87,
   "metadata": {},
   "outputs": [
    {
     "data": {
      "text/html": [
       "<div>\n",
       "<style scoped>\n",
       "    .dataframe tbody tr th:only-of-type {\n",
       "        vertical-align: middle;\n",
       "    }\n",
       "\n",
       "    .dataframe tbody tr th {\n",
       "        vertical-align: top;\n",
       "    }\n",
       "\n",
       "    .dataframe thead th {\n",
       "        text-align: right;\n",
       "    }\n",
       "</style>\n",
       "<table border=\"1\" class=\"dataframe\">\n",
       "  <thead>\n",
       "    <tr style=\"text-align: right;\">\n",
       "      <th></th>\n",
       "      <th>Name</th>\n",
       "      <th>Netflows</th>\n",
       "      <th>First_Protocol</th>\n",
       "      <th>Second_Protocol</th>\n",
       "      <th>Third_Protocol</th>\n",
       "      <th>p1_d</th>\n",
       "      <th>p2_d</th>\n",
       "      <th>p3_d</th>\n",
       "      <th>duration</th>\n",
       "      <th>max_d</th>\n",
       "      <th>...</th>\n",
       "      <th>first_dp</th>\n",
       "      <th>second_dp</th>\n",
       "      <th>third_dp</th>\n",
       "      <th>p1_ip</th>\n",
       "      <th>p2_ip</th>\n",
       "      <th>p3_ip</th>\n",
       "      <th>p1_ib</th>\n",
       "      <th>p2_ib</th>\n",
       "      <th>p3_ib</th>\n",
       "      <th>Type</th>\n",
       "    </tr>\n",
       "  </thead>\n",
       "  <tbody>\n",
       "    <tr>\n",
       "      <td>0</td>\n",
       "      <td>19-csves/0.csv</td>\n",
       "      <td>0.354563</td>\n",
       "      <td>UDP</td>\n",
       "      <td>TCP</td>\n",
       "      <td>NaN</td>\n",
       "      <td>0.0</td>\n",
       "      <td>1.275</td>\n",
       "      <td>2.277387</td>\n",
       "      <td>0.791975</td>\n",
       "      <td>0.616413</td>\n",
       "      <td>...</td>\n",
       "      <td>137</td>\n",
       "      <td>138</td>\n",
       "      <td>57621</td>\n",
       "      <td>0.0</td>\n",
       "      <td>2.0</td>\n",
       "      <td>1.50</td>\n",
       "      <td>0.842105</td>\n",
       "      <td>1.905956</td>\n",
       "      <td>2.289941</td>\n",
       "      <td>Benign</td>\n",
       "    </tr>\n",
       "    <tr>\n",
       "      <td>1</td>\n",
       "      <td>19-csves/1.csv</td>\n",
       "      <td>0.382129</td>\n",
       "      <td>UDP</td>\n",
       "      <td>TCP</td>\n",
       "      <td>NaN</td>\n",
       "      <td>0.0</td>\n",
       "      <td>1.326</td>\n",
       "      <td>2.877499</td>\n",
       "      <td>1.151296</td>\n",
       "      <td>0.616664</td>\n",
       "      <td>...</td>\n",
       "      <td>137</td>\n",
       "      <td>138</td>\n",
       "      <td>57621</td>\n",
       "      <td>0.0</td>\n",
       "      <td>2.0</td>\n",
       "      <td>1.75</td>\n",
       "      <td>0.842105</td>\n",
       "      <td>2.144201</td>\n",
       "      <td>3.899408</td>\n",
       "      <td>Benign</td>\n",
       "    </tr>\n",
       "  </tbody>\n",
       "</table>\n",
       "<p>2 rows × 31 columns</p>\n",
       "</div>"
      ],
      "text/plain": [
       "             Name  Netflows First_Protocol Second_Protocol Third_Protocol  \\\n",
       "0  19-csves/0.csv  0.354563            UDP             TCP            NaN   \n",
       "1  19-csves/1.csv  0.382129            UDP             TCP            NaN   \n",
       "\n",
       "   p1_d   p2_d      p3_d  duration     max_d  ...  first_dp  second_dp  \\\n",
       "0   0.0  1.275  2.277387  0.791975  0.616413  ...       137        138   \n",
       "1   0.0  1.326  2.877499  1.151296  0.616664  ...       137        138   \n",
       "\n",
       "   third_dp  p1_ip  p2_ip  p3_ip     p1_ib     p2_ib     p3_ib    Type  \n",
       "0     57621    0.0    2.0   1.50  0.842105  1.905956  2.289941  Benign  \n",
       "1     57621    0.0    2.0   1.75  0.842105  2.144201  3.899408  Benign  \n",
       "\n",
       "[2 rows x 31 columns]"
      ]
     },
     "execution_count": 87,
     "metadata": {},
     "output_type": "execute_result"
    }
   ],
   "source": [
    "test.head(2)"
   ]
  },
  {
   "cell_type": "code",
   "execution_count": 88,
   "metadata": {},
   "outputs": [],
   "source": [
    "test = test[['first_sp','Avg_bps','p1_ib','duration','number_dp','Bytes'\n",
    "                            ,'number_sp','First_Protocol','p2_ib'\n",
    "                            ,'first_dp','p3_ib','Netflows','p3_d','Second_Protocol','Type']]"
   ]
  },
  {
   "cell_type": "code",
   "execution_count": 89,
   "metadata": {},
   "outputs": [
    {
     "data": {
      "text/plain": [
       "Index(['first_sp', 'Avg_bps', 'p1_ib', 'duration', 'number_dp', 'Bytes',\n",
       "       'number_sp', 'First_Protocol', 'p2_ib', 'first_dp', 'p3_ib', 'Netflows',\n",
       "       'p3_d', 'Second_Protocol', 'Type'],\n",
       "      dtype='object')"
      ]
     },
     "execution_count": 89,
     "metadata": {},
     "output_type": "execute_result"
    }
   ],
   "source": [
    "test.columns"
   ]
  },
  {
   "cell_type": "code",
   "execution_count": 90,
   "metadata": {},
   "outputs": [],
   "source": [
    "le = joblib.load(\"./Tools/label_encoder_first_protocol_exp1.encoder\")"
   ]
  },
  {
   "cell_type": "code",
   "execution_count": 91,
   "metadata": {},
   "outputs": [],
   "source": [
    "first_protocol_column_codified = le.transform(test.First_Protocol)"
   ]
  },
  {
   "cell_type": "code",
   "execution_count": 92,
   "metadata": {},
   "outputs": [
    {
     "name": "stdout",
     "output_type": "stream",
     "text": [
      "{'ICMP': 0, 'ICMP6': 1, 'None': 2, 'TCP': 3, 'UDP': 4}\n"
     ]
    }
   ],
   "source": [
    "le_name_mapping_first_protocol = dict(zip(le.classes_, le.transform(le.classes_)))\n",
    "print(le_name_mapping_first_protocol)"
   ]
  },
  {
   "cell_type": "code",
   "execution_count": 93,
   "metadata": {},
   "outputs": [],
   "source": [
    "test.First_Protocol = le.transform(test.First_Protocol)"
   ]
  },
  {
   "cell_type": "code",
   "execution_count": 94,
   "metadata": {},
   "outputs": [],
   "source": [
    "le = joblib.load(\"./Tools/label_encoder_second_protocol_exp1.encoder\")"
   ]
  },
  {
   "cell_type": "code",
   "execution_count": 95,
   "metadata": {},
   "outputs": [],
   "source": [
    "second_protocol_column_codified = le.transform(test.Second_Protocol)"
   ]
  },
  {
   "cell_type": "code",
   "execution_count": 96,
   "metadata": {},
   "outputs": [
    {
     "name": "stdout",
     "output_type": "stream",
     "text": [
      "{'ICMP': 0, 'ICMP6': 1, 'IGMP': 2, 'None': 3, 'TCP': 4, 'UDP': 5}\n"
     ]
    }
   ],
   "source": [
    "le_name_mapping_second_protocol = dict(zip(le.classes_, le.transform(le.classes_)))\n",
    "print(le_name_mapping_second_protocol)"
   ]
  },
  {
   "cell_type": "code",
   "execution_count": 97,
   "metadata": {},
   "outputs": [],
   "source": [
    "test.Second_Protocol = le.transform(test.Second_Protocol)"
   ]
  },
  {
   "cell_type": "code",
   "execution_count": 98,
   "metadata": {},
   "outputs": [],
   "source": [
    "le = joblib.load('./Tools/label_encoder_type_exp1.encoder')"
   ]
  },
  {
   "cell_type": "code",
   "execution_count": 99,
   "metadata": {},
   "outputs": [],
   "source": [
    "Type_protocol_column_codified = le.transform(test.Type)"
   ]
  },
  {
   "cell_type": "code",
   "execution_count": 100,
   "metadata": {},
   "outputs": [
    {
     "name": "stdout",
     "output_type": "stream",
     "text": [
      "{'Benign': 0, 'Malign': 1}\n"
     ]
    }
   ],
   "source": [
    "le_name_mapping_type = dict(zip(le.classes_, le.transform(le.classes_)))\n",
    "print(le_name_mapping_type)"
   ]
  },
  {
   "cell_type": "code",
   "execution_count": 101,
   "metadata": {},
   "outputs": [],
   "source": [
    "test.Type = le.transform(test.Type)"
   ]
  },
  {
   "cell_type": "code",
   "execution_count": 102,
   "metadata": {},
   "outputs": [
    {
     "data": {
      "text/html": [
       "<div>\n",
       "<style scoped>\n",
       "    .dataframe tbody tr th:only-of-type {\n",
       "        vertical-align: middle;\n",
       "    }\n",
       "\n",
       "    .dataframe tbody tr th {\n",
       "        vertical-align: top;\n",
       "    }\n",
       "\n",
       "    .dataframe thead th {\n",
       "        text-align: right;\n",
       "    }\n",
       "</style>\n",
       "<table border=\"1\" class=\"dataframe\">\n",
       "  <thead>\n",
       "    <tr style=\"text-align: right;\">\n",
       "      <th></th>\n",
       "      <th>first_sp</th>\n",
       "      <th>Avg_bps</th>\n",
       "      <th>p1_ib</th>\n",
       "      <th>duration</th>\n",
       "      <th>number_dp</th>\n",
       "      <th>Bytes</th>\n",
       "      <th>number_sp</th>\n",
       "      <th>First_Protocol</th>\n",
       "      <th>p2_ib</th>\n",
       "      <th>first_dp</th>\n",
       "      <th>p3_ib</th>\n",
       "      <th>Netflows</th>\n",
       "      <th>p3_d</th>\n",
       "      <th>Second_Protocol</th>\n",
       "      <th>Type</th>\n",
       "    </tr>\n",
       "  </thead>\n",
       "  <tbody>\n",
       "    <tr>\n",
       "      <td>0</td>\n",
       "      <td>137</td>\n",
       "      <td>51.441042</td>\n",
       "      <td>0.842105</td>\n",
       "      <td>0.791975</td>\n",
       "      <td>0.225539</td>\n",
       "      <td>61.360828</td>\n",
       "      <td>0.503937</td>\n",
       "      <td>4</td>\n",
       "      <td>1.905956</td>\n",
       "      <td>137</td>\n",
       "      <td>2.289941</td>\n",
       "      <td>0.354563</td>\n",
       "      <td>2.277387</td>\n",
       "      <td>4</td>\n",
       "      <td>0</td>\n",
       "    </tr>\n",
       "    <tr>\n",
       "      <td>1</td>\n",
       "      <td>137</td>\n",
       "      <td>52.438325</td>\n",
       "      <td>0.842105</td>\n",
       "      <td>1.151296</td>\n",
       "      <td>0.225539</td>\n",
       "      <td>62.543949</td>\n",
       "      <td>0.592126</td>\n",
       "      <td>4</td>\n",
       "      <td>2.144201</td>\n",
       "      <td>137</td>\n",
       "      <td>3.899408</td>\n",
       "      <td>0.382129</td>\n",
       "      <td>2.877499</td>\n",
       "      <td>4</td>\n",
       "      <td>0</td>\n",
       "    </tr>\n",
       "    <tr>\n",
       "      <td>2</td>\n",
       "      <td>137</td>\n",
       "      <td>47.334360</td>\n",
       "      <td>0.842105</td>\n",
       "      <td>1.653494</td>\n",
       "      <td>0.351575</td>\n",
       "      <td>56.481655</td>\n",
       "      <td>0.570079</td>\n",
       "      <td>4</td>\n",
       "      <td>1.366771</td>\n",
       "      <td>137</td>\n",
       "      <td>0.701183</td>\n",
       "      <td>0.276616</td>\n",
       "      <td>4.603351</td>\n",
       "      <td>4</td>\n",
       "      <td>0</td>\n",
       "    </tr>\n",
       "    <tr>\n",
       "      <td>3</td>\n",
       "      <td>53</td>\n",
       "      <td>3.192880</td>\n",
       "      <td>0.368421</td>\n",
       "      <td>0.009354</td>\n",
       "      <td>0.378109</td>\n",
       "      <td>0.401367</td>\n",
       "      <td>0.516535</td>\n",
       "      <td>4</td>\n",
       "      <td>0.188088</td>\n",
       "      <td>53</td>\n",
       "      <td>0.455621</td>\n",
       "      <td>0.118821</td>\n",
       "      <td>0.115460</td>\n",
       "      <td>4</td>\n",
       "      <td>0</td>\n",
       "    </tr>\n",
       "    <tr>\n",
       "      <td>4</td>\n",
       "      <td>137</td>\n",
       "      <td>50.401201</td>\n",
       "      <td>0.842105</td>\n",
       "      <td>0.689417</td>\n",
       "      <td>0.122720</td>\n",
       "      <td>60.134310</td>\n",
       "      <td>0.875591</td>\n",
       "      <td>4</td>\n",
       "      <td>1.467085</td>\n",
       "      <td>137</td>\n",
       "      <td>0.792899</td>\n",
       "      <td>0.490494</td>\n",
       "      <td>0.749507</td>\n",
       "      <td>4</td>\n",
       "      <td>0</td>\n",
       "    </tr>\n",
       "  </tbody>\n",
       "</table>\n",
       "</div>"
      ],
      "text/plain": [
       "   first_sp    Avg_bps     p1_ib  duration  number_dp      Bytes  number_sp  \\\n",
       "0       137  51.441042  0.842105  0.791975   0.225539  61.360828   0.503937   \n",
       "1       137  52.438325  0.842105  1.151296   0.225539  62.543949   0.592126   \n",
       "2       137  47.334360  0.842105  1.653494   0.351575  56.481655   0.570079   \n",
       "3        53   3.192880  0.368421  0.009354   0.378109   0.401367   0.516535   \n",
       "4       137  50.401201  0.842105  0.689417   0.122720  60.134310   0.875591   \n",
       "\n",
       "   First_Protocol     p2_ib  first_dp     p3_ib  Netflows      p3_d  \\\n",
       "0               4  1.905956       137  2.289941  0.354563  2.277387   \n",
       "1               4  2.144201       137  3.899408  0.382129  2.877499   \n",
       "2               4  1.366771       137  0.701183  0.276616  4.603351   \n",
       "3               4  0.188088        53  0.455621  0.118821  0.115460   \n",
       "4               4  1.467085       137  0.792899  0.490494  0.749507   \n",
       "\n",
       "   Second_Protocol  Type  \n",
       "0                4     0  \n",
       "1                4     0  \n",
       "2                4     0  \n",
       "3                4     0  \n",
       "4                4     0  "
      ]
     },
     "execution_count": 102,
     "metadata": {},
     "output_type": "execute_result"
    }
   ],
   "source": [
    "test.head()"
   ]
  },
  {
   "cell_type": "code",
   "execution_count": 103,
   "metadata": {},
   "outputs": [],
   "source": [
    "x_test = test.iloc[:,:-1]\n",
    "target = test['Type']"
   ]
  },
  {
   "cell_type": "code",
   "execution_count": 104,
   "metadata": {},
   "outputs": [
    {
     "data": {
      "text/html": [
       "<div>\n",
       "<style scoped>\n",
       "    .dataframe tbody tr th:only-of-type {\n",
       "        vertical-align: middle;\n",
       "    }\n",
       "\n",
       "    .dataframe tbody tr th {\n",
       "        vertical-align: top;\n",
       "    }\n",
       "\n",
       "    .dataframe thead th {\n",
       "        text-align: right;\n",
       "    }\n",
       "</style>\n",
       "<table border=\"1\" class=\"dataframe\">\n",
       "  <thead>\n",
       "    <tr style=\"text-align: right;\">\n",
       "      <th></th>\n",
       "      <th>first_sp</th>\n",
       "      <th>Avg_bps</th>\n",
       "      <th>p1_ib</th>\n",
       "      <th>duration</th>\n",
       "      <th>number_dp</th>\n",
       "      <th>Bytes</th>\n",
       "      <th>number_sp</th>\n",
       "      <th>First_Protocol</th>\n",
       "      <th>p2_ib</th>\n",
       "      <th>first_dp</th>\n",
       "      <th>p3_ib</th>\n",
       "      <th>Netflows</th>\n",
       "      <th>p3_d</th>\n",
       "      <th>Second_Protocol</th>\n",
       "    </tr>\n",
       "  </thead>\n",
       "  <tbody>\n",
       "    <tr>\n",
       "      <td>0</td>\n",
       "      <td>137</td>\n",
       "      <td>51.441042</td>\n",
       "      <td>0.842105</td>\n",
       "      <td>0.791975</td>\n",
       "      <td>0.225539</td>\n",
       "      <td>61.360828</td>\n",
       "      <td>0.503937</td>\n",
       "      <td>4</td>\n",
       "      <td>1.905956</td>\n",
       "      <td>137</td>\n",
       "      <td>2.289941</td>\n",
       "      <td>0.354563</td>\n",
       "      <td>2.277387</td>\n",
       "      <td>4</td>\n",
       "    </tr>\n",
       "    <tr>\n",
       "      <td>1</td>\n",
       "      <td>137</td>\n",
       "      <td>52.438325</td>\n",
       "      <td>0.842105</td>\n",
       "      <td>1.151296</td>\n",
       "      <td>0.225539</td>\n",
       "      <td>62.543949</td>\n",
       "      <td>0.592126</td>\n",
       "      <td>4</td>\n",
       "      <td>2.144201</td>\n",
       "      <td>137</td>\n",
       "      <td>3.899408</td>\n",
       "      <td>0.382129</td>\n",
       "      <td>2.877499</td>\n",
       "      <td>4</td>\n",
       "    </tr>\n",
       "  </tbody>\n",
       "</table>\n",
       "</div>"
      ],
      "text/plain": [
       "   first_sp    Avg_bps     p1_ib  duration  number_dp      Bytes  number_sp  \\\n",
       "0       137  51.441042  0.842105  0.791975   0.225539  61.360828   0.503937   \n",
       "1       137  52.438325  0.842105  1.151296   0.225539  62.543949   0.592126   \n",
       "\n",
       "   First_Protocol     p2_ib  first_dp     p3_ib  Netflows      p3_d  \\\n",
       "0               4  1.905956       137  2.289941  0.354563  2.277387   \n",
       "1               4  2.144201       137  3.899408  0.382129  2.877499   \n",
       "\n",
       "   Second_Protocol  \n",
       "0                4  \n",
       "1                4  "
      ]
     },
     "execution_count": 104,
     "metadata": {},
     "output_type": "execute_result"
    }
   ],
   "source": [
    "x_test.head(2)"
   ]
  },
  {
   "cell_type": "code",
   "execution_count": 105,
   "metadata": {},
   "outputs": [
    {
     "data": {
      "text/plain": [
       "0    0\n",
       "1    0\n",
       "Name: Type, dtype: int32"
      ]
     },
     "execution_count": 105,
     "metadata": {},
     "output_type": "execute_result"
    }
   ],
   "source": [
    "target.head(2)"
   ]
  },
  {
   "cell_type": "code",
   "execution_count": 106,
   "metadata": {},
   "outputs": [],
   "source": [
    "y_pred_test_real = knn.predict(x_test)"
   ]
  },
  {
   "cell_type": "code",
   "execution_count": 107,
   "metadata": {},
   "outputs": [
    {
     "data": {
      "text/plain": [
       "{0: 649}"
      ]
     },
     "execution_count": 107,
     "metadata": {},
     "output_type": "execute_result"
    }
   ],
   "source": [
    "unique, counts = np.unique(target, return_counts=True)\n",
    "dict(zip(unique, counts))"
   ]
  },
  {
   "cell_type": "code",
   "execution_count": 108,
   "metadata": {},
   "outputs": [
    {
     "data": {
      "text/plain": [
       "{0: 24, 1: 625}"
      ]
     },
     "execution_count": 108,
     "metadata": {},
     "output_type": "execute_result"
    }
   ],
   "source": [
    "unique, counts = np.unique(y_pred_test_real, return_counts=True)\n",
    "dict(zip(unique, counts))"
   ]
  },
  {
   "cell_type": "code",
   "execution_count": 109,
   "metadata": {},
   "outputs": [
    {
     "data": {
      "text/plain": [
       "([<matplotlib.axis.YTick at 0x2ca40e74248>,\n",
       "  <matplotlib.axis.YTick at 0x2ca40e74948>,\n",
       "  <matplotlib.axis.YTick at 0x2ca452f2688>],\n",
       " <a list of 2 Text yticklabel objects>)"
      ]
     },
     "execution_count": 109,
     "metadata": {},
     "output_type": "execute_result"
    },
    {
     "data": {
      "image/png": "[encoded data removed]",
      "text/plain": [
       "<Figure size 432x288 with 2 Axes>"
      ]
     },
     "metadata": {
      "needs_background": "light"
     },
     "output_type": "display_data"
    }
   ],
   "source": [
    "cm= metrics.confusion_matrix(target, y_pred_test_real)\n",
    "plt.imshow(cm, cmap=plt.cm.Blues)\n",
    "plt.title(\"Matriz de confusión\")\n",
    "plt.colorbar()\n",
    "tick_marks = np.arange(3)\n",
    "plt.xticks(tick_marks, ['0','1']) \n",
    "plt.yticks(tick_marks, ['0','1'])"
   ]
  },
  {
   "cell_type": "code",
   "execution_count": 110,
   "metadata": {
    "scrolled": true
   },
   "outputs": [
    {
     "name": "stdout",
     "output_type": "stream",
     "text": [
      "              precision    recall  f1-score   support\n",
      "\n",
      "           0       1.00      0.04      0.07       649\n",
      "           1       0.00      0.00      0.00         0\n",
      "\n",
      "    accuracy                           0.04       649\n",
      "   macro avg       0.50      0.02      0.04       649\n",
      "weighted avg       1.00      0.04      0.07       649\n",
      "\n"
     ]
    }
   ],
   "source": [
    "print(classification_report(target, y_pred_test_real, target_names=None))"
   ]
  },
  {
   "cell_type": "code",
   "execution_count": 111,
   "metadata": {},
   "outputs": [
    {
     "data": {
      "text/plain": [
       "0.03697996918335902"
      ]
     },
     "execution_count": 111,
     "metadata": {},
     "output_type": "execute_result"
    }
   ],
   "source": [
    "accuracy_score(target, y_pred_test_real) "
   ]
  },
  {
   "cell_type": "code",
   "execution_count": 112,
   "metadata": {},
   "outputs": [
    {
     "data": {
      "text/plain": [
       "0.0"
      ]
     },
     "execution_count": 112,
     "metadata": {},
     "output_type": "execute_result"
    }
   ],
   "source": [
    "cohen_kappa_score(target, y_pred_test_real)"
   ]
  },
  {
   "cell_type": "markdown",
   "metadata": {},
   "source": [
    "#### With RFC"
   ]
  },
  {
   "cell_type": "code",
   "execution_count": 113,
   "metadata": {},
   "outputs": [],
   "source": [
    "y_pred_test_real = clf.predict(x_test)"
   ]
  },
  {
   "cell_type": "code",
   "execution_count": 114,
   "metadata": {},
   "outputs": [
    {
     "data": {
      "text/plain": [
       "{0: 649}"
      ]
     },
     "execution_count": 114,
     "metadata": {},
     "output_type": "execute_result"
    }
   ],
   "source": [
    "unique, counts = np.unique(target, return_counts=True)\n",
    "dict(zip(unique, counts))"
   ]
  },
  {
   "cell_type": "code",
   "execution_count": 115,
   "metadata": {},
   "outputs": [
    {
     "data": {
      "text/plain": [
       "{0: 641, 1: 8}"
      ]
     },
     "execution_count": 115,
     "metadata": {},
     "output_type": "execute_result"
    }
   ],
   "source": [
    "unique, counts = np.unique(y_pred_test_real, return_counts=True)\n",
    "dict(zip(unique, counts))"
   ]
  },
  {
   "cell_type": "code",
   "execution_count": 116,
   "metadata": {},
   "outputs": [
    {
     "data": {
      "text/plain": [
       "([<matplotlib.axis.YTick at 0x2ca40e56cc8>,\n",
       "  <matplotlib.axis.YTick at 0x2ca40edd7c8>,\n",
       "  <matplotlib.axis.YTick at 0x2ca40ebf188>],\n",
       " <a list of 2 Text yticklabel objects>)"
      ]
     },
     "execution_count": 116,
     "metadata": {},
     "output_type": "execute_result"
    },
    {
     "data": {
      "image/png": "[encoded data removed]",
      "text/plain": [
       "<Figure size 432x288 with 2 Axes>"
      ]
     },
     "metadata": {
      "needs_background": "light"
     },
     "output_type": "display_data"
    }
   ],
   "source": [
    "cm= metrics.confusion_matrix(target, y_pred_test_real)\n",
    "plt.imshow(cm, cmap=plt.cm.Blues)\n",
    "plt.title(\"Matriz de confusión\")\n",
    "plt.colorbar()\n",
    "tick_marks = np.arange(3)\n",
    "plt.xticks(tick_marks, ['0','1']) \n",
    "plt.yticks(tick_marks, ['0','1'])"
   ]
  },
  {
   "cell_type": "code",
   "execution_count": 117,
   "metadata": {},
   "outputs": [
    {
     "name": "stdout",
     "output_type": "stream",
     "text": [
      "              precision    recall  f1-score   support\n",
      "\n",
      "           0       1.00      0.99      0.99       649\n",
      "           1       0.00      0.00      0.00         0\n",
      "\n",
      "    accuracy                           0.99       649\n",
      "   macro avg       0.50      0.49      0.50       649\n",
      "weighted avg       1.00      0.99      0.99       649\n",
      "\n"
     ]
    }
   ],
   "source": [
    "print(classification_report(target, y_pred_test_real, target_names=None))"
   ]
  },
  {
   "cell_type": "code",
   "execution_count": 118,
   "metadata": {},
   "outputs": [
    {
     "data": {
      "text/plain": [
       "0.987673343605547"
      ]
     },
     "execution_count": 118,
     "metadata": {},
     "output_type": "execute_result"
    }
   ],
   "source": [
    "accuracy_score(target, y_pred_test_real) "
   ]
  },
  {
   "cell_type": "code",
   "execution_count": 119,
   "metadata": {},
   "outputs": [
    {
     "data": {
      "text/plain": [
       "0.0"
      ]
     },
     "execution_count": 119,
     "metadata": {},
     "output_type": "execute_result"
    }
   ],
   "source": [
    "cohen_kappa_score(target, y_pred_test_real)"
   ]
  },
  {
   "cell_type": "markdown",
   "metadata": {},
   "source": [
    "---"
   ]
  },
  {
   "cell_type": "markdown",
   "metadata": {},
   "source": [
    "---"
   ]
  },
  {
   "cell_type": "markdown",
   "metadata": {},
   "source": [
    "---"
   ]
  },
  {
   "cell_type": "markdown",
   "metadata": {},
   "source": [
    "----"
   ]
  },
  {
   "cell_type": "markdown",
   "metadata": {},
   "source": [
    "## References"
   ]
  },
  {
   "cell_type": "markdown",
   "metadata": {},
   "source": [
    "### Naive"
   ]
  },
  {
   "cell_type": "markdown",
   "metadata": {},
   "source": [
    "1. https://scikit-learn.org/stable/modules/generated/sklearn.naive_bayes.GaussianNB.html\n",
    "2. https://www.datacamp.com/community/tutorials/naive-bayes-scikit-learn\n",
    "3. https://stackoverflow.com/questions/58212613/naive-bayes-gaussian-throwing-valueerror-could-not-convert-string-to-float-m\n",
    "4. https://scikit-learn.org/stable/modules/naive_bayes.html\n",
    "5. https://scikit-learn.org/stable/modules/model_evaluation.html"
   ]
  },
  {
   "cell_type": "markdown",
   "metadata": {},
   "source": [
    "### Decision Tree"
   ]
  },
  {
   "cell_type": "markdown",
   "metadata": {},
   "source": [
    "1. https://stackoverflow.com/questions/35097003/cross-validation-decision-trees-in-sklearn\n",
    "2. https://scikit-learn.org/stable/modules/generated/sklearn.tree.DecisionTreeClassifier.html"
   ]
  },
  {
   "cell_type": "markdown",
   "metadata": {},
   "source": [
    "### Label Encoder"
   ]
  },
  {
   "cell_type": "markdown",
   "metadata": {},
   "source": [
    "1. https://www.interactivechaos.com/python/function/labelencoder"
   ]
  },
  {
   "cell_type": "markdown",
   "metadata": {},
   "source": [
    "### KNN"
   ]
  },
  {
   "cell_type": "markdown",
   "metadata": {},
   "source": [
    "1. https://medium.com/@svanillasun/how-to-deal-with-cross-validation-based-on-knn-algorithm-compute-auc-based-on-naive-bayes-ff4b8284cff4"
   ]
  }
 ],
 "metadata": {
  "kernelspec": {
   "display_name": "Python 3",
   "language": "python",
   "name": "python3"
  },
  "language_info": {
   "codemirror_mode": {
    "name": "ipython",
    "version": 3
   },
   "file_extension": ".py",
   "mimetype": "text/x-python",
   "name": "python",
   "nbconvert_exporter": "python",
   "pygments_lexer": "ipython3",
   "version": "3.7.4"
  }
 },
 "nbformat": 4,
 "nbformat_minor": 2
}
