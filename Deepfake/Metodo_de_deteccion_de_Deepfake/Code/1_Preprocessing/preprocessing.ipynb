{
 "cells": [
  {
   "cell_type": "markdown",
   "metadata": {},
   "source": [
    "# Para preprocesar los videos solo se tiene que ejecutar todas las sigueintes celdas  \n",
    "## Tenga en cuenta los comentarios de la celda #2, dado que existen 5 parametros que puede modificar  \n",
    "**(Recuerde que todas las dependencias deben estar descargadas)**"
   ]
  },
  {
   "cell_type": "code",
   "execution_count": 1,
   "metadata": {},
   "outputs": [
    {
     "ename": "ModuleNotFoundError",
     "evalue": "No module named 'dlib'",
     "output_type": "error",
     "traceback": [
      "\u001b[0;31m---------------------------------------------------------------------------\u001b[0m",
      "\u001b[0;31mModuleNotFoundError\u001b[0m                       Traceback (most recent call last)",
      "\u001b[0;32m<ipython-input-1-bd620c9fd7a2>\u001b[0m in \u001b[0;36m<module>\u001b[0;34m\u001b[0m\n\u001b[0;32m----> 1\u001b[0;31m \u001b[0;32mimport\u001b[0m \u001b[0mdlib\u001b[0m\u001b[0;34m\u001b[0m\u001b[0;34m\u001b[0m\u001b[0m\n\u001b[0m\u001b[1;32m      2\u001b[0m \u001b[0;32mimport\u001b[0m \u001b[0mcv2\u001b[0m\u001b[0;34m\u001b[0m\u001b[0;34m\u001b[0m\u001b[0m\n\u001b[1;32m      3\u001b[0m \u001b[0;32mimport\u001b[0m \u001b[0mos\u001b[0m\u001b[0;34m\u001b[0m\u001b[0;34m\u001b[0m\u001b[0m\n\u001b[1;32m      4\u001b[0m \u001b[0;32mimport\u001b[0m \u001b[0mre\u001b[0m\u001b[0;34m\u001b[0m\u001b[0;34m\u001b[0m\u001b[0m\n\u001b[1;32m      5\u001b[0m \u001b[0;32mimport\u001b[0m \u001b[0mjson\u001b[0m\u001b[0;34m\u001b[0m\u001b[0;34m\u001b[0m\u001b[0m\n",
      "\u001b[0;31mModuleNotFoundError\u001b[0m: No module named 'dlib'"
     ]
    }
   ],
   "source": [
    "import dlib\n",
    "import cv2\n",
    "import os\n",
    "import re\n",
    "import json\n",
    "from pylab import *\n",
    "from PIL import Image, ImageChops, ImageEnhance\n",
    "TRAIN=\"/train\"\n",
    "TEST=\"/test\""
   ]
  },
  {
   "cell_type": "markdown",
   "metadata": {},
   "source": [
    "#### Parametro 1: input_Real_Videos= aqui coloca el path donde se encuentran los videos reales  \n",
    "#### Parametro 2: input_Fake_Videos= aqui coloca el path donde se encuentran los videos falsos  \n",
    "#### Parametro 3: output_Images= aqui coloca el path donde desea guardar los resultados  \n",
    "*Nota: para el parametro 3, es importante que la carpeta no deba existir. El porgrama la crea automaticamente*  \n",
    "#### Parametro 4: num_faces= aqui coloca el numero de imagenes que desea obtener de cada video  \n",
    "#### Parametro 5: train= aqui coloca un valor entre 1% - 99% para el entrenamineto"
   ]
  },
  {
   "cell_type": "code",
   "execution_count": 24,
   "metadata": {},
   "outputs": [],
   "source": [
    "input_Real_Videos=os.getcwd()+\"/Input/Real/\"\n",
    "input_Fake_Videos=os.getcwd()+\"/Input/Fake/\"\n",
    "output_Images=os.getcwd()+\"/output-ImagesOrganizado\"\n",
    "num_faces = 1\n",
    "train=70"
   ]
  },
  {
   "cell_type": "markdown",
   "metadata": {},
   "source": [
    "### *El sigueinte codigo se encarga de organizar todas las carpetas con las imagenes correspondientes*\n",
    "*(No hace falta modificar nada aqui)*"
   ]
  },
  {
   "cell_type": "code",
   "execution_count": 25,
   "metadata": {},
   "outputs": [
    {
     "name": "stdout",
     "output_type": "stream",
     "text": [
      "PATH Images: /home/icesi/Documents/DeepFakeFinal/Code/output-ImagesOrganizado/train/Fake/frame\n",
      "PATH Final/home/icesi/Documents/DeepFakeFinal/Code/output-ImagesOrganizado/train/Fake/ELAWihtframe\n",
      "Performing ELA on images at /home/icesi/Documents/DeepFakeFinal/Code/output-ImagesOrganizado/train/Fake/frame\n",
      "Finished!\n",
      "Head to /home/icesi/Documents/DeepFakeFinal/Code/output-ImagesOrganizado/train/Fake/ELA to check the results!\n",
      "PATH Images: /home/icesi/Documents/DeepFakeFinal/Code/output-ImagesOrganizado/train/Fake/face\n",
      "PATH Final/home/icesi/Documents/DeepFakeFinal/Code/output-ImagesOrganizado/train/Fake/ELAWihtface\n",
      "Performing ELA on images at /home/icesi/Documents/DeepFakeFinal/Code/output-ImagesOrganizado/train/Fake/face\n",
      "Finished!\n",
      "Head to /home/icesi/Documents/DeepFakeFinal/Code/output-ImagesOrganizado/train/Fake/ELA to check the results!\n",
      "PATH Images: /home/icesi/Documents/DeepFakeFinal/Code/output-ImagesOrganizado/test/Fake/frame\n",
      "PATH Final/home/icesi/Documents/DeepFakeFinal/Code/output-ImagesOrganizado/test/Fake/ELAWihtframe\n",
      "Performing ELA on images at /home/icesi/Documents/DeepFakeFinal/Code/output-ImagesOrganizado/test/Fake/frame\n",
      "Finished!\n",
      "Head to /home/icesi/Documents/DeepFakeFinal/Code/output-ImagesOrganizado/test/Fake/ELA to check the results!\n",
      "PATH Images: /home/icesi/Documents/DeepFakeFinal/Code/output-ImagesOrganizado/test/Fake/face\n",
      "PATH Final/home/icesi/Documents/DeepFakeFinal/Code/output-ImagesOrganizado/test/Fake/ELAWihtface\n",
      "Performing ELA on images at /home/icesi/Documents/DeepFakeFinal/Code/output-ImagesOrganizado/test/Fake/face\n",
      "Finished!\n",
      "Head to /home/icesi/Documents/DeepFakeFinal/Code/output-ImagesOrganizado/test/Fake/ELA to check the results!\n",
      "PATH Images: /home/icesi/Documents/DeepFakeFinal/Code/output-ImagesOrganizado/train/Real/frame\n",
      "PATH Final/home/icesi/Documents/DeepFakeFinal/Code/output-ImagesOrganizado/train/Real/ELAWihtframe\n",
      "Performing ELA on images at /home/icesi/Documents/DeepFakeFinal/Code/output-ImagesOrganizado/train/Real/frame\n",
      "Finished!\n",
      "Head to /home/icesi/Documents/DeepFakeFinal/Code/output-ImagesOrganizado/train/Real/ELA to check the results!\n",
      "PATH Images: /home/icesi/Documents/DeepFakeFinal/Code/output-ImagesOrganizado/train/Real/face\n",
      "PATH Final/home/icesi/Documents/DeepFakeFinal/Code/output-ImagesOrganizado/train/Real/ELAWihtface\n",
      "Performing ELA on images at /home/icesi/Documents/DeepFakeFinal/Code/output-ImagesOrganizado/train/Real/face\n",
      "Finished!\n",
      "Head to /home/icesi/Documents/DeepFakeFinal/Code/output-ImagesOrganizado/train/Real/ELA to check the results!\n",
      "PATH Images: /home/icesi/Documents/DeepFakeFinal/Code/output-ImagesOrganizado/test/Real/frame\n",
      "PATH Final/home/icesi/Documents/DeepFakeFinal/Code/output-ImagesOrganizado/test/Real/ELAWihtframe\n",
      "Performing ELA on images at /home/icesi/Documents/DeepFakeFinal/Code/output-ImagesOrganizado/test/Real/frame\n",
      "Finished!\n",
      "Head to /home/icesi/Documents/DeepFakeFinal/Code/output-ImagesOrganizado/test/Real/ELA to check the results!\n",
      "PATH Images: /home/icesi/Documents/DeepFakeFinal/Code/output-ImagesOrganizado/test/Real/face\n",
      "PATH Final/home/icesi/Documents/DeepFakeFinal/Code/output-ImagesOrganizado/test/Real/ELAWihtface\n",
      "Performing ELA on images at /home/icesi/Documents/DeepFakeFinal/Code/output-ImagesOrganizado/test/Real/face\n",
      "Finished!\n",
      "Head to /home/icesi/Documents/DeepFakeFinal/Code/output-ImagesOrganizado/test/Real/ELA to check the results!\n"
     ]
    }
   ],
   "source": [
    "if(os.path.isdir(output_Images)==False and train>0 and train<100):\n",
    "    list_of_train_data = [f for f in os.listdir(input_Fake_Videos)]\n",
    "    size=len(list_of_train_data)\n",
    "    temp =len([f for f in os.listdir(input_Real_Videos)])\n",
    "    if(size<2 or temp<2):\n",
    "        raise Exception('Pocos videos para el preprocesamiento')\n",
    "    num=int(size*(train/100))\n",
    "    data=TRAIN\n",
    "    os.mkdir(output_Images)\n",
    "    input_folder=input_Fake_Videos\n",
    "    discern=\"/Fake\"\n",
    "    os.mkdir(output_Images+TRAIN)\n",
    "    os.mkdir(output_Images+TEST)\n",
    "    os.mkdir(output_Images+data+discern)\n",
    "    os.mkdir(output_Images+data+discern+\"/face\")\n",
    "    os.mkdir(output_Images+data+discern+\"/frame\")\n",
    "    detector = dlib.get_frontal_face_detector()\n",
    "    flag=True;\n",
    "    x=1\n",
    "    while(flag):\n",
    "        for vid in list_of_train_data:\n",
    "            if(x==num):\n",
    "                data=TEST\n",
    "                os.mkdir(output_Images+data+discern)\n",
    "                os.mkdir(output_Images+data+discern+\"/face\")\n",
    "                os.mkdir(output_Images+data+discern+\"/frame\")\n",
    "            count = 0\n",
    "            cap = cv2.VideoCapture(os.path.join(input_folder, vid))\n",
    "            frameRate = cap.get(5)\n",
    "            while cap.isOpened() and count < num_faces:\n",
    "                frameId = cap.get(1)\n",
    "                ret, frame = cap.read()\n",
    "                if ret != True:\n",
    "                    break\n",
    "                if frameId % ((int(frameRate)+1)*1) == 0:\n",
    "                    face_rects, scores, idx = detector.run(frame, 0)\n",
    "                    for i, d in enumerate(face_rects):\n",
    "                        x1 = d.left()\n",
    "                        y1 = d.top()\n",
    "                        x2 = d.right()\n",
    "                        y2 = d.bottom()\n",
    "                        if(x1>=0 and y1>=0 and x2>=0 and y2>=0):\n",
    "                            crop_img = frame[y1:y2, x1:x2]\n",
    "                            cv2.imwrite(output_Images+data+discern+\"/frame/\"+vid.split('.')[0]+'_'+str(count)+'.png', frame)\n",
    "                            cv2.imwrite(output_Images+data+discern+\"/face/\"+vid.split('.')[0]+'_'+str(count)+'.png', cv2.resize(crop_img, (299, 299)))\n",
    "                            count+=1\n",
    "            x+=1\n",
    "        f=\"\\\"\"+output_Images+TRAIN+discern+\"/frame\"+\"\\\"\"\n",
    "        c=\"\\\"\"+output_Images+TRAIN+discern+\"/face\"+\"\\\"\"\n",
    "        ff=\"\\\"\"+output_Images+TEST+discern+\"/frame\"+\"\\\"\"\n",
    "        cc=\"\\\"\"+output_Images+TEST+discern+\"/face\"+\"\\\"\"\n",
    "        %run -i ela.py --dir {f}\n",
    "        %run -i ela.py --dir {c}\n",
    "        %run -i ela.py --dir {ff}\n",
    "        %run -i ela.py --dir {cc}\n",
    "        if(discern==\"/Fake\"):\n",
    "            discern=\"/Real\"\n",
    "            data=TRAIN\n",
    "            x=1\n",
    "            os.mkdir(output_Images+data+discern)\n",
    "            os.mkdir(output_Images+data+discern+\"/face\")\n",
    "            os.mkdir(output_Images+data+discern+\"/frame\")\n",
    "            list_of_train_data = [f for f in os.listdir(input_Real_Videos)]\n",
    "            size=len(list_of_train_data)\n",
    "            num=int(size*(train/100))\n",
    "            input_folder=input_Real_Videos\n",
    "        else:\n",
    "            flag=False\n",
    "else:\n",
    "    print(\"El ditectorio de salida ya existe o el valor de entrenamiento no es valido\")\n",
    "        "
   ]
  },
  {
   "cell_type": "code",
   "execution_count": null,
   "metadata": {},
   "outputs": [],
   "source": []
  }
 ],
 "metadata": {
  "kernelspec": {
   "display_name": "Python 3",
   "language": "python",
   "name": "python3"
  },
  "language_info": {
   "codemirror_mode": {
    "name": "ipython",
    "version": 3
   },
   "file_extension": ".py",
   "mimetype": "text/x-python",
   "name": "python",
   "nbconvert_exporter": "python",
   "pygments_lexer": "ipython3",
   "version": "3.6.8"
  }
 },
 "nbformat": 4,
 "nbformat_minor": 4
}
